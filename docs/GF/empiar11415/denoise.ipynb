{
 "cells": [
  {
   "cell_type": "code",
   "execution_count": null,
   "metadata": {},
   "outputs": [],
   "source": [
    "#%pip install mrcfile"
   ]
  },
  {
   "cell_type": "code",
   "execution_count": null,
   "metadata": {},
   "outputs": [],
   "source": [
    "#%pip install opencv-python"
   ]
  },
  {
   "cell_type": "code",
   "execution_count": null,
   "metadata": {},
   "outputs": [],
   "source": [
    "#%pip install scikit-image"
   ]
  },
  {
   "cell_type": "code",
   "execution_count": null,
   "metadata": {},
   "outputs": [],
   "source": [
    "#%pip install matplotlib"
   ]
  },
  {
   "cell_type": "code",
   "execution_count": null,
   "metadata": {},
   "outputs": [],
   "source": [
    "#%pip install \"information_theory @ git+https://github.com/vicente-gonzalez-ruiz/information_theory\""
   ]
  },
  {
   "cell_type": "code",
   "execution_count": null,
   "metadata": {},
   "outputs": [],
   "source": [
    "#%pip install gdown"
   ]
  },
  {
   "cell_type": "code",
   "execution_count": null,
   "metadata": {},
   "outputs": [],
   "source": [
    "#%pip install \"denoising @ git+https://github.com/vicente-gonzalez-ruiz/denoising\"\n",
    "!rm denoising\n",
    "!ln -s ../../src/denoising denoising"
   ]
  },
  {
   "cell_type": "code",
   "execution_count": null,
   "metadata": {},
   "outputs": [],
   "source": [
    "#use_OpenCV = True\n",
    "#local_debug = True"
   ]
  },
  {
   "cell_type": "code",
   "execution_count": null,
   "metadata": {
    "id": "IIUxh4uStrQJ"
   },
   "outputs": [],
   "source": [
    "import logging\n",
    "import numpy as np\n",
    "import scipy.ndimage\n",
    "import matplotlib.pyplot as plt\n",
    "from matplotlib.pyplot import figure\n",
    "#from ipywidgets import *\n",
    "import cv2\n",
    "import time\n",
    "#import kernels\n",
    "import skimage\n",
    "#from skimage import io as skimage_io\n",
    "import mrcfile\n",
    "import logging\n",
    "from collections import namedtuple\n",
    "import information_theory\n",
    "from denoising.volume.gaussian import Monochrome_Denoising as GF"
   ]
  },
  {
   "cell_type": "code",
   "execution_count": null,
   "metadata": {},
   "outputs": [],
   "source": [
    "logging.basicConfig(format=\"[%(filename)s:%(lineno)s %(funcName)s()] %(message)s\")\n",
    "logger = logging.getLogger(__name__)\n",
    "logger.setLevel(logging.INFO)"
   ]
  },
  {
   "cell_type": "code",
   "execution_count": null,
   "metadata": {},
   "outputs": [],
   "source": [
    "%%bash\n",
    "ln -sf /nas/vruiz/vols/empiar11415.mrc ."
   ]
  },
  {
   "cell_type": "code",
   "execution_count": null,
   "metadata": {},
   "outputs": [],
   "source": [
    "vol_filename = \"empiar11415.mrc\""
   ]
  },
  {
   "cell_type": "code",
   "execution_count": null,
   "metadata": {},
   "outputs": [],
   "source": [
    "Args = namedtuple(\"args\", [\"input\", \"output\"])\n",
    "fn, fe = vol_filename.split(\".\")\n",
    "args = Args(vol_filename , fn + \"_denoised.\" + fe)\n",
    "print(args)"
   ]
  },
  {
   "cell_type": "code",
   "execution_count": null,
   "metadata": {},
   "outputs": [],
   "source": [
    "#noisy = skimage.io.imread(args.input, plugin=\"tifffile\").astype(np.float32)\n",
    "stack_MRC = mrcfile.open(args.input)\n",
    "noisy = stack_MRC.data"
   ]
  },
  {
   "cell_type": "code",
   "execution_count": null,
   "metadata": {},
   "outputs": [],
   "source": [
    "Z_dim = noisy.shape[0]\n",
    "Z2 = Z_dim//2"
   ]
  },
  {
   "cell_type": "code",
   "execution_count": null,
   "metadata": {},
   "outputs": [],
   "source": [
    "plt.imshow(noisy[Z2], cmap=\"gray\")"
   ]
  },
  {
   "cell_type": "code",
   "execution_count": null,
   "metadata": {
    "editable": true,
    "slideshow": {
     "slide_type": ""
    },
    "tags": []
   },
   "outputs": [],
   "source": [
    "def get_gaussian_kernel(sigma=1):\n",
    "    number_of_coeffs = 3\n",
    "    number_of_zeros = 0\n",
    "    while number_of_zeros < 2 :\n",
    "        delta = np.zeros(number_of_coeffs)\n",
    "        delta[delta.size//2] = 1\n",
    "        coeffs = scipy.ndimage.gaussian_filter1d(delta, sigma=sigma)\n",
    "        number_of_zeros = coeffs.size - np.count_nonzero(coeffs)\n",
    "        number_of_coeffs += 1\n",
    "    return coeffs[1:-1]\n",
    "\n",
    "std_dev = 2.0\n",
    "sigma = np.array([std_dev, std_dev, std_dev])\n",
    "kernel = [None]*3\n",
    "kernel[0] = get_gaussian_kernel(sigma[0])\n",
    "kernel[1] = get_gaussian_kernel(sigma[1])\n",
    "kernel[2] = get_gaussian_kernel(sigma[2])"
   ]
  },
  {
   "cell_type": "code",
   "execution_count": null,
   "metadata": {
    "scrolled": true
   },
   "outputs": [],
   "source": [
    "denoiser = GF(logger)\n",
    "denoised = denoiser.filter(noisy, kernel)"
   ]
  },
  {
   "cell_type": "code",
   "execution_count": null,
   "metadata": {},
   "outputs": [],
   "source": [
    "fig, axes = plt.subplots(1, 2, figsize=(12, 6))\n",
    "axes[0].imshow(denoised[Z2], cmap=\"gray\")\n",
    "axes[1].imshow(noisy[Z2], cmap=\"gray\")\n",
    "plt.show()"
   ]
  },
  {
   "cell_type": "code",
   "execution_count": null,
   "metadata": {},
   "outputs": [],
   "source": [
    "with mrcfile.new(f\"denoised.mrc\", overwrite=True) as mrc:\n",
    "    mrc.set_data(denoised.astype(np.float32))\n",
    "    mrc.data"
   ]
  },
  {
   "cell_type": "code",
   "execution_count": null,
   "metadata": {},
   "outputs": [],
   "source": [
    "slice_idx = noisy.shape[0] // 2\n",
    "\n",
    "fig, axes = plt.subplots(1, 2, figsize=(20, 20))\n",
    "\n",
    "# Plot the original slice z\n",
    "im1 = axes[0].imshow(noisy[slice_idx, :256, :256].T, cmap='gray', origin='lower')\n",
    "axes[0].set_title(f'Original Slice Z={slice_idx}')\n",
    "axes[0].grid(False)\n",
    "\n",
    "# Plot the original slice z+1\n",
    "im2 = axes[1].imshow(denoised[slice_idx, :256, :256].T, cmap='gray', origin='lower')\n",
    "axes[1].set_title(f'N2N-Odd-Even-Registered Denoised Slice Z={slice_idx}')\n",
    "axes[1].grid(False)\n",
    "\n",
    "plt.tight_layout()\n",
    "plt.show()"
   ]
  },
  {
   "cell_type": "code",
   "execution_count": null,
   "metadata": {},
   "outputs": [],
   "source": []
  }
 ],
 "metadata": {
  "colab": {
   "collapsed_sections": [],
   "name": "gaussian_denoising.ipynb",
   "provenance": []
  },
  "kernelspec": {
   "display_name": "SPGD",
   "language": "python",
   "name": "spgd"
  },
  "language_info": {
   "codemirror_mode": {
    "name": "ipython",
    "version": 3
   },
   "file_extension": ".py",
   "mimetype": "text/x-python",
   "name": "python",
   "nbconvert_exporter": "python",
   "pygments_lexer": "ipython3",
   "version": "3.12.3"
  }
 },
 "nbformat": 4,
 "nbformat_minor": 4
}
