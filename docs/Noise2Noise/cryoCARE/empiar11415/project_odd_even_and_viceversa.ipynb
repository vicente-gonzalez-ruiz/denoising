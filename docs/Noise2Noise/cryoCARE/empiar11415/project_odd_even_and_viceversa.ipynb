{
 "cells": [
  {
   "cell_type": "code",
   "execution_count": null,
   "id": "cd52581e-7430-419b-a44e-d6a3b376c5ff",
   "metadata": {},
   "outputs": [],
   "source": [
    "#!pip install mrcfile opencv-python tqdm"
   ]
  },
  {
   "cell_type": "code",
   "execution_count": null,
   "id": "9d7a6f4f-9e79-4b1d-90de-217170d70952",
   "metadata": {},
   "outputs": [],
   "source": [
    "import mrcfile\n",
    "import numpy as np\n",
    "import cv2\n",
    "from tqdm.notebook import tqdm\n",
    "import matplotlib.pyplot as plt"
   ]
  },
  {
   "cell_type": "code",
   "execution_count": null,
   "id": "e1212aaa-ba7d-44fa-8fb5-d03beff41442",
   "metadata": {},
   "outputs": [],
   "source": [
    "# OpenCV's Farneback algorithm requires 8-bit grayscale images.\n",
    "def normalize_volume_to_uint8(volume):\n",
    "    \"\"\"Normalizes a float32 volume to the 0-255 range and converts to uint8.\"\"\"\n",
    "    vol_min = volume.min()\n",
    "    vol_max = volume.max()\n",
    "    if vol_max > vol_min:\n",
    "        normalized = 255 * (volume - vol_min) / (vol_max - vol_min)\n",
    "    else:\n",
    "        normalized = np.zeros_like(volume) # Handle flat volume\n",
    "    return normalized.astype(np.uint8)"
   ]
  },
  {
   "cell_type": "code",
   "execution_count": null,
   "id": "765fce0b-06ef-473f-a349-d46812a7022b",
   "metadata": {},
   "outputs": [],
   "source": [
    "even_vol = mrcfile.read(\"even.mrc\")"
   ]
  },
  {
   "cell_type": "code",
   "execution_count": null,
   "id": "d6f9077d-75c9-4c0b-a35a-94f129b66a16",
   "metadata": {},
   "outputs": [],
   "source": [
    "odd_vol = mrcfile.read(\"odd.mrc\")"
   ]
  },
  {
   "cell_type": "code",
   "execution_count": null,
   "id": "a6850112-3b44-491d-9b15-49821710744a",
   "metadata": {},
   "outputs": [],
   "source": [
    "even_vol_8 = normalize_volume_to_uint8(even_vol)"
   ]
  },
  {
   "cell_type": "code",
   "execution_count": null,
   "id": "68a8297e-25a9-4ce7-8318-aaaf2f0e2662",
   "metadata": {},
   "outputs": [],
   "source": [
    "odd_vol_8 = normalize_volume_to_uint8(odd_vol)"
   ]
  },
  {
   "cell_type": "code",
   "execution_count": null,
   "id": "cfb099d8-2c4d-4550-a212-508547771a5e",
   "metadata": {},
   "outputs": [],
   "source": [
    "farneback_params = dict(\n",
    "    pyr_scale=0.5,\n",
    "    levels=3,\n",
    "    winsize=15,\n",
    "    iterations=3,\n",
    "    poly_n=5,\n",
    "    poly_sigma=1.2,\n",
    "    flags=0\n",
    ")"
   ]
  },
  {
   "cell_type": "code",
   "execution_count": null,
   "id": "32b44e4b-5129-417e-9b2d-c52bd5317016",
   "metadata": {},
   "outputs": [],
   "source": [
    "projected_vol = np.zeros_like(odd_vol, dtype=np.float32)"
   ]
  },
  {
   "cell_type": "markdown",
   "id": "e0943b41-5b3a-46b7-8955-b2aa33dd6b5a",
   "metadata": {},
   "source": [
    "### Generamos odd_registered\n",
    "Usando los slices \"odd\" generamos un volumen con sus estructuras alineadas con las del volumen \"even\"."
   ]
  },
  {
   "cell_type": "code",
   "execution_count": null,
   "id": "99053e78-6579-4e81-9734-162ae4bbb4ea",
   "metadata": {},
   "outputs": [],
   "source": [
    "for z in tqdm(range(even_vol.shape[0]), desc=\"Projecting Slices\"):\n",
    "\n",
    "    # Calculate the dense optical flow from slice_z_plus_1 to slice_z\n",
    "    flow = cv2.calcOpticalFlowFarneback(even_vol[z, ...], odd_vol[z, ...], None, **farneback_params)\n",
    "    \n",
    "    # Create a remapping grid from the flow field\n",
    "    height, width = flow.shape[:2]\n",
    "    x_coords, y_coords = np.meshgrid(np.arange(width), np.arange(height))\n",
    "    \n",
    "    # The new map tells where each pixel in the output image should come from in the input image\n",
    "    map_x = (x_coords + flow[..., 0]).astype(np.float32)\n",
    "    map_y = (y_coords + flow[..., 1]).astype(np.float32)\n",
    "\n",
    "    # Warp the *original float32 slice* using the map for maximum precision\n",
    "    original_slice_to_warp = odd_vol[z , ...]\n",
    "    projected_slice = cv2.remap(\n",
    "        src=original_slice_to_warp,\n",
    "        map1=map_x,\n",
    "        map2=map_y,\n",
    "        #interpolation=cv2.INTER_LINEAR,\n",
    "        interpolation=cv2.INTER_NEAREST,\n",
    "        borderMode=cv2.BORDER_REPLICATE # Handle edge pixels\n",
    "    )\n",
    "    \n",
    "    # Store the result\n",
    "    projected_vol[z, ...] = projected_slice\n",
    "\n",
    "print(\"\\nOptical flow calculation and projection complete.\")"
   ]
  },
  {
   "cell_type": "code",
   "execution_count": null,
   "id": "de2f3a15-4028-4c5c-9002-fbef3e4a684a",
   "metadata": {},
   "outputs": [],
   "source": [
    "slice_idx = even_vol.shape[0] // 2\n",
    "\n",
    "fig, axes = plt.subplots(1, 5, figsize=(20, 20))\n",
    "\n",
    "im1 = axes[0].imshow(even_vol[slice_idx, ...].T, cmap='gray', origin='lower')\n",
    "axes[0].set_title(f'Original Slice Even z={slice_idx}')\n",
    "axes[0].grid(False)\n",
    "\n",
    "im2 = axes[1].imshow(odd_vol[slice_idx, ...].T, cmap='gray', origin='lower')\n",
    "axes[1].set_title(f'Original Slice Odd z={slice_idx}')\n",
    "axes[1].grid(False)\n",
    "\n",
    "im3 = axes[2].imshow(projected_vol[slice_idx, ...].T, cmap='gray', origin='lower')\n",
    "axes[2].set_title(f'Projected Slice (Odd[z] -> Even[z])')\n",
    "axes[2].grid(False)\n",
    "\n",
    "im4 = axes[3].imshow(even_vol[slice_idx, ...].T - odd_vol[slice_idx, ...].T, cmap='gray', origin='lower')\n",
    "axes[3].set_title(f'even[z] - odd[z]')\n",
    "axes[3].grid(False)\n",
    "\n",
    "im4 = axes[4].imshow(even_vol[slice_idx, ...].T - projected_vol[slice_idx, ...].T, cmap='gray', origin='lower')\n",
    "axes[4].set_title(f'even[z] - odd_projected[z]')\n",
    "axes[4].grid(False)\n",
    "\n",
    "plt.tight_layout()\n",
    "plt.show()"
   ]
  },
  {
   "cell_type": "code",
   "execution_count": null,
   "id": "a88930a4-746f-4c62-b817-b92b55d991be",
   "metadata": {},
   "outputs": [],
   "source": [
    "output_filename = 'odd_registered.mrc'\n",
    "print(\"Writing\", output_filename)\n",
    "\n",
    "with mrcfile.new(output_filename, overwrite=True) as mrc:\n",
    "    mrc.set_data(projected_vol)\n",
    "    mrc.data\n",
    "\n",
    "print(\"done\")"
   ]
  },
  {
   "cell_type": "code",
   "execution_count": null,
   "id": "eb6c9d74-8916-494e-8a90-e92ee8555130",
   "metadata": {},
   "outputs": [],
   "source": [
    "!ls -l odd_registered.mrc"
   ]
  },
  {
   "cell_type": "markdown",
   "id": "b2c01dc0-fa6c-46d9-87e6-d36915baf5c3",
   "metadata": {},
   "source": [
    "### Generamos even_registered\n",
    "Usando los slices \"even\" generamos un volumen con sus estructuras alineadas con las del volumen \"odd\"."
   ]
  },
  {
   "cell_type": "code",
   "execution_count": null,
   "id": "1de08716-fb81-47ba-b65c-de03c8b25903",
   "metadata": {},
   "outputs": [],
   "source": [
    "for z in tqdm(range(even_vol.shape[0]), desc=\"Projecting Slices\"):\n",
    "\n",
    "    # Calculate the dense optical flow from slice_z_plus_1 to slice_z\n",
    "    flow = cv2.calcOpticalFlowFarneback(odd_vol[z, ...], even_vol[z, ...], None, **farneback_params)\n",
    "    \n",
    "    # Create a remapping grid from the flow field\n",
    "    height, width = flow.shape[:2]\n",
    "    x_coords, y_coords = np.meshgrid(np.arange(width), np.arange(height))\n",
    "    \n",
    "    # The new map tells where each pixel in the output image should come from in the input image\n",
    "    map_x = (x_coords + flow[..., 0]).astype(np.float32)\n",
    "    map_y = (y_coords + flow[..., 1]).astype(np.float32)\n",
    "\n",
    "    # Warp the *original float32 slice* using the map for maximum precision\n",
    "    original_slice_to_warp = even_vol[z , ...]\n",
    "    projected_slice = cv2.remap(\n",
    "        src=original_slice_to_warp,\n",
    "        map1=map_x,\n",
    "        map2=map_y,\n",
    "        #interpolation=cv2.INTER_LINEAR,\n",
    "        interpolation=cv2.INTER_NEAREST,\n",
    "        borderMode=cv2.BORDER_REPLICATE # Handle edge pixels\n",
    "    )\n",
    "    \n",
    "    # Store the result\n",
    "    projected_vol[z, ...] = projected_slice\n",
    "\n",
    "print(\"\\nOptical flow calculation and projection complete.\")"
   ]
  },
  {
   "cell_type": "code",
   "execution_count": null,
   "id": "068a526e-2594-466c-accd-649b29af7d7f",
   "metadata": {},
   "outputs": [],
   "source": [
    "slice_idx = even_vol.shape[0] // 2\n",
    "\n",
    "fig, axes = plt.subplots(1, 5, figsize=(20, 20))\n",
    "\n",
    "im1 = axes[0].imshow(odd_vol[slice_idx, ...].T, cmap='gray', origin='lower')\n",
    "axes[0].set_title(f'Original Slice Odd z={slice_idx}')\n",
    "axes[0].grid(False)\n",
    "\n",
    "im2 = axes[1].imshow(even_vol[slice_idx, ...].T, cmap='gray', origin='lower')\n",
    "axes[1].set_title(f'Original Slice Even z={slice_idx}')\n",
    "axes[1].grid(False)\n",
    "\n",
    "im3 = axes[2].imshow(projected_vol[slice_idx, ...].T, cmap='gray', origin='lower')\n",
    "axes[2].set_title(f'Projected Slice (Even[z] -> Odd[z])')\n",
    "axes[2].grid(False)\n",
    "\n",
    "im4 = axes[3].imshow(odd_vol[slice_idx, ...].T - even_vol[slice_idx, ...].T, cmap='gray', origin='lower')\n",
    "axes[3].set_title(f'odd[z] - even[z]')\n",
    "axes[3].grid(False)\n",
    "\n",
    "im4 = axes[4].imshow(odd_vol[slice_idx, ...].T - projected_vol[slice_idx, ...].T, cmap='gray', origin='lower')\n",
    "axes[4].set_title(f'odd[z] - even_projected[z]')\n",
    "axes[4].grid(False)\n",
    "\n",
    "plt.tight_layout()\n",
    "plt.show()"
   ]
  },
  {
   "cell_type": "code",
   "execution_count": null,
   "id": "7aeb6f21-1830-4f51-bc09-ae0118f85037",
   "metadata": {},
   "outputs": [],
   "source": [
    "output_filename = 'even_registered.mrc'\n",
    "print(\"Writing\", output_filename)\n",
    "\n",
    "with mrcfile.new(output_filename, overwrite=True) as mrc:\n",
    "    mrc.set_data(projected_vol)\n",
    "    mrc.data\n",
    "\n",
    "print(\"done\")"
   ]
  },
  {
   "cell_type": "code",
   "execution_count": null,
   "id": "92a46cd9-8441-44df-a309-5fc3608e5107",
   "metadata": {},
   "outputs": [],
   "source": [
    "!ls -l even_registered.mrc"
   ]
  },
  {
   "cell_type": "code",
   "execution_count": null,
   "id": "33f551a0-2534-4998-8523-8e5aa7cb0462",
   "metadata": {},
   "outputs": [],
   "source": []
  }
 ],
 "metadata": {
  "kernelspec": {
   "display_name": "Python 3 (ipykernel)",
   "language": "python",
   "name": "python3"
  },
  "language_info": {
   "codemirror_mode": {
    "name": "ipython",
    "version": 3
   },
   "file_extension": ".py",
   "mimetype": "text/x-python",
   "name": "python",
   "nbconvert_exporter": "python",
   "pygments_lexer": "ipython3",
   "version": "3.10.10"
  }
 },
 "nbformat": 4,
 "nbformat_minor": 5
}
