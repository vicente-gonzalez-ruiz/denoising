{
 "cells": [
  {
   "cell_type": "markdown",
   "id": "85f4d821",
   "metadata": {
    "colab_type": "text",
    "id": "view-in-github"
   },
   "source": [
    "<a href=\"https://colab.research.google.com/github/vicente-gonzalez-ruiz/denoising/blob/main/src/denoising/SRA_volume_denoising_opticalflow3d.ipynb\" target=\"_parent\"><img src=\"https://colab.research.google.com/assets/colab-badge.svg\" alt=\"Open In Colab\"/></a>"
   ]
  },
  {
   "cell_type": "markdown",
   "id": "24a2b9b0-569f-4f0a-a83c-7ab9c893b3a4",
   "metadata": {
    "id": "24a2b9b0-569f-4f0a-a83c-7ab9c893b3a4"
   },
   "source": [
    "# SRA_empiar10311"
   ]
  },
  {
   "cell_type": "code",
   "execution_count": null,
   "id": "4b9e78e1-c5d1-446e-953b-9bff2251f978",
   "metadata": {},
   "outputs": [],
   "source": [
    "#%pip install ipynbname"
   ]
  },
  {
   "cell_type": "code",
   "execution_count": null,
   "id": "7367c483-87c1-454f-9560-f32298ad1805",
   "metadata": {
    "id": "7367c483-87c1-454f-9560-f32298ad1805"
   },
   "outputs": [],
   "source": [
    "#%pip install gdown"
   ]
  },
  {
   "cell_type": "code",
   "execution_count": null,
   "id": "19670f26-c531-4d12-a48f-05449437d7df",
   "metadata": {},
   "outputs": [],
   "source": [
    "#%pip install matplotlib"
   ]
  },
  {
   "cell_type": "code",
   "execution_count": null,
   "id": "d51597f2-1e09-4fff-be38-fe5b6c9aacf8",
   "metadata": {
    "id": "d51597f2-1e09-4fff-be38-fe5b6c9aacf8"
   },
   "outputs": [],
   "source": [
    "# %pip install --force-reinstall \"information_theory @ git+https://github.com/vicente-gonzalez-ruiz/information_theory\"\n",
    "#%pip install \"information_theory @ git+https://github.com/vicente-gonzalez-ruiz/information_theory\""
   ]
  },
  {
   "cell_type": "code",
   "execution_count": null,
   "id": "ad5d0337-1816-4387-bc66-5b8c14f6daaa",
   "metadata": {},
   "outputs": [],
   "source": [
    "#%pip install cupy-cuda12x # Check the CUDA installed with nvcc --version (that should match with the version provided by nvidia-smi)\n",
    "#%pip install numba"
   ]
  },
  {
   "cell_type": "code",
   "execution_count": null,
   "id": "1d876a29-7c64-4e2b-9c3c-fceb3a8fb746",
   "metadata": {
    "id": "1d876a29-7c64-4e2b-9c3c-fceb3a8fb746"
   },
   "outputs": [],
   "source": [
    "#%pip install --force-reinstall \"motion_estimation @ git+https://github.com/vicente-gonzalez-ruiz/motion_estimation\"\n",
    "#%pip uninstall -y motion_estimation\n",
    "#%pip install \"motion_estimation @ git+https://github.com/vicente-gonzalez-ruiz/motion_estimation\""
   ]
  },
  {
   "cell_type": "code",
   "execution_count": null,
   "id": "088e8760-16ae-42c3-9281-4d25de5dd9a0",
   "metadata": {},
   "outputs": [],
   "source": [
    "#%pip install --force-reinstall \"optical_flow_3D @ git+https://github.com/vicente-gonzalez-ruiz/optical_flow_3D\"\n",
    "#%pip uninstall -y optical_flow_3D\n",
    "#%pip install \"optical_flow_3D @ git+https://github.com/vicente-gonzalez-ruiz/optical_flow_3D\""
   ]
  },
  {
   "cell_type": "code",
   "execution_count": null,
   "id": "19af115d-ee78-47aa-b9f1-008ecd6a07f5",
   "metadata": {},
   "outputs": [],
   "source": [
    "import mrcfile\n",
    "import numpy as np\n",
    "import os\n",
    "import mrcfile\n",
    "%matplotlib inline\n",
    "import matplotlib.pyplot as plt\n",
    "from matplotlib.pyplot import figure\n",
    "from collections import namedtuple\n",
    "import logging\n",
    "import motion_estimation._3D.farneback_optical_flow_3D as farneback3D\n",
    "import denoising.volume.SRA_optical_flow_3D as SRA\n",
    "import motion_estimation._3D.project_optical_flow_3D as project\n",
    "from PIL import Image\n",
    "import ipynbname"
   ]
  },
  {
   "cell_type": "code",
   "execution_count": null,
   "id": "0fbfba97-3adb-4526-8aee-e41d33fad865",
   "metadata": {
    "id": "0fbfba97-3adb-4526-8aee-e41d33fad865"
   },
   "outputs": [],
   "source": [
    "vol_filename = \"empiar10311_stack_crop.mrc\"\n",
    "Args = namedtuple(\"args\", [\"input\", \"output\"])\n",
    "fn, fe = vol_filename.split(\".\")\n",
    "args = Args(vol_filename , fn + \"_denoised.\" + fe)\n",
    "print(args)"
   ]
  },
  {
   "cell_type": "code",
   "execution_count": null,
   "id": "9d823f25-2b3f-46e0-ad3a-ccc725384565",
   "metadata": {
    "id": "9d823f25-2b3f-46e0-ad3a-ccc725384565"
   },
   "outputs": [],
   "source": [
    "%%bash -s \"$args.input\"\n",
    "set -x\n",
    "OUTPUT_FILENAME=$1\n",
    "#rm -f $OUTPUT_FILENAME\n",
    "if test ! -f $OUTPUT_FILENAME ; then\n",
    "    FILEID=\"1lSFb4VZ5iqR3kLdPv1dDbdOe9dKPZ--_\" #https://drive.google.com/file/d/1lSFb4VZ5iqR3kLdPv1dDbdOe9dKPZ--_/view?usp=drive_link\n",
    "    #FILEID=\"1YDyHWyB1d6yq2LYif2zQcQgr7vhlspYo\" # https://drive.google.com/file/d/1YDyHWyB1d6yq2LYif2zQcQgr7vhlspYo/view?usp=sharing\n",
    "    #FILEID=\"1iui018SGKa5nb0ybeoUAB7uCUhl9EJ5o\" #https://drive.google.com/file/d/1iui018SGKa5nb0ybeoUAB7uCUhl9EJ5o/view?usp=sharing\n",
    "    #wget --no-check-certificate 'https://docs.google.com/uc?export=download&id='$FILEID -O $OUTPUT_FILENAME #2> /dev/null\n",
    "    #wget --load-cookies /tmp/cookies.txt \"https://docs.google.com/uc?export=download&confirm=$(wget --quiet --save-cookies /tmp/cookies.txt --keep-session-cookies --no-check-certificate 'https://docs.google.com/uc?export=download&id=FILEID' -O- | sed -rn 's/.*confirm=([0-9A-Za-z_]+).*/\\1\\n/p')&id=FILEID\" -O FILENAME && rm -rf /tmp/cookies.txt\n",
    "    ~/envs/OF3D_CUDA/bin/gdown https://drive.google.com/uc?id=$FILEID # pip install gdown\n",
    "fi\n",
    "ls -l $OUTPUT_FILENAME\n",
    "set +x"
   ]
  },
  {
   "cell_type": "code",
   "execution_count": null,
   "id": "0318d995-4815-473e-bc62-ba21f843e334",
   "metadata": {
    "id": "0318d995-4815-473e-bc62-ba21f843e334"
   },
   "outputs": [],
   "source": [
    "logging.basicConfig(format=\"[%(filename)s:%(lineno)s %(funcName)s()] %(message)s\")\n",
    "logger = logging.getLogger(__name__)\n",
    "logger.setLevel(logging.INFO)\n",
    "logger.setLevel(logging.WARNING)"
   ]
  },
  {
   "cell_type": "code",
   "execution_count": null,
   "id": "970d37f4-bce2-4f30-bc8f-0f71fef1b230",
   "metadata": {},
   "outputs": [],
   "source": [
    "!ln -s ~/repos/denoising/src/denoising ."
   ]
  },
  {
   "cell_type": "code",
   "execution_count": null,
   "id": "b31129fb-a321-46f0-8cdc-f53ae705c3f8",
   "metadata": {
    "id": "b31129fb-a321-46f0-8cdc-f53ae705c3f8"
   },
   "outputs": [],
   "source": [
    "OF_estimator = farneback3D.OF_Estimation(logger)"
   ]
  },
  {
   "cell_type": "code",
   "execution_count": null,
   "id": "fce92214-000b-40c2-bb9c-80fb45cfdda0",
   "metadata": {
    "id": "fce92214-000b-40c2-bb9c-80fb45cfdda0"
   },
   "outputs": [],
   "source": [
    "projector = project.Project(logger)"
   ]
  },
  {
   "cell_type": "code",
   "execution_count": null,
   "id": "9be0587a-ac47-46b6-8e90-4016672dc105",
   "metadata": {
    "id": "9be0587a-ac47-46b6-8e90-4016672dc105"
   },
   "outputs": [],
   "source": [
    "#%pip install mrcfile\n",
    "stack_MRC = mrcfile.open(args.input)\n",
    "noisy = stack_MRC.data\n",
    "noisy = (255*(noisy - np.min(noisy))/(np.max(noisy) - np.min(noisy))).astype(np.uint8)\n",
    "print(noisy.shape)"
   ]
  },
  {
   "cell_type": "code",
   "execution_count": null,
   "id": "59872f3e-5411-423e-ae37-8ca4eda7f377",
   "metadata": {},
   "outputs": [],
   "source": [
    "def get_notebook_name():\n",
    "    ip = get_ipython()\n",
    "    this_notebook_path = ip.user_ns['__session__']\n",
    "    this_notebook_name = os.path.basename(this_notebook_path)\n",
    "    return this_notebook_name, this_notebook_path"
   ]
  },
  {
   "cell_type": "code",
   "execution_count": null,
   "id": "607634ed-0aa7-4d3b-8908-b91c79597d9a",
   "metadata": {},
   "outputs": [],
   "source": [
    "get_notebook_name()"
   ]
  },
  {
   "cell_type": "code",
   "execution_count": null,
   "id": "0969b3a9-e102-48ca-b72b-55a2e0092fd7",
   "metadata": {},
   "outputs": [],
   "source": [
    "def show_image(denoised, title):\n",
    "    slice_idx = denoised.shape[0]//2\n",
    "    figure(figsize=(32, 32))\n",
    "    plt.subplot(1, 2, 1)\n",
    "    plt.title(\"denoised\")\n",
    "    plt.imshow(denoised[slice_idx][::-1, :], cmap=\"gray\")\n",
    "    plt.subplot(1, 2, 2)\n",
    "    plt.title(\"difference\")\n",
    "    plt.imshow(noisy[slice_idx][::-1, :] - denoised[slice_idx][::-1, :], cmap=\"gray\")\n",
    "    plt.show()"
   ]
  },
  {
   "cell_type": "code",
   "execution_count": null,
   "id": "2d877d99-4864-4428-8c58-8c36d42fb9ed",
   "metadata": {},
   "outputs": [],
   "source": [
    "class Output_Controller:\n",
    "\n",
    "    def __init__(self):\n",
    "        self.image_counter = 0\n",
    "    \n",
    "    def show_image(self, denoised, title):\n",
    "        slice_idx = denoised.shape[0]//2\n",
    "        image_float = denoised[slice_idx]\n",
    "        image_8b = (255*(image_float - np.min(image_float))/(np.max(image_float) - np.min(image_float))).astype(np.uint8)\n",
    "        image = Image.fromarray(image_8b)\n",
    "        notebook_name = get_notebook_name()[0]\n",
    "        output_filename = f\"{notebook_name}_{self.image_counter}.png\"\n",
    "        image.save(output_filename)\n",
    "        self.image_counter += 1\n",
    "\n",
    "OC = Output_Controller()"
   ]
  },
  {
   "cell_type": "code",
   "execution_count": null,
   "id": "2c0f57e5-66b4-4b2c-a157-08d485055c84",
   "metadata": {
    "id": "2c0f57e5-66b4-4b2c-a157-08d485055c84"
   },
   "outputs": [],
   "source": [
    "denoiser = SRA.Shuffle_Register_and_Average(\n",
    "    OF_estimator,\n",
    "    projector,\n",
    "    logger,\n",
    "    quality_estimator=None,\n",
    "    show_image=OC.show_image)"
   ]
  },
  {
   "cell_type": "code",
   "execution_count": null,
   "id": "51b98dab-528c-48d9-8765-6b0c9fa5adb5",
   "metadata": {
    "id": "51b98dab-528c-48d9-8765-6b0c9fa5adb5"
   },
   "outputs": [],
   "source": [
    "denoised = denoiser.filter(\n",
    "    noisy_volume=noisy,\n",
    "    N_iters=25,\n",
    "    std_dev=2.0,\n",
    "    pyramid_levels=3,\n",
    "    gauss_size=11,\n",
    "    iterations=5,\n",
    "    sigma_k=0.45,\n",
    "    #filter_type=\"box\", # box | gaussian\n",
    "    filter_type=\"gaussian\", # box | gaussian\n",
    "    filter_size=9, # std_dev=2.0\n",
    "    presmoothing=None\n",
    ")"
   ]
  },
  {
   "cell_type": "code",
   "execution_count": null,
   "id": "70711d9e-043d-4e0d-ac06-df326f997115",
   "metadata": {},
   "outputs": [],
   "source": [
    "with mrcfile.new(f\"{fn}_SRA_denoised.mrc\", overwrite=True) as mrc:\n",
    "    mrc.set_data(denoised.astype(np.float32))\n",
    "    mrc.data"
   ]
  },
  {
   "cell_type": "code",
   "execution_count": null,
   "id": "13d6bb13-980e-46d8-a6f4-50a2a3c69ae9",
   "metadata": {},
   "outputs": [],
   "source": [
    "denoised = mrcfile.open(f\"{fn}_SRA_denoised.mrc\").data"
   ]
  },
  {
   "cell_type": "code",
   "execution_count": null,
   "id": "dbce7c44-1a87-4189-92bf-3e58a4273ae9",
   "metadata": {},
   "outputs": [],
   "source": [
    "denoised.shape"
   ]
  },
  {
   "cell_type": "code",
   "execution_count": null,
   "id": "ea52f21e-2d10-4dc2-bf0f-ff8382d9cc46",
   "metadata": {},
   "outputs": [],
   "source": [
    "figure(figsize=(16, 16))\n",
    "slice_idx = denoised.shape[0]//2\n",
    "plt.imshow(denoised[slice_idx, 200:600, 200:600], cmap=\"gray\")"
   ]
  },
  {
   "cell_type": "code",
   "execution_count": null,
   "id": "818af2ba-d266-4fe7-a786-20d5e1428397",
   "metadata": {},
   "outputs": [],
   "source": [
    "figure(figsize=(16, 16))\n",
    "slice_idx = noisy.shape[0]//2\n",
    "plt.imshow(noisy[slice_idx, 200:600, 200:600], cmap=\"gray\")"
   ]
  },
  {
   "cell_type": "code",
   "execution_count": null,
   "id": "db82a856-2708-466a-a53b-aee7cb7d32ac",
   "metadata": {
    "id": "db82a856-2708-466a-a53b-aee7cb7d32ac"
   },
   "outputs": [],
   "source": [
    "import information_theory\n",
    "slice_index = noisy.shape[0]//2\n",
    "fig, axs = plt.subplots(1, 3, figsize=(15, 45))\n",
    "axs[0].imshow(noisy[16], cmap=\"gray\")\n",
    "axs[0].set_title(f\"Noisy\")\n",
    "axs[1].imshow(denoised[slice_index], cmap=\"gray\")\n",
    "axs[1].set_title(f\"Denoised (DQI={information_theory.information.compute_quality_index(noisy[slice_index], denoised[slice_index])})\")\n",
    "axs[2].imshow(noisy[slice_index] - denoised[slice_index], cmap=\"gray\")\n",
    "axs[2].set_title(f\"Noisy - Denoised\")\n",
    "fig.tight_layout()\n",
    "plt.show()"
   ]
  },
  {
   "cell_type": "code",
   "execution_count": null,
   "id": "f4b3be59-25da-4144-aa47-1af3d1befea6",
   "metadata": {},
   "outputs": [],
   "source": [
    "fig, axs = plt.subplots(1, 2, figsize=(16, 32))\n",
    "slice_idx = noisy.shape[1]//2\n",
    "axs[0].imshow(noisy[:, slice_idx], cmap=\"gray\")\n",
    "axs[0].set_title(f\"Noisy\")\n",
    "axs[1].imshow(denoised[:, slice_idx], cmap=\"gray\")\n",
    "axs[1].set_title(f\"Denoised (DQI={information_theory.information.compute_quality_index(noisy[:, slice_idx], denoised[:, slice_idx])})\")\n",
    "fig.tight_layout()\n",
    "plt.show()"
   ]
  },
  {
   "cell_type": "code",
   "execution_count": null,
   "id": "c4bf87cb-3f75-4353-9a05-2549954ec8a9",
   "metadata": {},
   "outputs": [],
   "source": [
    "fig, axs = plt.subplots(1, 2, figsize=(16, 32))\n",
    "slice_idx = noisy.shape[2]//2\n",
    "axs[0].imshow(noisy[:, :, slice_idx], cmap=\"gray\")\n",
    "axs[0].set_title(f\"Noisy\")\n",
    "axs[1].imshow(denoised[:, :, slice_idx], cmap=\"gray\")\n",
    "axs[1].set_title(f\"Denoised (DQI={information_theory.information.compute_quality_index(noisy[:, :, slice_idx], denoised[:, :, slice_idx])})\")\n",
    "fig.tight_layout()\n",
    "plt.show()"
   ]
  },
  {
   "cell_type": "code",
   "execution_count": null,
   "id": "21066004-a5bb-46cb-9f99-d07646ded743",
   "metadata": {},
   "outputs": [],
   "source": [
    "denoiser = SRA.Shuffle_Register_and_Average(OF_estimator, projector, logger, quality_estimator=None, show_image=show_image)"
   ]
  },
  {
   "cell_type": "code",
   "execution_count": null,
   "id": "74dc4363-422d-4d98-ade5-f6113ffdf123",
   "metadata": {},
   "outputs": [],
   "source": [
    "denoised = denoiser.filter(\n",
    "    noisy_volume=noisy,\n",
    "    N_iters=25,\n",
    "    std_dev=2.0,\n",
    "    pyramid_levels=3,\n",
    "    gauss_size=11,\n",
    "    iterations=5,\n",
    "    sigma_k=1.5,\n",
    "    #filter_type=\"box\", # box | gaussian\n",
    "    filter_type=\"gaussian\", # box | gaussian\n",
    "    filter_size=9, # std_dev=2.0\n",
    "    presmoothing=None\n",
    ")"
   ]
  },
  {
   "cell_type": "code",
   "execution_count": null,
   "id": "2704ae5f-c609-438c-81a8-c858e88ad880",
   "metadata": {},
   "outputs": [],
   "source": [
    "figure(figsize=(16, 16))\n",
    "slice_idx = denoised.shape[0]//2\n",
    "plt.imshow(denoised[slice_idx, 200:600, 200:600], cmap=\"gray\")"
   ]
  },
  {
   "cell_type": "code",
   "execution_count": null,
   "id": "73a5532b-b3b3-49c4-b1ec-98a25f8207f5",
   "metadata": {},
   "outputs": [],
   "source": [
    "denoiser = SRA.Shuffle_Register_and_Average(OF_estimator, projector, logger, quality_estimator=None, show_image=show_image)"
   ]
  },
  {
   "cell_type": "code",
   "execution_count": null,
   "id": "876fb046-8771-444c-802c-3cf3ce59b434",
   "metadata": {},
   "outputs": [],
   "source": [
    "denoised = denoiser.filter(\n",
    "    noisy_volume=noisy,\n",
    "    N_iters=25,\n",
    "    std_dev=2.0,\n",
    "    pyramid_levels=3,\n",
    "    gauss_size=3,\n",
    "    iterations=5,\n",
    "    sigma_k=0.5,\n",
    "    #filter_type=\"box\", # box | gaussian\n",
    "    filter_type=\"gaussian\", # box | gaussian\n",
    "    filter_size=9, # std_dev=2.0\n",
    "    presmoothing=None\n",
    ")"
   ]
  },
  {
   "cell_type": "code",
   "execution_count": null,
   "id": "55b04ef9-5950-4d4a-ab4a-a5872ca48b72",
   "metadata": {},
   "outputs": [],
   "source": [
    "figure(figsize=(16, 16))\n",
    "slice_idx = denoised.shape[0]//2\n",
    "plt.imshow(denoised[slice_idx, 200:600, 200:600], cmap=\"gray\")"
   ]
  },
  {
   "cell_type": "code",
   "execution_count": null,
   "id": "ae3338a9-4281-4b44-b6b5-421ebf29294b",
   "metadata": {},
   "outputs": [],
   "source": [
    "input()"
   ]
  },
  {
   "cell_type": "code",
   "execution_count": null,
   "id": "4a3a10f8-4515-4949-b50f-1f0dfbec1e71",
   "metadata": {
    "id": "4a3a10f8-4515-4949-b50f-1f0dfbec1e71"
   },
   "outputs": [],
   "source": [
    "#import opticalflow3D\n",
    "#import warnings\n",
    "#from numba.core.errors import NumbaPerformanceWarning\n",
    "#warnings.filterwarnings(\"ignore\", category=NumbaPerformanceWarning)\n",
    "#else:\n",
    "#    import motion_estimation._3D.farneback as farneback3D"
   ]
  },
  {
   "cell_type": "code",
   "execution_count": null,
   "id": "093158d0-8f32-47f2-a4d6-f617e392e22e",
   "metadata": {
    "id": "093158d0-8f32-47f2-a4d6-f617e392e22e"
   },
   "outputs": [],
   "source": [
    "#%pip install \"optical_flow_3D @ git+https://github.com/vicente-gonzalez-ruiz/optical_flow_3D\""
   ]
  },
  {
   "cell_type": "code",
   "execution_count": null,
   "id": "92a65bb7-ccc4-4240-8d3b-b73ab402dc48",
   "metadata": {
    "id": "92a65bb7-ccc4-4240-8d3b-b73ab402dc48"
   },
   "outputs": [],
   "source": [
    "#%pip install --force-reinstall \"information_theory @ git+https://github.com/vicente-gonzalez-ruiz/information_theory\"\n",
    "#%pip install \"information_theory @ git+https://github.com/vicente-gonzalez-ruiz/information_theory\"\n",
    "#%pip uninstall -y information_theory\n",
    "import information_theory  # pip install --force-reinstall \"information_theory @ git+https://github.com/vicente-gonzalez-ruiz/information_theory\""
   ]
  },
  {
   "cell_type": "code",
   "execution_count": null,
   "id": "8a1f1196-f3f8-400d-8719-a3ca59d62dac",
   "metadata": {
    "id": "8a1f1196-f3f8-400d-8719-a3ca59d62dac"
   },
   "outputs": [],
   "source": [
    "if use_opticalflow3D:\n",
    "    block_size = (noisy.shape[0], noisy.shape[1], noisy.shape[2])"
   ]
  },
  {
   "cell_type": "code",
   "execution_count": null,
   "id": "7ab782f1-6053-4d91-8ba7-3220d3332f44",
   "metadata": {
    "id": "7ab782f1-6053-4d91-8ba7-3220d3332f44"
   },
   "outputs": [],
   "source": [
    "if use_opticalflow3D:\n",
    "    #farneback = opticalflow3D.Farneback3D(iters=5, num_levels=3, scale=0.5, spatial_size=33, presmoothing=None, filter_type=\"gaussian\", filter_size=3)\n",
    "    #farneback = opticalflow3D.Farneback3D(iters=5, num_levels=3, scale=0.5, spatial_size=13, presmoothing=None, filter_type=\"gaussian\", filter_size=7)\n",
    "    #farneback = opticalflow3D.Farneback3D(iters=5, num_levels=3, scale=0.5, spatial_size=5, presmoothing=3, filter_type=\"gaussian\", filter_size=5)\n",
    "    #farneback = opticalflow3D.Farneback3D(iters=5, num_levels=3, scale=0.5, spatial_size=3, presmoothing=5, filter_type=\"box\", filter_size=3)\n",
    "    #farneback = opticalflow3D.Farneback3D(iters=5, num_levels=5, scale=0.5, spatial_size=3, presmoothing=5, filter_type=\"box\", filter_size=3)\n",
    "    #farneback = opticalflow3D.Farneback3D(iters=5, num_levels=5, scale=0.5, spatial_size=3, presmoothing=5, filter_type=\"gaussian\", filter_size=11)\n",
    "    #farneback = opticalflow3D.Farneback3D(iters=5, num_levels=1, scale=0.5, spatial_size=5, presmoothing=4, filter_type=\"box\", filter_size=5)\n",
    "    estimator = opticalflow3D.Farneback3D(iters=5, num_levels=5, scale=0.5, spatial_size=9, sigma_k=0.15, filter_type=\"gaussian\" ,filter_size=7, presmoothing=None, device_id=0)\n",
    "else:\n",
    "    estimator = farneback3D("
   ]
  },
  {
   "cell_type": "code",
   "execution_count": null,
   "id": "91aIEXpSc5ez",
   "metadata": {
    "id": "91aIEXpSc5ez"
   },
   "outputs": [],
   "source": [
    "RS_sigma = 0.75\n",
    "if use_opticalflow3D:\n",
    "    denoised = RSIVD.filter(farneback, block_size, noisy, RS_sigma=RS_sigma, N_iters=20)\n",
    "else:\n"
   ]
  },
  {
   "cell_type": "code",
   "execution_count": null,
   "id": "1478c390-7a08-49ec-ba26-d00710da1e12",
   "metadata": {
    "id": "1478c390-7a08-49ec-ba26-d00710da1e12"
   },
   "outputs": [],
   "source": [
    "np.min(denoised)"
   ]
  },
  {
   "cell_type": "code",
   "execution_count": null,
   "id": "829b4f5b-39a2-4c3f-a4aa-f973c46504ce",
   "metadata": {
    "id": "829b4f5b-39a2-4c3f-a4aa-f973c46504ce"
   },
   "outputs": [],
   "source": [
    "fig, axs = plt.subplots(1, 2, figsize=(16, 32))\n",
    "axs[0].imshow(noisy[:, 100], cmap=\"gray\")\n",
    "axs[0].set_title(f\"Noisy\")\n",
    "axs[1].imshow(denoised[:, 100], cmap=\"gray\")\n",
    "axs[1].set_title(f\"Denoised (DQI={information_theory.information.compute_quality_index(noisy[:, 100], denoised[:, 100])})\")\n",
    "fig.tight_layout()\n",
    "plt.show()"
   ]
  },
  {
   "cell_type": "code",
   "execution_count": null,
   "id": "4211b567-ec27-4deb-8615-a840745f4628",
   "metadata": {
    "id": "4211b567-ec27-4deb-8615-a840745f4628"
   },
   "outputs": [],
   "source": [
    "fig, axs = plt.subplots(1, 2, figsize=(16, 32))\n",
    "axs[0].imshow(noisy[:, :, 100], cmap=\"gray\")\n",
    "axs[0].set_title(f\"Noisy\")\n",
    "axs[1].imshow(denoised[:, :, 100], cmap=\"gray\")\n",
    "axs[1].set_title(f\"Denoised (DQI={information_theory.information.compute_quality_index(noisy[:, :, 100], denoised[:, :, 100])})\")\n",
    "fig.tight_layout()\n",
    "plt.show()"
   ]
  },
  {
   "cell_type": "code",
   "execution_count": null,
   "id": "079da8f2-c5b1-41a1-bd9a-5e75595f2af6",
   "metadata": {
    "id": "079da8f2-c5b1-41a1-bd9a-5e75595f2af6"
   },
   "outputs": [],
   "source": [
    "figure(figsize=(32, 32))\n",
    "plt.subplot(1, 3, 1)\n",
    "plt.title(\"original\")\n",
    "imgplot = plt.imshow(noisy_vol[15][::-1, :], cmap=\"gray\")\n",
    "plt.subplot(1, 3, 2)\n",
    "plt.title(\"$\\sigma_\\mathrm{RS}=$\"+f\"{RS_sigma}\")\n",
    "plt.imshow(denoised_vol[15][::-1, :], cmap=\"gray\")\n",
    "plt.subplot(1, 3, 3)\n",
    "plt.title(\"difference\")\n",
    "plt.imshow(noisy_vol[15][::-1, :] - denoised_vol[15][::-1, :], cmap=\"gray\")"
   ]
  },
  {
   "cell_type": "code",
   "execution_count": null,
   "id": "5d159fc4-a84c-45b8-b92e-970f6ef21b16",
   "metadata": {
    "id": "5d159fc4-a84c-45b8-b92e-970f6ef21b16"
   },
   "outputs": [],
   "source": [
    "figure(figsize=(32, 32))\n",
    "plt.subplot(1, 3, 1)\n",
    "plt.title(\"original\")\n",
    "imgplot = plt.imshow(noisy_vol[15][::-1, :], cmap=\"gray\")\n",
    "plt.subplot(1, 3, 2)\n",
    "plt.title(\"$\\sigma_\\mathrm{RS}=$\"+f\"{RS_sigma}\")\n",
    "plt.imshow(denoised_vol[15][::-1, :], cmap=\"gray\")\n",
    "plt.subplot(1, 3, 3)\n",
    "plt.title(\"difference\")\n",
    "plt.imshow(noisy_vol[15][::-1, :] - denoised_vol[15][::-1, :], cmap=\"gray\")"
   ]
  },
  {
   "cell_type": "code",
   "execution_count": null,
   "id": "9af50ac2-d2c9-49dc-b47d-31cc3195cfa1",
   "metadata": {
    "id": "9af50ac2-d2c9-49dc-b47d-31cc3195cfa1"
   },
   "outputs": [],
   "source": [
    "skimage.io.imsave(f\"{vol_name}_denoised_{RS_sigma}.tif\", denoised_vol, imagej=True)"
   ]
  },
  {
   "cell_type": "code",
   "execution_count": null,
   "id": "64b31c4b-8e86-48ae-82e1-d0a43da532a0",
   "metadata": {
    "id": "64b31c4b-8e86-48ae-82e1-d0a43da532a0"
   },
   "outputs": [],
   "source": [
    "img = skimage.io.imread(\"http://www.hpca.ual.es/~vruiz/images/barb.png\")#[:256, :256]"
   ]
  },
  {
   "cell_type": "code",
   "execution_count": null,
   "id": "faeb3ec8-744d-4698-adac-e106dd362943",
   "metadata": {
    "id": "faeb3ec8-744d-4698-adac-e106dd362943"
   },
   "outputs": [],
   "source": [
    "noisy_vol = np.stack([img]*32)"
   ]
  },
  {
   "cell_type": "code",
   "execution_count": null,
   "id": "654bd0a1-15f9-4865-9994-c398fba60cfd",
   "metadata": {
    "id": "654bd0a1-15f9-4865-9994-c398fba60cfd"
   },
   "outputs": [],
   "source": [
    "noisy_vol.shape"
   ]
  },
  {
   "cell_type": "code",
   "execution_count": null,
   "id": "95d7ee9c-6ab3-4c49-886e-f6b1cbf8a0b7",
   "metadata": {
    "id": "95d7ee9c-6ab3-4c49-886e-f6b1cbf8a0b7"
   },
   "outputs": [],
   "source": [
    "mean = 0\n",
    "var = 1000\n",
    "sigma = var**0.5\n",
    "for i in range(noisy_vol.shape[0]):\n",
    "    noise = np.random.normal(mean,sigma,img.shape).reshape(img.shape)\n",
    "    noisy_vol[i] = np.clip(a=img.astype(np.float32) + noise, a_min=0, a_max=255).astype(np.uint8)"
   ]
  },
  {
   "cell_type": "code",
   "execution_count": null,
   "id": "f5dcf783-2322-4dfa-a3dc-50d71242d6b8",
   "metadata": {
    "id": "f5dcf783-2322-4dfa-a3dc-50d71242d6b8"
   },
   "outputs": [],
   "source": [
    "farneback = opticalflow3D.Farneback3D(iters=5,\n",
    "                                      num_levels=3,\n",
    "                                      scale=0.5,\n",
    "                                      spatial_size=5,\n",
    "                                      presmoothing=2,\n",
    "                                      filter_type=\"box\",\n",
    "                                      filter_size=5,\n",
    "                                     )"
   ]
  },
  {
   "cell_type": "code",
   "execution_count": null,
   "id": "4016f92f-a994-49ba-b3a0-8bf1eb2ff1ab",
   "metadata": {
    "id": "4016f92f-a994-49ba-b3a0-8bf1eb2ff1ab"
   },
   "outputs": [],
   "source": [
    "RS_sigma = 1.0\n",
    "denoised_vol = RSIVD.filter(farneback, block_size, noisy_vol, RS_sigma=RS_sigma, N_iters=30)"
   ]
  },
  {
   "cell_type": "code",
   "execution_count": null,
   "id": "68addb39-8cef-4ae3-9bc1-a36af26f1352",
   "metadata": {
    "id": "68addb39-8cef-4ae3-9bc1-a36af26f1352"
   },
   "outputs": [],
   "source": [
    "figure(figsize=(32, 32))\n",
    "plt.subplot(1, 3, 1)\n",
    "plt.title(\"original\")\n",
    "imgplot = plt.imshow(noisy_vol[15], cmap=\"gray\")\n",
    "plt.subplot(1, 3, 2)\n",
    "plt.title(\"$\\sigma_\\mathrm{RS}=$\"+f\"{RS_sigma}\")\n",
    "plt.imshow(denoised_vol[15], cmap=\"gray\")\n",
    "plt.subplot(1, 3, 3)\n",
    "plt.title(\"difference\")\n",
    "plt.imshow(noisy_vol[15] - denoised_vol[15], cmap=\"gray\")"
   ]
  },
  {
   "cell_type": "code",
   "execution_count": null,
   "id": "7ed5db45-9d18-4eb1-b005-3f8209cb1e09",
   "metadata": {
    "id": "7ed5db45-9d18-4eb1-b005-3f8209cb1e09"
   },
   "outputs": [],
   "source": [
    "RS_sigma = 1.0\n",
    "denoised_vol = RSIVD.filter(farneback, block_size, noisy_vol, RS_sigma=RS_sigma, N_iters=100)"
   ]
  },
  {
   "cell_type": "code",
   "execution_count": null,
   "id": "50515c13-18c3-482d-881d-0ddb94b71654",
   "metadata": {
    "id": "50515c13-18c3-482d-881d-0ddb94b71654"
   },
   "outputs": [],
   "source": [
    "figure(figsize=(32, 32))\n",
    "plt.subplot(1, 3, 1)\n",
    "plt.title(\"original\")\n",
    "imgplot = plt.imshow(noisy_vol[15], cmap=\"gray\")\n",
    "plt.subplot(1, 3, 2)\n",
    "plt.title(\"$\\sigma_\\mathrm{RS}=$\"+f\"{RS_sigma}\")\n",
    "plt.imshow(denoised_vol[15], cmap=\"gray\")\n",
    "plt.subplot(1, 3, 3)\n",
    "plt.title(\"difference\")\n",
    "plt.imshow(noisy_vol[15] - denoised_vol[15], cmap=\"gray\")"
   ]
  },
  {
   "cell_type": "code",
   "execution_count": null,
   "id": "f3142a6e-6072-433a-9567-ba510f86ce1e",
   "metadata": {
    "id": "f3142a6e-6072-433a-9567-ba510f86ce1e"
   },
   "outputs": [],
   "source": [
    "RS_sigma = 2.0\n",
    "denoised_vol = RSIVD.filter(farneback, block_size, noisy_vol, RS_sigma=RS_sigma, N_iters=30)"
   ]
  },
  {
   "cell_type": "code",
   "execution_count": null,
   "id": "223e44bb-cebb-40b3-b097-e3081dc70a4e",
   "metadata": {
    "id": "223e44bb-cebb-40b3-b097-e3081dc70a4e"
   },
   "outputs": [],
   "source": [
    "figure(figsize=(32, 32))\n",
    "plt.subplot(1, 3, 1)\n",
    "plt.title(\"original\")\n",
    "imgplot = plt.imshow(noisy_vol[15], cmap=\"gray\")\n",
    "plt.subplot(1, 3, 2)\n",
    "plt.title(\"$\\sigma_\\mathrm{RS}=$\"+f\"{RS_sigma}\")\n",
    "plt.imshow(denoised_vol[15], cmap=\"gray\")\n",
    "plt.subplot(1, 3, 3)\n",
    "plt.title(\"difference\")\n",
    "plt.imshow(noisy_vol[15] - denoised_vol[15], cmap=\"gray\")"
   ]
  },
  {
   "cell_type": "code",
   "execution_count": null,
   "id": "3f8fb010-4a86-49cc-9757-253ca5b6fe9a",
   "metadata": {
    "id": "3f8fb010-4a86-49cc-9757-253ca5b6fe9a"
   },
   "outputs": [],
   "source": [
    "RS_sigma = 3.0\n",
    "denoised_vol = RSIVD.filter(farneback, block_size, noisy_vol, RS_sigma=RS_sigma, N_iters=30)"
   ]
  },
  {
   "cell_type": "code",
   "execution_count": null,
   "id": "8a4fc490-9b49-47bf-9d54-de7c6a180fa4",
   "metadata": {
    "id": "8a4fc490-9b49-47bf-9d54-de7c6a180fa4"
   },
   "outputs": [],
   "source": [
    "figure(figsize=(32, 32))\n",
    "plt.subplot(1, 3, 1)\n",
    "plt.title(\"original\")\n",
    "imgplot = plt.imshow(noisy_vol[15], cmap=\"gray\")\n",
    "plt.subplot(1, 3, 2)\n",
    "plt.title(\"$\\sigma_\\mathrm{RS}=$\"+f\"{RS_sigma}\")\n",
    "plt.imshow(denoised_vol[15], cmap=\"gray\")\n",
    "plt.subplot(1, 3, 3)\n",
    "plt.title(\"difference\")\n",
    "plt.imshow(noisy_vol[15] - denoised_vol[15], cmap=\"gray\")"
   ]
  },
  {
   "cell_type": "code",
   "execution_count": null,
   "id": "5e6f6df4-7606-45b3-bb2f-4d0c1bf601bc",
   "metadata": {
    "id": "5e6f6df4-7606-45b3-bb2f-4d0c1bf601bc"
   },
   "outputs": [],
   "source": [
    "#skimage.io.imsave(f\"{vol_name}_denoised_{RS_sigma}.tif\", denoised_vol, imagej=True)"
   ]
  },
  {
   "cell_type": "code",
   "execution_count": null,
   "id": "bdb51fba-b78f-44d7-90b6-703750b65229",
   "metadata": {},
   "outputs": [],
   "source": []
  },
  {
   "cell_type": "code",
   "execution_count": null,
   "id": "f0c7621a-5f6d-42e7-95a5-0f0a977387f6",
   "metadata": {},
   "outputs": [],
   "source": []
  },
  {
   "cell_type": "code",
   "execution_count": null,
   "id": "bZpthooExwPK",
   "metadata": {
    "id": "bZpthooExwPK"
   },
   "outputs": [],
   "source": [
    "try:\n",
    "    import google.colab\n",
    "    IN_COLAB = True\n",
    "except:\n",
    "    IN_COLAB = False"
   ]
  },
  {
   "cell_type": "code",
   "execution_count": null,
   "id": "erIRw69dx8Cj",
   "metadata": {
    "colab": {
     "base_uri": "https://localhost:8080/"
    },
    "id": "erIRw69dx8Cj",
    "outputId": "de7e5f92-3993-4b83-e61d-c8d03136d991"
   },
   "outputs": [],
   "source": [
    "if IN_COLAB:\n",
    "    print(\"Running in Colab\")\n",
    "    !apt install libcudart11.0\n",
    "    !apt install libcublas11\n",
    "    !apt install libcufft10\n",
    "    !apt install libcusparse11\n",
    "    !apt install libnvrtc11.2"
   ]
  },
  {
   "cell_type": "code",
   "execution_count": null,
   "id": "zhsQGQzqyaRB",
   "metadata": {
    "colab": {
     "base_uri": "https://localhost:8080/"
    },
    "id": "zhsQGQzqyaRB",
    "outputId": "a7a818ec-8d1b-45a1-c3e2-c872bcf8fe04"
   },
   "outputs": [],
   "source": [
    "if IN_COLAB:\n",
    "    !pip install cupy-cuda12x\n",
    "    !pip install opticalflow3D"
   ]
  },
  {
   "cell_type": "code",
   "execution_count": null,
   "id": "d71f427c-d83e-4c99-8b49-13106749331c",
   "metadata": {
    "id": "d71f427c-d83e-4c99-8b49-13106749331c"
   },
   "outputs": [],
   "source": [
    "#use_opticalflow3D = False"
   ]
  },
  {
   "cell_type": "code",
   "execution_count": null,
   "id": "fe6d465f-665a-475f-a299-281dbcb664e8",
   "metadata": {
    "id": "fe6d465f-665a-475f-a299-281dbcb664e8"
   },
   "outputs": [],
   "source": [
    "#%pip install opticalflow3d"
   ]
  },
  {
   "cell_type": "code",
   "execution_count": null,
   "id": "cac4bc34-01c4-4b01-a1ea-34c918fc182b",
   "metadata": {
    "id": "cac4bc34-01c4-4b01-a1ea-34c918fc182b"
   },
   "outputs": [],
   "source": [
    "#vol_name = \"small_vol\""
   ]
  },
  {
   "cell_type": "code",
   "execution_count": null,
   "id": "7be42efa-1e36-4eb8-8d10-5d5f7e7e47d3",
   "metadata": {
    "id": "7be42efa-1e36-4eb8-8d10-5d5f7e7e47d3"
   },
   "outputs": [],
   "source": [
    "if IN_COLAB:\n",
    "    print(\"Running in Colab\")\n",
    "    !pip install cupy-cuda12x\n",
    "    !pip install opticalflow3D\n",
    "    !apt install libcudart11.0\n",
    "    !apt install libcublas11\n",
    "    !apt install libcufft10\n",
    "    !apt install libcusparse11\n",
    "    !apt install libnvrtc11.2\n",
    "    from google.colab import drive\n",
    "    drive.mount('/content/drive')\n",
    "    !cp drive/Shareddrives/TomogramDenoising/tomograms/{vol_name}.tif .\n",
    "else:\n",
    "    print(\"Running in locahost\")\n",
    "    !cp ~/Downloads/{vol_name}.tif ."
   ]
  }
 ],
 "metadata": {
  "accelerator": "GPU",
  "colab": {
   "gpuType": "T4",
   "include_colab_link": true,
   "provenance": []
  },
  "kernelspec": {
   "display_name": "OF3D_CUDA",
   "language": "python",
   "name": "of3d_cuda"
  },
  "language_info": {
   "codemirror_mode": {
    "name": "ipython",
    "version": 3
   },
   "file_extension": ".py",
   "mimetype": "text/x-python",
   "name": "python",
   "nbconvert_exporter": "python",
   "pygments_lexer": "ipython3",
   "version": "3.10.10"
  }
 },
 "nbformat": 4,
 "nbformat_minor": 5
}
