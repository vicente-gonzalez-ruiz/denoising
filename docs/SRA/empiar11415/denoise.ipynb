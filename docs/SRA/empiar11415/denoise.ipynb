{
 "cells": [
  {
   "cell_type": "markdown",
   "id": "85f4d821",
   "metadata": {
    "colab_type": "text",
    "id": "view-in-github"
   },
   "source": [
    "<a href=\"https://colab.research.google.com/github/vicente-gonzalez-ruiz/denoising/blob/main/src/denoising/SRA_volume_denoising_opticalflow3d.ipynb\" target=\"_parent\"><img src=\"https://colab.research.google.com/assets/colab-badge.svg\" alt=\"Open In Colab\"/></a>"
   ]
  },
  {
   "cell_type": "markdown",
   "id": "24a2b9b0-569f-4f0a-a83c-7ab9c893b3a4",
   "metadata": {
    "id": "24a2b9b0-569f-4f0a-a83c-7ab9c893b3a4"
   },
   "source": [
    "# SRA_empiar10311"
   ]
  },
  {
   "cell_type": "code",
   "execution_count": null,
   "id": "4b9e78e1-c5d1-446e-953b-9bff2251f978",
   "metadata": {},
   "outputs": [],
   "source": [
    "#%pip install ipynbname"
   ]
  },
  {
   "cell_type": "code",
   "execution_count": null,
   "id": "7367c483-87c1-454f-9560-f32298ad1805",
   "metadata": {
    "id": "7367c483-87c1-454f-9560-f32298ad1805"
   },
   "outputs": [],
   "source": [
    "#%pip install gdown"
   ]
  },
  {
   "cell_type": "code",
   "execution_count": null,
   "id": "19670f26-c531-4d12-a48f-05449437d7df",
   "metadata": {},
   "outputs": [],
   "source": [
    "#%pip install matplotlib"
   ]
  },
  {
   "cell_type": "code",
   "execution_count": null,
   "id": "d51597f2-1e09-4fff-be38-fe5b6c9aacf8",
   "metadata": {
    "id": "d51597f2-1e09-4fff-be38-fe5b6c9aacf8"
   },
   "outputs": [],
   "source": [
    "# %pip install --force-reinstall \"information_theory @ git+https://github.com/vicente-gonzalez-ruiz/information_theory\"\n",
    "#%pip install \"information_theory @ git+https://github.com/vicente-gonzalez-ruiz/information_theory\""
   ]
  },
  {
   "cell_type": "code",
   "execution_count": null,
   "id": "ad5d0337-1816-4387-bc66-5b8c14f6daaa",
   "metadata": {},
   "outputs": [],
   "source": [
    "#%pip install cupy-cuda12x # Check the CUDA installed with nvcc --version (that should match with the version provided by nvidia-smi)\n",
    "#%pip install numba"
   ]
  },
  {
   "cell_type": "code",
   "execution_count": null,
   "id": "1d876a29-7c64-4e2b-9c3c-fceb3a8fb746",
   "metadata": {
    "id": "1d876a29-7c64-4e2b-9c3c-fceb3a8fb746"
   },
   "outputs": [],
   "source": [
    "#%pip install --force-reinstall \"motion_estimation @ git+https://github.com/vicente-gonzalez-ruiz/motion_estimation\"\n",
    "#%pip uninstall -y motion_estimation\n",
    "#%pip install \"motion_estimation @ git+https://github.com/vicente-gonzalez-ruiz/motion_estimation\""
   ]
  },
  {
   "cell_type": "code",
   "execution_count": null,
   "id": "088e8760-16ae-42c3-9281-4d25de5dd9a0",
   "metadata": {},
   "outputs": [],
   "source": [
    "#%pip install --force-reinstall \"optical_flow_3D @ git+https://github.com/vicente-gonzalez-ruiz/optical_flow_3D\"\n",
    "#%pip uninstall -y optical_flow_3D\n",
    "#%pip install \"optical_flow_3D @ git+https://github.com/vicente-gonzalez-ruiz/optical_flow_3D\""
   ]
  },
  {
   "cell_type": "code",
   "execution_count": null,
   "id": "970d37f4-bce2-4f30-bc8f-0f71fef1b230",
   "metadata": {},
   "outputs": [],
   "source": [
    "!ln -sf ~/repos/denoising/src/denoising ."
   ]
  },
  {
   "cell_type": "code",
   "execution_count": null,
   "id": "19af115d-ee78-47aa-b9f1-008ecd6a07f5",
   "metadata": {},
   "outputs": [],
   "source": [
    "import mrcfile\n",
    "import numpy as np\n",
    "import os\n",
    "import mrcfile\n",
    "%matplotlib inline\n",
    "import matplotlib.pyplot as plt\n",
    "from matplotlib.pyplot import figure\n",
    "from collections import namedtuple\n",
    "import logging\n",
    "import motion_estimation._3D.farneback_optical_flow_3D as farneback3D\n",
    "import denoising.volume.SRA_optical_flow_3D as SRA\n",
    "import motion_estimation._3D.project_optical_flow_3D as project\n",
    "from PIL import Image\n",
    "import ipynbname"
   ]
  },
  {
   "cell_type": "code",
   "execution_count": null,
   "id": "0fbfba97-3adb-4526-8aee-e41d33fad865",
   "metadata": {
    "id": "0fbfba97-3adb-4526-8aee-e41d33fad865"
   },
   "outputs": [],
   "source": [
    "vol_filename = \"empiar11415.mrc\"\n",
    "Args = namedtuple(\"args\", [\"input\", \"output\"])\n",
    "fn, fe = vol_filename.split(\".\")\n",
    "args = Args(vol_filename , \"denoised.mrc\")\n",
    "print(args)"
   ]
  },
  {
   "cell_type": "code",
   "execution_count": null,
   "id": "0318d995-4815-473e-bc62-ba21f843e334",
   "metadata": {
    "id": "0318d995-4815-473e-bc62-ba21f843e334"
   },
   "outputs": [],
   "source": [
    "logging.basicConfig(format=\"[%(filename)s:%(lineno)s %(funcName)s()] %(message)s\")\n",
    "logger = logging.getLogger(__name__)\n",
    "logger.setLevel(logging.INFO)\n",
    "logger.setLevel(logging.WARNING)"
   ]
  },
  {
   "cell_type": "code",
   "execution_count": null,
   "id": "b31129fb-a321-46f0-8cdc-f53ae705c3f8",
   "metadata": {
    "id": "b31129fb-a321-46f0-8cdc-f53ae705c3f8"
   },
   "outputs": [],
   "source": [
    "OF_estimator = farneback3D.OF_Estimation(\n",
    "    logger=logger,\n",
    "    block_size=(512, 512, 512),\n",
    "    overlap=(64, 64, 64)\n",
    ")"
   ]
  },
  {
   "cell_type": "code",
   "execution_count": null,
   "id": "fce92214-000b-40c2-bb9c-80fb45cfdda0",
   "metadata": {
    "id": "fce92214-000b-40c2-bb9c-80fb45cfdda0"
   },
   "outputs": [],
   "source": [
    "projector = project.Project(logger)"
   ]
  },
  {
   "cell_type": "code",
   "execution_count": null,
   "id": "28a10f71-500b-4098-80fa-9bfcef1227c2",
   "metadata": {},
   "outputs": [],
   "source": [
    "!ln -sf /nas/vruiz/vols/empiar11415.mrc ."
   ]
  },
  {
   "cell_type": "code",
   "execution_count": null,
   "id": "9be0587a-ac47-46b6-8e90-4016672dc105",
   "metadata": {
    "id": "9be0587a-ac47-46b6-8e90-4016672dc105"
   },
   "outputs": [],
   "source": [
    "#%pip install mrcfile\n",
    "stack_MRC = mrcfile.open(args.input)\n",
    "noisy = stack_MRC.data#[:, 0:512, 0:512]\n",
    "noisy = (255*(noisy - np.min(noisy))/(np.max(noisy) - np.min(noisy))).astype(np.uint8)\n",
    "print(noisy.shape)"
   ]
  },
  {
   "cell_type": "code",
   "execution_count": null,
   "id": "59872f3e-5411-423e-ae37-8ca4eda7f377",
   "metadata": {},
   "outputs": [],
   "source": [
    "def get_notebook_name():\n",
    "    ip = get_ipython()\n",
    "    this_notebook_path = ip.user_ns['__session__']\n",
    "    this_notebook_name = os.path.basename(this_notebook_path)\n",
    "    return this_notebook_name, this_notebook_path"
   ]
  },
  {
   "cell_type": "code",
   "execution_count": null,
   "id": "607634ed-0aa7-4d3b-8908-b91c79597d9a",
   "metadata": {},
   "outputs": [],
   "source": [
    "get_notebook_name()"
   ]
  },
  {
   "cell_type": "code",
   "execution_count": null,
   "id": "0969b3a9-e102-48ca-b72b-55a2e0092fd7",
   "metadata": {},
   "outputs": [],
   "source": [
    "def show_image(denoised, title):\n",
    "    slice_idx = denoised.shape[0]//2\n",
    "    figure(figsize=(32, 32))\n",
    "    plt.subplot(1, 2, 1)\n",
    "    plt.title(\"denoised\")\n",
    "    plt.imshow(denoised[slice_idx][::-1, :], cmap=\"gray\")\n",
    "    plt.subplot(1, 2, 2)\n",
    "    plt.title(\"difference\")\n",
    "    plt.imshow(noisy[slice_idx][::-1, :] - denoised[slice_idx][::-1, :], cmap=\"gray\")\n",
    "    plt.show()"
   ]
  },
  {
   "cell_type": "code",
   "execution_count": null,
   "id": "2d877d99-4864-4428-8c58-8c36d42fb9ed",
   "metadata": {},
   "outputs": [],
   "source": [
    "class Output_Controller:\n",
    "\n",
    "    def __init__(self):\n",
    "        self.image_counter = 0\n",
    "    \n",
    "    def show_image(self, denoised, title):\n",
    "        slice_idx = denoised.shape[0]//2\n",
    "        image_float = denoised[slice_idx]\n",
    "        image_8b = (255*(image_float - np.min(image_float))/(np.max(image_float) - np.min(image_float))).astype(np.uint8)\n",
    "        image = Image.fromarray(image_8b)\n",
    "        notebook_name = get_notebook_name()[0]\n",
    "        output_filename = f\"{notebook_name}_{self.image_counter}.png\"\n",
    "        image.save(output_filename)\n",
    "        self.image_counter += 1\n",
    "        figure(figsize=(32, 32))\n",
    "        plt.subplot(1, 2, 1)\n",
    "        plt.title(\"denoised\")\n",
    "        plt.imshow(denoised[slice_idx][::-1, :], cmap=\"gray\")\n",
    "        plt.subplot(1, 2, 2)\n",
    "        plt.title(\"difference\")\n",
    "        plt.imshow(noisy[slice_idx][::-1, :] - denoised[slice_idx][::-1, :], cmap=\"gray\")\n",
    "        plt.show()\n",
    "\n",
    "OC = Output_Controller()"
   ]
  },
  {
   "cell_type": "code",
   "execution_count": null,
   "id": "2c0f57e5-66b4-4b2c-a157-08d485055c84",
   "metadata": {
    "id": "2c0f57e5-66b4-4b2c-a157-08d485055c84"
   },
   "outputs": [],
   "source": [
    "denoiser = SRA.Shuffle_Register_and_Average(\n",
    "    OF_estimator,\n",
    "    projector,\n",
    "    logger,\n",
    "    quality_estimator=None,\n",
    "    show_image=OC.show_image)"
   ]
  },
  {
   "cell_type": "code",
   "execution_count": null,
   "id": "51b98dab-528c-48d9-8765-6b0c9fa5adb5",
   "metadata": {
    "id": "51b98dab-528c-48d9-8765-6b0c9fa5adb5"
   },
   "outputs": [],
   "source": [
    "denoised = denoiser.filter(\n",
    "    noisy_volume=noisy,\n",
    "    N_iters=100,\n",
    "    std_dev=2.0,\n",
    "    pyramid_levels=1,\n",
    "    gauss_size=5,\n",
    "    iterations=5,\n",
    "    sigma_k=3,\n",
    "    #filter_type=\"box\", # box | gaussian\n",
    "    filter_type=\"gaussian\", # box | gaussian\n",
    "    filter_size=9, # std_dev=2.0\n",
    "    presmoothing=None\n",
    ")"
   ]
  },
  {
   "cell_type": "code",
   "execution_count": null,
   "id": "70711d9e-043d-4e0d-ac06-df326f997115",
   "metadata": {},
   "outputs": [],
   "source": [
    "with mrcfile.new(\"denoised.mrc\", overwrite=True) as mrc:\n",
    "    mrc.set_data(denoised.astype(np.float32))\n",
    "    mrc.data"
   ]
  },
  {
   "cell_type": "code",
   "execution_count": null,
   "id": "13d6bb13-980e-46d8-a6f4-50a2a3c69ae9",
   "metadata": {},
   "outputs": [],
   "source": [
    "denoised = mrcfile.open(\"denoised.mrc\").data"
   ]
  },
  {
   "cell_type": "code",
   "execution_count": null,
   "id": "dbce7c44-1a87-4189-92bf-3e58a4273ae9",
   "metadata": {},
   "outputs": [],
   "source": [
    "denoised.shape"
   ]
  },
  {
   "cell_type": "code",
   "execution_count": null,
   "id": "ea52f21e-2d10-4dc2-bf0f-ff8382d9cc46",
   "metadata": {},
   "outputs": [],
   "source": [
    "figure(figsize=(16, 16))\n",
    "slice_idx = denoised.shape[0]//2\n",
    "plt.imshow(denoised[slice_idx, 200:600, 200:600], cmap=\"gray\")"
   ]
  },
  {
   "cell_type": "code",
   "execution_count": null,
   "id": "818af2ba-d266-4fe7-a786-20d5e1428397",
   "metadata": {},
   "outputs": [],
   "source": [
    "figure(figsize=(16, 16))\n",
    "slice_idx = noisy.shape[0]//2\n",
    "plt.imshow(noisy[slice_idx, 200:600, 200:600], cmap=\"gray\")"
   ]
  },
  {
   "cell_type": "code",
   "execution_count": null,
   "id": "db82a856-2708-466a-a53b-aee7cb7d32ac",
   "metadata": {
    "id": "db82a856-2708-466a-a53b-aee7cb7d32ac"
   },
   "outputs": [],
   "source": [
    "import information_theory\n",
    "slice_index = noisy.shape[0]//2\n",
    "fig, axs = plt.subplots(1, 3, figsize=(15, 45))\n",
    "axs[0].imshow(noisy[16], cmap=\"gray\")\n",
    "axs[0].set_title(f\"Noisy\")\n",
    "axs[1].imshow(denoised[slice_index], cmap=\"gray\")\n",
    "axs[1].set_title(f\"Denoised (DQI={information_theory.information.compute_quality_index(noisy[slice_index], denoised[slice_index])})\")\n",
    "axs[2].imshow(noisy[slice_index] - denoised[slice_index], cmap=\"gray\")\n",
    "axs[2].set_title(f\"Noisy - Denoised\")\n",
    "fig.tight_layout()\n",
    "plt.show()"
   ]
  },
  {
   "cell_type": "code",
   "execution_count": null,
   "id": "f4b3be59-25da-4144-aa47-1af3d1befea6",
   "metadata": {},
   "outputs": [],
   "source": [
    "fig, axs = plt.subplots(1, 2, figsize=(16, 32))\n",
    "slice_idx = noisy.shape[1]//2\n",
    "axs[0].imshow(noisy[:, slice_idx], cmap=\"gray\")\n",
    "axs[0].set_title(f\"Noisy\")\n",
    "axs[1].imshow(denoised[:, slice_idx], cmap=\"gray\")\n",
    "axs[1].set_title(f\"Denoised (DQI={information_theory.information.compute_quality_index(noisy[:, slice_idx], denoised[:, slice_idx])})\")\n",
    "fig.tight_layout()\n",
    "plt.show()"
   ]
  },
  {
   "cell_type": "code",
   "execution_count": null,
   "id": "c4bf87cb-3f75-4353-9a05-2549954ec8a9",
   "metadata": {},
   "outputs": [],
   "source": [
    "fig, axs = plt.subplots(1, 2, figsize=(16, 32))\n",
    "slice_idx = noisy.shape[2]//2\n",
    "axs[0].imshow(noisy[:, :, slice_idx], cmap=\"gray\")\n",
    "axs[0].set_title(f\"Noisy\")\n",
    "axs[1].imshow(denoised[:, :, slice_idx], cmap=\"gray\")\n",
    "axs[1].set_title(f\"Denoised (DQI={information_theory.information.compute_quality_index(noisy[:, :, slice_idx], denoised[:, :, slice_idx])})\")\n",
    "fig.tight_layout()\n",
    "plt.show()"
   ]
  },
  {
   "cell_type": "code",
   "execution_count": null,
   "id": "ed0fc11d-19be-4c7d-8dcd-86fc50b75bf1",
   "metadata": {},
   "outputs": [],
   "source": [
    "slice_idx = noisy.shape[0] // 2\n",
    "\n",
    "fig, axes = plt.subplots(1, 2, figsize=(20, 20))\n",
    "\n",
    "# Plot the original slice z\n",
    "im1 = axes[0].imshow(noisy[slice_idx, 0:512, 0:512].T, cmap='gray', origin='lower')\n",
    "axes[0].set_title(f'Original Slice Z={slice_idx}')\n",
    "axes[0].grid(False)\n",
    "\n",
    "# Plot the original slice z+1\n",
    "im2 = axes[1].imshow(denoised[slice_idx, 0:512, 0:512].T, cmap='gray', origin='lower')\n",
    "axes[1].set_title(f'N2N-Odd-Even-Registered Denoised Slice Z={slice_idx}')\n",
    "axes[1].grid(False)\n",
    "\n",
    "plt.tight_layout()\n",
    "plt.show()"
   ]
  },
  {
   "cell_type": "code",
   "execution_count": null,
   "id": "28264514-ba04-4a53-a505-9fa4e58375f7",
   "metadata": {},
   "outputs": [],
   "source": []
  }
 ],
 "metadata": {
  "accelerator": "GPU",
  "colab": {
   "gpuType": "T4",
   "include_colab_link": true,
   "provenance": []
  },
  "kernelspec": {
   "display_name": "OF3D_CUDA",
   "language": "python",
   "name": "of3d_cuda"
  },
  "language_info": {
   "codemirror_mode": {
    "name": "ipython",
    "version": 3
   },
   "file_extension": ".py",
   "mimetype": "text/x-python",
   "name": "python",
   "nbconvert_exporter": "python",
   "pygments_lexer": "ipython3",
   "version": "3.10.10"
  }
 },
 "nbformat": 4,
 "nbformat_minor": 5
}
