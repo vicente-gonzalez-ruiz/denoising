{
 "cells": [
  {
   "cell_type": "code",
   "execution_count": null,
   "metadata": {},
   "outputs": [],
   "source": [
    "import time\n",
    "from collections import namedtuple\n",
    "\n",
    "try:\n",
    "    import numpy as np\n",
    "except:\n",
    "    !pip install numpy\n",
    "    import numpy as np\n",
    "\n",
    "import scipy.ndimage\n",
    "\n",
    "try:\n",
    "    import matplotlib\n",
    "    import matplotlib.pyplot as plt\n",
    "    import matplotlib.ticker as mticker\n",
    "except:\n",
    "    !pip install matplotlib\n",
    "    import matplotlib\n",
    "    import matplotlib.pyplot as plt\n",
    "    import matplotlib.ticker as mticker\n",
    "\n",
    "try:\n",
    "    from skimage import io as skimage_io\n",
    "except:\n",
    "    !pip install scikit-image\n",
    "    from skimage import io as skimage_io\n",
    "\n",
    "try:\n",
    "    import information_theory as IT\n",
    "except:\n",
    "    !pip install \"information_theory @ git+https://github.com/vicente-gonzalez-ruiz/information_theory\"\n",
    "    import information_theory as IT\n",
    "\n",
    "import utils\n",
    "from PIL import Image"
   ]
  },
  {
   "cell_type": "code",
   "execution_count": null,
   "metadata": {},
   "outputs": [],
   "source": [
    "# apt install cm-super-minimal\n",
    "# apt install dvipng\n",
    "plt.rcParams.update({\n",
    "    \"text.usetex\": True,\n",
    "    #\"font.family\": \"Helvetica\",\n",
    "    \"font.family\": \"Serif\",\n",
    "    \"text.latex.preamble\": r\"\\usepackage{amsmath} \\usepackage{amsfonts}\"\n",
    "})"
   ]
  },
  {
   "cell_type": "code",
   "execution_count": null,
   "metadata": {},
   "outputs": [],
   "source": [
    "Args = namedtuple(\"args\", [\"input\"])\n",
    "args = Args(\"2d_gaussian.png\")"
   ]
  },
  {
   "cell_type": "code",
   "execution_count": null,
   "metadata": {},
   "outputs": [],
   "source": [
    "try:\n",
    "    X = skimage_io.imread(args.input)\n",
    "except FileNotFoundError:\n",
    "    %run 2d_gaussian.ipynb\n",
    "    X = skimage_io.imread(args.input)"
   ]
  },
  {
   "cell_type": "code",
   "execution_count": null,
   "metadata": {},
   "outputs": [],
   "source": [
    "utils.imshow(X)"
   ]
  },
  {
   "cell_type": "code",
   "execution_count": null,
   "metadata": {},
   "outputs": [],
   "source": [
    "STD_DEV = 100\n",
    "N = utils.generate_0MWGN(rows=X.shape[1], cols=X.shape[0], mean=0, stddev=STD_DEV)\n",
    "Y = X + N\n",
    "Y = np.clip(a = Y, a_min=0, a_max=255)\n",
    "PSNR = IT.distortion.PSNR(Y, X)"
   ]
  },
  {
   "cell_type": "code",
   "execution_count": null,
   "metadata": {},
   "outputs": [],
   "source": [
    "utils.imshow(Y)"
   ]
  },
  {
   "cell_type": "code",
   "execution_count": null,
   "metadata": {},
   "outputs": [],
   "source": [
    "string  = r'$\\hat{\\mathbf{s}}='\n",
    "string += r\"\\mathbf{s} + \\mathbf{n}_{\\mathcal{N}\"\n",
    "string += r\"(\\sigma\"\n",
    "string += f\"={STD_DEV})\"\n",
    "string += r'}'\n",
    "string += rf\", {PSNR:.2f}\"\n",
    "string += r\"~\\mathrm{dB}\"\n",
    "string += '$'\n",
    "plt.title(string)\n",
    "#plt.imshow(utils.equalize_grayscale_image(Y), cmap=\"gray\")\n",
    "plt.imshow(Y, cmap=\"gray\")\n",
    "plt.savefig(f'AWG_2d_gaussian_{STD_DEV}.pdf', bbox_inches='tight', pad_inches=0)"
   ]
  },
  {
   "cell_type": "code",
   "execution_count": null,
   "metadata": {},
   "outputs": [],
   "source": [
    "pil_image = Image.fromarray(Y.astype(np.uint8))\n",
    "pil_image.save(f'AWG_2d_gaussian_{STD_DEV}.png')"
   ]
  },
  {
   "cell_type": "code",
   "execution_count": null,
   "metadata": {},
   "outputs": [],
   "source": [
    "#cv2.imwrite(\"AWG_2d_gaussian.png\", Y)"
   ]
  },
  {
   "cell_type": "code",
   "execution_count": null,
   "metadata": {},
   "outputs": [],
   "source": [
    "STD_DEV = 20\n",
    "N = utils.generate_0MWGN(rows=X.shape[1], cols=X.shape[0], mean=0, stddev=STD_DEV)\n",
    "Y = X + N\n",
    "Y = np.clip(a = Y, a_min=0, a_max=255)\n",
    "PSNR = IT.distortion.PSNR(Y, X)"
   ]
  },
  {
   "cell_type": "code",
   "execution_count": null,
   "metadata": {},
   "outputs": [],
   "source": [
    "utils.imshow(Y)"
   ]
  },
  {
   "cell_type": "code",
   "execution_count": null,
   "metadata": {},
   "outputs": [],
   "source": [
    "string  = r'$\\hat{\\mathbf{s}}='\n",
    "string += r\"\\mathbf{s} + \\mathbf{n}_{\\mathcal{N}\"\n",
    "string += r\"(\\sigma\"\n",
    "string += f\"={STD_DEV})\"\n",
    "string += r'}'\n",
    "string += rf\", {PSNR:.2f}\"\n",
    "string += r\"~\\mathrm{dB}\"\n",
    "string += '$'\n",
    "plt.title(string)\n",
    "#plt.imshow(utils.equalize_grayscale_image(Y), cmap=\"gray\")\n",
    "plt.imshow(Y, cmap=\"gray\")\n",
    "plt.savefig(f'AWG_2d_gaussian_{STD_DEV}.pdf', bbox_inches='tight', pad_inches=0)"
   ]
  },
  {
   "cell_type": "code",
   "execution_count": null,
   "metadata": {},
   "outputs": [],
   "source": [
    "pil_image = Image.fromarray(Y.astype(np.uint8))\n",
    "pil_image.save(f'AWG_2d_gaussian_{STD_DEV}.png')"
   ]
  },
  {
   "cell_type": "code",
   "execution_count": null,
   "metadata": {},
   "outputs": [],
   "source": []
  }
 ],
 "metadata": {
  "colab": {
   "collapsed_sections": [],
   "name": "gaussian_denoising.ipynb",
   "provenance": []
  },
  "kernelspec": {
   "display_name": "Python 3 (ipykernel)",
   "language": "python",
   "name": "python3"
  },
  "language_info": {
   "codemirror_mode": {
    "name": "ipython",
    "version": 3
   },
   "file_extension": ".py",
   "mimetype": "text/x-python",
   "name": "python",
   "nbconvert_exporter": "python",
   "pygments_lexer": "ipython3",
   "version": "3.11.2"
  }
 },
 "nbformat": 4,
 "nbformat_minor": 4
}
