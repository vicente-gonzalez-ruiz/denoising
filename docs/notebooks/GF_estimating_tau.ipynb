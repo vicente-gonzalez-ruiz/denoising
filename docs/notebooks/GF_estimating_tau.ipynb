{
 "cells": [
  {
   "cell_type": "markdown",
   "metadata": {
    "editable": true,
    "id": "QqfKxC0KuCzK",
    "slideshow": {
     "slide_type": ""
    },
    "tags": []
   },
   "source": [
    "# Estimation of the filter length in Gaussian denoising using normalized cross-correlation in the Fourier domain (Self Fourier Ring Correlation)"
   ]
  },
  {
   "cell_type": "code",
   "execution_count": null,
   "metadata": {
    "id": "IIUxh4uStrQJ"
   },
   "outputs": [],
   "source": [
    "import time\n",
    "from collections import namedtuple\n",
    "\n",
    "try:\n",
    "    import numpy as np\n",
    "except:\n",
    "    !pip install numpy\n",
    "    import numpy as np\n",
    "\n",
    "import scipy.ndimage\n",
    "\n",
    "try:\n",
    "    import matplotlib\n",
    "    import matplotlib.pyplot as plt\n",
    "    import matplotlib.ticker as mticker\n",
    "except:\n",
    "    !pip install matplotlib\n",
    "    import matplotlib\n",
    "    import matplotlib.pyplot as plt\n",
    "    import matplotlib.ticker as mticker\n",
    "\n",
    "#from ipywidgets import *\n",
    "try:\n",
    "    import cv2\n",
    "except:\n",
    "    !pip install cv2\n",
    "    import cv2\n",
    "    \n",
    "#import kernels\n",
    "try:\n",
    "    from skimage import io as skimage_io\n",
    "except:\n",
    "    !pip install scikit-image\n",
    "    from skimage import io as skimage_io\n",
    "\n",
    "try:\n",
    "    import information_theory as IT\n",
    "except:\n",
    "    !pip install \"information_theory @ git+https://github.com/vicente-gonzalez-ruiz/information_theory\"\n",
    "    import information_theory as IT\n",
    "\n",
    "import utils"
   ]
  },
  {
   "cell_type": "code",
   "execution_count": null,
   "metadata": {},
   "outputs": [],
   "source": [
    "# apt install cm-super-minimal\n",
    "# apt install dvipng\n",
    "plt.rcParams.update({\n",
    "    \"text.usetex\": True,\n",
    "    #\"font.family\": \"Helvetica\",\n",
    "    \"font.family\": \"Serif\",\n",
    "    \"text.latex.preamble\": r\"\\usepackage{amsmath} \\usepackage{amsfonts}\"\n",
    "})\n",
    "#rc('text', usetex=True)\n",
    "#rc('font', family='serif')\n",
    "#plt.rc('text.latex', preamble=r'\\usepackage{amsmath} `...')\n",
    "#mpl.rcParams['text.latex.preamble'] = r'\\usepackage{amsmath} \\usepackage{amsfonts}'"
   ]
  },
  {
   "cell_type": "code",
   "execution_count": null,
   "metadata": {},
   "outputs": [],
   "source": [
    "import logging\n",
    "logging.basicConfig(format=\"[%(filename)s:%(lineno)s %(funcName)s()] %(message)s\")\n",
    "logger = logging.getLogger(__name__)\n",
    "logger.setLevel(logging.WARNING)"
   ]
  },
  {
   "cell_type": "code",
   "execution_count": null,
   "metadata": {},
   "outputs": [],
   "source": [
    "try:\n",
    "    import denoising.image.gaussian as denoising\n",
    "except:\n",
    "    !pip install \"denoising @ git+https://github.com/vicente-gonzalez-ruiz/denoising\"\n",
    "    import denoising.image.gaussian as denoising"
   ]
  },
  {
   "cell_type": "code",
   "execution_count": null,
   "metadata": {},
   "outputs": [],
   "source": [
    "try:\n",
    "    from self_fourier_shell_correlation import fsc_utils as fsc\n",
    "except:\n",
    "    !pip install \"self_fourier_shell_correlation @ git+https://github.com/vicente-gonzalez-ruiz/self_fourier_shell_correlation\"\n",
    "    from self_fourier_shell_correlation import fsc_utils as fsc"
   ]
  },
  {
   "cell_type": "code",
   "execution_count": null,
   "metadata": {},
   "outputs": [],
   "source": [
    "denoiser = denoising.Monochrome_Denoising(logger)"
   ]
  },
  {
   "cell_type": "markdown",
   "metadata": {},
   "source": [
    "### barb"
   ]
  },
  {
   "cell_type": "code",
   "execution_count": null,
   "metadata": {},
   "outputs": [],
   "source": [
    "Args = namedtuple(\"args\", \"input\")\n",
    "args = Args(\"http://www.hpca.ual.es/~vruiz/images/barb.png\")\n",
    "#args = Args(\"http://www.hpca.ual.es/~vruiz/images/zelda.png\")\n",
    "#args = Args(\"http://www.hpca.ual.es/~vruiz/images/boats.png\")\n",
    "#args = Args(\"http://www.hpca.ual.es/~vruiz/images/lake.png\")"
   ]
  },
  {
   "cell_type": "code",
   "execution_count": null,
   "metadata": {},
   "outputs": [],
   "source": [
    "image = skimage_io.imread(args.input)  # Ground Truth\n",
    "X = image"
   ]
  },
  {
   "cell_type": "code",
   "execution_count": null,
   "metadata": {},
   "outputs": [],
   "source": [
    "plt.title(r\"$\\mathbf{X}=\\mathrm{Barb}$\")\n",
    "#plt.imshow(X, cmap=\"gray\")\n",
    "#plt.savefig('barb.pdf', bbox_inches='tight')\n",
    "utils.imshow(X)"
   ]
  },
  {
   "cell_type": "code",
   "execution_count": null,
   "metadata": {},
   "outputs": [],
   "source": [
    "GAMMA = 0.15\n",
    "STD_DEV = 80\n",
    "POISSON_RATIO = 0.5"
   ]
  },
  {
   "cell_type": "code",
   "execution_count": null,
   "metadata": {},
   "outputs": [],
   "source": [
    "SFRC_curve = []\n",
    "sigmas_kernel = [0.25, 0.5, 0.75, 1.0, 1.2, 1.5, 1.6, 2.0, 2.5]\n",
    "sigmas_kernel = [1.0, 1.25, 1.5, 1.75, 2.0, 2.25, 2.50, 2.75, 5]\n",
    "#sigmas_kernel = [0.01, 0.5, 1.0, 1.25, 1.3, 1.35]\n",
    "Y = utils.generate_MPGN(X, std_dev=STD_DEV, gamma=GAMMA, poisson_ratio=POISSON_RATIO)\n",
    "#Y = np.clip(a = Y, a_min=0, a_max=255)\n",
    "for i in sigmas_kernel:\n",
    "    total_c_avg = 0\n",
    "    kernel = [None]*2\n",
    "    kernel[0] = utils.get_gaussian_kernel(i)\n",
    "    kernel[1] = utils.get_gaussian_kernel(i)\n",
    "    denoised = denoiser.filter(Y, kernel)\n",
    "    freq, c_avg = fsc.get_SFRC_curve(denoised)\n",
    "    SFRC_curve.append(c_avg)"
   ]
  },
  {
   "cell_type": "code",
   "execution_count": null,
   "metadata": {},
   "outputs": [],
   "source": [
    "string  = r\"$\\mathbf{X}=\\mathrm{Barb}$\"\n",
    "plt.title(string)\n",
    "#plt.xlabel(\"Normalized spatial frequency\")\n",
    "plt.xlabel(r\"$\\omega$\")\n",
    "#plt.ylabel(r\"$\\mathrm{SFRC}(\\tilde{\\mathbf{X}})$\")\n",
    "plt.ylabel(r\"$\\mathrm{SFRC}(\\mathrm{GF}_\\tau(\\mathbf{X}+\\mathbf{N}_{\\mathcal{N}(\\sigma=\" + rf\"{STD_DEV}\" + \")}))$\")\n",
    "markers = ['o', 's', '^', 'd', 'x', '*', 'v', 'p', 'h', '+']  # Add more markers if needed\n",
    "#for i in range(len(sigmas_kernel)-1, 0, -1):\n",
    "for i in range(len(sigmas_kernel)):\n",
    "    plt.plot(freq[:(len(freq)>>0)],\n",
    "             SFRC_curve[i][:(len(freq)>>0)],\n",
    "             label=r\"$\\tau=\" + f\"{sigmas_kernel[i]}\"\n",
    "             + rf\", {np.sum(SFRC_curve[i][:(len(freq)>>1)]):.2f}\" # [:(len(freq)>>1)]\n",
    "             + rf\", {np.min(SFRC_curve[i]):.2f}\"\n",
    "             #+ rf\", {(np.sum(SFRC_curve[i][:(len(freq)>>1)]) + np.sum(SFRC_curve[i][(len(freq)>>1):]):.2f)}\"\n",
    "             #+ rf\", {np.sum(SFRC_curve[i]):.2f}\"\n",
    "             + r\"$\",\n",
    "             marker=markers[i % len(markers)],\n",
    "             markersize=0.0)\n",
    "Y = X + np.random.normal(loc=0, scale=STD_DEV, size=X.shape).reshape(X.shape)\n",
    "plt.plot(freq[:(len(freq)>>0)],\n",
    "         fsc.get_SFRC_curve(X)[1],\n",
    "         label=\"No noise\")\n",
    "plt.plot(freq[:(len(freq)>>0)],\n",
    "         fsc.get_SFRC_curve(Y)[1],\n",
    "         label=f\"noise {STD_DEV}\")\n",
    "plt.legend()\n",
    "plt.savefig(\"GF_SFRC_0MAGN_barb.pdf\", bbox_inches='tight')"
   ]
  },
  {
   "cell_type": "code",
   "execution_count": null,
   "metadata": {
    "scrolled": true
   },
   "outputs": [],
   "source": [
    "N_POINTS = 40\n",
    "min_sigma_kernel = 0.5\n",
    "max_sigma_kernel = 2.0\n",
    "area_per_sigma_kernel_curves = []\n",
    "std_devs = []\n",
    "for s in range(20, 100, 20):\n",
    "    std_devs.append(s)\n",
    "    sigmas_kernel = []\n",
    "    area_per_sigma_kernel_curve = []\n",
    "    Y = utils.generate_MPGN(X, s, GAMMA)\n",
    "    #Y = X + np.random.normal(loc=0, scale=s, size=X.shape).reshape(X.shape) # Mover fuera!!!!\n",
    "    for i in range(N_POINTS):\n",
    "        sigma_kernel = min_sigma_kernel + i*(max_sigma_kernel - min_sigma_kernel)/N_POINTS\n",
    "        sigmas_kernel.append(sigma_kernel)\n",
    "        kernel = [None]*2\n",
    "        kernel[0] = utils.get_gaussian_kernel(sigma_kernel)\n",
    "        kernel[1] = utils.get_gaussian_kernel(sigma_kernel)\n",
    "        denoised = denoiser.filter(Y, kernel)\n",
    "        freqs, c_avg = fsc.get_SFRC_curve(denoised)\n",
    "        area = np.sum(c_avg)\n",
    "        area_per_sigma_kernel_curve.append(area)\n",
    "    area_per_sigma_kernel_curves.append(area_per_sigma_kernel_curve)"
   ]
  },
  {
   "cell_type": "code",
   "execution_count": null,
   "metadata": {},
   "outputs": [],
   "source": [
    "for i in range(len(area_per_sigma_kernel_curves)):\n",
    "    plt.plot(\n",
    "        sigmas_kernel,\n",
    "        area_per_sigma_kernel_curves[i],\n",
    "    label=f\"{std_devs[i]}, {sigmas_kernel[np.argmax(area_per_sigma_kernel_curves[i])]}\")\n",
    "plt.legend()\n",
    "plt.xlabel(r\"$\\tau$\")\n"
   ]
  },
  {
   "cell_type": "code",
   "execution_count": null,
   "metadata": {},
   "outputs": [],
   "source": [
    "sigma_kernel = 1.3\n",
    "sigma = np.array([sigma_kernel, sigma_kernel])\n",
    "kernel = [None]*2\n",
    "kernel[0] = utils.get_gaussian_kernel(sigma[0])\n",
    "kernel[1] = utils.get_gaussian_kernel(sigma[1])\n",
    "print(np.sum(kernel[0]))\n",
    "plt.plot(kernel[0])\n",
    "plt.show()"
   ]
  },
  {
   "cell_type": "markdown",
   "metadata": {},
   "source": [
    "## Zero-mean Mixed Poisson-Gaussian (0MMPG) noise\n",
    "\\begin{equation}\n",
    "  Y = N_{\\mathcal{P}(\\gamma X)}/\\gamma + N_{\\mathcal{N(\\sigma)}}\n",
    "\\end{equation}\n",
    "where\n",
    "\\begin{equation}\n",
    "N_{\\mathcal{P}(\\gamma X)}\\sim\\mathcal{P}(λ=\\gamma X)\n",
    "\\end{equation}\n",
    "and\n",
    "\\begin{equation}\n",
    "N_{\\mathcal{N(\\sigma)}}\\sim{\\mathcal N}(\\mu=0, \\sigma^2).\n",
    "\\end{equation}"
   ]
  },
  {
   "cell_type": "code",
   "execution_count": null,
   "metadata": {},
   "outputs": [],
   "source": [
    "POISSON_RATIO = 0.5"
   ]
  },
  {
   "cell_type": "markdown",
   "metadata": {},
   "source": [
    "#### GF_SFRC_0MMPG_NL20_barb"
   ]
  },
  {
   "cell_type": "code",
   "execution_count": null,
   "metadata": {},
   "outputs": [],
   "source": [
    "STD_DEV = 10 # Gaussian noise level\n",
    "GAMMA = 0.15\n",
    "#sigmas_kernel = [(0.25 + i/10) for i in range(20)]\n",
    "#sigmas_kernel = [0.25, 0.5, 0.75, 1.0, 1.1, 1.2, 2.5]\n",
    "#sigmas_kernel = [1.4, 1.7, 2.8]\n",
    "sigmas_kernel = [i/20 for i in range(5, 50, 5)]\n",
    "#sigmas_kernel = [i/80 for i in range(10, 100, 10)]\n",
    "#sigmas_kernel = [0.55, 0.60, 0.65]\n",
    "#sigmas_kernel.append(1.4)\n",
    "#sigmas_kernel.sort()\n",
    "#sigmas_kernel.append(1.4)\n",
    "SFRC_curves = []\n",
    "Y = utils.generate_MPGN(X, STD_DEV, GAMMA, POISSON_RATIO).reshape(X.shape)\n",
    "utils.imshow(Y)\n",
    "for i in sigmas_kernel:\n",
    "    total_c_avg = 0\n",
    "    kernel = [None]*2\n",
    "    kernel[0] = utils.get_gaussian_kernel(i*2)\n",
    "    kernel[1] = utils.get_gaussian_kernel(i*2)\n",
    "    total_c_avg = np.zeros(X.shape[0]>>1)\n",
    "    for j in range(1):\n",
    "        #Y = np.clip(a = Y, a_min=0, a_max=255)\n",
    "        denoised = denoiser.filter(Y, kernel)\n",
    "        #plt.imshow(denoised, cmap=\"gray\")\n",
    "        #plt.show()\n",
    "        freq, c_avg = fsc.get_SFRC_curve(denoised)\n",
    "        #freq, c_avg = fsc.get_SFRC_curve(X)\n",
    "        freq = freq[:(len(freq)>>0)]\n",
    "        c_avg = c_avg[:(len(c_avg)>>0)]\n",
    "        total_c_avg += c_avg\n",
    "    SFRC_curves.append(total_c_avg/1)\n",
    "    print(i, end=' ')\n"
   ]
  },
  {
   "cell_type": "code",
   "execution_count": null,
   "metadata": {},
   "outputs": [],
   "source": [
    "#plt.title(r\"$\\mathbf{X}=\\mathrm{Barb}$\")\n",
    "plt.xlabel(r\"$\\omega$\")\n",
    "string  = r\"$\\mathrm{SFRC}\"\n",
    "string += r\"(\\mathrm{GF}_\\tau(\"\n",
    "#string += r\"\\mathbf{X} + \\mathbf{N}_{\\mathcal{N}\"\n",
    "#string += r\"(\\sigma=\"\n",
    "#string += f\"{std_dev}\"\n",
    "#string += r\")}\"\n",
    "#string += r\"+ \\mathbf{N}\"\n",
    "#string += r\"_{\\mathcal{P}(\"\n",
    "#string += rf\"{gamma}\"\n",
    "#string += r\"\\mathbf{X})}/\" + rf\"{gamma}\"\n",
    "string += r\"\\hat{\\mathbf{X}}\"\n",
    "string += r\"))$\"\n",
    "plt.ylabel(string)\n",
    "#plt.ylabel(r\"$\\mathrm{SFRC}(\\tilde{\\mathbf{X}})$\")\n",
    "markers = ['o', 's', '^', 'd', 'x', '*', 'v', 'p', 'h', '+']  # Add more markers if needed\n",
    "for i in range(0, len(sigmas_kernel), 1):\n",
    "#for i in range(len(sigmas_kernel)-1, 0, -1):\n",
    "    #plt.plot(freq, curve[i], label=r\"$\\tau=\" + f\"{sigmas_kernel[i]}\" + r\"$\", marker=markers[(len(sigmas_kernel)-i-1) % len(markers)], markersize=0.0)\n",
    "    #plt.plot(freq, curve[i], label=r\"$\\tau=\" + f\"{sigmas_kernel[len(sigmas_kernel)-i-1]}\" + r\"$\", marker=markers[(len(sigmas_kernel)-i-1) % len(markers)], markersize=0.0)\n",
    "    #if sigmas_kernel[i] != 1.4:\n",
    "    #    plt.plot(\n",
    "    #        freq,\n",
    "    #        curve[i],\n",
    "    #        label=r\"$\\tau=\" + f\"{sigmas_kernel[i]}\"\n",
    "    #        + r\", \\mathrm{sum}=\"\n",
    "    #        + f\"{np.sum(curve[i]):.2f}\"\n",
    "    #        + r\"$\", marker=markers[i % len(markers)],\n",
    "    #        markersize=0.0)\n",
    "    #else:\n",
    "    plt.plot(\n",
    "        freq,#[:len(c_avg)>>1],\n",
    "        SFRC_curves[i], # [noise level][kernel length]\n",
    "        label=r\"$\\tau=\" + f\"{sigmas_kernel[i]}\"\n",
    "        + r\", \\mathrm{sum}=\"\n",
    "        + f\"{np.sum(SFRC_curves[i])/128:.3f}\"\n",
    "        + r\"$\", marker=markers[i % len(markers)],\n",
    "        markersize=0.0)\n",
    "\n",
    "plt.legend()\n",
    "plt.savefig(\"GF_SFRC_0MMPG_NL20_barb.pdf\", bbox_inches='tight')"
   ]
  },
  {
   "cell_type": "markdown",
   "metadata": {},
   "source": [
    "#### GF_SFRC_0MMPG_NL60_barb"
   ]
  },
  {
   "cell_type": "code",
   "execution_count": null,
   "metadata": {},
   "outputs": [],
   "source": [
    "STD_DEV = 40 # Gaussian noise level\n",
    "GAMMA = 0.15\n",
    "#sigmas_kernel = [(0.25 + i/10) for i in range(20)]\n",
    "#sigmas_kernel = [0.25, 0.5, 0.75, 1.0, 1.1, 1.2, 2.5]\n",
    "#sigmas_kernel = [1.4, 1.7, 2.8]\n",
    "#sigmas_kernel = [i/80 for i in range(10, 100, 10)]\n",
    "#sigmas_kernel = [0.60, 0.65, 0.7]\n",
    "#sigmas_kernel.append(1.4)\n",
    "#sigmas_kernel.sort()\n",
    "#sigmas_kernel.append(1.4)\n",
    "SFRC_curves = []\n",
    "gamma = 0.15\n",
    "Y = utils.generate_MPGN(X, STD_DEV, GAMMA, POISSON_RATIO).reshape(X.shape)\n",
    "utils.imshow(Y)\n",
    "for i in sigmas_kernel:\n",
    "    total_c_avg = 0\n",
    "    kernel = [None]*2\n",
    "    kernel[0] = utils.get_gaussian_kernel(i*2)\n",
    "    kernel[1] = utils.get_gaussian_kernel(i*2)\n",
    "    total_c_avg = np.zeros(X.shape[0]>>1)\n",
    "    for j in range(1):\n",
    "        #Y = np.clip(a = Y, a_min=0, a_max=255)\n",
    "        denoised = denoiser.filter(Y, kernel)\n",
    "        #plt.imshow(denoised, cmap=\"gray\")\n",
    "        #plt.show()\n",
    "        freq, c_avg = fsc.get_SFRC_curve(denoised)\n",
    "        #freq, c_avg = fsc.get_SFRC_curve(X)\n",
    "        freq = freq[:(len(freq)>>0)]\n",
    "        c_avg = c_avg[:(len(c_avg)>>0)]\n",
    "        total_c_avg += c_avg\n",
    "    SFRC_curves.append(total_c_avg/1)\n",
    "    print(i, end=' ')"
   ]
  },
  {
   "cell_type": "code",
   "execution_count": null,
   "metadata": {},
   "outputs": [],
   "source": [
    "#plt.title(r\"$\\mathbf{X}=\\mathrm{Barb}$\")\n",
    "plt.xlabel(r\"$\\omega$\")\n",
    "string  = r\"$\\mathrm{SFRC}\"\n",
    "string += r\"(\\mathrm{GF}_\\tau(\"\n",
    "#string += r\"\\mathbf{X} + \\mathbf{N}_{\\mathcal{N}\"\n",
    "#string += r\"(\\sigma=\"\n",
    "#string += f\"{std_dev}\"\n",
    "#string += r\")}\"\n",
    "#string += r\"+ \\mathbf{N}\"\n",
    "#string += r\"_{\\mathcal{P}(\"\n",
    "#string += rf\"{gamma}\"\n",
    "#string += r\"\\mathbf{X})}/\" + rf\"{gamma}\"\n",
    "string += r\"\\hat{\\mathbf{X}}\"\n",
    "string += r\"))$\"\n",
    "plt.ylabel(string)\n",
    "#plt.ylabel(r\"$\\mathrm{SFRC}(\\tilde{\\mathbf{X}})$\")\n",
    "markers = ['o', 's', '^', 'd', 'x', '*', 'v', 'p', 'h', '+']  # Add more markers if needed\n",
    "for i in range(0, len(sigmas_kernel), 1):\n",
    "#for i in range(len(sigmas_kernel)-1, 0, -1):\n",
    "    #plt.plot(freq, curve[i], label=r\"$\\tau=\" + f\"{sigmas_kernel[i]}\" + r\"$\", marker=markers[(len(sigmas_kernel)-i-1) % len(markers)], markersize=0.0)\n",
    "    #plt.plot(freq, curve[i], label=r\"$\\tau=\" + f\"{sigmas_kernel[len(sigmas_kernel)-i-1]}\" + r\"$\", marker=markers[(len(sigmas_kernel)-i-1) % len(markers)], markersize=0.0)\n",
    "    #if sigmas_kernel[i] != 1.4:\n",
    "    #    plt.plot(\n",
    "    #        freq,\n",
    "    #        curve[i],\n",
    "    #        label=r\"$\\tau=\" + f\"{sigmas_kernel[i]}\"\n",
    "    #        + r\", \\mathrm{sum}=\"\n",
    "    #        + f\"{np.sum(curve[i]):.2f}\"\n",
    "    #        + r\"$\", marker=markers[i % len(markers)],\n",
    "    #        markersize=0.0)\n",
    "    #else:\n",
    "    plt.plot(\n",
    "        freq,#[:len(c_avg)>>1],\n",
    "        SFRC_curves[i], # [noise level][kernel length]\n",
    "        label=r\"$\\tau=\" + f\"{sigmas_kernel[i]}\"\n",
    "        + r\", \\mathrm{sum}=\"\n",
    "        + f\"{np.sum(SFRC_curves[i])/128:.3f}\"\n",
    "        + r\"$\", marker=markers[i % len(markers)],\n",
    "        markersize=0.0)\n",
    "\n",
    "plt.legend()\n",
    "plt.savefig(\"GF_SFRC_0MMPG_NL60_barb.pdf\", bbox_inches='tight')"
   ]
  },
  {
   "cell_type": "code",
   "execution_count": null,
   "metadata": {},
   "outputs": [],
   "source": [
    "input()"
   ]
  },
  {
   "cell_type": "code",
   "execution_count": null,
   "metadata": {},
   "outputs": [],
   "source": [
    "sigmas_kernel = [i/20 for i in range(5, 50, 5)]\n",
    "sigmas_kernel.append(1.4)\n",
    "sigmas_kernel.sort()\n",
    "#sigmas_kernel.append(1.4)\n",
    "SFRC_curves = []\n",
    "Y = MPG_noise(X, STD_DEV, GAMMA).reshape(X.shape)\n",
    "for i in sigmas_kernel:\n",
    "    total_c_avg = 0\n",
    "    kernel = [None]*2\n",
    "    kernel[0] = get_gaussian_kernel(i)\n",
    "    kernel[1] = get_gaussian_kernel(i)\n",
    "    denoised = denoiser.filter(Y, kernel)\n",
    "    PCC = np.corrcoef(denoised[:, ::2].flatten(), denoised[:, 1::2].flatten())[0, 1]\n",
    "    print(\"sigma_kernel:\", i, \"PCC:\", PCC)\n"
   ]
  },
  {
   "cell_type": "code",
   "execution_count": null,
   "metadata": {},
   "outputs": [],
   "source": [
    "input()"
   ]
  },
  {
   "cell_type": "code",
   "execution_count": null,
   "metadata": {},
   "outputs": [],
   "source": [
    "len(freq[:len(c_avg)>>1])"
   ]
  },
  {
   "cell_type": "code",
   "execution_count": null,
   "metadata": {},
   "outputs": [],
   "source": [
    "len(SFRC_curves[0][0])"
   ]
  },
  {
   "cell_type": "code",
   "execution_count": null,
   "metadata": {},
   "outputs": [],
   "source": [
    "noise_level = 2\n",
    "\n",
    "#plt.title(r\"$\\mathbf{X}=\\mathrm{Barb}$\")\n",
    "plt.xlabel(r\"$\\omega$\")\n",
    "string  = r\"$\\mathrm{SFRC}\"\n",
    "string += r\"(\\mathrm{GF}_\\tau(\"\n",
    "#string += r\"\\mathbf{X} + \\mathbf{N}_{\\mathcal{N}\"\n",
    "#string += r\"(\\sigma=\"\n",
    "#string += f\"{std_dev}\"\n",
    "#string += r\")}\"\n",
    "#string += r\"+ \\mathbf{N}\"\n",
    "#string += r\"_{\\mathcal{P}(\"\n",
    "#string += rf\"{gamma}\"\n",
    "#string += r\"\\mathbf{X})}/\" + rf\"{gamma}\"\n",
    "string += r\"\\hat{\\mathbf{X}}\"\n",
    "string += r\"))$\"\n",
    "plt.ylabel(string)\n",
    "#plt.ylabel(r\"$\\mathrm{SFRC}(\\tilde{\\mathbf{X}})$\")\n",
    "markers = ['o', 's', '^', 'd', 'x', '*', 'v', 'p', 'h', '+']  # Add more markers if needed\n",
    "for i in range(0, len(sigmas_kernel), 1):\n",
    "#for i in range(len(sigmas_kernel)-1, 0, -1):\n",
    "    #plt.plot(freq, curve[i], label=r\"$\\tau=\" + f\"{sigmas_kernel[i]}\" + r\"$\", marker=markers[(len(sigmas_kernel)-i-1) % len(markers)], markersize=0.0)\n",
    "    #plt.plot(freq, curve[i], label=r\"$\\tau=\" + f\"{sigmas_kernel[len(sigmas_kernel)-i-1]}\" + r\"$\", marker=markers[(len(sigmas_kernel)-i-1) % len(markers)], markersize=0.0)\n",
    "    #if sigmas_kernel[i] != 1.4:\n",
    "    #    plt.plot(\n",
    "    #        freq,\n",
    "    #        curve[i],\n",
    "    #        label=r\"$\\tau=\" + f\"{sigmas_kernel[i]}\"\n",
    "    #        + r\", \\mathrm{sum}=\"\n",
    "    #        + f\"{np.sum(curve[i]):.2f}\"\n",
    "    #        + r\"$\", marker=markers[i % len(markers)],\n",
    "    #        markersize=0.0)\n",
    "    #else:\n",
    "    plt.plot(\n",
    "        freq[:len(c_avg)>>1],\n",
    "        SFRC_curves[noise_level][i], # [noise level][kernel length]\n",
    "        label=r\"$\\tau=\" + f\"{sigmas_kernel[i]}\"\n",
    "        + r\", \\mathrm{sum}=\"\n",
    "        + f\"{np.sum(SFRC_curves[noise_level][i]):.2f}\"\n",
    "        + r\"$\", marker=markers[i % len(markers)],\n",
    "        markersize=0.0)\n",
    "\n",
    "plt.legend()\n",
    "plt.savefig(\"GF_SFRC_0MMPG_barb.pdf\", bbox_inches='tight')"
   ]
  },
  {
   "cell_type": "code",
   "execution_count": null,
   "metadata": {},
   "outputs": [],
   "source": [
    "noise_level = 4\n",
    "\n",
    "sums = []\n",
    "for i in range(0, len(sigmas_kernel), 1):\n",
    "    _sum = np.sum(SFRC_curves[noise_level][i])\n",
    "    print(i, sigmas_kernel[i], f\"{_sum:.2f}\")\n",
    "    sums.append(_sum)"
   ]
  },
  {
   "cell_type": "code",
   "execution_count": null,
   "metadata": {},
   "outputs": [],
   "source": [
    "arg_max = np.argmax(sums)\n",
    "print(arg_max)"
   ]
  },
  {
   "cell_type": "code",
   "execution_count": null,
   "metadata": {},
   "outputs": [],
   "source": [
    "optimal_filter_length = sigmas_kernel[arg_max] / 2"
   ]
  },
  {
   "cell_type": "code",
   "execution_count": null,
   "metadata": {},
   "outputs": [],
   "source": [
    "print(optimal_filter_length)"
   ]
  },
  {
   "cell_type": "code",
   "execution_count": null,
   "metadata": {},
   "outputs": [],
   "source": [
    "for noise_level in range(5):\n",
    "    sums = []\n",
    "    for filter_length_index in range(0, len(sigmas_kernel), 1):\n",
    "        _sum = np.sum(SFRC_curves[noise_level][filter_length])\n",
    "        print(filter_length_index, sigmas_kernel[filter_length_index], f\"{_sum:.2f}\")\n",
    "        sums.append(_sum)\n",
    "    arg_max = np.argmax(sums)\n",
    "    print(\"arg_max:\", arg_max)\n",
    "    optimal_filter_length = sigmas_kernel[arg_max] / 2\n",
    "    print(\"Optimal filter length:\", optimal_filter_length)"
   ]
  },
  {
   "cell_type": "code",
   "execution_count": null,
   "metadata": {},
   "outputs": [],
   "source": []
  }
 ],
 "metadata": {
  "colab": {
   "collapsed_sections": [],
   "name": "gaussian_denoising.ipynb",
   "provenance": []
  },
  "kernelspec": {
   "display_name": "Python 3 (ipykernel)",
   "language": "python",
   "name": "python3"
  },
  "language_info": {
   "codemirror_mode": {
    "name": "ipython",
    "version": 3
   },
   "file_extension": ".py",
   "mimetype": "text/x-python",
   "name": "python",
   "nbconvert_exporter": "python",
   "pygments_lexer": "ipython3",
   "version": "3.12.2"
  }
 },
 "nbformat": 4,
 "nbformat_minor": 4
}
