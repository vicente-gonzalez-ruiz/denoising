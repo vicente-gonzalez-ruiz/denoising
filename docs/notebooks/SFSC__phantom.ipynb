{
 "cells": [
  {
   "cell_type": "markdown",
   "id": "507d347d-7fff-4d27-b373-1a7dcfe298d2",
   "metadata": {},
   "source": [
    "# SFSC curve of empiar10311_stack_crop.mrc"
   ]
  },
  {
   "cell_type": "code",
   "execution_count": null,
   "id": "789d17f1-645c-441c-8d2e-b87cf8b4cf8b",
   "metadata": {},
   "outputs": [],
   "source": [
    "#import mrcfile\n",
    "import matplotlib.pyplot as plt\n",
    "#import tifffile\n",
    "#import scipy.ndimage\n",
    "import numpy as np\n",
    "import skimage.io\n",
    "import denoising.utils as utils # pip install --upgrade --force-reinstall \"denoising @ git+https://github.com/vicente-gonzalez-ruiz/denoising\"\n",
    "from self_fourier_shell_correlation import fsc_utils as fsc # pip install --upgrade --force-reinstall \"self_fourier_shell_correlation @ git+https://github.com/vicente-gonzalez-ruiz/self_fourier_shell_correlation\""
   ]
  },
  {
   "cell_type": "code",
   "execution_count": null,
   "id": "4215b473-ae37-49ff-9844-fe412ed1e06a",
   "metadata": {},
   "outputs": [],
   "source": [
    "vol_name = \"phantom01\"\n",
    "vol_extension = \".tif\"\n",
    "vols_path = \"/shared/vols/\""
   ]
  },
  {
   "cell_type": "code",
   "execution_count": null,
   "id": "514533a0-a958-49c9-9576-91dad6a28ee1",
   "metadata": {},
   "outputs": [],
   "source": [
    "from collections import namedtuple # Comes with the PSL\n",
    "Args = namedtuple(\"args\", [\"vol\"])\n",
    "args = Args(vols_path + vol_name + vol_extension)"
   ]
  },
  {
   "cell_type": "code",
   "execution_count": null,
   "id": "ac56a8f9-2d80-4317-b4b7-f4dda6d33078",
   "metadata": {},
   "outputs": [],
   "source": [
    "#with mrcfile.open(args.vol, permissive=True) as mrc:\n",
    "#    vol= mrc.data"
   ]
  },
  {
   "cell_type": "code",
   "execution_count": null,
   "id": "d0294af7-553e-46d3-9bb3-0f4ea9dff7c1",
   "metadata": {},
   "outputs": [],
   "source": [
    "vol = skimage.io.imread(args.vol, plugin=\"tifffile\").astype(np.float32)"
   ]
  },
  {
   "cell_type": "code",
   "execution_count": null,
   "id": "0fbafdfd-5545-4a82-bd69-dff205fdd90c",
   "metadata": {},
   "outputs": [],
   "source": [
    "vol.shape"
   ]
  },
  {
   "cell_type": "code",
   "execution_count": null,
   "id": "c4e9afe4-c0b2-4e39-a8d4-69c7e6befdf3",
   "metadata": {},
   "outputs": [],
   "source": [
    "vol = vol[0:48, 100:148, 100:148]"
   ]
  },
  {
   "cell_type": "code",
   "execution_count": null,
   "id": "4c66f442-0f19-4514-a7e3-9e2b82dc8cce",
   "metadata": {},
   "outputs": [],
   "source": [
    "vol.shape"
   ]
  },
  {
   "cell_type": "code",
   "execution_count": null,
   "id": "e848fdb9-451f-42cc-b9e4-e9d32d7b89c5",
   "metadata": {},
   "outputs": [],
   "source": [
    "np.max(vol)"
   ]
  },
  {
   "cell_type": "code",
   "execution_count": null,
   "id": "e1300d56-7859-433c-a584-85c658e9def7",
   "metadata": {},
   "outputs": [],
   "source": [
    "np.min(vol)"
   ]
  },
  {
   "cell_type": "code",
   "execution_count": null,
   "id": "3c33b0cf-f740-4270-8707-7d0fb9d9e928",
   "metadata": {},
   "outputs": [],
   "source": [
    "#Z_dim = vol.shape[0]\n",
    "#Z2 = Z_dim//2\n",
    "#plt.imshow(vol[Z2], cmap=\"gray\")"
   ]
  },
  {
   "cell_type": "code",
   "execution_count": null,
   "id": "20afb951-94bd-4048-a631-52cb02a52520",
   "metadata": {},
   "outputs": [],
   "source": [
    "freq, c_avg = fsc.get_SFSC_curve(vol)"
   ]
  },
  {
   "cell_type": "code",
   "execution_count": null,
   "id": "9522fa1b-b088-41f8-8d8f-b6d0b933057e",
   "metadata": {},
   "outputs": [],
   "source": [
    "plt.title(vol_name)\n",
    "plt.xlabel(\"Spatial Frequency\")\n",
    "plt.ylabel(\"Self Fourier Shell Correlation\")\n",
    "plt.plot(freq, c_avg)\n",
    "plt.savefig(vol_name + \".svg\")\n",
    "plt.show()"
   ]
  },
  {
   "cell_type": "code",
   "execution_count": null,
   "id": "7f4cb9a6-7153-4aa2-8a7e-258f102bd951",
   "metadata": {},
   "outputs": [],
   "source": [
    "curve = []\n",
    "sigmas = range(0, 100, 10)\n",
    "N = 10\n",
    "for i in sigmas:\n",
    "    total_c_avg = 0\n",
    "    for j in range(N):\n",
    "        noise = utils.gaussian_noise(vol.shape, sigma=i/100)\n",
    "        noisy_vol = vol + noise\n",
    "        freq, c_avg = fsc.get_SFSC_curve(noisy_vol)\n",
    "        total_c_avg += c_avg\n",
    "    curve.append(total_c_avg/N)\n",
    "    print(i, end=' ')"
   ]
  },
  {
   "cell_type": "code",
   "execution_count": null,
   "id": "487f8318-842c-4030-ab08-aa7b9b5bbc60",
   "metadata": {},
   "outputs": [],
   "source": [
    "plt.title(\"Phantom01 + Gaussian Noise\")\n",
    "plt.xlabel(\"Spatial Frequency\")\n",
    "plt.ylabel(\"Self Fourier Shell Correlation\")\n",
    "for i in range(len(sigmas)):\n",
    "    plt.plot(freq, curve[i], label=f\"$\\sigma={sigmas[i]/100}$\")\n",
    "plt.legend(loc='upper right')\n",
    "plt.savefig(\"Gaussian_noise.svg\")\n",
    "plt.show()"
   ]
  },
  {
   "cell_type": "markdown",
   "id": "4e2f656f-8672-46a6-9e23-a7f9cbc37c64",
   "metadata": {},
   "source": [
    "Noise reduces the maximum spatial frequency that can be discerned."
   ]
  }
 ],
 "metadata": {
  "kernelspec": {
   "display_name": "Python 3 (ipykernel)",
   "language": "python",
   "name": "python3"
  },
  "language_info": {
   "codemirror_mode": {
    "name": "ipython",
    "version": 3
   },
   "file_extension": ".py",
   "mimetype": "text/x-python",
   "name": "python",
   "nbconvert_exporter": "python",
   "pygments_lexer": "ipython3",
   "version": "3.12.2"
  }
 },
 "nbformat": 4,
 "nbformat_minor": 5
}
