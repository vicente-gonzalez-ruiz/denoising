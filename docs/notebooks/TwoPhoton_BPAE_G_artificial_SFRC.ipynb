{
 "cells": [
  {
   "cell_type": "code",
   "execution_count": null,
   "id": "a7ca4c3c-bae9-4612-b1fd-d963b3835529",
   "metadata": {},
   "outputs": [],
   "source": [
    "import time\n",
    "from collections import namedtuple\n",
    "try:\n",
    "    from skimage import io as skimage_io\n",
    "except:\n",
    "    !pip install scikit-image\n",
    "    from skimage import io as skimage_io\n",
    "from self_fourier_shell_correlation import fsc_utils as fsc\n",
    "import numpy as np\n",
    "import matplotlib.pyplot as plt\n",
    "import utils"
   ]
  },
  {
   "cell_type": "code",
   "execution_count": null,
   "id": "8c9ebd33-bc6c-452e-98cd-d69b16c0d95e",
   "metadata": {},
   "outputs": [],
   "source": [
    "# apt install cm-super-minimal\n",
    "# apt install dvipng\n",
    "plt.rcParams.update({\n",
    "    \"text.usetex\": True,\n",
    "    #\"font.family\": \"Helvetica\",\n",
    "    \"font.family\": \"Serif\",\n",
    "    \"text.latex.preamble\": r\"\\usepackage{amsmath} \\usepackage{amsfonts}\"\n",
    "})"
   ]
  },
  {
   "cell_type": "code",
   "execution_count": null,
   "id": "bafb498d-a59d-47e6-85fd-92ec6c0b38a7",
   "metadata": {},
   "outputs": [],
   "source": [
    "Args = namedtuple(\"args\", \"input\")\n",
    "args = Args(\"http://www.hpca.ual.es/~vruiz/images/FDM/TwoPhoton_BPAE_G.png\")"
   ]
  },
  {
   "cell_type": "code",
   "execution_count": null,
   "id": "737b38ba-3d36-463d-9d16-8d4c7d0cb906",
   "metadata": {},
   "outputs": [],
   "source": [
    "X = skimage_io.imread(args.input)  # Ground Truth\n",
    "STD_DEV = 40\n",
    "GAMMA = 1.5\n",
    "POISSON_RATIO = 0.5\n",
    "X1 = utils.generate_MPGN(X, std_dev=STD_DEV, gamma=GAMMA, poisson_ratio=POISSON_RATIO).reshape(X.shape)\n",
    "X2 = utils.generate_MPGN(X, std_dev=STD_DEV, gamma=GAMMA, poisson_ratio=POISSON_RATIO).reshape(X.shape)\n",
    "X3 = utils.generate_MPGN(X, std_dev=STD_DEV, gamma=GAMMA, poisson_ratio=POISSON_RATIO).reshape(X.shape)\n",
    "X4 = utils.generate_MPGN(X, std_dev=STD_DEV, gamma=GAMMA, poisson_ratio=POISSON_RATIO).reshape(X.shape)"
   ]
  },
  {
   "cell_type": "code",
   "execution_count": null,
   "id": "eff412dd-c1af-45ba-9616-7f2002154702",
   "metadata": {},
   "outputs": [],
   "source": [
    "freq, SCBS_c_avg = fsc.get_SFRC_curve__subsampled_chessboard(X1)\n",
    "len(freq)"
   ]
  },
  {
   "cell_type": "code",
   "execution_count": null,
   "id": "f6d815ca-31d2-4c42-963a-c24980bb981a",
   "metadata": {},
   "outputs": [],
   "source": [
    "r = X1.shape[0] // 2\n",
    "voxel = 1\n",
    "freq = fsc.get_radial_spatial_frequencies(X1, voxel, mode='full')\n",
    "sfsc = np.mean(fsc.single_image_frc(X1, r), axis=0)\n",
    "sfsc_adjusted = 2*sfsc / (1 + sfsc)\n",
    "_, c_avg = fsc.get_SFRC_curve__even_odd(X1)"
   ]
  },
  {
   "cell_type": "code",
   "execution_count": null,
   "id": "3c4248f9-9d46-423e-87fa-a254f6c0c8fb",
   "metadata": {},
   "outputs": [],
   "source": [
    "cmap_a = [plt.get_cmap('tab20c').colors[idx] for idx in [0, 4, 8, 12]]\n",
    "cmap_b = [plt.get_cmap('tab20c').colors[idx] for idx in [2, 6, 10, 12]]\n",
    "plt.figure(figsize=(5,4))\n",
    "plt.plot(freq, sfsc, linewidth=2, label='SFSC')\n",
    "plt.plot(freq, sfsc_adjusted, linewidth=2, label='SFSC (adjusted)')\n",
    "plt.plot(freq, c_avg, linewidth=1, label='?')\n",
    "plt.rc('axes', labelsize=12)\n",
    "plt.rc('xtick', labelsize=10)\n",
    "plt.rc('ytick', labelsize=10)\n",
    "plt.rc('legend', fontsize=10)\n",
    "plt.grid(which='major', linestyle='--')\n",
    "plt.xlabel('spatial frequency 'r'(${\\AA}^{-1}$)', labelpad=-1.5)\n",
    "plt.title('Fourier shell correlation')\n",
    "plt.legend(loc='lower left')\n",
    "# plt.savefig('')\n",
    "plt.show()"
   ]
  },
  {
   "cell_type": "code",
   "execution_count": null,
   "id": "27ae14a6-96f2-47d5-84cc-a5b76e1a9db9",
   "metadata": {},
   "outputs": [],
   "source": [
    "EOS_freq, EOS_c_avg = fsc.get_SFRC_curve__even_odd(X1)\n",
    "len(freq)"
   ]
  },
  {
   "cell_type": "code",
   "execution_count": null,
   "id": "760408c9-49e6-4a50-a00b-6c0f7130b1d0",
   "metadata": {},
   "outputs": [],
   "source": [
    "CBS_freq, CBS_c_avg = fsc.get_SFRC_curve__chessboard(X1)"
   ]
  },
  {
   "cell_type": "code",
   "execution_count": null,
   "id": "4c8c37d1-2661-449b-9d58-23289bdc76ae",
   "metadata": {},
   "outputs": [],
   "source": [
    "ICBS_freq, ICBS_c_avg = fsc.get_SFRC_curve__interpolated_chessboard(X1)"
   ]
  },
  {
   "cell_type": "code",
   "execution_count": null,
   "id": "3bc45705-96e3-41ab-8901-4d3778477f3a",
   "metadata": {},
   "outputs": [],
   "source": [
    "#freq, SPRS2_c_avg = fsc.get_SFRC_curve__SPRS2(X1)"
   ]
  },
  {
   "cell_type": "code",
   "execution_count": null,
   "id": "9f71ed2e-37d1-4b8c-8485-5c451bd17f53",
   "metadata": {},
   "outputs": [],
   "source": [
    "FRC_freq, FRC_c_avg_1 = fsc.get_FSC_curve(X1, X2)\n",
    "FRC_freq, FRC_c_avg_2 = fsc.get_FSC_curve(X3, X4)\n",
    "FRC_c_avg = (FRC_c_avg_1 + FRC_c_avg_2) / 2"
   ]
  },
  {
   "cell_type": "code",
   "execution_count": null,
   "id": "92df0de4-4d75-4eb4-a938-f80ab274de4e",
   "metadata": {},
   "outputs": [],
   "source": [
    "SCBS_freq, SCBS_c_avg = fsc.get_SFRC_curve__subsampled_chessboard(X1)\n",
    "print(len(freq), len(SCBS_c_avg))"
   ]
  },
  {
   "cell_type": "code",
   "execution_count": null,
   "id": "dd5da4bd-d09f-4466-9994-8887df9877ef",
   "metadata": {},
   "outputs": [],
   "source": [
    "SPRS_freq, SPRS_c_avg = fsc.get_SFRC_curve__SPRS(image=X1, std_dev=2.0, sigma_poly=1.0, window_side=5)"
   ]
  },
  {
   "cell_type": "code",
   "execution_count": null,
   "id": "546e14c7-e892-45ca-bdc6-4e709345e59c",
   "metadata": {},
   "outputs": [],
   "source": [
    "plt.plot(EOS_freq, EOS_c_avg, linewidth=1, label=\"EOS\")\n",
    "plt.plot(CBS_freq, CBS_c_avg, linewidth=1, label=\"CBS\")\n",
    "plt.plot(ICBS_freq, ICBS_c_avg, linewidth=1, label=\"ICBS\")\n",
    "plt.plot(SCBS_freq, SCBS_c_avg, linewidth=1, label=\"SCBS\")\n",
    "plt.plot(SPRS_freq, SPRS_c_avg, linewidth=1, label=\"SPRS\")\n",
    "#plt.plot(freq, SPRS2_c_avg, linewidth=1, label=\"SPRS2\")\n",
    "plt.plot(freq, FRC_c_avg, linewidth=2, label=\"True FRC\")\n",
    "plt.grid(which=\"major\", linestyle=\"--\")\n",
    "plt.xlabel(r\"$f/f_s$\")\n",
    "plt.ylabel(r\"\\text{SFRC}\")\n",
    "plt.title(r\"$\\mathrm{TwoPhoton\\_BPAE\\_G\\_artificial}$\")\n",
    "plt.legend()\n",
    "plt.savefig('TwoPhoton_G_artificial_SFRC.pdf', bbox_inches='tight')\n",
    "plt.show()"
   ]
  },
  {
   "cell_type": "code",
   "execution_count": null,
   "id": "8383433a-9ec3-4b97-8abe-4cc2a8da78ce",
   "metadata": {},
   "outputs": [],
   "source": [
    "import pandas as pd  # For easy rolling mean calculation\n",
    "def smooth_curve(data, window_size):\n",
    "    series = pd.Series(data)\n",
    "    smoothed = series.rolling(window=window_size, center=True).mean()\n",
    "    # Handle NaN values at the edges by filling with the original values\n",
    "    smoothed = smoothed.fillna(series)\n",
    "    return smoothed.to_numpy()\n",
    "\n",
    "window = 5  # Adjust this value to control the smoothing strength"
   ]
  },
  {
   "cell_type": "code",
   "execution_count": null,
   "id": "7f082cc9-cb4f-4701-9208-f194c34cc7a0",
   "metadata": {},
   "outputs": [],
   "source": [
    "plt.plot(EOS_freq, smooth_curve(EOS_c_avg, window), linewidth=1, label=\"EOS\")\n",
    "plt.plot(CBS_freq, smooth_curve(CBS_c_avg, window), linewidth=1, label=\"CBS\")\n",
    "plt.plot(ICBS_freq, smooth_curve(ICBS_c_avg, window), linewidth=1, label=\"ICBS\")\n",
    "plt.plot(SCBS_freq, smooth_curve(SCBS_c_avg, window), linewidth=1, label=\"SCBS\")\n",
    "plt.plot(SPRS_freq, smooth_curve(SPRS_c_avg, window), linewidth=1, label=\"SPRS\")\n",
    "#plt.plot(freq, smooth_curve(SPRS2_c_avg, window), linewidth=1, label=\"SPRS2\")\n",
    "plt.plot(FRC_freq, smooth_curve(FRC_c_avg, window), linewidth=2, label=\"True FRC\")\n",
    "plt.grid(which=\"major\", linestyle=\"--\")\n",
    "plt.xlabel(r\"$f/f_s$\")\n",
    "plt.ylabel(r\"$\\text{SFRC (smoothed)}$\")\n",
    "plt.title(r\"$\\mathrm{TwoPhoton\\_BPAE\\_G\\_artificial}$\")\n",
    "plt.legend()\n",
    "plt.savefig('TwoPhoton_BPAE_G_artificial_SFRC.pdf', bbox_inches='tight')\n",
    "plt.show()"
   ]
  },
  {
   "cell_type": "code",
   "execution_count": null,
   "id": "3bc28c16-d54e-41bd-88c6-d0b56e2877e3",
   "metadata": {},
   "outputs": [],
   "source": []
  }
 ],
 "metadata": {
  "kernelspec": {
   "display_name": "Python 3 (ipykernel)",
   "language": "python",
   "name": "python3"
  },
  "language_info": {
   "codemirror_mode": {
    "name": "ipython",
    "version": 3
   },
   "file_extension": ".py",
   "mimetype": "text/x-python",
   "name": "python",
   "nbconvert_exporter": "python",
   "pygments_lexer": "ipython3",
   "version": "3.12.2"
  }
 },
 "nbformat": 4,
 "nbformat_minor": 5
}
