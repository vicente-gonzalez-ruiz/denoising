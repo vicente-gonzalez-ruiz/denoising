{
 "cells": [
  {
   "cell_type": "markdown",
   "id": "a2bdaed7-8902-4e59-b262-69f1e175dc9b",
   "metadata": {},
   "source": [
    "# Even/Odd split"
   ]
  },
  {
   "cell_type": "code",
   "execution_count": null,
   "id": "ab83d22d-121d-46eb-a65d-9c64083b35b8",
   "metadata": {},
   "outputs": [],
   "source": [
    "import mrcfile\n",
    "from collections import namedtuple"
   ]
  },
  {
   "cell_type": "code",
   "execution_count": null,
   "id": "52368028-b972-4926-8c4d-010cc17d5e1f",
   "metadata": {},
   "outputs": [],
   "source": [
    "Args = namedtuple(\"args\", [\"input\", \"even_output\", \"odd_output\"])\n",
    "args = Args(\"/nas/vruiz/cryoCARE/epfl1/epfl1_subset1_float.mrc\", \"/nas/vruiz/cryoCARE/epfl1/even.mrc\", \"/nas/vruiz/cryoCARE/epfl1/odd.mrc\")"
   ]
  },
  {
   "cell_type": "code",
   "execution_count": null,
   "id": "7b0e9d25-97d8-42fd-a88c-872a7a43f605",
   "metadata": {},
   "outputs": [],
   "source": [
    "vol_MRC = mrcfile.open(args.input)\n",
    "noisy = vol_MRC.data\n",
    "print(f\"noisy.shape={noisy.shape}\")\n",
    "\n",
    "print(\"Writing\", args.even_output)\n",
    "with mrcfile.new(args.even_output, overwrite=True) as mrc:\n",
    "    print(f\"noisy[0::2,:,:].shape={noisy[0::2,:,:].shape}\")\n",
    "    mrc.set_data(noisy[0::2,:,:])\n",
    "    mrc.data\n",
    "\n",
    "print(\"Writing\", args.odd_output)\n",
    "with mrcfile.new(args.odd_output, overwrite=True) as mrc:\n",
    "    print(f\"noisy[1::2,:,:].shape={noisy[1::2,:,:].shape}\")\n",
    "    mrc.set_data(noisy[1::2,:,:])\n",
    "    mrc.data"
   ]
  }
 ],
 "metadata": {
  "kernelspec": {
   "display_name": "Python 3 (ipykernel)",
   "language": "python",
   "name": "python3"
  },
  "language_info": {
   "codemirror_mode": {
    "name": "ipython",
    "version": 3
   },
   "file_extension": ".py",
   "mimetype": "text/x-python",
   "name": "python",
   "nbconvert_exporter": "python",
   "pygments_lexer": "ipython3",
   "version": "3.10.10"
  }
 },
 "nbformat": 4,
 "nbformat_minor": 5
}
