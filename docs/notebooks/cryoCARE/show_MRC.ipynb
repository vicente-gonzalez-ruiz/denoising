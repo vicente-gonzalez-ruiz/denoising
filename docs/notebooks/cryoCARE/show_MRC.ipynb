{
 "cells": [
  {
   "cell_type": "code",
   "execution_count": 8,
   "id": "ee453f01-ebcb-46e0-9527-11f099f57dea",
   "metadata": {},
   "outputs": [],
   "source": [
    "import mrcfile\n",
    "import numpy as np\n",
    "import matplotlib.pyplot as plt\n",
    "from ipywidgets import interact, IntSlider"
   ]
  },
  {
   "cell_type": "code",
   "execution_count": 20,
   "id": "24d5e459-fe6b-46e9-98ea-2cfd4f6bd3f7",
   "metadata": {},
   "outputs": [
    {
     "name": "stdout",
     "output_type": "stream",
     "text": [
      "File loaded successfully: /nas/vruiz/cryoCARE/epfl1/denoised/epfl1_subset1_float.mrc\n",
      "Data shape (Z, Y, X): (150, 768, 1024)\n",
      "Data type: float32\n",
      "Voxel size (Å): (1.00, 1.00, 1.00)\n",
      "File loaded successfully: /nas/vruiz/cryoCARE/epfl1/denoised_projected/epfl1_subset1_float.mrc\n",
      "Data shape (Z, Y, X): (150, 768, 1024)\n",
      "Data type: float32\n",
      "Voxel size (Å): (1.00, 1.00, 1.00)\n"
     ]
    }
   ],
   "source": [
    "# Define the filename\n",
    "original_file_path = '/nas/vruiz/cryoCARE/epfl1/epfl1_subset1_float.mrc'\n",
    "processed_file_path = '/nas/vruiz/cryoCARE/epfl1/projected_volume.mrc'\n",
    "\n",
    "original_file_path = '/nas/vruiz/cryoCARE/epfl1/denoised/epfl1_subset1_float.mrc'\n",
    "processed_file_path = '/nas/vruiz/cryoCARE/epfl1/denoised_projected/projected_volume.mrc'\n",
    "\n",
    "original_file_path = '/nas/vruiz/cryoCARE/epfl1/denoised/epfl1_subset1_float.mrc'\n",
    "processed_file_path = '/nas/vruiz/cryoCARE/epfl1/denoised_projected/epfl1_subset1_float.mrc'\n",
    "\n",
    "# Open original\n",
    "try:\n",
    "    with mrcfile.open(original_file_path) as mrc:\n",
    "        # Get the data as a NumPy array\n",
    "        original_volume_data = mrc.data\n",
    "        \n",
    "        # Print header information\n",
    "        print(f\"File loaded successfully: {original_file_path}\")\n",
    "        print(f\"Data shape (Z, Y, X): {original_volume_data.shape}\")\n",
    "        print(f\"Data type: {original_volume_data.dtype}\")\n",
    "        print(f\"Voxel size (Å): ({mrc.voxel_size.x:.2f}, {mrc.voxel_size.y:.2f}, {mrc.voxel_size.z:.2f})\")\n",
    "\n",
    "except FileNotFoundError:\n",
    "    print(f\"Error: The file {original_file_path} was not found.\")\n",
    "except Exception as e:\n",
    "    print(f\"An error occurred: {e}\")\n",
    "\n",
    "# Open processed\n",
    "try:\n",
    "    with mrcfile.open(processed_file_path) as mrc:\n",
    "        # Get the data as a NumPy array\n",
    "        processed_volume_data = mrc.data\n",
    "        \n",
    "        # Print header information\n",
    "        print(f\"File loaded successfully: {processed_file_path}\")\n",
    "        print(f\"Data shape (Z, Y, X): {processed_volume_data.shape}\")\n",
    "        print(f\"Data type: {processed_volume_data.dtype}\")\n",
    "        print(f\"Voxel size (Å): ({mrc.voxel_size.x:.2f}, {mrc.voxel_size.y:.2f}, {mrc.voxel_size.z:.2f})\")\n",
    "\n",
    "except FileNotFoundError:\n",
    "    print(f\"Error: The file {processed_file_path} was not found.\")\n",
    "except Exception as e:\n",
    "    print(f\"An error occurred: {e}\")"
   ]
  },
  {
   "cell_type": "code",
   "execution_count": 21,
   "id": "3734e4c1-ae28-492a-b29a-7480461990f7",
   "metadata": {},
   "outputs": [],
   "source": [
    "# Define the plotting function to show two slices side-by-side\n",
    "def view_slices_side_by_side(z_index):\n",
    "    \"\"\"Plots the z_index slice from both the original and processed volumes.\"\"\"\n",
    "        \n",
    "    # Create a figure with two subplots, sharing the Y-axis for synced zooming\n",
    "    #fig, (ax1, ax2) = plt.subplots(1, 2, figsize=(18, 9), sharey=True)\n",
    "    fig, (ax1, ax2) = plt.subplots(1, 2, figsize=(20, 20), sharey=True)\n",
    "    # --- Plot Original Slice ---\n",
    "    ax1.imshow(original_volume_data[z_index, :, :].T, cmap='gray', origin='lower')\n",
    "    ax1.set_title(f'Original', fontsize=16)\n",
    "    ax1.set_xlabel('X-axis')\n",
    "    ax1.set_ylabel('Y-axis')\n",
    "    ax1.grid(False)\n",
    "        \n",
    "    # --- Plot processed Slice ---\n",
    "    ax2.imshow(processed_volume_data[z_index, :, :].T, cmap='gray', origin='lower')\n",
    "    ax2.set_title(f'Processed', fontsize=16)\n",
    "    ax2.set_xlabel('X-axis')\n",
    "    ax2.grid(False)\n",
    "\n",
    "    # Add a main title for the whole figure\n",
    "    #fig.suptitle(f'Comparing Slices at Z = {z_index}', fontsize=20)\n",
    "        \n",
    "    # Adjust layout to prevent titles from overlapping\n",
    "    plt.tight_layout()\n",
    "    plt.show()"
   ]
  },
  {
   "cell_type": "code",
   "execution_count": 22,
   "id": "56f5e126-45d1-4168-8574-4f94db0db7d1",
   "metadata": {},
   "outputs": [
    {
     "data": {
      "application/vnd.jupyter.widget-view+json": {
       "model_id": "d9612557693f44aeb1c523b6ee5be4af",
       "version_major": 2,
       "version_minor": 0
      },
      "text/plain": [
       "interactive(children=(IntSlider(value=75, continuous_update=False, description='Z Slice:', layout=Layout(width…"
      ]
     },
     "metadata": {},
     "output_type": "display_data"
    }
   ],
   "source": [
    "# Ensure volume_data was loaded before proceeding\n",
    "if 'original_volume_data' in locals() and 'processed_volume_data' in locals():\n",
    "    # Get the number of slices along the Z-axis\n",
    "    num_z_slices = original_volume_data.shape[0]\n",
    "\n",
    "    interact(\n",
    "        view_slices_side_by_side,\n",
    "        z_index=IntSlider(\n",
    "            min=0,\n",
    "            max=original_volume_data.shape[0] - 1,\n",
    "            step=1,\n",
    "            value=original_volume_data.shape[0] // 2, # Start at the middle slice\n",
    "            description='Z Slice:',\n",
    "            continuous_update=False, # Update only when the slider is released\n",
    "            layout={'width': '500px'}\n",
    "        )\n",
    "    );\n",
    "\n",
    "else:\n",
    "    print(\"Volume data not loaded. Please ensure Step 4 ran correctly.\")"
   ]
  },
  {
   "cell_type": "code",
   "execution_count": null,
   "id": "1a1e7bd4-329e-410c-81a1-7802be735ffe",
   "metadata": {},
   "outputs": [],
   "source": []
  }
 ],
 "metadata": {
  "kernelspec": {
   "display_name": "Python 3 (ipykernel)",
   "language": "python",
   "name": "python3"
  },
  "language_info": {
   "codemirror_mode": {
    "name": "ipython",
    "version": 3
   },
   "file_extension": ".py",
   "mimetype": "text/x-python",
   "name": "python",
   "nbconvert_exporter": "python",
   "pygments_lexer": "ipython3",
   "version": "3.10.10"
  }
 },
 "nbformat": 4,
 "nbformat_minor": 5
}
