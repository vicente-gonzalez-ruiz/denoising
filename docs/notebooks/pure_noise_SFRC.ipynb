{
 "cells": [
  {
   "cell_type": "markdown",
   "metadata": {
    "editable": true,
    "id": "QqfKxC0KuCzK",
    "slideshow": {
     "slide_type": ""
    },
    "tags": []
   },
   "source": [
    "# Pure noise SFRC"
   ]
  },
  {
   "cell_type": "code",
   "execution_count": null,
   "metadata": {
    "id": "IIUxh4uStrQJ"
   },
   "outputs": [],
   "source": [
    "import time\n",
    "from collections import namedtuple\n",
    "\n",
    "try:\n",
    "    import numpy as np\n",
    "except:\n",
    "    !pip install numpy\n",
    "    import numpy as np\n",
    "\n",
    "import scipy.ndimage\n",
    "\n",
    "try:\n",
    "    import matplotlib\n",
    "    import matplotlib.pyplot as plt\n",
    "    import matplotlib.ticker as mticker\n",
    "except:\n",
    "    !pip install matplotlib\n",
    "    import matplotlib\n",
    "    import matplotlib.pyplot as plt\n",
    "    import matplotlib.ticker as mticker\n",
    "\n",
    "try:\n",
    "    from skimage import io as skimage_io\n",
    "except:\n",
    "    !pip install scikit-image\n",
    "    from skimage import io as skimage_io\n",
    "\n",
    "try:\n",
    "    import information_theory as IT\n",
    "except:\n",
    "    !pip install \"information_theory @ git+https://github.com/vicente-gonzalez-ruiz/information_theory\"\n",
    "    import information_theory as IT\n",
    "\n",
    "import utils        #freq, c_avg = fsc.get_SFRC_curve(denoised)\n",
    "        #first_half = c_avg[:len(c_avg)>>1]\n",
    "        #SFRC_curve.append(first_half)\n",
    "        #plt.imshow(denoised, cmap=\"gray\")\n",
    "        #plt.show()\n",
    "        #input()\n",
    "\n",
    "from scipy.ndimage import gaussian_filter1d"
   ]
  },
  {
   "cell_type": "code",
   "execution_count": null,
   "metadata": {},
   "outputs": [],
   "source": [
    "# apt install cm-super-minimal\n",
    "# apt install dvipng\n",
    "plt.rcParams.update({\n",
    "    \"text.usetex\": True,\n",
    "    #\"font.family\": \"Helvetica\",\n",
    "    \"font.family\": \"Serif\",\n",
    "    \"text.latex.preamble\": r\"\\usepackage{amsmath} \\usepackage{amsfonts}\"\n",
    "})"
   ]
  },
  {
   "cell_type": "code",
   "execution_count": null,
   "metadata": {},
   "outputs": [],
   "source": [
    "import logging\n",
    "logging.basicConfig(format=\"[%(filename)s:%(lineno)s %(funcName)s()] %(message)s\")\n",
    "logger = logging.getLogger(__name__)\n",
    "logger.setLevel(logging.WARNING)"
   ]
  },
  {
   "cell_type": "code",
   "execution_count": null,
   "metadata": {},
   "outputs": [],
   "source": [
    "try:\n",
    "    from self_fourier_shell_correlation import fsc_utils as fsc\n",
    "except:\n",
    "    !pip install \"self_fourier_shell_correlation @ git+https://github.com/vicente-gonzalez-ruiz/self_fourier_shell_correlation\"\n",
    "    from self_fourier_shell_correlation import fsc_utils as fsc"
   ]
  },
  {
   "cell_type": "code",
   "execution_count": null,
   "metadata": {},
   "outputs": [],
   "source": [
    "rows = 512\n",
    "cols = 512\n",
    "avg = 128\n",
    "X = np.full((rows, cols), avg)\n",
    "utils.imshow(X)\n",
    "print(X[256,256])"
   ]
  },
  {
   "cell_type": "code",
   "execution_count": null,
   "metadata": {},
   "outputs": [],
   "source": [
    "Args = namedtuple(\"args\", [\"X\", \"Y\"])\n",
    "args = Args(\"http://www.hpca.ual.es/~vruiz/images/barb.png\", \"barb_0MMPG.png\")\n",
    "#X = skimage_io.imread(args.X)"
   ]
  },
  {
   "cell_type": "code",
   "execution_count": null,
   "metadata": {},
   "outputs": [],
   "source": [
    "#poisson_ratio = 1.0\n",
    "poisson_ratio = 0.5\n",
    "gamma = 0.15\n",
    "#std_dev = 0\n",
    "\n",
    "freq_2, c_avg_Y_2 = fsc.get_SFRC_curve__SPRS(X, std_dev=1)\n",
    "filtered_c_avg_Y_2 = gaussian_filter1d(c_avg_Y_2, sigma=5)\n",
    "plt.plot(freq_2, filtered_c_avg_Y_2, label=\"No noise\")\n",
    "\n",
    "for std_dev in range(0, 300, 40):\n",
    "#for gamma in range(10, 100, 10):\n",
    "    Y = utils.generate_MPGN(X, std_dev, gamma/1000, poisson_ratio)\n",
    "    #freq_1, c_avg_Y_1 = fsc.get_SFRC_curve__even_odd(Y)\n",
    "    freq_2, c_avg_Y_2 = fsc.get_SFRC_curve__SPRS(Y, std_dev=3)\n",
    "    #plt.plot(freq_1, c_avg_Y_1, label=\"OE\")\n",
    "    #filtered_c_avg_Y_1 = gaussian_filter1d(c_avg_Y_1, sigma=5)\n",
    "    #plt.plot(freq_1, filtered_c_avg_Y_1)\n",
    "\n",
    "    #plt.plot(freq_2, c_avg_Y_2, label=\"RS\")\n",
    "    filtered_c_avg_Y_2 = gaussian_filter1d(c_avg_Y_2, sigma=5)\n",
    "    plt.plot(freq_2, filtered_c_avg_Y_2, label=rf\"$\\sigma={std_dev}$\")\n",
    "\n",
    "plt.legend()\n",
    "plt.show()\n",
    "plt.savefig(\"pure_noise_SFRC_SPRS.pdf\", bbox_inches='tight')"
   ]
  },
  {
   "cell_type": "code",
   "execution_count": null,
   "metadata": {},
   "outputs": [],
   "source": [
    "poisson_ratio = 0.5\n",
    "gamma = 0.15\n",
    "for std_dev in range(0, 200, 20):\n",
    "    Y = utils.generate_MPGN(X, std_dev, gamma, poisson_ratio)\n",
    "    freq_1, c_avg_Y_1 = fsc.get_SFRC_curve__even_odd(Y)\n",
    "    #freq_2, c_avg_Y_2 = fsc.get_SFRC_curve__random_shuffling(Y, std_dev=5)\n",
    "    #plt.plot(freq_1, c_avg_Y_1, label=\"OE\")\n",
    "    filtered_c_avg_Y_1 = gaussian_filter1d(c_avg_Y_1, sigma=5)\n",
    "    plt.plot(freq_1, filtered_c_avg_Y_1, label=rf\"$\\sigma={std_dev}$\")\n",
    "\n",
    "    #plt.plot(freq_2, c_avg_Y_2, label=\"RS\")\n",
    "    #filtered_c_avg_Y_2 = gaussian_filter1d(c_avg_Y_2, sigma=5)\n",
    "    #plt.plot(freq_2, filtered_c_avg_Y_2)\n",
    "\n",
    "plt.legend()\n",
    "plt.show()\n",
    "plt.savefig(\"pure_noise_SFRC_EO.pdf\", bbox_inches='tight')"
   ]
  },
  {
   "cell_type": "code",
   "execution_count": null,
   "metadata": {},
   "outputs": [],
   "source": [
    "poisson_ratio = 0.5\n",
    "gamma = 0.15\n",
    "for std_dev in range(0, 200, 20):\n",
    "    Y = utils.generate_MPGN(X, std_dev, gamma, poisson_ratio)\n",
    "    freq_1, c_avg_Y_1 = fsc.get_SFRC_curve__chessboard(Y)\n",
    "    #freq_2, c_avg_Y_2 = fsc.get_SFRC_curve__random_shuffling(Y, std_dev=5)\n",
    "    #plt.plot(freq_1, c_avg_Y_1, label=\"OE\")\n",
    "    filtered_c_avg_Y_1 = gaussian_filter1d(c_avg_Y_1, sigma=5)\n",
    "    plt.plot(freq_1, filtered_c_avg_Y_1, label=rf\"$\\sigma={std_dev}$\")\n",
    "\n",
    "    #plt.plot(freq_2, c_avg_Y_2, label=\"RS\")\n",
    "    #filtered_c_avg_Y_2 = gaussian_filter1d(c_avg_Y_2, sigma=5)\n",
    "    #plt.plot(freq_2, filtered_c_avg_Y_2)\n",
    "#print(freq_1)\n",
    "#plt.ylim(-5, 5)\n",
    "plt.legend()\n",
    "plt.show()\n",
    "plt.savefig(\"pure_noise_SFRC_EO.pdf\", bbox_inches='tight')"
   ]
  },
  {
   "cell_type": "code",
   "execution_count": null,
   "metadata": {},
   "outputs": [],
   "source": [
    "poisson_ratio = 0.5\n",
    "gamma = 0.15\n",
    "for std_dev in range(0, 200, 20):\n",
    "    Y = utils.generate_MPGN(X, std_dev, gamma, poisson_ratio)\n",
    "    freq_1, c_avg_Y_1 = fsc.get_SFRC_curve__chessboard(Y)\n",
    "    #freq_2, c_avg_Y_2 = fsc.get_SFRC_curve__random_shuffling(Y, std_dev=5)\n",
    "    #plt.plot(freq_1, c_avg_Y_1, label=\"OE\")\n",
    "    filtered_c_avg_Y_1 = gaussian_filter1d(c_avg_Y_1, sigma=5)\n",
    "    plt.plot(freq_1, filtered_c_avg_Y_1, label=rf\"$\\sigma={std_dev}$\")\n",
    "\n",
    "    #plt.plot(freq_2, c_avg_Y_2, label=\"RS\")\n",
    "    #filtered_c_avg_Y_2 = gaussian_filter1d(c_avg_Y_2, sigma=5)\n",
    "    #plt.plot(freq_2, filtered_c_avg_Y_2)\n",
    "#print(freq_1)\n",
    "#plt.ylim(-5, 5)\n",
    "plt.legend()\n",
    "plt.show()\n",
    "plt.savefig(\"pure_noise_SFRC_EO.pdf\", bbox_inches='tight')"
   ]
  },
  {
   "cell_type": "code",
   "execution_count": null,
   "metadata": {},
   "outputs": [],
   "source": []
  }
 ],
 "metadata": {
  "colab": {
   "collapsed_sections": [],
   "name": "gaussian_denoising.ipynb",
   "provenance": []
  },
  "kernelspec": {
   "display_name": "Python 3 (ipykernel)",
   "language": "python",
   "name": "python3"
  },
  "language_info": {
   "codemirror_mode": {
    "name": "ipython",
    "version": 3
   },
   "file_extension": ".py",
   "mimetype": "text/x-python",
   "name": "python",
   "nbconvert_exporter": "python",
   "pygments_lexer": "ipython3",
   "version": "3.12.2"
  }
 },
 "nbformat": 4,
 "nbformat_minor": 4
}
