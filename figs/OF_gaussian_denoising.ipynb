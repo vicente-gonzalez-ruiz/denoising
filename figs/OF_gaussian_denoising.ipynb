{
 "cells": [
  {
   "cell_type": "markdown",
   "metadata": {
    "editable": true,
    "id": "QqfKxC0KuCzK",
    "slideshow": {
     "slide_type": ""
    },
    "tags": []
   },
   "source": [
    "# OF-drive Gaussian image denoising"
   ]
  },
  {
   "cell_type": "code",
   "execution_count": null,
   "metadata": {},
   "outputs": [],
   "source": [
    "local_debug = True"
   ]
  },
  {
   "cell_type": "code",
   "execution_count": null,
   "metadata": {
    "id": "IIUxh4uStrQJ"
   },
   "outputs": [],
   "source": [
    "import time\n",
    "from collections import namedtuple\n",
    "\n",
    "try:\n",
    "    import numpy as np\n",
    "except:\n",
    "    !pip install numpy\n",
    "    import numpy as np\n",
    "\n",
    "import scipy.ndimage\n",
    "\n",
    "try:\n",
    "    import matplotlib\n",
    "    import matplotlib.pyplot as plt\n",
    "    import matplotlib.ticker as mticker\n",
    "except:\n",
    "    !pip install matplotlib\n",
    "    import matplotlib\n",
    "    import matplotlib.pyplot as plt\n",
    "    import matplotlib.ticker as mticker\n",
    "\n",
    "#from ipywidgets import *\n",
    "try:\n",
    "    import cv2\n",
    "except:\n",
    "    !pip install cv2\n",
    "    import cv2\n",
    "    \n",
    "#import kernels\n",
    "try:\n",
    "    from skimage import io as skimage_io\n",
    "except:\n",
    "    !pip install scikit-image\n",
    "    from skimage import io as skimage_io\n",
    "\n",
    "try:\n",
    "    import information_theory as IT\n",
    "except:\n",
    "    !pip install \"information_theory @ git+https://github.com/vicente-gonzalez-ruiz/information_theory\"\n",
    "    import information_theory as IT"
   ]
  },
  {
   "cell_type": "code",
   "execution_count": null,
   "metadata": {},
   "outputs": [],
   "source": [
    "# apt install cm-super-minimal\n",
    "# apt install dvipng\n",
    "plt.rcParams.update({\n",
    "    \"text.usetex\": True,\n",
    "    #\"font.family\": \"Helvetica\",\n",
    "    \"font.family\": \"Serif\",\n",
    "    \"text.latex.preamble\": r\"\\usepackage{amsmath} \\usepackage{amsfonts}\"\n",
    "})\n",
    "#rc('text', usetex=True)\n",
    "#rc('font', family='serif')\n",
    "#plt.rc('text.latex', preamble=r'\\usepackage{amsmath} `...')\n",
    "#mpl.rcParams['text.latex.preamble'] = r'\\usepackage{amsmath} \\usepackage{amsfonts}'"
   ]
  },
  {
   "cell_type": "code",
   "execution_count": null,
   "metadata": {},
   "outputs": [],
   "source": [
    "import logging\n",
    "logging.basicConfig(format=\"[%(filename)s:%(lineno)s %(funcName)s()] %(message)s\")\n",
    "logger = logging.getLogger(__name__)\n",
    "logger.setLevel(logging.WARNING)"
   ]
  },
  {
   "cell_type": "code",
   "execution_count": null,
   "metadata": {},
   "outputs": [],
   "source": [
    "if local_debug:\n",
    "    !ln -sf ../src/denoising .\n",
    "else:\n",
    "    !pip install \"denoising @ git+https://github.com/vicente-gonzalez-ruiz/denoising\""
   ]
  },
  {
   "cell_type": "code",
   "execution_count": null,
   "metadata": {},
   "outputs": [],
   "source": [
    "if local_debug:\n",
    "    !ln -sf ../../motion_estimation/src/motion_estimation/ .\n",
    "else:\n",
    "    !pip install \"motion_estimation @ git+https://github.com/vicente-gonzalez-ruiz/motion_estimation\""
   ]
  },
  {
   "cell_type": "code",
   "execution_count": null,
   "metadata": {},
   "outputs": [],
   "source": [
    "if local_debug:\n",
    "    !ln -sf ../../self_fourier_shell_correlation/src/self_fourier_shell_correlation/ .\n",
    "else:\n",
    "    !pip install \"self_fourier_shell_correlation @ git+https://github.com/vicente-gonzalez-ruiz/self_fourier_shell_correlation\""
   ]
  },
  {
   "cell_type": "code",
   "execution_count": null,
   "metadata": {},
   "outputs": [],
   "source": [
    "import denoising.image.OF_gaussian__OpenCV as denoising"
   ]
  },
  {
   "cell_type": "code",
   "execution_count": null,
   "metadata": {},
   "outputs": [],
   "source": [
    "denoiser = denoising.Monochrome_Denoising(logger, N_poly=5, window_side=9)"
   ]
  },
  {
   "cell_type": "code",
   "execution_count": null,
   "metadata": {},
   "outputs": [],
   "source": [
    "from self_fourier_shell_correlation import fsc_utils as fsc"
   ]
  },
  {
   "cell_type": "markdown",
   "metadata": {},
   "source": [
    "### barb"
   ]
  },
  {
   "cell_type": "code",
   "execution_count": null,
   "metadata": {},
   "outputs": [],
   "source": [
    "Args = namedtuple(\"args\", \"input\")\n",
    "#args = Args(\"http://www.hpca.ual.es/~vruiz/images/barb.png\")\n",
    "args = Args(\"barb.png\")"
   ]
  },
  {
   "cell_type": "code",
   "execution_count": null,
   "metadata": {},
   "outputs": [],
   "source": [
    "X = skimage_io.imread(args.input)  # Ground Truth"
   ]
  },
  {
   "cell_type": "code",
   "execution_count": null,
   "metadata": {},
   "outputs": [],
   "source": [
    "padded_X = np.zeros(shape=(X.shape[0]+32, X.shape[1]+32), dtype=np.uint8)\n",
    "padded_X[16:-16, 16:-16] = X\n",
    "X = padded_X"
   ]
  },
  {
   "cell_type": "code",
   "execution_count": null,
   "metadata": {},
   "outputs": [],
   "source": [
    "plt.title(r\"$\\mathbf{X}=\\mathrm{Barb}$\")\n",
    "plt.imshow(X, cmap=\"gray\")\n",
    "plt.savefig('barb.pdf', bbox_inches='tight')"
   ]
  },
  {
   "cell_type": "markdown",
   "metadata": {},
   "source": [
    "## Zero-mean Mixed Poisson-Gaussian (0MMPG) noise\n",
    "\\begin{equation}\n",
    "  Y = N_{\\mathcal{P}(\\gamma X)}/\\gamma + N_{\\mathcal{N(\\sigma)}}\n",
    "\\end{equation}\n",
    "where\n",
    "\\begin{equation}\n",
    "N_{\\mathcal{P}(\\gamma X)}\\sim\\mathcal{P}(λ=\\gamma X)\n",
    "\\end{equation}\n",
    "and\n",
    "\\begin{equation}\n",
    "N_{\\mathcal{N(\\sigma)}}\\sim{\\mathcal N}(\\mu=0, \\sigma^2).\n",
    "\\end{equation}"
   ]
  },
  {
   "cell_type": "code",
   "execution_count": null,
   "metadata": {},
   "outputs": [],
   "source": [
    "def MPG_noise(X, std_dev=10.0, gamma=0.1):\n",
    "    N_poisson = np.random.poisson(X * gamma)/gamma\n",
    "    N_gaussian = np.random.normal(loc=0, scale=std_dev, size=X.size)\n",
    "    N_gaussian = np.reshape(N_gaussian, X.shape)\n",
    "    Y = N_gaussian + N_poisson\n",
    "    #Y = N_gaussian + gamma*N_poisson\n",
    "    #Y = N_poisson\n",
    "    #Y = N_gaussian + X\n",
    "    return Y"
   ]
  },
  {
   "cell_type": "markdown",
   "metadata": {},
   "source": [
    "#### 0MMPG_barb"
   ]
  },
  {
   "cell_type": "code",
   "execution_count": null,
   "metadata": {},
   "outputs": [],
   "source": [
    "gamma = 0.1\n",
    "std_dev = 50\n",
    "string  = r'$'\n",
    "string += r\"\\mathrm{Barb} + \\mathbf{N}_{\\mathcal{N}\"\n",
    "string += r\"(\\sigma\"\n",
    "string += f\"={std_dev})\"\n",
    "string += r'}'\n",
    "string += r\" + \\mathbf{N}_{\\mathcal{P}\"\n",
    "string += r\"(\\lambda\"\n",
    "string += f\"={gamma}\"\n",
    "string += r'\\cdot\\mathrm{Barb})}'\n",
    "string += f\"/{gamma}\"\n",
    "string += '$'\n",
    "plt.title(string) \n",
    "Y = MPG_noise(X, std_dev, gamma).reshape(X.shape)\n",
    "Y = np.clip(a = Y, a_min=0, a_max=255)\n",
    "plt.imshow(Y, cmap=\"gray\")\n",
    "plt.savefig('0MMPG_barb.pdf', bbox_inches='tight')"
   ]
  },
  {
   "cell_type": "markdown",
   "metadata": {},
   "source": [
    "#### OFGD_0MMPG_barb"
   ]
  },
  {
   "cell_type": "code",
   "execution_count": null,
   "metadata": {},
   "outputs": [],
   "source": [
    "def get_gaussian_kernel(sigma=1):\n",
    "    number_of_coeffs = 3\n",
    "    number_of_zeros = 0\n",
    "    while number_of_zeros < 2 :\n",
    "        delta = np.zeros(number_of_coeffs)\n",
    "        delta[delta.size//2] = 1\n",
    "        coeffs = scipy.ndimage.gaussian_filter1d(delta, sigma=sigma)\n",
    "        number_of_zeros = coeffs.size - np.count_nonzero(coeffs)\n",
    "        number_of_coeffs += 1\n",
    "    return coeffs[1:-1]\n",
    "\n",
    "sigma_kernel = 2.0\n",
    "sigma = np.array([sigma_kernel, sigma_kernel])\n",
    "kernel = [None]*2\n",
    "kernel[0] = get_gaussian_kernel(sigma[0])\n",
    "kernel[1] = get_gaussian_kernel(sigma[1])\n",
    "print(np.sum(kernel[0]))\n",
    "plt.plot(kernel[0])\n",
    "plt.show()"
   ]
  },
  {
   "cell_type": "code",
   "execution_count": null,
   "metadata": {
    "scrolled": true
   },
   "outputs": [],
   "source": [
    "denoised = denoiser.filter(Y, kernel)"
   ]
  },
  {
   "cell_type": "code",
   "execution_count": null,
   "metadata": {},
   "outputs": [],
   "source": [
    "string  = r\"$\\mathrm{OFGD}_{\\text{\"\n",
    "string += str(sigma_kernel)\n",
    "string += r\"}}(\\mathrm{Barb} + \\mathbf{N}_{\\mathcal{N}\"\n",
    "string += r\"(\\sigma\"\n",
    "string += f\"={std_dev})\"\n",
    "string += r'}'\n",
    "string += r\" + \\mathbf{N}_{\\mathcal{P}\"\n",
    "string += r\"(\\lambda\"\n",
    "string += f\"={gamma}\"\n",
    "string += r'\\cdot\\mathrm{Barb})}'\n",
    "#string += rf\"$_{(\\sigma^2={std_dev}^2)}$\"\n",
    "string += f\"/{gamma})\"\n",
    "string += '$'\n",
    "plt.title(f\"{string}\")\n",
    "plt.imshow(denoised, cmap=\"gray\")\n",
    "plt.savefig('OFGD_0MMPG_barb.pdf', bbox_inches='tight')"
   ]
  },
  {
   "cell_type": "markdown",
   "metadata": {},
   "source": [
    "#### OFGD_PCC_0MMPG_barb"
   ]
  },
  {
   "cell_type": "code",
   "execution_count": null,
   "metadata": {
    "scrolled": true
   },
   "outputs": [],
   "source": [
    "sigmas_kernel = [(0.25 + i/10) for i in range(20)]\n",
    "curves = []\n",
    "#sigma_index = 1\n",
    "for std_dev in range(1, 50, 5):\n",
    "    gamma = std_dev / 50\n",
    "    curve = []\n",
    "    #for sigma_kernel in range(5, 20, 1):\n",
    "    for sigma_kernel in sigmas_kernel:\n",
    "        #sigma_kernel /= 10\n",
    "        sigma = np.array([sigma_kernel, sigma_kernel])\n",
    "        kernel = [None]*2\n",
    "        kernel[0] = get_gaussian_kernel(sigma[0])\n",
    "        kernel[1] = get_gaussian_kernel(sigma[1])\n",
    "        Y = MPG_noise(X, std_dev, gamma).reshape(X.shape)\n",
    "        Y = np.clip(a = Y, a_min=0, a_max=255)\n",
    "        denoised = denoiser.filter(Y, kernel)\n",
    "        #PSNR = IT.distortion.PSNR(denoised, X)\n",
    "        PCC = np.corrcoef(denoised.flatten(), X.flatten())[0, 1]\n",
    "        print(std_dev, sigma_kernel, PCC)\n",
    "        curve.append(PCC)\n",
    "        #plt.imshow(denoised, cmap=\"gray\")\n",
    "        #plt.show()\n",
    "        #input()\n",
    "\n",
    "    curves.append(curve)\n",
    "    #sigma_index += 1\n",
    "    print()"
   ]
  },
  {
   "cell_type": "code",
   "execution_count": null,
   "metadata": {},
   "outputs": [],
   "source": [
    "plt.title(r\"$\\mathbf{X}=\\mathrm{Barb}$\")\n",
    "#plt.title(r\"$\\mathbb{E}_{\\text{\" + str(iters) + r\"}}(\\mathbf{N}\" + rf\"/{_lambda}\" + r\"), \\mathbf{N}\\sim\\mathrm{Poisson}\" + rf\"(\\lambda={_lambda}\" + r\"\\mathrm{Barb})$\")\n",
    "#plt.title(\"Averaging Poisson noisy instances of \\\"Barb\\\"\")\n",
    "for i in range(len(curves)):\n",
    "    #plt.plot([i/10 for i in range(5, 20, 1)], curves[i], label=rf\"$\\sigma={10+i*5}, \\lambda={(10-i)/40}\\cdot\" + r\"\\mathrm{Barb}$\")\n",
    "    plt.plot(sigmas_kernel, curves[i], label=rf\"$\\sigma={10+i*5}, \\gamma={(10-i)/40}\" + r\", \\mathrm{argmax}_\\tau=\" + rf\"{sigmas_kernel[np.argmax(curves[i])]}$\")\n",
    "string  = r\"$\"\n",
    "string += r\"\\mathrm{PCC}\"\n",
    "string += r\"(\\mathbf{X}, \"\n",
    "string += r\"\\mathrm{OFGD}_\\tau\"\n",
    "string += r\"(\\mathbf{X}\"\n",
    "string += r\"+ \\mathbf{N}_{\\mathcal{N}\"\n",
    "string += r\"(\\sigma)}\"\n",
    "string += r\"+ \\mathbf{N}_\"\n",
    "string += r\"{\\mathcal{P}(\\gamma\\mathbf{X})}/\\gamma))$\"\n",
    "plt.ylabel(string)\n",
    "#plt.ylabel(r\"$\\mathrm{PCC}(\\mathbf{X}, \\hat{\\mathbf{X}})$\")\n",
    "plt.xlabel(r\"$\\tau$\")\n",
    "plt.legend()\n",
    "#plt.show()\n",
    "plt.savefig(\"OFGD_PCC_0MMPG_barb.pdf\", bbox_inches='tight')"
   ]
  },
  {
   "cell_type": "markdown",
   "metadata": {},
   "source": [
    "#### OFGD_SFRC_0MMPG_barb"
   ]
  },
  {
   "cell_type": "code",
   "execution_count": null,
   "metadata": {
    "scrolled": true
   },
   "outputs": [],
   "source": [
    "#sigmas_kernel = [(0.25 + i/10) for i in range(20)]\n",
    "sigmas_kernel = [0.25, 0.5, 0.75, 1.0, 1.5, 2.0, 2.5]\n",
    "curve = []\n",
    "gamma = 0.15\n",
    "std_dev = 30\n",
    "for i in sigmas_kernel:\n",
    "    total_c_avg = 0\n",
    "    kernel = [None]*2\n",
    "    kernel[0] = get_gaussian_kernel(i)\n",
    "    kernel[1] = get_gaussian_kernel(i)\n",
    "    total_c_avg = np.zeros(X.shape[0]>>2)\n",
    "    for j in range(1):\n",
    "        Y = MPG_noise(X, std_dev, gamma).reshape(X.shape)\n",
    "        Y = np.clip(a = Y, a_min=0, a_max=255)\n",
    "        denoised = denoiser.filter(Y, kernel)\n",
    "        #plt.imshow(denoised, cmap=\"gray\")\n",
    "        #plt.show()\n",
    "        freq, c_avg = fsc.get_SFRC_curve(denoised)\n",
    "        #freq, c_avg = fsc.get_SFRC_curve(X)\n",
    "        freq = freq[:(len(freq)>>1)]\n",
    "        c_avg = c_avg[:(len(c_avg)>>1)]\n",
    "        total_c_avg += c_avg\n",
    "    curve.append(total_c_avg/1)\n",
    "    print(i, end=' ')"
   ]
  },
  {
   "cell_type": "code",
   "execution_count": null,
   "metadata": {},
   "outputs": [],
   "source": [
    "plt.title(r\"$\\mathbf{X}=\\mathrm{Barb}$\")\n",
    "plt.xlabel(r\"$\\omega$\")\n",
    "string  = r\"$\\mathrm{SFRC}\"\n",
    "string += r\"(\\mathrm{OFGD}_\\tau(\"\n",
    "string += r\"\\mathbf{X} + \\mathbf{N}_{\\mathcal{N}\"\n",
    "string += r\"(\\sigma=\"\n",
    "string += f\"{std_dev}\"\n",
    "string += r\")}\"\n",
    "string += r\"+ \\mathbf{N}\"\n",
    "string += r\"_{\\mathcal{P}(\"\n",
    "string += rf\"{gamma}\"\n",
    "string += r\"\\mathbf{X})}/\" + rf\"{gamma}\" + r\"))$\"\n",
    "plt.ylabel(string)\n",
    "#plt.ylabel(r\"$\\mathrm{SFRC}(\\tilde{\\mathbf{X}})$\")\n",
    "markers = ['o', 's', '^', 'd', 'x', '*', 'v', 'p', 'h', '+']  # Add more markers if needed\n",
    "for i in range(len(sigmas_kernel)):\n",
    "#for i in range(len(sigmas_kernel)-1, 0, -1):\n",
    "    #plt.plot(freq, curve[i], label=r\"$\\tau=\" + f\"{sigmas_kernel[i]}\" + r\"$\", marker=markers[(len(sigmas_kernel)-i-1) % len(markers)], markersize=0.0)\n",
    "    #plt.plot(freq, curve[i], label=r\"$\\tau=\" + f\"{sigmas_kernel[len(sigmas_kernel)-i-1]}\" + r\"$\", marker=markers[(len(sigmas_kernel)-i-1) % len(markers)], markersize=0.0)\n",
    "    plt.plot(freq, curve[i], label=r\"$\\tau=\" + f\"{sigmas_kernel[i]}\" + r\"$\", marker=markers[i % len(markers)], markersize=0.0)\n",
    "plt.legend()\n",
    "plt.savefig(\"OGGD_SFRC_0MMPG_barb.pdf\", bbox_inches='tight')"
   ]
  },
  {
   "cell_type": "code",
   "execution_count": null,
   "metadata": {},
   "outputs": [],
   "source": []
  }
 ],
 "metadata": {
  "colab": {
   "collapsed_sections": [],
   "name": "gaussian_denoising.ipynb",
   "provenance": []
  },
  "kernelspec": {
   "display_name": "Python 3 (ipykernel)",
   "language": "python",
   "name": "python3"
  },
  "language_info": {
   "codemirror_mode": {
    "name": "ipython",
    "version": 3
   },
   "file_extension": ".py",
   "mimetype": "text/x-python",
   "name": "python",
   "nbconvert_exporter": "python",
   "pygments_lexer": "ipython3",
   "version": "3.10.10"
  }
 },
 "nbformat": 4,
 "nbformat_minor": 4
}
