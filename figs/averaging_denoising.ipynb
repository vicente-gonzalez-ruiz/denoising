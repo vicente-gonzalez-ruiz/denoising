{
 "cells": [
  {
   "cell_type": "markdown",
   "metadata": {
    "colab_type": "text",
    "id": "view-in-github"
   },
   "source": [
    "<a href=\"https://colab.research.google.com/github/vicente-gonzalez-ruiz/denoising/blob/main/figs/averaging_denoising.ipynb\" target=\"_parent\"><img src=\"https://colab.research.google.com/assets/colab-badge.svg\" alt=\"Open In Colab\"/></a>"
   ]
  },
  {
   "cell_type": "markdown",
   "metadata": {},
   "source": [
    "[![Binder](https://mybinder.org/badge_logo.svg)](https://nbviewer.org/github/vicente-gonzalez-ruiz/denoising/blob/main/figs/averae_denoising.ipynb)"
   ]
  },
  {
   "cell_type": "markdown",
   "metadata": {
    "editable": true,
    "id": "QqfKxC0KuCzK",
    "tags": []
   },
   "source": [
    "# Denoising using stacking\n",
    "By simulation, we check that the averaging of several instances of the same noisy signal (*stacking*) approximates to the clean signal. 1D and 2D cases are analyzed. Signal-independent and signal-dependent noise cases are considered.\n",
    "\n",
    "Notation:\n",
    "\n",
    "* $X=\\text{clean signal.}$\n",
    "* $N=\\text{noise.}$\n",
    "* $Y=\\text{noisy signal.}$ In general, $Y=f(X,N).$\n",
    "\n",
    "All simulations check that\n",
    "\\begin{equation}\n",
    "  {\\mathbb E}_I(Y)\\approx X,\n",
    "\\end{equation}\n",
    "for a large enough number $I$ of $Y$ instances.\n",
    "\n",
    "<!-- We measure the performance of averaging considering that, theoretically, the SNR should increase with $\\sqrt{I}$, where $I$ is the number of averaged noisy instances. Equivalently, averaging should reduce the noise variance by a factor of $I$, i.e.\n",
    "\\begin{equation}\n",
    "\\sigma^2_{\\mathrm averaged}=\\frac{\\sigma^2_{\\mathrm original}}{I},\n",
    "\\end{equation}\n",
    "although this is not checked.-->"
   ]
  },
  {
   "cell_type": "code",
   "execution_count": 2,
   "metadata": {
    "editable": true,
    "id": "IIUxh4uStrQJ",
    "tags": []
   },
   "outputs": [],
   "source": [
    "import math\n",
    "from collections import namedtuple\n",
    "try:\n",
    "    import numpy as np\n",
    "except:\n",
    "    !pip install numpy\n",
    "    import numpy as np\n",
    "try:\n",
    "    import matplotlib\n",
    "    import matplotlib.pyplot as plt\n",
    "    import matplotlib.ticker as mticker\n",
    "except:\n",
    "    !pip install matplotlib\n",
    "    import matplotlib\n",
    "    import matplotlib.pyplot as plt\n",
    "    import matplotlib.ticker as mticker\n",
    "try:\n",
    "    import cv2\n",
    "except:\n",
    "    !pip install cv2\n",
    "    import cv2\n",
    "try:\n",
    "    from skimage import io as skimage_io\n",
    "except:\n",
    "    !pip install scikit-image\n",
    "    from skimage import io as skimage_io\n",
    "try:\n",
    "    import information_theory as IT\n",
    "except:\n",
    "    !pip install \"information_theory @ git+https://github.com/vicente-gonzalez-ruiz/information_theory\"\n",
    "    import information_theory as IT\n",
    "\n",
    "# apt install cm-super-minimal\n",
    "# apt install dvipng\n",
    "plt.rcParams.update({\n",
    "    \"text.usetex\": True,\n",
    "    #\"font.family\": \"Helvetica\",\n",
    "    \"font.family\": \"Serif\",\n",
    "    \"text.latex.preamble\": r\"\\usepackage{amsmath} \\usepackage{amsfonts}\"\n",
    "})\n",
    "#rc('text', usetex=True)\n",
    "#rc('font', family='serif')\n",
    "#plt.rc('text.latex', preamble=r'\\usepackage{amsmath} `...')\n",
    "#mpl.rcParams['text.latex.preamble'] = r'\\usepackage{amsmath} \\usepackage{amsfonts}'"
   ]
  },
  {
   "cell_type": "markdown",
   "metadata": {},
   "source": [
    "### barb"
   ]
  },
  {
   "cell_type": "code",
   "execution_count": null,
   "metadata": {
    "id": "aaELdKZzUefv"
   },
   "outputs": [],
   "source": [
    "Args = namedtuple(\"args\", \"input\")\n",
    "args = Args(\"http://www.hpca.ual.es/~vruiz/images/barb.png\")"
   ]
  },
  {
   "cell_type": "code",
   "execution_count": null,
   "metadata": {
    "id": "7lZRxLv-Uefv"
   },
   "outputs": [],
   "source": [
    "image = skimage_io.imread(args.input)  # Ground Truth\n",
    "image.mean()"
   ]
  },
  {
   "cell_type": "code",
   "execution_count": null,
   "metadata": {},
   "outputs": [],
   "source": [
    "plt.title(r\"$\\mathbf{X}=\\mathrm{Barb}$\")\n",
    "plt.imshow(image, cmap=\"gray\")\n",
    "#plt.show()\n",
    "plt.savefig('barb.pdf', bbox_inches='tight')"
   ]
  },
  {
   "cell_type": "code",
   "execution_count": null,
   "metadata": {
    "id": "x0Lv2gzFUefw"
   },
   "outputs": [],
   "source": [
    "#mean = np.mean(image)\n",
    "#zero_mean_image = image.astype(np.float32) - mean\n",
    "#print(np.mean(zero_mean_image))"
   ]
  },
  {
   "cell_type": "code",
   "execution_count": null,
   "metadata": {
    "id": "RKLHhyLPUefw"
   },
   "outputs": [],
   "source": [
    "min_PSNR = 60  # Minimum quality to stop averaging"
   ]
  },
  {
   "cell_type": "markdown",
   "metadata": {
    "id": "c0xq04DqUef4"
   },
   "source": [
    "## Zero-mean additive Gaussian (ZMAG) noise\n",
    "\\begin{equation}\n",
    "  Y = X + N,~N\\sim{\\mathcal N}(\\mu=0, \\sigma).\n",
    "\\end{equation}"
   ]
  },
  {
   "cell_type": "markdown",
   "metadata": {
    "id": "VergSMmmUef4"
   },
   "source": [
    "### 1D"
   ]
  },
  {
   "cell_type": "code",
   "execution_count": null,
   "metadata": {
    "id": "Vw23n4RoUef4"
   },
   "outputs": [],
   "source": [
    "X = np.arange(101) - 50\n",
    "X.mean()"
   ]
  },
  {
   "cell_type": "code",
   "execution_count": null,
   "metadata": {
    "id": "NYv9c_EoUef4"
   },
   "outputs": [],
   "source": [
    "N = np.random.normal(loc=0, scale=10, size=X.size)\n",
    "N.mean()"
   ]
  },
  {
   "cell_type": "code",
   "execution_count": null,
   "metadata": {
    "id": "dCNZp0gsUef4"
   },
   "outputs": [],
   "source": [
    "Y = X + N"
   ]
  },
  {
   "cell_type": "code",
   "execution_count": null,
   "metadata": {
    "id": "iiawn6nnUef4"
   },
   "outputs": [],
   "source": [
    "plt.title(\"Effect of 0MAG noise on $X=f(x)=x$\")\n",
    "plt.plot(X, label=\"$X$\")\n",
    "plt.plot(Y, label=\"$Y$\")\n",
    "plt.ylabel(\"intensity\")\n",
    "plt.xlabel(\"sample\")\n",
    "plt.legend()\n",
    "plt.show()"
   ]
  },
  {
   "cell_type": "code",
   "execution_count": null,
   "metadata": {
    "id": "mCn1iGaoUef4"
   },
   "outputs": [],
   "source": [
    "X = np.arange(101) - 50\n",
    "sigma = 10\n",
    "iters = 100\n",
    "acc_Y = np.zeros_like(X)\n",
    "min_Y = np.ones_like(X) * 1000\n",
    "max_Y = -np.ones_like(X) * 1000\n",
    "for i in range(iters):\n",
    "    N = np.random.normal(loc=0, scale=sigma, size=len(X))\n",
    "    Y = X + N\n",
    "    min_Y = np.minimum(Y, min_Y)\n",
    "    max_Y = np.maximum(Y, max_Y)\n",
    "    acc_Y = acc_Y + Y\n",
    "average_Y = acc_Y / (i + 1)"
   ]
  },
  {
   "cell_type": "code",
   "execution_count": null,
   "metadata": {
    "id": "kV8pV9IzUef5"
   },
   "outputs": [],
   "source": [
    "plt.title(\"Averaging 0MAG noisy instances of $X=f(x)=x$\")\n",
    "plt.plot(average_Y, label=rf\"$\\mathbb{{E}}_{{\\text{{{iters}}}}}(Y)$\")\n",
    "plt.plot(max_Y, label=\"max($Y$)\")\n",
    "plt.plot(min_Y, label=\"min($Y$)\")\n",
    "plt.plot(X, label=\"$X$\")\n",
    "plt.ylabel(\"intensity\")\n",
    "plt.xlabel(\"sample\")\n",
    "plt.legend()\n",
    "plt.show()"
   ]
  },
  {
   "cell_type": "markdown",
   "metadata": {
    "id": "rxePVfkdUef5"
   },
   "source": [
    "### 2D"
   ]
  },
  {
   "cell_type": "markdown",
   "metadata": {},
   "source": [
    "#### 0MAGN_barb"
   ]
  },
  {
   "cell_type": "code",
   "execution_count": null,
   "metadata": {},
   "outputs": [],
   "source": [
    "std_dev = 45\n",
    "plt.title(r\"$\\mathrm{Barb} + \\mathbf{N}, \\mathbf{N}\\sim \\mathcal{N}\" + rf\"(\\mu=0, \\sigma={std_dev})$\")\n",
    "Y = image + np.random.normal(loc=0, scale=std_dev, size=image.shape).reshape(image.shape)\n",
    "Y = np.clip(a = Y, a_min=0, a_max=255)\n",
    "plt.imshow(Y, cmap=\"gray\")\n",
    "plt.savefig('0MAGN_barb.pdf', bbox_inches='tight')"
   ]
  },
  {
   "cell_type": "markdown",
   "metadata": {},
   "source": [
    "#### denoised_0MAGN_barb"
   ]
  },
  {
   "cell_type": "code",
   "execution_count": null,
   "metadata": {
    "id": "Mui8rwFsUef5"
   },
   "outputs": [],
   "source": [
    "X = image\n",
    "curves = []\n",
    "#sigma_index = 1\n",
    "for std_dev in range(10, 50, 5):\n",
    "    acc_denoised = np.zeros_like(X, dtype=np.float64)\n",
    "    PSNR = 1\n",
    "    iters = 1\n",
    "    curve = []\n",
    "    while PSNR < min_PSNR:\n",
    "        N = np.random.normal(loc=0, scale=std_dev, size=X.shape).reshape(X.shape)\n",
    "        Y = X.astype(np.float32) + N\n",
    "        Y = np.clip(a=Y, a_min=0, a_max=255).astype(np.uint8)\n",
    "        acc_denoised += Y\n",
    "        denoised = acc_denoised/iters\n",
    "        PSNR = IT.distortion.PSNR(denoised, X)\n",
    "        print(std_dev, iters, PSNR)\n",
    "        curve.append(PSNR)\n",
    "        iters += 1\n",
    "        #plt.imshow(denoised, cmap=\"gray\")\n",
    "        #plt.show()\n",
    "        #input()\n",
    "\n",
    "    curves.append(curve)\n",
    "    #sigma_index += 1\n",
    "    print()\n",
    "plt.title(r\"$\\mathbb{E}_{\\text{\" + str(iters) + r\"}}(\\mathrm{Barb} + \\mathbf{N}), \\mathbf{N}\\sim \\mathcal{N}\" + rf\"(\\mu=0, \\sigma={std_dev}),\" + r\"\\mathrm{PSNR}=\" + f\"{PSNR:.2f}\" + r\"~\\mathrm{dB}$\")\n",
    "plt.imshow(denoised, cmap=\"gray\")\n",
    "plt.savefig('denoised_0MAGN_barb.pdf', bbox_inches='tight')"
   ]
  },
  {
   "cell_type": "markdown",
   "metadata": {},
   "source": [
    "#### PSNR_0MAGN_barb"
   ]
  },
  {
   "cell_type": "code",
   "execution_count": null,
   "metadata": {
    "id": "aTui1OHKUef5",
    "scrolled": true
   },
   "outputs": [],
   "source": [
    "plt.title(r\"Stacking performance applied to $\\mathrm{Barb} + \\mathbf{N}, \\mathbf{N}\\sim \\mathcal{N}(\\mu=0, \\sigma)$\")\n",
    "for i in range(len(curves)):\n",
    "    if len(curves[i]) > 1:\n",
    "        plt.plot(curves[i], label=rf\"$\\sigma={(i+1)*5}$\")\n",
    "    #print(i)\n",
    "plt.ylabel(r\"PSNR ($\\mathrm{dB}$)\")\n",
    "plt.xlabel(r\"Number of noisy instances\")\n",
    "plt.legend()\n",
    "#plt.show()\n",
    "plt.savefig(\"PSNR_0MAGN_barb.pdf\", bbox_inches='tight')"
   ]
  },
  {
   "cell_type": "markdown",
   "metadata": {
    "id": "hPce96zyUef8"
   },
   "source": [
    "## Poisson noise (shot noise)\n",
    "\\begin{equation}\n",
    "  Y=\\frac{N}{\\gamma},~N∼\\text{Poisson}(λ=\\gamma X),\n",
    "\\end{equation}\n",
    "where:\n",
    "* $X\\ge 0$.\n",
    "* $\\lambda\\in{\\mathbb R}\\ge 0$ is the rate of the Poisson distribution (resulting that $\\lambda={\\mathbb E}(N)=\\text{Var}(N)$."
   ]
  },
  {
   "cell_type": "markdown",
   "metadata": {
    "id": "sI3HsciLUef8"
   },
   "source": [
    "### 1D"
   ]
  },
  {
   "cell_type": "code",
   "execution_count": null,
   "metadata": {
    "id": "2t7H942-Uef8"
   },
   "outputs": [],
   "source": [
    "X = np.arange(101)\n",
    "X.mean()"
   ]
  },
  {
   "cell_type": "code",
   "execution_count": null,
   "metadata": {
    "id": "JDn5Ad63Uef8"
   },
   "outputs": [],
   "source": [
    "_lambda = 0.3\n",
    "Y = np.random.poisson(X * _lambda) /  _lambda\n",
    "print(np.mean(Y))"
   ]
  },
  {
   "cell_type": "code",
   "execution_count": null,
   "metadata": {
    "id": "ntcY5LLuUef8"
   },
   "outputs": [],
   "source": [
    "plt.title(\"Effect of Poisson noise\")\n",
    "plt.plot(X, label=\"$X$\")\n",
    "plt.plot(Y, label=\"$Y$\")\n",
    "plt.ylabel(\"intensity\")\n",
    "plt.xlabel(\"sample\")\n",
    "plt.legend()\n",
    "plt.show()"
   ]
  },
  {
   "cell_type": "code",
   "execution_count": null,
   "metadata": {
    "id": "HX0wolPgUef8"
   },
   "outputs": [],
   "source": [
    "X = np.arange(101)\n",
    "_lambda = 1\n",
    "iters = 100\n",
    "acc_Y = np.zeros_like(X)\n",
    "min_Y = np.ones_like(X) * 1000\n",
    "max_Y = -np.ones_like(X)\n",
    "for i in range(iters):\n",
    "    Y = np.random.poisson(X * _lambda) /  _lambda\n",
    "    min_Y = np.minimum(Y, min_Y)\n",
    "    max_Y = np.maximum(Y, max_Y)\n",
    "    acc_Y = acc_Y + Y\n",
    "average_Y = acc_Y / (i + 1)"
   ]
  },
  {
   "cell_type": "code",
   "execution_count": null,
   "metadata": {
    "id": "LGCJl_tFUef8"
   },
   "outputs": [],
   "source": [
    "plt.title(\"Averging Poisson noisy instances of $X=f(x)=x$\")\n",
    "#plt.plot(average_Y, label=r\"$\\mathbb{E}_{iters}(Y)$\")\n",
    "plt.plot(average_Y, label=rf\"$\\mathbb{{E}}_{{\\text{{{iters}}}}}(Y)$\")\n",
    "#plt.plot(np.random.poisson(X * _lambda) /  _lambda, label=\"$Y$ (example)\")\n",
    "plt.plot(max_Y, label=\"max($Y$)\")\n",
    "plt.plot(min_Y, label=\"min($Y$)\")\n",
    "plt.plot(X, label=\"$X$\")\n",
    "plt.legend()\n",
    "plt.show()"
   ]
  },
  {
   "cell_type": "markdown",
   "metadata": {
    "id": "d_P-O6IvUef9"
   },
   "source": [
    "### 2D"
   ]
  },
  {
   "cell_type": "markdown",
   "metadata": {},
   "source": [
    "#### Poisson_barb"
   ]
  },
  {
   "cell_type": "code",
   "execution_count": null,
   "metadata": {},
   "outputs": [],
   "source": [
    "_lambda = 1/40\n",
    "plt.title(r\"$\\mathbf{N}\" + rf\"/{_lambda}\" + r\", \\mathbf{N}\\sim\\mathrm{Poisson}\" + rf\"(\\lambda={_lambda}\" + r\"\\cdot\\mathrm{Barb})$\")\n",
    "Y = np.random.poisson(image.astype(np.float32) * _lambda) / _lambda\n",
    "Y = np.clip(a = Y, a_min=0, a_max=255)\n",
    "plt.imshow(Y, cmap=\"gray\")\n",
    "plt.savefig('Poisson_barb.pdf', bbox_inches='tight')"
   ]
  },
  {
   "cell_type": "markdown",
   "metadata": {},
   "source": [
    "#### denoised_Poisson_barb"
   ]
  },
  {
   "cell_type": "code",
   "execution_count": null,
   "metadata": {
    "id": "vx7JzMOoUef9"
   },
   "outputs": [],
   "source": [
    "X = image\n",
    "curves = []\n",
    "#print(X.max(), X.min(), X.mean())\n",
    "for _lambda in range(10, 0, -1):\n",
    "    _lambda /= 40\n",
    "    acc_denoised = np.zeros_like(X, dtype=np.float64)\n",
    "    PSNR = 1\n",
    "    iters = 1\n",
    "    curve = []\n",
    "    while PSNR < min_PSNR:\n",
    "        #Y = np.random.poisson((X.astype(np.float32) + 1) * _lambda)\n",
    "        #Y = Y - _lambda\n",
    "        Y = np.random.poisson(X.astype(np.float32) * _lambda) / _lambda\n",
    "        #Y = Y - _lambda\n",
    "        #Y = Y / _lambda\n",
    "        print('a', np.max(Y), np.min(Y), np.mean(Y))\n",
    "        Y = np.clip(a = Y, a_min=0, a_max=255)\n",
    "        Y = Y.astype(np.uint8)\n",
    "        #print('b', np.max(Y), np.min(Y))\n",
    "        acc_denoised += Y\n",
    "        denoised = acc_denoised/iters\n",
    "        PSNR = IT.distortion.PSNR(denoised.astype(np.uint8), X)\n",
    "        print(_lambda, iters, PSNR, np.max(denoised), np.min(denoised))\n",
    "        curve.append(PSNR)\n",
    "        iters += 1\n",
    "        #print('b', np.mean(denoised))\n",
    "        #plt.imshow(denoised, cmap=\"gray\")\n",
    "        #plt.show()\n",
    "        #input()\n",
    "\n",
    "    curves.append(curve)\n",
    "    print()\n",
    "\n",
    "plt.title(r\"$\\mathbb{E}_{\\text{\" + str(iters) + r\"}}(\\mathbf{N}\" + rf\"/{_lambda}\" + r\"), \\mathbf{N}\\sim\\mathrm{Poisson}\" + rf\"(\\lambda={_lambda}\" + r\"\\cdot\\mathrm{Barb})$\")\n",
    "plt.imshow(denoised, cmap=\"gray\")\n",
    "plt.savefig('denoised_Poisson_barb.pdf', bbox_inches='tight')"
   ]
  },
  {
   "cell_type": "markdown",
   "metadata": {},
   "source": [
    "#### PSNR_Poisson_barb"
   ]
  },
  {
   "cell_type": "code",
   "execution_count": null,
   "metadata": {
    "id": "cGLcqGumUef9"
   },
   "outputs": [],
   "source": [
    "plt.title(r\"Stacking performance applied to \" + r\"$(\\mathbf{N}\" + r\"/\\lambda\" + r\"), \\mathbf{N}\\sim\\mathrm{Poisson}\" + rf\"(\\lambda\\cdot\" + r\"\\mathrm{Barb})$\")\n",
    "#plt.title(r\"$\\mathbb{E}_{\\text{\" + str(iters) + r\"}}(\\mathbf{N}\" + rf\"/{_lambda}\" + r\"), \\mathbf{N}\\sim\\mathrm{Poisson}\" + rf\"(\\lambda={_lambda}\" + r\"\\mathrm{Barb})$\")\n",
    "#plt.title(\"Averaging Poisson noisy instances of \\\"Barb\\\"\")\n",
    "for i in range(10, 0, -1):\n",
    "    print(i)\n",
    "    if len(curves[i-1]) > 1:\n",
    "        plt.plot(curves[i-1], label=rf\"$\\lambda={i/40}\" + r\"\\cdot\\mathrm{Barb}$\")\n",
    "plt.ylabel(r\"PSNR ($\\mathrm{dB}$)\")\n",
    "plt.xlabel(r\"Number of noisy instances\")\n",
    "plt.legend()\n",
    "#plt.show()\n",
    "plt.savefig(\"PSNR_Poisson_barb.pdf\", bbox_inches='tight')"
   ]
  },
  {
   "cell_type": "markdown",
   "metadata": {},
   "source": [
    "## Mixed Poisson-Gaussian (MPG) noise\n",
    "\\begin{equation}\n",
    "  Y = \\gamma N_{{\\mathrm Poisson}}(X) + N_{{\\mathrm Gaussian}}\n",
    "\\end{equation}\n",
    "$N_{{\\mathrm Gaussian}}\\sim{\\mathcal N}(\\mu=0, \\sigma^2), N_{{\\mathrm Poisson}}\\sim{\\mathcal P}(\\lambda=\\gamma X)$."
   ]
  },
  {
   "cell_type": "code",
   "execution_count": 8,
   "metadata": {},
   "outputs": [],
   "source": [
    "def MPG_noise(X, std_dev=10.0, gamma=1.0):\n",
    "    N_poisson = np.random.poisson(X * gamma) /  gamma\n",
    "    N_gaussian = np.random.normal(loc=0, scale=std_dev, size=X.size)\n",
    "    Y = N_gaussian + N_poisson\n",
    "    return Y"
   ]
  },
  {
   "cell_type": "markdown",
   "metadata": {},
   "source": [
    "### 1D"
   ]
  },
  {
   "cell_type": "code",
   "execution_count": 3,
   "metadata": {},
   "outputs": [],
   "source": [
    "X = np.arange(101)"
   ]
  },
  {
   "cell_type": "code",
   "execution_count": 9,
   "metadata": {},
   "outputs": [
    {
     "name": "stdout",
     "output_type": "stream",
     "text": [
      "50.86338706439303\n"
     ]
    }
   ],
   "source": [
    "_lambda = 0.3\n",
    "#N_poisson = np.random.poisson(X * _lambda) /  _lambda\n",
    "#N_gaussian = np.random.normal(loc=0, scale=10, size=X.size)\n",
    "Y = MPG_noise(X, 10, 1)\n",
    "print(np.mean(Y))"
   ]
  },
  {
   "cell_type": "code",
   "execution_count": 10,
   "metadata": {},
   "outputs": [
    {
     "data": {
      "image/png": "[encoded data removed]",
      "text/plain": [
       "<Figure size 640x480 with 1 Axes>"
      ]
     },
     "metadata": {},
     "output_type": "display_data"
    }
   ],
   "source": [
    "plt.title(\"Effect of Poisson noise\")\n",
    "plt.plot(X, label=\"$X$\")\n",
    "plt.plot(Y, label=\"$Y$\")\n",
    "plt.ylabel(\"intensity\")\n",
    "plt.xlabel(\"sample\")\n",
    "plt.legend()\n",
    "plt.show()"
   ]
  },
  {
   "cell_type": "code",
   "execution_count": 11,
   "metadata": {},
   "outputs": [],
   "source": [
    "X = np.arange(101)\n",
    "gamma = 1\n",
    "iters = 100\n",
    "acc_Y = np.zeros_like(X)\n",
    "min_Y = np.ones_like(X) * 1000\n",
    "max_Y = -np.ones_like(X)\n",
    "for i in range(iters):\n",
    "    Y = MPG_noise(X, 10, 1)\n",
    "    min_Y = np.minimum(Y, min_Y)\n",
    "    max_Y = np.maximum(Y, max_Y)\n",
    "    acc_Y = acc_Y + Y\n",
    "average_Y = acc_Y / (i + 1)"
   ]
  },
  {
   "cell_type": "code",
   "execution_count": 12,
   "metadata": {},
   "outputs": [
    {
     "data": {
      "image/png": "[encoded data removed]",
      "text/plain": [
       "<Figure size 640x480 with 1 Axes>"
      ]
     },
     "metadata": {},
     "output_type": "display_data"
    }
   ],
   "source": [
    "plt.title(\"Averging MPG noisy instances of $X=f(x)=x$\")\n",
    "plt.plot(average_Y, label=rf\"$\\mathbb{{E}}_{{\\text{{{iters}}}}}(Y)$\")\n",
    "plt.plot(max_Y, label=\"max($Y$)\")\n",
    "plt.plot(min_Y, label=\"min($Y$)\")\n",
    "plt.plot(X, label=\"$X$\")\n",
    "plt.legend()\n",
    "plt.show()"
   ]
  },
  {
   "cell_type": "markdown",
   "metadata": {
    "id": "k8arcf3pUefw"
   },
   "source": [
    "## Zero-mean additive uniform (0MAU) noise\n",
    "\\begin{equation}\n",
    "  Y = X + N,~N\\sim{\\mathcal U}(-c, c).\n",
    "\\end{equation}"
   ]
  },
  {
   "cell_type": "markdown",
   "metadata": {
    "id": "naKp1i3PUefw"
   },
   "source": [
    "### 1D"
   ]
  },
  {
   "cell_type": "code",
   "execution_count": null,
   "metadata": {
    "id": "5WMkXebdUefx"
   },
   "outputs": [],
   "source": [
    "X = np.arange(101) - 50\n",
    "X"
   ]
  },
  {
   "cell_type": "code",
   "execution_count": null,
   "metadata": {
    "id": "KjiIzD-RUefx"
   },
   "outputs": [],
   "source": [
    "X.mean()"
   ]
  },
  {
   "cell_type": "code",
   "execution_count": null,
   "metadata": {
    "id": "j_R3Pv0gUefy"
   },
   "outputs": [],
   "source": [
    "N = np.random.uniform(low=-10, high=10, size=X.size)#.astype(np.int32)\n",
    "N.mean()"
   ]
  },
  {
   "cell_type": "code",
   "execution_count": null,
   "metadata": {
    "id": "-9IM6_j_Uefy"
   },
   "outputs": [],
   "source": [
    "Y = X + N"
   ]
  },
  {
   "cell_type": "code",
   "execution_count": null,
   "metadata": {
    "id": "5y0lMVs1Uefy"
   },
   "outputs": [],
   "source": [
    "plt.title(\"Effect of 0MAU noise on $X=f(x)=x$\")\n",
    "plt.plot(X, label=\"$X$\")\n",
    "plt.plot(Y, label=\"$Y$\")\n",
    "plt.ylabel(\"intensity\")\n",
    "plt.xlabel(\"sample\")\n",
    "plt.legend()\n",
    "plt.show()"
   ]
  },
  {
   "cell_type": "code",
   "execution_count": null,
   "metadata": {
    "id": "dgXTQuEeUefz"
   },
   "outputs": [],
   "source": [
    "X = np.arange(101)\n",
    "c = 10\n",
    "iters = 100\n",
    "acc_Y = np.zeros_like(X)\n",
    "min_Y = np.ones_like(X) * 1000\n",
    "max_Y = -np.ones_like(X)\n",
    "for i in range(iters):\n",
    "    N = np.random.uniform(low=-c, high=c, size=len(X))\n",
    "    Y = X + N\n",
    "    min_Y = np.minimum(Y, min_Y)\n",
    "    max_Y = np.maximum(Y, max_Y)\n",
    "    acc_Y = acc_Y + Y\n",
    "average_Y = acc_Y / (i + 1)"
   ]
  },
  {
   "cell_type": "code",
   "execution_count": null,
   "metadata": {
    "id": "lpTw7ve6Uefz"
   },
   "outputs": [],
   "source": [
    "plt.title(\"Averaging 0MAU noisy instances of $X=f(x)=x$\")\n",
    "#plt.plot(average_Y, label=r\"$\\mathbb{E}_{iters}(Y)$\")\n",
    "plt.plot(average_Y, label=rf\"$\\mathbb{{E}}_{{\\text{{{iters}}}}}(Y)$\")\n",
    "#plt.plot(np.random.poisson(X * _lambda) /  _lambda, label=\"$Y$ (example)\")\n",
    "plt.plot(max_Y, label=\"max($Y$)\")\n",
    "plt.plot(min_Y, label=\"min($Y$)\")\n",
    "plt.plot(X, label=\"$X$\")\n",
    "plt.ylabel(\"intensity\")\n",
    "plt.xlabel(\"sample\")\n",
    "plt.legend()\n",
    "plt.show()"
   ]
  },
  {
   "cell_type": "markdown",
   "metadata": {
    "id": "lv4ZI6XMUefz"
   },
   "source": [
    "### 2D"
   ]
  },
  {
   "cell_type": "markdown",
   "metadata": {},
   "source": [
    "#### 0MAUN_barb"
   ]
  },
  {
   "cell_type": "code",
   "execution_count": null,
   "metadata": {},
   "outputs": [],
   "source": [
    "c = 90\n",
    "plt.title(r\"$\\mathbf{X}^{(0)}=\\mathrm{Barb} + \\mathbf{N}^{(0)}, \\mathbf{N}\\sim \\mathcal{U}\" + f\"(c={c})$\")\n",
    "Y = image + np.random.uniform(low=-c, high=c, size=image.shape).reshape(image.shape)\n",
    "Y = np.clip(a = Y, a_min=0, a_max=255)\n",
    "plt.imshow(Y, cmap=\"gray\")\n",
    "plt.savefig('0MAUN_barb.pdf', bbox_inches='tight')"
   ]
  },
  {
   "cell_type": "markdown",
   "metadata": {},
   "source": [
    "#### denoised_0MAUN_barb"
   ]
  },
  {
   "cell_type": "code",
   "execution_count": null,
   "metadata": {
    "id": "lMCM_mVeUef0"
   },
   "outputs": [],
   "source": [
    "X = image\n",
    "curves = []\n",
    "for c in range(10, 100, 10):\n",
    "    acc_denoised = np.zeros_like(X, dtype=np.float64)\n",
    "    PSNR = 1\n",
    "    iters = 1\n",
    "    curve = []\n",
    "    while PSNR < min_PSNR:\n",
    "        N = np.random.uniform(low=-c, high=c, size=image.shape).reshape(image.shape)\n",
    "        Y = X.astype(np.float32) + N\n",
    "        #plt.imshow(N, cmap=\"gray\")\n",
    "        #plt.show()\n",
    "        acc_denoised += Y\n",
    "        denoised = acc_denoised/iters\n",
    "        PSNR = IT.distortion.PSNR(denoised, X)\n",
    "        print(c, iters, PSNR)\n",
    "        curve.append(PSNR)\n",
    "        iters += 1\n",
    "        #plt.imshow(denoised, cmap=\"gray\")\n",
    "        #plt.show()\n",
    "        #input()\n",
    "\n",
    "    curves.append(curve)\n",
    "    print()\n",
    "\n",
    "print(iters)\n",
    "plt.title(r\"$\\mathbb{E}_{\\text{\" + str(iters) + r\"}}(\\mathrm{Barb} + \\mathbf{N}), \\mathbf{N}\\sim \\mathcal{U}\" + f\"(c={c}),\" + r\"\\mathrm{PSNR}=\" + f\"{PSNR:.2f}\" + r\"~\\mathrm{dB}$\")\n",
    "plt.imshow(denoised, cmap=\"gray\")\n",
    "plt.savefig('denoised_0MAUN_barb.pdf', bbox_inches='tight')"
   ]
  },
  {
   "cell_type": "markdown",
   "metadata": {},
   "source": [
    "#### PSNR_0MAUN_barb"
   ]
  },
  {
   "cell_type": "code",
   "execution_count": null,
   "metadata": {
    "id": "5uKvCGexUef0"
   },
   "outputs": [],
   "source": [
    "plt.title(r\"Stacking performance applied to $\\mathrm{Barb} + \\mathbf{N}, \\mathbf{N}\\sim \\mathcal{U}(c)$\")\n",
    "plt.title(r\"$\\mathrm{PSNR}(\\mathrm{Barb}, \\mathbb{E}_i(\\mathrm{Barb}+\\mathbf{N}^{(i)})), \\mathbf{N}\\sim \\mathcal{U}(c)$\")\n",
    "for i in range(len(curves)):\n",
    "    if len(curves[i]) > 1:\n",
    "        plt.plot(curves[i], label=rf\"$c={(i+1)*10}$\")\n",
    "    #print(i)\n",
    "#plt.plot([10*math.log(y+1)/math.log(10) for y in range(20)], label=\"$\\sqrt{x}$\")\n",
    "plt.ylabel(r\"PSNR ($\\mathrm{dB}$)\")\n",
    "plt.xlabel(r\"$i$ (number of noisy instances)\")\n",
    "plt.legend()\n",
    "plt.gca().xaxis.set_major_locator(mticker.MultipleLocator(5))\n",
    "#plt.show()\n",
    "plt.savefig(\"PSNR_0MAUN_barb.pdf\", bbox_inches='tight')"
   ]
  },
  {
   "cell_type": "markdown",
   "metadata": {
    "id": "5CM4YoW_Uef0"
   },
   "source": [
    "### Quantization noise generated by a dead-zone uniform quantizer"
   ]
  },
  {
   "cell_type": "code",
   "execution_count": null,
   "metadata": {
    "id": "bhoGfWdhUef1"
   },
   "outputs": [],
   "source": [
    "X = np.arange(101) - 50\n",
    "Y = (X/10).astype(np.int16) * 10"
   ]
  },
  {
   "cell_type": "code",
   "execution_count": null,
   "metadata": {
    "id": "SyyfWrpFUef1"
   },
   "outputs": [],
   "source": [
    "Y.mean()"
   ]
  },
  {
   "cell_type": "code",
   "execution_count": null,
   "metadata": {
    "id": "h9Vvb9WZUef1"
   },
   "outputs": [],
   "source": [
    "plt.title(\"Example of quantization noise\")\n",
    "plt.plot(X, label=\"signal\")\n",
    "plt.plot(Y, label=\"quantized signal\")\n",
    "plt.ylabel(\"intensity\")\n",
    "plt.xlabel(\"sample\")\n",
    "plt.legend()\n",
    "plt.show()"
   ]
  },
  {
   "cell_type": "markdown",
   "metadata": {
    "id": "gAbwdGXiUef1"
   },
   "source": [
    "## Zero-mean multiplicative uniform (0MMU) noise\n",
    "\\begin{equation}\n",
    "  Y = X (1 + N),~N\\sim{\\mathcal U}(-c, c).\n",
    "\\end{equation}"
   ]
  },
  {
   "cell_type": "markdown",
   "metadata": {
    "id": "sYaFYF2vUef2"
   },
   "source": [
    "### 1D"
   ]
  },
  {
   "cell_type": "code",
   "execution_count": null,
   "metadata": {
    "id": "p7ynWyIMUef2"
   },
   "outputs": [],
   "source": [
    "X = np.arange(101) - 50"
   ]
  },
  {
   "cell_type": "code",
   "execution_count": null,
   "metadata": {
    "id": "vk02Vt3vUef2"
   },
   "outputs": [],
   "source": [
    "#N = np.random.uniform(low=-signal/10, high=signal/10)\n",
    "N = np.random.uniform(low=-5, high=5, size=X.size)\n",
    "N.mean()"
   ]
  },
  {
   "cell_type": "code",
   "execution_count": null,
   "metadata": {
    "id": "NPVT1SjVUef2"
   },
   "outputs": [],
   "source": [
    "Y = X * (1 + N)"
   ]
  },
  {
   "cell_type": "code",
   "execution_count": null,
   "metadata": {
    "id": "3MFbF06aUef2",
    "scrolled": true
   },
   "outputs": [],
   "source": [
    "plt.title(\"Effect of 0MMU noise on $X=f(x)=x$\")\n",
    "plt.plot(X, label=\"$X$\")\n",
    "plt.plot(Y, label=\"$Y$\")\n",
    "plt.ylabel(\"intensity\")\n",
    "plt.xlabel(\"sample\")\n",
    "plt.legend()\n",
    "plt.show()"
   ]
  },
  {
   "cell_type": "code",
   "execution_count": null,
   "metadata": {
    "id": "fKfGuWOOUef3"
   },
   "outputs": [],
   "source": [
    "X = np.arange(101)\n",
    "c = 10\n",
    "iters = 100\n",
    "acc_Y = np.zeros_like(X)\n",
    "min_Y = np.ones_like(X) * 1000\n",
    "max_Y = -np.ones_like(X)\n",
    "for i in range(iters):\n",
    "    N = np.random.uniform(low=-c, high=c, size=len(X))\n",
    "    Y = X * (1 + N)\n",
    "    min_Y = np.minimum(Y, min_Y)\n",
    "    max_Y = np.maximum(Y, max_Y)\n",
    "    acc_Y = acc_Y + Y\n",
    "average_Y = acc_Y / (i + 1)"
   ]
  },
  {
   "cell_type": "code",
   "execution_count": null,
   "metadata": {
    "id": "ZAAddKypUef3"
   },
   "outputs": [],
   "source": [
    "plt.title(\"Averaging ZMMU noisy instances of $X=f(x)=x$\")\n",
    "plt.plot(average_Y, label=rf\"$\\mathbb{{E}}_{{\\text{{{iters}}}}}(Y)$\")\n",
    "plt.plot(max_Y, label=\"max($Y$)\")\n",
    "plt.plot(min_Y, label=\"min($Y$)\")\n",
    "plt.plot(X, label=\"$X$\")\n",
    "plt.legend()\n",
    "plt.show()"
   ]
  },
  {
   "cell_type": "markdown",
   "metadata": {
    "id": "MnoyX5fKUef3"
   },
   "source": [
    "### 2D"
   ]
  },
  {
   "cell_type": "code",
   "execution_count": null,
   "metadata": {
    "id": "kC9tsBpGUef3"
   },
   "outputs": [],
   "source": [
    "X = image\n",
    "curves = []\n",
    "for c in range(1, 10, 1):\n",
    "    acc_denoised = np.zeros_like(X, dtype=np.float64)\n",
    "    PSNR = 1\n",
    "    iters = 1\n",
    "    curve = []\n",
    "    while PSNR < min_PSNR:\n",
    "        #noise = np.random.uniform(low=-2*zero_mean_image/c, high=2*zero_mean_image/c)\n",
    "        N = np.random.uniform(low=-c/10, high=c/10, size=X.size).reshape(X.shape)\n",
    "        Y = X.astype(np.float32) * (1 + N)\n",
    "        #print(np.max(N), np.min(N))\n",
    "        #Y = np.clip(a=Y, a_min=0, a_max=255).astype(np.uint8)\n",
    "        #plt.imshow(N, cmap=\"gray\")\n",
    "        #plt.show()\n",
    "        acc_denoised += Y\n",
    "        denoised = acc_denoised/iters\n",
    "        PSNR = IT.distortion.PSNR(denoised, X)\n",
    "        print(c, iters, PSNR)\n",
    "        curve.append(PSNR)\n",
    "        iters += 1\n",
    "        #plt.imshow(denoised, cmap=\"gray\")\n",
    "        #plt.show()\n",
    "        #input()\n",
    "\n",
    "    curves.append(curve)\n",
    "    print()"
   ]
  },
  {
   "cell_type": "code",
   "execution_count": null,
   "metadata": {
    "id": "qPu7zE85Uef3"
   },
   "outputs": [],
   "source": [
    "plt.title(\"Averaging 0MMU noisy instances of \\\"Barb\\\"\")\n",
    "for i in range(len(curves)):\n",
    "    plt.plot(curves[i], label=i)\n",
    "    #print(i)\n",
    "plt.ylabel(\"PSNR\")\n",
    "plt.xlabel(\"number of noisy instances\")\n",
    "plt.legend()\n",
    "plt.show()"
   ]
  },
  {
   "cell_type": "markdown",
   "metadata": {
    "id": "3uY7BNsXUef5"
   },
   "source": [
    "## Zero-mean multiplicative Gaussian (0MMG) noise (speckle noise)\n",
    "\\begin{equation}\n",
    "  Y = X (1 + N),~N\\sim{\\mathcal N}(\\mu=0, \\sigma).\n",
    "\\end{equation}"
   ]
  },
  {
   "cell_type": "markdown",
   "metadata": {
    "id": "BY3MBadtUef6"
   },
   "source": [
    "### 1D"
   ]
  },
  {
   "cell_type": "code",
   "execution_count": null,
   "metadata": {
    "id": "gr4KHBbBUef6"
   },
   "outputs": [],
   "source": [
    "X = np.arange(101) - 50"
   ]
  },
  {
   "cell_type": "code",
   "execution_count": null,
   "metadata": {
    "id": "sxJrLngEUef6"
   },
   "outputs": [],
   "source": [
    "N = np.random.normal(loc=0, scale=1, size=X.size)\n",
    "N.mean()"
   ]
  },
  {
   "cell_type": "code",
   "execution_count": null,
   "metadata": {
    "id": "qzOK85ukUef6"
   },
   "outputs": [],
   "source": [
    "Y = X * (1 + N)"
   ]
  },
  {
   "cell_type": "code",
   "execution_count": null,
   "metadata": {
    "id": "wT6HXALYUef6"
   },
   "outputs": [],
   "source": [
    "plt.title(\"Effect of 0MMG noise on $X=f(x)=x$\")\n",
    "plt.plot(X, label=\"$X$\")\n",
    "plt.plot(Y, label=\"$Y$\")\n",
    "plt.ylabel(\"intensity\")\n",
    "plt.xlabel(\"sample\")\n",
    "plt.legend()\n",
    "plt.show()"
   ]
  },
  {
   "cell_type": "code",
   "execution_count": null,
   "metadata": {
    "id": "dRBpp_ZoUef7"
   },
   "outputs": [],
   "source": [
    "X = np.arange(101)\n",
    "c = 10\n",
    "iters = 100\n",
    "acc_Y = np.zeros_like(X)\n",
    "min_Y = np.ones_like(X) * 1000\n",
    "max_Y = -np.ones_like(X)\n",
    "for i in range(iters):\n",
    "    N = np.random.normal(loc=0, scale=X)\n",
    "    Y = X * (1 + N)\n",
    "    min_Y = np.minimum(Y, min_Y)\n",
    "    max_Y = np.maximum(Y, max_Y)\n",
    "    acc_Y = acc_Y + Y\n",
    "average_Y = acc_Y / (i + 1)"
   ]
  },
  {
   "cell_type": "code",
   "execution_count": null,
   "metadata": {
    "id": "6ekjGvNgUef7"
   },
   "outputs": [],
   "source": [
    "plt.title(\"Averaging signals corrupted by multiplicative Gaussian noise\")\n",
    "plt.plot(average_Y, label=rf\"$\\mathbb{{E}}_{{\\text{{{iters}}}}}(Y)$\")\n",
    "plt.plot(max_Y, label=\"max($Y$)\")\n",
    "plt.plot(min_Y, label=\"min($Y$)\")\n",
    "plt.plot(X, label=\"$X$\")\n",
    "plt.legend()\n",
    "plt.show()"
   ]
  },
  {
   "cell_type": "code",
   "execution_count": null,
   "metadata": {
    "id": "ou-hLkGVUef7"
   },
   "outputs": [],
   "source": [
    "signal = np.ones(100000)\n",
    "acc_means = 0.0\n",
    "l = []\n",
    "for i in range(1000):\n",
    "    N = np.random.normal(loc=0, scale=signal)\n",
    "    mean_N = np.mean(N)\n",
    "    acc_means += mean_N\n",
    "    average_means = acc_means / (i + 1)\n",
    "    l.append(average_means)\n",
    "\n",
    "plt.title(\"Averaging 0MMG noisy instances of $X=f(x)=x$\")\n",
    "plt.plot(l)\n",
    "plt.plot(np.zeros(1000))\n",
    "plt.show()"
   ]
  },
  {
   "cell_type": "markdown",
   "metadata": {
    "id": "BCfP1jTiUef7"
   },
   "source": [
    "### 2D"
   ]
  },
  {
   "cell_type": "markdown",
   "metadata": {},
   "source": [
    "#### 0MMGN_barb"
   ]
  },
  {
   "cell_type": "code",
   "execution_count": null,
   "metadata": {},
   "outputs": [],
   "source": [
    "std_dev = 9/15\n",
    "plt.title(r\"$\\mathrm{Barb}\\cdot(1 + \\mathbf{N}), \\mathbf{N}\\sim \\mathcal{N}\" + rf\"(\\sigma={std_dev:.1f})$\")\n",
    "Y = image * (1 + np.random.normal(loc=0, scale=std_dev, size=image.shape).reshape(image.shape))\n",
    "Y = np.clip(a = Y, a_min=0, a_max=255)\n",
    "plt.imshow(Y, cmap=\"gray\")\n",
    "plt.savefig('0MMGN_barb.pdf', bbox_inches='tight')"
   ]
  },
  {
   "cell_type": "markdown",
   "metadata": {},
   "source": [
    "#### denoised_0MMGN_barb"
   ]
  },
  {
   "cell_type": "code",
   "execution_count": null,
   "metadata": {
    "id": "aOwPkWRVUef8"
   },
   "outputs": [],
   "source": [
    "X = image\n",
    "curves = []\n",
    "for std_dev in range(1, 10, 1):\n",
    "    acc_denoised = np.zeros_like(X, dtype=np.float64)\n",
    "    PSNR = 1\n",
    "    iters = 1\n",
    "    curve = []\n",
    "    while PSNR < min_PSNR:\n",
    "        N = np.random.normal(loc=0, scale=std_dev/15, size=X.shape).reshape(X.shape)\n",
    "        Y = X.astype(np.float32) * (1 + N)\n",
    "        Y = np.clip(a=Y, a_min=0, a_max=255).astype(np.uint8)\n",
    "        acc_denoised += Y\n",
    "        denoised = acc_denoised/iters\n",
    "        PSNR = IT.distortion.PSNR(denoised.astype(np.uint8), X)\n",
    "        print(std_dev/15, iters, PSNR)\n",
    "        curve.append(PSNR)\n",
    "        iters += 1\n",
    "        #plt.imshow(denoised, cmap=\"gray\")\n",
    "        #plt.show()\n",
    "        #input()\n",
    "\n",
    "    curves.append(curve)\n",
    "    #sigma_index += 1\n",
    "    print()\n",
    "\n",
    "plt.title(r\"$\\mathbb{E}_{\\text{\" + str(iters) + r\"}}(\\mathrm{Barb}\\cdot(1 + \\mathbf{N})), \\mathbf{N}\\sim \\mathcal{N}\" + rf\"(\\sigma={std_dev/15:.1f}),\" + r\"\\mathrm{PSNR}=\" + f\"{PSNR:.0f}\" + r\"~\\mathrm{dB}$\")\n",
    "plt.imshow(denoised, cmap=\"gray\")\n",
    "plt.savefig('denoised_0MMGN_barb.pdf', bbox_inches='tight')"
   ]
  },
  {
   "cell_type": "markdown",
   "metadata": {},
   "source": [
    "#### PSNR_0MMGN_barb"
   ]
  },
  {
   "cell_type": "code",
   "execution_count": null,
   "metadata": {
    "id": "QSFvkDqcUef8"
   },
   "outputs": [],
   "source": [
    "plt.title(r\"Stacking performance applied to $\\mathrm{Barb}\\cdot(1 + \\mathbf{N}), \\mathbf{N}\\sim \\mathcal{N}(\\sigma)$\")\n",
    "for i in range(len(curves)):\n",
    "    if len(curves[i]) > 1:\n",
    "        plt.plot(curves[i], label=rf\"$\\sigma={(i+1)/15:.2f}$\")\n",
    "    #print(i)\n",
    "plt.ylabel(r\"PSNR ($\\mathrm{dB}$)\")\n",
    "plt.xlabel(r\"Number of noisy instances\")\n",
    "plt.legend()\n",
    "#plt.show()\n",
    "plt.savefig(\"PSNR_0MMGN_barb.pdf\", bbox_inches='tight')"
   ]
  },
  {
   "cell_type": "markdown",
   "metadata": {
    "id": "IQaoiNc1Uef9"
   },
   "source": [
    "## Rician noise (speckle noise)\n",
    "\\begin{equation}\n",
    "  Y = \\sqrt{(X + N_1)^2 + (N_2)^2}, Y\\sim\\text{Rice}(\\nu,\\sigma)\n",
    "\\end{equation}\n",
    "where:\n",
    "* $\\nu\\ge 0$ is the noncentrality parameter (representing the distance from the origin in the 2D Gaussian space),\n",
    "* $\\sigma$ is the scale parameter (representing the standard deviation of the underlying Gaussian components),\n",
    "* and $N_1$ and $N_2$ are independent Gaussian noise components with zero mean and standard deviation $\\sigma$.\n",
    "\n",
    "We have that\n",
    "\\begin{equation}\n",
    "  \\mathbb{E}(R) = \\sigma \\sqrt{\\pi/2}\\,\\,L_{1/2}(-\\nu^2/2\\sigma^2),\n",
    "\\end{equation}\n",
    "where $L_{1/2}$ is the modified Laguerre function of order 1/2, which implies that the reconstructed signal by averaging will be biased. For this reason, under the assumption that $\\sigma$ is knwon (or estimated), we can correct the averaged signal doing\n",
    "\\begin{equation}\n",
    "  Y_\\text{unbiased} = \\sqrt{Y^2 - 2\\sigma^2}, \\quad \\text{if} ~ Y^2 > 2\\sigma^2.\n",
    "\\end{equation}"
   ]
  },
  {
   "cell_type": "code",
   "execution_count": null,
   "metadata": {
    "id": "eGHIgroyUef9"
   },
   "outputs": [],
   "source": [
    "def add_rician_noise(X, sigma):\n",
    "    \"\"\"\n",
    "    Add Rician noise to X.\n",
    "\n",
    "    Parameters:\n",
    "    - X: signal.\n",
    "    - sigma: Standard deviation of the Gaussian noise components (controls noise strength).\n",
    "\n",
    "    Returns:\n",
    "    - Noisy signal corrupted with Rician noise.\n",
    "    \"\"\"\n",
    "    # Generate two independent Gaussian noise components\n",
    "    N1 = np.random.normal(0, sigma, X.shape)\n",
    "    N2 = np.random.normal(0, sigma, X.shape)\n",
    "\n",
    "    # Apply the Rician noise model\n",
    "    Y = np.sqrt((X + N1)**2 + N2**2)\n",
    "\n",
    "    return Y"
   ]
  },
  {
   "cell_type": "markdown",
   "metadata": {
    "id": "l3RUN6quUef-"
   },
   "source": [
    "### 1D"
   ]
  },
  {
   "cell_type": "code",
   "execution_count": null,
   "metadata": {
    "id": "-ZY3dAUOUef-"
   },
   "outputs": [],
   "source": [
    "X = np.arange(101)\n",
    "X.mean()"
   ]
  },
  {
   "cell_type": "code",
   "execution_count": null,
   "metadata": {
    "id": "NbhlbivfUef-"
   },
   "outputs": [],
   "source": [
    "max_intensity = np.max(X)\n",
    "min_intensity = np.min(X)\n",
    "dynamic_range = max_intensity - min_intensity\n",
    "normalized_X = (X - min_intensity) / dynamic_range"
   ]
  },
  {
   "cell_type": "code",
   "execution_count": null,
   "metadata": {
    "id": "yqkM4MEbUef-"
   },
   "outputs": [],
   "source": [
    "sigma = 8\n",
    "normalized_Y = add_rician_noise(normalized_X, sigma/100)\n",
    "Y = dynamic_range * normalized_Y + min_intensity\n",
    "Y.mean()"
   ]
  },
  {
   "cell_type": "code",
   "execution_count": null,
   "metadata": {
    "id": "qPgXJv7cUef_"
   },
   "outputs": [],
   "source": [
    "plt.title(\"Effect of Rician noise on $X=f(x)=x$\")\n",
    "plt.plot(X, label=\"$X$\")\n",
    "plt.plot(Y, label=\"$Y$\")\n",
    "plt.ylabel(\"intensity\")\n",
    "plt.xlabel(\"sample\")\n",
    "plt.legend()\n",
    "plt.show()"
   ]
  },
  {
   "cell_type": "code",
   "execution_count": null,
   "metadata": {
    "id": "NFIa9cUjUef_"
   },
   "outputs": [],
   "source": [
    "X = np.arange(101)\n",
    "sigma = 10\n",
    "iters = 100\n",
    "acc_Y = np.zeros_like(X)\n",
    "min_Y = np.ones_like(X) * 1000\n",
    "max_Y = -np.ones_like(X)\n",
    "for i in range(iters):\n",
    "    Y = add_rician_noise(X, sigma)\n",
    "    min_Y = np.minimum(Y, min_Y)\n",
    "    max_Y = np.maximum(Y, max_Y)\n",
    "    acc_Y = acc_Y + Y\n",
    "average_Y = acc_Y / (i + 1)"
   ]
  },
  {
   "cell_type": "code",
   "execution_count": null,
   "metadata": {
    "id": "YYQZWDKlUef_"
   },
   "outputs": [],
   "source": [
    "plt.title(\"Averaging Rician noise instances of $X=f(x)=x$\")\n",
    "#plt.plot(average_Y, label=r\"$\\mathbb{E}_{iters}(Y)$\")\n",
    "plt.plot(average_Y, label=rf\"$\\mathbb{{E}}_{{\\text{{{iters}}}}}(Y)$\")\n",
    "#plt.plot(np.random.poisson(X * _lambda) /  _lambda, label=\"$Y$ (example)\")\n",
    "plt.plot(max_Y, label=\"max($Y$)\")\n",
    "plt.plot(min_Y, label=\"min($Y$)\")\n",
    "plt.plot(X, label=\"$X$\")\n",
    "plt.legend()\n",
    "plt.show()"
   ]
  },
  {
   "cell_type": "code",
   "execution_count": null,
   "metadata": {
    "id": "Wxb75qg9Uef_"
   },
   "outputs": [],
   "source": [
    "def correct_rician_bias(Y, sigma):\n",
    "    \"\"\"\n",
    "    Correct the bias introduced by Rician noise in Y.\n",
    "\n",
    "    Parameters:\n",
    "        Y (numpy.ndarray): The noisy signal corrupted by Rician noise.\n",
    "        sigma (float): The standard deviation of the Gaussian noise.\n",
    "\n",
    "    Returns:\n",
    "        numpy.ndarray: The bias-corrected signal.\n",
    "    \"\"\"\n",
    "    # Compute the squared correction term (2 * sigma^2)\n",
    "    correction_term = 2 * sigma**2\n",
    "\n",
    "    # Correct the bias. Notice that if Y^2 < 2*sogma^2, the noise\n",
    "    # dominates and we suppose that Y = 0.\n",
    "    unbiased_Y = np.sqrt(np.maximum(Y**2 - correction_term, 0))\n",
    "\n",
    "    return unbiased_Y"
   ]
  },
  {
   "cell_type": "code",
   "execution_count": null,
   "metadata": {
    "id": "nBlDN3t8Uef_"
   },
   "outputs": [],
   "source": [
    "# Correct the bias after all the iterations\n",
    "average_Y = correct_rician_bias(average_Y, sigma)"
   ]
  },
  {
   "cell_type": "code",
   "execution_count": null,
   "metadata": {
    "id": "Sm-dBNozUef_"
   },
   "outputs": [],
   "source": [
    "plt.title(\"Averaging Rician noise instances of $X=f(x)=x$ (bias corrected)\")\n",
    "#plt.plot(average_Y, label=r\"$\\mathbb{E}_{iters}(Y)$\")\n",
    "plt.plot(average_Y, label=rf\"$\\mathbb{{E}}_{{\\text{{{iters}}}}}(Y)$\")\n",
    "#plt.plot(np.random.poisson(X * _lambda) /  _lambda, label=\"$Y$ (example)\")\n",
    "plt.plot(max_Y, label=\"max($Y$)\")\n",
    "plt.plot(min_Y, label=\"min($Y$)\")\n",
    "plt.plot(X, label=\"$X$\")\n",
    "plt.legend()\n",
    "plt.show()"
   ]
  },
  {
   "cell_type": "code",
   "execution_count": null,
   "metadata": {
    "id": "k-iyB0JDUegA"
   },
   "outputs": [],
   "source": [
    "# Correct the bias at each iteration\n",
    "X = np.arange(101)\n",
    "sigma = 10\n",
    "iters = 100\n",
    "acc_Y = np.zeros_like(X)\n",
    "min_Y = np.ones_like(X) * 1000\n",
    "max_Y = -np.ones_like(X)\n",
    "for i in range(iters):\n",
    "    Y = add_rician_noise(X, sigma)\n",
    "    Y = correct_rician_bias(Y, sigma)\n",
    "    min_Y = np.minimum(Y, min_Y)\n",
    "    max_Y = np.maximum(Y, max_Y)\n",
    "    acc_Y = acc_Y + Y\n",
    "average_Y = acc_Y / (i + 1)"
   ]
  },
  {
   "cell_type": "code",
   "execution_count": null,
   "metadata": {
    "id": "nAhpZ5XmUegA"
   },
   "outputs": [],
   "source": [
    "plt.title(\"Averaging Rician noise instances of $X=f(x)=x$ (bias corrected per iter)\")\n",
    "#plt.plot(average_Y, label=r\"$\\mathbb{E}_{iters}(Y)$\")\n",
    "plt.plot(average_Y, label=rf\"$\\mathbb{{E}}_{{\\text{{{iters}}}}}(Y)$\")\n",
    "#plt.plot(np.random.poisson(X * _lambda) /  _lambda, label=\"$Y$ (example)\")\n",
    "plt.plot(max_Y, label=\"max($Y$)\")\n",
    "plt.plot(min_Y, label=\"min($Y$)\")\n",
    "plt.plot(X, label=\"$X$\")\n",
    "plt.legend()\n",
    "plt.show()"
   ]
  },
  {
   "cell_type": "markdown",
   "metadata": {
    "id": "kXFAPJoLUegA"
   },
   "source": [
    "### 2D"
   ]
  },
  {
   "cell_type": "markdown",
   "metadata": {},
   "source": [
    "#### Rayleigh_barb"
   ]
  },
  {
   "cell_type": "code",
   "execution_count": null,
   "metadata": {},
   "outputs": [],
   "source": [
    "std_dev = 45\n",
    "plt.title(r\"$\\sqrt{(\\mathrm{Barb}+\\mathbf{N}_1)^2 + (\\mathbf{N}_2)^2}, (\\mathbf{N}_1,\\mathbf{N}_2)\\sim \\mathcal{N}\" + rf\"(\\sigma={std_dev:.1f})$\")\n",
    "# \\sqrt{(X + N_1)^2 + (N_2)^2}, Y\\sim\\text{Rice}(\\nu,\\sigma)\n",
    "Y = add_rician_noise(image, std_dev)\n",
    "Y = np.clip(a = Y, a_min=0, a_max=255)\n",
    "plt.imshow(Y, cmap=\"gray\")\n",
    "plt.savefig('Rayleigh_barb.pdf', bbox_inches='tight')"
   ]
  },
  {
   "cell_type": "markdown",
   "metadata": {},
   "source": [
    "#### denoised_Rayleigh_barb"
   ]
  },
  {
   "cell_type": "code",
   "execution_count": null,
   "metadata": {
    "id": "L8vLqYFTUegA",
    "scrolled": true
   },
   "outputs": [],
   "source": [
    "X = image\n",
    "curves = []\n",
    "#print(X.max(), X.min(), X.mean())\n",
    "for sigma in range(15, 50, 5):\n",
    "    acc_denoised = np.zeros_like(X, dtype=np.float64)\n",
    "    PSNR = 1\n",
    "    iters = 1\n",
    "    curve = []\n",
    "    while PSNR < min_PSNR:\n",
    "        Y = add_rician_noise(X, sigma)\n",
    "        Y = correct_rician_bias(Y, sigma)\n",
    "        #print('a', np.max(Y), np.min(Y), np.mean(Y))\n",
    "        #Y = np.clip(a = Y, a_min=0, a_max=255)\n",
    "        #Y = Y.astype(np.uint8)\n",
    "        #print('b', np.max(Y), np.min(Y))\n",
    "        acc_denoised += Y\n",
    "        denoised = acc_denoised/iters\n",
    "        #PSNR = IT.distortion.PSNR(denoised.astype(np.uint8), X)\n",
    "        PSNR = IT.distortion.PSNR(denoised, X)\n",
    "        print(sigma, iters, PSNR, np.max(denoised), np.min(denoised))\n",
    "        curve.append(PSNR)\n",
    "        iters += 1\n",
    "        #print('b', np.mean(denoised))\n",
    "        #plt.imshow(denoised, cmap=\"gray\")\n",
    "        #plt.show()\n",
    "        #input()\n",
    "\n",
    "    curves.append(curve)\n",
    "    print()"
   ]
  },
  {
   "cell_type": "code",
   "execution_count": null,
   "metadata": {},
   "outputs": [],
   "source": [
    "plt.title(r\"$\\mathbb{E}_{\\text{\" + str(iters) + r\"}}(\\sqrt{(\\mathrm{Barb}+\\mathbf{N}_1)^2 + (\\mathbf{N}_2)^2}),\\\\(\\mathbf{N}_1,\\mathbf{N}_2)\\sim \\mathcal{N}\" + rf\"(\\sigma={std_dev:.1f}),\" + r\"\\mathrm{PSNR}=\" + f\"{PSNR:.0f}\" + r\"~\\mathrm{dB}$\")\n",
    "plt.imshow(denoised, cmap=\"gray\")\n",
    "plt.savefig('denoised_Rayleigh_barb.pdf', bbox_inches='tight')"
   ]
  },
  {
   "cell_type": "markdown",
   "metadata": {},
   "source": [
    "#### PSNR_Rayleigh_barb"
   ]
  },
  {
   "cell_type": "code",
   "execution_count": null,
   "metadata": {
    "id": "WOMQNqb-UegA"
   },
   "outputs": [],
   "source": [
    "plt.title(r\"Stacking performance $\\sqrt{(\\mathrm{Barb}+\\mathbf{N}_1)^2 + (\\mathbf{N}_2)^2}, (\\mathbf{N}_1,\\mathbf{N}_2)\\sim \\mathcal{N}\" + r\"(\\sigma)$\")\n",
    "for i in range(len(curves)):\n",
    "    plt.plot(curves[i], label=i)\n",
    "    #print(i)\n",
    "plt.ylabel(r\"PSNR ($\\mathrm{dB}$)\")\n",
    "plt.xlabel(r\"Number of noisy instances\")\n",
    "plt.legend()\n",
    "#plt.show()\n",
    "plt.savefig(\"PSNR_Rayleigh_barb.pdf\", bbox_inches='tight')"
   ]
  },
  {
   "cell_type": "code",
   "execution_count": null,
   "metadata": {
    "id": "b-r4FvniUegB"
   },
   "outputs": [],
   "source": [
    "input()"
   ]
  },
  {
   "cell_type": "markdown",
   "metadata": {
    "id": "HWGPOFR9UegB"
   },
   "source": [
    "# -------- Ignore the rest ---------"
   ]
  },
  {
   "cell_type": "code",
   "execution_count": null,
   "metadata": {
    "id": "ZxVWymSMUegB"
   },
   "outputs": [],
   "source": [
    "acc_means = 0.0\n",
    "l = []\n",
    "for i in range(1000):\n",
    "    #N = np.random.uniform(low=-10, high=10, size=X.size)\n",
    "    N = np.random.uniform(low=-1, high=1, size=100000)\n",
    "    #print(N[0])\n",
    "    mean_N = np.mean(N)\n",
    "    #print(mean_N)\n",
    "    acc_means += mean_N\n",
    "    average_means = acc_means / (i + 1)\n",
    "    l.append(average_means)\n",
    "    #print(i, average_means)\n",
    "\n",
    "plt.title(\"Average of means for zero-mean aditive uniform noise\")\n",
    "plt.plot(l)\n",
    "plt.plot(np.zeros(1000))\n",
    "plt.show()"
   ]
  },
  {
   "cell_type": "code",
   "execution_count": null,
   "metadata": {
    "id": "jXSIW2doUegB"
   },
   "outputs": [],
   "source": [
    "signal = np.ones(100000)\n",
    "acc_means = 0.0\n",
    "l = []\n",
    "for i in range(1000):\n",
    "    N = np.random.uniform(low=-signal, high=signal)\n",
    "    mean_N = np.mean(N)\n",
    "    acc_means += mean_N\n",
    "    average_means = acc_means / (i + 1)\n",
    "    l.append(average_means)\n",
    "\n",
    "plt.title(\"Average of means for zero-mean multiplicative uniform noise\")\n",
    "plt.plot(l)\n",
    "plt.plot(np.zeros(1000))\n",
    "plt.show()"
   ]
  },
  {
   "cell_type": "markdown",
   "metadata": {
    "id": "LzULwXpWUegC"
   },
   "source": [
    "## Signal-dependent additive uniform noise"
   ]
  },
  {
   "cell_type": "markdown",
   "metadata": {
    "id": "VcTW6i2_UegC"
   },
   "source": [
    "### 1D"
   ]
  },
  {
   "cell_type": "code",
   "execution_count": null,
   "metadata": {
    "id": "VX_TIeNZUegC"
   },
   "outputs": [],
   "source": [
    "signal = np.arange(101) - 50"
   ]
  },
  {
   "cell_type": "code",
   "execution_count": null,
   "metadata": {
    "id": "j_6kxlAAUegC"
   },
   "outputs": [],
   "source": [
    "noise = np.random.uniform(low=-signal, high=signal)\n",
    "noise.mean()"
   ]
  },
  {
   "cell_type": "code",
   "execution_count": null,
   "metadata": {
    "id": "uGEjEucpUegC"
   },
   "outputs": [],
   "source": [
    "noisy = signal + noise"
   ]
  },
  {
   "cell_type": "code",
   "execution_count": null,
   "metadata": {
    "id": "jEP4d8h4UegC"
   },
   "outputs": [],
   "source": [
    "plt.title(\"signal-dependent additive uniform noise\")\n",
    "plt.plot(signal, signal, label=\"signal\")\n",
    "plt.plot(signal, noisy, label=\"noisy\")\n",
    "plt.legend()\n",
    "plt.show()"
   ]
  },
  {
   "cell_type": "markdown",
   "metadata": {
    "id": "D8N-oPF1UegD"
   },
   "source": [
    "### 2D"
   ]
  },
  {
   "cell_type": "code",
   "execution_count": null,
   "metadata": {
    "id": "oWgwWADfUegD"
   },
   "outputs": [],
   "source": [
    "mean = np.mean(image)\n",
    "zero_mean_image = image.astype(np.float32) - mean\n",
    "print(np.mean(zero_mean_image))"
   ]
  },
  {
   "cell_type": "code",
   "execution_count": null,
   "metadata": {
    "id": "PMaD7ISiUegD"
   },
   "outputs": [],
   "source": [
    "curves = []\n",
    "for c in range(1, 10, 1):\n",
    "    acc_denoised = np.zeros_like(image, dtype=np.float64)\n",
    "    PSNR = 1\n",
    "    iters = 1\n",
    "    curve = []\n",
    "    while PSNR < min_PSNR:\n",
    "        noise = np.random.uniform(low=-2*zero_mean_image/c, high=2*zero_mean_image/c)\n",
    "        noisy = image + noise\n",
    "        #print(np.max(noise), np.min(noise))\n",
    "        noisy = np.clip(a=noisy, a_min=0, a_max=255).astype(np.uint8)\n",
    "        acc_denoised += noisy\n",
    "        denoised = acc_denoised/iters\n",
    "        PSNR = IT.distortion.PSNR(denoised.astype(np.uint8), image)\n",
    "        print(c, iters, PSNR)\n",
    "        curve.append(PSNR)\n",
    "        iters += 1\n",
    "        #plt.imshow(denoised, cmap=\"gray\")\n",
    "        #plt.show()\n",
    "        #input()\n",
    "\n",
    "    curves.append(curve)\n",
    "    print()"
   ]
  },
  {
   "cell_type": "code",
   "execution_count": null,
   "metadata": {
    "id": "dobJBW5EUegD"
   },
   "outputs": [],
   "source": [
    "plt.title(\"signal-dependent additive uniform noise\")\n",
    "for i in range(len(curves)):\n",
    "    plt.plot(curves[i], label=i)\n",
    "    #print(i)\n",
    "plt.legend()\n",
    "plt.show()"
   ]
  },
  {
   "cell_type": "code",
   "execution_count": null,
   "metadata": {
    "id": "Su3t_3OZUegE"
   },
   "outputs": [],
   "source": []
  },
  {
   "cell_type": "code",
   "execution_count": null,
   "metadata": {
    "id": "v00RChjcUegE"
   },
   "outputs": [],
   "source": [
    "x = np.arange(10)\n",
    "print(np.random.normal(x, scale=1.0))\n",
    "print(np.random.poisson(x))"
   ]
  },
  {
   "cell_type": "code",
   "execution_count": null,
   "metadata": {
    "id": "UQIebKJ3UegF",
    "scrolled": true
   },
   "outputs": [],
   "source": [
    "curves = []\n",
    "#sigma_index = 1\n",
    "max_intensity = np.max(image)\n",
    "min_intensity = np.min(image)\n",
    "dynamic_range = max_intensity - min_intensity\n",
    "normalized_image = (image - min_intensity) / dynamic_range\n",
    "#print(\"image\", np.max(image), np.min(image))\n",
    "#print(normalized_image.dtype)\n",
    "for std_dev in range(10, 100, 10):\n",
    "    acc_denoised = np.zeros_like(image, dtype=np.float64)\n",
    "    PSNR = 1\n",
    "    iters = 1\n",
    "    curve = []\n",
    "    while PSNR < min_PSNR:\n",
    "        #noisy = np.clip(a = dynamic_range * np.random.poisson(normalized_image*_lambda)/_lambda + min_intensity,  a_min=0, a_max=255).astype(np.uint8)\n",
    "        #noisy = dynamic_range * np.random.normal(normalized_image*std_dev)/std_dev + min_intensity\n",
    "        noisy = np.random.normal(loc=image, scale=std_dev)\n",
    "        print('a', np.max(noisy), np.min(noisy))\n",
    "        noisy = np.clip(a = noisy, a_min=0, a_max=255)\n",
    "        noisy = noisy.astype(np.uint8)\n",
    "        #print('b', np.max(noisy), np.min(noisy))\n",
    "        acc_denoised += noisy\n",
    "        denoised = acc_denoised/iters\n",
    "        PSNR = IT.distortion.PSNR(denoised.astype(np.uint8), image)\n",
    "        print(_lambda, iters, PSNR, np.max(denoised), np.min(denoised))\n",
    "        curve.append(PSNR)\n",
    "        iters += 1\n",
    "        #plt.imshow(denoised, cmap=\"gray\")\n",
    "        #plt.show()\n",
    "        #input()\n",
    "\n",
    "    curves.append(curve)\n",
    "    #print()"
   ]
  },
  {
   "cell_type": "code",
   "execution_count": null,
   "metadata": {
    "id": "HJptLWCLUegF"
   },
   "outputs": [],
   "source": [
    "curves = []\n",
    "mean = 0\n",
    "#sigma_index = 1\n",
    "for std_dev in range(10, 40, 4):\n",
    "    acc_denoised = np.zeros_like(image, dtype=np.float64)\n",
    "    PSNR = 1\n",
    "    iters = 1\n",
    "    curve = []\n",
    "    while PSNR < min_PSNR:\n",
    "        noise = np.random.normal(mean, std_dev, image.shape).reshape(image.shape)\n",
    "        print(np.max(noise), np.min(noise))\n",
    "        #noisy = np.clip(a=image.astype(np.float32) + (1 + noise), a_min=0, a_max=255).astype(np.uint8)\n",
    "        noisy = dynamic_range * np.random.normal(normalized_image*_lambda)/_lambda + min_intensity\n",
    "        #noisy = image.astype(np.float32) * (1+noise)\n",
    "        acc_denoised += noisy\n",
    "        denoised = acc_denoised/iters\n",
    "        PSNR = IT.distortion.PSNR(denoised.astype(np.uint8), image)\n",
    "        print(std_dev, iters, PSNR)\n",
    "        curve.append(PSNR)\n",
    "        iters += 1\n",
    "        plt.imshow(np.clip(denoised, 0, 255).astype(np.uint8), cmap=\"gray\")\n",
    "        plt.show()\n",
    "        input()\n",
    "\n",
    "    curves.append(curve)\n",
    "    #sigma_index += 1\n",
    "    #print()"
   ]
  },
  {
   "cell_type": "code",
   "execution_count": null,
   "metadata": {
    "id": "Bf8N6qHaUegG"
   },
   "outputs": [],
   "source": [
    "for i in range(len(range(10,100,10))):\n",
    "    plt.plot(curves[i], label=i)\n",
    "    #print(i)\n",
    "plt.legend()\n",
    "plt.show()"
   ]
  },
  {
   "cell_type": "markdown",
   "metadata": {
    "id": "GDFn6txgUegG"
   },
   "source": [
    "## Signal-dependent additive Gaussian noise"
   ]
  },
  {
   "cell_type": "markdown",
   "metadata": {
    "id": "iaWNV8KKUegG"
   },
   "source": [
    "### 1D"
   ]
  },
  {
   "cell_type": "code",
   "execution_count": null,
   "metadata": {
    "id": "JOMKsjg5UegG"
   },
   "outputs": [],
   "source": [
    "signal = np.arange(101) - 50"
   ]
  },
  {
   "cell_type": "code",
   "execution_count": null,
   "metadata": {
    "id": "C-JUbQ9TUegG"
   },
   "outputs": [],
   "source": [
    "noise = np.random.normal(loc=0, scale=np.abs(signal))\n",
    "noise.mean()"
   ]
  },
  {
   "cell_type": "code",
   "execution_count": null,
   "metadata": {
    "id": "2TCSmMHbUegH"
   },
   "outputs": [],
   "source": [
    "noisy = signal + noise"
   ]
  },
  {
   "cell_type": "code",
   "execution_count": null,
   "metadata": {
    "id": "9bPih2BRUegH"
   },
   "outputs": [],
   "source": [
    "plt.title(\"signal-dependent additive Gaussian noise\")\n",
    "plt.plot(signal, signal, label=\"signal\")\n",
    "plt.plot(signal, noisy, label=\"noisy\")\n",
    "plt.legend()\n",
    "plt.show()"
   ]
  },
  {
   "cell_type": "markdown",
   "metadata": {
    "id": "qG_05lgaUegH"
   },
   "source": [
    "### 2D"
   ]
  },
  {
   "cell_type": "code",
   "execution_count": null,
   "metadata": {
    "id": "mHl5NawRUegH"
   },
   "outputs": [],
   "source": [
    "curves = []\n",
    "for std_dev in range(1, 10, 1):\n",
    "    acc_denoised = np.zeros_like(image, dtype=np.float64)\n",
    "    PSNR = 1\n",
    "    iters = 1\n",
    "    curve = []\n",
    "    while PSNR < min_PSNR:\n",
    "        noise = np.random.normal(loc=0, scale=image/std_dev/2)\n",
    "        noisy = image + noise\n",
    "        #print(np.max(noise), np.min(noise))\n",
    "        noisy = np.clip(a=noisy, a_min=0, a_max=255).astype(np.uint8)\n",
    "        acc_denoised += noisy\n",
    "        denoised = acc_denoised/iters\n",
    "        PSNR = IT.distortion.PSNR(denoised.astype(np.uint8), image)\n",
    "        print(std_dev, iters, PSNR)\n",
    "        curve.append(PSNR)\n",
    "        iters += 1\n",
    "        #plt.imshow(denoised, cmap=\"gray\")\n",
    "        #plt.show()\n",
    "        #input()\n",
    "\n",
    "    curves.append(curve)\n",
    "    #sigma_index += 1\n",
    "    print()"
   ]
  },
  {
   "cell_type": "code",
   "execution_count": null,
   "metadata": {
    "id": "9S4lxLXnUegH",
    "scrolled": true
   },
   "outputs": [],
   "source": [
    "plt.title(\"signal-dependent additive Gaussian noise\")\n",
    "for i in range(len(curves)):\n",
    "    plt.plot(curves[i], label=i)\n",
    "    #print(i)\n",
    "plt.legend()\n",
    "plt.show()"
   ]
  },
  {
   "cell_type": "markdown",
   "metadata": {
    "id": "3cdWNqmWUegH"
   },
   "source": [
    "## Using signal-independent multiplicative uniform noise"
   ]
  },
  {
   "cell_type": "code",
   "execution_count": null,
   "metadata": {
    "id": "KrH6_2stUegI"
   },
   "outputs": [],
   "source": [
    "noise = np.random.uniform(low=-5, high=5, size=signal.size).astype(np.int32)\n",
    "noisy = signal * (1 + noise/5)\n",
    "#noisy = np.random.uniform(low=-signal/2, high=signal/2) + signal\n",
    "#noisy = np.random.uniform(low=-signal/2, high=signal/2)"
   ]
  },
  {
   "cell_type": "code",
   "execution_count": null,
   "metadata": {
    "id": "u5IIt_zyUegI"
   },
   "outputs": [],
   "source": [
    "plt.title(\"signal-independent multiplicative uniform noise\")\n",
    "plt.plot(signal, signal, label=\"signal\")\n",
    "plt.plot(signal, noisy, label=\"noisy\")\n",
    "#plt.plot(signal, noisy2, label=\"noisy2\")\n",
    "plt.legend()\n",
    "plt.show()"
   ]
  },
  {
   "cell_type": "code",
   "execution_count": null,
   "metadata": {
    "id": "47KHyrDdUegI"
   },
   "outputs": [],
   "source": [
    "curves = []\n",
    "#sigma_index = 1\n",
    "for c in range(1, 10, 1):\n",
    "    acc_denoised = np.zeros_like(image, dtype=np.float64)\n",
    "    PSNR = 1\n",
    "    iters = 1\n",
    "    curve = []\n",
    "    while PSNR < min_PSNR:\n",
    "        noise = np.random.uniform(-c/10, c/10, image.shape).reshape(image.shape)\n",
    "        #print(np.max(noise), np.min(noise))\n",
    "        noisy = np.clip(a=image.astype(np.float32) * (1 + noise), a_min=0, a_max=255).astype(np.uint8)\n",
    "        acc_denoised += noisy\n",
    "        denoised = acc_denoised/iters\n",
    "        PSNR = IT.distortion.PSNR(denoised.astype(np.uint8), image)\n",
    "        print(c, iters, PSNR)\n",
    "        curve.append(PSNR)\n",
    "        iters += 1\n",
    "        #plt.imshow(denoised, cmap=\"gray\")\n",
    "        #plt.show()\n",
    "        #input()\n",
    "\n",
    "    curves.append(curve)\n",
    "    #print()"
   ]
  },
  {
   "cell_type": "code",
   "execution_count": null,
   "metadata": {
    "id": "5S6GFjjMUegI"
   },
   "outputs": [],
   "source": [
    "for i in range(len(range(10,100,10))):\n",
    "    plt.plot(curves[i], label=i)\n",
    "    #print(i)\n",
    "plt.legend()\n",
    "plt.show()"
   ]
  },
  {
   "cell_type": "markdown",
   "metadata": {
    "id": "N_CAk34wUegI"
   },
   "source": [
    "### Using signal-dependent multiplicative Gaussian noise"
   ]
  },
  {
   "cell_type": "code",
   "execution_count": null,
   "metadata": {
    "id": "O0cIzzN4UegI"
   },
   "outputs": [],
   "source": [
    "noise = np.random.normal(loc=0, scale=np.abs(signal))\n",
    "noisy = signal + (1 + noise)"
   ]
  },
  {
   "cell_type": "code",
   "execution_count": null,
   "metadata": {
    "id": "gDwSIrsTUegJ"
   },
   "outputs": [],
   "source": [
    "plt.title(\"signal-dependent multiplicative Gaussian noise\")\n",
    "plt.plot(signal, signal, label=\"signal\")\n",
    "plt.plot(signal, noisy, label=\"noisy\")\n",
    "plt.legend()\n",
    "plt.show()"
   ]
  },
  {
   "cell_type": "code",
   "execution_count": null,
   "metadata": {
    "id": "fKM_0KbDUegJ",
    "scrolled": true
   },
   "outputs": [],
   "source": [
    "curves = []\n",
    "for std_dev in range(1, 10, 1):\n",
    "    acc_denoised = np.zeros_like(image, dtype=np.float64)\n",
    "    PSNR = 1\n",
    "    iters = 1\n",
    "    curve = []\n",
    "    while PSNR < min_PSNR:\n",
    "        noise = np.random.normal(loc=0, scale=image/(std_dev*300))\n",
    "        noisy = image * (1 + noise)\n",
    "        print(np.max(noise), np.min(noise))\n",
    "        noisy = np.clip(a=noisy, a_min=0, a_max=255).astype(np.uint8)\n",
    "        acc_denoised += noisy\n",
    "        denoised = acc_denoised/iters\n",
    "        PSNR = IT.distortion.PSNR(denoised.astype(np.uint8), image)\n",
    "        print(std_dev, iters, PSNR)\n",
    "        curve.append(PSNR)\n",
    "        iters += 1\n",
    "        #plt.imshow(denoised, cmap=\"gray\")\n",
    "        #plt.show()\n",
    "        #input()\n",
    "\n",
    "    curves.append(curve)\n",
    "    #sigma_index += 1\n",
    "    print()"
   ]
  },
  {
   "cell_type": "code",
   "execution_count": null,
   "metadata": {
    "id": "g1GeU4xoUegJ"
   },
   "outputs": [],
   "source": [
    "plt.title(\"signal-dependent multiplicative Gaussian noise\")\n",
    "for i in range(len(curves)):\n",
    "    plt.plot(curves[i], label=i)\n",
    "    #print(i)\n",
    "plt.legend()\n",
    "plt.show()"
   ]
  },
  {
   "cell_type": "markdown",
   "metadata": {
    "id": "MdxMf8JhUegJ"
   },
   "source": [
    "### Versión antigua Poisson noise"
   ]
  },
  {
   "cell_type": "code",
   "execution_count": null,
   "metadata": {
    "id": "v-E2KEr7UegJ"
   },
   "outputs": [],
   "source": [
    "_lambda = 1\n",
    "#noisy = np.random.poisson(lam=(normalized_signal*_lambda))\n",
    "#noisy = normalized_signal * (1 + np.random.poisson(_lambda, len(signal)))\n",
    "#noisy = dynamic_range * noisy/_lambda + min_intensity\n",
    "#Y = np.random.poisson((X + 1) * _lambda)\n",
    "#Y = Y - _lambda\n",
    "Y = np.random.poisson(X * _lambda)\n",
    "#noisy = dynamic_range * noisy/_lambda + min_intensity\n",
    "#noisy = signal + noisy / mean\n",
    "#Y -= _lambda\n",
    "Y = Y / _lambda\n",
    "print(np.mean(Y))"
   ]
  },
  {
   "cell_type": "code",
   "execution_count": null,
   "metadata": {
    "id": "gqZs5QVuUegJ"
   },
   "outputs": [],
   "source": [
    "# Versión antigua Poisson noise\n",
    "curves = []\n",
    "#sigma_index = 1\n",
    "max_intensity = np.max(image)\n",
    "min_intensity = np.min(image)\n",
    "dynamic_range = max_intensity - min_intensity\n",
    "normalized_image = (image - min_intensity) / dynamic_range\n",
    "print(\"image\", np.max(image), np.min(image), np.mean(image))\n",
    "#print(normalized_image.dtype)\n",
    "#for _lambda in range(20, 200, 20):\n",
    "for _lambda in range(2, 20, 2):\n",
    "    acc_denoised = np.zeros_like(image, dtype=np.float64)\n",
    "    PSNR = 1\n",
    "    iters = 1\n",
    "    curve = []\n",
    "    while PSNR < min_PSNR:\n",
    "        #noisy = np.clip(a = dynamic_range * np.random.poisson(normalized_image*_lambda)/_lambda + min_intensity,  a_min=0, a_max=255).astype(np.uint8)\n",
    "        noisy = np.random.poisson(lam=normalized_image*_lambda) # noisy[i]~Poisson(normalized_image[i]*_lambda)~\n",
    "        #noisy = normalized_image * (1 + np.random.poisson(lam=_lambda, size=image.shape))\n",
    "        noisy = dynamic_range * noisy/_lambda + min_intensity\n",
    "        #noisy = dynamic_range * np.random.normal(normalized_image*_lambda)/_lambda + min_intensity\n",
    "        print('a', np.max(noisy), np.min(noisy), np.mean(noisy))\n",
    "        noisy = np.clip(a = noisy, a_min=0, a_max=255)\n",
    "        noisy = noisy.astype(np.uint8)\n",
    "        #print('b', np.max(noisy), np.min(noisy))\n",
    "        acc_denoised += noisy\n",
    "        denoised = acc_denoised/iters\n",
    "        PSNR = IT.distortion.PSNR(denoised.astype(np.uint8), image)\n",
    "        print(_lambda, iters, PSNR, np.max(denoised), np.min(denoised))\n",
    "        curve.append(PSNR)\n",
    "        iters += 1\n",
    "        #print('b', np.mean(denoised))\n",
    "        #plt.imshow(denoised, cmap=\"gray\")\n",
    "        #plt.show()\n",
    "        #input()\n",
    "\n",
    "    curves.append(curve)\n",
    "    print()"
   ]
  },
  {
   "cell_type": "code",
   "execution_count": null,
   "metadata": {
    "id": "VxmZyYy4UegK"
   },
   "outputs": [],
   "source": [
    "### Poisson noise\n",
    "max_intensity = np.max(signal)\n",
    "min_intensity = np.min(signal)\n",
    "dynamic_range = max_intensity - min_intensity\n",
    "normalized_signal = (signal - min_intensity) / dynamic_range\n",
    "mean = _lambda = 60\n",
    "#noisy = np.random.poisson(lam=(normalized_signal*_lambda))\n",
    "#noisy = normalized_signal * (1 + np.random.poisson(_lambda, len(signal)))\n",
    "#noisy = dynamic_range * noisy/_lambda + min_intensity\n",
    "noisy = np.random.poisson(normalized_signal*_lambda)\n",
    "noisy = noisy - _lambda/2\n",
    "noisy = dynamic_range * noisy/_lambda + min_intensity\n",
    "noisy = signal + noisy / mean\n",
    "print(np.mean(noisy))"
   ]
  },
  {
   "cell_type": "code",
   "execution_count": null,
   "metadata": {
    "id": "7NIN1Z6dUegK"
   },
   "outputs": [],
   "source": [
    "signal = np.arange(100000)\n",
    "_lambda = 0.0001\n",
    "acc_means = 0.0\n",
    "l = []\n",
    "for i in range(1000):\n",
    "    N = np.random.poisson(signal*_lambda)\n",
    "    N = N - _lambda\n",
    "    mean_N = np.mean(N)\n",
    "    acc_means += mean_N\n",
    "    average_means = acc_means / (i + 1)\n",
    "    l.append(average_means)\n",
    "\n",
    "plt.title(\"Average of means for zero-mean Poisson noise\")\n",
    "plt.plot(l)\n",
    "plt.plot(np.zeros(1000))\n",
    "plt.show()"
   ]
  },
  {
   "cell_type": "markdown",
   "metadata": {
    "id": "A0DTVPTHUegK"
   },
   "source": [
    "## Version antigua Rician noise"
   ]
  },
  {
   "cell_type": "code",
   "execution_count": null,
   "metadata": {
    "id": "par6L27tUegK"
   },
   "outputs": [],
   "source": [
    "curves = []\n",
    "#sigma_index = 1\n",
    "max_intensity = np.max(image)\n",
    "min_intensity = np.min(image)\n",
    "dynamic_range = max_intensity - min_intensity\n",
    "normalized_image = (image - min_intensity) / dynamic_range\n",
    "print(\"image\", np.max(image), np.min(image), np.mean(image))\n",
    "#print(normalized_image.dtype)\n",
    "#for _lambda in range(20, 200, 20):\n",
    "for sigma in range(7, 17, 1):\n",
    "    acc_denoised = np.zeros_like(image, dtype=np.float64)\n",
    "    PSNR = 1\n",
    "    iters = 1\n",
    "    curve = []\n",
    "    while PSNR < min_PSNR:\n",
    "        #noisy = np.clip(a = dynamic_range * np.random.poisson(normalized_image*_lambda)/_lambda + min_intensity,  a_min=0, a_max=255).astype(np.uint8)\n",
    "        #noisy = np.random.poisson(normalized_image*_lambda) # noisy[i]~Poisson(normalized_image[i]*_lambda)~\n",
    "        noisy = add_rician_noise(normalized_image, sigma/100)\n",
    "        noisy = dynamic_range * noisy + min_intensity\n",
    "        #noisy = dynamic_range * np.random.normal(normalized_image*_lambda)/_lambda + min_intensity\n",
    "        print('a', np.max(noisy), np.min(noisy), np.mean(noisy))\n",
    "        noisy = np.clip(a = noisy, a_min=0, a_max=255)\n",
    "        noisy = noisy.astype(np.uint8)\n",
    "        #print('b', np.max(noisy), np.min(noisy))\n",
    "        acc_denoised += noisy\n",
    "        denoised = acc_denoised/iters\n",
    "        PSNR = IT.distortion.PSNR(denoised.astype(np.uint8), image)\n",
    "        print(_lambda, iters, PSNR, np.max(denoised), np.min(denoised))\n",
    "        curve.append(PSNR)\n",
    "        iters += 1\n",
    "        #print('b', np.mean(denoised))\n",
    "        plt.imshow(denoised, cmap=\"gray\")\n",
    "        plt.show()\n",
    "        input()\n",
    "\n",
    "    curves.append(curve)\n",
    "    print()"
   ]
  },
  {
   "cell_type": "code",
   "execution_count": null,
   "metadata": {
    "id": "TECBvuAmUegK"
   },
   "outputs": [],
   "source": []
  },
  {
   "cell_type": "code",
   "execution_count": null,
   "metadata": {
    "id": "PSljjqOeUegL"
   },
   "outputs": [],
   "source": []
  },
  {
   "cell_type": "code",
   "execution_count": null,
   "metadata": {
    "id": "fcbdLHIWUegL"
   },
   "outputs": [],
   "source": [
    "mean = 0\n",
    "var = 1000\n",
    "std_dev = 30\n",
    "noise = np.random.normal(mean, std_dev, image.shape).reshape(image.shape)\n",
    "noisy = np.clip(a=image.astype(np.float32) + noise, a_min=0, a_max=255).astype(np.uint8)"
   ]
  },
  {
   "cell_type": "code",
   "execution_count": null,
   "metadata": {
    "id": "m8g-71KCUegL"
   },
   "outputs": [],
   "source": [
    "IT.distortion.PSNR(noisy, image)"
   ]
  },
  {
   "cell_type": "code",
   "execution_count": null,
   "metadata": {
    "id": "484deWSPUegL"
   },
   "outputs": [],
   "source": [
    "IT."
   ]
  },
  {
   "cell_type": "code",
   "execution_count": null,
   "metadata": {
    "id": "D8OggAsZUegL"
   },
   "outputs": [],
   "source": [
    "np.max(noisy)"
   ]
  },
  {
   "cell_type": "code",
   "execution_count": null,
   "metadata": {
    "id": "fbIyoZKNUegM"
   },
   "outputs": [],
   "source": [
    "np.min(noisy)"
   ]
  },
  {
   "cell_type": "code",
   "execution_count": null,
   "metadata": {
    "id": "S3hFm5R4UegM"
   },
   "outputs": [],
   "source": [
    "plt.imshow(noisy, cmap=\"gray\")"
   ]
  },
  {
   "cell_type": "code",
   "execution_count": null,
   "metadata": {
    "id": "MbKyeD6tUegM"
   },
   "outputs": [],
   "source": [
    "denoised = cv2.fastNlMeansDenoising(noisy, None, h=33, templateWindowSize=7, searchWindowSize=9)"
   ]
  },
  {
   "cell_type": "code",
   "execution_count": null,
   "metadata": {
    "editable": true,
    "id": "Fk-H4da4UegM",
    "tags": []
   },
   "outputs": [],
   "source": [
    "fig, axs = plt.subplots(1, 2, figsize=(16, 32))\n",
    "axs[0].imshow(noisy, cmap=\"gray\")\n",
    "axs[0].set_title(f\"Noisy\")\n",
    "axs[1].imshow(denoised, cmap=\"gray\")\n",
    "axs[1].set_title(f\"Denoised (DQI={information_theory.information.compute_quality_index(noisy, denoised)})\")\n",
    "fig.tight_layout()\n",
    "plt.show()"
   ]
  },
  {
   "cell_type": "code",
   "execution_count": null,
   "metadata": {
    "id": "U5_M2LVvUegN"
   },
   "outputs": [],
   "source": [
    "np.mean(noisy)"
   ]
  },
  {
   "cell_type": "code",
   "execution_count": null,
   "metadata": {
    "id": "i7VhfTKoUegN"
   },
   "outputs": [],
   "source": [
    "np.mean(denoised)"
   ]
  },
  {
   "cell_type": "code",
   "execution_count": null,
   "metadata": {
    "id": "bi46AUn6UegN"
   },
   "outputs": [],
   "source": [
    "denoised = image"
   ]
  },
  {
   "cell_type": "code",
   "execution_count": null,
   "metadata": {
    "id": "mb5jzZNkUegN"
   },
   "outputs": [],
   "source": [
    "denoised.dtype"
   ]
  },
  {
   "cell_type": "code",
   "execution_count": null,
   "metadata": {
    "id": "uJ-UzE1pUegN"
   },
   "outputs": [],
   "source": [
    "from skimage.metrics import structural_similarity as ssim\n",
    "from scipy import stats"
   ]
  },
  {
   "cell_type": "code",
   "execution_count": null,
   "metadata": {
    "id": "i38zmMTyUegN"
   },
   "outputs": [],
   "source": [
    "diff = (noisy - denoised).astype(np.uint8)"
   ]
  },
  {
   "cell_type": "code",
   "execution_count": null,
   "metadata": {
    "id": "BqTjbesEUegN"
   },
   "outputs": [],
   "source": [
    "plt.imshow(diff, cmap=\"gray\")"
   ]
  },
  {
   "cell_type": "code",
   "execution_count": null,
   "metadata": {
    "id": "XyrfPVbnUegN"
   },
   "outputs": [],
   "source": [
    "_, N = ssim(noisy, diff, full=True)"
   ]
  },
  {
   "cell_type": "code",
   "execution_count": null,
   "metadata": {
    "id": "u2YDq041UegN"
   },
   "outputs": [],
   "source": [
    "plt.imshow(N, cmap=\"gray\")"
   ]
  },
  {
   "cell_type": "code",
   "execution_count": null,
   "metadata": {
    "id": "--q6Gg8aUegN"
   },
   "outputs": [],
   "source": [
    "_, P = ssim(noisy, denoised.astype(np.uint8), full=True)"
   ]
  },
  {
   "cell_type": "code",
   "execution_count": null,
   "metadata": {
    "id": "QjWMH6orUegN"
   },
   "outputs": [],
   "source": [
    "plt.imshow(P, cmap=\"gray\")"
   ]
  },
  {
   "cell_type": "code",
   "execution_count": null,
   "metadata": {
    "id": "8o17F-TbUegO"
   },
   "outputs": [],
   "source": [
    "quality, _ = stats.pearsonr(N.flatten(), P.flatten())"
   ]
  },
  {
   "cell_type": "code",
   "execution_count": null,
   "metadata": {
    "id": "hMfFB8oBUegO"
   },
   "outputs": [],
   "source": [
    "quality"
   ]
  },
  {
   "cell_type": "code",
   "execution_count": null,
   "metadata": {
    "id": "5MX5qwgJUegO"
   },
   "outputs": [],
   "source": [
    "import numpy as np\n",
    "import matplotlib.pyplot as plt\n",
    "from scipy.fft import fft2, ifft2, fftshift, ifftshift\n",
    "\n",
    "# Function to add Gaussian noise\n",
    "def add_gaussian_noise(image, sigma):\n",
    "    noise = np.random.normal(0, sigma, image.shape)\n",
    "    noisy_image = image + noise\n",
    "    return noisy_image\n",
    "\n",
    "# Function to add Gaussian noise in the Fourier domain\n",
    "def add_gaussian_noise_fourier(image, sigma):\n",
    "    # Compute the Fourier transform of the image\n",
    "    image_fft = fft2(image)\n",
    "    # Generate Gaussian noise in the frequency domain\n",
    "    noise_fft = np.random.normal(0, sigma, image_fft.shape) + 1j * np.random.normal(0, sigma, image_fft.shape)\n",
    "    noisy_image_fft = image_fft + noise_fft\n",
    "    # Transform back to the spatial domain\n",
    "    noisy_image = np.abs(ifft2(noisy_image_fft))\n",
    "    return noisy_image\n",
    "\n",
    "# Load a sample grayscale image (e.g., from matplotlib's sample data)\n",
    "from skimage import data\n",
    "image = data.camera() / 255.0  # Normalize the image to [0, 1]\n",
    "\n",
    "# Add Gaussian noise in spatial and Fourier domains\n",
    "sigma = 0.5  # Standard deviation of the Gaussian noise\n",
    "noisy_image_spatial = add_gaussian_noise(image, sigma)\n",
    "noisy_image_fourier = add_gaussian_noise_fourier(image, sigma*500)\n",
    "\n",
    "# Display the original and noisy images\n",
    "fig, axs = plt.subplots(1, 3, figsize=(15, 5))\n",
    "axs[0].imshow(image, cmap='gray')\n",
    "axs[0].set_title('Original Image')\n",
    "axs[0].axis('off')\n",
    "\n",
    "axs[1].imshow(noisy_image_spatial, cmap='gray')\n",
    "axs[1].set_title('Noisy Image (Spatial Domain)')\n",
    "axs[1].axis('off')\n",
    "\n",
    "axs[2].imshow(noisy_image_fourier, cmap='gray')\n",
    "axs[2].set_title('Noisy Image (Fourier Domain)')\n",
    "axs[2].axis('off')\n",
    "\n",
    "plt.tight_layout()\n",
    "plt.show()\n"
   ]
  },
  {
   "cell_type": "code",
   "execution_count": null,
   "metadata": {
    "id": "te1G7X0eUegO"
   },
   "outputs": [],
   "source": []
  }
 ],
 "metadata": {
  "colab": {
   "include_colab_link": true,
   "name": "average_denoising.ipynb",
   "provenance": []
  },
  "kernelspec": {
   "display_name": "Python 3 (ipykernel)",
   "language": "python",
   "name": "python3"
  },
  "language_info": {
   "codemirror_mode": {
    "name": "ipython",
    "version": 3
   },
   "file_extension": ".py",
   "mimetype": "text/x-python",
   "name": "python",
   "nbconvert_exporter": "python",
   "pygments_lexer": "ipython3",
   "version": "3.12.2"
  }
 },
 "nbformat": 4,
 "nbformat_minor": 4
}
