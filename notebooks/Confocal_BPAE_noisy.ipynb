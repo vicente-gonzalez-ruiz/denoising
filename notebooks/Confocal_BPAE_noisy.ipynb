{
 "cells": [
  {
   "cell_type": "markdown",
   "metadata": {
    "editable": true,
    "id": "QqfKxC0KuCzK",
    "slideshow": {
     "slide_type": ""
    },
    "tags": []
   },
   "source": [
    "# Generate \"Confocal_BPAE_noisy.pdf\""
   ]
  },
  {
   "cell_type": "code",
   "execution_count": null,
   "metadata": {
    "id": "IIUxh4uStrQJ"
   },
   "outputs": [],
   "source": [
    "from collections import namedtuple\n",
    "\n",
    "try:\n",
    "    import numpy as np\n",
    "except:\n",
    "    !pip install numpy\n",
    "    import numpy as np\n",
    "\n",
    "try:\n",
    "    import matplotlib\n",
    "    import matplotlib.pyplot as plt\n",
    "    import matplotlib.ticker as mticker\n",
    "except:\n",
    "    !pip install matplotlib\n",
    "    import matplotlib\n",
    "    import matplotlib.pyplot as plt\n",
    "    import matplotlib.ticker as mticker\n",
    "\n",
    "try:\n",
    "    from skimage import io as skimage_io\n",
    "except:\n",
    "    !pip install scikit-image\n",
    "    from skimage import io as skimage_io\n",
    "\n",
    "try:\n",
    "    import cv2\n",
    "except:\n",
    "    !pip install cv2\n",
    "    import cv2\n",
    "\n",
    "import utils"
   ]
  },
  {
   "cell_type": "code",
   "execution_count": null,
   "metadata": {},
   "outputs": [],
   "source": [
    "# apt install cm-super-minimal\n",
    "# apt install dvipng\n",
    "plt.rcParams.update({\n",
    "    \"text.usetex\": True,\n",
    "    #\"font.family\": \"Helvetica\",\n",
    "    \"font.family\": \"Serif\",\n",
    "    \"text.latex.preamble\": r\"\\usepackage{amsmath} \\usepackage{amsfonts}\"\n",
    "})"
   ]
  },
  {
   "cell_type": "code",
   "execution_count": null,
   "metadata": {},
   "outputs": [],
   "source": [
    "Args = namedtuple(\"args\", [\"noisy_R\", \"noisy_G\", \"noisy_B\", \"clean_R\", \"clean_G\", \"clean_B\"])\n",
    "args = Args(\n",
    "    \"http://www.hpca.ual.es/~vruiz/images/FDM/Confocal_BPAE_R_1.png\",\n",
    "    \"http://www.hpca.ual.es/~vruiz/images/FDM/Confocal_BPAE_G_1.png\",\n",
    "    \"http://www.hpca.ual.es/~vruiz/images/FDM/Confocal_BPAE_B_1.png\",\n",
    "    \"http://www.hpca.ual.es/~vruiz/images/FDM/Confocal_BPAE_R.png\",\n",
    "    \"http://www.hpca.ual.es/~vruiz/images/FDM/Confocal_BPAE_G.png\",\n",
    "    \"http://www.hpca.ual.es/~vruiz/images/FDM/Confocal_BPAE_B.png\")"
   ]
  },
  {
   "cell_type": "code",
   "execution_count": null,
   "metadata": {},
   "outputs": [],
   "source": [
    "noisy_R = skimage_io.imread(args.noisy_R)\n",
    "noisy_G = skimage_io.imread(args.noisy_G)\n",
    "noisy_B = skimage_io.imread(args.noisy_B)\n",
    "\n",
    "clean_R = skimage_io.imread(args.clean_R)\n",
    "clean_G = skimage_io.imread(args.clean_G)\n",
    "clean_B = skimage_io.imread(args.clean_B)"
   ]
  },
  {
   "cell_type": "code",
   "execution_count": null,
   "metadata": {},
   "outputs": [],
   "source": [
    "noisy = np.stack((noisy_R, noisy_G, noisy_B), axis=-1)\n",
    "clean = np.stack((clean_R, clean_G, clean_B), axis=-1)"
   ]
  },
  {
   "cell_type": "code",
   "execution_count": null,
   "metadata": {},
   "outputs": [],
   "source": [
    "PCC = np.corrcoef(noisy.flatten(), clean.flatten())[0, 1]"
   ]
  },
  {
   "cell_type": "code",
   "execution_count": null,
   "metadata": {},
   "outputs": [],
   "source": [
    "PCC"
   ]
  },
  {
   "cell_type": "code",
   "execution_count": null,
   "metadata": {},
   "outputs": [],
   "source": [
    "PCC_R = np.corrcoef(noisy_R.flatten(), clean_R.flatten())[0, 1]"
   ]
  },
  {
   "cell_type": "code",
   "execution_count": null,
   "metadata": {},
   "outputs": [],
   "source": [
    "PCC_R"
   ]
  },
  {
   "cell_type": "code",
   "execution_count": null,
   "metadata": {},
   "outputs": [],
   "source": [
    "PCC_G = np.corrcoef(noisy_G.flatten(), clean_G.flatten())[0, 1]"
   ]
  },
  {
   "cell_type": "code",
   "execution_count": null,
   "metadata": {},
   "outputs": [],
   "source": [
    "PCC_G"
   ]
  },
  {
   "cell_type": "code",
   "execution_count": null,
   "metadata": {},
   "outputs": [],
   "source": [
    "PCC_B = np.corrcoef(noisy_B.flatten(), clean_B.flatten())[0, 1]"
   ]
  },
  {
   "cell_type": "code",
   "execution_count": null,
   "metadata": {},
   "outputs": [],
   "source": [
    "PCC_B"
   ]
  },
  {
   "cell_type": "code",
   "execution_count": null,
   "metadata": {},
   "outputs": [],
   "source": [
    "plt.title(rf\"$\\mathrm{{Confocal\\_BPAE\\_noisy}}$, $\\mathrm{{PCC}}={PCC:.2f}$\")\n",
    "plt.imshow(utils.RGB_normalize(noisy))\n",
    "plt.savefig('Confocal_BPAE_noisy.pdf', bbox_inches='tight')"
   ]
  },
  {
   "cell_type": "code",
   "execution_count": null,
   "metadata": {},
   "outputs": [],
   "source": [
    "plt.title(rf\"$\\mathrm{{Confocal\\_BPAE\\_noisy\\_R}}$, $\\mathrm{{PCC}}={PCC_R:.2f}$\")\n",
    "plt.imshow(utils.normalize(noisy_R), cmap=\"gray\")\n",
    "plt.savefig('Confocal_BPAE_noisy_R.pdf', bbox_inches='tight')"
   ]
  },
  {
   "cell_type": "code",
   "execution_count": null,
   "metadata": {},
   "outputs": [],
   "source": [
    "plt.title(rf\"$\\mathrm{{Confocal\\_BPAE\\_noisy\\_G}}$, $\\mathrm{{PCC}}={PCC_G:.2f}$\")\n",
    "plt.imshow(utils.normalize(noisy_G), cmap=\"gray\")\n",
    "plt.savefig('Confocal_BPAE_noisy_G.pdf', bbox_inches='tight')"
   ]
  },
  {
   "cell_type": "code",
   "execution_count": null,
   "metadata": {},
   "outputs": [],
   "source": [
    "plt.title(rf\"$\\mathrm{{Confocal\\_BPAE\\_noisy\\_B}}$, $\\mathrm{{PCC}}={PCC_B:.2f}$\")\n",
    "plt.imshow(utils.normalize(noisy_B), cmap=\"gray\")\n",
    "plt.savefig('Confocal_BPAE_noisy_B.pdf', bbox_inches='tight')"
   ]
  },
  {
   "cell_type": "code",
   "execution_count": null,
   "metadata": {},
   "outputs": [],
   "source": [
    "cv2.imwrite(\"Confocal_BPAE.png\", noisy)"
   ]
  },
  {
   "cell_type": "code",
   "execution_count": null,
   "metadata": {},
   "outputs": [],
   "source": [
    "#plt.close()"
   ]
  }
 ],
 "metadata": {
  "colab": {
   "collapsed_sections": [],
   "name": "gaussian_denoising.ipynb",
   "provenance": []
  },
  "kernelspec": {
   "display_name": "Python 3 (ipykernel)",
   "language": "python",
   "name": "python3"
  },
  "language_info": {
   "codemirror_mode": {
    "name": "ipython",
    "version": 3
   },
   "file_extension": ".py",
   "mimetype": "text/x-python",
   "name": "python",
   "nbconvert_exporter": "python",
   "pygments_lexer": "ipython3",
   "version": "3.12.2"
  }
 },
 "nbformat": 4,
 "nbformat_minor": 4
}
