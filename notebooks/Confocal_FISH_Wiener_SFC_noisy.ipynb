{
 "cells": [
  {
   "cell_type": "markdown",
   "metadata": {
    "editable": true,
    "id": "QqfKxC0KuCzK",
    "slideshow": {
     "slide_type": ""
    },
    "tags": []
   },
   "source": [
    "# Confocal_FISH__Wiener_SFC_noisy\n",
    "Use the noisy image to determine the optimal window size of a Wiener filter."
   ]
  },
  {
   "cell_type": "code",
   "execution_count": null,
   "metadata": {
    "id": "IIUxh4uStrQJ"
   },
   "outputs": [],
   "source": [
    "import time\n",
    "from collections import namedtuple\n",
    "\n",
    "try:\n",
    "    import numpy as np\n",
    "except:\n",
    "    !pip install numpy\n",
    "    import numpy as np\n",
    "\n",
    "import scipy.ndimage\n",
    "\n",
    "try:\n",
    "    import matplotlib\n",
    "    import matplotlib.pyplot as plt\n",
    "    import matplotlib.ticker as mticker\n",
    "except:\n",
    "    !pip install matplotlib\n",
    "    import matplotlib\n",
    "    import matplotlib.pyplot as plt\n",
    "    import matplotlib.ticker as mticker\n",
    "\n",
    "#from ipywidgets import *\n",
    "try:\n",
    "    import cv2\n",
    "except:\n",
    "    !pip install cv2\n",
    "    import cv2\n",
    "    \n",
    "#import kernels\n",
    "try:\n",
    "    from skimage import io as skimage_io\n",
    "except:\n",
    "    !pip install scikit-image\n",
    "    from skimage import io as skimage_io\n",
    "\n",
    "try:\n",
    "    import information_theory as IT\n",
    "except:\n",
    "    !pip install \"information_theory @ git+https://github.com/vicente-gonzalez-ruiz/information_theory\"\n",
    "    import information_theory as IT\n",
    "\n",
    "import utils\n",
    "\n",
    "from self_fourier_shell_correlation import fsc_utils as fsc\n",
    "from scipy.ndimage import map_coordinates # For interpolating the 1D filter to 2D"
   ]
  },
  {
   "cell_type": "code",
   "execution_count": null,
   "metadata": {},
   "outputs": [],
   "source": [
    "# apt install cm-super-minimal\n",
    "# apt install dvipng\n",
    "plt.rcParams.update({\n",
    "    \"text.usetex\": True,\n",
    "    #\"font.family\": \"Helvetica\",\n",
    "    \"font.family\": \"Serif\",\n",
    "    \"text.latex.preamble\": r\"\\usepackage{amsmath} \\usepackage{amsfonts}\"\n",
    "})"
   ]
  },
  {
   "cell_type": "code",
   "execution_count": null,
   "metadata": {},
   "outputs": [],
   "source": [
    "import logging\n",
    "logging.basicConfig(format=\"[%(filename)s:%(lineno)s %(funcName)s()] %(message)s\")\n",
    "logger = logging.getLogger(__name__)\n",
    "logger.setLevel(logging.WARNING)"
   ]
  },
  {
   "cell_type": "code",
   "execution_count": null,
   "metadata": {},
   "outputs": [],
   "source": [
    "try:\n",
    "    from scipy.signal import wiener\n",
    "except:\n",
    "    !pip install scipy\n",
    "    from scipy.signal import wiener"
   ]
  },
  {
   "cell_type": "code",
   "execution_count": null,
   "metadata": {},
   "outputs": [],
   "source": [
    "Args = namedtuple(\"args\", [\"clean\", \"noisy\"])\n",
    "args = Args(\"http://www.hpca.ual.es/~vruiz/images/FDM/Confocal_FISH.png\",\n",
    "         \"http://www.hpca.ual.es/~vruiz/images/FDM/Confocal_FISH_1.png\")"
   ]
  },
  {
   "cell_type": "code",
   "execution_count": null,
   "metadata": {},
   "outputs": [],
   "source": [
    "Y = skimage_io.imread(args.noisy)"
   ]
  },
  {
   "cell_type": "code",
   "execution_count": null,
   "metadata": {},
   "outputs": [],
   "source": [
    "X = skimage_io.imread(args.clean)"
   ]
  },
  {
   "cell_type": "code",
   "execution_count": null,
   "metadata": {},
   "outputs": [],
   "source": [
    "plt.imshow(Y, cmap=\"gray\")"
   ]
  },
  {
   "cell_type": "code",
   "execution_count": null,
   "metadata": {},
   "outputs": [],
   "source": [
    "freq, Y_SFC = fsc.get_SFRC_curve__even_odd(Y)"
   ]
  },
  {
   "cell_type": "code",
   "execution_count": null,
   "metadata": {},
   "outputs": [],
   "source": [
    "plt.plot(freq, Y_SFC, linewidth=1, label=\"EOS\")\n",
    "plt.grid(which=\"major\", linestyle=\"--\")\n",
    "plt.xlabel(r\"$f/f_s$\")\n",
    "plt.ylabel(r\"\\text{SFRC}\")\n",
    "plt.title(r\"$\\mathrm{Confocal\\_FISH\\_clean}$\")\n",
    "plt.legend()\n",
    "#plt.savefig('Confocal_FISH_clean_SFRC.pdf', bbox_inches='tight')\n",
    "plt.show()"
   ]
  },
  {
   "cell_type": "code",
   "execution_count": null,
   "metadata": {},
   "outputs": [],
   "source": [
    "# Compute FFT and shift the zero-frequency component to the center\n",
    "FFT_Y = np.fft.fft2(Y)\n",
    "shifted_FFT_Y = np.fft.fftshift(FFT_Y)"
   ]
  },
  {
   "cell_type": "code",
   "execution_count": null,
   "metadata": {},
   "outputs": [],
   "source": [
    "# Get dimensions of the FFT image\n",
    "rows, cols = X.shape\n",
    "center_row, center_col = rows // 2, cols // 2\n",
    "print(center_row, center_col)"
   ]
  },
  {
   "cell_type": "code",
   "execution_count": null,
   "metadata": {},
   "outputs": [],
   "source": [
    "# Create coordinate matrices for all points in the 2D frequency space,\n",
    "# with (0,0) at the center (due to fftshift).\n",
    "# These coordinates range from -N to N-1 along each axis.\n",
    "u = np.arange(cols) - center_col\n",
    "v = np.arange(rows) - center_row\n",
    "U, V = np.meshgrid(u, v)"
   ]
  },
  {
   "cell_type": "code",
   "execution_count": null,
   "metadata": {},
   "outputs": [],
   "source": [
    "# Calculate the radial distance from the center for each point (u, v) in the 2D grid.\n",
    "# np.hypot(U, V) is equivalent to sqrt(U**2 + V**2)\n",
    "radial_distances_2d = np.hypot(U, V)"
   ]
  },
  {
   "cell_type": "code",
   "execution_count": null,
   "metadata": {},
   "outputs": [],
   "source": [
    "# Map these 2D radial distances to the SFRC using interpolation.\n",
    "# `map_coordinates` is used here to sample `Y_SFC' at the floating-point\n",
    "# radial distances calculated for every coef in the 2D frequency plane.\n",
    "# `order=1` means linear interpolation. `mode='nearest'` handles distances\n",
    "# that fall outside the [0, N-1] range by taking the value of the nearest valid coefficient.\n",
    "# This effectively extends the last SFC curve point's value for very high frequencies.\n",
    "coords_for_interpolation = radial_distances_2d.flatten()\n",
    "SFC_2D_Y = map_coordinates(Y_SFC, [coords_for_interpolation], order=1, mode='nearest').reshape(rows, cols)"
   ]
  },
  {
   "cell_type": "code",
   "execution_count": null,
   "metadata": {},
   "outputs": [],
   "source": [
    "# Create coordinate matrices for all points in the 2D frequency space,\n",
    "# with (0,0) at the center (due to fftshift).\n",
    "# These coordinates range from -N to N-1 along each axis.\n",
    "u = np.arange(cols) - center_col\n",
    "v = np.arange(rows) - center_row\n",
    "U, V = np.meshgrid(u, v)"
   ]
  },
  {
   "cell_type": "code",
   "execution_count": null,
   "metadata": {},
   "outputs": [],
   "source": [
    "# --- Apply the filter (coefficient-wise multiplication) ---\n",
    "# Multiply the shifted FFT image by the 2D version of the SFC curve.\n",
    "# This attenuates high-frequency components.\n",
    "filtered_FFT_Y = shifted_FFT_Y * SFC_2D_Y"
   ]
  },
  {
   "cell_type": "code",
   "execution_count": null,
   "metadata": {},
   "outputs": [],
   "source": [
    "# --- Perform Inverse FFT to get the filtered image ---\n",
    "# First, inverse shift the filtered FFT to bring the zero-frequency back to the corner.\n",
    "# Then, apply the inverse 2D FFT.\n",
    "# `.real` is used because the original image was real, and `ifft2` can sometimes\n",
    "# produce tiny imaginary components due to floating-point inaccuracies.\n",
    "denoised_Y = np.fft.ifft2(np.fft.ifftshift(filtered_FFT_Y)).real"
   ]
  },
  {
   "cell_type": "code",
   "execution_count": null,
   "metadata": {},
   "outputs": [],
   "source": [
    "plt.title(r\"$\\mathrm{Confocal\\_FISH\\_Wiener\\_SFC}$\")\n",
    "plt.imshow(denoised_Y, cmap=\"gray\")\n",
    "plt.savefig('Confocal_FISH_Wiener_SFC.pdf', bbox_inches='tight')"
   ]
  },
  {
   "cell_type": "code",
   "execution_count": null,
   "metadata": {},
   "outputs": [],
   "source": [
    "plt.imshow(cv2.equalizeHist(((Y-denoised_Y) + 128).astype(np.uint8)), cmap=\"gray\")"
   ]
  },
  {
   "cell_type": "code",
   "execution_count": null,
   "metadata": {},
   "outputs": [],
   "source": [
    "PCC = np.corrcoef(denoised_Y.flatten(), X.flatten())[0, 1]\n",
    "print(PCC)"
   ]
  },
  {
   "cell_type": "code",
   "execution_count": null,
   "metadata": {},
   "outputs": [],
   "source": [
    "plt.imshow(cv2.equalizeHist(((denoised_Y)).astype(np.uint8)), cmap=\"gray\")"
   ]
  },
  {
   "cell_type": "code",
   "execution_count": null,
   "metadata": {},
   "outputs": [],
   "source": [
    "plt.imshow(cv2.equalizeHist(((Y)).astype(np.uint8)), cmap=\"gray\")"
   ]
  },
  {
   "cell_type": "code",
   "execution_count": null,
   "metadata": {},
   "outputs": [],
   "source": [
    "plt.imshow(cv2.equalizeHist(((X)).astype(np.uint8)), cmap=\"gray\")"
   ]
  },
  {
   "cell_type": "code",
   "execution_count": null,
   "metadata": {},
   "outputs": [],
   "source": []
  }
 ],
 "metadata": {
  "colab": {
   "collapsed_sections": [],
   "name": "gaussian_denoising.ipynb",
   "provenance": []
  },
  "kernelspec": {
   "display_name": "Python 3 (ipykernel)",
   "language": "python",
   "name": "python3"
  },
  "language_info": {
   "codemirror_mode": {
    "name": "ipython",
    "version": 3
   },
   "file_extension": ".py",
   "mimetype": "text/x-python",
   "name": "python",
   "nbconvert_exporter": "python",
   "pygments_lexer": "ipython3",
   "version": "3.12.2"
  }
 },
 "nbformat": 4,
 "nbformat_minor": 4
}
