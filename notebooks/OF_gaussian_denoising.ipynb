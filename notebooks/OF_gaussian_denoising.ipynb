{
 "cells": [
  {
   "cell_type": "markdown",
   "metadata": {
    "editable": true,
    "id": "QqfKxC0KuCzK",
    "slideshow": {
     "slide_type": ""
    },
    "tags": []
   },
   "source": [
    "# SPGD (Structure Preserving Gaussian Denoising)\n",
    "\n",
    "Evaluate SPGD on a Zero-mean Mixed Poisson-Gaussian (0MMPG) noisy versions of Barb. See notebook averaging_denoising.ipynb."
   ]
  },
  {
   "cell_type": "code",
   "execution_count": null,
   "metadata": {},
   "outputs": [],
   "source": [
    "local_debug = True"
   ]
  },
  {
   "cell_type": "code",
   "execution_count": null,
   "metadata": {
    "id": "IIUxh4uStrQJ"
   },
   "outputs": [],
   "source": [
    "import time\n",
    "from collections import namedtuple\n",
    "\n",
    "try:\n",
    "    import numpy as np\n",
    "except:\n",
    "    !pip install numpy\n",
    "    import numpy as np\n",
    "\n",
    "import scipy.ndimage\n",
    "\n",
    "try:\n",
    "    import matplotlib\n",
    "    import matplotlib.pyplot as plt\n",
    "    import matplotlib.ticker as mticker\n",
    "except:\n",
    "    !pip install matplotlib\n",
    "    import matplotlib\n",
    "    import matplotlib.pyplot as plt\n",
    "    import matplotlib.ticker as mticker\n",
    "\n",
    "#from ipywidgets import *\n",
    "try:\n",
    "    import cv2\n",
    "except:\n",
    "    !pip install cv2\n",
    "    import cv2\n",
    "    \n",
    "#import kernels\n",
    "try:\n",
    "    from skimage import io as skimage_io\n",
    "except:\n",
    "    !pip install scikit-image\n",
    "    from skimage import io as skimage_io\n",
    "\n",
    "try:\n",
    "    import information_theory as IT\n",
    "except:\n",
    "    !pip install \"information_theory @ git+https://github.com/vicente-gonzalez-ruiz/information_theory\"\n",
    "    import information_theory as IT"
   ]
  },
  {
   "cell_type": "code",
   "execution_count": null,
   "metadata": {},
   "outputs": [],
   "source": [
    "# apt install cm-super-minimal\n",
    "# apt install dvipng\n",
    "plt.rcParams.update({\n",
    "    \"text.usetex\": True,\n",
    "    #\"font.family\": \"Helvetica\",\n",
    "    \"font.family\": \"Serif\",\n",
    "    \"text.latex.preamble\": r\"\\usepackage{amsmath} \\usepackage{amsfonts}\"\n",
    "})\n",
    "#rc('text', usetex=True)\n",
    "#rc('font', family='serif')\n",
    "#plt.rc('text.latex', preamble=r'\\usepackage{amsmath} `...')\n",
    "#mpl.rcParams['text.latex.preamble'] = r'\\usepackage{amsmath} \\usepackage{amsfonts}'"
   ]
  },
  {
   "cell_type": "code",
   "execution_count": null,
   "metadata": {},
   "outputs": [],
   "source": [
    "import logging\n",
    "logging.basicConfig(format=\"[%(filename)s:%(lineno)s %(funcName)s()] %(message)s\")\n",
    "logger = logging.getLogger(__name__)\n",
    "logger.setLevel(logging.WARNING)\n",
    "#logger.setLevel(logging.INFO)"
   ]
  },
  {
   "cell_type": "code",
   "execution_count": null,
   "metadata": {},
   "outputs": [],
   "source": [
    "if local_debug:\n",
    "    !ln -sf ../src/denoising .\n",
    "else:\n",
    "    !pip install \"denoising @ git+https://github.com/vicente-gonzalez-ruiz/denoising\""
   ]
  },
  {
   "cell_type": "code",
   "execution_count": null,
   "metadata": {},
   "outputs": [],
   "source": [
    "if local_debug:\n",
    "    !ln -sf ../../motion_estimation/src/motion_estimation/ .\n",
    "else:\n",
    "    !pip install \"motion_estimation @ git+https://github.com/vicente-gonzalez-ruiz/motion_estimation\""
   ]
  },
  {
   "cell_type": "code",
   "execution_count": null,
   "metadata": {},
   "outputs": [],
   "source": [
    "if local_debug:\n",
    "    !ln -sf ../../self_fourier_shell_correlation/src/self_fourier_shell_correlation/ .\n",
    "else:\n",
    "    !pip install \"self_fourier_shell_correlation @ git+https://github.com/vicente-gonzalez-ruiz/self_fourier_shell_correlation\""
   ]
  },
  {
   "cell_type": "code",
   "execution_count": null,
   "metadata": {},
   "outputs": [],
   "source": [
    "import denoising.image.OF_gaussian__OpenCV as denoising\n",
    "denoiser = denoising.Monochrome_Denoising(logger, N_poly=3, window_side=5)"
   ]
  },
  {
   "cell_type": "code",
   "execution_count": null,
   "metadata": {},
   "outputs": [],
   "source": [
    "#import denoising.image.gaussian as denoising\n",
    "#denoiser = denoising.Monochrome_Denoising(logger)"
   ]
  },
  {
   "cell_type": "code",
   "execution_count": null,
   "metadata": {},
   "outputs": [],
   "source": [
    "from self_fourier_shell_correlation import fsc_utils as fsc"
   ]
  },
  {
   "cell_type": "markdown",
   "metadata": {},
   "source": [
    "### barb"
   ]
  },
  {
   "cell_type": "code",
   "execution_count": null,
   "metadata": {},
   "outputs": [],
   "source": [
    "Args = namedtuple(\"args\", \"input\")\n",
    "#args = Args(\"http://www.hpca.ual.es/~vruiz/images/barb.png\")\n",
    "args = Args(\"barb.png\")"
   ]
  },
  {
   "cell_type": "code",
   "execution_count": null,
   "metadata": {},
   "outputs": [],
   "source": [
    "X = skimage_io.imread(args.input)  # Ground Truth"
   ]
  },
  {
   "cell_type": "code",
   "execution_count": null,
   "metadata": {},
   "outputs": [],
   "source": [
    "padded_X = np.zeros(shape=(X.shape[0]+32, X.shape[1]+32), dtype=np.uint8)\n",
    "padded_X[16:-16, 16:-16] = X\n",
    "X = padded_X"
   ]
  },
  {
   "cell_type": "code",
   "execution_count": null,
   "metadata": {},
   "outputs": [],
   "source": [
    "plt.title(r\"$\\mathbf{X}=\\mathrm{Barb}$\")\n",
    "plt.imshow(X, cmap=\"gray\")\n",
    "#plt.savefig('barb.pdf', bbox_inches='tight')"
   ]
  },
  {
   "cell_type": "code",
   "execution_count": null,
   "metadata": {},
   "outputs": [],
   "source": [
    "def MPG_noise(X, std_dev=10.0, gamma=0.1, poisson_ratio=0.5):\n",
    "    N_poisson = np.random.poisson(X * gamma)/gamma\n",
    "    N_gaussian = np.random.normal(loc=0, scale=std_dev, size=X.size)\n",
    "    N_gaussian = np.reshape(N_gaussian, X.shape)\n",
    "    Y = (1 - poisson_ratio) * (X + N_gaussian) + poisson_ratio * N_poisson\n",
    "    #Y = np.clip(Y, 0, 255)\n",
    "    #Y = N_gaussian + N_poisson\n",
    "    #Y = N_gaussian + gamma*N_poisson\n",
    "    #Y = N_poisson\n",
    "    #Y = N_gaussian + X\n",
    "    return Y"
   ]
  },
  {
   "cell_type": "markdown",
   "metadata": {},
   "source": [
    "### 0MMPG_barb"
   ]
  },
  {
   "cell_type": "code",
   "execution_count": null,
   "metadata": {},
   "outputs": [],
   "source": [
    "gamma = 0.15\n",
    "std_dev = 30\n",
    "string  = r'$\\hat{\\mathbf{X}}=['\n",
    "string += r\"\\mathrm{Barb} + \\mathbf{N}_{\\mathcal{N}\"\n",
    "string += r\"(\\sigma\"\n",
    "string += f\"={std_dev})\"\n",
    "string += r'}'\n",
    "string += r\" + \\mathbf{N}_{\\mathcal{P}\"\n",
    "string += r\"(\\lambda\"\n",
    "string += f\"={gamma}\"\n",
    "string += r'\\cdot\\mathrm{Barb})}'\n",
    "string += f\"/{gamma}\"\n",
    "string += ']$'\n",
    "plt.title(string) \n",
    "Y = MPG_noise(X, std_dev, gamma).reshape(X.shape)\n",
    "Y = np.clip(a = Y, a_min=0, a_max=255)\n",
    "plt.imshow(Y[16:-16, 16:-16], cmap=\"gray\")\n",
    "plt.savefig('0MMPG_barb.pdf', bbox_inches='tight')"
   ]
  },
  {
   "cell_type": "markdown",
   "metadata": {},
   "source": [
    "### SPGD_0MMPG_barb"
   ]
  },
  {
   "cell_type": "code",
   "execution_count": null,
   "metadata": {},
   "outputs": [],
   "source": [
    "def get_gaussian_kernel(sigma=1):\n",
    "    number_of_coeffs = 3\n",
    "    number_of_zeros = 0\n",
    "    while number_of_zeros < 2 :\n",
    "        delta = np.zeros(number_of_coeffs)\n",
    "        delta[delta.size//2] = 1\n",
    "        coeffs = scipy.ndimage.gaussian_filter1d(delta, sigma=sigma)\n",
    "        number_of_zeros = coeffs.size - np.count_nonzero(coeffs)\n",
    "        number_of_coeffs += 1\n",
    "    return coeffs[1:-1]"
   ]
  },
  {
   "cell_type": "code",
   "execution_count": null,
   "metadata": {},
   "outputs": [],
   "source": [
    "sigma_kernel = 3.5\n",
    "sigma = np.array([sigma_kernel, sigma_kernel])\n",
    "kernel = [None]*2\n",
    "kernel[0] = get_gaussian_kernel(sigma[0])\n",
    "kernel[1] = get_gaussian_kernel(sigma[1])\n",
    "print(np.sum(kernel[0]))\n",
    "plt.plot(kernel[0])\n",
    "plt.show()"
   ]
  },
  {
   "cell_type": "code",
   "execution_count": null,
   "metadata": {
    "scrolled": true
   },
   "outputs": [],
   "source": [
    "denoised = denoiser.filter(Y, kernel)"
   ]
  },
  {
   "cell_type": "code",
   "execution_count": null,
   "metadata": {},
   "outputs": [],
   "source": [
    "string  = r\"$\\mathrm{SPGD}_{\\text{\"\n",
    "string += str(sigma_kernel)\n",
    "string += r\"}}(\\mathrm{Barb} + \\mathbf{N}_{\\mathcal{N}\"\n",
    "string += r\"(\\sigma\"\n",
    "string += f\"={std_dev})\"\n",
    "string += r'}'\n",
    "string += r\" + \\mathbf{N}_{\\mathcal{P}\"\n",
    "string += r\"(\\lambda\"\n",
    "string += f\"={gamma}\"\n",
    "string += r'\\cdot\\mathrm{Barb})}'\n",
    "#string += rf\"$_{(\\sigma^2={std_dev}^2)}$\"\n",
    "string += f\"/{gamma})\"\n",
    "string += '$'\n",
    "plt.title(f\"{string}\")\n",
    "plt.imshow(denoised[16:-16, 16:-16], cmap=\"gray\")\n",
    "plt.savefig('SPGD_0MMPG_barb.pdf', bbox_inches='tight')"
   ]
  },
  {
   "cell_type": "code",
   "execution_count": null,
   "metadata": {},
   "outputs": [],
   "source": []
  },
  {
   "cell_type": "markdown",
   "metadata": {},
   "source": [
    "### SPGD_PCC_0MMPG_barb__tau"
   ]
  },
  {
   "cell_type": "code",
   "execution_count": null,
   "metadata": {},
   "outputs": [],
   "source": [
    "# Noise configuration (Poisson noise remains constant)\n",
    "sigmas_noise = [i for i in range(0, 100, 20)]\n",
    "gamma_noise = 0.15\n",
    "poisson_ratio = 0.5\n",
    "print(sigmas_noise)"
   ]
  },
  {
   "cell_type": "code",
   "execution_count": null,
   "metadata": {},
   "outputs": [],
   "source": [
    "# Denoising configuration: explore only the kernel length\n",
    "sigmas_kernel = [(1.0 + i/2) for i in range(10)]\n",
    "print(sigmas_kernel)"
   ]
  },
  {
   "cell_type": "code",
   "execution_count": null,
   "metadata": {},
   "outputs": [],
   "source": [
    "#X = X[10:50,10:50]"
   ]
  },
  {
   "cell_type": "code",
   "execution_count": null,
   "metadata": {
    "scrolled": true
   },
   "outputs": [],
   "source": [
    "PCC_curves = [] # One curve for each kernel length\n",
    "for sigma_noise in sigmas_noise:\n",
    "    #gamma = std_dev / 50\n",
    "    curve = []\n",
    "    for sigma_kernel in sigmas_kernel:\n",
    "        time0 = time.time()\n",
    "        print(\"sigma_noise\", sigma_noise, \"sigma_kernel\", sigma_kernel, \"gamma\", gamma, \"poisson_ratio\", poisson_ratio, end=' ')\n",
    "        #sigma_kernel /= 10\n",
    "        sigma = np.array([sigma_kernel, sigma_kernel])\n",
    "        kernel = [None]*2\n",
    "        kernel[0] = get_gaussian_kernel(sigma[0])\n",
    "        kernel[1] = get_gaussian_kernel(sigma[1])\n",
    "        Y = MPG_noise(X, sigma_noise, gamma, poisson_ratio).reshape(X.shape)\n",
    "        #Y = np.clip(a = Y, a_min=0, a_max=255)\n",
    "        denoised = denoiser.filter(Y, kernel)\n",
    "        #PSNR = IT.distortion.PSNR(denoised, X)\n",
    "        PCC = np.corrcoef(denoised.flatten(), X.flatten())[0, 1]\n",
    "        print(\"PCC\", PCC, end=' ')\n",
    "        curve.append(PCC)\n",
    "        plt.imshow(denoised, cmap=\"gray\")\n",
    "        plt.show()\n",
    "        #input()\n",
    "        time1 = time.time() - time0\n",
    "        print(\"time\", time1)\n",
    "\n",
    "    PCC_curves.append(curve)\n",
    "    #sigma_index += 1\n",
    "    print()"
   ]
  },
  {
   "cell_type": "code",
   "execution_count": null,
   "metadata": {},
   "outputs": [],
   "source": [
    "i = 0\n",
    "for sigma_noise in sigmas_noise:\n",
    "    plt.plot(\n",
    "        sigmas_kernel,\n",
    "        PCC_curves[i],\n",
    "        label=rf\"$\\sigma={sigma_noise}, \\gamma={gamma}\"\n",
    "        + r\", \\mathrm{argmax}_\\tau=\"\n",
    "        + rf\"{sigmas_kernel[np.argmax(PCC_curves[i])]:.2f}$\",\n",
    "        marker='o')\n",
    "    i += 1\n",
    "string  = r\"$\"\n",
    "string += r\"\\mathrm{PCC}\"\n",
    "string += r\"(\\mathbf{X}, \"\n",
    "string += r\"\\mathrm{SPGD}_\\tau\"\n",
    "string += r\"(\\mathbf{X}\"\n",
    "string += r\"+ \\mathbf{N}_{\\mathcal{N}\"\n",
    "string += r\"(\\sigma)}\"\n",
    "string += r\"+ \\mathbf{N}_\"\n",
    "string += r\"{\\mathcal{P}(\\gamma\\mathbf{X})}/\\gamma))$\"\n",
    "plt.ylabel(string)\n",
    "#plt.ylabel(r\"$\\mathrm{PCC}(\\mathbf{X}, \\hat{\\mathbf{X}})$\")\n",
    "plt.xlabel(r\"$\\tau$\")\n",
    "plt.legend()\n",
    "#plt.show()\n",
    "plt.savefig(\"SPGD_PCC_0MMPG_barb.pdf\", bbox_inches='tight')"
   ]
  },
  {
   "cell_type": "markdown",
   "metadata": {},
   "source": [
    "### SPGD_SFRC_0MMPG_barb__tau"
   ]
  },
  {
   "cell_type": "code",
   "execution_count": null,
   "metadata": {},
   "outputs": [],
   "source": [
    "sigmas_kernel = [2.0, 3.0, 4.0, 5.0, 6.0, 7.0, 8.0, 9.0]\n",
    "std_dev = 40\n",
    "SFRC_curve = []\n",
    "for i in sigmas_kernel: # We want to see a different curve for each filter length\n",
    "    time0 = time.time()\n",
    "    kernel = [None]*2\n",
    "    kernel[0] = get_gaussian_kernel(i)\n",
    "    kernel[1] = get_gaussian_kernel(i)\n",
    "    total_c_avg = np.zeros(X.shape[0]>>1)\n",
    "    Y = MPG_noise(X, std_dev, gamma, poisson_ratio).reshape(X.shape)\n",
    "    #Y = np.clip(a = Y, a_min=0, a_max=255)\n",
    "    denoised = denoiser.filter(Y, kernel)\n",
    "    plt.imshow(denoised, cmap=\"gray\")\n",
    "    plt.show()\n",
    "    freq, c_avg = fsc.get_SFRC_curve(denoised)\n",
    "    #freq, c_avg = fsc.get_SFRC_curve(X)\n",
    "    #freq = freq[:(len(freq)>>1)]\n",
    "    #c_avg = c_avg[:(len(c_avg)>>1)]\n",
    "    SFRC_curve.append(c_avg)\n",
    "    time1 = time.time() - time0\n",
    "    first_half = c_avg[:len(c_avg)>>1]\n",
    "    #second_half = SFRC_curve[i][len(curve[i])>>1:]\n",
    "    print(i, \"time:\", time1, \"area:\", np.sum(first_half))"
   ]
  },
  {
   "cell_type": "markdown",
   "metadata": {
    "scrolled": true
   },
   "source": [
    "#sigmas_kernel = [(0.25 + i/10) for i in range(20)]\n",
    "sigmas_kernel = [2.0, 3.0, 4.0, 5.0, 6.0, 7.0, 8.0, 9.0]\n",
    "#sigmas_kernel = [6.0, 8.0, 10.0, 12.0, 14.0]\n",
    "curve = []\n",
    "gamma = 0.15\n",
    "std_dev = 30\n",
    "for i in sigmas_kernel:\n",
    "    total_c_avg = 0\n",
    "    kernel = [None]*2\n",
    "    kernel[0] = get_gaussian_kernel(i)\n",
    "    kernel[1] = get_gaussian_kernel(i)\n",
    "    total_c_avg = np.zeros(X.shape[0]>>1)\n",
    "    for j in range(1):\n",
    "        Y = MPG_noise(X, std_dev, gamma).reshape(X.shape)\n",
    "        Y = np.clip(a = Y, a_min=0, a_max=255)\n",
    "        denoised = denoiser.filter(Y, kernel)\n",
    "        #plt.imshow(denoised, cmap=\"gray\")\n",
    "        #plt.show()\n",
    "        freq, c_avg = fsc.get_SFRC_curve(denoised)\n",
    "        #freq, c_avg = fsc.get_SFRC_curve(X)\n",
    "        #freq = freq[:(len(freq)>>1)]\n",
    "        #c_avg = c_avg[:(len(c_avg)>>1)]\n",
    "        total_c_avg += c_avg\n",
    "    curve.append(total_c_avg/1)\n",
    "    print(i, end=' ')"
   ]
  },
  {
   "cell_type": "code",
   "execution_count": null,
   "metadata": {},
   "outputs": [],
   "source": [
    "#plt.title(r\"$\\mathbf{X}=\\mathrm{Barb}$\")\n",
    "plt.xlabel(r\"$\\omega$\")\n",
    "string  = r\"$\\mathrm{SFRC}\"\n",
    "string += r\"(\\mathrm{SPGD}_\\tau(\"\n",
    "string += r\"\\mathbf{X} + \\mathbf{N}_{\\mathcal{N}\"\n",
    "string += r\"(\\sigma=\"\n",
    "string += f\"{std_dev}\"\n",
    "string += r\")}\"\n",
    "string += r\"+ \\mathbf{N}\"\n",
    "string += r\"_{\\mathcal{P}(\"\n",
    "string += rf\"{gamma}\"\n",
    "string += r\"\\mathbf{X})}/\" + rf\"{gamma}\" + r\"))$\"\n",
    "plt.ylabel(string)\n",
    "#plt.ylabel(r\"$\\mathrm{SFRC}(\\tilde{\\mathbf{X}})$\")\n",
    "markers = ['o', 's', '^', 'd', 'x', '*', 'v', 'p', 'h', '+']  # Add more markers if needed\n",
    "#for i in range(len(sigmas_kernel)):\n",
    "#for i in range(len(sigmas_kernel)-1, 0, -1):\n",
    "i = 0\n",
    "for sigma_kernel in sigmas_kernel:\n",
    "    #plt.plot(freq, curve[i], label=r\"$\\tau=\" + f\"{sigmas_kernel[i]}\" + r\"$\", marker=markers[(len(sigmas_kernel)-i-1) % len(markers)], markersize=0.0)\n",
    "    #plt.plot(freq, curve[i], label=r\"$\\tau=\" + f\"{sigmas_kernel[len(sigmas_kernel)-i-1]}\" + r\"$\", marker=markers[(len(sigmas_kernel)-i-1) % len(markers)], markersize=0.0)\n",
    "    first_half = SFRC_curve[i][:len(SFRC_curve[i])>>1]\n",
    "    second_half = SFRC_curve[i][len(SFRC_curve[i])>>1:]\n",
    "    #plt.plot(freq, curve[i], label=r\"$\\tau=\" + f\"{sigmas_kernel[i]}\" + r\", \\mathrm{sum}=\" + f\"{int(np.sum(first_half)-np.sum(second_half))}\"  + r\"$\", marker=markers[i % len(markers)], markersize=0.0)\n",
    "    plt.plot(\n",
    "        freq[:len(SFRC_curve[i])>>1],\n",
    "        SFRC_curve[i][:len(SFRC_curve[i])>>1],\n",
    "        label=r\"$\\tau=\"\n",
    "        + f\"{sigmas_kernel[i]}\"\n",
    "        + r\", \\mathrm{sum}=\"\n",
    "        + f\"{np.sum(first_half):.2f}\"\n",
    "        + r\"$\", marker=markers[i % len(markers)],\n",
    "        markersize=0.0)\n",
    "    i += 1\n",
    "plt.legend()\n",
    "plt.savefig(\"SPGD_SFRC_SFRC_0MMPG_barb.pdf\", bbox_inches='tight')"
   ]
  },
  {
   "cell_type": "markdown",
   "metadata": {},
   "source": [
    "### SPGD_PCC_0MMPG_barb__N_poly"
   ]
  },
  {
   "cell_type": "code",
   "execution_count": null,
   "metadata": {},
   "outputs": [],
   "source": [
    "sigma_kernel = 3.5\n",
    "sigma = np.array([sigma_kernel, sigma_kernel])\n",
    "kernel = [None]*2\n",
    "kernel[0] = get_gaussian_kernel(sigma[0])\n",
    "kernel[1] = get_gaussian_kernel(sigma[1])\n",
    "print(np.sum(kernel[0]))\n",
    "plt.plot(kernel[0])\n",
    "plt.show()"
   ]
  },
  {
   "cell_type": "code",
   "execution_count": null,
   "metadata": {},
   "outputs": [],
   "source": [
    "gamma = 0.15\n",
    "std_dev = 30"
   ]
  },
  {
   "cell_type": "code",
   "execution_count": null,
   "metadata": {},
   "outputs": [],
   "source": [
    "curve_n = []\n",
    "n_s = range(2,7)\n",
    "for i in n_s:\n",
    "    denoiser = denoising.Monochrome_Denoising(logger, N_poly=i, window_side=9)\n",
    "    Y = MPG_noise(X, std_dev, gamma).reshape(X.shape)\n",
    "    Y = np.clip(a = Y, a_min=0, a_max=255)\n",
    "    denoised = denoiser.filter(Y, kernel)\n",
    "    PCC = np.corrcoef(denoised.flatten(), X.flatten())[0, 1]\n",
    "    print(i, PCC)\n",
    "    curve_n.append(PCC)\n",
    "    plt.imshow(denoised, cmap=\"gray\")\n",
    "    plt.show()"
   ]
  },
  {
   "cell_type": "code",
   "execution_count": null,
   "metadata": {},
   "outputs": [],
   "source": [
    "plt.title(r\"$\\mathbf{X}=\\mathrm{Barb}$\")\n",
    "plt.xlabel(r\"$n$\")\n",
    "plt.ylabel(\"PCC\")\n",
    "plt.plot(n_s, curve)"
   ]
  },
  {
   "cell_type": "markdown",
   "metadata": {},
   "source": [
    "### SPGD_SRFC_0MMPG_barb__N_poly"
   ]
  },
  {
   "cell_type": "markdown",
   "metadata": {},
   "source": [
    "### SPGD_PCC_0MMPG_barb__w"
   ]
  },
  {
   "cell_type": "markdown",
   "metadata": {},
   "source": [
    "### SPGD_SFRC_0MMPG_barb__w"
   ]
  },
  {
   "cell_type": "code",
   "execution_count": null,
   "metadata": {},
   "outputs": [],
   "source": [
    "sigma_kernel = 3.5\n",
    "sigma = np.array([sigma_kernel, sigma_kernel])\n",
    "kernel = [None]*2\n",
    "kernel[0] = get_gaussian_kernel(sigma[0])\n",
    "kernel[1] = get_gaussian_kernel(sigma[1])\n",
    "print(np.sum(kernel[0]))\n",
    "plt.plot(kernel[0])\n",
    "plt.show()"
   ]
  },
  {
   "cell_type": "code",
   "execution_count": null,
   "metadata": {},
   "outputs": [],
   "source": [
    "#sigmas_kernel = [(0.25 + i/10) for i in range(20)]\n",
    "w_s = range(3, 11, 2)\n",
    "curve = []\n",
    "gamma = 0.15\n",
    "std_dev = 30\n",
    "N_poly = 4\n",
    "for i in w_s:\n",
    "    denoiser = denoising.Monochrome_Denoising(logger, N_poly=N_poly, window_side=i)\n",
    "    Y = MPG_noise(X, std_dev, gamma).reshape(X.shape)\n",
    "    Y = np.clip(a = Y, a_min=0, a_max=255)\n",
    "    denoised = denoiser.filter(Y, kernel)\n",
    "    plt.imshow(denoised, cmap=\"gray\")\n",
    "    plt.show()\n",
    "    freq, c_avg = fsc.get_SFRC_curve(denoised)\n",
    "    curve.append(c_avg)\n",
    "    print(i, end=' ')"
   ]
  },
  {
   "cell_type": "code",
   "execution_count": null,
   "metadata": {},
   "outputs": [],
   "source": [
    "plt.title(r\"$\\mathbf{X}=\\mathrm{Barb}$\")\n",
    "plt.xlabel(r\"$n$\")\n",
    "plt.ylabel(\"PCC\")\n",
    "plt.plot(n_s, curve)"
   ]
  }
 ],
 "metadata": {
  "colab": {
   "collapsed_sections": [],
   "name": "gaussian_denoising.ipynb",
   "provenance": []
  },
  "kernelspec": {
   "display_name": "Python 3 (ipykernel)",
   "language": "python",
   "name": "python3"
  },
  "language_info": {
   "codemirror_mode": {
    "name": "ipython",
    "version": 3
   },
   "file_extension": ".py",
   "mimetype": "text/x-python",
   "name": "python",
   "nbconvert_exporter": "python",
   "pygments_lexer": "ipython3",
   "version": "3.12.2"
  }
 },
 "nbformat": 4,
 "nbformat_minor": 4
}
