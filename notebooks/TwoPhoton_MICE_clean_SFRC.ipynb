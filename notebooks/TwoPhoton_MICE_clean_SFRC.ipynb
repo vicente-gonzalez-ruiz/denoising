{
 "cells": [
  {
   "cell_type": "code",
   "execution_count": null,
   "id": "a7ca4c3c-bae9-4612-b1fd-d963b3835529",
   "metadata": {},
   "outputs": [],
   "source": [
    "import time\n",
    "from collections import namedtuple\n",
    "try:\n",
    "    from skimage import io as skimage_io\n",
    "except:\n",
    "    !pip install scikit-image\n",
    "    from skimage import io as skimage_io\n",
    "from self_fourier_shell_correlation import fsc_utils as fsc\n",
    "import numpy as np\n",
    "import matplotlib.pyplot as plt"
   ]
  },
  {
   "cell_type": "code",
   "execution_count": null,
   "id": "8b6fd7c6-dfcf-42ec-a56a-b9603e3a485d",
   "metadata": {},
   "outputs": [],
   "source": [
    "# apt install cm-super-minimal\n",
    "# apt install dvipng\n",
    "plt.rcParams.update({\n",
    "    \"text.usetex\": True,\n",
    "    #\"font.family\": \"Helvetica\",\n",
    "    \"font.family\": \"Serif\",\n",
    "    \"text.latex.preamble\": r\"\\usepackage{amsmath} \\usepackage{amsfonts}\"\n",
    "})"
   ]
  },
  {
   "cell_type": "code",
   "execution_count": null,
   "id": "bafb498d-a59d-47e6-85fd-92ec6c0b38a7",
   "metadata": {},
   "outputs": [],
   "source": [
    "Args = namedtuple(\"args\", \"input\")\n",
    "args = Args(\"http://www.hpca.ual.es/~vruiz/images/FDM/TwoPhoton_MICE.png\")"
   ]
  },
  {
   "cell_type": "code",
   "execution_count": null,
   "id": "737b38ba-3d36-463d-9d16-8d4c7d0cb906",
   "metadata": {},
   "outputs": [],
   "source": [
    "X = skimage_io.imread(args.input)  # Ground Truth"
   ]
  },
  {
   "cell_type": "code",
   "execution_count": null,
   "id": "eff412dd-c1af-45ba-9616-7f2002154702",
   "metadata": {},
   "outputs": [],
   "source": [
    "SCBS_freq, SCBS_c_avg = fsc.get_SFRC_curve__subsampled_chessboard(X)\n",
    "len(SCBS_freq)"
   ]
  },
  {
   "cell_type": "code",
   "execution_count": null,
   "id": "f6d815ca-31d2-4c42-963a-c24980bb981a",
   "metadata": {},
   "outputs": [],
   "source": [
    "r = X.shape[0] // 2\n",
    "voxel = 1\n",
    "freq = fsc.get_radial_spatial_frequencies(X, voxel, mode='full')\n",
    "sfsc = np.mean(fsc.single_image_frc(X, r), axis=0)\n",
    "sfsc_adjusted = 2*sfsc / (1 + sfsc)\n",
    "_, c_avg = fsc.get_SFRC_curve__even_odd(X)"
   ]
  },
  {
   "cell_type": "code",
   "execution_count": null,
   "id": "3c4248f9-9d46-423e-87fa-a254f6c0c8fb",
   "metadata": {},
   "outputs": [],
   "source": [
    "cmap_a = [plt.get_cmap('tab20c').colors[idx] for idx in [0, 4, 8, 12]]\n",
    "cmap_b = [plt.get_cmap('tab20c').colors[idx] for idx in [2, 6, 10, 12]]\n",
    "plt.figure(figsize=(5,4))\n",
    "plt.plot(freq, sfsc, linewidth=2, label='SFSC')\n",
    "plt.plot(freq, sfsc_adjusted, linewidth=2, label='SFSC (adjusted)')\n",
    "plt.plot(freq, c_avg, linewidth=1, label='?')\n",
    "plt.rc('axes', labelsize=12)\n",
    "plt.rc('xtick', labelsize=10)\n",
    "plt.rc('ytick', labelsize=10)\n",
    "plt.rc('legend', fontsize=10)\n",
    "plt.grid(which='major', linestyle='--')\n",
    "plt.xlabel('spatial frequency 'r'(${\\AA}^{-1}$)', labelpad=-1.5)\n",
    "plt.title('Fourier shell correlation')\n",
    "plt.legend(loc='lower left')\n",
    "# plt.savefig('')\n",
    "plt.show()"
   ]
  },
  {
   "cell_type": "code",
   "execution_count": null,
   "id": "27ae14a6-96f2-47d5-84cc-a5b76e1a9db9",
   "metadata": {},
   "outputs": [],
   "source": [
    "EOS_freq, EOS_c_avg = fsc.get_SFRC_curve__even_odd(X)\n",
    "print(len(EOS_freq), len(EOS_c_avg))"
   ]
  },
  {
   "cell_type": "code",
   "execution_count": null,
   "id": "760408c9-49e6-4a50-a00b-6c0f7130b1d0",
   "metadata": {},
   "outputs": [],
   "source": [
    "CBS_freq, CBS_c_avg = fsc.get_SFRC_curve__chessboard(X)\n",
    "print(len(CBS_freq), len(CBS_c_avg))"
   ]
  },
  {
   "cell_type": "code",
   "execution_count": null,
   "id": "4c8c37d1-2661-449b-9d58-23289bdc76ae",
   "metadata": {},
   "outputs": [],
   "source": [
    "ICBS_freq, ICBS_c_avg = fsc.get_SFRC_curve__interpolated_chessboard(X)\n",
    "print(len(ICBS_freq), len(ICBS_c_avg))"
   ]
  },
  {
   "cell_type": "code",
   "execution_count": null,
   "id": "dd5da4bd-d09f-4466-9994-8887df9877ef",
   "metadata": {},
   "outputs": [],
   "source": [
    "#freq, SPRS1_c_avg = fsc.get_SFRC_curve__SPRS1(X)"
   ]
  },
  {
   "cell_type": "code",
   "execution_count": null,
   "id": "92df0de4-4d75-4eb4-a938-f80ab274de4e",
   "metadata": {},
   "outputs": [],
   "source": [
    "SCBS_freq, SCBS_c_avg = fsc.get_SFRC_curve__subsampled_chessboard(X)\n",
    "print(len(SCBS_freq), len(SCBS_c_avg))"
   ]
  },
  {
   "cell_type": "code",
   "execution_count": null,
   "id": "3bc45705-96e3-41ab-8901-4d3778477f3a",
   "metadata": {},
   "outputs": [],
   "source": [
    "#SPRS_freq, SPRS_c_avg = fsc.get_SFRC_curve__SPRS(image=X, std_dev=1.75, sigma_poly=1.2, window_side=5) # Good values with noise\n",
    "SPRS_freq, SPRS_c_avg = fsc.get_SFRC_curve__SPRS(image=X, std_dev=1.75, sigma_poly=0.25, window_side=5) # Good values without noise\n",
    "print(len(SPRS_freq), len(SPRS_c_avg))"
   ]
  },
  {
   "cell_type": "code",
   "execution_count": null,
   "id": "c31026f8-34a4-498e-a3f3-b4398eb8339d",
   "metadata": {},
   "outputs": [],
   "source": [
    "plt.plot(EOS_freq, EOS_c_avg, linewidth=1, label=\"EOS\")\n",
    "plt.plot(CBS_freq, CBS_c_avg, linewidth=1, label=\"CBS\")\n",
    "plt.plot(ICBS_freq, ICBS_c_avg, linewidth=1, label=\"ICBS\")\n",
    "plt.plot(SCBS_freq, SCBS_c_avg, linewidth=1, label=\"SCBS\")\n",
    "#plt.plot(freq, SPRS1_c_avg, linewidth=1, label=\"SPRS1\")\n",
    "plt.plot(SPRS_freq, SPRS_c_avg, linewidth=1, label=\"SPRS\")\n",
    "plt.grid(which=\"major\", linestyle=\"--\")\n",
    "plt.xlabel(r\"$f/f_s$\")\n",
    "plt.ylabel(r\"\\text{SFRC}\")\n",
    "plt.title(r\"$\\mathrm{TwoPhoton\\_MICE\\_clean}$\")\n",
    "plt.legend()\n",
    "plt.savefig('TwoPhoton_MICE_clean_SFRC.pdf', bbox_inches='tight')\n",
    "plt.show()"
   ]
  },
  {
   "cell_type": "code",
   "execution_count": null,
   "id": "95e81698-7f40-48d8-b5e9-6ae18d5ea6f1",
   "metadata": {},
   "outputs": [],
   "source": [
    "\n"
   ]
  },
  {
   "cell_type": "code",
   "execution_count": null,
   "id": "cc746eb3-8e7b-4922-bc3f-e6d2b7863e81",
   "metadata": {},
   "outputs": [],
   "source": []
  },
  {
   "cell_type": "code",
   "execution_count": null,
   "id": "8383433a-9ec3-4b97-8abe-4cc2a8da78ce",
   "metadata": {},
   "outputs": [],
   "source": []
  }
 ],
 "metadata": {
  "kernelspec": {
   "display_name": "Python 3 (ipykernel)",
   "language": "python",
   "name": "python3"
  },
  "language_info": {
   "codemirror_mode": {
    "name": "ipython",
    "version": 3
   },
   "file_extension": ".py",
   "mimetype": "text/x-python",
   "name": "python",
   "nbconvert_exporter": "python",
   "pygments_lexer": "ipython3",
   "version": "3.12.2"
  }
 },
 "nbformat": 4,
 "nbformat_minor": 5
}
