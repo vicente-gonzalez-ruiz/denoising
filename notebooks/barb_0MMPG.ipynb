{
 "cells": [
  {
   "cell_type": "markdown",
   "metadata": {
    "editable": true,
    "id": "QqfKxC0KuCzK",
    "slideshow": {
     "slide_type": ""
    },
    "tags": []
   },
   "source": [
    "# Barb with Zero-Mean Mixed Poisson Gaussian (0MMPG) Noise\n",
    "\n",
    "\\begin{equation}\n",
    "  Y = N_{\\mathcal{P}(\\gamma X)}/\\gamma + N_{\\mathcal{N(\\sigma)}}\n",
    "\\end{equation}\n",
    "where\n",
    "\\begin{equation}\n",
    "N_{\\mathcal{P}(\\gamma X)}\\sim\\mathcal{P}(λ=\\gamma X)\n",
    "\\end{equation}\n",
    "and\n",
    "\\begin{equation}\n",
    "N_{\\mathcal{N(\\sigma)}}\\sim{\\mathcal N}(\\mu=0, \\sigma^2).\n",
    "\\end{equation}"
   ]
  },
  {
   "cell_type": "code",
   "execution_count": 2,
   "metadata": {},
   "outputs": [
    {
     "ename": "ModuleNotFoundError",
     "evalue": "No module named 'utils'",
     "output_type": "error",
     "traceback": [
      "\u001b[0;31m---------------------------------------------------------------------------\u001b[0m",
      "\u001b[0;31mModuleNotFoundError\u001b[0m                       Traceback (most recent call last)",
      "Cell \u001b[0;32mIn[2], line 34\u001b[0m\n\u001b[1;32m     31\u001b[0m     get_ipython()\u001b[38;5;241m.\u001b[39msystem(\u001b[38;5;124m'\u001b[39m\u001b[38;5;124mpip install \u001b[39m\u001b[38;5;124m\"\u001b[39m\u001b[38;5;124minformation_theory @ git+https://github.com/vicente-gonzalez-ruiz/information_theory\u001b[39m\u001b[38;5;124m\"\u001b[39m\u001b[38;5;124m'\u001b[39m)\n\u001b[1;32m     32\u001b[0m     \u001b[38;5;28;01mimport\u001b[39;00m \u001b[38;5;21;01minformation_theory\u001b[39;00m \u001b[38;5;28;01mas\u001b[39;00m \u001b[38;5;21;01mIT\u001b[39;00m\n\u001b[0;32m---> 34\u001b[0m \u001b[38;5;28;01mimport\u001b[39;00m \u001b[38;5;21;01mutils\u001b[39;00m\n",
      "\u001b[0;31mModuleNotFoundError\u001b[0m: No module named 'utils'"
     ]
    }
   ],
   "source": [
    "import time\n",
    "from collections import namedtuple\n",
    "\n",
    "try:\n",
    "    import numpy as np\n",
    "except:\n",
    "    !pip install numpy\n",
    "    import numpy as np\n",
    "\n",
    "import scipy.ndimage\n",
    "\n",
    "try:\n",
    "    import matplotlib\n",
    "    import matplotlib.pyplot as plt\n",
    "    import matplotlib.ticker as mticker\n",
    "except:\n",
    "    !pip install matplotlib\n",
    "    import matplotlib\n",
    "    import matplotlib.pyplot as plt\n",
    "    import matplotlib.ticker as mticker\n",
    "\n",
    "try:\n",
    "    from skimage import io as skimage_io\n",
    "except:\n",
    "    !pip install scikit-image\n",
    "    from skimage import io as skimage_io\n",
    "\n",
    "try:\n",
    "    import information_theory as IT\n",
    "except:\n",
    "    !pip install \"information_theory @ git+https://github.com/vicente-gonzalez-ruiz/information_theory\"\n",
    "    import information_theory as IT\n",
    "\n",
    "import utils"
   ]
  },
  {
   "cell_type": "code",
   "execution_count": 3,
   "metadata": {},
   "outputs": [],
   "source": [
    "# apt install cm-super-minimal\n",
    "# apt install dvipng\n",
    "plt.rcParams.update({\n",
    "    \"text.usetex\": True,\n",
    "    #\"font.family\": \"Helvetica\",\n",
    "    \"font.family\": \"Serif\",\n",
    "    \"text.latex.preamble\": r\"\\usepackage{amsmath} \\usepackage{amsfonts}\"\n",
    "})\n",
    "#rc('text', usetex=True)\n",
    "#rc('font', family='serif')\n",
    "#plt.rc('text.latex', preamble=r'\\usepackage{amsmath} `...')\n",
    "#mpl.rcParams['text.latex.preamble'] = r'\\usepackage{amsmath} \\usepackage{amsfonts}'"
   ]
  },
  {
   "cell_type": "markdown",
   "metadata": {},
   "source": [
    "### barb"
   ]
  },
  {
   "cell_type": "code",
   "execution_count": null,
   "metadata": {},
   "outputs": [],
   "source": [
    "Args = namedtuple(\"args\", [\"input\"])\n",
    "args = Args(\"http://www.hpca.ual.es/~vruiz/images/barb.png\")\n",
    "#args = Args(\"http://www.hpca.ual.es/~vruiz/images/zelda.png\")\n",
    "#args = Args(\"http://www.hpca.ual.es/~vruiz/images/boats.png\")\n",
    "#args = Args(\"http://www.hpca.ual.es/~vruiz/images/lake.png\")"
   ]
  },
  {
   "cell_type": "code",
   "execution_count": null,
   "metadata": {},
   "outputs": [],
   "source": [
    "image = skimage_io.imread(args.input1)  # Ground Truth\n",
    "X = image\n",
    "X.shape"
   ]
  },
  {
   "cell_type": "code",
   "execution_count": null,
   "metadata": {},
   "outputs": [],
   "source": [
    "plt.title(r\"$\\mathbf{X}=\\mathrm{Barb}$\")\n",
    "utils.imshow(X)"
   ]
  },
  {
   "cell_type": "code",
   "execution_count": null,
   "metadata": {},
   "outputs": [],
   "source": [
    "string  = r'$\\hat{\\mathbf{X}}_1=['\n",
    "string += r\"\\mathbf{X}_1 + \\mathbf{N}_{\\mathcal{N}\"\n",
    "string += r\"(\\sigma\"\n",
    "string += f\"={STD_DEV})\"\n",
    "string += r'}'\n",
    "string += r\" + \\mathbf{N}_{\\mathcal{P}\"\n",
    "string += r\"(\\lambda\"\n",
    "string += f\"={GAMMA}\"\n",
    "string += r'\\cdot\\mathbf{X}_1)}'\n",
    "string += f\"/{GAMMA}\"\n",
    "Y = utils.generate_MPGN(X, STD_DEV, GAMMA)\n",
    "Y = np.clip(a = Y, a_min=0, a_max=255)\n",
    "PSNR1 = IT.distortion.PSNR(Y1, X1)\n",
    "string += rf\"], {PSNR1:.2f}\"\n",
    "string += r\"~\\mathrm{dB}\"\n",
    "string += '$'\n",
    "plt.title(string) \n",
    "#Y = MPG_noise(X, STD_DEV, GAMMA).reshape(X.shape)\n",
    "utils.imshow(Y)\n",
    "plt.savefig('barb_0MMPG.pdf', bbox_inches='tight')"
   ]
  }
 ],
 "metadata": {
  "colab": {
   "collapsed_sections": [],
   "name": "gaussian_denoising.ipynb",
   "provenance": []
  },
  "kernelspec": {
   "display_name": "Python 3 (ipykernel)",
   "language": "python",
   "name": "python3"
  },
  "language_info": {
   "codemirror_mode": {
    "name": "ipython",
    "version": 3
   },
   "file_extension": ".py",
   "mimetype": "text/x-python",
   "name": "python",
   "nbconvert_exporter": "python",
   "pygments_lexer": "ipython3",
   "version": "3.12.2"
  }
 },
 "nbformat": 4,
 "nbformat_minor": 4
}
