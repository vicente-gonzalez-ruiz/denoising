{
 "cells": [
  {
   "cell_type": "markdown",
   "metadata": {
    "colab_type": "text",
    "id": "view-in-github"
   },
   "source": [
    "<a href=\"https://colab.research.google.com/github/vicente-gonzalez-ruiz/denoising/blob/main/figs/averaging_denoising.ipynb\" target=\"_parent\"><img src=\"https://colab.research.google.com/assets/colab-badge.svg\" alt=\"Open In Colab\"/></a>"
   ]
  },
  {
   "cell_type": "markdown",
   "metadata": {},
   "source": [
    "[![Binder](https://mybinder.org/badge_logo.svg)](https://nbviewer.org/github/vicente-gonzalez-ruiz/denoising/blob/main/figs/averae_denoising.ipynb)"
   ]
  },
  {
   "cell_type": "markdown",
   "metadata": {
    "editable": true,
    "id": "QqfKxC0KuCzK",
    "tags": []
   },
   "source": [
    "# Denoising using averaging"
   ]
  },
  {
   "cell_type": "code",
   "execution_count": null,
   "metadata": {
    "editable": true,
    "id": "IIUxh4uStrQJ",
    "tags": []
   },
   "outputs": [],
   "source": [
    "import math\n",
    "from collections import namedtuple\n",
    "\n",
    "try:\n",
    "    import numpy as np\n",
    "except:\n",
    "    !pip install numpy\n",
    "    import numpy as np\n",
    "\n",
    "try:\n",
    "    import matplotlib\n",
    "    import matplotlib.pyplot as plt\n",
    "    import matplotlib.ticker as mticker\n",
    "except:\n",
    "    !pip install matplotlib\n",
    "    import matplotlib\n",
    "    import matplotlib.pyplot as plt\n",
    "    import matplotlib.ticker as mticker\n",
    "\n",
    "try:\n",
    "    import cv2\n",
    "except:\n",
    "    !pip install cv2\n",
    "    import cv2\n",
    "    \n",
    "try:\n",
    "    from skimage import io as skimage_io\n",
    "except:\n",
    "    !pip install scikit-image\n",
    "    from skimage import io as skimage_io\n",
    "\n",
    "try:\n",
    "    import information_theory as IT\n",
    "except:\n",
    "    !pip install \"information_theory @ git+https://github.com/vicente-gonzalez-ruiz/information_theory\"\n",
    "    import information_theory as IT\n",
    "\n",
    "import utils\n",
    "\n",
    "# apt install cm-super-minimal\n",
    "# apt install dvipng\n",
    "plt.rcParams.update({\n",
    "    \"text.usetex\": True,\n",
    "    #\"font.family\": \"Helvetica\",\n",
    "    \"font.family\": \"Serif\",\n",
    "    \"text.latex.preamble\": r\"\\usepackage{amsmath} \\usepackage{amsfonts}\"\n",
    "})\n",
    "#rc('text', usetex=True)\n",
    "#rc('font', family='serif')\n",
    "#plt.rc('text.latex', preamble=r'\\usepackage{amsmath} `...')\n",
    "#mpl.rcParams['text.latex.preamble'] = r'\\usepackage{amsmath} \\usepackage{amsfonts}'"
   ]
  },
  {
   "cell_type": "markdown",
   "metadata": {},
   "source": [
    "### barb_0MMPG"
   ]
  },
  {
   "cell_type": "code",
   "execution_count": null,
   "metadata": {
    "id": "aaELdKZzUefv"
   },
   "outputs": [],
   "source": [
    "Args = namedtuple(\"args\", \"input\")\n",
    "args = Args(\"http://www.hpca.ual.es/~vruiz/images/barb.png\")\n",
    "#args = Args(\"http://www.hpca.ual.es/~vruiz/images/zelda.png\")\n",
    "#args = Args(\"http://www.hpca.ual.es/~vruiz/images/boats.png\")\n",
    "#args = Args(\"http://www.hpca.ual.es/~vruiz/images/lake.png\")"
   ]
  },
  {
   "cell_type": "code",
   "execution_count": null,
   "metadata": {
    "id": "7lZRxLv-Uefv"
   },
   "outputs": [],
   "source": [
    "X = skimage_io.imread(args.input)\n",
    "X.mean()"
   ]
  },
  {
   "cell_type": "code",
   "execution_count": null,
   "metadata": {},
   "outputs": [],
   "source": [
    "X.dtype"
   ]
  },
  {
   "cell_type": "code",
   "execution_count": null,
   "metadata": {
    "id": "RKLHhyLPUefw"
   },
   "outputs": [],
   "source": [
    "min_PSNR = 80  # Minimum quality to stop averaging"
   ]
  },
  {
   "cell_type": "markdown",
   "metadata": {},
   "source": [
    "### 2D"
   ]
  },
  {
   "cell_type": "code",
   "execution_count": null,
   "metadata": {},
   "outputs": [],
   "source": [
    "gamma = 0.15 # 0.15\n",
    "std_dev = 40 # 30\n",
    "\n",
    "Y = utils.generate_MPGN(X, std_dev, gamma).reshape(X.shape)\n",
    "#Y = np.random.poisson(image.astype(np.float32) * _lambda) / _lambda\n",
    "\n",
    "string  = r'$\\hat{\\mathbf{X}}=['\n",
    "string += r\"0.5(\\mathbf{X} + \\mathbf{N}_{\\mathcal{N}\"\n",
    "string += r\"(\\sigma\"\n",
    "string += f\"={std_dev})\"\n",
    "string += r'}'\n",
    "string += r\") + 0.5\\mathbf{N}_{\\mathcal{P}\"\n",
    "string += r\"(\\lambda\"\n",
    "string += f\"={gamma}\"\n",
    "string += r'\\cdot\\mathbf{X})}'\n",
    "string += f\"/{gamma}\"\n",
    "string += ']'\n",
    "\n",
    "string += f\",~{IT.distortion.PSNR(Y.astype(np.uint8), X):.2f}\"\n",
    "string += r\"~\\text{dB}$\"\n",
    "\n",
    "plt.title(string)\n",
    "print(\"min(image)=\", np.min(X))\n",
    "print(\"max(image)=\", np.max(X))\n",
    "#+ rf\"$_(\\sigma^2={std_dev})$\") #\" #+ \\mathbf{N}_{{\\mathcal P}(\\lambda=\\gamma\\cdot\\mathrm{Barb})}/\\gamma$\") \n",
    "print(\"aqui\", np.max(Y), np.min(Y))\n",
    "#Y = np.clip(a = Y, a_min=0, a_max=255)\n",
    "plt.imshow(Y, cmap=\"gray\")\n",
    "plt.savefig('0MMPG_barb.pdf', bbox_inches='tight')"
   ]
  },
  {
   "cell_type": "markdown",
   "metadata": {},
   "source": [
    "#### averaging_0MMPG_barb"
   ]
  },
  {
   "cell_type": "code",
   "execution_count": null,
   "metadata": {},
   "outputs": [],
   "source": [
    "curves = []\n",
    "for std_dev in range(0, 100, 20):\n",
    "    gamma = 0.15 # std_dev / 100\n",
    "    acc_denoised = np.zeros_like(X, dtype=np.float64)\n",
    "    PSNR = 1\n",
    "    iters = 1\n",
    "    curve = []\n",
    "    while PSNR < min_PSNR:\n",
    "        #Y = np.random.poisson((X.astype(np.float32) + 1) * _lambda)\n",
    "        #Y = Y - _lambda\n",
    "        Y = utils.generate_MPGN(X, std_dev, gamma)\n",
    "        #Y = Y - _lambda\n",
    "        #Y = Y / _lambda\n",
    "        print('a', np.max(Y), np.min(Y), np.mean(Y))\n",
    "        Y = np.clip(a = Y, a_min=0, a_max=255)\n",
    "        Y = Y.astype(np.uint8)\n",
    "        #print('b', np.max(Y), np.min(Y))\n",
    "        acc_denoised += Y\n",
    "        denoised = acc_denoised/iters\n",
    "        PSNR = IT.distortion.PSNR(denoised.astype(np.uint8), X)\n",
    "        print(iters, PSNR, np.max(denoised), np.min(denoised))\n",
    "        curve.append(PSNR)\n",
    "        iters += 1\n",
    "        #print('b', np.mean(denoised))\n",
    "        #plt.imshow(denoised, cmap=\"gray\")\n",
    "        #plt.show()\n",
    "        #input()\n",
    "\n",
    "    curves.append(curve)\n",
    "    print(iters)"
   ]
  },
  {
   "cell_type": "markdown",
   "metadata": {},
   "source": [
    "#### PSNR_averaging_0MMPG_barb"
   ]
  },
  {
   "cell_type": "code",
   "execution_count": null,
   "metadata": {},
   "outputs": [],
   "source": [
    "string  = r'$\\mathbb{A}_x['\n",
    "string += r\"\\mathrm{Barb} + \\mathbf{N}_{\\mathcal{N}\"\n",
    "string += r\"(\\sigma)\"\n",
    "string += r'}'\n",
    "string += r\" + \\mathbf{N}_{\\mathcal{P}\"\n",
    "string += r\"(\\lambda)}]\"\n",
    "#string += r'\\cdot\\mathrm{Barb})})'\n",
    "#string += rf\"$_{(\\sigma^2={std_dev}^2)}$\"\n",
    "string += '$'\n",
    "#plt.title(string)\n",
    "#plt.title(r\"$\\mathbb{A}_{\\text{\" + str(iters) + r\"}}(\\mathbf{N}\" + rf\"/{_lambda}\" + r\"), \\mathbf{N}\\sim\\mathrm{Poisson}\" + rf\"(\\lambda={_lambda}\" + r\"\\mathrm{Barb})$\")\n",
    "#plt.title(\"Averaging Poisson noisy instances of \\\"Barb\\\"\")\n",
    "#for i in range(1, 50, 5):\n",
    "i = 0\n",
    "for std_dev in range(0, 100, 20):\n",
    "    #if len(curves[int(i/5)-1]) > 1:\n",
    "        #plt.plot(curves[int(i/5)-1], label=rf\"$\\sigma={i}, \\lambda={i/50}\" + r\"\\cdot\\mathbf{X}$\")\n",
    "    plt.plot(\n",
    "        curves[i],\n",
    "        label=rf\"$\\sigma={std_dev}, \\gamma={gamma}\"\n",
    "        + r\"\\cdot\\mathbf{X}$\")\n",
    "    i += 1\n",
    "plt.ylabel(r\"$\\mathrm{PSNR}(\\mathbf{X},\\tilde{\\mathbf{X}}^{[x]})~[\\mathrm{dB}]$\")\n",
    "plt.xlabel(r\"$x~[\\text{Number of noisy instances}]$\")\n",
    "plt.legend()\n",
    "#plt.show()\n",
    "plt.savefig(\"barb_averaging_PSNR.pdf\", bbox_inches='tight')"
   ]
  }
 ],
 "metadata": {
  "colab": {
   "include_colab_link": true,
   "name": "average_denoising.ipynb",
   "provenance": []
  },
  "kernelspec": {
   "display_name": "Python 3 (ipykernel)",
   "language": "python",
   "name": "python3"
  },
  "language_info": {
   "codemirror_mode": {
    "name": "ipython",
    "version": 3
   },
   "file_extension": ".py",
   "mimetype": "text/x-python",
   "name": "python",
   "nbconvert_exporter": "python",
   "pygments_lexer": "ipython3",
   "version": "3.12.2"
  }
 },
 "nbformat": 4,
 "nbformat_minor": 4
}
