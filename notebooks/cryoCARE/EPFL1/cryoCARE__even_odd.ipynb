{
 "cells": [
  {
   "cell_type": "markdown",
   "id": "675ba4fa-1d48-4c3b-b1c6-65dd946b67c9",
   "metadata": {},
   "source": [
    "# Even / Odd training\n",
    "N2N (Noise2Noise) denoising del volúmen epfl1. Utiliza 2 volúmenes $V_1$ y $V_2$, donde $V_1$ es el volúmen formado por los slices Z pares \"even\" y $V_2$ es el volúmen formado por los slices Z impares \"odd\".\n",
    "\n",
    "Todos los ficheros temporales se crean en `/nas/vruiz/cryoCARE/epfl1`."
   ]
  },
  {
   "cell_type": "markdown",
   "id": "624dbec5-568b-414b-9276-bcdd65561272",
   "metadata": {},
   "source": [
    "## Creamos $V_1$ y $V_2$"
   ]
  },
  {
   "cell_type": "code",
   "execution_count": null,
   "id": "ee324d93-1960-403c-8469-619289235657",
   "metadata": {},
   "outputs": [],
   "source": [
    "%run even_odd_split.ipynb"
   ]
  },
  {
   "cell_type": "markdown",
   "id": "f840f93e-40bc-4678-82f7-a80ee6a4ef0a",
   "metadata": {},
   "source": [
    "## Configuramos cryoCARE"
   ]
  },
  {
   "cell_type": "code",
   "execution_count": null,
   "id": "bb67632d-4790-44bf-b9fe-25f5fc2660a1",
   "metadata": {},
   "outputs": [],
   "source": [
    "%%writefile /nas/vruiz/cryoCARE/epfl1/train_data_config__evenodd.json\n",
    "{\n",
    "    \"even\": [\"even.mrc\"],\n",
    "    \"odd\": [\"odd.mrc\"],\n",
    "    \"mask\": [\"\"],\n",
    "    \"patch_shape\": [32, 32, 32],\n",
    "    \"num_slices\": 360,\n",
    "    \"split\": 0.9,\n",
    "    \"tilt_axis\": \"Y\",\n",
    "    \"n_normalization_samples\": 200,\n",
    "    \"path\": \"./even_odd_data\",\n",
    "    \"overwrite\": \"True\"  \n",
    "}"
   ]
  },
  {
   "cell_type": "code",
   "execution_count": null,
   "id": "9d6a4ad5-b3d1-4948-a763-84b3ed589552",
   "metadata": {},
   "outputs": [],
   "source": [
    "%%writefile /nas/vruiz/cryoCARE/epfl1/train_config__evenodd.json\n",
    "{\n",
    "  \"train_data\": \"./even_odd_data\",\n",
    "  \"epochs\": 50,\n",
    "  \"steps_per_epoch\": 200,\n",
    "  \"batch_size\": 16,\n",
    "  \"unet_kern_size\": 3,\n",
    "  \"unet_n_depth\": 3,\n",
    "  \"unet_n_first\": 16,\n",
    "  \"learning_rate\": 0.0004,\n",
    "  \"model_name\": \"model\",\n",
    "  \"path\": \"./\",\n",
    "  \"gpu_id\": 1\n",
    "}"
   ]
  },
  {
   "cell_type": "code",
   "execution_count": null,
   "id": "b187069a-04f6-4730-a49c-b0dab108a85b",
   "metadata": {},
   "outputs": [],
   "source": [
    "%%writefile /nas/vruiz/cryoCARE/epfl1/predict_config__evenodd.json\n",
    "{\n",
    "    \"path\": \"./model.tar.gz\",\n",
    "    \"even\": [\"epfl1_subset1_float.mrc\"], \n",
    "    \"odd\": [\"epfl1_subset1_float.mrc\"],\n",
    "    \"n_tiles\": [1,1,1],\n",
    "    \"output\": \"even_odd_denoised\",\n",
    "    \"overwrite\": \"True\",\n",
    "    \"gpu_id\": 1\n",
    "}"
   ]
  },
  {
   "cell_type": "markdown",
   "id": "69602847-c0c3-4323-9204-e749a832deee",
   "metadata": {},
   "source": [
    "## Entrenamos"
   ]
  },
  {
   "cell_type": "code",
   "execution_count": null,
   "id": "78a28923-4772-4545-8217-4587d88c843f",
   "metadata": {},
   "outputs": [],
   "source": [
    "%%bash\n",
    "cd /nas/vruiz/cryoCARE/epfl1\n",
    "pwd\n",
    "source ~/envs/cryoCARE/bin/activate\n",
    "cryoCARE_extract_train_data.py --conf train_data_config__evenodd.json\n",
    "cryoCARE_train.py --conf train_config__evenodd.json"
   ]
  },
  {
   "cell_type": "markdown",
   "id": "aafbfb3f-eb36-4fe2-8baa-d1d88d3d6f6c",
   "metadata": {},
   "source": [
    "## Inferimos"
   ]
  },
  {
   "cell_type": "code",
   "execution_count": null,
   "id": "33ed7fcd-f237-4c9f-8c39-0cea01e1473e",
   "metadata": {},
   "outputs": [],
   "source": [
    "%%bash\n",
    "cd /nas/vruiz/cryoCARE/epfl1\n",
    "pwd\n",
    "source ~/envs/cryoCARE/bin/activate\n",
    "cryoCARE_predict.py --conf predict_config__evenodd.json || true"
   ]
  },
  {
   "cell_type": "code",
   "execution_count": null,
   "id": "40bec4a8-21c0-4cff-9c05-4ce51801de7d",
   "metadata": {},
   "outputs": [],
   "source": [
    "import mrcfile\n",
    "import numpy as np\n",
    "from tqdm.notebook import tqdm\n",
    "import matplotlib.pyplot as plt"
   ]
  },
  {
   "cell_type": "code",
   "execution_count": null,
   "id": "3dd17652-0884-406a-ba91-7b7d1d18fe1d",
   "metadata": {},
   "outputs": [],
   "source": [
    "def read_MRC(path_file):\n",
    "    return mrcfile.read(mrc_file_path)"
   ]
  },
  {
   "cell_type": "code",
   "execution_count": null,
   "id": "456ad4a9-2fbe-497c-b638-21262c1e845f",
   "metadata": {},
   "outputs": [],
   "source": [
    "mrc_file_path = '/nas/vruiz/cryoCARE/epfl1/epfl1_subset1_float.mrc'\n",
    "original_volume = read_MRC(mrc_file_path)"
   ]
  },
  {
   "cell_type": "code",
   "execution_count": null,
   "id": "52176d0e-fc5d-45e6-94d1-2cb26f20d0b8",
   "metadata": {},
   "outputs": [],
   "source": [
    "original_volume.shape"
   ]
  },
  {
   "cell_type": "code",
   "execution_count": null,
   "id": "907ae7f6-804a-4685-ab18-744dc8b5944f",
   "metadata": {},
   "outputs": [],
   "source": [
    "mrc_file_path = '/nas/vruiz/cryoCARE/epfl1/even_odd_denoised/epfl1_subset1_float.mrc'\n",
    "denoised_volume = read_MRC(mrc_file_path)"
   ]
  },
  {
   "cell_type": "code",
   "execution_count": null,
   "id": "dc42b090-69d2-4010-a9ca-7b9860b32485",
   "metadata": {},
   "outputs": [],
   "source": [
    "denoised_volume.shape"
   ]
  },
  {
   "cell_type": "code",
   "execution_count": null,
   "id": "24ec6dc1-0383-4978-99b3-08e9df73f29b",
   "metadata": {},
   "outputs": [],
   "source": [
    "# Choose a slice index in the middle of the volume for a good comparison\n",
    "slice_idx = original_volume.shape[0] // 2\n",
    "\n",
    "fig, axes = plt.subplots(1, 2, figsize=(20, 20))\n",
    "\n",
    "# Plot the original slice z\n",
    "im1 = axes[0].imshow(original_volume[slice_idx, :, :].T, cmap='gray', origin='lower')\n",
    "axes[0].set_title(f'Original Slice Z={slice_idx}')\n",
    "axes[0].grid(False)\n",
    "\n",
    "# Plot the original slice z+1\n",
    "im2 = axes[1].imshow(denoised_volume[slice_idx, :, :].T, cmap='gray', origin='lower')\n",
    "axes[1].set_title(f'N2N Even/Odd Denoised Slice Z={slice_idx}')\n",
    "axes[1].grid(False)\n",
    "\n",
    "plt.tight_layout()\n",
    "plt.show()"
   ]
  },
  {
   "cell_type": "code",
   "execution_count": null,
   "id": "faebf228-bb83-45a0-90cc-db564d5fc3a9",
   "metadata": {},
   "outputs": [],
   "source": []
  }
 ],
 "metadata": {
  "kernelspec": {
   "display_name": "Python 3 (ipykernel)",
   "language": "python",
   "name": "python3"
  },
  "language_info": {
   "codemirror_mode": {
    "name": "ipython",
    "version": 3
   },
   "file_extension": ".py",
   "mimetype": "text/x-python",
   "name": "python",
   "nbconvert_exporter": "python",
   "pygments_lexer": "ipython3",
   "version": "3.10.10"
  }
 },
 "nbformat": 4,
 "nbformat_minor": 5
}
