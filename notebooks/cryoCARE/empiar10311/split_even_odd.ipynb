{
 "cells": [
  {
   "cell_type": "markdown",
   "id": "a2bdaed7-8902-4e59-b262-69f1e175dc9b",
   "metadata": {},
   "source": [
    "# Even/Odd split empiar10311"
   ]
  },
  {
   "cell_type": "code",
   "execution_count": 1,
   "id": "ab83d22d-121d-46eb-a65d-9c64083b35b8",
   "metadata": {},
   "outputs": [],
   "source": [
    "import mrcfile\n",
    "from collections import namedtuple\n",
    "import numpy as np"
   ]
  },
  {
   "cell_type": "code",
   "execution_count": 4,
   "id": "52368028-b972-4926-8c4d-010cc17d5e1f",
   "metadata": {},
   "outputs": [],
   "source": [
    "Args = namedtuple(\"args\", [\"input\", \"even_output\", \"odd_output\"])\n",
    "args = Args(\"/nas/vruiz/cryoCARE/empiar10311/empiar10311_stack_crop.mrc\", \"/nas/vruiz/cryoCARE/empiar10311/even.mrc\", \"/nas/vruiz/cryoCARE/empiar10311/odd.mrc\")"
   ]
  },
  {
   "cell_type": "code",
   "execution_count": 5,
   "id": "7b0e9d25-97d8-42fd-a88c-872a7a43f605",
   "metadata": {},
   "outputs": [
    {
     "name": "stdout",
     "output_type": "stream",
     "text": [
      "noisy.shape=(100, 1024, 1024)\n",
      "Writing /nas/vruiz/cryoCARE/empiar10311/even.mrc\n",
      "even.shape=(54, 1024, 1024)\n",
      "Writing /nas/vruiz/cryoCARE/empiar10311/odd.mrc\n",
      "odd.shape=(54, 1024, 1024)\n"
     ]
    }
   ],
   "source": [
    "vol_MRC = mrcfile.open(args.input)\n",
    "noisy = vol_MRC.data\n",
    "print(f\"noisy.shape={noisy.shape}\")\n",
    "\n",
    "slice_shape = (1, noisy.shape[1], noisy.shape[2])\n",
    "new_slice = np.full(slice_shape, 128, dtype=noisy.dtype)\n",
    "\n",
    "even = np.concatenate((noisy[0::2,:,:], new_slice, new_slice, new_slice, new_slice))\n",
    "odd = np.concatenate((noisy[1::2,:,:], new_slice, new_slice, new_slice, new_slice))\n",
    "\n",
    "print(\"Writing\", args.even_output)\n",
    "with mrcfile.new(args.even_output, overwrite=True) as mrc:\n",
    "    print(f\"even.shape={even.shape}\")\n",
    "    mrc.set_data(even)\n",
    "    mrc.data\n",
    "\n",
    "print(\"Writing\", args.odd_output)\n",
    "with mrcfile.new(args.odd_output, overwrite=True) as mrc:\n",
    "    print(f\"odd.shape={odd.shape}\")\n",
    "    mrc.set_data(odd)\n",
    "    mrc.data"
   ]
  },
  {
   "cell_type": "code",
   "execution_count": null,
   "id": "6d333528-8847-49fd-893d-884db7a80c27",
   "metadata": {},
   "outputs": [],
   "source": []
  }
 ],
 "metadata": {
  "kernelspec": {
   "display_name": "cryoCARE",
   "language": "python",
   "name": "cryocare"
  },
  "language_info": {
   "codemirror_mode": {
    "name": "ipython",
    "version": 3
   },
   "file_extension": ".py",
   "mimetype": "text/x-python",
   "name": "python",
   "nbconvert_exporter": "python",
   "pygments_lexer": "ipython3",
   "version": "3.8.19"
  }
 },
 "nbformat": 4,
 "nbformat_minor": 5
}
