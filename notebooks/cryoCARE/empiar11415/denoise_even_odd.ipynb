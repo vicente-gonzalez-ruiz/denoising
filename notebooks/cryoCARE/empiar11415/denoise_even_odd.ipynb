{
 "cells": [
  {
   "cell_type": "markdown",
   "id": "675ba4fa-1d48-4c3b-b1c6-65dd946b67c9",
   "metadata": {},
   "source": [
    "# Even / Odd training\n",
    "N2N (Noise2Noise) denoising del volumen empiar11415. Utiliza 2 volúmenes $V_1$ y $V_2$, donde $V_1$ es el volumen formado por los slices Z pares \"even\" y $V_2$ es el volumen formado por los slices Z impares \"odd\".\n",
    "\n",
    "Todos los ficheros temporales se crean en `/nas/vruiz/cryoCARE/empiar11415`."
   ]
  },
  {
   "cell_type": "code",
   "execution_count": null,
   "id": "f5871a57-5fc6-4ec4-899a-bc2c8b716239",
   "metadata": {},
   "outputs": [],
   "source": [
    "# %pip install tensorflow==2.4"
   ]
  },
  {
   "cell_type": "markdown",
   "id": "624dbec5-568b-414b-9276-bcdd65561272",
   "metadata": {},
   "source": [
    "## Creamos $V_1$ y $V_2$"
   ]
  },
  {
   "cell_type": "code",
   "execution_count": null,
   "id": "ee324d93-1960-403c-8469-619289235657",
   "metadata": {},
   "outputs": [],
   "source": [
    "%run split_even_odd.ipynb"
   ]
  },
  {
   "cell_type": "markdown",
   "id": "f840f93e-40bc-4678-82f7-a80ee6a4ef0a",
   "metadata": {},
   "source": [
    "## Configuramos cryoCARE"
   ]
  },
  {
   "cell_type": "code",
   "execution_count": null,
   "id": "bb67632d-4790-44bf-b9fe-25f5fc2660a1",
   "metadata": {},
   "outputs": [],
   "source": [
    "%%writefile /nas/vruiz/cryoCARE/empiar11415/train_data_config__evenodd.json\n",
    "{\n",
    "    \"even\": [\"even.mrc\"],\n",
    "    \"odd\": [\"odd.mrc\"],\n",
    "    \"mask\": [\"\"],\n",
    "    \"patch_shape\": [16, 16, 16],\n",
    "    \"num_slices\": 360,\n",
    "    \"split\": 0.9,\n",
    "    \"tilt_axis\": \"Y\",\n",
    "    \"n_normalization_samples\": 200,\n",
    "    \"path\": \"./even_odd_data\",\n",
    "    \"overwrite\": \"True\"  \n",
    "}"
   ]
  },
  {
   "cell_type": "code",
   "execution_count": null,
   "id": "3cc1f24a-d2b1-4ffa-8023-6d6a6d64e892",
   "metadata": {},
   "outputs": [],
   "source": [
    "%%bash\n",
    "cd /nas/vruiz/cryoCARE/empiar11415\n",
    "source ~/envs/cryoCARE/bin/activate\n",
    "cryoCARE_extract_train_data.py --conf train_data_config__evenodd.json"
   ]
  },
  {
   "cell_type": "markdown",
   "id": "69602847-c0c3-4323-9204-e749a832deee",
   "metadata": {},
   "source": [
    "## Entrenamos"
   ]
  },
  {
   "cell_type": "code",
   "execution_count": null,
   "id": "9d6a4ad5-b3d1-4948-a763-84b3ed589552",
   "metadata": {},
   "outputs": [],
   "source": [
    "%%writefile /nas/vruiz/cryoCARE/empiar11415/train_config__evenodd.json\n",
    "{\n",
    "  \"train_data\": \"./even_odd_data\",\n",
    "  \"epochs\": 50,\n",
    "  \"steps_per_epoch\": 200,\n",
    "  \"batch_size\": 16,\n",
    "  \"unet_kern_size\": 3,\n",
    "  \"unet_n_depth\": 3,\n",
    "  \"unet_n_first\": 16,\n",
    "  \"learning_rate\": 0.0004,\n",
    "  \"model_name\": \"model\",\n",
    "  \"path\": \"./\",\n",
    "  \"gpu_id\": [1]\n",
    "}"
   ]
  },
  {
   "cell_type": "code",
   "execution_count": null,
   "id": "78a28923-4772-4545-8217-4587d88c843f",
   "metadata": {},
   "outputs": [],
   "source": [
    "%%bash\n",
    "cd /nas/vruiz/cryoCARE/empiar11415\n",
    "source ~/envs/cryoCARE/bin/activate\n",
    "cryoCARE_train.py --conf train_config__evenodd.json"
   ]
  },
  {
   "cell_type": "markdown",
   "id": "aafbfb3f-eb36-4fe2-8baa-d1d88d3d6f6c",
   "metadata": {},
   "source": [
    "## Inferimos"
   ]
  },
  {
   "cell_type": "code",
   "execution_count": null,
   "id": "b187069a-04f6-4730-a49c-b0dab108a85b",
   "metadata": {},
   "outputs": [],
   "source": [
    "%%writefile /nas/vruiz/cryoCARE/empiar11415/predict_config__evenodd.json\n",
    "{\n",
    "    \"path\": \"./model.tar.gz\",\n",
    "    \"even\": [\"empiar11415.mrc\"], \n",
    "    \"odd\": [\"empiar11415.mrc\"],\n",
    "    \"n_tiles\": [1,2,2],\n",
    "    \"output\": \"even_odd_denoised\",\n",
    "    \"overwrite\": \"True\",\n",
    "    \"gpu_id\": [1]\n",
    "}"
   ]
  },
  {
   "cell_type": "code",
   "execution_count": null,
   "id": "33ed7fcd-f237-4c9f-8c39-0cea01e1473e",
   "metadata": {},
   "outputs": [],
   "source": [
    "%%bash\n",
    "cd /nas/vruiz/cryoCARE/empiar11415\n",
    "pwd\n",
    "source ~/envs/cryoCARE/bin/activate\n",
    "cryoCARE_predict.py --conf predict_config__evenodd.json || true"
   ]
  },
  {
   "cell_type": "code",
   "execution_count": null,
   "id": "40bec4a8-21c0-4cff-9c05-4ce51801de7d",
   "metadata": {},
   "outputs": [],
   "source": [
    "import mrcfile\n",
    "import numpy as np\n",
    "from tqdm.notebook import tqdm\n",
    "import matplotlib.pyplot as plt"
   ]
  },
  {
   "cell_type": "code",
   "execution_count": null,
   "id": "3dd17652-0884-406a-ba91-7b7d1d18fe1d",
   "metadata": {},
   "outputs": [],
   "source": [
    "def read_MRC(path_file):\n",
    "    return mrcfile.read(mrc_file_path)"
   ]
  },
  {
   "cell_type": "code",
   "execution_count": null,
   "id": "456ad4a9-2fbe-497c-b638-21262c1e845f",
   "metadata": {},
   "outputs": [],
   "source": [
    "mrc_file_path = '/nas/vruiz/cryoCARE/empiar11415/empiar11415.mrc'\n",
    "original_volume = read_MRC(mrc_file_path)"
   ]
  },
  {
   "cell_type": "code",
   "execution_count": null,
   "id": "52176d0e-fc5d-45e6-94d1-2cb26f20d0b8",
   "metadata": {},
   "outputs": [],
   "source": [
    "original_volume.shape"
   ]
  },
  {
   "cell_type": "code",
   "execution_count": null,
   "id": "907ae7f6-804a-4685-ab18-744dc8b5944f",
   "metadata": {},
   "outputs": [],
   "source": [
    "mrc_file_path = '/nas/vruiz/cryoCARE/empiar11415/even_odd_denoised/empiar11415.mrc'\n",
    "denoised_volume = read_MRC(mrc_file_path)"
   ]
  },
  {
   "cell_type": "code",
   "execution_count": null,
   "id": "dc42b090-69d2-4010-a9ca-7b9860b32485",
   "metadata": {},
   "outputs": [],
   "source": [
    "denoised_volume.shape"
   ]
  },
  {
   "cell_type": "code",
   "execution_count": null,
   "id": "24ec6dc1-0383-4978-99b3-08e9df73f29b",
   "metadata": {},
   "outputs": [],
   "source": [
    "# Choose a slice index in the middle of the volume for a good comparison\n",
    "slice_idx = original_volume.shape[0] // 2\n",
    "\n",
    "fig, axes = plt.subplots(1, 2, figsize=(20, 20))\n",
    "\n",
    "# Plot the original slice z\n",
    "im1 = axes[0].imshow(original_volume[slice_idx, :, :].T, cmap='gray', origin='lower')\n",
    "axes[0].set_title(f'Original Slice Z={slice_idx}')\n",
    "axes[0].grid(False)\n",
    "\n",
    "# Plot the original slice z+1\n",
    "im2 = axes[1].imshow(denoised_volume[slice_idx, :, :].T, cmap='gray', origin='lower')\n",
    "axes[1].set_title(f'N2N Even/Odd Denoised Slice Z={slice_idx}')\n",
    "axes[1].grid(False)\n",
    "\n",
    "plt.tight_layout()\n",
    "plt.show()"
   ]
  },
  {
   "cell_type": "code",
   "execution_count": null,
   "id": "4f4922d6-ac60-45ca-8146-fff86d603b1e",
   "metadata": {},
   "outputs": [],
   "source": [
    "%pip install \"self_fourier_shell_correlation @ git+https://github.com/vicente-gonzalez-ruiz/self_fourier_shell_correlation\""
   ]
  },
  {
   "cell_type": "code",
   "execution_count": null,
   "id": "25fb30c8-fbec-4838-8b29-0f63de44cad0",
   "metadata": {},
   "outputs": [],
   "source": [
    "%pip show self_fourier_shell_correlation"
   ]
  },
  {
   "cell_type": "code",
   "execution_count": null,
   "id": "311301b3-596e-4995-bd78-44abd186b5b1",
   "metadata": {},
   "outputs": [],
   "source": [
    "import sys\n",
    "print(sys.executable)"
   ]
  },
  {
   "cell_type": "code",
   "execution_count": null,
   "id": "38821ebd-6743-4203-84f0-b4492915db37",
   "metadata": {},
   "outputs": [],
   "source": [
    "%pip install \"shuffling @ git+https://github.com/vicente-gonzalez-ruiz/shuffling\""
   ]
  },
  {
   "cell_type": "code",
   "execution_count": null,
   "id": "b9253668-270f-4c21-acc8-7545718bd09d",
   "metadata": {},
   "outputs": [],
   "source": [
    "%pip install opencv-python"
   ]
  },
  {
   "cell_type": "code",
   "execution_count": null,
   "id": "cd172f6b-0731-463b-9338-ccf2911583a7",
   "metadata": {},
   "outputs": [],
   "source": [
    "%pip install \"motion_estimation @ git+https://github.com/vicente-gonzalez-ruiz/motion_estimation\""
   ]
  },
  {
   "cell_type": "code",
   "execution_count": null,
   "id": "faebf228-bb83-45a0-90cc-db564d5fc3a9",
   "metadata": {},
   "outputs": [],
   "source": [
    "from self_fourier_shell_correlation import fsc_utils as fsc"
   ]
  },
  {
   "cell_type": "code",
   "execution_count": null,
   "id": "2f7d75fa-af4e-4e18-83eb-39ba02e1d50e",
   "metadata": {},
   "outputs": [],
   "source": [
    "import mrcfile"
   ]
  },
  {
   "cell_type": "code",
   "execution_count": null,
   "id": "47044d68-6751-4feb-b509-02957fa23f3e",
   "metadata": {},
   "outputs": [],
   "source": [
    "import matplotlib.pyplot as plt"
   ]
  },
  {
   "cell_type": "code",
   "execution_count": null,
   "id": "e36439cb-e232-48c9-863b-3157addf270b",
   "metadata": {},
   "outputs": [],
   "source": [
    "even = mrcfile.read(\"/nas/vruiz/cryoCARE/empiar11415/even.mrc\")"
   ]
  },
  {
   "cell_type": "code",
   "execution_count": null,
   "id": "585b8f6a-4931-4e66-ae77-5150a286bb54",
   "metadata": {},
   "outputs": [],
   "source": [
    "odd = mrcfile.read(\"/nas/vruiz/cryoCARE/empiar11415/odd.mrc\")"
   ]
  },
  {
   "cell_type": "code",
   "execution_count": null,
   "id": "7074e7ab-5d42-4f56-aebc-d70313439ab0",
   "metadata": {},
   "outputs": [],
   "source": [
    "spatial_freq, fsc_values = fsc.fourier_shell_correlation(even, odd, shell_thickness=0.01)"
   ]
  },
  {
   "cell_type": "code",
   "execution_count": null,
   "id": "d538de49-745d-4aa6-a238-86c6db804950",
   "metadata": {},
   "outputs": [],
   "source": [
    "fsc.plot_fsc(spatial_freq, fsc_values, \"Spatial Frequency (1/voxel units)\", \"FSC\", \"FSC(even, odd)\")"
   ]
  },
  {
   "cell_type": "code",
   "execution_count": null,
   "id": "b6f6d0ad-d26b-40ae-846f-b19134adda75",
   "metadata": {},
   "outputs": [],
   "source": []
  }
 ],
 "metadata": {
  "kernelspec": {
   "display_name": "cryoCARE",
   "language": "python",
   "name": "cryocare"
  },
  "language_info": {
   "codemirror_mode": {
    "name": "ipython",
    "version": 3
   },
   "file_extension": ".py",
   "mimetype": "text/x-python",
   "name": "python",
   "nbconvert_exporter": "python",
   "pygments_lexer": "ipython3",
   "version": "3.8.19"
  }
 },
 "nbformat": 4,
 "nbformat_minor": 5
}
