{
 "cells": [
  {
   "cell_type": "markdown",
   "metadata": {
    "editable": true,
    "id": "QqfKxC0KuCzK",
    "slideshow": {
     "slide_type": ""
    },
    "tags": []
   },
   "source": [
    "# Gaussian image denoising"
   ]
  },
  {
   "cell_type": "code",
   "execution_count": null,
   "metadata": {},
   "outputs": [],
   "source": [
    "local_debug = True"
   ]
  },
  {
   "cell_type": "code",
   "execution_count": null,
   "metadata": {
    "id": "IIUxh4uStrQJ"
   },
   "outputs": [],
   "source": [
    "import time\n",
    "from collections import namedtuple\n",
    "\n",
    "try:\n",
    "    import numpy as np\n",
    "except:\n",
    "    !pip install numpy\n",
    "    import numpy as np\n",
    "\n",
    "import scipy.ndimage\n",
    "\n",
    "try:\n",
    "    import matplotlib\n",
    "    import matplotlib.pyplot as plt\n",
    "    import matplotlib.ticker as mticker\n",
    "except:\n",
    "    !pip install matplotlib\n",
    "    import matplotlib\n",
    "    import matplotlib.pyplot as plt\n",
    "    import matplotlib.ticker as mticker\n",
    "\n",
    "#from ipywidgets import *\n",
    "try:\n",
    "    import cv2\n",
    "except:\n",
    "    !pip install cv2\n",
    "    import cv2\n",
    "    \n",
    "#import kernels\n",
    "try:\n",
    "    from skimage import io as skimage_io\n",
    "except:\n",
    "    !pip install scikit-image\n",
    "    from skimage import io as skimage_io\n",
    "\n",
    "try:\n",
    "    import information_theory as IT\n",
    "except:\n",
    "    !pip install \"information_theory @ git+https://github.com/vicente-gonzalez-ruiz/information_theory\"\n",
    "    import information_theory as IT"
   ]
  },
  {
   "cell_type": "code",
   "execution_count": null,
   "metadata": {},
   "outputs": [],
   "source": [
    "# apt install cm-super-minimal\n",
    "# apt install dvipng\n",
    "plt.rcParams.update({\n",
    "    \"text.usetex\": True,\n",
    "    #\"font.family\": \"Helvetica\",\n",
    "    \"font.family\": \"Serif\",\n",
    "    \"text.latex.preamble\": r\"\\usepackage{amsmath} \\usepackage{amsfonts}\"\n",
    "})\n",
    "#rc('text', usetex=True)\n",
    "#rc('font', family='serif')\n",
    "#plt.rc('text.latex', preamble=r'\\usepackage{amsmath} `...')\n",
    "#mpl.rcParams['text.latex.preamble'] = r'\\usepackage{amsmath} \\usepackage{amsfonts}'"
   ]
  },
  {
   "cell_type": "code",
   "execution_count": null,
   "metadata": {},
   "outputs": [],
   "source": [
    "import logging\n",
    "logging.basicConfig(format=\"[%(filename)s:%(lineno)s %(funcName)s()] %(message)s\")\n",
    "logger = logging.getLogger(__name__)\n",
    "logger.setLevel(logging.WARNING)"
   ]
  },
  {
   "cell_type": "code",
   "execution_count": null,
   "metadata": {},
   "outputs": [],
   "source": [
    "try:\n",
    "    import denoising.image.gaussian as denoising\n",
    "except:\n",
    "    !pip install \"denoising @ git+https://github.com/vicente-gonzalez-ruiz/denoising\"\n",
    "    import denoising.image.gaussian as denoising"
   ]
  },
  {
   "cell_type": "code",
   "execution_count": null,
   "metadata": {},
   "outputs": [],
   "source": [
    "try:\n",
    "    from self_fourier_shell_correlation import fsc_utils as fsc\n",
    "except:\n",
    "    !pip install \"self_fourier_shell_correlation @ git+https://github.com/vicente-gonzalez-ruiz/self_fourier_shell_correlation\"\n",
    "    from self_fourier_shell_correlation import fsc_utils as fsc"
   ]
  },
  {
   "cell_type": "markdown",
   "metadata": {},
   "source": [
    "if local_debug:\n",
    "    !ln -sf ../../information_theory/src/information_theory/ .\n",
    "else:\n",
    "    !pip install \"information_theory @ git+https://github.com/vicente-gonzalez-ruiz/information_theory\"\n",
    "import information_theory  # pip install \"information_theory @ git+https://github.com/vicente-gonzalez-ruiz/information_theory\""
   ]
  },
  {
   "cell_type": "markdown",
   "metadata": {},
   "source": [
    "### barb"
   ]
  },
  {
   "cell_type": "code",
   "execution_count": null,
   "metadata": {},
   "outputs": [],
   "source": [
    "Args = namedtuple(\"args\", \"input\")\n",
    "args = Args(\"http://www.hpca.ual.es/~vruiz/images/barb.png\")"
   ]
  },
  {
   "cell_type": "code",
   "execution_count": null,
   "metadata": {},
   "outputs": [],
   "source": [
    "X = skimage_io.imread(args.input)  # Ground Truth"
   ]
  },
  {
   "cell_type": "code",
   "execution_count": null,
   "metadata": {},
   "outputs": [],
   "source": [
    "plt.title(r\"$\\mathbf{X}=\\mathrm{Barb}$\")\n",
    "plt.imshow(X, cmap=\"gray\")\n",
    "plt.savefig('barb.pdf', bbox_inches='tight')"
   ]
  },
  {
   "cell_type": "markdown",
   "metadata": {},
   "source": [
    "## Zero-mean additive Gaussian noise (0MAGN)\n",
    "\\begin{equation}\n",
    "  Y = X + N,~N\\sim{\\mathcal N}(\\mu=0, \\sigma).\n",
    "\\end{equation}"
   ]
  },
  {
   "cell_type": "markdown",
   "metadata": {},
   "source": [
    "#### 0MAGN_barb"
   ]
  },
  {
   "cell_type": "code",
   "execution_count": null,
   "metadata": {},
   "outputs": [],
   "source": [
    "std_dev = 45\n",
    "#string = r\"$\\mathrm{Barb} + \\mathbf{N}, \\mathbf{N}\\sim \\mathcal{N}\" + rf\"(\\mu=0, \\sigma={std_dev})$\"\n",
    "string  = r\"$\"\n",
    "string += r\"\\text{Barb} + \\mathbf{N}_{\\mathcal{N}(\\sigma=\"\n",
    "string += str(std_dev)\n",
    "string += r\")}\"\n",
    "string += r\"$\"\n",
    "plt.title(string)\n",
    "Y = X + np.random.normal(loc=0, scale=std_dev, size=X.shape).reshape(X.shape)\n",
    "Y = np.clip(a = Y, a_min=0, a_max=255)\n",
    "plt.imshow(Y, cmap=\"gray\")\n",
    "plt.savefig('0MAGN_barb.pdf', bbox_inches='tight')"
   ]
  },
  {
   "cell_type": "markdown",
   "metadata": {},
   "source": [
    "#### GD_0MAGN_barb"
   ]
  },
  {
   "cell_type": "code",
   "execution_count": null,
   "metadata": {},
   "outputs": [],
   "source": [
    "denoiser = denoising.Monochrome_Denoising(logger)"
   ]
  },
  {
   "cell_type": "code",
   "execution_count": null,
   "metadata": {
    "id": "xI1pWnvWxjoj"
   },
   "outputs": [],
   "source": [
    "def get_gaussian_kernel(sigma=1):\n",
    "    number_of_coeffs = 3\n",
    "    number_of_zeros = 0\n",
    "    while number_of_zeros < 2 :\n",
    "        delta = np.zeros(number_of_coeffs)\n",
    "        delta[delta.size//2] = 1\n",
    "        coeffs = scipy.ndimage.gaussian_filter1d(delta, sigma=sigma)\n",
    "        number_of_zeros = coeffs.size - np.count_nonzero(coeffs)\n",
    "        number_of_coeffs += 1\n",
    "    return coeffs[1:-1]"
   ]
  },
  {
   "cell_type": "code",
   "execution_count": null,
   "metadata": {},
   "outputs": [],
   "source": [
    "sigma_kernel = 0.75\n",
    "sigma = np.array([sigma_kernel, sigma_kernel])\n",
    "kernel = [None]*2\n",
    "kernel[0] = get_gaussian_kernel(sigma[0])\n",
    "kernel[1] = get_gaussian_kernel(sigma[1])\n",
    "print(np.sum(kernel[0]))\n",
    "plt.plot(kernel[0])\n",
    "plt.show()"
   ]
  },
  {
   "cell_type": "code",
   "execution_count": null,
   "metadata": {},
   "outputs": [],
   "source": [
    "denoised = denoiser.filter(Y, kernel)"
   ]
  },
  {
   "cell_type": "code",
   "execution_count": null,
   "metadata": {},
   "outputs": [],
   "source": [
    "Y.shape"
   ]
  },
  {
   "cell_type": "code",
   "execution_count": null,
   "metadata": {},
   "outputs": [],
   "source": [
    "PSNR = IT.distortion.PSNR(denoised, X)"
   ]
  },
  {
   "cell_type": "code",
   "execution_count": null,
   "metadata": {},
   "outputs": [],
   "source": [
    "#plt.title(r\"$\\mathrm{GD}_{\\text{\" + str(sigma_kernel) + r\"}}(\\mathrm{Barb} + \\mathbf{N}_{\\mathcal{N}}), \\mathbf{N}\\sim \\mathcal{N}_{}\" + rf\"(\\mu=0, \\sigma={std_dev}),\" + r\"\\mathrm{PSNR}=\" + f\"{PSNR:.2f}\" + r\"~\\mathrm{dB}$\")\n",
    "string  = r\"$\"\n",
    "string += r\"\\mathrm{GD}\"\n",
    "string += r\"_\\text{\"\n",
    "string += str(sigma_kernel)\n",
    "string += r\"}\"\n",
    "string += r\"(\\text{Barb} + \\mathbf{N}_{\\mathcal{N}(\\sigma=\"\n",
    "string += str(std_dev)\n",
    "string += r\")})\"\n",
    "string += r\", \\mathrm{PSNR}=\"\n",
    "string += f\"{PSNR:.2f}\"\n",
    "string += r\"\\mathrm{dB}\"\n",
    "string += r\"$\"\n",
    "plt.title(string)\n",
    "plt.imshow(denoised, cmap=\"gray\")\n",
    "plt.savefig('GD_0MAGN_barb.pdf', bbox_inches='tight')"
   ]
  },
  {
   "cell_type": "markdown",
   "metadata": {},
   "source": [
    "#### GD_PCC_0MAGN_barb"
   ]
  },
  {
   "cell_type": "code",
   "execution_count": null,
   "metadata": {
    "scrolled": true
   },
   "outputs": [],
   "source": [
    "sigmas_kernel = [0.25, 0.35, 0.5, 0.65, 0.75, 0.9, 1.0, 1.5]\n",
    "curves = []\n",
    "#sigma_index = 1\n",
    "for std_dev in range(10, 50, int((50-10)/len(sigmas_kernel))):\n",
    "    curve = []\n",
    "    for sigma_kernel in sigmas_kernel: #range(5, 20, 1):\n",
    "        #sigma_kernel /= 10\n",
    "        sigma = np.array([sigma_kernel, sigma_kernel])\n",
    "        kernel = [None]*2\n",
    "        kernel[0] = get_gaussian_kernel(sigma[0])\n",
    "        kernel[1] = get_gaussian_kernel(sigma[1])\n",
    "        Y = X + np.random.normal(loc=0, scale=std_dev, size=X.shape).reshape(X.shape)\n",
    "        Y = np.clip(a = Y, a_min=0, a_max=255)\n",
    "        denoised = denoiser.filter(Y, kernel)\n",
    "        #PSNR = IT.distortion.PSNR(denoised, X)\n",
    "        PCC = np.corrcoef(denoised.flatten(), X.flatten())[0, 1]\n",
    "        print(std_dev, sigma_kernel, PCC)\n",
    "        curve.append(PCC)\n",
    "        #plt.imshow(denoised, cmap=\"gray\")\n",
    "        #plt.show()\n",
    "        #input()\n",
    "\n",
    "    curves.append(curve)\n",
    "    #sigma_index += 1\n",
    "    print()"
   ]
  },
  {
   "cell_type": "code",
   "execution_count": null,
   "metadata": {},
   "outputs": [],
   "source": [
    "plt.title(r'$\\mathbf{X}=\\mathrm{Barb}$')\n",
    "#plt.title(r\"$\\mathbb{E}_{\\text{\" + str(iters) + r\"}}(\\mathbf{N}\" + rf\"/{_lambda}\" + r\"), \\mathbf{N}\\sim\\mathrm{Poisson}\" + rf\"(\\lambda={_lambda}\" + r\"\\mathrm{Barb})$\")\n",
    "#plt.title(\"Averaging Poisson noisy instances of \\\"Barb\\\"\")\n",
    "for i in range(len(curves)):\n",
    "    #plt.plot([j/10 for j in range(5, 20, 1)], curves[i], label=rf\"$\\sigma={10+i*5}$\")\n",
    "    plt.plot(sigmas_kernel, curves[i], label=rf\"$\\sigma={10+i*5}$\" + r\"$, \\mathrm{argmax}_\\tau\\mathrm{PCC}=\" + rf\"{sigmas_kernel[np.argmax(curves[i])]}$\")\n",
    "#plt.ylabel(r\"$\\mathrm{PCC}(\\mathbf{X}, \\hat{\\mathbf{X}})$\")\n",
    "plt.ylabel(r\"$\\mathrm{PCC}(\\mathbf{X}, \\mathrm{GD}_\\tau(\\mathbf{X}+\\mathbf{N}_{\\mathcal{N}(\\sigma)}))$\")\n",
    "#plt.xlabel(r\"$\\tau~(\\text{Standard deviation of the Gaussian kernel})$\")\n",
    "plt.xlabel(r\"$\\tau$\")\n",
    "plt.legend()\n",
    "#plt.show()\n",
    "plt.savefig(\"GD_PCC_0MMPG_barb.pdf\", bbox_inches='tight')"
   ]
  },
  {
   "cell_type": "markdown",
   "metadata": {},
   "source": [
    "#### GD_SFRC_0MAGN_barb"
   ]
  },
  {
   "cell_type": "code",
   "execution_count": null,
   "metadata": {
    "scrolled": true
   },
   "outputs": [],
   "source": [
    "curve = []\n",
    "std_dev = 15\n",
    "sigmas_kernel = [0.25, 0.5, 0.75, 1.0, 1.5, 2.0, 2.5]\n",
    "for i in sigmas_kernel:\n",
    "    total_c_avg = 0\n",
    "    kernel = [None]*2\n",
    "    kernel[0] = get_gaussian_kernel(i)\n",
    "    kernel[1] = get_gaussian_kernel(i)\n",
    "    total_c_avg = np.zeros(X.shape[0]>>2)\n",
    "    for j in range(1):\n",
    "        Y = X + np.random.normal(loc=0, scale=std_dev, size=X.shape).reshape(X.shape)\n",
    "        Y = np.clip(a = Y, a_min=0, a_max=255)\n",
    "        denoised = denoiser.filter(Y, kernel)\n",
    "        freq, c_avg = fsc.get_SFRC_curve(denoised)\n",
    "        freq = freq[:(len(freq)>>1)]\n",
    "        c_avg = c_avg[:(len(c_avg)>>1)]\n",
    "        #freq, c_avg = fsc.get_SFRC_curve(X)\n",
    "        print(len(c_avg))\n",
    "        total_c_avg += c_avg\n",
    "    curve.append(total_c_avg/1)\n",
    "    print(i, end=' ')"
   ]
  },
  {
   "cell_type": "code",
   "execution_count": null,
   "metadata": {},
   "outputs": [],
   "source": [
    "string  = r\"$\\mathbf{X}=\\mathrm{Barb}$\"\n",
    "plt.title(string)\n",
    "#plt.xlabel(\"Normalized spatial frequency\")\n",
    "plt.xlabel(r\"$\\omega$\")\n",
    "#plt.ylabel(r\"$\\mathrm{SFRC}(\\tilde{\\mathbf{X}})$\")\n",
    "plt.ylabel(r\"$\\mathrm{SFRC}(\\mathrm{GD}_\\tau(\\mathbf{X}+\\mathbf{N}_{\\mathcal{N}(\\sigma=\" + rf\"{std_dev}\" + \")}))$\")\n",
    "markers = ['o', 's', '^', 'd', 'x', '*', 'v', 'p', 'h', '+']  # Add more markers if needed\n",
    "#for i in range(len(sigmas_kernel)-1, 0, -1):\n",
    "for i in range(len(sigmas_kernel)):\n",
    "    plt.plot(freq, curve[i], label=r\"$\\tau=\" + f\"{sigmas_kernel[i]}\" + r\"$\", marker=markers[i % len(markers)], markersize=0.0)\n",
    "plt.legend()\n",
    "plt.savefig(\"GD_SFRC_0MAGN_barb.pdf\", bbox_inches='tight')"
   ]
  },
  {
   "cell_type": "markdown",
   "metadata": {},
   "source": [
    "## Poisson noise (shot noise)\n",
    "\\begin{equation}\n",
    "  Y=\\frac{N}{\\gamma},~N∼\\mathcal{P}(λ=\\gamma X),\n",
    "\\end{equation}\n",
    "where:\n",
    "* $X\\ge 0$.\n",
    "* $\\lambda\\in{\\mathbb R}\\ge 0$ is the rate of the Poisson distribution, resulting that $\\lambda={\\mathbb E}(N)=\\text{Var}(N)$."
   ]
  },
  {
   "cell_type": "markdown",
   "metadata": {},
   "source": [
    "#### Poisson_barb"
   ]
  },
  {
   "cell_type": "code",
   "execution_count": null,
   "metadata": {},
   "outputs": [],
   "source": [
    "gamma = 1/40\n",
    "string  = r\"$\\mathbf{N}\"\n",
    "string += r\"_{\\mathcal{P}(\\lambda=\"\n",
    "string += rf\"{gamma}\"\n",
    "string += r\"\\cdot\\mathrm{Barb})}\"\n",
    "string += rf\"/{gamma}\"\n",
    "string += r\"$\"\n",
    "plt.title(string)\n",
    "Y = np.random.poisson(X * gamma) / gamma\n",
    "#Y = X + np.random.poisson(0.5*X)\n",
    "#from skimage.util import random_noise\n",
    "#Y = random_noise(X, mode=\"poisson\")\n",
    "Y = np.clip(a = Y, a_min=0, a_max=255)\n",
    "plt.imshow(Y, cmap=\"gray\")\n",
    "plt.savefig('Poisson_barb.pdf', bbox_inches='tight')"
   ]
  },
  {
   "cell_type": "markdown",
   "metadata": {},
   "source": [
    "#### GD_Poisson_barb"
   ]
  },
  {
   "cell_type": "code",
   "execution_count": null,
   "metadata": {},
   "outputs": [],
   "source": [
    "denoised = denoiser.filter(Y, kernel)"
   ]
  },
  {
   "cell_type": "code",
   "execution_count": null,
   "metadata": {},
   "outputs": [],
   "source": [
    "#plt.title(r\"$\\mathrm{GD}_{\\text{\" + str(sigma_kernel) + r\"}}(\\mathbf{N}\" + rf\"/{_lambda}\" + r\"), \\mathbf{N}\\sim\\mathrm{Poisson}\" + rf\"(\\lambda={_lambda}\" + r\"\\cdot\\mathrm{Barb})$\")\n",
    "string  = r\"$\"\n",
    "string += r\"\\mathrm{GD}\"\n",
    "string += r\"_\\text{\"\n",
    "string += str(sigma_kernel)\n",
    "string += r\"}\"\n",
    "string += r\"(\\mathbf{N}\"\n",
    "string += r\"_{\\mathcal{P}(\\lambda=\"\n",
    "string += rf\"{gamma}\"\n",
    "string += r\"\\cdot\\mathrm{Barb})}\"\n",
    "string += rf\"/{gamma})\"\n",
    "string += r\"$\"\n",
    "plt.title(string)\n",
    "plt.imshow(denoised, cmap=\"gray\")\n",
    "plt.savefig('GD_Poisson_barb.pdf', bbox_inches='tight')"
   ]
  },
  {
   "cell_type": "markdown",
   "metadata": {},
   "source": [
    "#### GD_PCC_Poisson_barb"
   ]
  },
  {
   "cell_type": "code",
   "execution_count": null,
   "metadata": {},
   "outputs": [],
   "source": [
    "for gamma in range(len(sigmas_kernel)):\n",
    "    print((1+gamma)/40)"
   ]
  },
  {
   "cell_type": "code",
   "execution_count": null,
   "metadata": {},
   "outputs": [],
   "source": [
    "print([(0.25 + i/10) for i in range(20)])"
   ]
  },
  {
   "cell_type": "code",
   "execution_count": null,
   "metadata": {
    "scrolled": true
   },
   "outputs": [],
   "source": [
    "#sigmas_kernel = [0.25, 0.5, 0.75, 1.0, 1.25, 1.5, 1.75, 2.0]\n",
    "sigmas_kernel = [(0.25 + i/10) for i in range(20)]\n",
    "curves = []\n",
    "#sigma_index = 1\n",
    "#for _lambda in range(10, 0, -int((10)/len(sigmas_kernel))):\n",
    "#for _lambda in range(len(sigmas_kernel)):\n",
    "for gamma in range(8):\n",
    "    #gamma /= 40\n",
    "    gamma = (1+gamma)/10\n",
    "    curve = []\n",
    "    for sigma_kernel in sigmas_kernel: #range(5, 20, 1):\n",
    "        #sigma_kernel /= 10\n",
    "        sigma = np.array([sigma_kernel, sigma_kernel])\n",
    "        kernel = [None]*2\n",
    "        kernel[0] = get_gaussian_kernel(sigma[0])\n",
    "        kernel[1] = get_gaussian_kernel(sigma[1])\n",
    "        Y = np.random.poisson(X.astype(np.float32) * gamma) / gamma\n",
    "        Y = np.clip(a = Y, a_min=0, a_max=255)\n",
    "        denoised = denoiser.filter(Y, kernel)\n",
    "        #PSNR = IT.distortion.PSNR(denoised, X)\n",
    "        PCC = np.corrcoef(denoised.flatten(), X.flatten())[0, 1]\n",
    "        print(f\"gamma={gamma}\", f\"sigma_kernel={sigma_kernel}\", f\"PCC={PCC}\")\n",
    "        curve.append(PCC)\n",
    "        #plt.imshow(denoised, cmap=\"gray\")\n",
    "        #plt.show()\n",
    "        #input()\n",
    "\n",
    "    curves.append(curve)\n",
    "    #sigma_index += 1\n",
    "    print()"
   ]
  },
  {
   "cell_type": "code",
   "execution_count": null,
   "metadata": {},
   "outputs": [],
   "source": [
    "plt.title(r\"$\\mathbf{X}=\\mathrm{Barb}$\")\n",
    "for i in range(len(curves)):\n",
    "    plt.plot(sigmas_kernel, curves[i], label=rf\"$\\gamma={(1+i)/40}$\" + r\"$, \\mathrm{argmax}_\\tau\\mathrm{PCC}=\" + rf\"{sigmas_kernel[np.argmax(curves[i])]}$\")\n",
    "    #plt.plot([i/10 for i in range(5, 20, 1)], curves[i], label=rf\"$\\lambda={(10-i)/40}\\cdot\" + r\"\\mathrm{Barb}$\")\n",
    "string  = r\"$\"\n",
    "string += r\"\\mathrm{PCC}\"\n",
    "string += r\"(\\mathbf{X}, \"\n",
    "string += r\"\\mathrm{GD}_\\tau(\\mathbf{N}_\"\n",
    "string += r\"{\\mathcal{P}(\\gamma\\mathbf{X})}/\\gamma))$\"\n",
    "plt.ylabel(string)\n",
    "plt.xlabel(r\"$\\tau$\")\n",
    "plt.legend()\n",
    "#plt.show()\n",
    "plt.savefig(\"GD_PCC_Poisson_barb.pdf\", bbox_inches='tight')"
   ]
  },
  {
   "cell_type": "markdown",
   "metadata": {},
   "source": [
    "#### GD_SFRC_Poisson_barb"
   ]
  },
  {
   "cell_type": "code",
   "execution_count": null,
   "metadata": {
    "scrolled": true
   },
   "outputs": [],
   "source": [
    "curve = []\n",
    "gamma = 0.05\n",
    "sigmas_kernel = [0.25, 0.5, 0.75, 1.0, 1.5, 2.0, 2.5]\n",
    "for i in sigmas_kernel:\n",
    "    total_c_avg = 0\n",
    "    kernel = [None]*2\n",
    "    kernel[0] = get_gaussian_kernel(i)\n",
    "    kernel[1] = get_gaussian_kernel(i)\n",
    "    total_c_avg = np.zeros(X.shape[0]>>2)\n",
    "    for j in range(1):\n",
    "        Y = np.random.poisson(X.astype(np.float32) * gamma) / gamma\n",
    "        Y = np.clip(a = Y, a_min=0, a_max=255)\n",
    "        denoised = denoiser.filter(Y, kernel)\n",
    "        #plt.imshow(denoised, cmap=\"gray\")\n",
    "        #plt.show()\n",
    "        freq, c_avg = fsc.get_SFRC_curve(denoised)\n",
    "        #freq, c_avg = fsc.get_SFRC_curve(X)\n",
    "        freq = freq[:(len(freq)>>1)]\n",
    "        c_avg = c_avg[:(len(c_avg)>>1)]\n",
    "        total_c_avg += c_avg\n",
    "    curve.append(total_c_avg/1)\n",
    "    print(i, end=' ')"
   ]
  },
  {
   "cell_type": "code",
   "execution_count": null,
   "metadata": {},
   "outputs": [],
   "source": [
    "plt.title(r\"$\\mathbf{X}=\\mathrm{Barb}$\")\n",
    "plt.xlabel(r\"$\\omega$\")\n",
    "#plt.ylabel(r\"$\\mathrm{SFRC}(\\tilde{\\mathbf{X}})$\")\n",
    "string  = r\"$\\mathrm{SFRC}\"\n",
    "string += r\"(\\mathrm{GD}_\\tau(\\mathbf{N}\"\n",
    "string += r\"_{\\mathcal{P}(\"\n",
    "string += rf\"{gamma}\"\n",
    "string += r\"\\mathbf{X})}/\" + rf\"{gamma}\" + r\"))$\"\n",
    "plt.ylabel(string)\n",
    "markers = ['o', 's', '^', 'd', 'x', '*', 'v', 'p', 'h', '+']  # Add more markers if needed\n",
    "for i in range(len(sigmas_kernel)):\n",
    "#for i in range(len(sigmas_kernel)-1, 0, -1):\n",
    "    #plt.plot(freq, curve[i], label=r\"$\\tau=\" + f\"{sigmas_kernel[i]}\" + r\"$\", marker=markers[(len(sigmas_kernel)-i-1) % len(markers)], markersize=0.0)\n",
    "    #plt.plot(freq, curve[i], label=r\"$\\tau=\" + f\"{sigmas_kernel[len(sigmas_kernel)-i-1]}\" + r\"$\", marker=markers[(len(sigmas_kernel)-i-1) % len(markers)], markersize=0.0)\n",
    "    plt.plot(freq, curve[i], label=r\"$\\tau=\" + f\"{sigmas_kernel[i]}\" + r\"$\", marker=markers[i % len(markers)], markersize=0.0)\n",
    "plt.legend()\n",
    "plt.savefig(\"GD_SFRC_Poisson_barb.pdf\", bbox_inches='tight')"
   ]
  },
  {
   "cell_type": "markdown",
   "metadata": {},
   "source": [
    "## Zero-mean Mixed Poisson-Gaussian (0MMPG) noise\n",
    "\\begin{equation}\n",
    "  Y = N_{\\mathcal{P}(\\gamma X)}/\\gamma + N_{\\mathcal{N(\\sigma)}}\n",
    "\\end{equation}\n",
    "where\n",
    "\\begin{equation}\n",
    "N_{\\mathcal{P}(\\gamma X)}\\sim\\mathcal{P}(λ=\\gamma X)\n",
    "\\end{equation}\n",
    "and\n",
    "\\begin{equation}\n",
    "N_{\\mathcal{N(\\sigma)}}\\sim{\\mathcal N}(\\mu=0, \\sigma^2).\n",
    "\\end{equation}"
   ]
  },
  {
   "cell_type": "code",
   "execution_count": null,
   "metadata": {},
   "outputs": [],
   "source": [
    "def MPG_noise(X, std_dev=10.0, gamma=0.1, poisson_ratio=0.5):\n",
    "    N_poisson = np.random.poisson(X * gamma)/gamma\n",
    "    N_gaussian = np.random.normal(loc=0, scale=std_dev, size=X.size)\n",
    "    N_gaussian = np.reshape(N_gaussian, X.shape)\n",
    "    Y = (1 - poisson_ratio) * (X + N_gaussian) + poisson_ratio * N_poisson\n",
    "    Y = np.clip(Y, 0, 255)\n",
    "    #Y = N_gaussian + N_poisson\n",
    "    #Y = N_gaussian + gamma*N_poisson\n",
    "    #Y = N_poisson\n",
    "    #Y = N_gaussian + X\n",
    "    return Y"
   ]
  },
  {
   "cell_type": "markdown",
   "metadata": {},
   "source": [
    "#### 0MMPG_barb"
   ]
  },
  {
   "cell_type": "code",
   "execution_count": null,
   "metadata": {},
   "outputs": [],
   "source": [
    "gamma = 0.15\n",
    "std_dev = 30\n",
    "string  = r'$\\hat{mathbf{X}}=]'\n",
    "string += r\"\\mathrm{Barb} + \\mathbf{N}_{\\mathcal{N}\"\n",
    "string += r\"(\\sigma\"\n",
    "string += f\"={std_dev})\"\n",
    "string += r'}'\n",
    "string += r\" + \\mathbf{N}_{\\mathcal{P}\"\n",
    "string += r\"(\\lambda\"\n",
    "string += f\"={gamma}\"\n",
    "string += r'\\cdot\\mathrm{Barb})}'\n",
    "string += f\"/{gamma}\"\n",
    "string += ']$'\n",
    "plt.title(string) \n",
    "Y = MPG_noise(X, std_dev, gamma).reshape(X.shape)\n",
    "Y = np.clip(a = Y, a_min=0, a_max=255)\n",
    "plt.imshow(Y, cmap=\"gray\")\n",
    "#plt.savefig('0MMPG_barb.pdf', bbox_inches='tight')"
   ]
  },
  {
   "cell_type": "markdown",
   "metadata": {},
   "source": [
    "#### GD_0MMPG_barb"
   ]
  },
  {
   "cell_type": "code",
   "execution_count": null,
   "metadata": {},
   "outputs": [],
   "source": [
    "sigma_kernel = 0.75\n",
    "sigma = np.array([sigma_kernel, sigma_kernel])\n",
    "kernel = [None]*2\n",
    "kernel[0] = get_gaussian_kernel(sigma[0])\n",
    "kernel[1] = get_gaussian_kernel(sigma[1])\n",
    "print(np.sum(kernel[0]))\n",
    "plt.plot(kernel[0])\n",
    "plt.show()"
   ]
  },
  {
   "cell_type": "code",
   "execution_count": null,
   "metadata": {},
   "outputs": [],
   "source": [
    "denoised = denoiser.filter(Y, kernel)"
   ]
  },
  {
   "cell_type": "code",
   "execution_count": null,
   "metadata": {},
   "outputs": [],
   "source": [
    "string  = r\"$\\mathrm{GD}_{\\text{\"\n",
    "string += str(sigma_kernel)\n",
    "string += r\"}}(\\hat{\\mathbf{X}\n",
    "}#string += r\"}}(\\mathrm{Barb} + \\mathbf{N}_{\\mathcal{N}\"\n",
    "#string += r\"(\\sigma\"\n",
    "#string += f\"={std_dev})\"\n",
    "#string += r'}'\n",
    "#string += r\" + \\mathbf{N}_{\\mathcal{P}\"\n",
    "#string += r\"(\\lambda\"\n",
    "string += f\"={gamma}\"\n",
    "string += r'\\cdot\\mathrm{Barb})}'\n",
    "#string += rf\"$_{(\\sigma^2={std_dev}^2)}$\"\n",
    "string += f\"/{gamma})\"\n",
    "string += '$'\n",
    "plt.title(f\"{string}\")\n",
    "plt.imshow(denoised, cmap=\"gray\")\n",
    "plt.savefig('GD_0MMPG_barb.pdf', bbox_inches='tight')"
   ]
  },
  {
   "cell_type": "markdown",
   "metadata": {},
   "source": [
    "#### GD_PCC_0MMPG_barb"
   ]
  },
  {
   "cell_type": "code",
   "execution_count": null,
   "metadata": {
    "scrolled": true
   },
   "outputs": [],
   "source": [
    "sigmas_kernel = [(0.2 + i/10) for i in range(20)]\n",
    "curves = []\n",
    "#sigma_index = 1\n",
    "for std_dev in range(1, 50, 5):\n",
    "    gamma = std_dev / 50\n",
    "    curve = []\n",
    "    #for sigma_kernel in range(5, 20, 1):\n",
    "    for sigma_kernel in sigmas_kernel:\n",
    "        #sigma_kernel /= 10\n",
    "        sigma = np.array([sigma_kernel, sigma_kernel])\n",
    "        kernel = [None]*2\n",
    "        kernel[0] = get_gaussian_kernel(sigma[0])\n",
    "        kernel[1] = get_gaussian_kernel(sigma[1])\n",
    "        Y = MPG_noise(X, std_dev, gamma).reshape(X.shape)\n",
    "        Y = np.clip(a = Y, a_min=0, a_max=255)\n",
    "        denoised = denoiser.filter(Y, kernel)\n",
    "        #PSNR = IT.distortion.PSNR(denoised, X)\n",
    "        PCC = np.corrcoef(denoised.flatten(), X.flatten())[0, 1]\n",
    "        print(std_dev, sigma_kernel, PCC)\n",
    "        curve.append(PCC)\n",
    "        #plt.imshow(denoised, cmap=\"gray\")\n",
    "        #plt.show()\n",
    "        #input()\n",
    "\n",
    "    curves.append(curve)\n",
    "    #sigma_index += 1\n",
    "    print()"
   ]
  },
  {
   "cell_type": "code",
   "execution_count": null,
   "metadata": {},
   "outputs": [],
   "source": [
    "#plt.title(r\"$\\mathbf{X}=\\mathrm{Barb}$\")\n",
    "#plt.title(r\"$\\mathbb{E}_{\\text{\" + str(iters) + r\"}}(\\mathbf{N}\" + rf\"/{_lambda}\" + r\"), \\mathbf{N}\\sim\\mathrm{Poisson}\" + rf\"(\\lambda={_lambda}\" + r\"\\mathrm{Barb})$\")\n",
    "#plt.title(\"Averaging Poisson noisy instances of \\\"Barb\\\"\")\n",
    "for i in range(len(curves)):\n",
    "    #plt.plot([i/10 for i in range(5, 20, 1)], curves[i], label=rf\"$\\sigma={10+i*5}, \\lambda={(10-i)/40}\\cdot\" + r\"\\mathrm{Barb}$\")\n",
    "    plt.plot(sigmas_kernel, curves[i], label=rf\"$\\sigma={10+i*5}, \\gamma={(10-i)/40}\" + r\", \\mathrm{argmax}_\\tau=\" + rf\"{sigmas_kernel[np.argmax(curves[i])]:.2f}$\")\n",
    "string  = r\"$\"\n",
    "string += r\"\\mathrm{PCC}\"\n",
    "string += r\"(\\mathbf{X}, \"\n",
    "string += r\"\\mathrm{GD}_\\tau\"\n",
    "string += r\"(\\hat{\\mathbf{X}}\"\n",
    "#string += r\"+ \\mathbf{N}_{\\mathcal{N}\"\n",
    "#string += r\"(\\sigma)}\"\n",
    "#string += r\"+ \\mathbf{N}_\"\n",
    "#string += r\"{\\mathcal{P}(\\gamma\\mathbf{X})}/\\gamma))$\"\n",
    "string += r\"))$\"\n",
    "plt.ylabel(string)\n",
    "#plt.ylabel(r\"$\\mathrm{PCC}(\\mathbf{X}, \\hat{\\mathbf{X}})$\")\n",
    "plt.xlabel(r\"$\\tau$\")\n",
    "plt.legend()\n",
    "#plt.show()\n",
    "plt.savefig(\"GD_PCC_0MMPG_barb.pdf\", bbox_inches='tight')"
   ]
  },
  {
   "cell_type": "markdown",
   "metadata": {},
   "source": [
    "#### GD_SFRC_0MMPG_barb"
   ]
  },
  {
   "cell_type": "code",
   "execution_count": null,
   "metadata": {},
   "outputs": [],
   "source": [
    "#sigmas_kernel = [(0.25 + i/10) for i in range(20)]\n",
    "sigmas_kernel = [0.25, 0.5, 0.75, 1.0, 1.5, 2.0, 2.5]\n",
    "curve = []\n",
    "gamma = 0.15\n",
    "std_dev = 30\n",
    "for i in sigmas_kernel:\n",
    "    total_c_avg = 0\n",
    "    kernel = [None]*2\n",
    "    kernel[0] = get_gaussian_kernel(i)\n",
    "    kernel[1] = get_gaussian_kernel(i)\n",
    "    total_c_avg = np.zeros(X.shape[0]>>2)\n",
    "    for j in range(1):\n",
    "        Y = MPG_noise(X, std_dev, gamma).reshape(X.shape)\n",
    "        Y = np.clip(a = Y, a_min=0, a_max=255)\n",
    "        denoised = denoiser.filter(Y, kernel)\n",
    "        #plt.imshow(denoised, cmap=\"gray\")\n",
    "        #plt.show()\n",
    "        freq, c_avg = fsc.get_SFRC_curve(denoised)\n",
    "        #freq, c_avg = fsc.get_SFRC_curve(X)\n",
    "        freq = freq[:(len(freq)>>1)]\n",
    "        c_avg = c_avg[:(len(c_avg)>>1)]\n",
    "        total_c_avg += c_avg\n",
    "    curve.append(total_c_avg/1)\n",
    "    print(i, end=' ')"
   ]
  },
  {
   "cell_type": "code",
   "execution_count": null,
   "metadata": {},
   "outputs": [],
   "source": [
    "#plt.title(r\"$\\mathbf{X}=\\mathrm{Barb}$\")\n",
    "plt.xlabel(r\"$\\omega$\")\n",
    "string  = r\"$\\mathrm{SFRC}\"\n",
    "string += r\"(\\mathrm{GD}_\\tau(\"\n",
    "#string += r\"\\mathbf{X} + \\mathbf{N}_{\\mathcal{N}\"\n",
    "#string += r\"(\\sigma=\"\n",
    "#string += f\"{std_dev}\"\n",
    "#string += r\")}\"\n",
    "#string += r\"+ \\mathbf{N}\"\n",
    "#string += r\"_{\\mathcal{P}(\"\n",
    "#string += rf\"{gamma}\"\n",
    "#string += r\"\\mathbf{X})}/\" + rf\"{gamma}\"\n",
    "string += r\"\\hat{\\mathbf{X}}\"\n",
    "string += r\"))$\"\n",
    "plt.ylabel(string)\n",
    "#plt.ylabel(r\"$\\mathrm{SFRC}(\\tilde{\\mathbf{X}})$\")\n",
    "markers = ['o', 's', '^', 'd', 'x', '*', 'v', 'p', 'h', '+']  # Add more markers if needed\n",
    "for i in range(len(sigmas_kernel)):\n",
    "#for i in range(len(sigmas_kernel)-1, 0, -1):\n",
    "    #plt.plot(freq, curve[i], label=r\"$\\tau=\" + f\"{sigmas_kernel[i]}\" + r\"$\", marker=markers[(len(sigmas_kernel)-i-1) % len(markers)], markersize=0.0)\n",
    "    #plt.plot(freq, curve[i], label=r\"$\\tau=\" + f\"{sigmas_kernel[len(sigmas_kernel)-i-1]}\" + r\"$\", marker=markers[(len(sigmas_kernel)-i-1) % len(markers)], markersize=0.0)\n",
    "    plt.plot(freq, curve[i], label=r\"$\\tau=\" + f\"{sigmas_kernel[i]}\" + r\", \\mathrm{sum}=\" + f\"{int(np.sum(curve[i]))}\" + r\"$\", marker=markers[i % len(markers)], markersize=0.0)\n",
    "plt.legend()\n",
    "plt.savefig(\"GD_SFRC_0MMPG_barb.pdf\", bbox_inches='tight')"
   ]
  },
  {
   "cell_type": "code",
   "execution_count": null,
   "metadata": {},
   "outputs": [],
   "source": []
  }
 ],
 "metadata": {
  "colab": {
   "collapsed_sections": [],
   "name": "gaussian_denoising.ipynb",
   "provenance": []
  },
  "kernelspec": {
   "display_name": "Python 3 (ipykernel)",
   "language": "python",
   "name": "python3"
  },
  "language_info": {
   "codemirror_mode": {
    "name": "ipython",
    "version": 3
   },
   "file_extension": ".py",
   "mimetype": "text/x-python",
   "name": "python",
   "nbconvert_exporter": "python",
   "pygments_lexer": "ipython3",
   "version": "3.12.2"
  }
 },
 "nbformat": 4,
 "nbformat_minor": 4
}
