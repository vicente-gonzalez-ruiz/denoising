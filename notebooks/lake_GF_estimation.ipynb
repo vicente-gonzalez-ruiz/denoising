{
 "cells": [
  {
   "cell_type": "markdown",
   "metadata": {
    "editable": true,
    "id": "QqfKxC0KuCzK",
    "slideshow": {
     "slide_type": ""
    },
    "tags": []
   },
   "source": [
    "# Optimal GF for lake\n",
    "\n",
    "1. Determine the frequency $u$ for which the average FSC progressively computed from the normalized frequency 0.5 is higher than some given threshold $t=0.143$, by default.\n",
    "2. Compute the corresponding Gaussian filter length $\\tau$ whose cut-off frequency is $u$.\n",
    "3. Filter the image.\n",
    "\n",
    "Hay que estudiar:\n",
    "1. Si el valle en la curva SFRC es culpa del filtro separable (comparar con el 2D puro). No es culpa. Por encima de la frecuencia normalizada 0.25 la SFRC no es significativa.\n",
    "2. Si usando random shuffling y OF es posible obtener una SFRC mejor."
   ]
  },
  {
   "cell_type": "code",
   "execution_count": null,
   "metadata": {
    "id": "IIUxh4uStrQJ"
   },
   "outputs": [],
   "source": [
    "import time\n",
    "from collections import namedtuple\n",
    "\n",
    "try:\n",
    "    import numpy as np\n",
    "except:\n",
    "    !pip install numpy\n",
    "    import numpy as np\n",
    "\n",
    "import scipy.ndimage\n",
    "\n",
    "try:\n",
    "    import matplotlib\n",
    "    import matplotlib.pyplot as plt\n",
    "    import matplotlib.ticker as mticker\n",
    "except:\n",
    "    !pip install matplotlib\n",
    "    import matplotlib\n",
    "    import matplotlib.pyplot as plt\n",
    "    import matplotlib.ticker as mticker\n",
    "\n",
    "try:\n",
    "    from skimage import io as skimage_io\n",
    "except:\n",
    "    !pip install scikit-image\n",
    "    from skimage import io as skimage_io\n",
    "\n",
    "try:\n",
    "    import information_theory as IT\n",
    "except:\n",
    "    !pip install \"information_theory @ git+https://github.com/vicente-gonzalez-ruiz/information_theory\"\n",
    "    import information_theory as IT\n",
    "\n",
    "import utils        #freq, c_avg = fsc.get_SFRC_curve(denoised)\n",
    "        #first_half = c_avg[:len(c_avg)>>1]\n",
    "        #SFRC_curve.append(first_half)\n",
    "        #plt.imshow(denoised, cmap=\"gray\")\n",
    "        #plt.show()\n",
    "        #input()"
   ]
  },
  {
   "cell_type": "code",
   "execution_count": null,
   "metadata": {},
   "outputs": [],
   "source": [
    "# apt install cm-super-minimal\n",
    "# apt install dvipng\n",
    "plt.rcParams.update({\n",
    "    \"text.usetex\": True,\n",
    "    #\"font.family\": \"Helvetica\",\n",
    "    \"font.family\": \"Serif\",\n",
    "    \"text.latex.preamble\": r\"\\usepackage{amsmath} \\usepackage{amsfonts}\"\n",
    "})"
   ]
  },
  {
   "cell_type": "code",
   "execution_count": null,
   "metadata": {},
   "outputs": [],
   "source": [
    "import logging\n",
    "logging.basicConfig(format=\"[%(filename)s:%(lineno)s %(funcName)s()] %(message)s\")\n",
    "logger = logging.getLogger(__name__)\n",
    "logger.setLevel(logging.WARNING)"
   ]
  },
  {
   "cell_type": "code",
   "execution_count": null,
   "metadata": {},
   "outputs": [],
   "source": [
    "try:\n",
    "    from self_fourier_shell_correlation import fsc_utils as fsc\n",
    "except:\n",
    "    !pip install \"self_fourier_shell_correlation @ git+https://github.com/vicente-gonzalez-ruiz/self_fourier_shell_correlation\"\n",
    "    from self_fourier_shell_correlation import fsc_utils as fsc"
   ]
  },
  {
   "cell_type": "code",
   "execution_count": null,
   "metadata": {},
   "outputs": [],
   "source": [
    "try:\n",
    "    import denoising.image.gaussian as denoising\n",
    "except:\n",
    "    !pip install \"denoising @ git+https://github.com/vicente-gonzalez-ruiz/denoising\"\n",
    "    import denoising.image.gaussian as denoising"
   ]
  },
  {
   "cell_type": "code",
   "execution_count": null,
   "metadata": {},
   "outputs": [],
   "source": [
    "denoiser = denoising.Monochrome_Denoising(logger)"
   ]
  },
  {
   "cell_type": "markdown",
   "metadata": {},
   "source": [
    "### Inputs"
   ]
  },
  {
   "cell_type": "code",
   "execution_count": null,
   "metadata": {},
   "outputs": [],
   "source": [
    "#Args = namedtuple(\"args\", [\"input\"])\n",
    "#args = Args(\"lake_0MMPG.png\")\n",
    "Args = namedtuple(\"args\", [\"X\", \"Y\"])\n",
    "args = Args(\"http://www.hpca.ual.es/~vruiz/images/lake.png\", \"lake_0MMPG.png\")\n",
    "#args = Args(\"http://www.hpca.ual.es/~vruiz/images/lake.png\", \"lake_0MMPG.png\")"
   ]
  },
  {
   "cell_type": "code",
   "execution_count": null,
   "metadata": {},
   "outputs": [],
   "source": [
    "X = skimage_io.imread(args.X)"
   ]
  },
  {
   "cell_type": "code",
   "execution_count": null,
   "metadata": {},
   "outputs": [],
   "source": [
    "try:\n",
    "    Y = skimage_io.imread(args.Y)\n",
    "except FileNotFoundError:\n",
    "    %run lake_0MMPG.ipynb\n",
    "    Y = skimage_io.imread(args.Y)"
   ]
  },
  {
   "cell_type": "code",
   "execution_count": null,
   "metadata": {},
   "outputs": [],
   "source": [
    "utils.imshow(X)"
   ]
  },
  {
   "cell_type": "code",
   "execution_count": null,
   "metadata": {},
   "outputs": [],
   "source": [
    "utils.imshow(Y)"
   ]
  },
  {
   "cell_type": "markdown",
   "metadata": {},
   "source": [
    "### Compute SFRC"
   ]
  },
  {
   "cell_type": "code",
   "execution_count": null,
   "metadata": {},
   "outputs": [],
   "source": [
    "freq_1, c_avg_Y_1 = fsc.get_SFRC_curve__even_odd(X)\n",
    "freq_2, c_avg_Y_2 = fsc.get_SFRC_curve__even_odd(Y)\n",
    "\n",
    "from scipy.ndimage import gaussian_filter1d\n",
    "\n",
    "plt.plot(freq_1, c_avg_Y_1, label=\"X\")\n",
    "filtered_c_avg_Y_1 = gaussian_filter1d(c_avg_Y_1, sigma=5)\n",
    "plt.plot(freq_1, filtered_c_avg_Y_1)\n",
    "\n",
    "plt.plot(freq_2, c_avg_Y_2, label=\"Y\")\n",
    "filtered_c_avg_Y_2 = gaussian_filter1d(c_avg_Y_2, sigma=5)\n",
    "plt.plot(freq_2, filtered_c_avg_Y_2)\n",
    "\n",
    "plt.legend()"
   ]
  },
  {
   "cell_type": "code",
   "execution_count": null,
   "metadata": {},
   "outputs": [],
   "source": [
    "freq_1, c_avg_Y_1 = fsc.get_SFRC_curve__SPRS(X, std_dev=5)\n",
    "freq_2, c_avg_Y_2 = fsc.get_SFRC_curve__SPRS(Y, std_dev=5)\n",
    "\n",
    "from scipy.ndimage import gaussian_filter1d\n",
    "\n",
    "plt.plot(freq_1, c_avg_Y_1, label=\"X\")\n",
    "filtered_c_avg_Y_1 = gaussian_filter1d(c_avg_Y_1, sigma=5)\n",
    "plt.plot(freq_1, filtered_c_avg_Y_1)\n",
    "\n",
    "plt.plot(freq_2, c_avg_Y_2, label=\"Y\")\n",
    "filtered_c_avg_Y_2 = gaussian_filter1d(c_avg_Y_2, sigma=5)\n",
    "plt.plot(freq_2, filtered_c_avg_Y_2)\n",
    "\n",
    "plt.legend()"
   ]
  },
  {
   "cell_type": "code",
   "execution_count": null,
   "metadata": {},
   "outputs": [],
   "source": [
    "std_devs = [i for i in range(0, 200, 40)]\n",
    "poisson_ratio = 0.5\n",
    "gamma = 0.15\n",
    "for std_dev in std_devs: # Number of noise levels\n",
    "    PCC_curve = []\n",
    "    Y = utils.generate_MPGN(X, std_dev, gamma, poisson_ratio).reshape(X.shape)\n",
    "    print(\"std_dev =\", std_dev)\n",
    "    freq, c_avg = fsc.get_SFRC_curve__even_odd(Y)\n",
    "    plt.plot(freq, c_avg, label=rf\"$\\sigma={std_dev}$\")\n",
    "plt.legend()"
   ]
  },
  {
   "cell_type": "code",
   "execution_count": null,
   "metadata": {},
   "outputs": [],
   "source": [
    "std_devs = [i for i in range(0, 200, 40)]\n",
    "poisson_ratio = 0.5\n",
    "gamma = 0.15\n",
    "for std_dev in std_devs: # Number of noise levels\n",
    "    PCC_curve = []\n",
    "    Y = utils.generate_MPGN(X, std_dev, gamma, poisson_ratio).reshape(X.shape)\n",
    "    print(\"std_dev =\", std_dev)\n",
    "    freq, c_avg = fsc.get_SFRC_curve__SPRS(Y)\n",
    "    plt.plot(freq, c_avg, label=rf\"$\\sigma={std_dev}$\")\n",
    "plt.legend()"
   ]
  },
  {
   "cell_type": "code",
   "execution_count": null,
   "metadata": {},
   "outputs": [],
   "source": [
    "std_devs = [i for i in range(0, 200, 40)]\n",
    "poisson_ratio = 0.5\n",
    "gamma = 0.15\n",
    "for std_dev in std_devs: # Number of noise levels\n",
    "    PCC_curve = []\n",
    "    Y = utils.generate_MPGN(X, std_dev, gamma, poisson_ratio).reshape(X.shape)\n",
    "    print(\"std_dev =\", std_dev)\n",
    "    freq, c_avg = fsc.get_SFRC_curve__chessboard(Y)\n",
    "    plt.plot(freq, c_avg, label=rf\"$\\sigma={std_dev}$\")\n",
    "plt.legend()"
   ]
  },
  {
   "cell_type": "code",
   "execution_count": null,
   "metadata": {},
   "outputs": [],
   "source": [
    "std_devs = [i for i in range(0, 200, 40)]\n",
    "poisson_ratio = 0.5\n",
    "gamma = 0.15\n",
    "for std_dev in std_devs: # Number of noise levels\n",
    "    PCC_curve = []\n",
    "    Y = utils.generate_MPGN(X, std_dev, gamma, poisson_ratio).reshape(X.shape)\n",
    "    print(\"std_dev =\", std_dev)\n",
    "    freq, c_avg = fsc.get_SFRC_curve__interpolated_chessboard(Y)\n",
    "    plt.plot(freq, c_avg, label=rf\"$\\sigma={std_dev}$\")\n",
    "plt.legend()"
   ]
  },
  {
   "cell_type": "code",
   "execution_count": null,
   "metadata": {},
   "outputs": [],
   "source": [
    "def estimate_noise(signal):\n",
    "    noise_estimation = signal[len(signal)-1]\n",
    "    return noise_estimation\n",
    "    \n",
    "def find_cutoff_freq__EO(image, beta=0.5):\n",
    "    freq, c_avg = fsc.get_SFRC_curve__even_odd(image)\n",
    "    #c_avg = c_avg[0:len(c_avg)>>1]\n",
    "    filtered_c_avg = gaussian_filter1d(c_avg, 5)\n",
    "    #min_curve = np.abs(np.min(filtered_c_avg)); cutoff_idx = np.where(filtered_c_avg < min_curve * (1 + beta))[0][0]\n",
    "    #noise_estimation = estimate_noise(filtered_c_avg); cutoff_idx = np.where(filtered_c_avg < noise_estimation ** beta )[0][0]\n",
    "    #noise_estimation = estimate_noise(filtered_c_avg); cutoff_idx = np.where(filtered_c_avg < noise_estimation + beta)[0][0]\n",
    "    cutoff_idx = np.where(filtered_c_avg < filtered_c_avg[0] * beta)[0][0]\n",
    "    cutoff_freq = freq[cutoff_idx>>1]\n",
    "    #return (cutoff_freq - 0.05) * 3\n",
    "    return (cutoff_freq) * 2 # Only half of the frequencies are meaninful\n",
    "\n",
    "def find_cutoff_freq__RS(image, beta=0.2, std_dev=5):\n",
    "    freq, c_avg = fsc.get_SFRC_curve__SPRS(image, std_dev)\n",
    "    #c_avg = c_avg[0:len(c_avg)>>1]\n",
    "    #freq = freq[0:len(freq)>>1]\n",
    "    #freq /= 2\n",
    "    #freq, c_avg = fsc.get_SFRC_curve_EO(image)\n",
    "    filtered_c_avg = gaussian_filter1d(c_avg, 5)\n",
    "    #min_curve = np.abs(np.min(filtered_c_avg)); cutoff_idx = np.where(filtered_c_avg < min_curve + beta)[0][0]\n",
    "    #min_curve = np.abs(np.min(filtered_c_avg)); cutoff_idx = np.where(filtered_c_avg < min_curve * (1 + beta))[0][0]\n",
    "    cutoff_idx = np.where(filtered_c_avg < filtered_c_avg[0] * beta)[0][0]\n",
    "    #noise_estimation = estimate_noise(filtered_c_avg); cutoff_idx = np.where(filtered_c_avg < noise_estimation ** beta )[0][0]\n",
    "    #noise_estimation = estimate_noise(filtered_c_avg); cutoff_idx = np.where(filtered_c_avg < noise_estimation + beta)[0][0]\n",
    "    cutoff_freq = freq[cutoff_idx>>0]\n",
    "    #return (cutoff_freq - 0.070) * 2.5 #  Pendiente, 1/umbral\n",
    "    return (cutoff_freq - 0.09) * 5 # See pure_noise_SFRC.ipynb"
   ]
  },
  {
   "cell_type": "code",
   "execution_count": null,
   "metadata": {},
   "outputs": [],
   "source": [
    "def convert_to_tau(eta):\n",
    "    return 0.141/(eta)"
   ]
  },
  {
   "cell_type": "code",
   "execution_count": null,
   "metadata": {},
   "outputs": [],
   "source": [
    "poisson_ratio = 0.5\n",
    "gamma = 0.15\n",
    "std_dev = 160\n",
    "Y = utils.generate_MPGN(X, std_dev, gamma, poisson_ratio).reshape(X.shape) "
   ]
  },
  {
   "cell_type": "code",
   "execution_count": null,
   "metadata": {},
   "outputs": [],
   "source": [
    "eta_X = find_cutoff_freq__EO(X)\n",
    "eta_Y = find_cutoff_freq__EO(Y)\n",
    "print(eta_X)\n",
    "print(eta_Y)"
   ]
  },
  {
   "cell_type": "code",
   "execution_count": null,
   "metadata": {},
   "outputs": [],
   "source": [
    "tau_X = convert_to_tau(eta_X)\n",
    "tau_Y = convert_to_tau(eta_Y)\n",
    "print(tau_X)\n",
    "print(tau_Y)"
   ]
  },
  {
   "cell_type": "code",
   "execution_count": null,
   "metadata": {},
   "outputs": [],
   "source": [
    "eta_X = find_cutoff_freq__RS(X)\n",
    "eta_Y = find_cutoff_freq__RS(Y)\n",
    "print(eta_X)\n",
    "print(eta_Y)"
   ]
  },
  {
   "cell_type": "code",
   "execution_count": null,
   "metadata": {},
   "outputs": [],
   "source": [
    "tau_X = convert_to_tau(eta_X)\n",
    "tau_Y = convert_to_tau(eta_Y)\n",
    "print(tau_X)\n",
    "print(tau_Y)"
   ]
  },
  {
   "cell_type": "markdown",
   "metadata": {},
   "source": [
    "### lake_GF_estimation"
   ]
  },
  {
   "cell_type": "code",
   "execution_count": null,
   "metadata": {},
   "outputs": [],
   "source": [
    "def find_taus_EO():\n",
    "    std_devs = [i for i in range(0, 200, 40)]\n",
    "    PCC_curves = []\n",
    "    poisson_ratio = 0.5\n",
    "    gamma = 0.15\n",
    "    taus_EO = []\n",
    "    for std_dev in std_devs: # Number of noise levels\n",
    "        PCC_curve = []\n",
    "        Y = utils.generate_MPGN(X, std_dev, gamma, poisson_ratio).reshape(X.shape)\n",
    "        eta = find_cutoff_freq__EO(Y)\n",
    "        tau = convert_to_tau(eta)\n",
    "        taus_EO.append(tau)\n",
    "        #sigma = np.array([tau, tau])\n",
    "        #kernel = [None]*2\n",
    "        #kernel[0] = utils.get_gaussian_kernel(tau)\n",
    "        #kernel[1] = utils.get_gaussian_kernel(tau)\n",
    "        #denoised = denoiser.filter(Y, kernel)\n",
    "        print(\"std_dev =\", std_dev, \"tau =\", tau)\n",
    "        #freq, c_avg = fsc.get_SFRC_curve__even_odd(denoised)\n",
    "        #freq, c_avg = fsc.get_SFRC_curve_EO(denoised)\n",
    "        #freq, c_avg = fsc.get_SFRC_curve_EO(Y)\n",
    "        #freq, c_avg = fsc.get_SFRC_curve_RS(Y, std_dev=3)\n",
    "        #plt.plot(freq, c_avg, label=f\"tau={tau}\")\n",
    "    #plt.legend()\n",
    "    return taus_EO"
   ]
  },
  {
   "cell_type": "code",
   "execution_count": null,
   "metadata": {},
   "outputs": [],
   "source": [
    "N = 2"
   ]
  },
  {
   "cell_type": "code",
   "execution_count": null,
   "metadata": {},
   "outputs": [],
   "source": [
    "taus_EO = []\n",
    "for i in range(N):\n",
    "    taus_EO.append(find_taus_EO())"
   ]
  },
  {
   "cell_type": "code",
   "execution_count": null,
   "metadata": {},
   "outputs": [],
   "source": [
    "def average_lists(lists):\n",
    "    \"\"\"\n",
    "    Computes a list where each element is the average of corresponding elements\n",
    "    from a list of lists.\n",
    "\n",
    "    Args:\n",
    "        lists: A list of lists, where each inner list has the same length.\n",
    "\n",
    "    Returns:\n",
    "        A list containing the averages, or an empty list if the input is invalid.\n",
    "    \"\"\"\n",
    "\n",
    "    if not lists:\n",
    "        return []  # Return empty if the input list is empty\n",
    "\n",
    "    num_lists = len(lists)\n",
    "    if num_lists == 0:\n",
    "      return []\n",
    "\n",
    "    if not all(isinstance(lst, list) for lst in lists):\n",
    "      return [] #return empty if not all the elements of the main list are lists\n",
    "\n",
    "    if not all(len(lst) == len(lists[0]) for lst in lists):\n",
    "        return []  # Return empty if inner lists have different lengths\n",
    "\n",
    "    num_elements = len(lists[0])\n",
    "    avg_list = []\n",
    "\n",
    "    for j in range(num_elements):\n",
    "        total = 0\n",
    "        for i in range(num_lists):\n",
    "            total += lists[i][j]\n",
    "        avg_list.append(total / num_lists)\n",
    "\n",
    "    return avg_list"
   ]
  },
  {
   "cell_type": "code",
   "execution_count": null,
   "metadata": {},
   "outputs": [],
   "source": [
    "avg_taus_EO = average_lists(taus_EO)"
   ]
  },
  {
   "cell_type": "code",
   "execution_count": null,
   "metadata": {},
   "outputs": [],
   "source": [
    "def find_taus_RS():\n",
    "    std_devs = [i for i in range(0, 200, 40)]\n",
    "    PCC_curves = []\n",
    "    poisson_ratio = 0.5\n",
    "    gamma = 0.15\n",
    "    std_dev_RS = 3\n",
    "    taus_RS = []\n",
    "    for std_dev in std_devs: # Number of noise levels\n",
    "        PCC_curve = []\n",
    "        Y = utils.generate_MPGN(X, std_dev, gamma, poisson_ratio).reshape(X.shape)\n",
    "        eta = find_cutoff_freq__RS(Y, std_dev=std_dev_RS)\n",
    "        tau = convert_to_tau(eta)\n",
    "        taus_RS.append(tau)\n",
    "        #sigma = np.array([tau, tau])\n",
    "        #kernel = [None]*2\n",
    "        #kernel[0] = utils.get_gaussian_kernel(tau)\n",
    "        #kernel[1] = utils.get_gaussian_kernel(tau)\n",
    "        #denoised = denoiser.filter(Y, kernel)\n",
    "        print(\"std_dev =\", std_dev, \"tau =\", tau)\n",
    "        #freq, c_avg = fsc.get_SFRC_curve__random_shuffling(denoised, std_dev=std_dev_RS)\n",
    "        #freq, c_avg = fsc.get_SFRC_curve_EO(denoised)\n",
    "        #freq, c_avg = fsc.get_SFRC_curve_EO(Y)\n",
    "        #freq, c_avg = fsc.get_SFRC_curve_RS(Y, std_dev=3)\n",
    "        #plt.plot(freq, c_avg, label=f\"tau={tau}\")\n",
    "    #plt.legend()\n",
    "    return taus_RS"
   ]
  },
  {
   "cell_type": "code",
   "execution_count": null,
   "metadata": {},
   "outputs": [],
   "source": [
    "taus_RS = []\n",
    "for i in range(N):\n",
    "    taus_RS.append(find_taus_RS())"
   ]
  },
  {
   "cell_type": "code",
   "execution_count": null,
   "metadata": {},
   "outputs": [],
   "source": [
    "avg_taus_RS = average_lists(taus_RS)"
   ]
  },
  {
   "cell_type": "code",
   "execution_count": null,
   "metadata": {},
   "outputs": [],
   "source": [
    "optimal_taus = np.load(\"lake_GF_optimal_taus.npy\")\n",
    "optimal_taus = optimal_taus.tolist()"
   ]
  },
  {
   "cell_type": "code",
   "execution_count": null,
   "metadata": {},
   "outputs": [],
   "source": [
    "x_labels = [r\"$\\sigma=0$\", r\"$\\sigma=20$\", r\"$\\sigma=40$\", r\"$\\sigma=60$\", r\"$\\sigma=80$\"]\n",
    "plt.plot(x_labels, avg_taus_EO, label=\"EO\")\n",
    "plt.plot(x_labels, avg_taus_RS, label=\"RS\")\n",
    "plt.plot(optimal_taus, label=\"optimal\")\n",
    "plt.xlabel(r\"MPG noise level ($\\sigma, \\gamma=0.15$)\")\n",
    "plt.ylabel(r\"$\\tau$\")\n",
    "plt.legend()\n",
    "plt.savefig(\"lake_GF_estimation.pdf\", bbox_inches='tight')"
   ]
  },
  {
   "cell_type": "code",
   "execution_count": null,
   "metadata": {},
   "outputs": [],
   "source": [
    "1/np.sqrt(2)"
   ]
  },
  {
   "cell_type": "code",
   "execution_count": null,
   "metadata": {},
   "outputs": [],
   "source": []
  },
  {
   "cell_type": "code",
   "execution_count": null,
   "metadata": {},
   "outputs": [],
   "source": []
  },
  {
   "cell_type": "code",
   "execution_count": null,
   "metadata": {},
   "outputs": [],
   "source": []
  }
 ],
 "metadata": {
  "colab": {
   "collapsed_sections": [],
   "name": "gaussian_denoising.ipynb",
   "provenance": []
  },
  "kernelspec": {
   "display_name": "Python 3 (ipykernel)",
   "language": "python",
   "name": "python3"
  },
  "language_info": {
   "codemirror_mode": {
    "name": "ipython",
    "version": 3
   },
   "file_extension": ".py",
   "mimetype": "text/x-python",
   "name": "python",
   "nbconvert_exporter": "python",
   "pygments_lexer": "ipython3",
   "version": "3.12.2"
  }
 },
 "nbformat": 4,
 "nbformat_minor": 4
}
