{
 "cells": [
  {
   "cell_type": "markdown",
   "metadata": {
    "editable": true,
    "id": "QqfKxC0KuCzK",
    "slideshow": {
     "slide_type": ""
    },
    "tags": []
   },
   "source": [
    "# Pure noise SFRC"
   ]
  },
  {
   "cell_type": "code",
   "execution_count": null,
   "metadata": {
    "id": "IIUxh4uStrQJ"
   },
   "outputs": [],
   "source": [
    "import time\n",
    "from collections import namedtuple\n",
    "\n",
    "try:\n",
    "    import numpy as np\n",
    "except:\n",
    "    !pip install numpy\n",
    "    import numpy as np\n",
    "\n",
    "import scipy.ndimage\n",
    "\n",
    "try:\n",
    "    import matplotlib\n",
    "    import matplotlib.pyplot as plt\n",
    "    import matplotlib.ticker as mticker\n",
    "except:\n",
    "    !pip install matplotlib\n",
    "    import matplotlib\n",
    "    import matplotlib.pyplot as plt\n",
    "    import matplotlib.ticker as mticker\n",
    "\n",
    "try:\n",
    "    from skimage import io as skimage_io\n",
    "except:\n",
    "    !pip install scikit-image\n",
    "    from skimage import io as skimage_io\n",
    "\n",
    "try:\n",
    "    import information_theory as IT\n",
    "except:\n",
    "    !pip install \"information_theory @ git+https://github.com/vicente-gonzalez-ruiz/information_theory\"\n",
    "    import information_theory as IT\n",
    "\n",
    "import utils        #freq, c_avg = fsc.get_SFRC_curve(denoised)\n",
    "        #first_half = c_avg[:len(c_avg)>>1]\n",
    "        #SFRC_curve.append(first_half)\n",
    "        #plt.imshow(denoised, cmap=\"gray\")\n",
    "        #plt.show()\n",
    "        #input()"
   ]
  },
  {
   "cell_type": "code",
   "execution_count": null,
   "metadata": {},
   "outputs": [],
   "source": [
    "# apt install cm-super-minimal\n",
    "# apt install dvipng\n",
    "plt.rcParams.update({\n",
    "    \"text.usetex\": True,\n",
    "    #\"font.family\": \"Helvetica\",\n",
    "    \"font.family\": \"Serif\",\n",
    "    \"text.latex.preamble\": r\"\\usepackage{amsmath} \\usepackage{amsfonts}\"\n",
    "})"
   ]
  },
  {
   "cell_type": "code",
   "execution_count": null,
   "metadata": {},
   "outputs": [],
   "source": [
    "import logging\n",
    "logging.basicConfig(format=\"[%(filename)s:%(lineno)s %(funcName)s()] %(message)s\")\n",
    "logger = logging.getLogger(__name__)\n",
    "logger.setLevel(logging.WARNING)"
   ]
  },
  {
   "cell_type": "code",
   "execution_count": null,
   "metadata": {},
   "outputs": [],
   "source": [
    "try:\n",
    "    from self_fourier_shell_correlation import fsc_utils as fsc\n",
    "except:\n",
    "    !pip install \"self_fourier_shell_correlation @ git+https://github.com/vicente-gonzalez-ruiz/self_fourier_shell_correlation\"\n",
    "    from self_fourier_shell_correlation import fsc_utils as fsc"
   ]
  },
  {
   "cell_type": "code",
   "execution_count": null,
   "metadata": {},
   "outputs": [],
   "source": [
    "def generate_gaussian_noise_array(rows=512, cols=512, mean=128.0, stddev=5.0):\n",
    "    \"\"\"\n",
    "    Generates a 2D NumPy array with Gaussian random noise.\n",
    "\n",
    "    Args:\n",
    "        rows: Number of rows in the array.\n",
    "        cols: Number of columns in the array.\n",
    "        mean: Mean (average) of the Gaussian distribution (default: 0.0).\n",
    "        stddev: Standard deviation of the Gaussian distribution (default: 1.0).\n",
    "\n",
    "    Returns:\n",
    "        A 2D NumPy array with Gaussian random noise.\n",
    "    \"\"\"\n",
    "    noise = np.random.normal(loc=mean, scale=stddev, size=(rows, cols))\n",
    "    print(np.min(noise), np.max(noise))\n",
    "    return noise"
   ]
  },
  {
   "cell_type": "code",
   "execution_count": null,
   "metadata": {},
   "outputs": [],
   "source": [
    "Y = generate_gaussian_noise_array()\n",
    "utils.imshow(Y)"
   ]
  },
  {
   "cell_type": "code",
   "execution_count": null,
   "metadata": {},
   "outputs": [],
   "source": [
    "freq_1, c_avg_Y_1 = fsc.get_SFRC_curve__even_odd(Y)\n",
    "freq_2, c_avg_Y_2 = fsc.get_SFRC_curve__random_shuffling(Y, std_dev=5)"
   ]
  },
  {
   "cell_type": "code",
   "execution_count": null,
   "metadata": {},
   "outputs": [],
   "source": [
    "from scipy.ndimage import gaussian_filter1d\n",
    "\n",
    "plt.plot(freq_1, c_avg_Y_1, label=\"OE\")\n",
    "filtered_c_avg_Y_1 = gaussian_filter1d(c_avg_Y_1, sigma=5)\n",
    "plt.plot(freq_1, filtered_c_avg_Y_1)\n",
    "\n",
    "plt.plot(freq_2, c_avg_Y_2, label=\"RS\")\n",
    "filtered_c_avg_Y_2 = gaussian_filter1d(c_avg_Y_2, sigma=5)\n",
    "plt.plot(freq_2, filtered_c_avg_Y_2)\n",
    "\n",
    "plt.legend()"
   ]
  },
  {
   "cell_type": "code",
   "execution_count": null,
   "metadata": {},
   "outputs": [],
   "source": [
    "poisson_ratio = 0.5\n",
    "gamma = 0.15\n",
    "std_dev = 160\n",
    "Y = utils.generate_MPGN(Y, std_dev, gamma, poisson_ratio).reshape(Y.shape)\n",
    "utils.imshow(Y)"
   ]
  },
  {
   "cell_type": "code",
   "execution_count": null,
   "metadata": {},
   "outputs": [],
   "source": [
    "freq_1, c_avg_Y_1 = fsc.get_SFRC_curve__even_odd(Y)\n",
    "freq_2, c_avg_Y_2 = fsc.get_SFRC_curve__random_shuffling(Y, std_dev=5)"
   ]
  },
  {
   "cell_type": "code",
   "execution_count": null,
   "metadata": {},
   "outputs": [],
   "source": [
    "from scipy.ndimage import gaussian_filter1d\n",
    "\n",
    "plt.plot(freq_1, c_avg_Y_1, label=\"OE\")\n",
    "filtered_c_avg_Y_1 = gaussian_filter1d(c_avg_Y_1, sigma=5)\n",
    "plt.plot(freq_1, filtered_c_avg_Y_1)\n",
    "\n",
    "plt.plot(freq_2, c_avg_Y_2, label=\"RS\")\n",
    "filtered_c_avg_Y_2 = gaussian_filter1d(c_avg_Y_2, sigma=5)\n",
    "plt.plot(freq_2, filtered_c_avg_Y_2)\n",
    "\n",
    "plt.legend()"
   ]
  }
 ],
 "metadata": {
  "colab": {
   "collapsed_sections": [],
   "name": "gaussian_denoising.ipynb",
   "provenance": []
  },
  "kernelspec": {
   "display_name": "Python 3 (ipykernel)",
   "language": "python",
   "name": "python3"
  },
  "language_info": {
   "codemirror_mode": {
    "name": "ipython",
    "version": 3
   },
   "file_extension": ".py",
   "mimetype": "text/x-python",
   "name": "python",
   "nbconvert_exporter": "python",
   "pygments_lexer": "ipython3",
   "version": "3.12.2"
  }
 },
 "nbformat": 4,
 "nbformat_minor": 4
}
