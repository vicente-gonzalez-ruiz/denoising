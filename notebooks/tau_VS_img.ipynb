{
 "cells": [
  {
   "cell_type": "markdown",
   "metadata": {
    "editable": true,
    "id": "QqfKxC0KuCzK",
    "slideshow": {
     "slide_type": ""
    },
    "tags": []
   },
   "source": [
    "# Optimal tau as a function of the image and noise level"
   ]
  },
  {
   "cell_type": "code",
   "execution_count": null,
   "metadata": {},
   "outputs": [],
   "source": [
    "local_debug = True"
   ]
  },
  {
   "cell_type": "code",
   "execution_count": null,
   "metadata": {
    "id": "IIUxh4uStrQJ"
   },
   "outputs": [],
   "source": [
    "import time\n",
    "from collections import namedtuple\n",
    "\n",
    "try:\n",
    "    import numpy as np\n",
    "except:\n",
    "    !pip install numpy\n",
    "    import numpy as np\n",
    "\n",
    "import scipy.ndimage\n",
    "\n",
    "try:\n",
    "    import matplotlib\n",
    "    import matplotlib.pyplot as plt\n",
    "    import matplotlib.ticker as mticker\n",
    "except:\n",
    "    !pip install matplotlib\n",
    "    import matplotlib\n",
    "    import matplotlib.pyplot as plt\n",
    "    import matplotlib.ticker as mticker\n",
    "\n",
    "#from ipywidgets import *\n",
    "try:\n",
    "    import cv2\n",
    "except:\n",
    "    !pip install cv2\n",
    "    import cv2\n",
    "    \n",
    "#import kernels\n",
    "try:\n",
    "    from skimage import io as skimage_io\n",
    "except:\n",
    "    !pip install scikit-image\n",
    "    from skimage import io as skimage_io\n",
    "\n",
    "try:\n",
    "    import information_theory as IT\n",
    "except:\n",
    "    !pip install \"information_theory @ git+https://github.com/vicente-gonzalez-ruiz/information_theory\"\n",
    "    import information_theory as IT\n",
    "\n",
    "import utils"
   ]
  },
  {
   "cell_type": "code",
   "execution_count": null,
   "metadata": {},
   "outputs": [],
   "source": [
    "# apt install cm-super-minimal\n",
    "# apt install dvipng\n",
    "plt.rcParams.update({\n",
    "    \"text.usetex\": True,\n",
    "    #\"font.family\": \"Helvetica\",\n",
    "    \"font.family\": \"Serif\",\n",
    "    \"text.latex.preamble\": r\"\\usepackage{amsmath} \\usepackage{amsfonts}\"\n",
    "})\n",
    "#rc('text', usetex=True)\n",
    "#rc('font', family='serif')\n",
    "#plt.rc('text.latex', preamble=r'\\usepackage{amsmath} `...')\n",
    "#mpl.rcParams['text.latex.preamble'] = r'\\usepackage{amsmath} \\usepackage{amsfonts}'"
   ]
  },
  {
   "cell_type": "code",
   "execution_count": null,
   "metadata": {},
   "outputs": [],
   "source": [
    "import logging\n",
    "logging.basicConfig(format=\"[%(filename)s:%(lineno)s %(funcName)s()] %(message)s\")\n",
    "logger = logging.getLogger(__name__)\n",
    "logger.setLevel(logging.WARNING)"
   ]
  },
  {
   "cell_type": "code",
   "execution_count": null,
   "metadata": {},
   "outputs": [],
   "source": [
    "try:\n",
    "    import denoising.image.gaussian as denoising\n",
    "except:\n",
    "    !pip install \"denoising @ git+https://github.com/vicente-gonzalez-ruiz/denoising\"\n",
    "    import denoising.image.gaussian as denoising"
   ]
  },
  {
   "cell_type": "markdown",
   "metadata": {},
   "source": [
    "### barb"
   ]
  },
  {
   "cell_type": "code",
   "execution_count": null,
   "metadata": {},
   "outputs": [],
   "source": [
    "Args = namedtuple(\"args\", [\"input1\", \"input2\"])\n",
    "args = Args(\"http://www.hpca.ual.es/~vruiz/images/barb.png\", \"http://www.hpca.ual.es/~vruiz/images/lake.png\")\n",
    "#args = Args(\"http://www.hpca.ual.es/~vruiz/images/zelda.png\")\n",
    "#args = Args(\"http://www.hpca.ual.es/~vruiz/images/boats.png\")\n",
    "#args = Args(\"http://www.hpca.ual.es/~vruiz/images/lake.png\")"
   ]
  },
  {
   "cell_type": "code",
   "execution_count": null,
   "metadata": {},
   "outputs": [],
   "source": [
    "image = skimage_io.imread(args.input1)  # Ground Truth\n",
    "X1 = image\n",
    "X1.shape"
   ]
  },
  {
   "cell_type": "code",
   "execution_count": null,
   "metadata": {},
   "outputs": [],
   "source": [
    "plt.title(r\"$\\mathbf{X}_1=\\mathrm{Barb}$\")\n",
    "utils.imshow(X1)\n",
    "plt.savefig('barb.pdf', bbox_inches='tight')"
   ]
  },
  {
   "cell_type": "markdown",
   "metadata": {},
   "source": [
    "### lake"
   ]
  },
  {
   "cell_type": "code",
   "execution_count": null,
   "metadata": {},
   "outputs": [],
   "source": [
    "image = skimage_io.imread(args.input2)  # Ground Truth\n",
    "X2 = image\n",
    "X2.shape"
   ]
  },
  {
   "cell_type": "code",
   "execution_count": null,
   "metadata": {},
   "outputs": [],
   "source": [
    "plt.title(r\"$\\mathbf{X}_2=\\mathrm{Lake}$\")\n",
    "utils.imshow(X2)\n",
    "plt.savefig('lake.pdf', bbox_inches='tight')"
   ]
  },
  {
   "cell_type": "markdown",
   "metadata": {},
   "source": [
    "## Zero-mean additive Gaussian noise (0MAGN)\n",
    "\\begin{equation}\n",
    "  Y = X + N,~N\\sim{\\mathcal N}(\\mu=0, \\sigma).\n",
    "\\end{equation}"
   ]
  },
  {
   "cell_type": "markdown",
   "metadata": {},
   "source": [
    "#### 0MAGN_barb"
   ]
  },
  {
   "cell_type": "code",
   "execution_count": null,
   "metadata": {},
   "outputs": [],
   "source": [
    "STD_DEV = 40 # Gaussian noise level\n",
    "#string = r\"$\\mathrm{Barb} + \\mathbf{N}, \\mathbf{N}\\sim \\mathcal{N}\" + rf\"(\\mu=0, \\sigma={std_dev})$\"\n",
    "string  = r\"$\\hat{\\mathbf{X}}_1=\"\n",
    "string += r\"[\\mathbf{X}_1 + \\mathbf{N}_{\\mathcal{N}(\\sigma=\"\n",
    "string += str(STD_DEV)\n",
    "string += r\")}\"\n",
    "Y1 = utils.add_0MWGN(X1, STD_DEV)\n",
    "PSNR1 = IT.distortion.PSNR(Y1, X1)\n",
    "string += rf\"], {PSNR1:.2f}\"\n",
    "string += r\"~\\mathrm{dB}\"\n",
    "string += r\"$\"\n",
    "plt.title(string)\n",
    "#Y = X + np.random.normal(loc=0, scale=STD_DEV, size=X.shape).reshape(X.shape)\n",
    "#Y = np.clip(a = Y, a_min=0, a_max=255)\n",
    "#plt.imshow(np.clip(a = Y, a_min=0, a_max=255), cmap=\"gray\")\n",
    "utils.imshow(Y1)\n",
    "plt.savefig('0MAGN_barb.pdf', bbox_inches='tight')"
   ]
  },
  {
   "cell_type": "markdown",
   "metadata": {},
   "source": [
    "#### 0MAGN_lake"
   ]
  },
  {
   "cell_type": "code",
   "execution_count": null,
   "metadata": {},
   "outputs": [],
   "source": [
    "STD_DEV = 40 # Gaussian noise level\n",
    "#string = r\"$\\mathrm{Barb} + \\mathbf{N}, \\mathbf{N}\\sim \\mathcal{N}\" + rf\"(\\mu=0, \\sigma={std_dev})$\"\n",
    "string  = r\"$\\hat{\\mathbf{X}}_2=\"\n",
    "string += r\"[\\mathbf{X}_2 + \\mathbf{N}_{\\mathcal{N}(\\sigma=\"\n",
    "string += str(STD_DEV)\n",
    "string += r\")}\"\n",
    "Y2 = utils.add_0MWGN(X2, STD_DEV)\n",
    "PSNR2 = IT.distortion.PSNR(Y2, X2)\n",
    "string += rf\"], {PSNR2:.2f}\"\n",
    "string += r\"~\\mathrm{dB}\"\n",
    "string += r\"$\"\n",
    "plt.title(string)\n",
    "#Y2 = utils.add_0MWGN(X2, STD_DEV)\n",
    "#Y = X + np.random.normal(loc=0, scale=STD_DEV, size=X.shape).reshape(X.shape)\n",
    "#Y = np.clip(a = Y, a_min=0, a_max=255)\n",
    "#plt.imshow(np.clip(a = Y, a_min=0, a_max=255), cmap=\"gray\")\n",
    "utils.imshow(Y2)\n",
    "plt.savefig('0MAGN_lake.pdf', bbox_inches='tight')"
   ]
  },
  {
   "cell_type": "markdown",
   "metadata": {},
   "source": [
    "#### GD_0MAGN_barb"
   ]
  },
  {
   "cell_type": "code",
   "execution_count": null,
   "metadata": {},
   "outputs": [],
   "source": [
    "denoiser = denoising.Monochrome_Denoising(logger)"
   ]
  },
  {
   "cell_type": "markdown",
   "metadata": {
    "id": "xI1pWnvWxjoj"
   },
   "source": [
    "def get_gaussian_kernel(sigma=1):\n",
    "    number_of_coeffs = 3\n",
    "    number_of_zeros = 0\n",
    "    while number_of_zeros < 2 :\n",
    "        delta = np.zeros(number_of_coeffs)\n",
    "        delta[delta.size//2] = 1\n",
    "        coeffs = scipy.ndimage.gaussian_filter1d(delta, sigma=sigma)\n",
    "        number_of_zeros = coeffs.size - np.count_nonzero(coeffs)\n",
    "        number_of_coeffs += 1\n",
    "    return coeffs[1:-1]"
   ]
  },
  {
   "cell_type": "code",
   "execution_count": null,
   "metadata": {},
   "outputs": [],
   "source": [
    "TAU = 1.5 # Signa kernel"
   ]
  },
  {
   "cell_type": "code",
   "execution_count": null,
   "metadata": {},
   "outputs": [],
   "source": [
    "sigma = np.array([TAU, TAU])\n",
    "kernel = [None]*2\n",
    "kernel[0] = utils.get_gaussian_kernel(sigma[0])\n",
    "kernel[1] = utils.get_gaussian_kernel(sigma[1])\n",
    "print(np.sum(kernel[0]))\n",
    "plt.plot(kernel[0])\n",
    "plt.show()"
   ]
  },
  {
   "cell_type": "code",
   "execution_count": null,
   "metadata": {},
   "outputs": [],
   "source": [
    "denoised1 = denoiser.filter(Y1, kernel)"
   ]
  },
  {
   "cell_type": "code",
   "execution_count": null,
   "metadata": {},
   "outputs": [],
   "source": [
    "PSNR1 = IT.distortion.PSNR(denoised1, X1)"
   ]
  },
  {
   "cell_type": "code",
   "execution_count": null,
   "metadata": {},
   "outputs": [],
   "source": [
    "#plt.title(r\"$\\mathrm{GD}_{\\text{\" + str(sigma_kernel) + r\"}}(\\mathrm{Barb} + \\mathbf{N}_{\\mathcal{N}}), \\mathbf{N}\\sim \\mathcal{N}_{}\" + rf\"(\\mu=0, \\sigma={std_dev}),\" + r\"\\mathrm{PSNR}=\" + f\"{PSNR:.2f}\" + r\"~\\mathrm{dB}$\")\n",
    "string  = r\"$\"\n",
    "string += r\"\\mathrm{GD}\"\n",
    "string += r\"_\\text{\"\n",
    "string += str(TAU)\n",
    "string += r\"}\"\n",
    "string += r\"(\\hat{\\mathbf{X}}_1)\"\n",
    "string += rf\", {PSNR1:.2f}\"\n",
    "string += r\"~\\mathrm{dB}\"\n",
    "string += r\"$\"\n",
    "plt.title(string)\n",
    "#plt.imshow(denoised, cmap=\"gray\")\n",
    "utils.imshow(denoised1)\n",
    "plt.savefig('GD_0MAGN_barb.pdf', bbox_inches='tight')"
   ]
  },
  {
   "cell_type": "markdown",
   "metadata": {},
   "source": [
    "#### GD_0MAGN_lake"
   ]
  },
  {
   "cell_type": "code",
   "execution_count": null,
   "metadata": {},
   "outputs": [],
   "source": [
    "denoised2 = denoiser.filter(Y2, kernel)"
   ]
  },
  {
   "cell_type": "code",
   "execution_count": null,
   "metadata": {},
   "outputs": [],
   "source": [
    "PSNR2 = IT.distortion.PSNR(denoised2, X2)"
   ]
  },
  {
   "cell_type": "code",
   "execution_count": null,
   "metadata": {},
   "outputs": [],
   "source": [
    "string  = r\"$\"\n",
    "string += r\"\\mathrm{GD}\"\n",
    "string += r\"_\\text{\"\n",
    "string += str(TAU)\n",
    "string += r\"}\"\n",
    "string += r\"(\\hat{\\mathbf{X}}_2)\"\n",
    "string += rf\", {PSNR1:.2f}\"\n",
    "string += r\"~\\mathrm{dB}\"\n",
    "string += r\"$\"\n",
    "plt.title(string)\n",
    "#plt.imshow(denoised, cmap=\"gray\")\n",
    "utils.imshow(denoised2)\n",
    "plt.savefig('GD_0MAGN_lake.pdf', bbox_inches='tight')"
   ]
  },
  {
   "cell_type": "markdown",
   "metadata": {},
   "source": [
    "#### GD_PCC_0MAGN_barb and GD_PCC_0MAGN_lake\n",
    "Shows the impact of the length of the filter (sigma_kernel) for different noise levels (std_dev)."
   ]
  },
  {
   "cell_type": "code",
   "execution_count": null,
   "metadata": {
    "scrolled": true
   },
   "outputs": [],
   "source": [
    "sigmas_kernel = [0.25, 0.35, 0.5, 0.65, 0.75, 0.9, 1.0, 1.5]\n",
    "sigmas_kernel = [0.5 + i/5 for i in range(30)]\n",
    "std_devs = [i for i in range(0, 120, 20)]\n",
    "PCC_curves1 = []\n",
    "PCC_curves2 = []\n",
    "#sigma_index = 1\n",
    "#for std_dev in range(10, 50, int((50-10)/len(sigmas_kernel))):\n",
    "for std_dev in std_devs:\n",
    "    Y1 = utils.add_0MWGN(X1, std_dev)\n",
    "    Y2 = utils.add_0MWGN(X2, std_dev)\n",
    "    #Y = X + np.random.normal(loc=0, scale=std_dev, size=X.shape).reshape(X.shape)\n",
    "    #Y = np.clip(a = Y, a_min=0, a_max=255)\n",
    "    PCC_curve1 = []\n",
    "    PCC_curve2 = []\n",
    "    for sigma_kernel in sigmas_kernel: #range(5, 20, 1):\n",
    "        #sigma_kernel /= 10\n",
    "        sigma = np.array([sigma_kernel, sigma_kernel])\n",
    "        kernel = [None]*2\n",
    "        kernel[0] = utils.get_gaussian_kernel(sigma[0])\n",
    "        kernel[1] = utils.get_gaussian_kernel(sigma[1])\n",
    "        denoised1 = denoiser.filter(Y1, kernel)\n",
    "        denoised2 = denoiser.filter(Y2, kernel)\n",
    "        #PSNR = IT.distortion.PSNR(denoised, X)\n",
    "        PCC1 = np.corrcoef(denoised1.flatten(), X1.flatten())[0, 1]\n",
    "        PCC2 = np.corrcoef(denoised2.flatten(), X2.flatten())[0, 1]\n",
    "        print(std_dev, sigma_kernel, PCC1, PCC2)\n",
    "        PCC_curve1.append(PCC1)\n",
    "        PCC_curve2.append(PCC2)\n",
    "        #plt.imshow(denoised, cmap=\"gray\")\n",
    "        #plt.show()\n",
    "        #input()\n",
    "\n",
    "    PCC_curves1.append(PCC_curve1)\n",
    "    PCC_curves2.append(PCC_curve2)\n",
    "    #sigma_index += 1\n",
    "    print()"
   ]
  },
  {
   "cell_type": "code",
   "execution_count": null,
   "metadata": {},
   "outputs": [],
   "source": [
    "#plt.title(r'$\\mathbf{X}=\\mathrm{Barb}$')\n",
    "#plt.title(r\"$\\mathbb{E}_{\\text{\" + str(iters) + r\"}}(\\mathbf{N}\" + rf\"/{_lambda}\" + r\"), \\mathbf{N}\\sim\\mathrm{Poisson}\" + rf\"(\\lambda={_lambda}\" + r\"\\mathrm{Barb})$\")\n",
    "#plt.title(\"Averaging Poisson noisy instances of \\\"Barb\\\"\")\n",
    "for i in range(len(PCC_curves1)):\n",
    "    #plt.plot([j/10 for j in range(5, 20, 1)], curves[i], label=rf\"$\\sigma={10+i*5}$\")\n",
    "    plt.plot(sigmas_kernel,\n",
    "             PCC_curves1[i],\n",
    "             label=rf\"$\\sigma={std_devs[i]}$\"\n",
    "             + r\"$, \\tau^*=\"\n",
    "             + rf\"{sigmas_kernel[np.argmax(PCC_curves1[i])]}$\")\n",
    "#plt.ylabel(r\"$\\mathrm{PCC}(\\mathbf{X}, \\hat{\\mathbf{X}})$\")\n",
    "plt.ylabel(r\"$\\mathrm{PCC}(\\mathbf{X}_1, \\mathrm{GD}_\\tau(\\mathbf{X}_1+\\mathbf{N}_{\\mathcal{N}(\\sigma)}))$\")\n",
    "#plt.xlabel(r\"$\\tau~(\\text{Standard deviation of the Gaussian kernel})$\")\n",
    "plt.xlabel(r\"$\\tau$\")\n",
    "plt.legend()\n",
    "#plt.show()\n",
    "plt.savefig(\"GD_PCC_0MMPG_barb.pdf\", bbox_inches='tight')"
   ]
  },
  {
   "cell_type": "code",
   "execution_count": null,
   "metadata": {},
   "outputs": [],
   "source": [
    "#plt.title(r'$\\mathbf{X}=\\mathrm{Lake}$')\n",
    "#plt.title(r\"$\\mathbb{E}_{\\text{\" + str(iters) + r\"}}(\\mathbf{N}\" + rf\"/{_lambda}\" + r\"), \\mathbf{N}\\sim\\mathrm{Poisson}\" + rf\"(\\lambda={_lambda}\" + r\"\\mathrm{Barb})$\")\n",
    "#plt.title(\"Averaging Poisson noisy instances of \\\"Barb\\\"\")\n",
    "for i in range(len(PCC_curves2)):\n",
    "    #plt.plot([j/10 for j in range(5, 20, 1)], curves[i], label=rf\"$\\sigma={10+i*5}$\")\n",
    "    plt.plot(sigmas_kernel,\n",
    "             PCC_curves2[i],\n",
    "             label=rf\"$\\sigma={std_devs[i]}$\"\n",
    "             + r\"$, \\tau^*=\"\n",
    "             + rf\"{sigmas_kernel[np.argmax(PCC_curves2[i])]}$\")\n",
    "#plt.ylabel(r\"$\\mathrm{PCC}(\\mathbf{X}, \\hat{\\mathbf{X}})$\")\n",
    "plt.ylabel(r\"$\\mathrm{PCC}(\\mathbf{X}_2, \\mathrm{GD}_\\tau(\\mathbf{X}_2+\\mathbf{N}_{\\mathcal{N}(\\sigma)}))$\")\n",
    "#plt.xlabel(r\"$\\tau~(\\text{Standard deviation of the Gaussian kernel})$\")\n",
    "plt.xlabel(r\"$\\tau$\")\n",
    "plt.legend()\n",
    "#plt.show()\n",
    "plt.savefig(\"GD_PCC_0MMPG_lake.pdf\", bbox_inches='tight')"
   ]
  },
  {
   "cell_type": "markdown",
   "metadata": {},
   "source": [
    "## Poisson noise (shot noise)\n",
    "\\begin{equation}\n",
    "  Y=\\frac{N}{\\gamma},~N∼\\mathcal{P}(λ=\\gamma X),\n",
    "\\end{equation}\n",
    "where:\n",
    "* $X\\ge 0$.\n",
    "* $\\lambda\\in{\\mathbb R}\\ge 0$ is the rate of the Poisson distribution, resulting that $\\lambda={\\mathbb E}(N)=\\text{Var}(N)$."
   ]
  },
  {
   "cell_type": "code",
   "execution_count": null,
   "metadata": {},
   "outputs": [],
   "source": [
    "GAMMA = 0.15"
   ]
  },
  {
   "cell_type": "markdown",
   "metadata": {},
   "source": [
    "#### Poisson_barb"
   ]
  },
  {
   "cell_type": "code",
   "execution_count": null,
   "metadata": {},
   "outputs": [],
   "source": [
    "string  = r\"$\\hat{\\mathbf{X}}_1=[\\mathbf{N}\"\n",
    "string += r\"_{\\mathcal{P}(\\lambda=\"\n",
    "string += rf\"{GAMMA}\"\n",
    "string += r\"\\cdot\\mathbf{X}_1)}\"\n",
    "string += rf\"/{GAMMA}]\"\n",
    "Y1 = utils.generate_PN(X1, GAMMA)\n",
    "#Y = np.random.poisson(X * gamma) / gamma\n",
    "#Y = X + np.random.poisson(0.5*X)\n",
    "#from skimage.util import random_noise\n",
    "#Y = random_noise(X, mode=\"poisson\")\n",
    "Y1 = np.clip(a = Y1, a_min=0, a_max=255)\n",
    "PSNR1 = IT.distortion.PSNR(Y1, X1)\n",
    "string += rf\", {PSNR1:.2f}\"\n",
    "string += r\"~\\mathrm{dB}\"\n",
    "string += r\"$\"\n",
    "plt.title(string)\n",
    "#plt.imshow(Y, cmap=\"gray\")\n",
    "utils.imshow(Y1)\n",
    "plt.savefig('Poisson_barb.pdf', bbox_inches='tight')"
   ]
  },
  {
   "cell_type": "markdown",
   "metadata": {},
   "source": [
    "#### Poisson_lake"
   ]
  },
  {
   "cell_type": "code",
   "execution_count": null,
   "metadata": {},
   "outputs": [],
   "source": [
    "string  = r\"$\\hat{\\mathbf{X}}_2=[\\mathbf{N}\"\n",
    "string += r\"_{\\mathcal{P}(\\lambda=\"\n",
    "string += rf\"{GAMMA}\"\n",
    "string += r\"\\cdot\\mathbf{X}_2)}\"\n",
    "string += rf\"/{GAMMA}]\"\n",
    "Y2 = utils.generate_PN(X2, GAMMA)\n",
    "#Y = np.random.poisson(X * gamma) / gamma\n",
    "#Y = X + np.random.poisson(0.5*X)\n",
    "#from skimage.util import random_noise\n",
    "#Y = random_noise(X, mode=\"poisson\")\n",
    "Y2 = np.clip(a = Y2, a_min=0, a_max=255)\n",
    "PSNR2 = IT.distortion.PSNR(Y2, X2)\n",
    "string += rf\", {PSNR2:.2f}\"\n",
    "string += r\"~\\mathrm{dB}\"\n",
    "string += r\"$\"\n",
    "plt.title(string)\n",
    "#plt.imshow(Y, cmap=\"gray\")\n",
    "utils.imshow(Y2)\n",
    "plt.savefig('Poisson_lake.pdf', bbox_inches='tight')"
   ]
  },
  {
   "cell_type": "markdown",
   "metadata": {},
   "source": [
    "#### GD_Poisson_barb"
   ]
  },
  {
   "cell_type": "code",
   "execution_count": null,
   "metadata": {},
   "outputs": [],
   "source": [
    "denoised1 = denoiser.filter(Y1, kernel)"
   ]
  },
  {
   "cell_type": "code",
   "execution_count": null,
   "metadata": {},
   "outputs": [],
   "source": [
    "PSNR1 = IT.distortion.PSNR(denoised1, X1)"
   ]
  },
  {
   "cell_type": "code",
   "execution_count": null,
   "metadata": {},
   "outputs": [],
   "source": [
    "#plt.title(r\"$\\mathrm{GD}_{\\text{\" + str(sigma_kernel) + r\"}}(\\mathbf{N}\" + rf\"/{_lambda}\" + r\"), \\mathbf{N}\\sim\\mathrm{Poisson}\" + rf\"(\\lambda={_lambda}\" + r\"\\cdot\\mathrm{Barb})$\")\n",
    "string  = r\"$\"\n",
    "string += r\"\\mathrm{GD}\"\n",
    "string += r\"_\\text{\"\n",
    "string += str(TAU)\n",
    "string += r\"}\"\n",
    "string += r\"(\\hat{\\mathbf{X}}_1)\"\n",
    "string += rf\", {PSNR1:.2f}\"\n",
    "string += r\"~\\mathrm{dB}\"\n",
    "string += r\"$\"\n",
    "plt.title(string)\n",
    "utils.imshow(denoised1)\n",
    "plt.savefig('GD_Poisson_barb.pdf', bbox_inches='tight')"
   ]
  },
  {
   "cell_type": "markdown",
   "metadata": {},
   "source": [
    "#### GD_Poisson_lake"
   ]
  },
  {
   "cell_type": "code",
   "execution_count": null,
   "metadata": {},
   "outputs": [],
   "source": [
    "denoised2 = denoiser.filter(Y2, kernel)"
   ]
  },
  {
   "cell_type": "code",
   "execution_count": null,
   "metadata": {},
   "outputs": [],
   "source": [
    "PSNR2 = IT.distortion.PSNR(denoised2, X2)"
   ]
  },
  {
   "cell_type": "code",
   "execution_count": null,
   "metadata": {},
   "outputs": [],
   "source": [
    "string  = r\"$\"\n",
    "string += r\"\\mathrm{GD}\"\n",
    "string += r\"_\\text{\"\n",
    "string += str(TAU)\n",
    "string += r\"}\"\n",
    "string += r\"(\\hat{\\mathbf{X}}_2)\"\n",
    "string += rf\", {PSNR2:.2f}\"\n",
    "string += r\"~\\mathrm{dB}\"\n",
    "string += r\"$\"\n",
    "plt.title(string)\n",
    "utils.imshow(denoised2)\n",
    "plt.savefig('GD_Poisson_lake.pdf', bbox_inches='tight')"
   ]
  },
  {
   "cell_type": "markdown",
   "metadata": {},
   "source": [
    "#### GD_PCC_Poisson_barb and GD_PCC_Poisson_lake"
   ]
  },
  {
   "cell_type": "code",
   "execution_count": null,
   "metadata": {},
   "outputs": [],
   "source": [
    "for gamma in range(len(sigmas_kernel)):\n",
    "    print((1+gamma)/40)"
   ]
  },
  {
   "cell_type": "code",
   "execution_count": null,
   "metadata": {},
   "outputs": [],
   "source": [
    "print([(0.25 + i/10) for i in range(20)])"
   ]
  },
  {
   "cell_type": "code",
   "execution_count": null,
   "metadata": {
    "scrolled": true
   },
   "outputs": [],
   "source": [
    "#sigmas_kernel = [0.25, 0.5, 0.75, 1.0, 1.25, 1.5, 1.75, 2.0]\n",
    "sigmas_kernel = [(0.25 + i/10) for i in range(20)]\n",
    "PCC_curves1 = []\n",
    "PCC_curves2 = []\n",
    "#sigma_index = 1\n",
    "#for _lambda in range(10, 0, -int((10)/len(sigmas_kernel))):\n",
    "#for _lambda in range(len(sigmas_kernel)):\n",
    "for gamma in range(8):\n",
    "    #gamma /= 40\n",
    "    gamma = (1+gamma)/10\n",
    "    PCC_curve1 = []\n",
    "    PCC_curve2 = []\n",
    "    for sigma_kernel in sigmas_kernel: #range(5, 20, 1):\n",
    "        #sigma_kernel /= 10\n",
    "        sigma = np.array([sigma_kernel, sigma_kernel])\n",
    "        kernel = [None]*2\n",
    "        kernel[0] = utils.get_gaussian_kernel(sigma[0])\n",
    "        kernel[1] = utils.get_gaussian_kernel(sigma[1])\n",
    "        Y1 = np.random.poisson(X1.astype(np.float32) * gamma) / gamma\n",
    "        Y1 = np.clip(a = Y1, a_min=0, a_max=255)\n",
    "        Y2 = np.random.poisson(X2.astype(np.float32) * gamma) / gamma\n",
    "        Y2 = np.clip(a = Y2, a_min=0, a_max=255)\n",
    "        denoised1 = denoiser.filter(Y1, kernel)\n",
    "        denoised2 = denoiser.filter(Y2, kernel)\n",
    "        #PSNR = IT.distortion.PSNR(denoised, X)\n",
    "        PCC1 = np.corrcoef(denoised1.flatten(), X1.flatten())[0, 1]\n",
    "        PCC2 = np.corrcoef(denoised2.flatten(), X2.flatten())[0, 1]\n",
    "        print(f\"gamma={gamma}\", f\"sigma_kernel={sigma_kernel}\", f\"PCC1={PCC1}\", f\"PCC2={PCC2}\")\n",
    "        PCC_curve1.append(PCC1)\n",
    "        PCC_curve2.append(PCC2)\n",
    "        #plt.imshow(denoised, cmap=\"gray\")\n",
    "        #plt.show()\n",
    "        #input()\n",
    "\n",
    "    PCC_curves1.append(PCC_curve1)\n",
    "    PCC_curves2.append(PCC_curve2)\n",
    "    #sigma_index += 1\n",
    "    print()"
   ]
  },
  {
   "cell_type": "code",
   "execution_count": null,
   "metadata": {},
   "outputs": [],
   "source": [
    "len(sigmas_kernel)"
   ]
  },
  {
   "cell_type": "code",
   "execution_count": null,
   "metadata": {},
   "outputs": [],
   "source": [
    "#plt.title(r\"$\\mathbf{X}=\\mathrm{Barb}$\")\n",
    "for i in range(len(PCC_curves1)):\n",
    "    plt.plot(sigmas_kernel,\n",
    "             PCC_curves1[i],\n",
    "             label=rf\"$\\gamma={(1+i)/40}$\"\n",
    "             + r\"$, \\tau^*=\"\n",
    "             + rf\"{sigmas_kernel[np.argmax(PCC_curves1[i])]}$\")\n",
    "    #plt.plot([i/10 for i in range(5, 20, 1)], curves[i], label=rf\"$\\lambda={(10-i)/40}\\cdot\" + r\"\\mathrm{Barb}$\")\n",
    "string  = r\"$\"\n",
    "string += r\"\\mathrm{PCC}\"\n",
    "string += r\"(\\mathbf{X}_1, \"\n",
    "string += r\"\\mathrm{GD}_\\tau(\\mathbf{N}_\"\n",
    "string += r\"{\\mathcal{P}(\\gamma\\mathbf{X}_1)}/\\gamma))$\"\n",
    "plt.ylabel(string)\n",
    "plt.xlabel(r\"$\\tau$\")\n",
    "plt.legend()\n",
    "#plt.show()\n",
    "plt.savefig(\"GD_PCC_Poisson_barb.pdf\", bbox_inches='tight')"
   ]
  },
  {
   "cell_type": "code",
   "execution_count": null,
   "metadata": {},
   "outputs": [],
   "source": [
    "#plt.title(r\"$\\mathbf{X}=\\mathrm{Barb}$\")\n",
    "for i in range(len(PCC_curves1)):\n",
    "    plt.plot(sigmas_kernel,\n",
    "             PCC_curves2[i],\n",
    "             label=rf\"$\\gamma={(1+i)/40}$\"\n",
    "             + r\"$, \\tau^*=\"\n",
    "             + rf\"{sigmas_kernel[np.argmax(PCC_curves2[i])]}$\")\n",
    "    #plt.plot([i/10 for i in range(5, 20, 1)], curves[i], label=rf\"$\\lambda={(10-i)/40}\\cdot\" + r\"\\mathrm{Barb}$\")\n",
    "string  = r\"$\"\n",
    "string += r\"\\mathrm{PCC}\"\n",
    "string += r\"(\\mathbf{X}_2, \"\n",
    "string += r\"\\mathrm{GD}_\\tau(\\mathbf{N}_\"\n",
    "string += r\"{\\mathcal{P}(\\gamma\\mathbf{X}_2)}/\\gamma))$\"\n",
    "plt.ylabel(string)\n",
    "plt.xlabel(r\"$\\tau$\")\n",
    "plt.legend()\n",
    "#plt.show()\n",
    "plt.savefig(\"GD_PCC_Poisson_lake.pdf\", bbox_inches='tight')"
   ]
  },
  {
   "cell_type": "markdown",
   "metadata": {},
   "source": [
    "## Zero-mean Mixed Poisson-Gaussian (0MMPG) noise\n",
    "\\begin{equation}\n",
    "  Y = N_{\\mathcal{P}(\\gamma X)}/\\gamma + N_{\\mathcal{N(\\sigma)}}\n",
    "\\end{equation}\n",
    "where\n",
    "\\begin{equation}\n",
    "N_{\\mathcal{P}(\\gamma X)}\\sim\\mathcal{P}(λ=\\gamma X)\n",
    "\\end{equation}\n",
    "and\n",
    "\\begin{equation}\n",
    "N_{\\mathcal{N(\\sigma)}}\\sim{\\mathcal N}(\\mu=0, \\sigma^2).\n",
    "\\end{equation}"
   ]
  },
  {
   "cell_type": "markdown",
   "metadata": {},
   "source": [
    "#### 0MMPG_barb"
   ]
  },
  {
   "cell_type": "code",
   "execution_count": null,
   "metadata": {},
   "outputs": [],
   "source": [
    "string  = r'$\\hat{\\mathbf{X}}_1=['\n",
    "string += r\"\\mathbf{X}_1 + \\mathbf{N}_{\\mathcal{N}\"\n",
    "string += r\"(\\sigma\"\n",
    "string += f\"={STD_DEV})\"\n",
    "string += r'}'\n",
    "string += r\" + \\mathbf{N}_{\\mathcal{P}\"\n",
    "string += r\"(\\lambda\"\n",
    "string += f\"={GAMMA}\"\n",
    "string += r'\\cdot\\mathbf{X}_1)}'\n",
    "string += f\"/{GAMMA}\"\n",
    "Y1 = utils.generate_MPGN(X1, STD_DEV, GAMMA)\n",
    "Y1 = np.clip(a = Y1, a_min=0, a_max=255)\n",
    "PSNR1 = IT.distortion.PSNR(Y1, X1)\n",
    "string += rf\"], {PSNR1:.2f}\"\n",
    "string += r\"~\\mathrm{dB}\"\n",
    "string += '$'\n",
    "plt.title(string) \n",
    "#Y = MPG_noise(X, STD_DEV, GAMMA).reshape(X.shape)\n",
    "utils.imshow(Y1)\n",
    "plt.savefig('0MMPG_barb.pdf', bbox_inches='tight')"
   ]
  },
  {
   "cell_type": "markdown",
   "metadata": {},
   "source": [
    "#### 0MMPG_lake"
   ]
  },
  {
   "cell_type": "code",
   "execution_count": null,
   "metadata": {},
   "outputs": [],
   "source": [
    "GAMMA = 0.15\n",
    "string  = r'$\\hat{\\mathbf{X}}_2=['\n",
    "string += r\"\\mathbf{X}_2 + \\mathbf{N}_{\\mathcal{N}\"\n",
    "string += r\"(\\sigma\"\n",
    "string += f\"={STD_DEV})\"\n",
    "string += r'}'\n",
    "string += r\" + \\mathbf{N}_{\\mathcal{P}\"\n",
    "string += r\"(\\lambda\"\n",
    "string += f\"={GAMMA}\"\n",
    "string += r'\\cdot\\mathbf{X}_2)}'\n",
    "string += f\"/{GAMMA}\"\n",
    "Y2 = utils.generate_MPGN(X2, STD_DEV, GAMMA)\n",
    "Y2 = np.clip(a = Y2, a_min=0, a_max=255)\n",
    "PSNR2 = IT.distortion.PSNR(Y2, X2)\n",
    "string += rf\"], {PSNR2:.2f}\"\n",
    "string += r\"~\\mathrm{dB}\"\n",
    "string += '$'\n",
    "plt.title(string) \n",
    "#Y = MPG_noise(X, STD_DEV, GAMMA).reshape(X.shape)\n",
    "#Y2 = utils.generate_MPGN(X2, STD_DEV, GAMMA)\n",
    "#Y2 = np.clip(a = Y2, a_min=0, a_max=255)\n",
    "utils.imshow(Y2)\n",
    "plt.savefig('0MMPG_lake.pdf', bbox_inches='tight')"
   ]
  },
  {
   "cell_type": "markdown",
   "metadata": {},
   "source": [
    "#### GD_0MMPG_barb"
   ]
  },
  {
   "cell_type": "code",
   "execution_count": null,
   "metadata": {},
   "outputs": [],
   "source": [
    "sigma_kernel = 0.70\n",
    "sigma = np.array([sigma_kernel, sigma_kernel])\n",
    "kernel = [None]*2\n",
    "kernel[0] = utils.get_gaussian_kernel(sigma[0])\n",
    "kernel[1] = utils.get_gaussian_kernel(sigma[1])\n",
    "print(np.sum(kernel[0]))\n",
    "plt.plot(kernel[0])\n",
    "plt.show()"
   ]
  },
  {
   "cell_type": "code",
   "execution_count": null,
   "metadata": {},
   "outputs": [],
   "source": [
    "denoised1 = denoiser.filter(Y1, kernel)"
   ]
  },
  {
   "cell_type": "code",
   "execution_count": null,
   "metadata": {},
   "outputs": [],
   "source": [
    "PSNR1 = IT.distortion.PSNR(denoised1, X1)"
   ]
  },
  {
   "cell_type": "code",
   "execution_count": null,
   "metadata": {},
   "outputs": [],
   "source": [
    "string  = r\"$\\mathrm{GD}_{\\text{\"\n",
    "string += str(TAU)\n",
    "string += r\"}}(\\hat{\\mathbf{X}}_1)\"\n",
    "#string += r\"}}(\\mathrm{Barb} + \\mathbf{N}_{\\mathcal{N}\"\n",
    "#string += r\"(\\sigma\"\n",
    "#string += f\"={std_dev})\"\n",
    "#string += r'}'\n",
    "#string += r\" + \\mathbf{N}_{\\mathcal{P}\"\n",
    "#string += r\"(\\lambda\"\n",
    "#string += f\"={gamma}\"\n",
    "#string += r'\\cdot\\mathrm{Barb})}'\n",
    "#string += rf\"$_{(\\sigma^2={std_dev}^2)}$\"\n",
    "#string += f\"/{gamma})\"\n",
    "string += f\",~{IT.distortion.PSNR(Y1.astype(np.uint8), X1):.2f}\"\n",
    "string += r\"~\\text{dB}$\"\n",
    "plt.title(f\"{string}\")\n",
    "plt.imshow(denoised1, cmap=\"gray\")\n",
    "plt.savefig('GD_0MMPG_barb.pdf', bbox_inches='tight')"
   ]
  },
  {
   "cell_type": "markdown",
   "metadata": {},
   "source": [
    "#### GD_0MMPG_lake"
   ]
  },
  {
   "cell_type": "code",
   "execution_count": null,
   "metadata": {},
   "outputs": [],
   "source": [
    "denoised2 = denoiser.filter(Y2, kernel)"
   ]
  },
  {
   "cell_type": "code",
   "execution_count": null,
   "metadata": {},
   "outputs": [],
   "source": [
    "PSNR2 = IT.distortion.PSNR(denoised2, X2)"
   ]
  },
  {
   "cell_type": "code",
   "execution_count": null,
   "metadata": {},
   "outputs": [],
   "source": [
    "string  = r\"$\\mathrm{GD}_{\\text{\"\n",
    "string += str(TAU)\n",
    "string += r\"}}(\\hat{\\mathbf{X}}_2)\"\n",
    "#string += r\"}}(\\mathrm{Barb} + \\mathbf{N}_{\\mathcal{N}\"\n",
    "#string += r\"(\\sigma\"\n",
    "#string += f\"={std_dev})\"\n",
    "#string += r'}'\n",
    "#string += r\" + \\mathbf{N}_{\\mathcal{P}\"\n",
    "#string += r\"(\\lambda\"\n",
    "#string += f\"={gamma}\"\n",
    "#string += r'\\cdot\\mathrm{Barb})}'\n",
    "#string += rf\"$_{(\\sigma^2={std_dev}^2)}$\"\n",
    "#string += f\"/{gamma})\"\n",
    "string += f\",~{IT.distortion.PSNR(Y2.astype(np.uint8), X2):.2f}\"\n",
    "string += r\"~\\text{dB}$\"\n",
    "plt.title(f\"{string}\")\n",
    "plt.imshow(denoised2, cmap=\"gray\")\n",
    "plt.savefig('GD_0MMPG_lake.pdf', bbox_inches='tight')"
   ]
  },
  {
   "cell_type": "markdown",
   "metadata": {},
   "source": [
    "#### GD_PCC_0MMPG_barb and GD_PCC_0MMPG_lake"
   ]
  },
  {
   "cell_type": "code",
   "execution_count": null,
   "metadata": {
    "scrolled": true
   },
   "outputs": [],
   "source": [
    "sigmas_kernel = [(0.2 + i/40) for i in range(40)] # Number of points per line\n",
    "#sigmas_kernel.append(0.625)\n",
    "#sigmas_kernel.sort()\n",
    "#sigmas_kernel = [0.5, 0.75, 1.0, 1.25, 1.5, 1.75, 2.0]\n",
    "std_devs = [i for i in range(0, 100, 20)]\n",
    "PCC_curves1 = []\n",
    "PCC_curves2 = []\n",
    "#SFRC_curves = []\n",
    "poisson_ratio = 0.5\n",
    "gamma = 0.15\n",
    "for std_dev in std_devs: # Number of noise levels\n",
    "    #gamma = std_dev / 50\n",
    "    PCC_curve1 = []\n",
    "    PCC_curve2 = []\n",
    "    #SFRC_curve = []\n",
    "    Y1 = utils.generate_MPGN(X1, std_dev, gamma, poisson_ratio).reshape(X1.shape)\n",
    "    Y2 = utils.generate_MPGN(X2, std_dev, gamma, poisson_ratio).reshape(X2.shape)\n",
    "    #Y = np.clip(a = Y, a_min=0, a_max=255) # Probar a quitar\n",
    "    #for sigma_kernel in range(5, 20, 1):\n",
    "    for sigma_kernel in sigmas_kernel: # Filter length\n",
    "        #sigma_kernel /= 10\n",
    "        sigma = np.array([sigma_kernel, sigma_kernel])\n",
    "        kernel = [None]*2\n",
    "        kernel[0] = utils.get_gaussian_kernel(sigma[0])\n",
    "        kernel[1] = utils.get_gaussian_kernel(sigma[1])\n",
    "        #print(\"Kernel:\", kernel)\n",
    "        denoised1 = denoiser.filter(Y1, kernel)\n",
    "        denoised2 = denoiser.filter(Y2, kernel)\n",
    "        #PSNR = IT.distortion.PSNR(denoised, X)\n",
    "        PCC1 = np.corrcoef(denoised1.flatten(), X1.flatten())[0, 1]\n",
    "        PCC2 = np.corrcoef(denoised2.flatten(), X2.flatten())[0, 1]\n",
    "        print(\"std_dev:\", std_dev, \"sigma_kernel:\", sigma_kernel, \"PCC1:\", PCC1, \"PCC2:\", PCC2)\n",
    "        PCC_curve1.append(PCC1)\n",
    "        PCC_curve2.append(PCC2)\n",
    "        #freq, c_avg = fsc.get_SFRC_curve(denoised)\n",
    "        #first_half = c_avg[:len(c_avg)>>1]\n",
    "        #SFRC_curve.append(first_half)\n",
    "        #plt.imshow(denoised, cmap=\"gray\")\n",
    "        #plt.show()\n",
    "        #input()\n",
    "\n",
    "    PCC_curves1.append(PCC_curve1)\n",
    "    PCC_curves2.append(PCC_curve2)\n",
    "    #SFRC_curves.append(SFRC_curve)\n",
    "    \n",
    "    #sigma_index += 1\n",
    "    print()"
   ]
  },
  {
   "cell_type": "code",
   "execution_count": null,
   "metadata": {},
   "outputs": [],
   "source": [
    "#plt.title(r\"$\\mathbf{X}=\\mathrm{Barb}$\")\n",
    "#plt.title(r\"$\\mathbb{E}_{\\text{\" + str(iters) + r\"}}(\\mathbf{N}\" + rf\"/{_lambda}\" + r\"), \\mathbf{N}\\sim\\mathrm{Poisson}\" + rf\"(\\lambda={_lambda}\" + r\"\\mathrm{Barb})$\")\n",
    "#plt.title(\"Averaging Poisson noisy instances of \\\"Barb\\\"\")\n",
    "#for i in range(len(curves)):\n",
    "i = 0\n",
    "for std_dev in std_devs:\n",
    "    #plt.plot([i/10 for i in range(5, 20, 1)], curves[i], label=rf\"$\\sigma={10+i*5}, \\lambda={(10-i)/40}\\cdot\" + r\"\\mathrm{Barb}$\")\n",
    "    #if ((10+i*5) == 40) and ((10-i)/40 == 0.15):\n",
    "    #plt.plot(sigmas_kernel, curves[i], label=rf\"$\\sigma={10+i*5}, \\gamma={(10-i)/40}\" + r\", \\mathrm{argmax}_\\tau=\" + rf\"{sigmas_kernel[np.argmax(curves[i])]:.2f}$\", marker='o')\n",
    "    #else:\n",
    "    plt.plot(sigmas_kernel,\n",
    "        PCC_curves1[i],\n",
    "        label=rf\"$\\sigma={std_dev}, \\gamma={gamma}\"\n",
    "        + r\", \\tau^*=\"\n",
    "        + rf\"{sigmas_kernel[np.argmax(PCC_curves1[i])]:.2f}\"\n",
    "        + \"$\")\n",
    "    i += 1\n",
    "string  = r\"$\"\n",
    "string += r\"\\mathrm{PCC}\"\n",
    "string += r\"(\\mathbf{X}_1, \"\n",
    "string += r\"\\mathrm{GD}_\\tau\"\n",
    "string += r\"(\\mathbf{X}_1\"\n",
    "string += r\"+ \\mathbf{N}_{\\mathcal{N}\"\n",
    "string += r\"(\\sigma)}\"\n",
    "string += r\"+ \\mathbf{N}_\"\n",
    "string += r\"{\\mathcal{P}(\\gamma\\mathbf{X}_1)}/\\gamma))\"\n",
    "string += r\"$\"\n",
    "plt.ylabel(string)\n",
    "#plt.ylabel(r\"$\\mathrm{PCC}(\\mathbf{X}, \\hat{\\mathbf{X}})$\")\n",
    "plt.xlabel(r\"$\\tau$\")\n",
    "plt.legend()\n",
    "#plt.show()\n",
    "plt.savefig(\"GD_PCC_0MMPG_barb.pdf\", bbox_inches='tight')"
   ]
  },
  {
   "cell_type": "code",
   "execution_count": null,
   "metadata": {},
   "outputs": [],
   "source": [
    "#plt.title(r\"$\\mathbf{X}=\\mathrm{Barb}$\")\n",
    "#plt.title(r\"$\\mathbb{E}_{\\text{\" + str(iters) + r\"}}(\\mathbf{N}\" + rf\"/{_lambda}\" + r\"), \\mathbf{N}\\sim\\mathrm{Poisson}\" + rf\"(\\lambda={_lambda}\" + r\"\\mathrm{Barb})$\")\n",
    "#plt.title(\"Averaging Poisson noisy instances of \\\"Barb\\\"\")\n",
    "#for i in range(len(curves)):\n",
    "i = 0\n",
    "for std_dev in std_devs:\n",
    "    #plt.plot([i/10 for i in range(5, 20, 1)], curves[i], label=rf\"$\\sigma={10+i*5}, \\lambda={(10-i)/40}\\cdot\" + r\"\\mathrm{Barb}$\")\n",
    "    #if ((10+i*5) == 40) and ((10-i)/40 == 0.15):\n",
    "    #plt.plot(sigmas_kernel, curves[i], label=rf\"$\\sigma={10+i*5}, \\gamma={(10-i)/40}\" + r\", \\mathrm{argmax}_\\tau=\" + rf\"{sigmas_kernel[np.argmax(curves[i])]:.2f}$\", marker='o')\n",
    "    #else:\n",
    "    plt.plot(sigmas_kernel,\n",
    "        PCC_curves2[i],\n",
    "        label=rf\"$\\sigma={std_dev}, \\gamma={gamma}\"\n",
    "        + r\", \\tau^*=\"\n",
    "        + rf\"{sigmas_kernel[np.argmax(PCC_curves2[i])]:.2f}\"\n",
    "        + \"$\")\n",
    "    i += 1\n",
    "string  = r\"$\"\n",
    "string += r\"\\mathrm{PCC}\"\n",
    "string += r\"(\\mathbf{X}_2, \"\n",
    "string += r\"\\mathrm{GD}_\\tau\"\n",
    "string += r\"(\\mathbf{X}_2\"\n",
    "string += r\"+ \\mathbf{N}_{\\mathcal{N}\"\n",
    "string += r\"(\\sigma)}\"\n",
    "string += r\"+ \\mathbf{N}_\"\n",
    "string += r\"{\\mathcal{P}(\\gamma\\mathbf{X}_2)}/\\gamma))\"\n",
    "string += r\"$\"\n",
    "plt.ylabel(string)\n",
    "#plt.ylabel(r\"$\\mathrm{PCC}(\\mathbf{X}, \\hat{\\mathbf{X}})$\")\n",
    "plt.xlabel(r\"$\\tau$\")\n",
    "plt.legend()\n",
    "#plt.show()\n",
    "plt.savefig(\"GD_PCC_0MMPG_lake.pdf\", bbox_inches='tight')"
   ]
  },
  {
   "cell_type": "code",
   "execution_count": null,
   "metadata": {},
   "outputs": [],
   "source": []
  }
 ],
 "metadata": {
  "colab": {
   "collapsed_sections": [],
   "name": "gaussian_denoising.ipynb",
   "provenance": []
  },
  "kernelspec": {
   "display_name": "Python 3 (ipykernel)",
   "language": "python",
   "name": "python3"
  },
  "language_info": {
   "codemirror_mode": {
    "name": "ipython",
    "version": 3
   },
   "file_extension": ".py",
   "mimetype": "text/x-python",
   "name": "python",
   "nbconvert_exporter": "python",
   "pygments_lexer": "ipython3",
   "version": "3.12.2"
  }
 },
 "nbformat": 4,
 "nbformat_minor": 4
}
