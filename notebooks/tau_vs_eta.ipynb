{
 "cells": [
  {
   "cell_type": "markdown",
   "metadata": {
    "editable": true,
    "id": "QqfKxC0KuCzK",
    "slideshow": {
     "slide_type": ""
    },
    "tags": []
   },
   "source": [
    "# $\\tau$ VS $\\eta$ (standard deviation of the Gaussian kernel versus normalized cut-off frequency)\n",
    "\n",
    "\n",
    "Replicar esto, pero usando w1, h1 = signal.freqz(kernel[0], fs=10000)\n"
   ]
  },
  {
   "cell_type": "code",
   "execution_count": null,
   "metadata": {},
   "outputs": [],
   "source": [
    "import numpy as np\n",
    "import scipy.ndimage\n",
    "import matplotlib.pyplot as plt\n",
    "from scipy import signal\n",
    "from denoising.utils import get_gaussian_kernel\n",
    "\n",
    "# Define parameters\n",
    "beta = 0.1\n",
    "sigma_values = np.linspace(1, 10, 100)  # Range of sigma values to test\n",
    "N = 256  # Signal length\n",
    "normalized_cutoff_freqs = []\n",
    "\n",
    "for sigma in sigma_values:\n",
    "    #print(\"sigma =\", sigma)\n",
    "    # Generate Gaussian kernel\n",
    "    kernel = get_gaussian_kernel(sigma)\n",
    "    #print(kernel.shape)\n",
    "    #plt.plot(kernel)\n",
    "    #plt.show()\n",
    "\n",
    "    # Compute its frequency response\n",
    "    freqs, response = signal.freqz(kernel, fs=10000)\n",
    "    response = np.abs(response)\n",
    "    #plt.plot(freqs, response)\n",
    "    #plt.show()\n",
    "\n",
    "    # Find the effective cut-off frequency (where magnitude falls below ~0.707)\n",
    "    #cutoff_idx = np.where(response < 1 / np.sqrt(2))[0][0]\n",
    "    #map = np.asarray(response < 1 / np.sqrt(2)).nonzero()\n",
    "    #print(np.min(response))\n",
    "    map = np.asarray(response < beta).nonzero()\n",
    "    #print(map)\n",
    "    try:\n",
    "        cutoff_idx = map[0][0]\n",
    "    except IndexError:\n",
    "        cutoff_idx = 511\n",
    "    #cutoff_idx = np.where(response < response[0] / np.sqrt(2))[0][0]\n",
    "    #print(response[0] / 10)\n",
    "    \n",
    "    #cutoff_idx = np.where(response < response[0] / 10)[0][0]\n",
    "    #print(\"freq_response[0]=\", freq_response[0])\n",
    "    #cutoff_idx = np.where(freq_response < 1.4)[0][0]\n",
    "    #print(\"cutoff_idx=\", cutoff_idx)\n",
    "    cutoff_freq = freqs[cutoff_idx]/10000\n",
    "    normalized_cutoff_freqs.append(cutoff_freq)\n",
    "\n",
    "plt.plot(freqs, response)\n",
    "plt.show()\n",
    "\n",
    "# Fit an empirical formula: f_c^* ≈ C / sigma\n",
    "coeff = np.polyfit(1 / sigma_values, normalized_cutoff_freqs, 1)\n",
    "\n",
    "# Display empirical relationship\n",
    "plt.figure(figsize=(6, 4))\n",
    "#plt.plot(sigma_values, normalized_cutoff_freqs, 'bo-', label='Measured Cut-off')\n",
    "plt.plot(normalized_cutoff_freqs, sigma_values, 'bo-', label='Measured Cut-off')\n",
    "#plt.plot(sigma_values, coeff[0] * (1 / sigma_values) + coeff[1], 'r--', label=f'Fit: {coeff[0]:.3f}/sigma + {coeff[1]:.3f}')\n",
    "plt.plot(coeff[0] * (1 / sigma_values) + coeff[1], sigma_values, 'r--', label=rf'Fit: {coeff[0]:.3f}/$\\eta$ + {coeff[1]:.3f}')\n",
    "plt.ylabel(r\"$\\tau$\")\n",
    "plt.xlabel(r\"$\\eta$\")\n",
    "plt.legend()\n",
    "plt.title(rf\"Empirical Relationship Between $\\tau$ and $\\eta$ for $beta={beta}$\")\n",
    "plt.grid()\n",
    "plt.show()\n",
    "\n",
    "print(f\"Empirical formula: f_c^* ≈ {coeff[0]:.3f} / sigma + {coeff[1]:.3f}\")\n"
   ]
  },
  {
   "cell_type": "code",
   "execution_count": null,
   "metadata": {},
   "outputs": [],
   "source": [
    "import numpy as np\n",
    "import scipy.ndimage\n",
    "import matplotlib.pyplot as plt\n",
    "from denoising.utils import get_gaussian_kernel\n",
    "\n",
    "# Define parameters\n",
    "sigma_values = np.linspace(0.5, 10, 100)  # Range of sigma values to test\n",
    "N = 256  # Signal length\n",
    "normalized_cutoff_freqs = []\n",
    "\n",
    "for sigma in sigma_values:\n",
    "    # Generate Gaussian kernel\n",
    "    kernel = get_gaussian_kernel(sigma)\n",
    "\n",
    "    # Compute its frequency response\n",
    "    freq_response = np.abs(np.fft.fft(kernel, N))  # Compute FFT\n",
    "    freq_response = freq_response[:N//2]  # Take only the first half (positive frequencies)\n",
    "    freq_axis = np.linspace(0, 0.5, N//2)  # Normalized frequency axis (Nyquist = 0.5)\n",
    "\n",
    "    # Find the effective cut-off frequency (where magnitude falls below ~0.707)\n",
    "    cutoff_idx = np.where(freq_response < freq_response[0] / np.sqrt(2))[0][0]\n",
    "    #print(\"freq_response[0]=\", freq_response[0])\n",
    "    #cutoff_idx = np.where(freq_response < 1.4)[0][0]\n",
    "    #print(\"cutoff_idx=\", cutoff_idx)\n",
    "    cutoff_freq = freq_axis[cutoff_idx]\n",
    "    normalized_cutoff_freqs.append(cutoff_freq)\n",
    "\n",
    "# Fit an empirical formula: f_c^* ≈ C / sigma\n",
    "coeff = np.polyfit(1 / sigma_values, normalized_cutoff_freqs, 1)\n",
    "\n",
    "# Display empirical relationship\n",
    "plt.figure(figsize=(6, 4))\n",
    "plt.plot(sigma_values, normalized_cutoff_freqs, 'bo-', label='Measured Cut-off')\n",
    "plt.plot(sigma_values, coeff[0] * (1 / sigma_values) + coeff[1], 'r--', label=f'Fit: {coeff[0]:.3f}/sigma + {coeff[1]:.3f}')\n",
    "plt.xlabel(\"Sigma\")\n",
    "plt.ylabel(r\"Effective Normalized Cut-off Frequency ($f_c^*$)\")\n",
    "plt.legend()\n",
    "plt.title(\"Empirical Relationship Between Sigma and Cut-off Frequency\")\n",
    "plt.grid()\n",
    "plt.show()\n",
    "\n",
    "print(f\"Empirical formula: f_c^* ≈ {coeff[0]:.3f} / sigma + {coeff[1]:.3f}\")\n"
   ]
  },
  {
   "cell_type": "code",
   "execution_count": null,
   "metadata": {},
   "outputs": [],
   "source": [
    "def normalized_cutoff_to_tau(cutoff_freq):\n",
    "    tau = 0.141 / cutoff_freq\n",
    "    return tau"
   ]
  },
  {
   "cell_type": "code",
   "execution_count": null,
   "metadata": {},
   "outputs": [],
   "source": [
    "tau = normalized_cutoff_to_tau(0.25)\n",
    "tau"
   ]
  },
  {
   "cell_type": "code",
   "execution_count": null,
   "metadata": {},
   "outputs": [],
   "source": [
    "import math\n",
    "math.sqrt(2)"
   ]
  },
  {
   "cell_type": "code",
   "execution_count": null,
   "metadata": {},
   "outputs": [],
   "source": [
    "np.sqrt(2)"
   ]
  },
  {
   "cell_type": "code",
   "execution_count": null,
   "metadata": {},
   "outputs": [],
   "source": [
    "math.sqrt(-2*math.log(0.956))"
   ]
  },
  {
   "cell_type": "code",
   "execution_count": null,
   "metadata": {},
   "outputs": [],
   "source": [
    "math.log(math.exp(10))"
   ]
  },
  {
   "cell_type": "code",
   "execution_count": null,
   "metadata": {},
   "outputs": [],
   "source": [
    "import numpy as np\n",
    "import matplotlib.pyplot as plt\n",
    "from scipy.fftpack import fft, fftfreq\n",
    "\n",
    "# Given parameters\n",
    "tau = 5\n",
    "fs = 100  # Sampling frequency\n",
    "N = 256  # Length of the filter\n",
    "\n",
    "# Generate Gaussian filter in discrete-time\n",
    "n = np.arange(-N//2, N//2)  # Centered indices\n",
    "h = np.exp(-n**2 / (2 * tau**2))  # Gaussian function\n",
    "\n",
    "# Compute frequency response\n",
    "H = np.abs(fft(h))  # Magnitude spectrum\n",
    "freqs = fftfreq(N, d=1/fs)  # Frequency axis\n",
    "\n",
    "# Compute cutoff frequency\n",
    "eta = np.sqrt(-2 * np.log(0.1)) / tau\n",
    "#eta_discrete = (eta / (2 * np.pi * fs)) * np.pi  # Discrete cutoff frequency\n",
    "eta_discrete = (eta / (2 * fs))  # Discrete cutoff frequency\n",
    "\n",
    "# Plot time-domain Gaussian filter\n",
    "plt.figure(figsize=(12, 5))\n",
    "plt.subplot(1, 2, 1)\n",
    "plt.plot(n, h, label=\"Gaussian filter\")\n",
    "plt.xlabel(\"Sample index (n)\")\n",
    "plt.ylabel(\"Amplitude\")\n",
    "plt.title(\"Discrete Gaussian Filter (Time Domain)\")\n",
    "plt.legend()\n",
    "plt.grid()\n",
    "\n",
    "# Plot frequency response\n",
    "plt.subplot(1, 2, 2)\n",
    "plt.plot(freqs[:N//2], H[:N//2], label=\"Magnitude Response\")\n",
    "plt.axvline(eta / (2 * np.pi), color='r', linestyle='--', label=\"Cutoff Frequency\")\n",
    "plt.xlabel(\"Frequency (Hz)\")\n",
    "plt.ylabel(\"Magnitude\")\n",
    "plt.title(\"Frequency Response of Gaussian Filter\")\n",
    "plt.legend()\n",
    "plt.grid()\n",
    "\n",
    "plt.tight_layout()\n",
    "plt.show()\n"
   ]
  },
  {
   "cell_type": "code",
   "execution_count": null,
   "metadata": {},
   "outputs": [],
   "source": []
  }
 ],
 "metadata": {
  "colab": {
   "collapsed_sections": [],
   "name": "gaussian_denoising.ipynb",
   "provenance": []
  },
  "kernelspec": {
   "display_name": "Python 3 (ipykernel)",
   "language": "python",
   "name": "python3"
  },
  "language_info": {
   "codemirror_mode": {
    "name": "ipython",
    "version": 3
   },
   "file_extension": ".py",
   "mimetype": "text/x-python",
   "name": "python",
   "nbconvert_exporter": "python",
   "pygments_lexer": "ipython3",
   "version": "3.12.2"
  }
 },
 "nbformat": 4,
 "nbformat_minor": 4
}
