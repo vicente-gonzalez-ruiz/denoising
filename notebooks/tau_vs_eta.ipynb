{
 "cells": [
  {
   "cell_type": "markdown",
   "metadata": {
    "editable": true,
    "id": "QqfKxC0KuCzK",
    "slideshow": {
     "slide_type": ""
    },
    "tags": []
   },
   "source": [
    "# $\\tau$ VS $\\eta$ (standard deviation of the Gaussian kernel versus normalized cut-off frequency)"
   ]
  },
  {
   "cell_type": "code",
   "execution_count": null,
   "metadata": {},
   "outputs": [],
   "source": [
    "import numpy as np\n",
    "import scipy.ndimage\n",
    "import matplotlib.pyplot as plt\n",
    "from denoising.utils import get_gaussian_kernel\n",
    "\n",
    "# Define parameters\n",
    "sigma_values = np.linspace(0.5, 10, 100)  # Range of sigma values to test\n",
    "N = 256  # Signal length\n",
    "normalized_cutoff_freqs = []\n",
    "\n",
    "for sigma in sigma_values:\n",
    "    # Generate Gaussian kernel\n",
    "    kernel = get_gaussian_kernel(sigma)\n",
    "\n",
    "    # Compute its frequency response\n",
    "    freq_response = np.abs(np.fft.fft(kernel, N))  # Compute FFT\n",
    "    freq_response = freq_response[:N//2]  # Take only the first half (positive frequencies)\n",
    "    freq_axis = np.linspace(0, 0.5, N//2)  # Normalized frequency axis (Nyquist = 0.5)\n",
    "\n",
    "    # Find the effective cut-off frequency (where magnitude falls below ~0.707)\n",
    "    cutoff_idx = np.where(freq_response < freq_response[0] / np.sqrt(2))[0][0]\n",
    "    cutoff_freq = freq_axis[cutoff_idx]\n",
    "    normalized_cutoff_freqs.append(cutoff_freq)\n",
    "\n",
    "# Fit an empirical formula: f_c^* ≈ C / sigma\n",
    "coeff = np.polyfit(1 / sigma_values, normalized_cutoff_freqs, 1)\n",
    "\n",
    "# Display empirical relationship\n",
    "plt.figure(figsize=(6, 4))\n",
    "plt.plot(sigma_values, normalized_cutoff_freqs, 'bo-', label='Measured Cut-off')\n",
    "plt.plot(sigma_values, coeff[0] * (1 / sigma_values) + coeff[1], 'r--', label=f'Fit: {coeff[0]:.3f}/sigma + {coeff[1]:.3f}')\n",
    "plt.xlabel(\"Sigma\")\n",
    "plt.ylabel(r\"Effective Normalized Cut-off Frequency ($f_c^*$)\")\n",
    "plt.legend()\n",
    "plt.title(\"Empirical Relationship Between Sigma and Cut-off Frequency\")\n",
    "plt.grid()\n",
    "plt.show()\n",
    "\n",
    "print(f\"Empirical formula: f_c^* ≈ {coeff[0]:.3f} / sigma + {coeff[1]:.3f}\")\n"
   ]
  },
  {
   "cell_type": "code",
   "execution_count": null,
   "metadata": {},
   "outputs": [],
   "source": [
    "def normalized_cutoff_to_tau(cutoff_freq):\n",
    "    tau = 0.141 / cutoff_freq\n",
    "    return tau"
   ]
  },
  {
   "cell_type": "code",
   "execution_count": null,
   "metadata": {},
   "outputs": [],
   "source": [
    "tau = normalized_cutoff_to_tau(0.25)\n",
    "tau"
   ]
  },
  {
   "cell_type": "code",
   "execution_count": null,
   "metadata": {},
   "outputs": [],
   "source": []
  }
 ],
 "metadata": {
  "colab": {
   "collapsed_sections": [],
   "name": "gaussian_denoising.ipynb",
   "provenance": []
  },
  "kernelspec": {
   "display_name": "Python 3 (ipykernel)",
   "language": "python",
   "name": "python3"
  },
  "language_info": {
   "codemirror_mode": {
    "name": "ipython",
    "version": 3
   },
   "file_extension": ".py",
   "mimetype": "text/x-python",
   "name": "python",
   "nbconvert_exporter": "python",
   "pygments_lexer": "ipython3",
   "version": "3.12.2"
  }
 },
 "nbformat": 4,
 "nbformat_minor": 4
}
