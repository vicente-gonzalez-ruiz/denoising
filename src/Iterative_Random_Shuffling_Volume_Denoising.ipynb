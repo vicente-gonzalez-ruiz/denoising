{
 "cells": [
  {
   "cell_type": "markdown",
   "id": "24a2b9b0-569f-4f0a-a83c-7ab9c893b3a4",
   "metadata": {},
   "source": [
    "# Iterative Random Shuffling Volume Denoising (IRSVD)"
   ]
  },
  {
   "cell_type": "code",
   "execution_count": 1,
   "id": "7be42efa-1e36-4eb8-8d10-5d5f7e7e47d3",
   "metadata": {},
   "outputs": [],
   "source": [
    "try:\n",
    "    import google.colab\n",
    "    IN_COLAB = True\n",
    "except:\n",
    "    IN_COLAB = False\n",
    "\n",
    "if IN_COLAB:\n",
    "    !pip install cupy-cuda12x\n",
    "    !pip install opticalflow3D\n",
    "    !apt-file update\n",
    "    !apt install libcudart11.0\n",
    "    !apt install libcublas11\n",
    "    !apt install libcufft10\n",
    "    !apt install libcusparse11\n",
    "    !apt install libnvrtc11.2\n",
    "    from google.colab import drive\n",
    "    drive.mount('/content/drive')\n",
    "    !cp drive/Shareddrives/TomogramDenoising/tomograms/small_vol.tif .\n",
    "else:\n",
    "    !cp /home/vruiz/repos/microscopy-processing/FlowDenoising/src/small_vol.tif ."
   ]
  },
  {
   "cell_type": "code",
   "execution_count": 2,
   "id": "a3554ddb-de53-4ac6-a102-01c526f3fa24",
   "metadata": {
    "id": "a3554ddb-de53-4ac6-a102-01c526f3fa24"
   },
   "outputs": [],
   "source": [
    "import opticalflow3D\n",
    "import warnings\n",
    "from numba.core.errors import NumbaPerformanceWarning\n",
    "\n",
    "warnings.filterwarnings(\"ignore\", category=NumbaPerformanceWarning)"
   ]
  },
  {
   "cell_type": "markdown",
   "id": "438f607e-a310-48b5-8dd0-2ddec2db7def",
   "metadata": {
    "id": "438f607e-a310-48b5-8dd0-2ddec2db7def"
   },
   "source": [
    "# Farneback two frame motion estimation"
   ]
  },
  {
   "cell_type": "code",
   "execution_count": 3,
   "id": "7ab782f1-6053-4d91-8ba7-3220d3332f44",
   "metadata": {
    "colab": {
     "base_uri": "https://localhost:8080/",
     "height": 211
    },
    "id": "7ab782f1-6053-4d91-8ba7-3220d3332f44",
    "outputId": "e8f03c08-8eb1-4ab3-f854-c360edd8082a"
   },
   "outputs": [],
   "source": [
    "farneback = opticalflow3D.Farneback3D(iters=5,\n",
    "                                      num_levels=3,\n",
    "                                      scale=0.5,\n",
    "                                      spatial_size=21,\n",
    "                                      presmoothing=None,\n",
    "                                      filter_type=\"gaussian\",\n",
    "                                      filter_size=15,\n",
    "                                     )"
   ]
  },
  {
   "cell_type": "code",
   "execution_count": 4,
   "id": "K4iiPXQCeaXG",
   "metadata": {
    "id": "K4iiPXQCeaXG"
   },
   "outputs": [],
   "source": [
    "import numpy as np"
   ]
  },
  {
   "cell_type": "code",
   "execution_count": 5,
   "id": "j2b0eeunV1GD",
   "metadata": {
    "id": "j2b0eeunV1GD"
   },
   "outputs": [],
   "source": [
    "def project_A_to_B(A, B):\n",
    "  output_vz, output_vy, output_vx, output_confidence = farneback.calculate_flow(A, B,\n",
    "                                                                              start_point=(0, 0, 0),\n",
    "                                                                              total_vol=(A.shape[0], A.shape[1], A.shape[2]),\n",
    "                                                                              sub_volume=(A.shape[0], A.shape[1], A.shape[2]),\n",
    "                                                                              overlap=(8, 8, 8),\n",
    "                                                                              threadsperblock=(8, 8, 8)\n",
    "                                                                             )\n",
    "  print(\"sum(A-B)\", np.sum((A-B)*(A-B)))\n",
    "  print(\"flow\", np.max(np.abs(output_vx)), np.max(np.abs(output_vy)), np.max(np.abs(output_vz)))\n",
    "  projection = opticalflow3D.helpers.generate_inverse_image(B, output_vx, output_vy, output_vz)\n",
    "  return projection"
   ]
  },
  {
   "cell_type": "code",
   "execution_count": 6,
   "id": "0crVg5yFYlgG",
   "metadata": {
    "id": "0crVg5yFYlgG"
   },
   "outputs": [],
   "source": [
    "def randomize(vol, mean=0.0, std_dev=1.0):\n",
    "  depth, height, width = vol.shape[:3]\n",
    "  x_coords, y_coords, z_coords = np.meshgrid(range(width), range(height), range(depth))\n",
    "  flattened_x_coords = x_coords.flatten()\n",
    "  flattened_y_coords = y_coords.flatten()\n",
    "  flattened_z_coords = z_coords.flatten()\n",
    "  #print(np.max(flattened_z_coords), np.max(flattened_y_coords), np.max(flattened_x_coords))\n",
    "  #print(flattened_x_coords.dtype)\n",
    "  displacements_x = np.random.normal(mean, std_dev, flattened_x_coords.shape).astype(np.int32)\n",
    "  displacements_y = np.random.normal(mean, std_dev, flattened_y_coords.shape).astype(np.int32)\n",
    "  displacements_z = np.random.normal(mean, std_dev, flattened_z_coords.shape).astype(np.int32)\n",
    "  print(np.max(displacements_z), np.max(displacements_y), np.max(displacements_x))\n",
    "  print(np.min(displacements_z), np.min(displacements_y), np.min(displacements_x))\n",
    "  randomized_x_coords = flattened_x_coords + displacements_x\n",
    "  randomized_y_coords = flattened_y_coords + displacements_y\n",
    "  randomized_z_coords = flattened_z_coords + displacements_z\n",
    "  #print(np.max(randomized_z_coords), np.max(randomized_y_coords), np.max(randomized_x_coords))\n",
    "  randomized_x_coords = np.mod(randomized_x_coords, width)\n",
    "  randomized_y_coords = np.mod(randomized_y_coords, height)\n",
    "  randomized_z_coords = np.mod(randomized_z_coords, depth)\n",
    "  #print(np.max(randomized_z_coords), np.max(randomized_y_coords), np.max(randomized_x_coords))\n",
    "  #randomized_vol = np.ones_like(vol)*128 #np.zeros_like(vol)\n",
    "  randomized_vol = np.zeros_like(vol)\n",
    "  randomized_vol[randomized_z_coords, randomized_y_coords, randomized_x_coords] = vol[flattened_z_coords, flattened_y_coords, flattened_x_coords]\n",
    "  return randomized_vol\n",
    "\n",
    "def randomize_(image, mean=0, std_dev=1.0):\n",
    "    depth, height, width = image.shape\n",
    "\n",
    "    # Create a grid of coordinates for each dimension\n",
    "    x_coords, y_coords, z_coords = np.meshgrid(range(width), range(height), range(depth), indexing='ij')\n",
    "\n",
    "    # Flatten the coordinates for randomization\n",
    "    flattened_x_coords = x_coords.flatten()\n",
    "    flattened_y_coords = y_coords.flatten()\n",
    "    flattened_z_coords = z_coords.flatten()\n",
    "\n",
    "    # Generate random displacements for each dimension\n",
    "    displacements_x = np.random.normal(mean, std_dev, flattened_x_coords.shape)\n",
    "    displacements_y = np.random.normal(mean, std_dev, flattened_y_coords.shape)\n",
    "    displacements_z = np.random.normal(mean, std_dev, flattened_z_coords.shape)\n",
    "\n",
    "    # Convert displacements to integers\n",
    "    displacements_x = displacements_x.astype(np.int32)\n",
    "    displacements_y = displacements_y.astype(np.int32)\n",
    "    displacements_z = displacements_z.astype(np.int32)\n",
    "\n",
    "    # Apply displacements and handle periodic extension\n",
    "    randomized_x_coords = np.mod(flattened_x_coords + displacements_x, width)\n",
    "    randomized_y_coords = np.mod(flattened_y_coords + displacements_y, height)\n",
    "    randomized_z_coords = np.mod(flattened_z_coords + displacements_z, depth)\n",
    "    print(np.max(randomized_z_coords), np.max(randomized_y_coords), np.max(randomized_x_coords))\n",
    "\n",
    "    # Create a new 3D array for the randomized image\n",
    "    randomized_image = np.zeros_like(image)\n",
    "\n",
    "    # Index the original image using the randomized coordinates\n",
    "    randomized_image[randomized_z_coords, randomized_y_coords, randomized_x_coords] = image[flattened_z_coords, flattened_y_coords, flattened_x_coords]\n",
    "\n",
    "    return randomized_image\n"
   ]
  },
  {
   "cell_type": "code",
   "execution_count": 7,
   "id": "l6BuB9VhbAsz",
   "metadata": {
    "id": "l6BuB9VhbAsz"
   },
   "outputs": [],
   "source": [
    "def filter(noisy_vol, N_iters=100, RS_sigma=1.5, RS_mean=0.0):\n",
    "  acc_vol = np.zeros_like(noisy_vol, dtype=np.float32)\n",
    "  acc_vol[...] = noisy_vol\n",
    "  for i in range(N_iters):\n",
    "    denoised_vol = acc_vol/(i+1)\n",
    "    randomized_noisy_vol = randomize(noisy_vol, RS_mean, RS_sigma).astype(np.float32)\n",
    "    #print(\"sum(randomized_noisy-noisy)\", np.sum((randomized_noisy_vol-noisy_vol)*(randomized_noisy_vol-noisy_vol)))\n",
    "    #print(\"sum(denoised-randomized_noisy)\", np.sum((denoised_vol-randomized_noisy_vol)*(denoised_vol-randomized_noisy_vol)))\n",
    "    randomized_and_compensated_noisy_vol = project_A_to_B(A=denoised_vol, B=randomized_noisy_vol)\n",
    "    #randomized_and_compensated_noisy_vol = np.zeros_like(randomized_noisy_vol)\n",
    "    #randomized_and_compensated_noisy_vol[...] = randomized_noisy_vol\n",
    "    #print(\"sum(noisy)\", np.sum(noisy_vol))\n",
    "    #print(\"sum(denoised)\", np.sum(denoised_vol))\n",
    "    #print(\"sum(randomized_and_compensated_noisy)\", np.sum(randomized_and_compensated_noisy_vol))\n",
    "    #print(\"sum(randomized_noisy)\", np.sum(randomized_noisy_vol))\n",
    "    #print(\"sum(acc)\", np.sum(acc_vol))\n",
    "    #print(\"sum(randomized_and_compensated_noisy-randomized_noisy)\", np.sum((randomized_and_compensated_noisy_vol-randomized_noisy_vol)*(randomized_and_compensated_noisy_vol-randomized_noisy_vol)))\n",
    "    #print(\"sum(randomized_and_compensated_noisy-noisy)\", np.sum((randomized_and_compensated_noisy_vol-noisy_vol)*(randomized_and_compensated_noisy_vol-noisy_vol)))\n",
    "    #print(np.sum((randomized_and_compensated_noisy_vol-randomized_noisy_vol)*(randomized_and_compensated_noisy_vol-randomized_noisy_vol)))\n",
    "    acc_vol += randomized_and_compensated_noisy_vol\n",
    "  denoised_vol = acc_vol/(N_iters + 1)\n",
    "  return denoised_vol"
   ]
  },
  {
   "cell_type": "code",
   "execution_count": 8,
   "id": "I6Fx1j23clAd",
   "metadata": {
    "id": "I6Fx1j23clAd"
   },
   "outputs": [],
   "source": [
    "noisy_vol = opticalflow3D.helpers.load_image(r\"small_vol.tif\")"
   ]
  },
  {
   "cell_type": "code",
   "execution_count": 9,
   "id": "91aIEXpSc5ez",
   "metadata": {
    "colab": {
     "base_uri": "https://localhost:8080/",
     "height": 1000
    },
    "id": "91aIEXpSc5ez",
    "outputId": "6e1f085e-8567-4eb8-9c13-13171cead177"
   },
   "outputs": [
    {
     "name": "stdout",
     "output_type": "stream",
     "text": [
      "7 6 7\n",
      "-7 -7 -7\n",
      "Running 3D Farneback optical flow with the following parameters:\n",
      "Iters: 5 | Levels: 3 | Scale: 0.5 | Kernel: 21 | Filter: gaussian-15 | Presmoothing: None\n"
     ]
    },
    {
     "ename": "CUDARuntimeError",
     "evalue": "cudaErrorUnknown: unknown error",
     "output_type": "error",
     "traceback": [
      "\u001b[0;31m---------------------------------------------------------------------------\u001b[0m",
      "\u001b[0;31mCUDARuntimeError\u001b[0m                          Traceback (most recent call last)",
      "Cell \u001b[0;32mIn[9], line 1\u001b[0m\n\u001b[0;32m----> 1\u001b[0m denoised_vol \u001b[38;5;241m=\u001b[39m \u001b[38;5;28;43mfilter\u001b[39;49m\u001b[43m(\u001b[49m\u001b[43mnoisy_vol\u001b[49m\u001b[43m)\u001b[49m\n",
      "Cell \u001b[0;32mIn[7], line 9\u001b[0m, in \u001b[0;36mfilter\u001b[0;34m(noisy_vol, N_iters, RS_sigma, RS_mean)\u001b[0m\n\u001b[1;32m      6\u001b[0m randomized_noisy_vol \u001b[38;5;241m=\u001b[39m randomize(noisy_vol, RS_mean, RS_sigma)\u001b[38;5;241m.\u001b[39mastype(np\u001b[38;5;241m.\u001b[39mfloat32)\n\u001b[1;32m      7\u001b[0m \u001b[38;5;66;03m#print(\"sum(randomized_noisy-noisy)\", np.sum((randomized_noisy_vol-noisy_vol)*(randomized_noisy_vol-noisy_vol)))\u001b[39;00m\n\u001b[1;32m      8\u001b[0m \u001b[38;5;66;03m#print(\"sum(denoised-randomized_noisy)\", np.sum((denoised_vol-randomized_noisy_vol)*(denoised_vol-randomized_noisy_vol)))\u001b[39;00m\n\u001b[0;32m----> 9\u001b[0m randomized_and_compensated_noisy_vol \u001b[38;5;241m=\u001b[39m \u001b[43mproject_A_to_B\u001b[49m\u001b[43m(\u001b[49m\u001b[43mA\u001b[49m\u001b[38;5;241;43m=\u001b[39;49m\u001b[43mdenoised_vol\u001b[49m\u001b[43m,\u001b[49m\u001b[43m \u001b[49m\u001b[43mB\u001b[49m\u001b[38;5;241;43m=\u001b[39;49m\u001b[43mrandomized_noisy_vol\u001b[49m\u001b[43m)\u001b[49m\n\u001b[1;32m     10\u001b[0m \u001b[38;5;66;03m#randomized_and_compensated_noisy_vol = np.zeros_like(randomized_noisy_vol)\u001b[39;00m\n\u001b[1;32m     11\u001b[0m \u001b[38;5;66;03m#randomized_and_compensated_noisy_vol[...] = randomized_noisy_vol\u001b[39;00m\n\u001b[1;32m     12\u001b[0m \u001b[38;5;66;03m#print(\"sum(noisy)\", np.sum(noisy_vol))\u001b[39;00m\n\u001b[0;32m   (...)\u001b[0m\n\u001b[1;32m     18\u001b[0m \u001b[38;5;66;03m#print(\"sum(randomized_and_compensated_noisy-noisy)\", np.sum((randomized_and_compensated_noisy_vol-noisy_vol)*(randomized_and_compensated_noisy_vol-noisy_vol)))\u001b[39;00m\n\u001b[1;32m     19\u001b[0m \u001b[38;5;66;03m#print(np.sum((randomized_and_compensated_noisy_vol-randomized_noisy_vol)*(randomized_and_compensated_noisy_vol-randomized_noisy_vol)))\u001b[39;00m\n\u001b[1;32m     20\u001b[0m acc_vol \u001b[38;5;241m+\u001b[39m\u001b[38;5;241m=\u001b[39m randomized_and_compensated_noisy_vol\n",
      "Cell \u001b[0;32mIn[5], line 2\u001b[0m, in \u001b[0;36mproject_A_to_B\u001b[0;34m(A, B)\u001b[0m\n\u001b[1;32m      1\u001b[0m \u001b[38;5;28;01mdef\u001b[39;00m \u001b[38;5;21mproject_A_to_B\u001b[39m(A, B):\n\u001b[0;32m----> 2\u001b[0m   output_vz, output_vy, output_vx, output_confidence \u001b[38;5;241m=\u001b[39m \u001b[43mfarneback\u001b[49m\u001b[38;5;241;43m.\u001b[39;49m\u001b[43mcalculate_flow\u001b[49m\u001b[43m(\u001b[49m\u001b[43mA\u001b[49m\u001b[43m,\u001b[49m\u001b[43m \u001b[49m\u001b[43mB\u001b[49m\u001b[43m,\u001b[49m\n\u001b[1;32m      3\u001b[0m \u001b[43m                                                                              \u001b[49m\u001b[43mstart_point\u001b[49m\u001b[38;5;241;43m=\u001b[39;49m\u001b[43m(\u001b[49m\u001b[38;5;241;43m0\u001b[39;49m\u001b[43m,\u001b[49m\u001b[43m \u001b[49m\u001b[38;5;241;43m0\u001b[39;49m\u001b[43m,\u001b[49m\u001b[43m \u001b[49m\u001b[38;5;241;43m0\u001b[39;49m\u001b[43m)\u001b[49m\u001b[43m,\u001b[49m\n\u001b[1;32m      4\u001b[0m \u001b[43m                                                                              \u001b[49m\u001b[43mtotal_vol\u001b[49m\u001b[38;5;241;43m=\u001b[39;49m\u001b[43m(\u001b[49m\u001b[43mA\u001b[49m\u001b[38;5;241;43m.\u001b[39;49m\u001b[43mshape\u001b[49m\u001b[43m[\u001b[49m\u001b[38;5;241;43m0\u001b[39;49m\u001b[43m]\u001b[49m\u001b[43m,\u001b[49m\u001b[43m \u001b[49m\u001b[43mA\u001b[49m\u001b[38;5;241;43m.\u001b[39;49m\u001b[43mshape\u001b[49m\u001b[43m[\u001b[49m\u001b[38;5;241;43m1\u001b[39;49m\u001b[43m]\u001b[49m\u001b[43m,\u001b[49m\u001b[43m \u001b[49m\u001b[43mA\u001b[49m\u001b[38;5;241;43m.\u001b[39;49m\u001b[43mshape\u001b[49m\u001b[43m[\u001b[49m\u001b[38;5;241;43m2\u001b[39;49m\u001b[43m]\u001b[49m\u001b[43m)\u001b[49m\u001b[43m,\u001b[49m\n\u001b[1;32m      5\u001b[0m \u001b[43m                                                                              \u001b[49m\u001b[43msub_volume\u001b[49m\u001b[38;5;241;43m=\u001b[39;49m\u001b[43m(\u001b[49m\u001b[43mA\u001b[49m\u001b[38;5;241;43m.\u001b[39;49m\u001b[43mshape\u001b[49m\u001b[43m[\u001b[49m\u001b[38;5;241;43m0\u001b[39;49m\u001b[43m]\u001b[49m\u001b[43m,\u001b[49m\u001b[43m \u001b[49m\u001b[43mA\u001b[49m\u001b[38;5;241;43m.\u001b[39;49m\u001b[43mshape\u001b[49m\u001b[43m[\u001b[49m\u001b[38;5;241;43m1\u001b[39;49m\u001b[43m]\u001b[49m\u001b[43m,\u001b[49m\u001b[43m \u001b[49m\u001b[43mA\u001b[49m\u001b[38;5;241;43m.\u001b[39;49m\u001b[43mshape\u001b[49m\u001b[43m[\u001b[49m\u001b[38;5;241;43m2\u001b[39;49m\u001b[43m]\u001b[49m\u001b[43m)\u001b[49m\u001b[43m,\u001b[49m\n\u001b[1;32m      6\u001b[0m \u001b[43m                                                                              \u001b[49m\u001b[43moverlap\u001b[49m\u001b[38;5;241;43m=\u001b[39;49m\u001b[43m(\u001b[49m\u001b[38;5;241;43m8\u001b[39;49m\u001b[43m,\u001b[49m\u001b[43m \u001b[49m\u001b[38;5;241;43m8\u001b[39;49m\u001b[43m,\u001b[49m\u001b[43m \u001b[49m\u001b[38;5;241;43m8\u001b[39;49m\u001b[43m)\u001b[49m\u001b[43m,\u001b[49m\n\u001b[1;32m      7\u001b[0m \u001b[43m                                                                              \u001b[49m\u001b[43mthreadsperblock\u001b[49m\u001b[38;5;241;43m=\u001b[39;49m\u001b[43m(\u001b[49m\u001b[38;5;241;43m8\u001b[39;49m\u001b[43m,\u001b[49m\u001b[43m \u001b[49m\u001b[38;5;241;43m8\u001b[39;49m\u001b[43m,\u001b[49m\u001b[43m \u001b[49m\u001b[38;5;241;43m8\u001b[39;49m\u001b[43m)\u001b[49m\n\u001b[1;32m      8\u001b[0m \u001b[43m                                                                             \u001b[49m\u001b[43m)\u001b[49m\n\u001b[1;32m      9\u001b[0m   \u001b[38;5;28mprint\u001b[39m(\u001b[38;5;124m\"\u001b[39m\u001b[38;5;124msum(A-B)\u001b[39m\u001b[38;5;124m\"\u001b[39m, np\u001b[38;5;241m.\u001b[39msum((A\u001b[38;5;241m-\u001b[39mB)\u001b[38;5;241m*\u001b[39m(A\u001b[38;5;241m-\u001b[39mB)))\n\u001b[1;32m     10\u001b[0m   \u001b[38;5;28mprint\u001b[39m(\u001b[38;5;124m\"\u001b[39m\u001b[38;5;124mflow\u001b[39m\u001b[38;5;124m\"\u001b[39m, np\u001b[38;5;241m.\u001b[39mmax(np\u001b[38;5;241m.\u001b[39mabs(output_vx)), np\u001b[38;5;241m.\u001b[39mmax(np\u001b[38;5;241m.\u001b[39mabs(output_vy)), np\u001b[38;5;241m.\u001b[39mmax(np\u001b[38;5;241m.\u001b[39mabs(output_vz)))\n",
      "File \u001b[0;32m/shared/PEs/OF3D/lib/python3.10/site-packages/opticalflow3D/opticalflow3D.py:157\u001b[0m, in \u001b[0;36mFarneback3D.calculate_flow\u001b[0;34m(self, image1, image2, start_point, total_vol, sub_volume, overlap, threadsperblock)\u001b[0m\n\u001b[1;32m    155\u001b[0m                 pinned_mempool\u001b[38;5;241m.\u001b[39mfree_all_blocks()\n\u001b[1;32m    156\u001b[0m \u001b[38;5;28;01melse\u001b[39;00m:\n\u001b[0;32m--> 157\u001b[0m     \u001b[38;5;28;01mwith\u001b[39;00m cp\u001b[38;5;241m.\u001b[39mcuda\u001b[38;5;241m.\u001b[39mDevice(\u001b[38;5;28mself\u001b[39m\u001b[38;5;241m.\u001b[39mdevice_id):\n\u001b[1;32m    158\u001b[0m         vx, vy, vz, confidence \u001b[38;5;241m=\u001b[39m farneback_3d(image1, image2,\n\u001b[1;32m    159\u001b[0m                                               iters\u001b[38;5;241m=\u001b[39m\u001b[38;5;28mself\u001b[39m\u001b[38;5;241m.\u001b[39miters,\n\u001b[1;32m    160\u001b[0m                                               num_levels\u001b[38;5;241m=\u001b[39m\u001b[38;5;28mself\u001b[39m\u001b[38;5;241m.\u001b[39mnum_levels,\n\u001b[0;32m   (...)\u001b[0m\n\u001b[1;32m    164\u001b[0m                                               presmoothing\u001b[38;5;241m=\u001b[39m\u001b[38;5;28mself\u001b[39m\u001b[38;5;241m.\u001b[39mpresmoothing,\n\u001b[1;32m    165\u001b[0m                                               threadsperblock\u001b[38;5;241m=\u001b[39mthreadsperblock)\n\u001b[1;32m    166\u001b[0m     cp\u001b[38;5;241m.\u001b[39mcuda\u001b[38;5;241m.\u001b[39mStream\u001b[38;5;241m.\u001b[39mnull\u001b[38;5;241m.\u001b[39msynchronize()\n",
      "File \u001b[0;32mcupy/cuda/device.pyx:183\u001b[0m, in \u001b[0;36mcupy.cuda.device.Device.__enter__\u001b[0;34m()\u001b[0m\n",
      "File \u001b[0;32mcupy_backends/cuda/api/runtime.pyx:169\u001b[0m, in \u001b[0;36mcupy_backends.cuda.api.runtime.getDevice\u001b[0;34m()\u001b[0m\n",
      "File \u001b[0;32mcupy_backends/cuda/api/runtime.pyx:142\u001b[0m, in \u001b[0;36mcupy_backends.cuda.api.runtime.check_status\u001b[0;34m()\u001b[0m\n",
      "\u001b[0;31mCUDARuntimeError\u001b[0m: cudaErrorUnknown: unknown error"
     ]
    }
   ],
   "source": [
    "denoised_vol = filter(noisy_vol)"
   ]
  },
  {
   "cell_type": "code",
   "execution_count": 10,
   "id": "MHdosxsAhGpx",
   "metadata": {
    "id": "MHdosxsAhGpx"
   },
   "outputs": [],
   "source": [
    "import skimage.io"
   ]
  },
  {
   "cell_type": "code",
   "execution_count": null,
   "id": "wj0c8J4ifxay",
   "metadata": {
    "id": "wj0c8J4ifxay"
   },
   "outputs": [],
   "source": [
    "skimage.io.imsave(f\"denoised.tif\", denoised_vol, imagej=True)"
   ]
  },
  {
   "cell_type": "code",
   "execution_count": null,
   "id": "30uauv3yhWzK",
   "metadata": {
    "id": "30uauv3yhWzK"
   },
   "outputs": [],
   "source": [
    "%%bash\n",
    "ls -l"
   ]
  },
  {
   "cell_type": "code",
   "execution_count": null,
   "id": "06n_fvlkd4lr",
   "metadata": {
    "id": "06n_fvlkd4lr"
   },
   "outputs": [],
   "source": [
    "input()"
   ]
  },
  {
   "cell_type": "code",
   "execution_count": null,
   "id": "dc009976-75b1-4b32-a947-afb1e65ae086",
   "metadata": {
    "id": "dc009976-75b1-4b32-a947-afb1e65ae086"
   },
   "outputs": [],
   "source": [
    "# Load the images\n",
    "image1 = opticalflow3D.helpers.load_image(r\"E:\\data\\3DTFM\\test_set\\image1.tif\")\n",
    "image2 = opticalflow3D.helpers.load_image(r\"E:\\data\\3DTFM\\test_set\\image2.tif\")"
   ]
  },
  {
   "cell_type": "code",
   "execution_count": null,
   "id": "40767a8b-ac43-42ab-84b6-22ce13210fcf",
   "metadata": {
    "id": "40767a8b-ac43-42ab-84b6-22ce13210fcf"
   },
   "outputs": [],
   "source": [
    "# Realign the image manually to remove any drift during the acquisition of the image\n",
    "image1 = opticalflow3D.helpers.crop_image(image1, z_reverse=True, z_start=2, y_start=1, x_start=1)\n",
    "image2 = opticalflow3D.helpers.crop_image(image2, z_reverse=True, z_end=-2, y_end=-1, x_end=-1)"
   ]
  },
  {
   "cell_type": "code",
   "execution_count": null,
   "id": "a3a42ea3-2c56-4014-ad29-7a87e210bf39",
   "metadata": {
    "id": "a3a42ea3-2c56-4014-ad29-7a87e210bf39"
   },
   "outputs": [],
   "source": [
    "output_vz, output_vy, output_vx, output_confidence = farneback.calculate_flow(image1, image2,\n",
    "                                                                              start_point=(0, 300, 300),\n",
    "                                                                              total_vol=(512, 512, 512),\n",
    "                                                                              sub_volume=(350, 350, 350),\n",
    "                                                                              overlap=(64, 64, 64),\n",
    "                                                                              threadsperblock=(8, 8, 8),\n",
    "                                                                             )"
   ]
  },
  {
   "cell_type": "code",
   "execution_count": null,
   "id": "223a97ef-77d3-4941-8e7b-8566c983b44a",
   "metadata": {
    "id": "223a97ef-77d3-4941-8e7b-8566c983b44a"
   },
   "outputs": [],
   "source": [
    "opticalflow3D.helpers.save_displacements(\"vectors.npz\", output_vz, output_vy, output_vx)\n",
    "opticalflow3D.helpers.save_confidence(\"confidence.npz\", output_confidence)"
   ]
  },
  {
   "cell_type": "markdown",
   "id": "4fbbfaac-7b66-44ea-a781-d00504e27de8",
   "metadata": {
    "id": "4fbbfaac-7b66-44ea-a781-d00504e27de8"
   },
   "source": [
    "## Perform qualitative/quatitative assessment of vectors"
   ]
  },
  {
   "cell_type": "code",
   "execution_count": null,
   "id": "8f906185-7ac9-4a18-aff7-50f79590c523",
   "metadata": {
    "id": "8f906185-7ac9-4a18-aff7-50f79590c523"
   },
   "outputs": [],
   "source": [
    "import numpy as np\n",
    "import skimage.io\n",
    "import skimage.metrics"
   ]
  },
  {
   "cell_type": "code",
   "execution_count": null,
   "id": "1f722893-610c-466a-b80e-01ebeb199f25",
   "metadata": {
    "id": "1f722893-610c-466a-b80e-01ebeb199f25"
   },
   "outputs": [],
   "source": [
    "start_point=(0, 300, 300)\n",
    "total_vol=(512, 512, 512)\n",
    "cropped_image1 = image1[start_point[0]:start_point[0]+total_vol[0],\n",
    "                        start_point[1]:start_point[1]+total_vol[1],\n",
    "                        start_point[2]:start_point[2]+total_vol[2]]\n",
    "\n",
    "cropped_image2 = image2[start_point[0]:start_point[0]+total_vol[0],\n",
    "                        start_point[1]:start_point[1]+total_vol[1],\n",
    "                        start_point[2]:start_point[2]+total_vol[2]]"
   ]
  },
  {
   "cell_type": "code",
   "execution_count": null,
   "id": "e0fba0dd-436b-4779-93c5-8e5e828b683b",
   "metadata": {
    "id": "e0fba0dd-436b-4779-93c5-8e5e828b683b"
   },
   "outputs": [],
   "source": [
    "inverse_image = opticalflow3D.helpers.generate_inverse_image(cropped_image1, output_vx, output_vy, output_vz)"
   ]
  },
  {
   "cell_type": "code",
   "execution_count": null,
   "id": "c4be24ac-959a-4853-9089-0e0168ef2411",
   "metadata": {
    "id": "c4be24ac-959a-4853-9089-0e0168ef2411"
   },
   "outputs": [],
   "source": [
    "output_image = np.moveaxis(np.stack((inverse_image, cropped_image2)), 0, 1)\n",
    "skimage.io.imsave(f\"comparison_image.tif\", output_image, imagej=True)"
   ]
  },
  {
   "cell_type": "code",
   "execution_count": null,
   "id": "17accabc-858e-4557-97e4-cfc8773310a4",
   "metadata": {
    "id": "17accabc-858e-4557-97e4-cfc8773310a4"
   },
   "outputs": [],
   "source": [
    "nrmse = skimage.metrics.normalized_root_mse(cropped_image2, inverse_image)\n",
    "print(f\"Normalized root mse: {nrmse}\")"
   ]
  },
  {
   "cell_type": "code",
   "execution_count": null,
   "id": "929f1eae",
   "metadata": {
    "id": "929f1eae"
   },
   "outputs": [],
   "source": [
    "output_image = np.moveaxis(np.stack((inverse_image, cropped_image2)), 0, 1)\n",
    "skimage.io.imsave(f\"comparison_image.tif\", output_image, imagej=True)"
   ]
  },
  {
   "cell_type": "code",
   "execution_count": null,
   "id": "395314fc-ddd2-44f2-98ed-4995073e055b",
   "metadata": {
    "id": "395314fc-ddd2-44f2-98ed-4995073e055b"
   },
   "outputs": [],
   "source": []
  }
 ],
 "metadata": {
  "accelerator": "GPU",
  "colab": {
   "gpuType": "T4",
   "provenance": []
  },
  "kernelspec": {
   "display_name": "Python 3 (ipykernel)",
   "language": "python",
   "name": "python3"
  },
  "language_info": {
   "codemirror_mode": {
    "name": "ipython",
    "version": 3
   },
   "file_extension": ".py",
   "mimetype": "text/x-python",
   "name": "python",
   "nbconvert_exporter": "python",
   "pygments_lexer": "ipython3",
   "version": "3.10.12"
  }
 },
 "nbformat": 4,
 "nbformat_minor": 5
}
