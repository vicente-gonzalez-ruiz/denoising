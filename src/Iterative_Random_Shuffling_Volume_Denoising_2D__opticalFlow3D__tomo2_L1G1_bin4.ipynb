{
 "cells": [
  {
   "cell_type": "markdown",
   "id": "24a2b9b0-569f-4f0a-a83c-7ab9c893b3a4",
   "metadata": {},
   "source": [
    "# Optical Flow Random Shaking Iterative Volume Denoising by Slices"
   ]
  },
  {
   "cell_type": "code",
   "execution_count": null,
   "id": "f76ce7eb-2add-4885-a483-59c29743cfff",
   "metadata": {},
   "outputs": [],
   "source": [
    "local_debug = True"
   ]
  },
  {
   "cell_type": "code",
   "execution_count": null,
   "id": "7be42efa-1e36-4eb8-8d10-5d5f7e7e47d3",
   "metadata": {},
   "outputs": [],
   "source": [
    "try:\n",
    "    import google.colab\n",
    "    IN_COLAB = True\n",
    "except:\n",
    "    IN_COLAB = False\n",
    "\n",
    "if IN_COLAB:\n",
    "    print(\"Running in Colab\")\n",
    "    !pip install cupy-cuda12x\n",
    "    !pip install opticalflow3D\n",
    "    !apt install libcudart11.0\n",
    "    !apt install libcublas11\n",
    "    !apt install libcufft10\n",
    "    !apt install libcusparse11\n",
    "    !apt install libnvrtc11.2\n",
    "    from google.colab import drive\n",
    "    drive.mount('/content/drive')\n",
    "    !cp drive/Shareddrives/TomogramDenoising/tomograms/{vol_name}.tif .\n",
    "else:\n",
    "    print(\"Running in locahost\")\n",
    "    !cp ~/Downloads/{vol_name}.tif ."
   ]
  },
  {
   "cell_type": "code",
   "execution_count": null,
   "id": "2a9f2718-d2d2-4d2b-bf30-bfa5388c65e2",
   "metadata": {},
   "outputs": [],
   "source": [
    "%matplotlib inline\n",
    "import matplotlib.pyplot as plt\n",
    "from matplotlib.pyplot import figure"
   ]
  },
  {
   "cell_type": "code",
   "execution_count": null,
   "id": "dc83b56c-5306-4d93-b2d0-f1878ee2a087",
   "metadata": {},
   "outputs": [],
   "source": [
    "#import denoising.image.OF_random as denoising"
   ]
  },
  {
   "cell_type": "code",
   "execution_count": null,
   "id": "ee47cdc6-8585-472d-9e2b-cb70a4e6a48a",
   "metadata": {},
   "outputs": [],
   "source": [
    "from motion_estimation._2D.farneback_OpenCV import Estimator_in_CPU as Estimator\n",
    "from motion_estimation._2D.project import project"
   ]
  },
  {
   "cell_type": "code",
   "execution_count": null,
   "id": "a3554ddb-de53-4ac6-a102-01c526f3fa24",
   "metadata": {
    "id": "a3554ddb-de53-4ac6-a102-01c526f3fa24"
   },
   "outputs": [],
   "source": [
    "#import opticalflow3D\n",
    "#import warnings\n",
    "#from numba.core.errors import NumbaPerformanceWarning\n",
    "#import numpy as np\n",
    "\n",
    "#warnings.filterwarnings(\"ignore\", category=NumbaPerformanceWarning)"
   ]
  },
  {
   "cell_type": "code",
   "execution_count": null,
   "id": "01440732-ffbe-474e-b3f9-82d3023af5bb",
   "metadata": {},
   "outputs": [],
   "source": [
    "if local_debug:\n",
    "    !ln -sf ../../information_theory/src/information_theory/ .\n",
    "else:\n",
    "    !pip install \"information_theory @ git+https://github.com/vicente-gonzalez-ruiz/information_theory\"\n",
    "import information_theory  # pip install \"information_theory @ git+https://github.com/vicente-gonzalez-ruiz/information_theory\""
   ]
  },
  {
   "cell_type": "code",
   "execution_count": null,
   "id": "e63762aa-acc9-4e7c-a855-92fe59fb2900",
   "metadata": {},
   "outputs": [],
   "source": [
    "import skimage.io"
   ]
  },
  {
   "cell_type": "code",
   "execution_count": null,
   "id": "f42f9a05-5afd-47f4-854f-e25b9b3391b8",
   "metadata": {},
   "outputs": [],
   "source": [
    "import numpy as np"
   ]
  },
  {
   "cell_type": "code",
   "execution_count": null,
   "id": "b0a1f107-f547-4908-90bd-b41e95f29522",
   "metadata": {},
   "outputs": [],
   "source": [
    "import logging\n",
    "logging.basicConfig(format=\"[%(filename)s:%(lineno)s %(funcName)s()] %(message)s\")\n",
    "logger = logging.getLogger(__name__)\n",
    "logger.setLevel(logging.INFO)"
   ]
  },
  {
   "cell_type": "code",
   "execution_count": null,
   "id": "4834c100-f071-45d4-8d2a-481d7be08066",
   "metadata": {},
   "outputs": [],
   "source": [
    "from collections import namedtuple\n",
    "Args = namedtuple(\"args\", [\"input\", \"output\"])\n",
    "args = Args(\"/home/vruiz/cryoCARE/tomo2_L1G1_bin4.rec\", \"denoised\")"
   ]
  },
  {
   "cell_type": "code",
   "execution_count": null,
   "id": "50e62339-6d79-4689-b369-53cb3a8f59c7",
   "metadata": {},
   "outputs": [],
   "source": [
    "import time"
   ]
  },
  {
   "cell_type": "code",
   "execution_count": null,
   "id": "4aa52942-efb3-4ad4-8975-dbe700f0d022",
   "metadata": {},
   "outputs": [],
   "source": [
    "import cv2"
   ]
  },
  {
   "cell_type": "code",
   "execution_count": null,
   "id": "462200e1-3a39-4999-b39d-4a0179e0db09",
   "metadata": {},
   "outputs": [],
   "source": [
    "import threading"
   ]
  },
  {
   "cell_type": "code",
   "execution_count": null,
   "id": "6b240e43-db9a-4f2b-b413-30e10ce81b74",
   "metadata": {},
   "outputs": [],
   "source": [
    "import mrcfile\n",
    "stack_MRC = mrcfile.open(args.input)\n",
    "noisy = stack_MRC.data"
   ]
  },
  {
   "cell_type": "markdown",
   "id": "bd839872-5f56-4911-abdb-f35adda013b3",
   "metadata": {},
   "source": [
    "%%bash -s \"$args.input\"\n",
    "set -x\n",
    "OUTPUT_FILENAME=$1\n",
    "#rm -f $OUTPUT_FILENAME\n",
    "if test ! -f $OUTPUT_FILENAME ; then\n",
    "    FILEID=\"1I2uIfM00ZNeMjYy4OeZ4hSO-bxpE3oZb\"\n",
    "    gdown https://drive.google.com/uc?id=$FILEID\n",
    "fi\n",
    "set +x\n",
    "# https://drive.google.com/file/d/1I2uIfM00ZNeMjYy4OeZ4hSO-bxpE3oZb/view?usp=sharing"
   ]
  },
  {
   "cell_type": "markdown",
   "id": "305edbd0-490a-409a-9f4c-687d295c64e6",
   "metadata": {
    "id": "I6Fx1j23clAd"
   },
   "source": [
    "noisy = opticalflow3D.helpers.load_image(args.input)"
   ]
  },
  {
   "cell_type": "code",
   "execution_count": null,
   "id": "2f646e91-6da3-4d20-8e50-7890de42135b",
   "metadata": {},
   "outputs": [],
   "source": [
    "np.min(noisy)"
   ]
  },
  {
   "cell_type": "code",
   "execution_count": null,
   "id": "f9a2cb8a-cda2-49d0-beea-00380f4f8c69",
   "metadata": {},
   "outputs": [],
   "source": [
    "np.max(noisy)"
   ]
  },
  {
   "cell_type": "code",
   "execution_count": null,
   "id": "b50e60f7-cb24-49d1-9a59-fd64ba4f4e06",
   "metadata": {},
   "outputs": [],
   "source": [
    "#noisy = (255*(noisy.astype(np.float32) - np.min(noisy))/(np.max(noisy) - np.min(noisy))).astype(np.uint8)\n",
    "noisy = (255*(noisy.astype(np.float32) - np.min(noisy))/(np.max(noisy) - np.min(noisy))).astype(np.float32)"
   ]
  },
  {
   "cell_type": "code",
   "execution_count": null,
   "id": "847adedf-f639-48a4-a122-c6a208c237de",
   "metadata": {},
   "outputs": [],
   "source": [
    "np.min(noisy)"
   ]
  },
  {
   "cell_type": "code",
   "execution_count": null,
   "id": "4e6e4253-4ce1-4570-b15c-08168b503b71",
   "metadata": {},
   "outputs": [],
   "source": [
    "np.max(noisy)"
   ]
  },
  {
   "cell_type": "code",
   "execution_count": null,
   "id": "49482575-4a21-4de7-aada-fe637eb2a1d6",
   "metadata": {},
   "outputs": [],
   "source": [
    "#noisy = noisy[230:250, 450:760, 210:510]\n",
    "noisy = noisy[180:220, 400:800, 200:600]"
   ]
  },
  {
   "cell_type": "code",
   "execution_count": null,
   "id": "a1023a3c-ec88-42fa-9283-6b25bb8cd2ff",
   "metadata": {},
   "outputs": [],
   "source": [
    "fig, axs = plt.subplots(1, 1, figsize=(16, 16))\n",
    "axs.imshow(noisy[:, ::-1, :][10], cmap=\"gray\")\n",
    "axs.set_title(f\"Noisy\")\n",
    "fig.tight_layout()\n",
    "plt.show()"
   ]
  },
  {
   "cell_type": "code",
   "execution_count": null,
   "id": "de188628-fa34-41d3-b379-5e999ae4625f",
   "metadata": {},
   "outputs": [],
   "source": [
    "noisy.shape"
   ]
  },
  {
   "cell_type": "code",
   "execution_count": null,
   "id": "ccad02ac-8cf1-4017-afe1-a68d3b42e1a1",
   "metadata": {},
   "outputs": [],
   "source": [
    "PYRAMID_LEVELS = 3\n",
    "WINDOW_SIDE = 5\n",
    "NUM_ITERATIONS = 5\n",
    "N_POLY = 5\n",
    "#POLY_SIGMA = 1.2\n",
    "PYR_SCALE = 0.5\n",
    "\n",
    "#class Estimator_in_CPU(logging.Logger):\n",
    "class Estimator(logging.Logger):\n",
    "    \n",
    "    def __init__(\n",
    "        self,\n",
    "        pyr_levels=PYRAMID_LEVELS,\n",
    "        pyr_scale=PYR_SCALE,\n",
    "        win_side=WINDOW_SIDE,      # Applicability window side\n",
    "        num_iters=NUM_ITERATIONS,  # Number of iterations at each pyramid level\n",
    "        #sigma_poly=POLY_SIGMA,     \n",
    "        sigma_N=N_POLY,            \n",
    "        logging_level=logging.INFO\n",
    "    ):\n",
    "        self.logger = logging.getLogger(__name__)\n",
    "        self.pyr_levels = pyr_levels\n",
    "        self.pyr_scale = pyr_scale\n",
    "        self.win_side = win_side\n",
    "        self.num_iters = num_iters\n",
    "        #self.sigma_poly = sigma_poly\n",
    "        self.N_poly = N_POLY\n",
    "        self.flags = 0\n",
    "        logger.setLevel(logging_level)\n",
    "        \n",
    "        for attr, value in vars(self).items():\n",
    "            logger.debug(f\"{attr}: {value}\")\n",
    "\n",
    "        if logger.getEffectiveLevel() <= logging.INFO:\n",
    "            self.running_time = 0\n",
    "            self.total_running_time = 0\n",
    "\n",
    "    def get_times(self):\n",
    "        return self.running_time\n",
    "\n",
    "    def use_previuos_flow():\n",
    "        self.flags |= cv2.OPTFLOW_USE_INITIAL_FLOW\n",
    "\n",
    "    def use_gaussian_applicability():\n",
    "        self.flags |= cv2.OPTFLOW_FARNEBACK_GAUSSIAN\n",
    "\n",
    "    def pyramid_get_flow(\n",
    "        self,\n",
    "        target,\n",
    "        reference,\n",
    "        flow=None\n",
    "    ):\n",
    "\n",
    "        if self.logger.getEffectiveLevel() <= logging.INFO:\n",
    "            time_0 = time.perf_counter()\n",
    "\n",
    "        sigma_poly = (self.N_poly - 1)/4 # Standard deviation of the Gaussian basis used in the polynomial expansion\n",
    "        self.logger.debug(f\"sigma_poly={sigma_poly}\")\n",
    "        #print(target.shape, reference.shape, flow, target.dtype, reference.dtype)\n",
    "        flow = cv2.calcOpticalFlowFarneback(\n",
    "            prev=target,\n",
    "            next=reference,\n",
    "            flow=flow,\n",
    "            pyr_scale=self.pyr_scale,\n",
    "            levels=self.pyr_levels,\n",
    "            winsize=self.win_side,\n",
    "            iterations=self.num_iters,\n",
    "            poly_n=self.N_poly,\n",
    "            poly_sigma=sigma_poly,\n",
    "            flags=self.flags)\n",
    "\n",
    "        if self.logger.getEffectiveLevel() <= logging.INFO:\n",
    "            time_1 = time.perf_counter()\n",
    "            last_running_time = time_1 - time_0\n",
    "            self.total_running_time += last_running_time\n",
    "\n",
    "        self.logger.debug(f\"avg_OF={np.average(np.abs(flow)):4.2f}\")\n",
    "\n",
    "        return flow\n"
   ]
  },
  {
   "cell_type": "code",
   "execution_count": null,
   "id": "f7676e22-3d7f-4f69-a43b-8d20d47f3efe",
   "metadata": {},
   "outputs": [],
   "source": [
    "self_max = 0\n",
    "self_min = 0\n",
    "#self_avg = 0\n",
    "\n",
    "def shake_vector(x, std_dev=1.0):\n",
    "  y = np.arange(len(x))\n",
    "  displacements = np.random.normal(0, std_dev, len(x))\n",
    "  #print(f\"{np.min(displacements):.2f} {np.average(np.abs(displacements)):.2f} {np.max(displacements):.2f}\", end=' ')\n",
    "  global self_max, self_min, self_avg\n",
    "  _min = np.min(displacements)\n",
    "  #_avg = np.average(np.abs(displacements))\n",
    "  _max = np.max(displacements)\n",
    "  if _min < self_min:\n",
    "      self_min = _min\n",
    "  if _max > self_max:\n",
    "      self_max = _max\n",
    "  #if _avg < self_avg:\n",
    "  #    self_avg = _avg\n",
    "  return np.stack((y + displacements, x), axis=1)\n",
    "\n",
    "def shake_slice(slice, mean=0.0, std_dev=1.0):\n",
    "    global self_max, self_min, self_avg\n",
    "    print(slice.shape)\n",
    "    print(std_dev)\n",
    "    shaked_slice = np.empty_like(slice)\n",
    "\n",
    "    # Randomization in Y\n",
    "    values = np.arange(slice.shape[0]).astype(np.int16)\n",
    "    for x in range(slice.shape[1]):\n",
    "        #print(x, end=' ')\n",
    "        pairs = shake_vector(values, std_dev).astype(np.int16)\n",
    "        pairs = pairs[pairs[:, 0].argsort()]\n",
    "        shaked_slice[values, x] = slice[pairs[:, 1], x]\n",
    "    slice = np.copy(shaked_slice)\n",
    "\n",
    "    # Randomization in X\n",
    "    values = np.arange(slice.shape[1]).astype(np.int16)\n",
    "    for y in range(slice.shape[0]):\n",
    "        #print(y, end=' ')\n",
    "        pairs = shake_vector(values, std_dev).astype(np.int16)\n",
    "        pairs = pairs[pairs[:, 0].argsort()]\n",
    "        shaked_slice[y, values] = slice[y, pairs[:, 1]]\n",
    "\n",
    "    print(f\"\\nmin={self_min} max={self_max}\")\n",
    "    return shaked_slice\n",
    "\n",
    "def project_slice_A_to_B(farneback, A, B):\n",
    "    #flow = self.get_flow_to_project_A_to_B(A, B)\n",
    "    flow = farneback.pyramid_get_flow(target=B, reference=A, flow=None)\n",
    "    print(f\"{np.min(flow)} {np.average(np.abs(flow))} {np.max(flow)}\")\n",
    "    projection = project(logger, image=A, flow=flow)\n",
    "    return projection\n",
    "\n",
    "def filter_slice(farneback, noisy_slice, denoised_slice, RS_sigma, RS_mean):\n",
    "    global self_max, self_min\n",
    "    self_max = 0\n",
    "    self_min = 0\n",
    "    shaked_noisy_slice = shake_slice(noisy_slice, mean=RS_mean, std_dev=RS_sigma)\n",
    "    shaked_and_compensated_noisy_slice = project_slice_A_to_B(farneback, A=denoised_slice, B=shaked_noisy_slice)\n",
    "    return shaked_and_compensated_noisy_slice\n",
    "\n",
    "def filter_vol(farneback, noisy_vol, N_iters=25, RS_sigma=2.0, RS_mean=0.0):\n",
    "    acc_vol = np.zeros_like(noisy_vol, dtype=np.float32)\n",
    "    acc_vol[...] = noisy_vol\n",
    "    for i in range(N_iters):\n",
    "        print(f\"iter={i}\")\n",
    "        denoised_vol = acc_vol/(i+1)\n",
    "        for z in range(noisy_vol.shape[0]):\n",
    "            print(f\"z={z}\", end=' ')\n",
    "            acc_vol[z, :, :] += filter_slice(farneback, noisy_vol[z, :, :], denoised_vol[z, :, :], RS_sigma, RS_mean)\n",
    "        for y in range(noisy_vol.shape[1]):\n",
    "            print(f\"y={y}\", end=' ')\n",
    "            acc_vol[:, y, :] += filter_slice(farneback, noisy_vol[:, y, :], denoised_vol[:, y, :], RS_sigma, RS_mean)\n",
    "        for x in range(noisy_vol.shape[2]):\n",
    "            print(f\"x={x}\", end=' ')\n",
    "            acc_vol[:, :, x] += filter_slice(farneback, noisy_vol[:, :, x], denoised_vol[:, :, x], RS_sigma, RS_mean)\n",
    "    denoised_vol = acc_vol/(N_iters + 1)\n",
    "    return denoised_vol"
   ]
  },
  {
   "cell_type": "code",
   "execution_count": null,
   "id": "e9391b3a-b011-431e-b74a-23df37cc6ac1",
   "metadata": {},
   "outputs": [],
   "source": [
    "#from motion_estimation._2D.farneback_OpenCV import Estimator_in_CPU as OF_Estimator\n",
    "\n",
    "PYRAMID_LEVELS = 3\n",
    "WINDOW_SIDE = 5\n",
    "ITERATIONS = 5\n",
    "N_POLY = 5\n",
    "#POLY_SIGMA = 1.2\n",
    "PYR_SCALE = 0.5\n",
    "\n",
    "class OF_Estimation(logging.Logger):\n",
    "    \n",
    "    def __init__(\n",
    "        self,      \n",
    "        logging_level=logging.INFO\n",
    "    ):\n",
    "        self.logger = logging.getLogger(__name__)\n",
    "        #self.flags = 0\n",
    "        self.logger.setLevel(logging_level)\n",
    "        \n",
    "        for attr, value in vars(self).items():\n",
    "            self.logger.debug(f\"{attr}: {value}\")\n",
    "\n",
    "    def pyramid_get_flow(\n",
    "        self,\n",
    "        target,\n",
    "        reference,\n",
    "        flow=None,\n",
    "        pyramid_levels=PYRAMID_LEVELS, # Number of pyramid layers\n",
    "        window_side=WINDOW_SIDE,       # Applicability window side\n",
    "        iterations=ITERATIONS,         # Number of iterations at each pyramid level\n",
    "        N_poly=N_POLY,                 # Standard deviation of the Gaussian basis used in the polynomial expansion\n",
    "        flags=0                        # cv2.OPTFLOW_USE_INITIAL_FLOW | cv2.OPTFLOW_FARNEBACK_GAUSSIAN\n",
    "    ):\n",
    "\n",
    "        sigma_poly = (N_poly - 1)/4 # Standard deviation of the Gaussian basis used in the polynomial expansion\n",
    "        self.logger.debug(f\"sigma_poly={sigma_poly}\")\n",
    "        #print(target.shape, reference.shape, flow, target.dtype, reference.dtype)\n",
    "        flow = cv2.calcOpticalFlowFarneback(\n",
    "            prev=target,\n",
    "            next=reference,\n",
    "            flow=flow,\n",
    "            pyr_scale=0.5,\n",
    "            levels=pyramid_levels,\n",
    "            winsize=window_side,\n",
    "            iterations=iterations,\n",
    "            poly_n=N_poly,\n",
    "            poly_sigma=sigma_poly,\n",
    "            flags=flags)\n",
    "\n",
    "        return flow\n",
    "        \n",
    "class Slice_Projection(logging.Logger):\n",
    "    \n",
    "    def __init__(\n",
    "        self,\n",
    "        logging_level=logging.INFO\n",
    "    ):\n",
    "        self.logger = logging.getLogger(__name__)\n",
    "        self.logger.setLevel(logging_level)\n",
    "\n",
    "    def remap(self, slice, flow, interpolation_mode=cv2.INTER_LINEAR, extension_mode=cv2.BORDER_REPLICATE):\n",
    "        height, width = flow.shape[:2]\n",
    "        map_x = np.tile(np.arange(width), (height, 1))\n",
    "        map_y = np.swapaxes(np.tile(np.arange(height), (width, 1)), 0, 1)\n",
    "        map_xy = (flow + np.dstack((map_x, map_y))).astype('float32')\n",
    "        projection = cv2.remap(\n",
    "            slice,\n",
    "            map_xy,\n",
    "            None,\n",
    "            interpolation=interpolation_mode,\n",
    "            borderMode=extension_mode)\n",
    "        return projection\n",
    "\n",
    "    def add_coordinates(flow, target):\n",
    "        return flow + np.moveaxis(np.indices(target.shape), 0, -1)\n",
    " \n",
    "class Random_Shaking_Denoising(OF_Estimation, Slice_Projection):\n",
    "    def __init__(\n",
    "        self,\n",
    "        logging_level=logging.INFO\n",
    "    ):\n",
    "        OF_Estimation.__init__(self, logging_level)\n",
    "        Slice_Projection.__init__(self, logging_level)\n",
    "        self.logger = logging.getLogger(__name__)\n",
    "        self.logger.setLevel(logging_level)\n",
    "        if self.logger.getEffectiveLevel() <= logging.INFO:\n",
    "            self.max = 0\n",
    "            self.min = 0\n",
    "        print(f\"{'iter':>5s}\", end='')\n",
    "        print(f\"{'min_shaking':>15s}\", end='')\n",
    "        print(f\"{'max_shaking':>15s}\", end='')\n",
    "        print(f\"{'min_flow':>15s}\", end='')\n",
    "        print(f\"{'avg_abs_flow':>15s}\", end='')\n",
    "        print(f\"{'max_flow':>15s}\", end='')\n",
    "        print(f\"{'time':>15s}\", end='')\n",
    "        print()\n",
    "\n",
    "        self.stop_event = threading.Event()\n",
    "        self.logger_daemon = threading.Thread(target=self.show_log)\n",
    "        self.logger_daemon.daemon = True\n",
    "        self.time_0 = time.perf_counter()\n",
    "        self.logger_daemon.start()\n",
    "\n",
    "    def show_log(self):\n",
    "        #while not self.stop_event.is_set():\n",
    "        while self.stop_event.wait():\n",
    "            time_1 = time.perf_counter()\n",
    "            running_time = time_1 - self.time_0\n",
    "            print(f\"{self.iter:>5d}\", end='')\n",
    "            print(f\"{np.min(self.displacements):>15.2f}\", end='')\n",
    "            print(f\"{np.max(self.displacements):>15.2f}\", end='')\n",
    "            print(f\"{np.min(self.flow):>15.2f}\", end='')\n",
    "            print(f\"{np.average(np.abs(self.flow)):>15.2f}\", end='')\n",
    "            print(f\"{np.max(self.flow):>15.2f}\", end='')\n",
    "            print(f\"{running_time:>15.2f}\", end='')\n",
    "            print()\n",
    "            self.stop_event.clear()\n",
    "            self.time_0 = time.perf_counter()\n",
    "\n",
    "    def shake_vector(self, x, mean=0.0, std_dev=1.0):\n",
    "        y = np.arange(len(x))\n",
    "        self.displacements = np.random.normal(mean, std_dev, len(x))\n",
    "        return np.stack((y + self.displacements, x), axis=1)\n",
    "\n",
    "    def shake_slice(self, slc, mean=0.0, std_dev=1.0):\n",
    "        shaked_slice = np.empty_like(slc)\n",
    "    \n",
    "        # Shaking in Y\n",
    "        values = np.arange(slc.shape[0]).astype(np.int16)\n",
    "        for x in range(slc.shape[1]):\n",
    "            pairs = self.shake_vector(x=values, mean=mean, std_dev=std_dev).astype(np.int16)\n",
    "            pairs = pairs[pairs[:, 0].argsort()]\n",
    "            shaked_slice[values, x] = slc[pairs[:, 1], x]\n",
    "        slc = shaked_slice\n",
    "    \n",
    "        # Shaking in X\n",
    "        values = np.arange(slc.shape[1]).astype(np.int16)\n",
    "        for y in range(slc.shape[0]):\n",
    "            pairs = self.shake_vector(x=values, mean=mean, std_dev=std_dev).astype(np.int16)\n",
    "            pairs = pairs[pairs[:, 0].argsort()]\n",
    "            shaked_slice[y, values] = slc[y, pairs[:, 1]]\n",
    "    \n",
    "        return shaked_slice\n",
    "\n",
    "    def project_slice_reference_to_target(self, reference, target, pyramid_levels, window_side, iterations, N_poly, interpolation_mode, extension_mode):\n",
    "        self.flow = self.pyramid_get_flow(\n",
    "            target=target,\n",
    "            reference=reference,\n",
    "            flow=None,\n",
    "            pyramid_levels=pyramid_levels,\n",
    "            window_side=window_side,\n",
    "            iterations=iterations,\n",
    "            N_poly=N_poly)\n",
    "        projection = self.remap(reference, self.flow, interpolation_mode, extension_mode)\n",
    "        return projection\n",
    "\n",
    "    def filter_slice(self, noisy_slice, denoised_slice, mean, std_dev, pyramid_levels, window_side, iterations, N_poly, interpolation_mode, extension_mode):\n",
    "        shaked_noisy_slice = self.shake_slice(slc=noisy_slice, mean=mean, std_dev=std_dev)\n",
    "        \n",
    "        shaked_and_compensated_noisy_slice = self.project_slice_reference_to_target(\n",
    "            reference=denoised_slice,\n",
    "            target=shaked_noisy_slice,\n",
    "            pyramid_levels=pyramid_levels,\n",
    "            window_side=window_side,\n",
    "            iterations=iterations,\n",
    "            N_poly=N_poly,\n",
    "            interpolation_mode=interpolation_mode,\n",
    "            extension_mode=extension_mode)\n",
    "        return shaked_and_compensated_noisy_slice\n",
    "\n",
    "    def filter_vol(\n",
    "        self,\n",
    "        noisy_vol,\n",
    "        N_iters=25,\n",
    "        mean=0.0,\n",
    "        std_dev=1.0,\n",
    "        pyramid_levels=3,\n",
    "        window_side=5,\n",
    "        iterations=2,\n",
    "        N_poly=5,\n",
    "        interpolation_mode=cv2.INTER_LINEAR,\n",
    "        extension_mode=cv2.BORDER_REPLICATE\n",
    "    ):\n",
    "        acc_vol = np.zeros_like(noisy_vol, dtype=np.float32)\n",
    "        acc_vol[...] = noisy_vol\n",
    "        for i in range(N_iters):\n",
    "            self.iter = i\n",
    "            denoised_vol = acc_vol/(i+1)\n",
    "\n",
    "            for z in range(noisy_vol.shape[0]):\n",
    "                acc_vol[z, :, :] += self.filter_slice(\n",
    "                    noisy_slice=noisy_vol[z, :, :],\n",
    "                    denoised_slice=denoised_vol[z, :, :],\n",
    "                    mean=mean,\n",
    "                    std_dev=std_dev,\n",
    "                    pyramid_levels=pyramid_levels,\n",
    "                    window_side=window_side,\n",
    "                    iterations=iterations,\n",
    "                    N_poly=N_poly,\n",
    "                    interpolation_mode=interpolation_mode,\n",
    "                    extension_mode=extension_mode)\n",
    "            self.stop_event.set()\n",
    "\n",
    "            for y in range(noisy_vol.shape[1]):\n",
    "                acc_vol[:, y, :] += self.filter_slice(\n",
    "                    noisy_slice=noisy_vol[:, y, :],\n",
    "                    denoised_slice=denoised_vol[:, y, :],\n",
    "                    mean=mean,\n",
    "                    std_dev=std_dev,\n",
    "                    pyramid_levels=pyramid_levels,\n",
    "                    window_side=window_side,\n",
    "                    iterations=iterations,\n",
    "                    N_poly=N_poly,\n",
    "                    interpolation_mode=interpolation_mode,\n",
    "                    extension_mode=extension_mode)\n",
    "            self.stop_event.set()\n",
    "\n",
    "            for x in range(noisy_vol.shape[2]):\n",
    "                acc_vol[:, :, x] += self.filter_slice(\n",
    "                    noisy_slice=noisy_vol[:, :, x],\n",
    "                    denoised_slice=denoised_vol[:, :, x],\n",
    "                    mean=mean,\n",
    "                    std_dev=std_dev,\n",
    "                    pyramid_levels=pyramid_levels,\n",
    "                    window_side=window_side,\n",
    "                    iterations=iterations,\n",
    "                    N_poly=N_poly,\n",
    "                    interpolation_mode=interpolation_mode,\n",
    "                    extension_mode=extension_mode)\n",
    "            self.stop_event.set()\n",
    "\n",
    "        denoised_vol = acc_vol/(N_iters + 1)\n",
    "        return denoised_vol"
   ]
  },
  {
   "cell_type": "code",
   "execution_count": null,
   "id": "a5724f76-9f39-4b2a-b4cd-de5e74454260",
   "metadata": {},
   "outputs": [],
   "source": []
  },
  {
   "cell_type": "code",
   "execution_count": null,
   "id": "575f9b82-658f-4f6c-88ac-b1d4fcad60f3",
   "metadata": {},
   "outputs": [],
   "source": [
    "RS_std_dev = 1.0\n",
    "N_iters = 25"
   ]
  },
  {
   "cell_type": "code",
   "execution_count": null,
   "id": "7a25eaf5-2c00-42ef-89a2-bdf555248fc7",
   "metadata": {
    "scrolled": true
   },
   "outputs": [],
   "source": [
    "denoiser = Random_Shaking_Denoising()\n",
    "denoised = denoiser.filter_volume(noisy, std_dev=RS_std_dev, N_iters=N_iters)"
   ]
  },
  {
   "cell_type": "code",
   "execution_count": null,
   "id": "91aIEXpSc5ez",
   "metadata": {
    "colab": {
     "base_uri": "https://localhost:8080/",
     "height": 1000
    },
    "id": "91aIEXpSc5ez",
    "outputId": "6e1f085e-8567-4eb8-9c13-13171cead177",
    "scrolled": true
   },
   "outputs": [],
   "source": [
    "#denoised = RSIVD.filter(farneback, block_size, noisy, RS_sigma=RS_sigma, N_iters=N_iters)\n",
    "farneback = Estimator(pyr_levels=3, pyr_scale=0.5, win_side=5, num_iters=2, sigma_N=5, logging_level=logging.INFO)\n",
    "denoised = filter_vol(farneback, noisy, RS_sigma=RS_sigma, N_iters=N_iters)"
   ]
  },
  {
   "cell_type": "code",
   "execution_count": null,
   "id": "f19fa3be-d8a8-4f49-a194-05f763dbe934",
   "metadata": {},
   "outputs": [],
   "source": [
    "fig, axs = plt.subplots(1, 2, figsize=(32, 64))\n",
    "#axs[0].imshow(noisy[:, ::-1, :][210][400:800, 200:600], cmap=\"gray\")\n",
    "axs[0].imshow(noisy[:, ::-1, :][10], cmap=\"gray\")\n",
    "axs[0].set_title(f\"Noisy\")\n",
    "#axs[1].imshow(denoised[:, ::-1, :][210][400:800, 200:600], cmap=\"gray\")\n",
    "axs[1].imshow(denoised[:, ::-1, :][10], cmap=\"gray\")\n",
    "axs[1].set_title(f\"Denoised (DQI={information_theory.information.compute_quality_index(noisy[16], denoised[16])})\")\n",
    "fig.tight_layout()\n",
    "plt.show()"
   ]
  },
  {
   "cell_type": "code",
   "execution_count": null,
   "id": "07144f25-b075-4bc7-b602-869a81706f71",
   "metadata": {},
   "outputs": [],
   "source": [
    "fig, axs = plt.subplots(1, 2, figsize=(16, 32))\n",
    "axs[0].imshow(noisy[10], cmap=\"gray\")\n",
    "axs[0].set_title(f\"Noisy\")\n",
    "axs[1].imshow(cryo[80+10, 150:300, 150:300], cmap=\"gray\")\n",
    "axs[1].set_title(f\"cryoCARE (DQI={information_theory.information.compute_quality_index(noisy[10], cryo[80+10, 150:300, 150:300])})\")\n",
    "fig.tight_layout()\n",
    "plt.show()"
   ]
  },
  {
   "cell_type": "markdown",
   "id": "68ea9f15-b552-454f-a738-63beed127d01",
   "metadata": {},
   "source": [
    "fig, axs = plt.subplots(1, 2, figsize=(16, 32))\n",
    "axs[0].imshow(noisy[131][300:,300:], cmap=\"gray\")\n",
    "axs[0].set_title(f\"Noisy\")\n",
    "axs[1].imshow(denoised[131][300:,300:], cmap=\"gray\")\n",
    "axs[1].set_title(f\"Denoised (DQI={information_theory.information.compute_quality_index(noisy[131][300:,300:], denoised[131][300:,300:])}\")\n",
    "fig.tight_layout()\n",
    "plt.show()"
   ]
  },
  {
   "cell_type": "markdown",
   "id": "cdee3dc3-233b-400c-8052-0941562fe0c0",
   "metadata": {},
   "source": [
    "fig, axs = plt.subplots(1, 2, figsize=(16, 32))\n",
    "axs[0].imshow(noisy[:, 100], cmap=\"gray\")\n",
    "axs[0].set_title(f\"Noisy\")\n",
    "axs[1].imshow(denoised[:, 100], cmap=\"gray\")\n",
    "axs[1].set_title(f\"Denoised (DQI={information_theory.information.compute_quality_index(noisy[:, 100], denoised[:, 100])})\")\n",
    "fig.tight_layout()\n",
    "plt.show()"
   ]
  },
  {
   "cell_type": "markdown",
   "id": "2de23991-2814-4303-bcf7-3eeb06da8081",
   "metadata": {},
   "source": [
    "figure(figsize=(32, 32))\n",
    "plt.subplot(1, 3, 1)\n",
    "plt.title(\"original\")\n",
    "imgplot = plt.imshow(noisy[137][::-1, :], cmap=\"gray\")\n",
    "plt.subplot(1, 3, 2)\n",
    "plt.title(\"$\\sigma_\\mathrm{RS}=$\"+f\"{RS_sigma}\")\n",
    "plt.imshow(denoised[137][::-1, :], cmap=\"gray\")\n",
    "plt.subplot(1, 3, 3)\n",
    "plt.title(\"difference\")\n",
    "plt.imshow(noisy[137][::-1, :] - denoised[137][::-1, :], cmap=\"gray\")"
   ]
  },
  {
   "cell_type": "code",
   "execution_count": null,
   "id": "4c289e6a-a45d-4dd2-aecb-2e43c4fd9a0c",
   "metadata": {},
   "outputs": [],
   "source": [
    "print(f\"{args.output}_{RS_std_dev}_{N_iters}.mrc\")\n",
    "with mrcfile.new(f\"{args.output}_{RS_std_dev}_{N_iters}.mrc\", overwrite=True) as mrc:\n",
    "            mrc.set_data(denoised.astype(np.float32))\n",
    "            mrc.data\n",
    "skimage.io.imsave(f\"{args.output}_{RS_std_dev}_{N_iters}.tif\", denoised, imagej=True)"
   ]
  },
  {
   "cell_type": "code",
   "execution_count": null,
   "id": "bc9668df-c7ff-4074-9e99-ea97dd85a57c",
   "metadata": {},
   "outputs": [],
   "source": [
    "import logging\n",
    "logging.basicConfig(format=\"[%(filename)s:%(lineno)s %(funcName)s()] %(message)s\")\n",
    "logger = logging.getLogger(__name__)\n",
    "logger.setLevel(logging.INFO)"
   ]
  },
  {
   "cell_type": "code",
   "execution_count": null,
   "id": "9768d6d7-93bb-4006-b6c8-53751a5430d6",
   "metadata": {},
   "outputs": [],
   "source": [
    "import denoising.image.OF_random as denoising"
   ]
  },
  {
   "cell_type": "code",
   "execution_count": null,
   "id": "b0676ce9-2866-451b-97d9-ca8f2fb137b7",
   "metadata": {},
   "outputs": [],
   "source": [
    "denoiser = denoising.Monochrome_Denoiser(\n",
    "    logger,\n",
    "    pyramid_levels = 3,\n",
    "    window_side = 15,\n",
    "    N_poly = 5,\n",
    "    num_iterations = 10\n",
    ")"
   ]
  },
  {
   "cell_type": "code",
   "execution_count": null,
   "id": "be439b9a-d08d-4d4d-ad31-f2eeb798f9b3",
   "metadata": {
    "scrolled": true
   },
   "outputs": [],
   "source": [
    "denoised, _ = denoiser.filter(noisy[10], None, N_iters=300, RS_sigma=0.5)"
   ]
  },
  {
   "cell_type": "code",
   "execution_count": null,
   "id": "ded3357a-634e-4833-80c0-9b28a785d517",
   "metadata": {},
   "outputs": [],
   "source": [
    "print(np.min(denoised), np.max(denoised))"
   ]
  },
  {
   "cell_type": "code",
   "execution_count": null,
   "id": "b4a360e9-f0c7-4b50-a05f-94efb629449b",
   "metadata": {},
   "outputs": [],
   "source": [
    "denoised = np.clip(denoised, a_min=0, a_max=255)"
   ]
  },
  {
   "cell_type": "code",
   "execution_count": null,
   "id": "4ece0cb7-cbed-40ed-b724-3b7a13cd55bb",
   "metadata": {},
   "outputs": [],
   "source": [
    "fig, axs = plt.subplots(1, 2, figsize=(16, 32))\n",
    "axs[0].imshow(noisy[10], cmap=\"gray\")\n",
    "axs[0].set_title(f\"Noisy\")\n",
    "axs[1].imshow(denoised, cmap=\"gray\")\n",
    "axs[1].set_title(f\"Denoised (DQI={information_theory.information.compute_quality_index(noisy[10], denoised)})\")\n",
    "fig.tight_layout()\n",
    "plt.show()"
   ]
  },
  {
   "cell_type": "code",
   "execution_count": null,
   "id": "febab5ce-ca75-464d-9066-3300467e3d13",
   "metadata": {},
   "outputs": [],
   "source": [
    "input()"
   ]
  },
  {
   "cell_type": "code",
   "execution_count": null,
   "id": "257999b2-1ab9-411b-b0b9-c54ec8eefb5e",
   "metadata": {},
   "outputs": [],
   "source": [
    "farneback = opticalflow3D.Farneback3D(iters=5,\n",
    "                                      num_levels=3,\n",
    "                                      scale=0.5,\n",
    "                                      spatial_size=5,\n",
    "                                      presmoothing=4,\n",
    "                                      filter_type=\"box\",\n",
    "                                      filter_size=5,\n",
    "                                     )"
   ]
  },
  {
   "cell_type": "code",
   "execution_count": null,
   "id": "af218288-91b9-433f-8756-743852dc82d8",
   "metadata": {},
   "outputs": [],
   "source": [
    "RS_sigma = 1.0\n",
    "denoised_vol = RSIVD.filter(farneback, block_size, noisy_vol, RS_sigma=RS_sigma, N_iters=25)"
   ]
  },
  {
   "cell_type": "code",
   "execution_count": null,
   "id": "951b4f04-03fc-4e4c-9c14-76d25fbb718e",
   "metadata": {},
   "outputs": [],
   "source": [
    "figure(figsize=(32, 32))\n",
    "plt.subplot(1, 3, 1)\n",
    "plt.title(\"original\")\n",
    "imgplot = plt.imshow(noisy_vol[75][::-1, :], cmap=\"gray\")\n",
    "plt.subplot(1, 3, 2)\n",
    "plt.title(\"$\\sigma_\\mathrm{RS}=$\"+f\"{RS_sigma}\")\n",
    "plt.imshow(denoised_vol[75][::-1, :], cmap=\"gray\")\n",
    "plt.subplot(1, 3, 3)\n",
    "plt.title(\"difference\")\n",
    "plt.imshow(noisy_vol[75][::-1, :] - denoised_vol[75][::-1, :], cmap=\"gray\")"
   ]
  },
  {
   "cell_type": "code",
   "execution_count": null,
   "id": "714617cc-13f0-460e-b753-00b8a8baf571",
   "metadata": {},
   "outputs": [],
   "source": [
    "skimage.io.imsave(f\"{vol_name}_denoised_{RS_sigma}.tif\", denoised_vol, imagej=True)"
   ]
  },
  {
   "cell_type": "code",
   "execution_count": null,
   "id": "3e5fc653-caa4-41d1-a58d-5119d861a73a",
   "metadata": {},
   "outputs": [],
   "source": [
    "RS_sigma = 2.0\n",
    "denoised_vol = RSIVD.filter(farneback, block_size, noisy_vol, RS_sigma=RS_sigma, N_iters=25)"
   ]
  },
  {
   "cell_type": "code",
   "execution_count": null,
   "id": "1dc2d165-6fd9-463c-ae95-5672e4ee1f1b",
   "metadata": {},
   "outputs": [],
   "source": [
    "figure(figsize=(32, 32))\n",
    "plt.subplot(1, 3, 1)\n",
    "plt.title(\"original\")\n",
    "imgplot = plt.imshow(noisy_vol[75][::-1, :], cmap=\"gray\")\n",
    "plt.subplot(1, 3, 2)\n",
    "plt.title(\"$\\sigma_\\mathrm{RS}=$\"+f\"{RS_sigma}\")\n",
    "plt.imshow(denoised_vol[75][::-1, :], cmap=\"gray\")\n",
    "plt.subplot(1, 3, 3)\n",
    "plt.title(\"difference\")\n",
    "plt.imshow(noisy_vol[75][::-1, :] - denoised_vol[75][::-1, :], cmap=\"gray\")"
   ]
  },
  {
   "cell_type": "code",
   "execution_count": null,
   "id": "ce03502d-41f0-4efa-a6a6-09080e6c4ed9",
   "metadata": {},
   "outputs": [],
   "source": []
  }
 ],
 "metadata": {
  "accelerator": "GPU",
  "colab": {
   "gpuType": "T4",
   "provenance": []
  },
  "kernelspec": {
   "display_name": "Python 3 (ipykernel)",
   "language": "python",
   "name": "python3"
  },
  "language_info": {
   "codemirror_mode": {
    "name": "ipython",
    "version": 3
   },
   "file_extension": ".py",
   "mimetype": "text/x-python",
   "name": "python",
   "nbconvert_exporter": "python",
   "pygments_lexer": "ipython3",
   "version": "3.10.12"
  }
 },
 "nbformat": 4,
 "nbformat_minor": 5
}
