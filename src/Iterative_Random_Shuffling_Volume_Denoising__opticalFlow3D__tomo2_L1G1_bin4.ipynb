{
 "cells": [
  {
   "cell_type": "markdown",
   "id": "24a2b9b0-569f-4f0a-a83c-7ab9c893b3a4",
   "metadata": {},
   "source": [
    "# Iterative Random Shaking Volume Denoising (IRSVD)"
   ]
  },
  {
   "cell_type": "code",
   "execution_count": null,
   "id": "f76ce7eb-2add-4885-a483-59c29743cfff",
   "metadata": {},
   "outputs": [],
   "source": [
    "local_debug = True"
   ]
  },
  {
   "cell_type": "code",
   "execution_count": null,
   "id": "7be42efa-1e36-4eb8-8d10-5d5f7e7e47d3",
   "metadata": {},
   "outputs": [],
   "source": [
    "try:\n",
    "    import google.colab\n",
    "    IN_COLAB = True\n",
    "except:\n",
    "    IN_COLAB = False\n",
    "\n",
    "if IN_COLAB:\n",
    "    print(\"Running in Colab\")\n",
    "    !pip install cupy-cuda12x\n",
    "    !pip install opticalflow3D\n",
    "    !apt install libcudart11.0\n",
    "    !apt install libcublas11\n",
    "    !apt install libcufft10\n",
    "    !apt install libcusparse11\n",
    "    !apt install libnvrtc11.2\n",
    "    from google.colab import drive\n",
    "    drive.mount('/content/drive')\n",
    "    !cp drive/Shareddrives/TomogramDenoising/tomograms/{vol_name}.tif .\n",
    "else:\n",
    "    print(\"Running in locahost\")\n",
    "    !cp ~/Downloads/{vol_name}.tif ."
   ]
  },
  {
   "cell_type": "code",
   "execution_count": null,
   "id": "2a9f2718-d2d2-4d2b-bf30-bfa5388c65e2",
   "metadata": {},
   "outputs": [],
   "source": [
    "%matplotlib inline\n",
    "import matplotlib.pyplot as plt\n",
    "from matplotlib.pyplot import figure"
   ]
  },
  {
   "cell_type": "code",
   "execution_count": null,
   "id": "a3554ddb-de53-4ac6-a102-01c526f3fa24",
   "metadata": {
    "id": "a3554ddb-de53-4ac6-a102-01c526f3fa24"
   },
   "outputs": [],
   "source": [
    "import opticalflow3D\n",
    "import warnings\n",
    "from numba.core.errors import NumbaPerformanceWarning\n",
    "import numpy as np\n",
    "\n",
    "warnings.filterwarnings(\"ignore\", category=NumbaPerformanceWarning)"
   ]
  },
  {
   "cell_type": "code",
   "execution_count": null,
   "id": "01440732-ffbe-474e-b3f9-82d3023af5bb",
   "metadata": {},
   "outputs": [],
   "source": [
    "if local_debug:\n",
    "    !ln -sf ../../information_theory/src/information_theory/ .\n",
    "else:\n",
    "    !pip install \"information_theory @ git+https://github.com/vicente-gonzalez-ruiz/information_theory\"\n",
    "import information_theory  # pip install \"information_theory @ git+https://github.com/vicente-gonzalez-ruiz/information_theory\""
   ]
  },
  {
   "cell_type": "code",
   "execution_count": null,
   "id": "e63762aa-acc9-4e7c-a855-92fe59fb2900",
   "metadata": {},
   "outputs": [],
   "source": [
    "import skimage.io"
   ]
  },
  {
   "cell_type": "code",
   "execution_count": null,
   "id": "f42f9a05-5afd-47f4-854f-e25b9b3391b8",
   "metadata": {},
   "outputs": [],
   "source": [
    "import RSIVD"
   ]
  },
  {
   "cell_type": "code",
   "execution_count": null,
   "id": "4834c100-f071-45d4-8d2a-481d7be08066",
   "metadata": {},
   "outputs": [],
   "source": [
    "from collections import namedtuple\n",
    "Args = namedtuple(\"args\", [\"input\", \"output\"])\n",
    "args = Args(\"/home/vruiz/cryoCARE/tomo2_L1G1_bin4.rec\", \"denoised\")"
   ]
  },
  {
   "cell_type": "code",
   "execution_count": null,
   "id": "6b240e43-db9a-4f2b-b413-30e10ce81b74",
   "metadata": {},
   "outputs": [],
   "source": [
    "import mrcfile\n",
    "stack_MRC = mrcfile.open(args.input)\n",
    "noisy = stack_MRC.data#[:, ::-1, :]"
   ]
  },
  {
   "cell_type": "markdown",
   "id": "bd839872-5f56-4911-abdb-f35adda013b3",
   "metadata": {},
   "source": [
    "%%bash -s \"$args.input\"\n",
    "set -x\n",
    "OUTPUT_FILENAME=$1\n",
    "#rm -f $OUTPUT_FILENAME\n",
    "if test ! -f $OUTPUT_FILENAME ; then\n",
    "    FILEID=\"1I2uIfM00ZNeMjYy4OeZ4hSO-bxpE3oZb\"\n",
    "    gdown https://drive.google.com/uc?id=$FILEID\n",
    "fi\n",
    "set +x\n",
    "# https://drive.google.com/file/d/1I2uIfM00ZNeMjYy4OeZ4hSO-bxpE3oZb/view?usp=sharing"
   ]
  },
  {
   "cell_type": "markdown",
   "id": "305edbd0-490a-409a-9f4c-687d295c64e6",
   "metadata": {
    "id": "I6Fx1j23clAd"
   },
   "source": [
    "noisy = opticalflow3D.helpers.load_image(args.input)"
   ]
  },
  {
   "cell_type": "code",
   "execution_count": null,
   "id": "2f646e91-6da3-4d20-8e50-7890de42135b",
   "metadata": {},
   "outputs": [],
   "source": [
    "np.min(noisy)"
   ]
  },
  {
   "cell_type": "code",
   "execution_count": null,
   "id": "f9a2cb8a-cda2-49d0-beea-00380f4f8c69",
   "metadata": {},
   "outputs": [],
   "source": [
    "np.max(noisy)"
   ]
  },
  {
   "cell_type": "code",
   "execution_count": null,
   "id": "b50e60f7-cb24-49d1-9a59-fd64ba4f4e06",
   "metadata": {},
   "outputs": [],
   "source": [
    "noisy = (255*(noisy.astype(np.float32) - np.min(noisy))/(np.max(noisy) - np.min(noisy))).astype(np.uint8)"
   ]
  },
  {
   "cell_type": "code",
   "execution_count": null,
   "id": "847adedf-f639-48a4-a122-c6a208c237de",
   "metadata": {},
   "outputs": [],
   "source": [
    "np.min(noisy)"
   ]
  },
  {
   "cell_type": "code",
   "execution_count": null,
   "id": "4e6e4253-4ce1-4570-b15c-08168b503b71",
   "metadata": {},
   "outputs": [],
   "source": [
    "np.max(noisy)"
   ]
  },
  {
   "cell_type": "code",
   "execution_count": null,
   "id": "a1023a3c-ec88-42fa-9283-6b25bb8cd2ff",
   "metadata": {},
   "outputs": [],
   "source": [
    "fig, axs = plt.subplots(1, 1, figsize=(16, 16))\n",
    "axs.imshow(noisy[91], cmap=\"gray\")\n",
    "axs.set_title(f\"Noisy\")\n",
    "fig.tight_layout()\n",
    "plt.show()"
   ]
  },
  {
   "cell_type": "code",
   "execution_count": null,
   "id": "de188628-fa34-41d3-b379-5e999ae4625f",
   "metadata": {},
   "outputs": [],
   "source": [
    "noisy.shape"
   ]
  },
  {
   "cell_type": "code",
   "execution_count": null,
   "id": "49482575-4a21-4de7-aada-fe637eb2a1d6",
   "metadata": {},
   "outputs": [],
   "source": [
    "#noisy = noisy[100:300, 300:600, 300:600]"
   ]
  },
  {
   "cell_type": "code",
   "execution_count": null,
   "id": "f905895f-40da-4ef0-b2cf-b41680e8531c",
   "metadata": {},
   "outputs": [],
   "source": [
    "#block_size = (noisy.shape[0], noisy.shape[1], noisy.shape[2])\n",
    "block_size = (noisy.shape[0]//2, noisy.shape[1]//2, noisy.shape[2]//4)\n",
    "print(block_size)"
   ]
  },
  {
   "cell_type": "code",
   "execution_count": null,
   "id": "7ab782f1-6053-4d91-8ba7-3220d3332f44",
   "metadata": {
    "colab": {
     "base_uri": "https://localhost:8080/",
     "height": 211
    },
    "id": "7ab782f1-6053-4d91-8ba7-3220d3332f44",
    "outputId": "e8f03c08-8eb1-4ab3-f854-c360edd8082a"
   },
   "outputs": [],
   "source": [
    "#farneback = opticalflow3D.Farneback3D(iters=5, num_levels=3, scale=0.5, spatial_size=7, presmoothing=3, filter_type=\"gaussian\", filter_size=7,); RS_sigma = 1.0\n",
    "farneback = opticalflow3D.Farneback3D(iters=1, num_levels=1, scale=0.5, spatial_size=5, sigma_k=1.0, filter_type=\"gaussian\", filter_size=11, presmoothing=None, device_id=0); RS_sigma = 0.50; N_iters=25\n",
    "farneback = opticalflow3D.Farneback3D(iters=1, num_levels=1, scale=0.5, spatial_size=7, sigma_k=1.0, filter_type=\"gaussian\", filter_size=7, presmoothing=None, device_id=0); RS_sigma = 0.75; N_iters=50\n",
    "farneback = opticalflow3D.Farneback3D(iters=2, num_levels=1, scale=0.5, spatial_size=7, sigma_k=1.0, filter_type=\"gaussian\", filter_size=7, presmoothing=None, device_id=0); RS_sigma = 0.75; N_iters=50\n",
    "farneback = opticalflow3D.Farneback3D(iters=5, num_levels=1, scale=0.5, spatial_size=6, sigma_k=1.0, filter_type=\"gaussian\", filter_size=6, presmoothing=None, device_id=0); RS_sigma = 1.25; N_iters=50\n",
    "farneback = opticalflow3D.Farneback3D(iters=5, num_levels=1, scale=0.5, spatial_size=6, sigma_k=1.0, filter_type=\"gaussian\", filter_size=6, presmoothing=None, device_id=0); RS_sigma = 1.25; N_iters=25\n",
    "farneback = opticalflow3D.Farneback3D(iters=5, num_levels=1, scale=0.5, spatial_size=6, sigma_k=1.0, filter_type=\"gaussian\", filter_size=5, presmoothing=None, device_id=0); RS_sigma = 1.25; N_iters=25\n",
    "farneback = opticalflow3D.Farneback3D(iters=5, num_levels=1, scale=0.5, spatial_size=6, sigma_k=1.0, filter_type=\"gaussian\", filter_size=7, presmoothing=None, device_id=0); RS_sigma = 1.5; N_iters=25\n",
    "farneback = opticalflow3D.Farneback3D(iters=5, num_levels=1, scale=0.5, spatial_size=6, sigma_k=1.0, filter_type=\"gaussian\", filter_size=6, presmoothing=3, device_id=0); RS_sigma = 1.25; N_iters=25\n",
    "farneback = opticalflow3D.Farneback3D(iters=5, num_levels=1, scale=0.5, spatial_size=9, sigma_k=1.0, filter_type=\"gaussian\", filter_size=7, presmoothing=None, device_id=0); RS_sigma = 1.75; N_iters=25\n",
    "farneback = opticalflow3D.Farneback3D(iters=5, num_levels=2, scale=0.5, spatial_size=9, sigma_k=1.0, filter_type=\"gaussian\", filter_size=7, presmoothing=None, device_id=0); RS_sigma = 2.0; N_iters=10\n",
    "farneback = opticalflow3D.Farneback3D(iters=5, num_levels=1, scale=0.5, spatial_size=9, sigma_k=1.0, filter_type=\"gaussian\", filter_size=7, presmoothing=None, device_id=0); RS_sigma = 1.5; N_iters=25\n",
    "farneback = opticalflow3D.Farneback3D(iters=5, num_levels=1, scale=0.5, spatial_size=9, sigma_k=1.0, filter_type=\"gaussian\", filter_size=9, presmoothing=None, device_id=0); RS_sigma = 1.5; N_iters=25\n"
   ]
  },
  {
   "cell_type": "code",
   "execution_count": null,
   "id": "e9391b3a-b011-431e-b74a-23df37cc6ac1",
   "metadata": {},
   "outputs": [],
   "source": [
    "def randomize(vol, mean=0.0, std_dev=1.0):\n",
    "  depth, height, width = vol.shape[:3]\n",
    "  x_coords, y_coords, z_coords = np.meshgrid(range(width), range(height), range(depth))\n",
    "  flattened_x_coords = x_coords.flatten()\n",
    "  flattened_y_coords = y_coords.flatten()\n",
    "  flattened_z_coords = z_coords.flatten()\n",
    "  #print(np.max(flattened_z_coords), np.max(flattened_y_coords), np.max(flattened_x_coords))\n",
    "  #print(flattened_x_coords.dtype)\n",
    "  displacements_x = np.random.normal(mean, std_dev, flattened_x_coords.shape).astype(np.int32)\n",
    "  displacements_y = np.random.normal(mean, std_dev, flattened_y_coords.shape).astype(np.int32)\n",
    "  displacements_z = np.random.normal(mean, std_dev, flattened_z_coords.shape).astype(np.int32)\n",
    "  #_d = 5\n",
    "  #displacements_x = np.random.uniform(low=-_d, high=_d, size=flattened_x_coords.shape).astype(np.int32)\n",
    "  #displacements_y = np.random.uniform(low=-_d, high=_d, size=flattened_y_coords.shape).astype(np.int32)\n",
    "  #displacements_z = np.random.uniform(low=-_d, high=_d, size=flattened_z_coords.shape).astype(np.int32)\n",
    "  print(\"min displacements\", np.min(displacements_z), np.min(displacements_y), np.min(displacements_x))\n",
    "  print(\"average abs(displacements)\", np.average(np.abs(displacements_z)), np.average(np.abs(displacements_y)), np.average(np.abs(displacements_x)))\n",
    "  print(\"max displacements\", np.max(displacements_z), np.max(displacements_y), np.max(displacements_x))\n",
    "  randomized_x_coords = flattened_x_coords + displacements_x\n",
    "  randomized_y_coords = flattened_y_coords + displacements_y\n",
    "  randomized_z_coords = flattened_z_coords + displacements_z\n",
    "  #print(\"max displacements\", np.max(randomized_z_coords), np.max(randomized_y_coords), np.max(randomized_x_coords))\n",
    "  #randomized_x_coords = np.mod(randomized_x_coords, width)\n",
    "  #randomized_y_coords = np.mod(randomized_y_coords, height)\n",
    "  #randomized_z_coords = np.mod(randomized_z_coords, depth)\n",
    "  randomized_x_coords = np.clip(randomized_x_coords, 0, width - 1) # Clip the randomized coordinates to stay within image bounds\n",
    "  randomized_y_coords = np.clip(randomized_y_coords, 0, height - 1)\n",
    "  randomized_z_coords = np.clip(randomized_z_coords, 0, depth - 1)\n",
    "  #print(np.max(randomized_z_coords), np.max(randomized_y_coords), np.max(randomized_x_coords))\n",
    "  #randomized_vol = np.ones_like(vol)*np.average(vol) #np.zeros_like(vol)\n",
    "  randomized_vol = np.zeros_like(vol)\n",
    "  #randomized_vol[...] = vol\n",
    "  #randomized_vol[...] = 128\n",
    "  randomized_vol[randomized_z_coords, randomized_y_coords, randomized_x_coords] = vol[flattened_z_coords, flattened_y_coords, flattened_x_coords]\n",
    "  return randomized_vol\n",
    "\n",
    "def _randomize(vol, max_distance=10):\n",
    "    depth, height, width = image.shape[:3]\n",
    "    #flow_x = np.random.normal(size=(height, width)) * max_distance\n",
    "    #flow_y = np.random.normal(size=(height, width)) * max_distance\n",
    "    flow_x = np.random.uniform(low=-1, high=1, size=(depth, height, width)) * max_distance\n",
    "    flow_y = np.random.uniform(low=-1, high=1, size=(depth, height, width)) * max_distance\n",
    "    flow_z = np.random.uniform(low=-1, high=1, size=(depth, height, width)) * max_distance\n",
    "    #flow_x[...] = 0\n",
    "    #flow_y[...] = 0\n",
    "    #print(np.max(flow_x), np.min(flow_x), max_distance)\n",
    "    flow = np.empty([height, width, 2], dtype=np.float32)\n",
    "    flow[..., 0] = flow_y\n",
    "    flow[..., 1] = flow_x\n",
    "    print(np.max(flow), np.min(flow))\n",
    "    randomized_image = motion_estimation.project(image, flow)\n",
    "    return randomized_image.astype(np.uint8)\n",
    "\n",
    "def shake(x, y, std_dev=1.0):\n",
    "  displacements = np.random.normal(0, std_dev, len(x))\n",
    "  #print(f\"{np.min(displacements):.2f} {np.average(np.abs(displacements)):.2f} {np.max(displacements):.2f}\", end=' ')\n",
    "  return np.stack((y + displacements, x), axis=1)\n",
    "\n",
    "def randomize(vol, mean=0.0, std_dev=1.0):\n",
    "  print(vol.shape)\n",
    "  print(std_dev)\n",
    "  randomized_vol = np.empty_like(vol)\n",
    "  \n",
    "  # Randomization in X\n",
    "  #values = np.arange(1, vol.shape[2]+1).astype(np.int32)\n",
    "  values = np.arange(vol.shape[2]).astype(np.int32)\n",
    "  for z in range(vol.shape[0]):\n",
    "    print(z, end=' ', flush=True)\n",
    "    for y in range(vol.shape[1]):\n",
    "      #pairs = np.array(list(map(tuplify, values, range(len(values)))), dtype=np.int32)\n",
    "      pairs = shake(values, np.arange(len(values)), std_dev).astype(np.int32)\n",
    "      pairs = pairs[pairs[:, 0].argsort()]\n",
    "      randomized_vol[z, y, values] = vol[z, y, pairs[:, 1]]\n",
    "  vol = np.copy(randomized_vol)\n",
    "\n",
    "  # Randomization in Y\n",
    "  values = np.arange(vol.shape[1]).astype(np.int32)\n",
    "  for z in range(vol.shape[0]):\n",
    "    print(z, end=' ', flush=True)\n",
    "    for x in range(vol.shape[2]):\n",
    "      #pairs = np.array(list(map(tuplify, values, range(len(values)))), dtype=np.int32)\n",
    "      pairs = shake(values, np.arange(len(values)), std_dev).astype(np.int32)\n",
    "      pairs = pairs[pairs[:, 0].argsort()]\n",
    "      randomized_vol[z, values, x] = vol[z, pairs[:, 1], x]\n",
    "  vol = np.copy(randomized_vol)\n",
    "\n",
    "  # Randomization in Z\n",
    "  values = np.arange(vol.shape[0]).astype(np.int32)\n",
    "  for y in range(vol.shape[1]):\n",
    "    print(y, end=' ', flush=True)\n",
    "    for x in range(vol.shape[2]):\n",
    "      #pairs = np.array(list(map(tuplify, values, range(len(values)))), dtype=np.int32)\n",
    "      pairs = shake(values, np.arange(len(values)), std_dev).astype(np.int32)\n",
    "      pairs = pairs[pairs[:, 0].argsort()]\n",
    "      randomized_vol[values, y, x] = vol[pairs[:, 1], y , x]\n",
    "\n",
    "  return randomized_vol\n",
    "\n",
    "def project_A_to_B(farneback, block_size, A, B):\n",
    "  output_vz, output_vy, output_vx, output_confidence = farneback.calculate_flow(A, B,\n",
    "                                                                              start_point=(0, 0, 0),\n",
    "                                                                              total_vol=(A.shape[0], A.shape[1], A.shape[2]),\n",
    "                                                                              sub_volume=block_size,\n",
    "                                                                              overlap=(8, 8, 8),\n",
    "                                                                              threadsperblock=(8, 8, 8)\n",
    "                                                                             )\n",
    "  print(\"min flow\", np.min(output_vx), np.min(output_vy), np.min(output_vz))\n",
    "  print(\"average abs(flow)\", np.average(np.abs(output_vx)), np.average(np.abs(output_vy)), np.average(np.abs(output_vz)))\n",
    "  print(\"max flow\", np.max(output_vx), np.max(output_vy), np.max(output_vz))\n",
    "  #output_vx[...] = 0\n",
    "  #output_vy[...] = 0\n",
    "  #output_vz[...] = 0\n",
    "  projection = opticalflow3D.helpers.generate_inverse_image(A, output_vx, output_vy, output_vz, use_gpu=False)\n",
    "  return projection\n",
    "\n",
    "def filter(farneback, block_size, noisy_vol, N_iters=50, RS_sigma=2.0, RS_mean=0.0):\n",
    "  acc_vol = np.zeros_like(noisy_vol, dtype=np.float32)\n",
    "  acc_vol[...] = noisy_vol\n",
    "  for i in range(N_iters):\n",
    "    print(f\"iter={i}\")\n",
    "    denoised_vol = acc_vol/(i+1)\n",
    "    #randomized_noisy_vol = randomize(noisy_vol, max_distance=5)\n",
    "    randomized_noisy_vol = randomize(noisy_vol, mean=0, std_dev=RS_sigma)\n",
    "    #print(\"sum(randomized_noisy-noisy)\", np.sum((randomized_noisy_vol-noisy_vol)*(randomized_noisy_vol-noisy_vol)))\n",
    "    #print(\"sum(denoised-randomized_noisy)\", np.sum((denoised_vol-randomized_noisy_vol)*(denoised_vol-randomized_noisy_vol)))\n",
    "    randomized_and_compensated_noisy_vol = project_A_to_B(farneback, block_size, A=denoised_vol, B=randomized_noisy_vol)\n",
    "    if i == 0:\n",
    "        with mrcfile.new(\"shaked.mrc\", overwrite=True) as mrc:\n",
    "            mrc.set_data(randomized_noisy_vol.astype(np.float32))\n",
    "            mrc.data\n",
    "        with mrcfile.new(\"compensated.mrc\", overwrite=True) as mrc:\n",
    "            mrc.set_data(randomized_and_compensated_noisy_vol.astype(np.float32))\n",
    "            mrc.data\n",
    "    #plt.imshow(randomized_and_compensated_noisy_vol[15], cmap=\"gray\")\n",
    "    #plt.show()\n",
    "    #randomized_and_compensated_noisy_vol = np.zeros_like(randomized_noisy_vol)\n",
    "    #randomized_and_compensated_noisy_vol[...] = randomized_noisy_vol\n",
    "    #print(\"sum(noisy)\", np.sum(noisy_vol))\n",
    "    #print(\"sum(denoised)\", np.sum(denoised_vol))\n",
    "    #print(\"sum(randomized_and_compensated_noisy)\", np.sum(randomized_and_compensated_noisy_vol))\n",
    "    #print(\"sum(randomized_noisy)\", np.sum(randomized_noisy_vol))\n",
    "    #print(\"sum(acc)\", np.sum(acc_vol))\n",
    "    #print(\"sum(randomized_and_compensated_noisy-randomized_noisy)\", np.sum((randomized_and_compensated_noisy_vol-randomized_noisy_vol)*(randomized_and_compensated_noisy_vol-randomized_noisy_vol)))\n",
    "    #print(\"sum(randomized_and_compensated_noisy-noisy)\", np.sum((randomized_and_compensated_noisy_vol-noisy_vol)*(randomized_and_compensated_noisy_vol-noisy_vol)))\n",
    "    #print(np.sum((randomized_and_compensated_noisy_vol-randomized_noisy_vol)*(randomized_and_compensated_noisy_vol-randomized_noisy_vol)))\n",
    "    acc_vol += randomized_and_compensated_noisy_vol\n",
    "  denoised_vol = acc_vol/(N_iters + 1)\n",
    "  return denoised_vol"
   ]
  },
  {
   "cell_type": "code",
   "execution_count": null,
   "id": "91aIEXpSc5ez",
   "metadata": {
    "colab": {
     "base_uri": "https://localhost:8080/",
     "height": 1000
    },
    "id": "91aIEXpSc5ez",
    "outputId": "6e1f085e-8567-4eb8-9c13-13171cead177",
    "scrolled": true
   },
   "outputs": [],
   "source": [
    "#denoised = RSIVD.filter(farneback, block_size, noisy, RS_sigma=RS_sigma, N_iters=N_iters)\n",
    "denoised = filter(farneback, block_size, noisy, RS_sigma=RS_sigma, N_iters=N_iters)"
   ]
  },
  {
   "cell_type": "code",
   "execution_count": null,
   "id": "f19fa3be-d8a8-4f49-a194-05f763dbe934",
   "metadata": {},
   "outputs": [],
   "source": [
    "fig, axs = plt.subplots(1, 2, figsize=(16, 32))\n",
    "axs[0].imshow(noisy[100], cmap=\"gray\")\n",
    "axs[0].set_title(f\"Noisy\")\n",
    "axs[1].imshow(denoised[100], cmap=\"gray\")\n",
    "axs[1].set_title(f\"Denoised (DQI={information_theory.information.compute_quality_index(noisy[16], denoised[16])})\")\n",
    "fig.tight_layout()\n",
    "plt.show()"
   ]
  },
  {
   "cell_type": "code",
   "execution_count": null,
   "id": "07144f25-b075-4bc7-b602-869a81706f71",
   "metadata": {},
   "outputs": [],
   "source": [
    "fig, axs = plt.subplots(1, 2, figsize=(16, 32))\n",
    "axs[0].imshow(noisy[10], cmap=\"gray\")\n",
    "axs[0].set_title(f\"Noisy\")\n",
    "axs[1].imshow(cryo[80+10, 150:300, 150:300], cmap=\"gray\")\n",
    "axs[1].set_title(f\"cryoCARE (DQI={information_theory.information.compute_quality_index(noisy[10], cryo[80+10, 150:300, 150:300])})\")\n",
    "fig.tight_layout()\n",
    "plt.show()"
   ]
  },
  {
   "cell_type": "markdown",
   "id": "68ea9f15-b552-454f-a738-63beed127d01",
   "metadata": {},
   "source": [
    "fig, axs = plt.subplots(1, 2, figsize=(16, 32))\n",
    "axs[0].imshow(noisy[131][300:,300:], cmap=\"gray\")\n",
    "axs[0].set_title(f\"Noisy\")\n",
    "axs[1].imshow(denoised[131][300:,300:], cmap=\"gray\")\n",
    "axs[1].set_title(f\"Denoised (DQI={information_theory.information.compute_quality_index(noisy[131][300:,300:], denoised[131][300:,300:])}\")\n",
    "fig.tight_layout()\n",
    "plt.show()"
   ]
  },
  {
   "cell_type": "markdown",
   "id": "cdee3dc3-233b-400c-8052-0941562fe0c0",
   "metadata": {},
   "source": [
    "fig, axs = plt.subplots(1, 2, figsize=(16, 32))\n",
    "axs[0].imshow(noisy[:, 100], cmap=\"gray\")\n",
    "axs[0].set_title(f\"Noisy\")\n",
    "axs[1].imshow(denoised[:, 100], cmap=\"gray\")\n",
    "axs[1].set_title(f\"Denoised (DQI={information_theory.information.compute_quality_index(noisy[:, 100], denoised[:, 100])})\")\n",
    "fig.tight_layout()\n",
    "plt.show()"
   ]
  },
  {
   "cell_type": "markdown",
   "id": "2de23991-2814-4303-bcf7-3eeb06da8081",
   "metadata": {},
   "source": [
    "figure(figsize=(32, 32))\n",
    "plt.subplot(1, 3, 1)\n",
    "plt.title(\"original\")\n",
    "imgplot = plt.imshow(noisy[137][::-1, :], cmap=\"gray\")\n",
    "plt.subplot(1, 3, 2)\n",
    "plt.title(\"$\\sigma_\\mathrm{RS}=$\"+f\"{RS_sigma}\")\n",
    "plt.imshow(denoised[137][::-1, :], cmap=\"gray\")\n",
    "plt.subplot(1, 3, 3)\n",
    "plt.title(\"difference\")\n",
    "plt.imshow(noisy[137][::-1, :] - denoised[137][::-1, :], cmap=\"gray\")"
   ]
  },
  {
   "cell_type": "code",
   "execution_count": null,
   "id": "4c289e6a-a45d-4dd2-aecb-2e43c4fd9a0c",
   "metadata": {},
   "outputs": [],
   "source": [
    "with mrcfile.new(f\"{args.output}_{RS_sigma}_{N_iters}.mrc\", overwrite=True) as mrc:\n",
    "            mrc.set_data(denoised.astype(np.float32))\n",
    "            mrc.data\n",
    "skimage.io.imsave(f\"{args.output}_{RS_sigma}_{N_iters}.tif\", denoised, imagej=True)"
   ]
  },
  {
   "cell_type": "code",
   "execution_count": null,
   "id": "bc9668df-c7ff-4074-9e99-ea97dd85a57c",
   "metadata": {},
   "outputs": [],
   "source": [
    "import logging\n",
    "logging.basicConfig(format=\"[%(filename)s:%(lineno)s %(funcName)s()] %(message)s\")\n",
    "logger = logging.getLogger(__name__)\n",
    "logger.setLevel(logging.INFO)"
   ]
  },
  {
   "cell_type": "code",
   "execution_count": null,
   "id": "9768d6d7-93bb-4006-b6c8-53751a5430d6",
   "metadata": {},
   "outputs": [],
   "source": [
    "import denoising.image.OF_random as denoising"
   ]
  },
  {
   "cell_type": "code",
   "execution_count": null,
   "id": "b0676ce9-2866-451b-97d9-ca8f2fb137b7",
   "metadata": {},
   "outputs": [],
   "source": [
    "denoiser = denoising.Monochrome_Denoiser(\n",
    "    logger,\n",
    "    pyramid_levels = 3,\n",
    "    window_side = 15,\n",
    "    N_poly = 5,\n",
    "    num_iterations = 10\n",
    ")"
   ]
  },
  {
   "cell_type": "code",
   "execution_count": null,
   "id": "be439b9a-d08d-4d4d-ad31-f2eeb798f9b3",
   "metadata": {
    "scrolled": true
   },
   "outputs": [],
   "source": [
    "denoised, _ = denoiser.filter(noisy[10], None, N_iters=300, RS_sigma=0.5)"
   ]
  },
  {
   "cell_type": "code",
   "execution_count": null,
   "id": "ded3357a-634e-4833-80c0-9b28a785d517",
   "metadata": {},
   "outputs": [],
   "source": [
    "print(np.min(denoised), np.max(denoised))"
   ]
  },
  {
   "cell_type": "code",
   "execution_count": null,
   "id": "b4a360e9-f0c7-4b50-a05f-94efb629449b",
   "metadata": {},
   "outputs": [],
   "source": [
    "denoised = np.clip(denoised, a_min=0, a_max=255)"
   ]
  },
  {
   "cell_type": "code",
   "execution_count": null,
   "id": "4ece0cb7-cbed-40ed-b724-3b7a13cd55bb",
   "metadata": {},
   "outputs": [],
   "source": [
    "fig, axs = plt.subplots(1, 2, figsize=(16, 32))\n",
    "axs[0].imshow(noisy[10], cmap=\"gray\")\n",
    "axs[0].set_title(f\"Noisy\")\n",
    "axs[1].imshow(denoised, cmap=\"gray\")\n",
    "axs[1].set_title(f\"Denoised (DQI={information_theory.information.compute_quality_index(noisy[10], denoised)})\")\n",
    "fig.tight_layout()\n",
    "plt.show()"
   ]
  },
  {
   "cell_type": "code",
   "execution_count": null,
   "id": "febab5ce-ca75-464d-9066-3300467e3d13",
   "metadata": {},
   "outputs": [],
   "source": [
    "input()"
   ]
  },
  {
   "cell_type": "code",
   "execution_count": null,
   "id": "257999b2-1ab9-411b-b0b9-c54ec8eefb5e",
   "metadata": {},
   "outputs": [],
   "source": [
    "farneback = opticalflow3D.Farneback3D(iters=5,\n",
    "                                      num_levels=3,\n",
    "                                      scale=0.5,\n",
    "                                      spatial_size=5,\n",
    "                                      presmoothing=4,\n",
    "                                      filter_type=\"box\",\n",
    "                                      filter_size=5,\n",
    "                                     )"
   ]
  },
  {
   "cell_type": "code",
   "execution_count": null,
   "id": "af218288-91b9-433f-8756-743852dc82d8",
   "metadata": {},
   "outputs": [],
   "source": [
    "RS_sigma = 1.0\n",
    "denoised_vol = RSIVD.filter(farneback, block_size, noisy_vol, RS_sigma=RS_sigma, N_iters=25)"
   ]
  },
  {
   "cell_type": "code",
   "execution_count": null,
   "id": "951b4f04-03fc-4e4c-9c14-76d25fbb718e",
   "metadata": {},
   "outputs": [],
   "source": [
    "figure(figsize=(32, 32))\n",
    "plt.subplot(1, 3, 1)\n",
    "plt.title(\"original\")\n",
    "imgplot = plt.imshow(noisy_vol[75][::-1, :], cmap=\"gray\")\n",
    "plt.subplot(1, 3, 2)\n",
    "plt.title(\"$\\sigma_\\mathrm{RS}=$\"+f\"{RS_sigma}\")\n",
    "plt.imshow(denoised_vol[75][::-1, :], cmap=\"gray\")\n",
    "plt.subplot(1, 3, 3)\n",
    "plt.title(\"difference\")\n",
    "plt.imshow(noisy_vol[75][::-1, :] - denoised_vol[75][::-1, :], cmap=\"gray\")"
   ]
  },
  {
   "cell_type": "code",
   "execution_count": null,
   "id": "714617cc-13f0-460e-b753-00b8a8baf571",
   "metadata": {},
   "outputs": [],
   "source": [
    "skimage.io.imsave(f\"{vol_name}_denoised_{RS_sigma}.tif\", denoised_vol, imagej=True)"
   ]
  },
  {
   "cell_type": "code",
   "execution_count": null,
   "id": "3e5fc653-caa4-41d1-a58d-5119d861a73a",
   "metadata": {},
   "outputs": [],
   "source": [
    "RS_sigma = 2.0\n",
    "denoised_vol = RSIVD.filter(farneback, block_size, noisy_vol, RS_sigma=RS_sigma, N_iters=25)"
   ]
  },
  {
   "cell_type": "code",
   "execution_count": null,
   "id": "1dc2d165-6fd9-463c-ae95-5672e4ee1f1b",
   "metadata": {},
   "outputs": [],
   "source": [
    "figure(figsize=(32, 32))\n",
    "plt.subplot(1, 3, 1)\n",
    "plt.title(\"original\")\n",
    "imgplot = plt.imshow(noisy_vol[75][::-1, :], cmap=\"gray\")\n",
    "plt.subplot(1, 3, 2)\n",
    "plt.title(\"$\\sigma_\\mathrm{RS}=$\"+f\"{RS_sigma}\")\n",
    "plt.imshow(denoised_vol[75][::-1, :], cmap=\"gray\")\n",
    "plt.subplot(1, 3, 3)\n",
    "plt.title(\"difference\")\n",
    "plt.imshow(noisy_vol[75][::-1, :] - denoised_vol[75][::-1, :], cmap=\"gray\")"
   ]
  },
  {
   "cell_type": "code",
   "execution_count": null,
   "id": "ce03502d-41f0-4efa-a6a6-09080e6c4ed9",
   "metadata": {},
   "outputs": [],
   "source": []
  }
 ],
 "metadata": {
  "accelerator": "GPU",
  "colab": {
   "gpuType": "T4",
   "provenance": []
  },
  "kernelspec": {
   "display_name": "Python 3 (ipykernel)",
   "language": "python",
   "name": "python3"
  },
  "language_info": {
   "codemirror_mode": {
    "name": "ipython",
    "version": 3
   },
   "file_extension": ".py",
   "mimetype": "text/x-python",
   "name": "python",
   "nbconvert_exporter": "python",
   "pygments_lexer": "ipython3",
   "version": "3.10.12"
  }
 },
 "nbformat": 4,
 "nbformat_minor": 5
}
