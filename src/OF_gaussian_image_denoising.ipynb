{
 "cells": [
  {
   "cell_type": "markdown",
   "metadata": {
    "editable": true,
    "id": "QqfKxC0KuCzK",
    "slideshow": {
     "slide_type": ""
    },
    "tags": []
   },
   "source": [
    "# Optical flow Gaussian image denoising"
   ]
  },
  {
   "cell_type": "code",
   "execution_count": null,
   "metadata": {},
   "outputs": [],
   "source": [
    "use_OpenCV = False\n",
    "#use_OpenCV = True\n",
    "local_debug = True"
   ]
  },
  {
   "cell_type": "code",
   "execution_count": null,
   "metadata": {
    "editable": true,
    "id": "IIUxh4uStrQJ",
    "slideshow": {
     "slide_type": ""
    },
    "tags": []
   },
   "outputs": [],
   "source": [
    "import logging\n",
    "import numpy as np\n",
    "import scipy.ndimage\n",
    "import matplotlib.pyplot as plt\n",
    "#from ipywidgets import *\n",
    "import cv2\n",
    "import time\n",
    "#import kernels\n",
    "from skimage import io as skimage_io"
   ]
  },
  {
   "cell_type": "code",
   "execution_count": null,
   "metadata": {},
   "outputs": [],
   "source": [
    "import logging\n",
    "logging.basicConfig(format=\"[%(filename)s:%(lineno)s %(funcName)s()] %(message)s\")\n",
    "logger = logging.getLogger(__name__)"
   ]
  },
  {
   "cell_type": "code",
   "execution_count": null,
   "metadata": {},
   "outputs": [],
   "source": [
    "if local_debug:\n",
    "    !ln -sf ../../information_theory/src/information_theory/ .\n",
    "else:\n",
    "    !pip install \"information_theory @ git+https://github.com/vicente-gonzalez-ruiz/information_theory\"\n",
    "import information_theory  # pip install \"information_theory @ git+https://github.com/vicente-gonzalez-ruiz/information_theory\""
   ]
  },
  {
   "cell_type": "code",
   "execution_count": null,
   "metadata": {},
   "outputs": [],
   "source": [
    "if local_debug:\n",
    "    !ln -sf ../../motion_estimation/src/motion_estimation/ .\n",
    "else:\n",
    "    !pip install \"motion_estimation @ git+https://github.com/vicente-gonzalez-ruiz/motion_estimation\"\n",
    "if use_OpenCV:\n",
    "    from motion_estimation._2D.farneback_OpenCV import Estimator_in_CPU as Estimator\n",
    "    from motion_estimation._2D.project import project\n",
    "else:\n",
    "    from motion_estimation._1D.farneback_python import Estimator\n",
    "    from motion_estimation._1D.project import project"
   ]
  },
  {
   "cell_type": "code",
   "execution_count": null,
   "metadata": {},
   "outputs": [],
   "source": [
    "GT = skimage_io.imread(\"http://www.hpca.ual.es/~vruiz/images/barb.png\")"
   ]
  },
  {
   "cell_type": "code",
   "execution_count": null,
   "metadata": {},
   "outputs": [],
   "source": [
    "plt.imshow(GT, cmap=\"gray\")"
   ]
  },
  {
   "cell_type": "code",
   "execution_count": null,
   "metadata": {
    "editable": true,
    "slideshow": {
     "slide_type": ""
    },
    "tags": []
   },
   "outputs": [],
   "source": [
    "padded_GT = np.zeros(shape=(GT.shape[0]+32, GT.shape[1]+32), dtype=np.uint8)\n",
    "padded_GT[16:-16, 16:-16] = GT\n",
    "GT = padded_GT"
   ]
  },
  {
   "cell_type": "code",
   "execution_count": null,
   "metadata": {},
   "outputs": [],
   "source": [
    "mean = 0\n",
    "var = 1000\n",
    "sigma = 20 #var**0.5\n",
    "noise = np.random.normal(mean, sigma, GT.shape).reshape(GT.shape)\n",
    "noisy = np.clip(a=GT.astype(np.float32) + noise, a_min=0, a_max=255).astype(np.uint8)"
   ]
  },
  {
   "cell_type": "code",
   "execution_count": null,
   "metadata": {
    "editable": true,
    "slideshow": {
     "slide_type": ""
    },
    "tags": []
   },
   "outputs": [],
   "source": [
    "plt.imshow(noisy, cmap=\"gray\")"
   ]
  },
  {
   "cell_type": "code",
   "execution_count": null,
   "metadata": {
    "editable": true,
    "id": "xI1pWnvWxjoj",
    "scrolled": true,
    "slideshow": {
     "slide_type": ""
    },
    "tags": []
   },
   "outputs": [],
   "source": [
    "def get_gaussian_kernel(sigma=1):\n",
    "    number_of_coeffs = 3\n",
    "    number_of_zeros = 0\n",
    "    while number_of_zeros < 2 :\n",
    "        delta = np.zeros(number_of_coeffs)\n",
    "        delta[delta.size//2] = 1\n",
    "        coeffs = scipy.ndimage.gaussian_filter1d(delta, sigma=sigma)\n",
    "        number_of_zeros = coeffs.size - np.count_nonzero(coeffs)\n",
    "        number_of_coeffs += 1\n",
    "    return coeffs[1:-1]\n",
    "\n",
    "sigma = np.array([1.5, 1.5])\n",
    "kernel = [None]*2\n",
    "kernel[0] = get_gaussian_kernel(sigma[0])\n",
    "kernel[1] = get_gaussian_kernel(sigma[1])\n",
    "print(np.sum(kernel[0]))\n",
    "plt.plot(kernel[0])\n",
    "plt.show()"
   ]
  },
  {
   "cell_type": "code",
   "execution_count": null,
   "metadata": {
    "editable": true,
    "slideshow": {
     "slide_type": ""
    },
    "tags": []
   },
   "outputs": [],
   "source": [
    "if use_OpenCV:\n",
    "    import denoising.image.OF_gaussian__OpenCV as denoising\n",
    "else:\n",
    "    import denoising.image.OF_gaussian as denoising"
   ]
  },
  {
   "cell_type": "code",
   "execution_count": null,
   "metadata": {
    "editable": true,
    "slideshow": {
     "slide_type": ""
    },
    "tags": []
   },
   "outputs": [],
   "source": [
    "logger.setLevel(logging.INFO)\n",
    "if use_OpenCV:\n",
    "    denoiser = denoising.Monochrome_Denoising(logger, N_poly=5, window_side=11)\n",
    "else:\n",
    "    denoiser = denoising.Monochrome_Denoising(logger, N_poly=5, window_length=11)"
   ]
  },
  {
   "cell_type": "code",
   "execution_count": null,
   "metadata": {
    "editable": true,
    "scrolled": true,
    "slideshow": {
     "slide_type": ""
    },
    "tags": []
   },
   "outputs": [],
   "source": [
    "denoised_img = denoiser.filter(noisy.astype(np.float64), kernel)"
   ]
  },
  {
   "cell_type": "code",
   "execution_count": null,
   "metadata": {
    "editable": true,
    "slideshow": {
     "slide_type": ""
    },
    "tags": []
   },
   "outputs": [],
   "source": [
    "denoised = np.clip(denoised_img, a_min=0, a_max=255)"
   ]
  },
  {
   "cell_type": "code",
   "execution_count": null,
   "metadata": {
    "editable": true,
    "slideshow": {
     "slide_type": ""
    },
    "tags": []
   },
   "outputs": [],
   "source": [
    "fig, axs = plt.subplots(1, 3, figsize=(16, 32))\n",
    "axs[0].imshow(GT, cmap=\"gray\")\n",
    "axs[0].set_title(\"Original\")\n",
    "axs[1].imshow(noisy, cmap=\"gray\")\n",
    "axs[1].set_title(f\"Noisy ({information_theory.distortion.PSNR(noisy, GT):4.2f} dB)\")\n",
    "axs[2].imshow(denoised, cmap=\"gray\")\n",
    "axs[2].set_title(f\"Denoised ({information_theory.distortion.PSNR(denoised, GT):4.2f} dB)\")\n",
    "fig.tight_layout()\n",
    "plt.show()"
   ]
  },
  {
   "cell_type": "code",
   "execution_count": null,
   "metadata": {
    "editable": true,
    "slideshow": {
     "slide_type": ""
    },
    "tags": []
   },
   "outputs": [],
   "source": [
    "input()"
   ]
  },
  {
   "cell_type": "code",
   "execution_count": null,
   "metadata": {
    "editable": true,
    "slideshow": {
     "slide_type": ""
    },
    "tags": []
   },
   "outputs": [],
   "source": [
    "if use_OpenCV:\n",
    "    def filter(img, Estimator, l=3, w=5):\n",
    "        w2 = (w + 1) // 2\n",
    "        estimator = Estimator(win_side=w, pyr_levels=l, verbosity=logging.WARNING, poly_sigma=0.5)\n",
    "        A = np.zeros_like(img, dtype=np.int16)\n",
    "        for i in range(img.shape[0] - w):\n",
    "            print(i, end=' ')\n",
    "            R = img[i:i + w]\n",
    "            T = img[i + 1: i + 1 + w].astype(np.float32)\n",
    "            initial_flow = np.zeros(shape=(R.shape[0], R.shape[1], 2), dtype=np.float32)\n",
    "            flow = estimator.pyramid_get_flow(target=T, reference=R, flow=initial_flow)\n",
    "            compensated_slice = project(R, flow)\n",
    "            compensated_line = compensated_slice[(w + 1) >> 1, :]\n",
    "            A[i + w2] = (T[(w + 1) >> 1, :] + compensated_line) / 2\n",
    "        return A\n",
    "else:\n",
    "    from numpy.linalg import LinAlgError\n",
    "    def filter(img, Estimator, l=3, sigma_poly=4.0, sigma_flow=4.0):\n",
    "        estimator = Estimator(logger, pyr_levels=l, sigma_poly=sigma_poly, sigma_flow=sigma_flow, num_iters=3)\n",
    "        A = np.zeros_like(img, dtype=np.int16)\n",
    "        for i in range(img.shape[0]-1):\n",
    "            print(i, end=' ')\n",
    "            R = img[i]\n",
    "            T = img[i + 1].astype(np.float32)\n",
    "            initial_flow = np.zeros_like(R, dtype=np.float32)\n",
    "            try:\n",
    "                initial_flow = np.zeros_like(R, dtype=np.float32)\n",
    "                flow = estimator.pyramid_get_flow(target=T, reference=R, flow=initial_flow)\n",
    "            except LinAlgError as e:\n",
    "                print(f\"Caught LinAlgError: {e}\")\n",
    "                flow = np.zeros_like(R)\n",
    "            projected_line = project(logger, R, flow)\n",
    "            print(\"avg flow=\", np.average(np.abs(flow)))\n",
    "            print(np.max(projected_line))\n",
    "            A[i] = (T + projected_line) / 2\n",
    "        return A"
   ]
  },
  {
   "cell_type": "code",
   "execution_count": null,
   "metadata": {},
   "outputs": [],
   "source": [
    "denoised = noisy.copy()"
   ]
  },
  {
   "cell_type": "code",
   "execution_count": null,
   "metadata": {
    "scrolled": true
   },
   "outputs": [],
   "source": [
    "if use_OpenCV:\n",
    "    denoised = filter(denoised, Estimator, w=5, l=3)\n",
    "else:\n",
    "    denoised = filter(denoised, Estimator, l=3, sigma_poly=4.0, sigma_flow=4.0)\n",
    "denoised = np.transpose(denoised, (1, 0))\n",
    "if use_OpenCV:\n",
    "    denoised = filter(denoised, Estimator, w=2, l=3)\n",
    "else:\n",
    "    denoised = filter(denoised, Estimator, l=3, sigma_poly=4.0, sigma_flow=4.0)\n",
    "denoised = np.transpose(denoised, (1, 0))\n",
    "plt.imshow(denoised.astype(np.float32), cmap=\"gray\")"
   ]
  },
  {
   "cell_type": "code",
   "execution_count": null,
   "metadata": {},
   "outputs": [],
   "source": [
    "plt.imshow(denoised[40:480,40:480], cmap=\"gray\")"
   ]
  },
  {
   "cell_type": "code",
   "execution_count": null,
   "metadata": {},
   "outputs": [],
   "source": [
    "plt.imshow(d, cmap=\"gray\")"
   ]
  },
  {
   "cell_type": "code",
   "execution_count": null,
   "metadata": {},
   "outputs": [],
   "source": [
    "np.min(denoised)"
   ]
  },
  {
   "cell_type": "code",
   "execution_count": null,
   "metadata": {},
   "outputs": [],
   "source": [
    "plt.imshow(noisy, cmap=\"gray\")"
   ]
  },
  {
   "cell_type": "code",
   "execution_count": null,
   "metadata": {},
   "outputs": [],
   "source": [
    "input()"
   ]
  },
  {
   "cell_type": "code",
   "execution_count": null,
   "metadata": {},
   "outputs": [],
   "source": [
    "#import denoising.image.OF_gaussian as denoising\n",
    "!pip install \"image_denoising @ git+https://github.com/microscopy-processing/image_denoising\"\n",
    "!pip show image_denoising\n",
    "import image_denoising\n",
    "import logging\n",
    "from image_denoising import OF_gaussian\n",
    "image_denoising.OF_gaussian.logger.setLevel(logging.WARNING)\n",
    "logging.getLevelName(image_denoising.OF_gaussian.logger.getEffectiveLevel())"
   ]
  },
  {
   "cell_type": "code",
   "execution_count": null,
   "metadata": {
    "scrolled": true
   },
   "outputs": [],
   "source": [
    "%%time\n",
    "\n",
    "OFGD__sigma_kernel = 2.5\n",
    "OFGD__N_iters = 1\n",
    "OFGD__l = 4\n",
    "OFGD__w = 25\n",
    "OFGD__sigma_OF = 2.0\n",
    "\n",
    "denoised_img, _ = image_denoising.OF_gaussian.filter_gray_image(noisy_img, OFGD__sigma_kernel, OFGD__N_iters, OFGD__l, OFGD__w, OFGD__sigma_OF)"
   ]
  },
  {
   "cell_type": "code",
   "execution_count": null,
   "metadata": {},
   "outputs": [],
   "source": [
    "fig, axs = plt.subplots(1, 3, figsize=(16, 32))\n",
    "axs[0].imshow(img, cmap=\"gray\")\n",
    "axs[0].set_title(\"Original\")\n",
    "axs[1].imshow(noisy_img, cmap=\"gray\")\n",
    "axs[1].set_title(\"Noisy\")\n",
    "axs[2].imshow(denoised_img, cmap=\"gray\")\n",
    "axs[2].set_title(f\"Denoised ({information_theory.distortion.avg_PSNR(denoised_img, img):4.2f} dB)\")\n",
    "fig.tight_layout()\n",
    "plt.show()"
   ]
  },
  {
   "cell_type": "code",
   "execution_count": null,
   "metadata": {},
   "outputs": [],
   "source": [
    "import denoising.image.OF_gaussian as denoising"
   ]
  },
  {
   "cell_type": "code",
   "execution_count": null,
   "metadata": {},
   "outputs": [],
   "source": [
    "import logging"
   ]
  },
  {
   "cell_type": "code",
   "execution_count": null,
   "metadata": {},
   "outputs": [],
   "source": [
    "sigma = 2.0"
   ]
  },
  {
   "cell_type": "code",
   "execution_count": null,
   "metadata": {},
   "outputs": [],
   "source": [
    "denoiser = denoising.Monochrome_Denoising(verbosity=logging.DEBUG, sigma_poly=4.0, sigma_flow=4.0, pyr_levels=2)\n",
    "#denoiser = gaussian_denoising.Monochrome_Image_OF_Gaussian_Denoising(sigma_gaussian=sigma_gaussian, l=3, w=5, sigma_OF=1.0, verbosity=logging.DEBUG)"
   ]
  },
  {
   "cell_type": "code",
   "execution_count": null,
   "metadata": {
    "id": "xI1pWnvWxjoj"
   },
   "outputs": [],
   "source": [
    "kernel = denoiser.get_kernel(sigma)\n",
    "print(kernel)\n",
    "print(np.sum(kernel))\n",
    "plt.plot(kernel)\n",
    "plt.show()"
   ]
  },
  {
   "cell_type": "code",
   "execution_count": null,
   "metadata": {
    "scrolled": true
   },
   "outputs": [],
   "source": [
    "denoised_img, _ = denoiser.filter_iterate(noisy_img=img, GT=img, sigma=sigma)"
   ]
  },
  {
   "cell_type": "code",
   "execution_count": null,
   "metadata": {},
   "outputs": [],
   "source": [
    "denoised_img = np.clip(denoised_img, a_min=0, a_max=255)"
   ]
  },
  {
   "cell_type": "code",
   "execution_count": null,
   "metadata": {},
   "outputs": [],
   "source": [
    "fig, axs = plt.subplots(1, 3, figsize=(16, 32))\n",
    "axs[0].imshow(img, cmap=\"gray\")\n",
    "axs[0].set_title(\"Original\")\n",
    "axs[1].imshow(noisy_img, cmap=\"gray\")\n",
    "axs[1].set_title(\"Noisy\")\n",
    "axs[2].imshow(denoised_img, cmap=\"gray\")\n",
    "axs[2].set_title(f\"Denoised ({information_theory.distortion.avg_PSNR(denoised_img, img):4.2f} dB)\")\n",
    "fig.tight_layout()\n",
    "plt.show()"
   ]
  },
  {
   "cell_type": "code",
   "execution_count": null,
   "metadata": {},
   "outputs": [],
   "source": [
    "img = skimage_io.imread(\"http://www.hpca.ual.es/~vruiz/images/lena.png\")"
   ]
  },
  {
   "cell_type": "code",
   "execution_count": null,
   "metadata": {},
   "outputs": [],
   "source": [
    "plt.imshow(img)"
   ]
  },
  {
   "cell_type": "code",
   "execution_count": null,
   "metadata": {},
   "outputs": [],
   "source": [
    "mean = 0\n",
    "var = 1000\n",
    "sigma = var**0.5\n",
    "noise = np.random.normal(mean,sigma,img.shape).reshape(img.shape)\n",
    "noisy_img = np.clip(a=img.astype(np.float32) + noise, a_min=0, a_max=255).astype(np.uint8)"
   ]
  },
  {
   "cell_type": "code",
   "execution_count": null,
   "metadata": {},
   "outputs": [],
   "source": [
    "plt.imshow(noisy_img)"
   ]
  },
  {
   "cell_type": "code",
   "execution_count": null,
   "metadata": {},
   "outputs": [],
   "source": [
    "sigma_gaussian = 2.0"
   ]
  },
  {
   "cell_type": "code",
   "execution_count": null,
   "metadata": {},
   "outputs": [],
   "source": [
    "denoiser = gaussian_denoising.Color_Image_OF_Gaussian_Denoising(\n",
    "    sigma_gaussian=sigma_gaussian, l=3, w=5, sigma_OF=1.0, verbosity=logging.DEBUG)"
   ]
  },
  {
   "cell_type": "code",
   "execution_count": null,
   "metadata": {},
   "outputs": [],
   "source": [
    "denoised_img, _ = denoiser.filter(noisy_image=noisy_img, GT=img)\n",
    "denoised_img = denoised_img.astype(np.uint8)"
   ]
  },
  {
   "cell_type": "code",
   "execution_count": null,
   "metadata": {},
   "outputs": [],
   "source": [
    "fig, axs = plt.subplots(1, 3, figsize=(16, 32))\n",
    "axs[0].imshow(img)\n",
    "axs[0].set_title(\"Original\")\n",
    "axs[1].imshow(noisy_img)\n",
    "axs[1].set_title(\"Noisy\")\n",
    "axs[2].imshow(denoised_img)\n",
    "axs[2].set_title(\"Denoised\")\n",
    "fig.tight_layout()\n",
    "plt.show()"
   ]
  },
  {
   "cell_type": "code",
   "execution_count": null,
   "metadata": {
    "editable": true,
    "slideshow": {
     "slide_type": ""
    },
    "tags": []
   },
   "outputs": [],
   "source": []
  }
 ],
 "metadata": {
  "colab": {
   "collapsed_sections": [],
   "name": "gaussian_denoising.ipynb",
   "provenance": []
  },
  "kernelspec": {
   "display_name": "Python 3 (ipykernel)",
   "language": "python",
   "name": "python3"
  },
  "language_info": {
   "codemirror_mode": {
    "name": "ipython",
    "version": 3
   },
   "file_extension": ".py",
   "mimetype": "text/x-python",
   "name": "python",
   "nbconvert_exporter": "python",
   "pygments_lexer": "ipython3",
   "version": "3.10.12"
  }
 },
 "nbformat": 4,
 "nbformat_minor": 4
}
