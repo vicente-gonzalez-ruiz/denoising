{
 "cells": [
  {
   "cell_type": "markdown",
   "metadata": {
    "editable": true,
    "id": "QqfKxC0KuCzK",
    "slideshow": {
     "slide_type": ""
    },
    "tags": []
   },
   "source": [
    "# Optical flow Gaussian image denoising"
   ]
  },
  {
   "cell_type": "code",
   "execution_count": null,
   "metadata": {},
   "outputs": [],
   "source": [
    "use_OpenCV = False\n",
    "use_OpenCV = True\n",
    "local_debug = True"
   ]
  },
  {
   "cell_type": "code",
   "execution_count": null,
   "metadata": {
    "editable": true,
    "id": "IIUxh4uStrQJ",
    "slideshow": {
     "slide_type": ""
    },
    "tags": []
   },
   "outputs": [],
   "source": [
    "import logging\n",
    "import numpy as np\n",
    "import scipy.ndimage\n",
    "import matplotlib.pyplot as plt\n",
    "#from ipywidgets import *\n",
    "import cv2\n",
    "import time\n",
    "#import kernels\n",
    "from skimage import io as skimage_io"
   ]
  },
  {
   "cell_type": "code",
   "execution_count": null,
   "metadata": {},
   "outputs": [],
   "source": [
    "import logging\n",
    "logging.basicConfig(format=\"[%(filename)s:%(lineno)s %(funcName)s()] %(message)s\")\n",
    "logger = logging.getLogger(__name__)\n",
    "#logger.setLevel(logging.INFO)\n",
    "logger.setLevel(logging.WARNING)"
   ]
  },
  {
   "cell_type": "code",
   "execution_count": null,
   "metadata": {},
   "outputs": [],
   "source": [
    "if local_debug:\n",
    "    !ln -sf ../../information_theory/src/information_theory/ .\n",
    "else:\n",
    "    !pip install \"information_theory @ git+https://github.com/vicente-gonzalez-ruiz/information_theory\"\n",
    "import information_theory  # pip install \"information_theory @ git+https://github.com/vicente-gonzalez-ruiz/information_theory\""
   ]
  },
  {
   "cell_type": "code",
   "execution_count": null,
   "metadata": {},
   "outputs": [],
   "source": [
    "if local_debug:\n",
    "    !ln -sf ../../motion_estimation/src/motion_estimation/ .\n",
    "else:\n",
    "    !pip install \"motion_estimation @ git+https://github.com/vicente-gonzalez-ruiz/motion_estimation\"\n",
    "if use_OpenCV:\n",
    "    from motion_estimation._2D.farneback_OpenCV import OF_Estimation\n",
    "    from motion_estimation._2D.project import Projection\n",
    "else:\n",
    "    from motion_estimation._1D.farneback_python import OF_Estimation\n",
    "    from motion_estimation._1D.project import Projection"
   ]
  },
  {
   "cell_type": "code",
   "execution_count": null,
   "metadata": {},
   "outputs": [],
   "source": [
    "GT = skimage_io.imread(\"http://www.hpca.ual.es/~vruiz/images/barb.png\")"
   ]
  },
  {
   "cell_type": "code",
   "execution_count": null,
   "metadata": {},
   "outputs": [],
   "source": [
    "plt.imshow(GT, cmap=\"gray\")"
   ]
  },
  {
   "cell_type": "code",
   "execution_count": null,
   "metadata": {
    "editable": true,
    "slideshow": {
     "slide_type": ""
    },
    "tags": []
   },
   "outputs": [],
   "source": [
    "padded_GT = np.zeros(shape=(GT.shape[0]+32, GT.shape[1]+32), dtype=np.uint8)\n",
    "padded_GT[16:-16, 16:-16] = GT\n",
    "GT = padded_GT"
   ]
  },
  {
   "cell_type": "code",
   "execution_count": null,
   "metadata": {},
   "outputs": [],
   "source": [
    "mean = 0\n",
    "var = 1000\n",
    "sigma = 20 #var**0.5\n",
    "noise = np.random.normal(mean, sigma, GT.shape).reshape(GT.shape)\n",
    "noisy = np.clip(a=GT.astype(np.float32) + noise, a_min=0, a_max=255).astype(np.uint8)"
   ]
  },
  {
   "cell_type": "code",
   "execution_count": null,
   "metadata": {
    "editable": true,
    "slideshow": {
     "slide_type": ""
    },
    "tags": []
   },
   "outputs": [],
   "source": [
    "plt.imshow(noisy, cmap=\"gray\")"
   ]
  },
  {
   "cell_type": "code",
   "execution_count": null,
   "metadata": {
    "editable": true,
    "id": "xI1pWnvWxjoj",
    "scrolled": true,
    "slideshow": {
     "slide_type": ""
    },
    "tags": []
   },
   "outputs": [],
   "source": [
    "def get_gaussian_kernel(sigma=1):\n",
    "    number_of_coeffs = 3\n",
    "    number_of_zeros = 0\n",
    "    while number_of_zeros < 2 :\n",
    "        delta = np.zeros(number_of_coeffs)\n",
    "        delta[delta.size//2] = 1\n",
    "        coeffs = scipy.ndimage.gaussian_filter1d(delta, sigma=sigma)\n",
    "        number_of_zeros = coeffs.size - np.count_nonzero(coeffs)\n",
    "        number_of_coeffs += 1\n",
    "    return coeffs[1:-1]\n",
    "\n",
    "sigma = np.array([1.0, 1.0])\n",
    "sigma = np.array([1.5, 1.5])\n",
    "sigma = np.array([2.5, 2.5])\n",
    "sigma = np.array([2.0, 2.0])\n",
    "kernel = [None]*2\n",
    "kernel[0] = get_gaussian_kernel(sigma[0])\n",
    "kernel[1] = get_gaussian_kernel(sigma[1])\n",
    "print(np.sum(kernel[0]))\n",
    "plt.plot(kernel[0])\n",
    "plt.show()"
   ]
  },
  {
   "cell_type": "code",
   "execution_count": null,
   "metadata": {
    "editable": true,
    "slideshow": {
     "slide_type": ""
    },
    "tags": []
   },
   "outputs": [],
   "source": [
    "if use_OpenCV:\n",
    "    import denoising.image.OF_gaussian__OpenCV as denoising\n",
    "else:\n",
    "    import denoising.image.OF_gaussian as denoising"
   ]
  },
  {
   "cell_type": "code",
   "execution_count": null,
   "metadata": {
    "editable": true,
    "slideshow": {
     "slide_type": ""
    },
    "tags": []
   },
   "outputs": [],
   "source": [
    "#logger.setLevel(logging.DEBUG)\n",
    "#logger.setLevel(logging.INFO)\n",
    "if use_OpenCV:\n",
    "    denoiser = denoising.Monochrome_Denoising(logger, N_poly=5, window_side=9)\n",
    "else:\n",
    "    denoiser = denoising.Monochrome_Denoising(logger, N_poly=5, window_length=15)"
   ]
  },
  {
   "cell_type": "code",
   "execution_count": null,
   "metadata": {
    "editable": true,
    "scrolled": true,
    "slideshow": {
     "slide_type": ""
    },
    "tags": []
   },
   "outputs": [],
   "source": [
    "if use_OpenCV:\n",
    "    denoised_img = denoiser.filter(noisy, kernel)\n",
    "else:\n",
    "    denoised_img = denoiser.filter(noisy.astype(np.float64), kernel)"
   ]
  },
  {
   "cell_type": "code",
   "execution_count": null,
   "metadata": {
    "editable": true,
    "slideshow": {
     "slide_type": ""
    },
    "tags": []
   },
   "outputs": [],
   "source": [
    "denoised = np.clip(denoised_img, a_min=0, a_max=255)"
   ]
  },
  {
   "cell_type": "code",
   "execution_count": null,
   "metadata": {
    "editable": true,
    "slideshow": {
     "slide_type": ""
    },
    "tags": []
   },
   "outputs": [],
   "source": [
    "fig, axs = plt.subplots(1, 3, figsize=(16, 32))\n",
    "axs[0].imshow(GT, cmap=\"gray\")\n",
    "axs[0].set_title(\"Original\")\n",
    "axs[1].imshow(noisy, cmap=\"gray\")\n",
    "axs[1].set_title(f\"Noisy ({information_theory.distortion.SSIM(noisy, GT):3.2f})\")\n",
    "axs[2].imshow(denoised, cmap=\"gray\")\n",
    "axs[2].set_title(f\"Denoised ({information_theory.distortion.SSIM(denoised, GT):3.2f})\")\n",
    "fig.tight_layout()\n",
    "plt.show()"
   ]
  },
  {
   "cell_type": "code",
   "execution_count": null,
   "metadata": {},
   "outputs": [],
   "source": [
    "np.mean(GT)"
   ]
  },
  {
   "cell_type": "code",
   "execution_count": null,
   "metadata": {},
   "outputs": [],
   "source": [
    "np.mean(denoised)"
   ]
  },
  {
   "cell_type": "code",
   "execution_count": null,
   "metadata": {},
   "outputs": [],
   "source": [
    "np.mean(denoised) - np.mean(GT)"
   ]
  },
  {
   "cell_type": "code",
   "execution_count": null,
   "metadata": {},
   "outputs": [],
   "source": [
    "denoised -= (np.mean(denoised) - np.mean(GT))"
   ]
  },
  {
   "cell_type": "code",
   "execution_count": null,
   "metadata": {},
   "outputs": [],
   "source": []
  }
 ],
 "metadata": {
  "colab": {
   "collapsed_sections": [],
   "name": "gaussian_denoising.ipynb",
   "provenance": []
  },
  "kernelspec": {
   "display_name": "Python 3 (ipykernel)",
   "language": "python",
   "name": "python3"
  },
  "language_info": {
   "codemirror_mode": {
    "name": "ipython",
    "version": 3
   },
   "file_extension": ".py",
   "mimetype": "text/x-python",
   "name": "python",
   "nbconvert_exporter": "python",
   "pygments_lexer": "ipython3",
   "version": "3.12.2"
  }
 },
 "nbformat": 4,
 "nbformat_minor": 4
}
