{
 "cells": [
  {
   "cell_type": "markdown",
   "metadata": {
    "id": "QqfKxC0KuCzK"
   },
   "source": [
    "# Optical flow Gaussian volume denoising"
   ]
  },
  {
   "cell_type": "code",
   "execution_count": null,
   "metadata": {},
   "outputs": [],
   "source": [
    "use_OpenCV = True\n",
    "local_debug = True"
   ]
  },
  {
   "cell_type": "code",
   "execution_count": null,
   "metadata": {
    "id": "IIUxh4uStrQJ"
   },
   "outputs": [],
   "source": [
    "import logging\n",
    "import numpy as np\n",
    "import scipy.ndimage\n",
    "import matplotlib.pyplot as plt\n",
    "#from ipywidgets import *\n",
    "import cv2\n",
    "import time\n",
    "#import kernels\n",
    "import skimage\n",
    "from skimage import io as skimage_io"
   ]
  },
  {
   "cell_type": "code",
   "execution_count": null,
   "metadata": {},
   "outputs": [],
   "source": [
    "import logging\n",
    "logging.basicConfig(format=\"[%(filename)s:%(lineno)s %(funcName)s()] %(message)s\")\n",
    "logger = logging.getLogger(__name__)\n",
    "logger.setLevel(logging.INFO)"
   ]
  },
  {
   "cell_type": "code",
   "execution_count": null,
   "metadata": {},
   "outputs": [],
   "source": [
    "if local_debug:\n",
    "    !ln -sf ../../information_theory/src/information_theory/ .\n",
    "else:\n",
    "    !pip install \"information_theory @ git+https://github.com/vicente-gonzalez-ruiz/information_theory\"\n",
    "import information_theory  # pip install \"information_theory @ git+https://github.com/vicente-gonzalez-ruiz/information_theory\""
   ]
  },
  {
   "cell_type": "code",
   "execution_count": null,
   "metadata": {},
   "outputs": [],
   "source": [
    "if use_OpenCV:\n",
    "    from denoising.volume.gaussian import Monochrome_Denoising as gaussian_denoising"
   ]
  },
  {
   "cell_type": "code",
   "execution_count": null,
   "metadata": {},
   "outputs": [],
   "source": [
    "noisy = skimage.io.imread(\"small_vol.tif\", plugin=\"tifffile\").astype(np.float32)"
   ]
  },
  {
   "cell_type": "code",
   "execution_count": null,
   "metadata": {},
   "outputs": [],
   "source": [
    "Z_dim = noisy.shape[0]\n",
    "Z2 = Z_dim//2"
   ]
  },
  {
   "cell_type": "code",
   "execution_count": null,
   "metadata": {},
   "outputs": [],
   "source": [
    "plt.imshow(noisy[Z2], cmap=\"gray\")"
   ]
  },
  {
   "cell_type": "code",
   "execution_count": null,
   "metadata": {
    "editable": true,
    "slideshow": {
     "slide_type": ""
    },
    "tags": []
   },
   "outputs": [],
   "source": [
    "def get_gaussian_kernel(sigma=1):\n",
    "    number_of_coeffs = 3\n",
    "    number_of_zeros = 0\n",
    "    while number_of_zeros < 2 :\n",
    "        delta = np.zeros(number_of_coeffs)\n",
    "        delta[delta.size//2] = 1\n",
    "        coeffs = scipy.ndimage.gaussian_filter1d(delta, sigma=sigma)\n",
    "        number_of_zeros = coeffs.size - np.count_nonzero(coeffs)\n",
    "        number_of_coeffs += 1\n",
    "    return coeffs[1:-1]\n",
    "\n",
    "sigma = np.array([1.5, 1.5, 1.5])\n",
    "kernel = [None]*3\n",
    "kernel[0] = get_gaussian_kernel(sigma[0])\n",
    "kernel[1] = get_gaussian_kernel(sigma[1])\n",
    "kernel[2] = get_gaussian_kernel(sigma[2])"
   ]
  },
  {
   "cell_type": "code",
   "execution_count": null,
   "metadata": {},
   "outputs": [],
   "source": [
    "denoiser = gaussian_denoising(logger)\n",
    "denoised = denoiser.filter(noisy, kernel)"
   ]
  },
  {
   "cell_type": "code",
   "execution_count": null,
   "metadata": {},
   "outputs": [],
   "source": [
    "fig, axes = plt.subplots(1, 2, figsize=(12, 6))\n",
    "axes[0].imshow(denoised[Z2], cmap=\"gray\")\n",
    "axes[1].imshow(noisy[Z2], cmap=\"gray\")\n",
    "plt.show()"
   ]
  },
  {
   "cell_type": "code",
   "execution_count": null,
   "metadata": {},
   "outputs": [],
   "source": [
    "if use_OpenCV:\n",
    "    from denoising.volume.OF_gaussian import Monochrome_Denoising as OF_gaussian_denoising"
   ]
  },
  {
   "cell_type": "code",
   "execution_count": null,
   "metadata": {},
   "outputs": [],
   "source": [
    "denoiser = OF_gaussian_denoising(logger)\n",
    "denoised = denoiser.filter(noisy, kernel, l=1, w=5)"
   ]
  },
  {
   "cell_type": "code",
   "execution_count": null,
   "metadata": {
    "editable": true,
    "slideshow": {
     "slide_type": ""
    },
    "tags": []
   },
   "outputs": [],
   "source": [
    "fig, axes = plt.subplots(1, 2, figsize=(12, 6))\n",
    "axes[0].imshow(denoised[Z2], cmap=\"gray\")\n",
    "axes[1].imshow(noisy[Z2], cmap=\"gray\")\n",
    "plt.show()"
   ]
  },
  {
   "cell_type": "code",
   "execution_count": null,
   "metadata": {},
   "outputs": [],
   "source": [
    "GT = skimage_io.imread(\"http://www.hpca.ual.es/~vruiz/images/barb.png\")"
   ]
  },
  {
   "cell_type": "code",
   "execution_count": null,
   "metadata": {},
   "outputs": [],
   "source": [
    "padded_GT = np.zeros(shape=(GT.shape[0]+32, GT.shape[1]+32), dtype=np.uint8)\n",
    "padded_GT[16:-16, 16:-16] = GT\n",
    "GT = padded_GT"
   ]
  },
  {
   "cell_type": "code",
   "execution_count": null,
   "metadata": {
    "editable": true,
    "slideshow": {
     "slide_type": ""
    },
    "tags": []
   },
   "outputs": [],
   "source": [
    "w = 7\n",
    "Z = 32"
   ]
  },
  {
   "cell_type": "code",
   "execution_count": null,
   "metadata": {},
   "outputs": [],
   "source": [
    "mean = 0\n",
    "var = 1000\n",
    "sigma = 20 #var**0.5\n",
    "noise = np.random.normal(mean, sigma, GT.shape).reshape(GT.shape)\n",
    "noisy = np.clip(a=GT.astype(np.float32) + noise, a_min=0, a_max=255).astype(np.uint8)"
   ]
  },
  {
   "cell_type": "code",
   "execution_count": null,
   "metadata": {},
   "outputs": [],
   "source": [
    "noisy = np.array([noisy]*Z)"
   ]
  },
  {
   "cell_type": "code",
   "execution_count": null,
   "metadata": {},
   "outputs": [],
   "source": [
    "Z2 = Z//2"
   ]
  },
  {
   "cell_type": "code",
   "execution_count": null,
   "metadata": {},
   "outputs": [],
   "source": [
    "plt.imshow(noisy[Z2], cmap=\"gray\")"
   ]
  },
  {
   "cell_type": "code",
   "execution_count": null,
   "metadata": {
    "editable": true,
    "slideshow": {
     "slide_type": ""
    },
    "tags": []
   },
   "outputs": [],
   "source": [
    "skimage.io.imsave(arr=noisy, fname=\"noisy.tif\", plugin=\"tifffile\")"
   ]
  },
  {
   "cell_type": "code",
   "execution_count": null,
   "metadata": {},
   "outputs": [],
   "source": [
    "plt.imshow(noisy[:, :, 256], cmap=\"gray\")"
   ]
  },
  {
   "cell_type": "code",
   "execution_count": null,
   "metadata": {},
   "outputs": [],
   "source": [
    "sigma = np.array([1.5, 1.5, 1.5])\n",
    "kernel = [None]*3\n",
    "kernel[0] = get_gaussian_kernel(sigma[0])\n",
    "kernel[1] = get_gaussian_kernel(sigma[1])\n",
    "kernel[2] = get_gaussian_kernel(sigma[2])\n",
    "for i in range(3):\n",
    "    print(len(kernel[i]))"
   ]
  },
  {
   "cell_type": "code",
   "execution_count": null,
   "metadata": {
    "scrolled": true
   },
   "outputs": [],
   "source": [
    "denoised = denoiser.filter(noisy, kernel, l=1, w=5)"
   ]
  },
  {
   "cell_type": "code",
   "execution_count": null,
   "metadata": {},
   "outputs": [],
   "source": [
    "plt.imshow(denoised[:, :, 256], cmap=\"gray\")"
   ]
  },
  {
   "cell_type": "code",
   "execution_count": null,
   "metadata": {
    "scrolled": true
   },
   "outputs": [],
   "source": [
    "sum_denoised = np.zeros_like(denoised[0])\n",
    "for z in range(0, Z):\n",
    "    sum_denoised += denoised[z]\n",
    "    plt.imshow(denoised[z], cmap=\"gray\")\n",
    "    plt.show()\n",
    "avg_denoised = sum_denoised / Z"
   ]
  },
  {
   "cell_type": "code",
   "execution_count": null,
   "metadata": {
    "editable": true,
    "slideshow": {
     "slide_type": ""
    },
    "tags": []
   },
   "outputs": [],
   "source": [
    "print(f\"{information_theory.distortion.PSNR(denoised[Z2], GT):4.2f} dB\")"
   ]
  },
  {
   "cell_type": "code",
   "execution_count": null,
   "metadata": {},
   "outputs": [],
   "source": [
    "print(f\"{information_theory.distortion.PSNR(noisy[Z2], GT):4.2f} dB\")"
   ]
  },
  {
   "cell_type": "code",
   "execution_count": null,
   "metadata": {},
   "outputs": [],
   "source": [
    "fig, axs = plt.subplots(1, 3, figsize=(16, 32))\n",
    "axs[0].imshow(GT, cmap=\"gray\")\n",
    "axs[0].set_title(\"Original\")\n",
    "axs[1].imshow(noisy[Z2], cmap=\"gray\")\n",
    "axs[1].set_title(f\"Noisy ({information_theory.distortion.PSNR(noisy[Z2], GT):4.2f} dB)\")\n",
    "axs[2].imshow(avg_denoised, cmap=\"gray\")\n",
    "#axs[2].set_title(f\"Denoised ({information_theory.distortion.PSNR(avg_denoised, GT):4.2f} dB)\")\n",
    "axs[2].set_title(f\"Denoised ({information_theory.distortion.PSNR(denoised[Z2], GT):4.2f} dB)\")\n",
    "fig.tight_layout()\n",
    "plt.show()"
   ]
  },
  {
   "cell_type": "code",
   "execution_count": null,
   "metadata": {
    "editable": true,
    "slideshow": {
     "slide_type": ""
    },
    "tags": []
   },
   "outputs": [],
   "source": [
    "fig, axes = plt.subplots(1, 2, figsize=(24, 12))\n",
    "axes[0].imshow(avg_denoised, cmap=\"gray\")\n",
    "#axes[1].imshow(noisy[0], cmap=\"gray\")\n",
    "axes[1].imshow(denoised[Z2], cmap=\"gray\")\n",
    "plt.show()"
   ]
  },
  {
   "cell_type": "code",
   "execution_count": null,
   "metadata": {},
   "outputs": [],
   "source": [
    "input()"
   ]
  },
  {
   "cell_type": "code",
   "execution_count": null,
   "metadata": {},
   "outputs": [],
   "source": [
    "if local_debug:\n",
    "    !ln -sf ../../motion_estimation/src/motion_estimation/ .\n",
    "else:\n",
    "    !pip install \"motion_estimation @ git+https://github.com/vicente-gonzalez-ruiz/motion_estimation\"\n",
    "if use_OpenCV:\n",
    "    from motion_estimation._2D.farneback_OpenCV import Estimator_in_CPU as Estimator\n",
    "else:\n",
    "    from motion_estimation._2D.farneback_python import Estimator\n",
    "from motion_estimation._2D.project import project"
   ]
  },
  {
   "cell_type": "code",
   "execution_count": null,
   "metadata": {},
   "outputs": [],
   "source": [
    "from numpy.linalg import LinAlgError"
   ]
  },
  {
   "cell_type": "code",
   "execution_count": null,
   "metadata": {},
   "outputs": [],
   "source": [
    "noisy = skimage.io.imread(\"small_vol.tif\", plugin=\"tifffile\").astype(np.float32)"
   ]
  },
  {
   "cell_type": "code",
   "execution_count": null,
   "metadata": {},
   "outputs": [],
   "source": [
    "N = 32\n",
    "N2 = N//2\n",
    "plt.imshow(noisy[N2], cmap=\"gray\")"
   ]
  },
  {
   "cell_type": "code",
   "execution_count": null,
   "metadata": {},
   "outputs": [],
   "source": [
    "def get_gaussian_kernel(sigma=1):\n",
    "    number_of_coeffs = 3\n",
    "    number_of_zeros = 0\n",
    "    while number_of_zeros < 2 :\n",
    "        delta = np.zeros(number_of_coeffs)\n",
    "        delta[delta.size//2] = 1\n",
    "        coeffs = scipy.ndimage.gaussian_filter1d(delta, sigma=sigma)\n",
    "        number_of_zeros = coeffs.size - np.count_nonzero(coeffs)\n",
    "        number_of_coeffs += 1\n",
    "    return coeffs[1:-1]\n",
    "\n",
    "OFCA_EXTENSION_MODE = cv2.BORDER_REPLICATE\n",
    "OF_LEVELS = 0\n",
    "OF_WINDOW_SIZE = 5\n",
    "OF_ITERS = 3\n",
    "OF_POLY_N = 5\n",
    "OF_POLY_SIGMA = 0.5 #1.2\n",
    "SIGMA = 2.0\n",
    "\n",
    "def warp_slice(reference, flow):\n",
    "    height, width = flow.shape[:2]\n",
    "    map_x = np.tile(np.arange(width), (height, 1))\n",
    "    map_y = np.swapaxes(np.tile(np.arange(height), (width, 1)), 0, 1)\n",
    "    map_xy = (flow + np.dstack((map_x, map_y))).astype('float32')\n",
    "    warped_slice = cv2.remap(reference, map_xy, None, interpolation=cv2.INTER_LINEAR, borderMode=OFCA_EXTENSION_MODE)\n",
    "    return warped_slice\n",
    "\n",
    "def get_flow(reference, target, l=OF_LEVELS, w=OF_WINDOW_SIZE, prev_flow=None):\n",
    "    flow = cv2.calcOpticalFlowFarneback(prev=target, next=reference, flow=prev_flow, pyr_scale=0.5, levels=l, winsize=w, iterations=OF_ITERS, poly_n=OF_POLY_N, poly_sigma=OF_POLY_SIGMA, flags=cv2.OPTFLOW_USE_INITIAL_FLOW)\n",
    "    return flow\n",
    "\n",
    "def _get_flow(reference, target, l=OF_LEVELS, w=OF_WINDOW_SIZE, prev_flow=None):\n",
    "    flow = cv2.calcOpticalFlowFarneback(prev=target, next=reference, flow=prev_flow, pyr_scale=0.5, levels=l, winsize=w, iterations=OF_ITERS, poly_n=OF_POLY_N, poly_sigma=OF_POLY_SIGMA, flags=0)\n",
    "    return flow\n",
    "\n",
    "def OF_filter_along_Z(vol, kernel, l, w, mean):\n",
    "    filtered_vol = np.zeros_like(vol).astype(np.float32)\n",
    "    shape_of_vol = np.shape(vol)\n",
    "    padded_vol = np.full(shape=(shape_of_vol[0] + kernel.size, shape_of_vol[1], shape_of_vol[2]), fill_value=mean)\n",
    "    padded_vol[kernel.size//2:shape_of_vol[0] + kernel.size//2, :, :] = vol\n",
    "    Z_dim = vol.shape[0]\n",
    "    for z in range(Z_dim):\n",
    "        tmp_slice = np.zeros_like(vol[z]).astype(np.float32)\n",
    "        assert kernel.size % 2 != 0 # kernel.size must be odd\n",
    "        prev_flow = np.zeros(shape=(shape_of_vol[1], shape_of_vol[2], 2), dtype=np.float32)\n",
    "        for i in range((kernel.size//2) - 1, -1, -1):\n",
    "            flow = get_flow(padded_vol[z + i, :, :], vol[z, :, :], l, w, prev_flow)\n",
    "            print(np.average(np.abs(flow)), end=' ')\n",
    "            prev_flow = flow\n",
    "            OF_compensated_slice = warp_slice(padded_vol[z + i, :, :], flow)\n",
    "            tmp_slice += OF_compensated_slice * kernel[i]\n",
    "        tmp_slice += vol[z, :, :] * kernel[kernel.size//2]\n",
    "        prev_flow = np.zeros(shape=(shape_of_vol[1], shape_of_vol[2], 2), dtype=np.float32)\n",
    "        for i in range(kernel.size//2+1, kernel.size):\n",
    "            flow = get_flow(padded_vol[z + i, :, :], vol[z, :, :], l, w, prev_flow)\n",
    "            print(np.average(np.abs(flow)), end=' ')\n",
    "            prev_flow = flow\n",
    "            OF_compensated_slice = warp_slice(padded_vol[z + i, :, :], flow)\n",
    "            tmp_slice += OF_compensated_slice * kernel[i]\n",
    "        filtered_vol[z, :, :] = tmp_slice\n",
    "    return filtered_vol\n",
    "\n",
    "def no_OF_filter_along_Z(vol, kernel, mean):\n",
    "    filtered_vol = np.zeros_like(vol).astype(np.float32)\n",
    "    shape_of_vol = np.shape(vol)\n",
    "    padded_vol = np.full(shape=(shape_of_vol[0] + kernel.size, shape_of_vol[1], shape_of_vol[2]), fill_value=mean)\n",
    "    padded_vol[kernel.size//2:shape_of_vol[0] + kernel.size//2, ...] = vol\n",
    "    Z_dim = vol.shape[0]\n",
    "    for z in range(Z_dim):\n",
    "        tmp_slice = np.zeros_like(vol[z, :, :]).astype(np.float32)\n",
    "        for i in range(kernel.size):\n",
    "            tmp_slice += padded_vol[z + i, :, :] * kernel[i]\n",
    "        filtered_vol[z, :, :] = tmp_slice\n",
    "    return filtered_vol\n",
    "\n",
    "def OF_filter_along_Y(vol, kernel, l, w, mean):\n",
    "    filtered_vol = np.zeros_like(vol).astype(np.float32)\n",
    "    shape_of_vol = np.shape(vol)\n",
    "    padded_vol = np.full(shape=(shape_of_vol[0], shape_of_vol[1] + kernel.size, shape_of_vol[2]), fill_value=mean)\n",
    "    padded_vol[:, kernel.size//2:shape_of_vol[1] + kernel.size//2, :] = vol\n",
    "    Y_dim = vol.shape[1]\n",
    "    for y in range(Y_dim):\n",
    "        tmp_slice = np.zeros_like(vol[:, y, :]).astype(np.float32)\n",
    "        assert kernel.size % 2 != 0 # kernel.size must be odd\n",
    "        prev_flow = np.zeros(shape=(shape_of_vol[0], shape_of_vol[2], 2), dtype=np.float32)\n",
    "        for i in range((kernel.size//2) - 1, -1, -1):\n",
    "            flow = get_flow(padded_vol[:, y + i, :], vol[:, y, :], l, w, prev_flow)\n",
    "            print(np.average(np.abs(flow)), end=' ')\n",
    "            prev_flow = flow                     \n",
    "            OF_compensated_slice = warp_slice(padded_vol[:, y + i, :], flow)\n",
    "            tmp_slice += OF_compensated_slice * kernel[i]\n",
    "        tmp_slice += vol[:, y, :] * kernel[kernel.size//2]\n",
    "        prev_flow = np.zeros(shape=(shape_of_vol[0], shape_of_vol[2], 2), dtype=np.float32)\n",
    "        for i in range(kernel.size//2+1, kernel.size):\n",
    "            flow = get_flow(padded_vol[:, y + i, :], vol[:, y, :], l, w, prev_flow)\n",
    "            print(np.average(np.abs(flow)), end=' ')\n",
    "            prev_flow = flow                      \n",
    "            OF_compensated_slice = warp_slice(padded_vol[:, y + i, :], flow)\n",
    "            tmp_slice += OF_compensated_slice * kernel[i]\n",
    "        filtered_vol[:, y, :] = tmp_slice\n",
    "    return filtered_vol\n",
    "\n",
    "def no_OF_filter_along_Y(vol, kernel, mean):\n",
    "    filtered_vol = np.zeros_like(vol).astype(np.float32)\n",
    "    shape_of_vol = np.shape(vol)\n",
    "    padded_vol = np.full(shape=(shape_of_vol[0], shape_of_vol[1] + kernel.size, shape_of_vol[2]), fill_value=mean)\n",
    "    padded_vol[:, kernel.size//2:shape_of_vol[1] + kernel.size//2, :] = vol\n",
    "    Y_dim = vol.shape[1]\n",
    "    for y in range(Y_dim):\n",
    "        tmp_slice = np.zeros_like(vol[:, y, :]).astype(np.float32)\n",
    "        for i in range(kernel.size):\n",
    "            tmp_slice += padded_vol[:, y + i, :] * kernel[i]\n",
    "        filtered_vol[:, y, :] = tmp_slice\n",
    "    return filtered_vol\n",
    "\n",
    "def OF_filter_along_X(vol, kernel, l, w, mean):\n",
    "    filtered_vol = np.zeros_like(vol).astype(np.float32)\n",
    "    shape_of_vol = np.shape(vol)\n",
    "    padded_vol = np.full(shape=(shape_of_vol[0], shape_of_vol[1], shape_of_vol[2] + kernel.size), fill_value=mean)\n",
    "    padded_vol[:, :, kernel.size//2:shape_of_vol[2] + kernel.size//2] = vol\n",
    "    X_dim = vol.shape[2]\n",
    "    for x in range(X_dim):\n",
    "        tmp_slice = np.zeros_like(vol[:, :, x]).astype(np.float32)\n",
    "        assert kernel.size % 2 != 0 # kernel.size must be odd\n",
    "        prev_flow = np.zeros(shape=(shape_of_vol[0], shape_of_vol[1], 2), dtype=np.float32)\n",
    "        for i in range((kernel.size//2) - 1, -1, -1):\n",
    "            flow = get_flow(padded_vol[:, :, x + i], vol[:, :, x], l, w, prev_flow)\n",
    "            print(np.average(np.abs(flow)), end=' ')\n",
    "            prev_flow = flow\n",
    "            OF_compensated_slice = warp_slice(padded_vol[:, :, x + i], flow)\n",
    "            tmp_slice += OF_compensated_slice * kernel[i]\n",
    "        tmp_slice += vol[:, :, x] * kernel[kernel.size//2]\n",
    "        prev_flow = np.zeros(shape=(shape_of_vol[0], shape_of_vol[1], 2), dtype=np.float32)\n",
    "        for i in range(kernel.size//2+1, kernel.size):\n",
    "            flow = get_flow(padded_vol[:, :, x + i], vol[:, :, x], l, w, prev_flow)\n",
    "            print(np.average(np.abs(flow)), end=' ')\n",
    "            prev_flow = flow\n",
    "            OF_compensated_slice = warp_slice(padded_vol[:, :, x + i], flow)\n",
    "            tmp_slice += OF_compensated_slice * kernel[i]\n",
    "        filtered_vol[:, :, x] = tmp_slice\n",
    "    return filtered_vol\n",
    "\n",
    "def no_OF_filter_along_X(vol, kernel, mean):\n",
    "    filtered_vol = np.zeros_like(vol).astype(np.float32)\n",
    "    shape_of_vol = np.shape(vol)\n",
    "    padded_vol = np.full(shape=(shape_of_vol[0], shape_of_vol[1], shape_of_vol[2] + kernel.size), fill_value=mean)\n",
    "    padded_vol[:, :, kernel.size//2:shape_of_vol[2] + kernel.size//2] = vol\n",
    "    X_dim = vol.shape[2]\n",
    "    for x in range(X_dim):\n",
    "        tmp_slice = np.zeros_like(vol[:, :, x]).astype(np.float32)\n",
    "        for i in range(kernel.size):\n",
    "            tmp_slice += padded_vol[:, :, x + i] * kernel[i]\n",
    "        filtered_vol[:, :, x] = tmp_slice\n",
    "    return filtered_vol\n",
    "\n",
    "def OF_filter(vol, kernel, l, w):\n",
    "    mean = vol.mean()\n",
    "    print(\"\\nZ\")\n",
    "    print(vol.dtype)\n",
    "    print(f\"max(vol) = {np.max(vol)}\")\n",
    "    print(f\"min(vol) = {np.min(vol)}\")\n",
    "    print(f\"avg(vol) = {np.average(vol)}\")\n",
    "    filtered_vol_Z = OF_filter_along_Z(vol, kernel[0], l, w, mean)\n",
    "    fig, axes = plt.subplots(1, 2, figsize=(12, 6))\n",
    "    axes[0].imshow(vol[8].astype(np.float32), cmap=\"gray\")\n",
    "    axes[1].imshow(vol[8] - filtered_vol_Z[8], cmap=\"gray\")\n",
    "    plt.show()\n",
    "    print(f\"max(vol) = {np.max(vol)}\")\n",
    "    print(f\"min(vol) = {np.min(vol)}\")\n",
    "    print(f\"avg(vol) = {np.average(vol)}\")\n",
    "    print(f\"max(filtered_vol_Z) = {np.max(filtered_vol_Z)}\")\n",
    "    print(f\"min(filtered_vol_Z) = {np.min(filtered_vol_Z)}\")\n",
    "    print(f\"avg(filtered_vol_Z) = {np.average(filtered_vol_Z)}\")\n",
    "    #filtered_vol_Z[...] = vol\n",
    "    #print(filtered_vol_Z.dtype)\n",
    "    #return filtered_vol_Z\n",
    "    print(\"\\nY\")\n",
    "    filtered_vol_ZY = OF_filter_along_Y(filtered_vol_Z, kernel[1], l, w, mean)\n",
    "    #filtered_vol_ZY = OF_filter_along_Y(vol.astype(np.float32), kernel[1], l, w, mean)\n",
    "    print(\"\\nX\")\n",
    "    filtered_vol_ZYX = OF_filter_along_X(filtered_vol_ZY, kernel[2], l, w, mean)\n",
    "    return filtered_vol_ZYX\n",
    "\n",
    "def no_OF_filter(vol, kernel):\n",
    "    mean = vol.mean()\n",
    "    filtered_vol_Z = no_OF_filter_along_Z(vol, kernel[0], mean)\n",
    "    filtered_vol_ZY = no_OF_filter_along_Y(filtered_vol_Z, kernel[1], mean)\n",
    "    filtered_vol_ZYX = no_OF_filter_along_X(filtered_vol_ZY, kernel[2], mean)\n",
    "    return filtered_vol_ZYX"
   ]
  },
  {
   "cell_type": "code",
   "execution_count": null,
   "metadata": {},
   "outputs": [],
   "source": [
    "sigma = np.array([2.0, 2.0, 2.0])\n",
    "kernel = [None]*3\n",
    "kernel[0] = get_gaussian_kernel(sigma[0])\n",
    "kernel[1] = get_gaussian_kernel(sigma[1])\n",
    "kernel[2] = get_gaussian_kernel(sigma[2])"
   ]
  },
  {
   "cell_type": "code",
   "execution_count": null,
   "metadata": {},
   "outputs": [],
   "source": [
    "denoised = no_OF_filter(noisy, kernel)"
   ]
  },
  {
   "cell_type": "code",
   "execution_count": null,
   "metadata": {},
   "outputs": [],
   "source": [
    "fig, axes = plt.subplots(1, 2, figsize=(12, 6))\n",
    "axes[0].imshow(denoised[16], cmap=\"gray\")\n",
    "axes[1].imshow(noisy[16], cmap=\"gray\")\n",
    "plt.show()"
   ]
  },
  {
   "cell_type": "code",
   "execution_count": null,
   "metadata": {
    "scrolled": true
   },
   "outputs": [],
   "source": [
    "denoised = OF_filter(noisy, kernel, 1, 5)"
   ]
  },
  {
   "cell_type": "code",
   "execution_count": null,
   "metadata": {},
   "outputs": [],
   "source": [
    "fig, axes = plt.subplots(1, 2, figsize=(12, 6))\n",
    "axes[0].imshow(denoised[N2], cmap=\"gray\")\n",
    "axes[1].imshow(noisy[N2], cmap=\"gray\")\n",
    "plt.show()"
   ]
  },
  {
   "cell_type": "code",
   "execution_count": null,
   "metadata": {},
   "outputs": [],
   "source": [
    "input()"
   ]
  },
  {
   "cell_type": "code",
   "execution_count": null,
   "metadata": {},
   "outputs": [],
   "source": [
    "from skimage import io as skimage_io\n",
    "GT = skimage_io.imread(\"http://www.hpca.ual.es/~vruiz/images/barb.png\")"
   ]
  },
  {
   "cell_type": "code",
   "execution_count": null,
   "metadata": {},
   "outputs": [],
   "source": [
    "mean = 0\n",
    "var = 1000\n",
    "sigma = 20 #var**0.5\n",
    "noise = np.random.normal(mean, sigma, GT.shape).reshape(GT.shape)\n",
    "noisy = np.clip(a=GT.astype(np.float32) + noise, a_min=0, a_max=255).astype(np.uint8)"
   ]
  },
  {
   "cell_type": "code",
   "execution_count": null,
   "metadata": {},
   "outputs": [],
   "source": [
    "N = 16\n",
    "N2 = N//2\n",
    "noisy = np.array([noisy]*N)"
   ]
  },
  {
   "cell_type": "code",
   "execution_count": null,
   "metadata": {},
   "outputs": [],
   "source": [
    "noisy.shape"
   ]
  },
  {
   "cell_type": "code",
   "execution_count": null,
   "metadata": {},
   "outputs": [],
   "source": [
    "plt.imshow(noisy[N2], cmap=\"gray\")"
   ]
  },
  {
   "cell_type": "code",
   "execution_count": null,
   "metadata": {},
   "outputs": [],
   "source": [
    "plt.imshow(noisy[:, :, 256], cmap=\"gray\")"
   ]
  },
  {
   "cell_type": "code",
   "execution_count": null,
   "metadata": {
    "scrolled": true
   },
   "outputs": [],
   "source": [
    "denoised = OF_filter(noisy, kernel, 1, 5)"
   ]
  },
  {
   "cell_type": "code",
   "execution_count": null,
   "metadata": {},
   "outputs": [],
   "source": [
    "plt.imshow(denoised[:, :, 256], cmap=\"gray\")"
   ]
  },
  {
   "cell_type": "code",
   "execution_count": null,
   "metadata": {},
   "outputs": [],
   "source": [
    "fig, axes = plt.subplots(1, 2, figsize=(24, 12))\n",
    "axes[0].imshow(denoised[1], cmap=\"gray\")\n",
    "axes[1].imshow(noisy[N2], cmap=\"gray\")\n",
    "plt.show()"
   ]
  },
  {
   "cell_type": "code",
   "execution_count": null,
   "metadata": {},
   "outputs": [],
   "source": [
    "input()"
   ]
  },
  {
   "cell_type": "code",
   "execution_count": null,
   "metadata": {},
   "outputs": [],
   "source": [
    "def get_kernel(sigma=1.5):\n",
    "    number_of_coeffs = 3\n",
    "    number_of_zeros = 0\n",
    "    while number_of_zeros < 2:\n",
    "        delta = np.zeros(number_of_coeffs)\n",
    "        delta[delta.size//2] = 1\n",
    "        coeffs = scipy.ndimage.gaussian_filter1d(delta, sigma=sigma)\n",
    "        number_of_zeros = coeffs.size - np.count_nonzero(coeffs)\n",
    "        number_of_coeffs += 1\n",
    "    return coeffs[1:-1]"
   ]
  },
  {
   "cell_type": "code",
   "execution_count": null,
   "metadata": {},
   "outputs": [],
   "source": [
    "def filter_Z(vol, kernel, mean):\n",
    "    KL = kernel.size\n",
    "    KL2 = KL//2\n",
    "    extended_vol = np.full(fill_value=mean, shape=(vol.shape[0] + KL, vol.shape[1], vol.shape[2]))\n",
    "    extended_vol[KL2:vol.shape[0] + KL2, :, :] = vol[:, :, :]\n",
    "    filtered_vol = np.empty_like(vol, dtype=np.float32)\n",
    "    Z_dim = vol.shape[0]\n",
    "    Y_dim = vol.shape[1]\n",
    "    X_dim = vol.shape[2]\n",
    "    filtered_YX_plane = np.empty(shape=(Y_dim, X_dim), dtype=np.float32)\n",
    "    for z in range(Z_dim):\n",
    "        print(z, end=' ')\n",
    "        #vertical_line = np.zeros(N_rows, dtype=np.float32)\n",
    "        filtered_YX_plane.fill(0)\n",
    "        for i in range(KL2 - 1, -1, -1):\n",
    "            warped_plane = project_A_to_B(A=extended_vol[z + i, ...], B=extended_vol[z, ...])\n",
    "            filtered_YX_plane += warped_plane * kernel[i]\n",
    "        filtered_YX_plane += warped_plane * kernel[KL2]\n",
    "        for i in range(KL2 + 1, KL):\n",
    "            warped_plane = project_A_to_B(A=extended_vol[z + i, ...], B=extended_vol[z, ...])\n",
    "            filtered_YX_plane += warped_plane * kernel[i]     \n",
    "        filtered_vol[z, :, :] = filtered_YX_plane[:, :]\n",
    "    return filtered_vol\n",
    "        \n",
    "def _filter_Z(vol, kernel, mean):\n",
    "    KL = kernel.size\n",
    "    KL2 = KL//2\n",
    "    extended_vol = np.full(fill_value=mean, shape=(vol.shape[0] + KL, vol.shape[1], vol.shape[2]))\n",
    "    extended_vol[KL2:vol.shape[0] + KL2, ...] = vol[...]\n",
    "    filtered_vol = []\n",
    "    Z_dim = vol.shape[0]\n",
    "    Y_dim = vol.shape[1]\n",
    "    X_dim = vol.shape[2]\n",
    "    for z in range(Z_dim):\n",
    "        YX_plane = np.zeros(shape=(Y_dim, X_dim), dtype=np.float32)\n",
    "        for i in range(KL2 - 1, -1, -1):\n",
    "            plane = project_A_to_B(A=extended_vol[z + i, ...], B=extended_vol[z, ...])\n",
    "            YX_plane += plane * kernel[i]\n",
    "        YX_plane += plane * kernel[KL2]\n",
    "        for i in range(KL2 + 1, KL):\n",
    "            plane = project_A_to_B(A=extended_vol[z + i, ...], B=extended_vol[z, ...])\n",
    "            YX_plane += plane * kernel[i]            \n",
    "        filtered_vol.append(YX_plane)\n",
    "    filtered_vol = np.stack(filtered_vol, axis=0)\n",
    "    return filtered_vol\n",
    "\n",
    "def filter_Y(vol, kernel, mean):\n",
    "    vol = np.transpose(vol, (1, 0, 2))\n",
    "    filtered_vol = filter_Z(vol, kernel, mean)\n",
    "    filtered_vol = np.transpose(filtered_vol, (1, 0, 2))\n",
    "    return filtered_vol\n",
    "\n",
    "def _filter_Y(vol, kernel, mean):\n",
    "    KL = kernel.size\n",
    "    KL2 = KL//2\n",
    "    extended_vol = np.full(fill_value=mean, shape=(vol.shape[0], vol.shape[1] + KL, vol.shape[2]))\n",
    "    extended_vol[:, KL2:vol.shape[1] + KL2, :] = vol[...]\n",
    "    filtered_vol = []\n",
    "    Z_dim = vol.shape[0]\n",
    "    Y_dim = vol.shape[1]\n",
    "    X_dim = vol.shape[2]\n",
    "    for y in range(Y_dim):\n",
    "        ZX_plane = np.zeros(shape=(Z_dim, X_dim), dtype=np.float32)\n",
    "        for i in range(KL):\n",
    "            plane = project_A_to_B(A=extended_vol[:, y + i, :], B=extended_vol[:, y, :])\n",
    "            ZX_plane += plane * kernel[i]\n",
    "        filtered_vol.append(ZX_plane)\n",
    "    filtered_vol = np.stack(filtered_vol, axis=1)\n",
    "    return filtered_vol\n",
    "\n",
    "def filter_X(vol, kernel, mean):\n",
    "    vol = np.transpose(vol, (2, 1, 0))\n",
    "    filtered_vol = filter_Z(vol, kernel, mean)\n",
    "    filtered_vol = np.transpose(filtered_vol, (2, 1, 0))\n",
    "    return filtered_vol\n",
    "\n",
    "def _filter_X(vol, kernel, mean):\n",
    "    KL = kernel.size\n",
    "    KL2 = KL//2\n",
    "    extended_vol = np.full(fill_value=mean, shape=(vol.shape[0], vol.shape[1], vol.shape[2] + KL))\n",
    "    extended_vol[..., KL2:vol.shape[2] + KL2] = vol[...]\n",
    "    filtered_vol = []\n",
    "    Z_dim = vol.shape[0]\n",
    "    Y_dim = vol.shape[1]\n",
    "    X_dim = vol.shape[2]\n",
    "    for x in range(X_dim):\n",
    "        ZY_plane = np.zeros(shape=(Z_dim, Y_dim), dtype=np.float32)\n",
    "        for i in range(KL):\n",
    "            plane = project_A_to_B(A=extended_vol[..., x + i], B=extended_vol[..., x])\n",
    "            ZY_plane += plane * kernel[i]\n",
    "        filtered_vol.append(ZY_plane)\n",
    "    filtered_vol = np.stack(filtered_vol, axis=2)\n",
    "    return filtered_vol\n",
    "\n",
    "def filter(vol, kernel, mean):\n",
    "    vol_z = filter_Z(vol, kernel, mean)\n",
    "    vol_y = filter_Y(vol_z, kernel, mean)\n",
    "    vol_x = filter_X(vol_y, kernel, mean)\n",
    "    return vol_x"
   ]
  },
  {
   "cell_type": "code",
   "execution_count": null,
   "metadata": {},
   "outputs": [],
   "source": [
    "def project_A_to_B(A, B):\n",
    "    return A"
   ]
  },
  {
   "cell_type": "code",
   "execution_count": null,
   "metadata": {},
   "outputs": [],
   "source": [
    "kernel = get_kernel(2.5)\n",
    "print(kernel)\n",
    "print(np.sum(kernel))\n",
    "plt.plot(kernel)\n",
    "plt.show()"
   ]
  },
  {
   "cell_type": "code",
   "execution_count": null,
   "metadata": {},
   "outputs": [],
   "source": [
    "denoised = filter(noisy, kernel, mean=128)"
   ]
  },
  {
   "cell_type": "code",
   "execution_count": null,
   "metadata": {},
   "outputs": [],
   "source": [
    "fig, axes = plt.subplots(1, 2, figsize=(12, 6))\n",
    "axes[0].imshow(denoised[N2], cmap=\"gray\")\n",
    "axes[1].imshow(noisy[N2], cmap=\"gray\")\n",
    "plt.show()"
   ]
  },
  {
   "cell_type": "code",
   "execution_count": null,
   "metadata": {},
   "outputs": [],
   "source": [
    "def project(logger,\n",
    "            image,\n",
    "            flow,\n",
    "            interpolation_mode=cv2.INTER_LINEAR,\n",
    "            extension_mode=cv2.BORDER_REPLICATE):\n",
    "    \n",
    "    logger.info(f\"image.shape={image.shape}\")\n",
    "    \n",
    "    height, width = flow.shape[:2]\n",
    "    map_x = np.tile(np.arange(width), (height, 1))\n",
    "    map_y = np.swapaxes(np.tile(np.arange(height), (width, 1)), 0, 1)\n",
    "    map_xy = (flow + np.dstack((map_x, map_y))).astype('float32')\n",
    "    projection = cv2.remap(\n",
    "        image,\n",
    "        map_xy,\n",
    "        None,\n",
    "        interpolation=interpolation_mode,\n",
    "        borderMode=extension_mode)\n",
    "    \n",
    "    return projection"
   ]
  },
  {
   "cell_type": "code",
   "execution_count": null,
   "metadata": {},
   "outputs": [],
   "source": [
    "def get_flow(\n",
    "        reference,\n",
    "        target,\n",
    "        l=3,\n",
    "        w=5,\n",
    "        prev_flow=None):\n",
    "    if __debug__:\n",
    "        time_0 = time.perf_counter()\n",
    "    flow = cv2.calcOpticalFlowFarneback(\n",
    "        prev=target,\n",
    "        next=reference,\n",
    "        flow=None,\n",
    "        pyr_scale=0.5,\n",
    "        levels=l,\n",
    "        winsize=w,\n",
    "        iterations=3,\n",
    "        poly_n=5,\n",
    "        poly_sigma=1.1,\n",
    "        flags=0)\n",
    "    if __debug__:\n",
    "        time_1 = time.perf_counter()\n",
    "        logging.debug(f\"OF computed in {1000*(time_1 - time_0):4.3f} ms, \\\n",
    "max_X={np.max(flow[0]):+3.2f}, min_X={np.min(flow[0]):+3.2f}, \\\n",
    "max_Y={np.max(flow[1]):+3.2f}, min_Y={np.min(flow[1]):+3.2f}\")\n",
    "    return flow"
   ]
  },
  {
   "cell_type": "code",
   "execution_count": null,
   "metadata": {},
   "outputs": [],
   "source": [
    "estimator = Estimator(logger, pyr_levels=3, sigma_poly=0.5, win_side=5, num_iters=3, flags=0)\n",
    "\n",
    "def project_A_to_B(A, B):\n",
    "    try:\n",
    "        flow = get_flow(target=B, reference=A, prev_flow=None)\n",
    "    except LinAlgError as e:\n",
    "        print(f\"Caught exception: {e}\")\n",
    "        self.counter += 1\n",
    "        return A\n",
    "    projection = project(logger, image=A.astype(np.uint8), flow=flow)\n",
    "    return projection"
   ]
  },
  {
   "cell_type": "code",
   "execution_count": null,
   "metadata": {
    "scrolled": true
   },
   "outputs": [],
   "source": [
    "denoised = filter(noisy, kernel, mean=128)"
   ]
  },
  {
   "cell_type": "code",
   "execution_count": null,
   "metadata": {},
   "outputs": [],
   "source": [
    "fig, axes = plt.subplots(1, 2, figsize=(12, 6))\n",
    "axes[0].imshow(denoised[16], cmap=\"gray\")\n",
    "axes[1].imshow(noisy[16], cmap=\"gray\")\n",
    "plt.show()"
   ]
  },
  {
   "cell_type": "code",
   "execution_count": null,
   "metadata": {},
   "outputs": [],
   "source": [
    "input()"
   ]
  },
  {
   "cell_type": "code",
   "execution_count": null,
   "metadata": {},
   "outputs": [],
   "source": [
    "import denoising.image.OF_gaussian as denoising"
   ]
  },
  {
   "cell_type": "code",
   "execution_count": null,
   "metadata": {},
   "outputs": [],
   "source": [
    "if use_OpenCV:\n",
    "    denoiser = gaussian_denoising.Monochrome_Image_OF_Gaussian_Denoising(sigma_gaussian=sigma_gaussian, l=3, w=5, sigma_OF=1.0, verbosity=logging.DEBUG)\n",
    "else:\n",
    "    denoiser = denoising.Monochrome_Denoising(logger, pyr_levels=2, win_side=27, num_iters=3, sigma_poly=4.0)"
   ]
  },
  {
   "cell_type": "code",
   "execution_count": null,
   "metadata": {
    "id": "xI1pWnvWxjoj"
   },
   "outputs": [],
   "source": [
    "kernel = denoiser.get_kernel(1.5)\n",
    "print(kernel)\n",
    "print(np.sum(kernel))\n",
    "plt.plot(kernel)\n",
    "plt.show()"
   ]
  },
  {
   "cell_type": "code",
   "execution_count": null,
   "metadata": {
    "scrolled": true
   },
   "outputs": [],
   "source": [
    "denoised = filter(vol, kernel)"
   ]
  },
  {
   "cell_type": "code",
   "execution_count": null,
   "metadata": {},
   "outputs": [],
   "source": [
    "denoised = np.clip(denoised_img, a_min=0, a_max=255)"
   ]
  },
  {
   "cell_type": "code",
   "execution_count": null,
   "metadata": {},
   "outputs": [],
   "source": [
    "fig, axs = plt.subplots(1, 3, figsize=(16, 32))\n",
    "axs[0].imshow(GT, cmap=\"gray\")\n",
    "axs[0].set_title(\"Original\")\n",
    "axs[1].imshow(noisy, cmap=\"gray\")\n",
    "axs[1].set_title(\"Noisy\")\n",
    "axs[2].imshow(denoised, cmap=\"gray\")\n",
    "axs[2].set_title(f\"Denoised ({information_theory.distortion.avg_PSNR(denoised, GT):4.2f} dB)\")\n",
    "fig.tight_layout()\n",
    "plt.show()"
   ]
  },
  {
   "cell_type": "code",
   "execution_count": null,
   "metadata": {},
   "outputs": [],
   "source": [
    "input()"
   ]
  },
  {
   "cell_type": "code",
   "execution_count": null,
   "metadata": {},
   "outputs": [],
   "source": [
    "if use_OpenCV:\n",
    "    def filter(img, Estimator, l=3, w=5):\n",
    "        w2 = (w + 1) // 2\n",
    "        estimator = Estimator(win_side=w, pyr_levels=l, verbosity=logging.WARNING, poly_sigma=0.5)\n",
    "        A = np.zeros_like(img, dtype=np.int16)\n",
    "        for i in range(img.shape[0] - w):\n",
    "            print(i, end=' ')\n",
    "            R = img[i:i + w]\n",
    "            T = img[i + 1: i + 1 + w].astype(np.float32)\n",
    "            initial_flow = np.zeros(shape=(R.shape[0], R.shape[1], 2), dtype=np.float32)\n",
    "            flow = estimator.pyramid_get_flow(target=T, reference=R, flow=initial_flow)\n",
    "            compensated_slice = project(R, flow)\n",
    "            compensated_line = compensated_slice[(w + 1) >> 1, :]\n",
    "            A[i + w2] = (T[(w + 1) >> 1, :] + compensated_line) / 2\n",
    "        return A\n",
    "else:\n",
    "    from numpy.linalg import LinAlgError\n",
    "    def filter(img, Estimator, l=3, sigma_poly=4.0, sigma_flow=4.0):\n",
    "        estimator = Estimator(logger, pyr_levels=l, sigma_poly=sigma_poly, sigma_flow=sigma_flow, num_iters=3)\n",
    "        A = np.zeros_like(img, dtype=np.int16)\n",
    "        for i in range(img.shape[0]-1):\n",
    "            print(i, end=' ')\n",
    "            R = img[i]\n",
    "            T = img[i + 1].astype(np.float32)\n",
    "            initial_flow = np.zeros_like(R, dtype=np.float32)\n",
    "            try:\n",
    "                initial_flow = np.zeros_like(R, dtype=np.float32)\n",
    "                flow = estimator.pyramid_get_flow(target=T, reference=R, flow=initial_flow)\n",
    "            except LinAlgError as e:\n",
    "                print(f\"Caught LinAlgError: {e}\")\n",
    "                flow = np.zeros_like(R)\n",
    "            projected_line = project(logger, R, flow)\n",
    "            print(\"avg flow=\", np.average(np.abs(flow)))\n",
    "            print(np.max(projected_line))\n",
    "            A[i] = (T + projected_line) / 2\n",
    "        return A"
   ]
  },
  {
   "cell_type": "code",
   "execution_count": null,
   "metadata": {},
   "outputs": [],
   "source": [
    "denoised = noisy.copy()"
   ]
  },
  {
   "cell_type": "code",
   "execution_count": null,
   "metadata": {
    "scrolled": true
   },
   "outputs": [],
   "source": [
    "if use_OpenCV:\n",
    "    denoised = filter(denoised, Estimator, w=5, l=3)\n",
    "else:\n",
    "    denoised = filter(denoised, Estimator, l=3, sigma_poly=4.0, sigma_flow=4.0)\n",
    "denoised = np.transpose(denoised, (1, 0))\n",
    "if use_OpenCV:\n",
    "    denoised = filter(denoised, Estimator, w=2, l=3)\n",
    "else:\n",
    "    denoised = filter(denoised, Estimator, l=3, sigma_poly=4.0, sigma_flow=4.0)\n",
    "denoised = np.transpose(denoised, (1, 0))\n",
    "plt.imshow(denoised.astype(np.float32), cmap=\"gray\")"
   ]
  },
  {
   "cell_type": "code",
   "execution_count": null,
   "metadata": {},
   "outputs": [],
   "source": [
    "plt.imshow(denoised[40:480,40:480], cmap=\"gray\")"
   ]
  },
  {
   "cell_type": "code",
   "execution_count": null,
   "metadata": {},
   "outputs": [],
   "source": [
    "plt.imshow(d, cmap=\"gray\")"
   ]
  },
  {
   "cell_type": "code",
   "execution_count": null,
   "metadata": {},
   "outputs": [],
   "source": [
    "np.min(denoised)"
   ]
  },
  {
   "cell_type": "code",
   "execution_count": null,
   "metadata": {},
   "outputs": [],
   "source": [
    "plt.imshow(noisy, cmap=\"gray\")"
   ]
  },
  {
   "cell_type": "code",
   "execution_count": null,
   "metadata": {},
   "outputs": [],
   "source": [
    "input()"
   ]
  },
  {
   "cell_type": "code",
   "execution_count": null,
   "metadata": {},
   "outputs": [],
   "source": [
    "#import denoising.image.OF_gaussian as denoising\n",
    "!pip install \"image_denoising @ git+https://github.com/microscopy-processing/image_denoising\"\n",
    "!pip show image_denoising\n",
    "import image_denoising\n",
    "import logging\n",
    "from image_denoising import OF_gaussian\n",
    "image_denoising.OF_gaussian.logger.setLevel(logging.WARNING)\n",
    "logging.getLevelName(image_denoising.OF_gaussian.logger.getEffectiveLevel())"
   ]
  },
  {
   "cell_type": "code",
   "execution_count": null,
   "metadata": {
    "scrolled": true
   },
   "outputs": [],
   "source": [
    "%%time\n",
    "\n",
    "OFGD__sigma_kernel = 2.5\n",
    "OFGD__N_iters = 1\n",
    "OFGD__l = 4\n",
    "OFGD__w = 25\n",
    "OFGD__sigma_OF = 2.0\n",
    "\n",
    "denoised_img, _ = image_denoising.OF_gaussian.filter_gray_image(noisy_img, OFGD__sigma_kernel, OFGD__N_iters, OFGD__l, OFGD__w, OFGD__sigma_OF)"
   ]
  },
  {
   "cell_type": "code",
   "execution_count": null,
   "metadata": {},
   "outputs": [],
   "source": [
    "fig, axs = plt.subplots(1, 3, figsize=(16, 32))\n",
    "axs[0].imshow(img, cmap=\"gray\")\n",
    "axs[0].set_title(\"Original\")\n",
    "axs[1].imshow(noisy_img, cmap=\"gray\")\n",
    "axs[1].set_title(\"Noisy\")\n",
    "axs[2].imshow(denoised_img, cmap=\"gray\")\n",
    "axs[2].set_title(f\"Denoised ({information_theory.distortion.avg_PSNR(denoised_img, img):4.2f} dB)\")\n",
    "fig.tight_layout()\n",
    "plt.show()"
   ]
  },
  {
   "cell_type": "code",
   "execution_count": null,
   "metadata": {},
   "outputs": [],
   "source": [
    "import denoising.image.OF_gaussian as denoising"
   ]
  },
  {
   "cell_type": "code",
   "execution_count": null,
   "metadata": {},
   "outputs": [],
   "source": [
    "import logging"
   ]
  },
  {
   "cell_type": "code",
   "execution_count": null,
   "metadata": {},
   "outputs": [],
   "source": [
    "sigma = 2.0"
   ]
  },
  {
   "cell_type": "code",
   "execution_count": null,
   "metadata": {},
   "outputs": [],
   "source": [
    "denoiser = denoising.Monochrome_Denoising(verbosity=logging.DEBUG, sigma_poly=4.0, sigma_flow=4.0, pyr_levels=2)\n",
    "#denoiser = gaussian_denoising.Monochrome_Image_OF_Gaussian_Denoising(sigma_gaussian=sigma_gaussian, l=3, w=5, sigma_OF=1.0, verbosity=logging.DEBUG)"
   ]
  },
  {
   "cell_type": "code",
   "execution_count": null,
   "metadata": {
    "id": "xI1pWnvWxjoj"
   },
   "outputs": [],
   "source": [
    "kernel = denoiser.get_kernel(sigma)\n",
    "print(kernel)\n",
    "print(np.sum(kernel))\n",
    "plt.plot(kernel)\n",
    "plt.show()"
   ]
  },
  {
   "cell_type": "code",
   "execution_count": null,
   "metadata": {
    "scrolled": true
   },
   "outputs": [],
   "source": [
    "denoised_img, _ = denoiser.filter_iterate(noisy_img=img, GT=img, sigma=sigma)"
   ]
  },
  {
   "cell_type": "code",
   "execution_count": null,
   "metadata": {},
   "outputs": [],
   "source": [
    "denoised_img = np.clip(denoised_img, a_min=0, a_max=255)"
   ]
  },
  {
   "cell_type": "code",
   "execution_count": null,
   "metadata": {},
   "outputs": [],
   "source": [
    "fig, axs = plt.subplots(1, 3, figsize=(16, 32))\n",
    "axs[0].imshow(img, cmap=\"gray\")\n",
    "axs[0].set_title(\"Original\")\n",
    "axs[1].imshow(noisy_img, cmap=\"gray\")\n",
    "axs[1].set_title(\"Noisy\")\n",
    "axs[2].imshow(denoised_img, cmap=\"gray\")\n",
    "axs[2].set_title(f\"Denoised ({information_theory.distortion.avg_PSNR(denoised_img, img):4.2f} dB)\")\n",
    "fig.tight_layout()\n",
    "plt.show()"
   ]
  },
  {
   "cell_type": "code",
   "execution_count": null,
   "metadata": {},
   "outputs": [],
   "source": [
    "img = skimage_io.imread(\"http://www.hpca.ual.es/~vruiz/images/lena.png\")"
   ]
  },
  {
   "cell_type": "code",
   "execution_count": null,
   "metadata": {},
   "outputs": [],
   "source": [
    "plt.imshow(img)"
   ]
  },
  {
   "cell_type": "code",
   "execution_count": null,
   "metadata": {},
   "outputs": [],
   "source": [
    "mean = 0\n",
    "var = 1000\n",
    "sigma = var**0.5\n",
    "noise = np.random.normal(mean,sigma,img.shape).reshape(img.shape)\n",
    "noisy_img = np.clip(a=img.astype(np.float32) + noise, a_min=0, a_max=255).astype(np.uint8)"
   ]
  },
  {
   "cell_type": "code",
   "execution_count": null,
   "metadata": {},
   "outputs": [],
   "source": [
    "plt.imshow(noisy_img)"
   ]
  },
  {
   "cell_type": "code",
   "execution_count": null,
   "metadata": {},
   "outputs": [],
   "source": [
    "sigma_gaussian = 2.0"
   ]
  },
  {
   "cell_type": "code",
   "execution_count": null,
   "metadata": {},
   "outputs": [],
   "source": [
    "denoiser = gaussian_denoising.Color_Image_OF_Gaussian_Denoising(\n",
    "    sigma_gaussian=sigma_gaussian, l=3, w=5, sigma_OF=1.0, verbosity=logging.DEBUG)"
   ]
  },
  {
   "cell_type": "code",
   "execution_count": null,
   "metadata": {},
   "outputs": [],
   "source": [
    "denoised_img, _ = denoiser.filter(noisy_image=noisy_img, GT=img)\n",
    "denoised_img = denoised_img.astype(np.uint8)"
   ]
  },
  {
   "cell_type": "code",
   "execution_count": null,
   "metadata": {},
   "outputs": [],
   "source": [
    "fig, axs = plt.subplots(1, 3, figsize=(16, 32))\n",
    "axs[0].imshow(img)\n",
    "axs[0].set_title(\"Original\")\n",
    "axs[1].imshow(noisy_img)\n",
    "axs[1].set_title(\"Noisy\")\n",
    "axs[2].imshow(denoised_img)\n",
    "axs[2].set_title(\"Denoised\")\n",
    "fig.tight_layout()\n",
    "plt.show()"
   ]
  },
  {
   "cell_type": "code",
   "execution_count": null,
   "metadata": {},
   "outputs": [],
   "source": []
  }
 ],
 "metadata": {
  "colab": {
   "collapsed_sections": [],
   "name": "gaussian_denoising.ipynb",
   "provenance": []
  },
  "kernelspec": {
   "display_name": "Python 3 (ipykernel)",
   "language": "python",
   "name": "python3"
  },
  "language_info": {
   "codemirror_mode": {
    "name": "ipython",
    "version": 3
   },
   "file_extension": ".py",
   "mimetype": "text/x-python",
   "name": "python",
   "nbconvert_exporter": "python",
   "pygments_lexer": "ipython3",
   "version": "3.10.12"
  }
 },
 "nbformat": 4,
 "nbformat_minor": 4
}
