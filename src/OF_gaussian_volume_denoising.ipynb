{
 "cells": [
  {
   "cell_type": "markdown",
   "metadata": {
    "id": "QqfKxC0KuCzK"
   },
   "source": [
    "# Optical flow Gaussian volume denoising"
   ]
  },
  {
   "cell_type": "code",
   "execution_count": null,
   "metadata": {},
   "outputs": [],
   "source": [
    "use_OpenCV = True\n",
    "local_debug = True"
   ]
  },
  {
   "cell_type": "code",
   "execution_count": null,
   "metadata": {
    "id": "IIUxh4uStrQJ"
   },
   "outputs": [],
   "source": [
    "import logging\n",
    "import numpy as np\n",
    "import scipy.ndimage\n",
    "import matplotlib.pyplot as plt\n",
    "#from ipywidgets import *\n",
    "import cv2\n",
    "import time\n",
    "#import kernels\n",
    "import skimage"
   ]
  },
  {
   "cell_type": "code",
   "execution_count": null,
   "metadata": {},
   "outputs": [],
   "source": [
    "import logging\n",
    "logging.basicConfig(format=\"[%(filename)s:%(lineno)s %(funcName)s()] %(message)s\")\n",
    "logger = logging.getLogger(__name__)\n",
    "logger.setLevel(logging.WARNING)"
   ]
  },
  {
   "cell_type": "code",
   "execution_count": null,
   "metadata": {},
   "outputs": [],
   "source": [
    "if local_debug:\n",
    "    !ln -sf ../../information_theory/src/information_theory/ .\n",
    "else:\n",
    "    !pip install \"information_theory @ git+https://github.com/vicente-gonzalez-ruiz/information_theory\"\n",
    "import information_theory  # pip install \"information_theory @ git+https://github.com/vicente-gonzalez-ruiz/information_theory\""
   ]
  },
  {
   "cell_type": "code",
   "execution_count": null,
   "metadata": {},
   "outputs": [],
   "source": [
    "if local_debug:\n",
    "    !ln -sf ../../motion_estimation/src/motion_estimation/ .\n",
    "else:\n",
    "    !pip install \"motion_estimation @ git+https://github.com/vicente-gonzalez-ruiz/motion_estimation\"\n",
    "if use_OpenCV:\n",
    "    from motion_estimation._2D.farneback_OpenCV import Estimator_in_CPU as Estimator\n",
    "else:\n",
    "    from motion_estimation._2D.farneback_python import Estimator\n",
    "from motion_estimation._2D.project import project"
   ]
  },
  {
   "cell_type": "code",
   "execution_count": null,
   "metadata": {},
   "outputs": [],
   "source": [
    "from numpy.linalg import LinAlgError"
   ]
  },
  {
   "cell_type": "code",
   "execution_count": null,
   "metadata": {},
   "outputs": [],
   "source": [
    "noisy = skimage.io.imread(\"small_vol.tif\", plugin=\"tifffile\").astype(np.float32)"
   ]
  },
  {
   "cell_type": "code",
   "execution_count": null,
   "metadata": {},
   "outputs": [],
   "source": [
    "plt.imshow(noisy[16], cmap=\"gray\")"
   ]
  },
  {
   "cell_type": "code",
   "execution_count": null,
   "metadata": {},
   "outputs": [],
   "source": [
    "def get_kernel(sigma=1.5):\n",
    "    number_of_coeffs = 3\n",
    "    number_of_zeros = 0\n",
    "    while number_of_zeros < 2:\n",
    "        delta = np.zeros(number_of_coeffs)\n",
    "        delta[delta.size//2] = 1\n",
    "        coeffs = scipy.ndimage.gaussian_filter1d(delta, sigma=sigma)\n",
    "        number_of_zeros = coeffs.size - np.count_nonzero(coeffs)\n",
    "        number_of_coeffs += 1\n",
    "    return coeffs[1:-1]"
   ]
  },
  {
   "cell_type": "code",
   "execution_count": null,
   "metadata": {},
   "outputs": [],
   "source": [
    "def project_A_to_B(A, B):\n",
    "    return A"
   ]
  },
  {
   "cell_type": "code",
   "execution_count": null,
   "metadata": {},
   "outputs": [],
   "source": [
    "def filter_Z(vol, kernel, mean):\n",
    "    KL = kernel.size\n",
    "    KL2 = KL//2\n",
    "    extended_vol = np.full(fill_value=mean, shape=(vol.shape[0] + KL, vol.shape[1], vol.shape[2]))\n",
    "    extended_vol[KL2:vol.shape[0] + KL2, ...] = vol[...]\n",
    "    filtered_vol = []\n",
    "    Z_dim = vol.shape[0]\n",
    "    Y_dim = vol.shape[1]\n",
    "    X_dim = vol.shape[2]\n",
    "    for z in range(Z_dim):\n",
    "        YX_plane = np.zeros(shape=(Y_dim, X_dim), dtype=np.float32)\n",
    "        for i in range(KL):\n",
    "            plane = project_A_to_B(A=extended_vol[z + i, ...], B=extended_vol[z, ...])\n",
    "            YX_plane += plane * kernel[i]\n",
    "        filtered_vol.append(YX_plane)\n",
    "    filtered_vol = np.stack(filtered_vol, axis=0)\n",
    "    return filtered_vol\n",
    "\n",
    "def _filter_Y(vol, kernel, mean):\n",
    "    vol = np.transpose(vol, (1, 0, 2))\n",
    "    filtered_vol = filter_Z(vol, kernel, mean)\n",
    "    filtered_vol = np.transpose(filtered_vol, (1, 0, 2))\n",
    "    return filtered_vol\n",
    "\n",
    "def filter_Y(vol, kernel, mean):\n",
    "    KL = kernel.size\n",
    "    KL2 = KL//2\n",
    "    extended_vol = np.full(fill_value=mean, shape=(vol.shape[0], vol.shape[1] + KL, vol.shape[2]))\n",
    "    extended_vol[:, KL2:vol.shape[1] + KL2, :] = vol[...]\n",
    "    filtered_vol = []\n",
    "    Z_dim = vol.shape[0]\n",
    "    Y_dim = vol.shape[1]\n",
    "    X_dim = vol.shape[2]\n",
    "    for y in range(Y_dim):\n",
    "        ZX_plane = np.zeros(shape=(Z_dim, X_dim), dtype=np.float32)\n",
    "        for i in range(KL):\n",
    "            plane = project_A_to_B(A=extended_vol[:, y + i, :], B=extended_vol[:, y, :])\n",
    "            ZX_plane += plane * kernel[i]\n",
    "        filtered_vol.append(ZX_plane)\n",
    "    filtered_vol = np.stack(filtered_vol, axis=1)\n",
    "    return filtered_vol\n",
    "\n",
    "def _filter_X(vol, kernel, mean):\n",
    "    vol = np.transpose(vol, (2, 1, 0))\n",
    "    filtered_vol = filter_Z(vol, kernel, mean)\n",
    "    filtered_vol = np.transpose(filtered_vol, (2, 1, 0))\n",
    "    return filtered_vol\n",
    "\n",
    "def filter_X(vol, kernel, mean):\n",
    "    KL = kernel.size\n",
    "    KL2 = KL//2\n",
    "    extended_vol = np.full(fill_value=mean, shape=(vol.shape[0], vol.shape[1], vol.shape[2] + KL))\n",
    "    extended_vol[..., KL2:vol.shape[2] + KL2] = vol[...]\n",
    "    filtered_vol = []\n",
    "    Z_dim = vol.shape[0]\n",
    "    Y_dim = vol.shape[1]\n",
    "    X_dim = vol.shape[2]\n",
    "    for x in range(X_dim):\n",
    "        ZY_plane = np.zeros(shape=(Z_dim, Y_dim), dtype=np.float32)\n",
    "        for i in range(KL):\n",
    "            plane = project_A_to_B(A=extended_vol[..., x + i], B=extended_vol[..., x])\n",
    "            ZY_plane += plane * kernel[i]\n",
    "        filtered_vol.append(ZY_plane)\n",
    "    filtered_vol = np.stack(filtered_vol, axis=2)\n",
    "    return filtered_vol\n",
    "\n",
    "def filter(vol, kernel, mean):\n",
    "    vol = filter_Z(vol, kernel, mean)\n",
    "    vol = filter_Y(vol, kernel, mean)\n",
    "    vol = filter_X(vol, kernel, mean)\n",
    "    return vol"
   ]
  },
  {
   "cell_type": "code",
   "execution_count": null,
   "metadata": {},
   "outputs": [],
   "source": [
    "kernel = get_kernel(2.5)\n",
    "print(kernel)\n",
    "print(np.sum(kernel))\n",
    "plt.plot(kernel)\n",
    "plt.show()"
   ]
  },
  {
   "cell_type": "code",
   "execution_count": null,
   "metadata": {},
   "outputs": [],
   "source": [
    "denoised = filter(noisy, kernel, mean=128)"
   ]
  },
  {
   "cell_type": "code",
   "execution_count": null,
   "metadata": {},
   "outputs": [],
   "source": [
    "plt.imshow(denoised[16], cmap=\"gray\")"
   ]
  },
  {
   "cell_type": "code",
   "execution_count": null,
   "metadata": {},
   "outputs": [],
   "source": [
    "estimator = Estimator(logger, pyr_levels=3, sigma_poly=0.5, win_side=5, num_iters=3, flags=0)\n",
    "\n",
    "def project_A_to_B(A, B):\n",
    "    try:\n",
    "        flow = estimator.pyramid_get_flow(target=B, reference=A, flow=None)\n",
    "    except LinAlgError as e:\n",
    "        print(f\"Caught exception: {e}\")\n",
    "        self.counter += 1\n",
    "        return A\n",
    "    projection = project(logger, image=A.astype(np.uint8), flow=flow)\n",
    "    return projection"
   ]
  },
  {
   "cell_type": "code",
   "execution_count": null,
   "metadata": {
    "scrolled": true
   },
   "outputs": [],
   "source": [
    "denoised = filter(noisy, kernel, mean=128)"
   ]
  },
  {
   "cell_type": "code",
   "execution_count": null,
   "metadata": {},
   "outputs": [],
   "source": [
    "plt.imshow(denoised[16], cmap=\"gray\")"
   ]
  },
  {
   "cell_type": "code",
   "execution_count": null,
   "metadata": {},
   "outputs": [],
   "source": [
    "input()"
   ]
  },
  {
   "cell_type": "code",
   "execution_count": null,
   "metadata": {},
   "outputs": [],
   "source": [
    "import denoising.image.OF_gaussian as denoising"
   ]
  },
  {
   "cell_type": "code",
   "execution_count": null,
   "metadata": {},
   "outputs": [],
   "source": [
    "if use_OpenCV:\n",
    "    denoiser = gaussian_denoising.Monochrome_Image_OF_Gaussian_Denoising(sigma_gaussian=sigma_gaussian, l=3, w=5, sigma_OF=1.0, verbosity=logging.DEBUG)\n",
    "else:\n",
    "    denoiser = denoising.Monochrome_Denoising(logger, pyr_levels=2, win_side=27, num_iters=3, sigma_poly=4.0)"
   ]
  },
  {
   "cell_type": "code",
   "execution_count": null,
   "metadata": {
    "id": "xI1pWnvWxjoj"
   },
   "outputs": [],
   "source": [
    "kernel = denoiser.get_kernel(1.5)\n",
    "print(kernel)\n",
    "print(np.sum(kernel))\n",
    "plt.plot(kernel)\n",
    "plt.show()"
   ]
  },
  {
   "cell_type": "code",
   "execution_count": null,
   "metadata": {
    "scrolled": true
   },
   "outputs": [],
   "source": [
    "denoised = filter(vol, kernel)"
   ]
  },
  {
   "cell_type": "code",
   "execution_count": null,
   "metadata": {},
   "outputs": [],
   "source": [
    "denoised = np.clip(denoised_img, a_min=0, a_max=255)"
   ]
  },
  {
   "cell_type": "code",
   "execution_count": null,
   "metadata": {},
   "outputs": [],
   "source": [
    "fig, axs = plt.subplots(1, 3, figsize=(16, 32))\n",
    "axs[0].imshow(GT, cmap=\"gray\")\n",
    "axs[0].set_title(\"Original\")\n",
    "axs[1].imshow(noisy, cmap=\"gray\")\n",
    "axs[1].set_title(\"Noisy\")\n",
    "axs[2].imshow(denoised, cmap=\"gray\")\n",
    "axs[2].set_title(f\"Denoised ({information_theory.distortion.avg_PSNR(denoised, GT):4.2f} dB)\")\n",
    "fig.tight_layout()\n",
    "plt.show()"
   ]
  },
  {
   "cell_type": "code",
   "execution_count": null,
   "metadata": {},
   "outputs": [],
   "source": [
    "input()"
   ]
  },
  {
   "cell_type": "code",
   "execution_count": null,
   "metadata": {},
   "outputs": [],
   "source": [
    "if use_OpenCV:\n",
    "    def filter(img, Estimator, l=3, w=5):\n",
    "        w2 = (w + 1) // 2\n",
    "        estimator = Estimator(win_side=w, pyr_levels=l, verbosity=logging.WARNING, poly_sigma=0.5)\n",
    "        A = np.zeros_like(img, dtype=np.int16)\n",
    "        for i in range(img.shape[0] - w):\n",
    "            print(i, end=' ')\n",
    "            R = img[i:i + w]\n",
    "            T = img[i + 1: i + 1 + w].astype(np.float32)\n",
    "            initial_flow = np.zeros(shape=(R.shape[0], R.shape[1], 2), dtype=np.float32)\n",
    "            flow = estimator.pyramid_get_flow(target=T, reference=R, flow=initial_flow)\n",
    "            compensated_slice = project(R, flow)\n",
    "            compensated_line = compensated_slice[(w + 1) >> 1, :]\n",
    "            A[i + w2] = (T[(w + 1) >> 1, :] + compensated_line) / 2\n",
    "        return A\n",
    "else:\n",
    "    from numpy.linalg import LinAlgError\n",
    "    def filter(img, Estimator, l=3, sigma_poly=4.0, sigma_flow=4.0):\n",
    "        estimator = Estimator(logger, pyr_levels=l, sigma_poly=sigma_poly, sigma_flow=sigma_flow, num_iters=3)\n",
    "        A = np.zeros_like(img, dtype=np.int16)\n",
    "        for i in range(img.shape[0]-1):\n",
    "            print(i, end=' ')\n",
    "            R = img[i]\n",
    "            T = img[i + 1].astype(np.float32)\n",
    "            initial_flow = np.zeros_like(R, dtype=np.float32)\n",
    "            try:\n",
    "                initial_flow = np.zeros_like(R, dtype=np.float32)\n",
    "                flow = estimator.pyramid_get_flow(target=T, reference=R, flow=initial_flow)\n",
    "            except LinAlgError as e:\n",
    "                print(f\"Caught LinAlgError: {e}\")\n",
    "                flow = np.zeros_like(R)\n",
    "            projected_line = project(logger, R, flow)\n",
    "            print(\"avg flow=\", np.average(np.abs(flow)))\n",
    "            print(np.max(projected_line))\n",
    "            A[i] = (T + projected_line) / 2\n",
    "        return A"
   ]
  },
  {
   "cell_type": "code",
   "execution_count": null,
   "metadata": {},
   "outputs": [],
   "source": [
    "denoised = noisy.copy()"
   ]
  },
  {
   "cell_type": "code",
   "execution_count": null,
   "metadata": {
    "scrolled": true
   },
   "outputs": [],
   "source": [
    "if use_OpenCV:\n",
    "    denoised = filter(denoised, Estimator, w=5, l=3)\n",
    "else:\n",
    "    denoised = filter(denoised, Estimator, l=3, sigma_poly=4.0, sigma_flow=4.0)\n",
    "denoised = np.transpose(denoised, (1, 0))\n",
    "if use_OpenCV:\n",
    "    denoised = filter(denoised, Estimator, w=2, l=3)\n",
    "else:\n",
    "    denoised = filter(denoised, Estimator, l=3, sigma_poly=4.0, sigma_flow=4.0)\n",
    "denoised = np.transpose(denoised, (1, 0))\n",
    "plt.imshow(denoised.astype(np.float32), cmap=\"gray\")"
   ]
  },
  {
   "cell_type": "code",
   "execution_count": null,
   "metadata": {},
   "outputs": [],
   "source": [
    "plt.imshow(denoised[40:480,40:480], cmap=\"gray\")"
   ]
  },
  {
   "cell_type": "code",
   "execution_count": null,
   "metadata": {},
   "outputs": [],
   "source": [
    "plt.imshow(d, cmap=\"gray\")"
   ]
  },
  {
   "cell_type": "code",
   "execution_count": null,
   "metadata": {},
   "outputs": [],
   "source": [
    "np.min(denoised)"
   ]
  },
  {
   "cell_type": "code",
   "execution_count": null,
   "metadata": {},
   "outputs": [],
   "source": [
    "plt.imshow(noisy, cmap=\"gray\")"
   ]
  },
  {
   "cell_type": "code",
   "execution_count": null,
   "metadata": {},
   "outputs": [],
   "source": [
    "input()"
   ]
  },
  {
   "cell_type": "code",
   "execution_count": null,
   "metadata": {},
   "outputs": [],
   "source": [
    "#import denoising.image.OF_gaussian as denoising\n",
    "!pip install \"image_denoising @ git+https://github.com/microscopy-processing/image_denoising\"\n",
    "!pip show image_denoising\n",
    "import image_denoising\n",
    "import logging\n",
    "from image_denoising import OF_gaussian\n",
    "image_denoising.OF_gaussian.logger.setLevel(logging.WARNING)\n",
    "logging.getLevelName(image_denoising.OF_gaussian.logger.getEffectiveLevel())"
   ]
  },
  {
   "cell_type": "code",
   "execution_count": null,
   "metadata": {
    "scrolled": true
   },
   "outputs": [],
   "source": [
    "%%time\n",
    "\n",
    "OFGD__sigma_kernel = 2.5\n",
    "OFGD__N_iters = 1\n",
    "OFGD__l = 4\n",
    "OFGD__w = 25\n",
    "OFGD__sigma_OF = 2.0\n",
    "\n",
    "denoised_img, _ = image_denoising.OF_gaussian.filter_gray_image(noisy_img, OFGD__sigma_kernel, OFGD__N_iters, OFGD__l, OFGD__w, OFGD__sigma_OF)"
   ]
  },
  {
   "cell_type": "code",
   "execution_count": null,
   "metadata": {},
   "outputs": [],
   "source": [
    "fig, axs = plt.subplots(1, 3, figsize=(16, 32))\n",
    "axs[0].imshow(img, cmap=\"gray\")\n",
    "axs[0].set_title(\"Original\")\n",
    "axs[1].imshow(noisy_img, cmap=\"gray\")\n",
    "axs[1].set_title(\"Noisy\")\n",
    "axs[2].imshow(denoised_img, cmap=\"gray\")\n",
    "axs[2].set_title(f\"Denoised ({information_theory.distortion.avg_PSNR(denoised_img, img):4.2f} dB)\")\n",
    "fig.tight_layout()\n",
    "plt.show()"
   ]
  },
  {
   "cell_type": "code",
   "execution_count": null,
   "metadata": {},
   "outputs": [],
   "source": [
    "import denoising.image.OF_gaussian as denoising"
   ]
  },
  {
   "cell_type": "code",
   "execution_count": null,
   "metadata": {},
   "outputs": [],
   "source": [
    "import logging"
   ]
  },
  {
   "cell_type": "code",
   "execution_count": null,
   "metadata": {},
   "outputs": [],
   "source": [
    "sigma = 2.0"
   ]
  },
  {
   "cell_type": "code",
   "execution_count": null,
   "metadata": {},
   "outputs": [],
   "source": [
    "denoiser = denoising.Monochrome_Denoising(verbosity=logging.DEBUG, sigma_poly=4.0, sigma_flow=4.0, pyr_levels=2)\n",
    "#denoiser = gaussian_denoising.Monochrome_Image_OF_Gaussian_Denoising(sigma_gaussian=sigma_gaussian, l=3, w=5, sigma_OF=1.0, verbosity=logging.DEBUG)"
   ]
  },
  {
   "cell_type": "code",
   "execution_count": null,
   "metadata": {
    "id": "xI1pWnvWxjoj"
   },
   "outputs": [],
   "source": [
    "kernel = denoiser.get_kernel(sigma)\n",
    "print(kernel)\n",
    "print(np.sum(kernel))\n",
    "plt.plot(kernel)\n",
    "plt.show()"
   ]
  },
  {
   "cell_type": "code",
   "execution_count": null,
   "metadata": {
    "scrolled": true
   },
   "outputs": [],
   "source": [
    "denoised_img, _ = denoiser.filter_iterate(noisy_img=img, GT=img, sigma=sigma)"
   ]
  },
  {
   "cell_type": "code",
   "execution_count": null,
   "metadata": {},
   "outputs": [],
   "source": [
    "denoised_img = np.clip(denoised_img, a_min=0, a_max=255)"
   ]
  },
  {
   "cell_type": "code",
   "execution_count": null,
   "metadata": {},
   "outputs": [],
   "source": [
    "fig, axs = plt.subplots(1, 3, figsize=(16, 32))\n",
    "axs[0].imshow(img, cmap=\"gray\")\n",
    "axs[0].set_title(\"Original\")\n",
    "axs[1].imshow(noisy_img, cmap=\"gray\")\n",
    "axs[1].set_title(\"Noisy\")\n",
    "axs[2].imshow(denoised_img, cmap=\"gray\")\n",
    "axs[2].set_title(f\"Denoised ({information_theory.distortion.avg_PSNR(denoised_img, img):4.2f} dB)\")\n",
    "fig.tight_layout()\n",
    "plt.show()"
   ]
  },
  {
   "cell_type": "code",
   "execution_count": null,
   "metadata": {},
   "outputs": [],
   "source": [
    "img = skimage_io.imread(\"http://www.hpca.ual.es/~vruiz/images/lena.png\")"
   ]
  },
  {
   "cell_type": "code",
   "execution_count": null,
   "metadata": {},
   "outputs": [],
   "source": [
    "plt.imshow(img)"
   ]
  },
  {
   "cell_type": "code",
   "execution_count": null,
   "metadata": {},
   "outputs": [],
   "source": [
    "mean = 0\n",
    "var = 1000\n",
    "sigma = var**0.5\n",
    "noise = np.random.normal(mean,sigma,img.shape).reshape(img.shape)\n",
    "noisy_img = np.clip(a=img.astype(np.float32) + noise, a_min=0, a_max=255).astype(np.uint8)"
   ]
  },
  {
   "cell_type": "code",
   "execution_count": null,
   "metadata": {},
   "outputs": [],
   "source": [
    "plt.imshow(noisy_img)"
   ]
  },
  {
   "cell_type": "code",
   "execution_count": null,
   "metadata": {},
   "outputs": [],
   "source": [
    "sigma_gaussian = 2.0"
   ]
  },
  {
   "cell_type": "code",
   "execution_count": null,
   "metadata": {},
   "outputs": [],
   "source": [
    "denoiser = gaussian_denoising.Color_Image_OF_Gaussian_Denoising(\n",
    "    sigma_gaussian=sigma_gaussian, l=3, w=5, sigma_OF=1.0, verbosity=logging.DEBUG)"
   ]
  },
  {
   "cell_type": "code",
   "execution_count": null,
   "metadata": {},
   "outputs": [],
   "source": [
    "denoised_img, _ = denoiser.filter(noisy_image=noisy_img, GT=img)\n",
    "denoised_img = denoised_img.astype(np.uint8)"
   ]
  },
  {
   "cell_type": "code",
   "execution_count": null,
   "metadata": {},
   "outputs": [],
   "source": [
    "fig, axs = plt.subplots(1, 3, figsize=(16, 32))\n",
    "axs[0].imshow(img)\n",
    "axs[0].set_title(\"Original\")\n",
    "axs[1].imshow(noisy_img)\n",
    "axs[1].set_title(\"Noisy\")\n",
    "axs[2].imshow(denoised_img)\n",
    "axs[2].set_title(\"Denoised\")\n",
    "fig.tight_layout()\n",
    "plt.show()"
   ]
  },
  {
   "cell_type": "code",
   "execution_count": null,
   "metadata": {},
   "outputs": [],
   "source": []
  }
 ],
 "metadata": {
  "colab": {
   "collapsed_sections": [],
   "name": "gaussian_denoising.ipynb",
   "provenance": []
  },
  "kernelspec": {
   "display_name": "Python 3 (ipykernel)",
   "language": "python",
   "name": "python3"
  },
  "language_info": {
   "codemirror_mode": {
    "name": "ipython",
    "version": 3
   },
   "file_extension": ".py",
   "mimetype": "text/x-python",
   "name": "python",
   "nbconvert_exporter": "python",
   "pygments_lexer": "ipython3",
   "version": "3.10.12"
  }
 },
 "nbformat": 4,
 "nbformat_minor": 4
}
