{
 "cells": [
  {
   "cell_type": "markdown",
   "id": "24a2b9b0-569f-4f0a-a83c-7ab9c893b3a4",
   "metadata": {},
   "source": [
    "# Optical flow random image denoising"
   ]
  },
  {
   "cell_type": "code",
   "execution_count": null,
   "id": "e9712819-4467-4142-8010-4cfbfae71bff",
   "metadata": {},
   "outputs": [],
   "source": [
    "local_debug = True"
   ]
  },
  {
   "cell_type": "code",
   "execution_count": null,
   "id": "7be42efa-1e36-4eb8-8d10-5d5f7e7e47d3",
   "metadata": {},
   "outputs": [],
   "source": [
    "import logging\n",
    "import numpy as np\n",
    "import scipy.ndimage\n",
    "import matplotlib.pyplot as plt\n",
    "#from ipywidgets import *\n",
    "import cv2\n",
    "import time\n",
    "#import kernels\n",
    "from skimage import io as skimage_io\n",
    "import mrcfile\n",
    "from collections import namedtuple"
   ]
  },
  {
   "cell_type": "code",
   "execution_count": null,
   "id": "10a602fc-c253-48a8-9fd8-29ee291dadef",
   "metadata": {},
   "outputs": [],
   "source": [
    "if local_debug:\n",
    "    !ln -sf ../../information_theory/src/information_theory/ .\n",
    "else:\n",
    "    !pip install \"information_theory @ git+https://github.com/vicente-gonzalez-ruiz/information_theory\"\n",
    "import information_theory  # pip install \"information_theory @ git+https://github.com/vicente-gonzalez-ruiz/information_theory\""
   ]
  },
  {
   "cell_type": "code",
   "execution_count": null,
   "id": "6f028e8c-5d23-4496-b483-db5b1e0006da",
   "metadata": {},
   "outputs": [],
   "source": [
    "import logging\n",
    "logging.basicConfig(format=\"[%(filename)s:%(lineno)s %(funcName)s()] %(message)s\")\n",
    "logger = logging.getLogger(__name__)\n",
    "logger.setLevel(logging.WARNING)"
   ]
  },
  {
   "cell_type": "code",
   "execution_count": null,
   "id": "2b073b79-f4d6-48d6-9e3a-1c6ca0e9af77",
   "metadata": {},
   "outputs": [],
   "source": [
    "import denoising.image.OF_random as denoising"
   ]
  },
  {
   "cell_type": "code",
   "execution_count": null,
   "id": "66586c29-1787-41c5-85c2-fd78d9d3ccf1",
   "metadata": {},
   "outputs": [],
   "source": [
    "Args = namedtuple(\"args\", \"input\")\n",
    "args = Args(\"small_vol.mrc\")"
   ]
  },
  {
   "cell_type": "code",
   "execution_count": null,
   "id": "70b06a09-3310-4385-9af6-ebfd13884ba2",
   "metadata": {},
   "outputs": [],
   "source": [
    "%%bash -s \"$args.input\"\n",
    "set -x\n",
    "OUTPUT_FILENAME=$1\n",
    "rm -f $OUTPUT_FILENAME\n",
    "if test ! -f $OUTPUT_FILENAME ; then\n",
    "    FILEID=\"1YDyHWyB1d6yq2LYif2zQcQgr7vhlspYo\"\n",
    "    wget --no-check-certificate 'https://docs.google.com/uc?export=download&id='$FILEID -O $OUTPUT_FILENAME 2> /dev/null\n",
    "fi\n",
    "set +x"
   ]
  },
  {
   "cell_type": "code",
   "execution_count": null,
   "id": "00c41052-7446-4d26-8fd5-39786f8bef53",
   "metadata": {},
   "outputs": [],
   "source": [
    "stack_MRC = mrcfile.open(args.input)\n",
    "noisy = stack_MRC.data[0:32,...]"
   ]
  },
  {
   "cell_type": "code",
   "execution_count": null,
   "id": "5f4e59de-aeae-4aef-8bee-5038c45b5816",
   "metadata": {},
   "outputs": [],
   "source": [
    "noisy.shape"
   ]
  },
  {
   "cell_type": "code",
   "execution_count": null,
   "id": "c9404bcc-758e-421e-a756-e667f7ec1434",
   "metadata": {},
   "outputs": [],
   "source": [
    "np.min(noisy)"
   ]
  },
  {
   "cell_type": "code",
   "execution_count": null,
   "id": "55d33673-55f7-46f0-96ce-c60af119d8af",
   "metadata": {},
   "outputs": [],
   "source": [
    "np.max(noisy)"
   ]
  },
  {
   "cell_type": "code",
   "execution_count": null,
   "id": "939d9fe1-a66c-4b3c-9b94-0c004242ca35",
   "metadata": {},
   "outputs": [],
   "source": [
    "noisy = (255*(noisy - np.min(noisy))/(np.max(noisy) - np.min(noisy))).astype(np.uint8)"
   ]
  },
  {
   "cell_type": "code",
   "execution_count": null,
   "id": "6af9e85c-1b97-4fce-a087-5efec43f67ac",
   "metadata": {},
   "outputs": [],
   "source": [
    "np.max(noisy)"
   ]
  },
  {
   "cell_type": "code",
   "execution_count": null,
   "id": "7c369d2b-795e-441e-9f5f-0d95bb5d9bd0",
   "metadata": {},
   "outputs": [],
   "source": [
    "plt.imshow(noisy[16], cmap=\"gray\")"
   ]
  },
  {
   "cell_type": "code",
   "execution_count": null,
   "id": "3e930b84-dd02-47f2-b510-6e7c5ccab9b2",
   "metadata": {},
   "outputs": [],
   "source": [
    "#padded_noisy = np.zeros(shape=(noisy.shape[0]+32, noisy.shape[1]+32, noisy.shape[2]+32), dtype=np.uint8)\n",
    "#padded_noisy[16:-16, 16:-16, 16:-16] = noisy\n",
    "#noisy = padded_noisy"
   ]
  },
  {
   "cell_type": "code",
   "execution_count": null,
   "id": "450e7df1-7325-420f-9442-9c5b2b138833",
   "metadata": {},
   "outputs": [],
   "source": [
    "noisy.shape"
   ]
  },
  {
   "cell_type": "code",
   "execution_count": null,
   "id": "b1950486-cb0e-49d8-ad78-964af9be3f12",
   "metadata": {},
   "outputs": [],
   "source": [
    "plt.imshow(noisy[16], cmap=\"gray\")"
   ]
  },
  {
   "cell_type": "code",
   "execution_count": null,
   "id": "c0896232-f069-436e-9fd6-8bf94b231e97",
   "metadata": {},
   "outputs": [],
   "source": [
    "denoiser = denoising.Monochrome_Denoiser(\n",
    "    logger,\n",
    "    pyramid_levels=3,\n",
    "    window_side = 5,\n",
    "    N_poly = 7,\n",
    "    num_iterations = 3\n",
    ")"
   ]
  },
  {
   "cell_type": "code",
   "execution_count": null,
   "id": "59d09a58-20c3-408b-80d0-a6e79d54c24e",
   "metadata": {},
   "outputs": [],
   "source": [
    "denoised, _ = denoiser.filter(noisy[16], None, N_iters=20, RS_sigma=0.75)"
   ]
  },
  {
   "cell_type": "code",
   "execution_count": null,
   "id": "7c284805-438f-40ba-9277-0d77e7d1f587",
   "metadata": {},
   "outputs": [],
   "source": [
    "np.min(denoised)"
   ]
  },
  {
   "cell_type": "code",
   "execution_count": null,
   "id": "94bfdf4b-a785-4960-aec7-979b6d074f7c",
   "metadata": {},
   "outputs": [],
   "source": [
    "np.max(denoised)"
   ]
  },
  {
   "cell_type": "code",
   "execution_count": null,
   "id": "f90c6549-8bfd-4f9a-acba-5f3d0ce9f60b",
   "metadata": {},
   "outputs": [],
   "source": [
    "fig, axs = plt.subplots(1, 2, figsize=(16, 32))\n",
    "axs[0].imshow(noisy[16], cmap=\"gray\")\n",
    "axs[0].set_title(f\"Noisy\")\n",
    "axs[1].imshow(denoised, cmap=\"gray\")\n",
    "axs[1].set_title(f\"Denoised (DQI={information_theory.information.compute_quality_index(noisy[16], denoised)})\")\n",
    "fig.tight_layout()\n",
    "plt.show()"
   ]
  },
  {
   "cell_type": "code",
   "execution_count": null,
   "id": "1f79a2ef-f49c-4ab9-bb2f-a118b1b1b003",
   "metadata": {},
   "outputs": [],
   "source": [
    "noisy.shape"
   ]
  },
  {
   "cell_type": "code",
   "execution_count": null,
   "id": "2a9f2718-d2d2-4d2b-bf30-bfa5388c65e2",
   "metadata": {},
   "outputs": [],
   "source": [
    "denoised0 = np.empty_like(noisy)\n",
    "for i in range(noisy.shape[0]):\n",
    "    denoised0[i], _ = denoiser.filter(noisy[i], None, N_iters=20, RS_sigma=0.75)\n",
    "    print(i, end=' ')"
   ]
  },
  {
   "cell_type": "code",
   "execution_count": null,
   "id": "93eb549c-4fc4-48be-aae8-7b8ee37a62f2",
   "metadata": {},
   "outputs": [],
   "source": [
    "fig, axs = plt.subplots(1, 2, figsize=(16, 32))\n",
    "axs[0].imshow(noisy[16], cmap=\"gray\")\n",
    "axs[0].set_title(f\"Noisy\")\n",
    "axs[1].imshow(denoised0[16], cmap=\"gray\")\n",
    "axs[1].set_title(f\"Denoised (DQI={information_theory.information.compute_quality_index(noisy[16], denoised0[16])})\")\n",
    "fig.tight_layout()\n",
    "plt.show()"
   ]
  },
  {
   "cell_type": "code",
   "execution_count": null,
   "id": "a4893452-c0a2-4501-b040-770686d03e99",
   "metadata": {},
   "outputs": [],
   "source": [
    "denoised1 = np.empty_like(denoised0)\n",
    "for i in range(noisy.shape[1]):\n",
    "    denoised1[:, i], _ = denoiser.filter(denoised0[:, i], None, N_iters=20, RS_sigma=0.75)\n",
    "    print(i, end=' ')"
   ]
  },
  {
   "cell_type": "code",
   "execution_count": null,
   "id": "a3554ddb-de53-4ac6-a102-01c526f3fa24",
   "metadata": {
    "id": "a3554ddb-de53-4ac6-a102-01c526f3fa24"
   },
   "outputs": [],
   "source": [
    "fig, axs = plt.subplots(1, 2, figsize=(16, 32))\n",
    "axs[0].imshow(noisy[16], cmap=\"gray\")\n",
    "axs[0].set_title(f\"Noisy\")\n",
    "axs[1].imshow(denoised1[16], cmap=\"gray\")\n",
    "axs[1].set_title(f\"Denoised (DQI={information_theory.information.compute_quality_index(noisy[16], denoised1[16])})\")\n",
    "fig.tight_layout()\n",
    "plt.show()"
   ]
  },
  {
   "cell_type": "code",
   "execution_count": null,
   "id": "84ea18fd-4e5b-4573-a7fc-44638da4bd80",
   "metadata": {},
   "outputs": [],
   "source": [
    "denoised2 = np.empty_like(denoised1)\n",
    "for i in range(noisy.shape[2]):\n",
    "    denoised2[:, :, i], _ = denoiser.filter(denoised1[:, :, i], None, N_iters=20, RS_sigma=0.75)\n",
    "    print(i, end=' ')"
   ]
  },
  {
   "cell_type": "code",
   "execution_count": null,
   "id": "5bd27f79-360c-46b0-83ff-c10a4a537dab",
   "metadata": {},
   "outputs": [],
   "source": [
    "fig, axs = plt.subplots(1, 2, figsize=(16, 32))\n",
    "axs[0].imshow(noisy[16], cmap=\"gray\")\n",
    "axs[0].set_title(f\"Noisy\")\n",
    "axs[1].imshow(denoised2[16], cmap=\"gray\")\n",
    "axs[1].set_title(f\"Denoised (DQI={information_theory.information.compute_quality_index(noisy[16], denoised2[16])})\")\n",
    "fig.tight_layout()\n",
    "plt.show()"
   ]
  },
  {
   "cell_type": "code",
   "execution_count": null,
   "id": "8e81cbda-8171-4308-a17c-32a111704a5b",
   "metadata": {},
   "outputs": [],
   "source": [
    "fig, axs = plt.subplots(1, 2, figsize=(16, 32))\n",
    "axs[0].imshow(noisy[:, 100], cmap=\"gray\")\n",
    "axs[0].set_title(f\"Noisy\")\n",
    "axs[1].imshow(denoised2[:, 100], cmap=\"gray\")\n",
    "axs[1].set_title(f\"Denoised (DQI={information_theory.information.compute_quality_index(noisy[:, 100], denoised2[:, 100])})\")\n",
    "fig.tight_layout()\n",
    "plt.show()"
   ]
  },
  {
   "cell_type": "code",
   "execution_count": null,
   "id": "d2e3d4a6-b53c-4e1b-b91a-32a687806343",
   "metadata": {},
   "outputs": [],
   "source": [
    "fig, axs = plt.subplots(1, 2, figsize=(16, 32))\n",
    "axs[0].imshow(noisy[:, :, 100], cmap=\"gray\")\n",
    "axs[0].set_title(f\"Noisy\")\n",
    "axs[1].imshow(denoised2[:, :, 100], cmap=\"gray\")\n",
    "axs[1].set_title(f\"Denoised (DQI={information_theory.information.compute_quality_index(noisy[:, :, 100], denoised2[:, :, 100])})\")\n",
    "fig.tight_layout()\n",
    "plt.show()"
   ]
  },
  {
   "cell_type": "code",
   "execution_count": null,
   "id": "baed8c3f-e105-446b-8cae-c5b300c8a3a8",
   "metadata": {},
   "outputs": [],
   "source": [
    "denoised0 = np.empty_like(noisy)\n",
    "for i in range(noisy.shape[2]):\n",
    "    denoised0[:, :, i], _ = denoiser.filter(noisy[:, :, i], None, N_iters=20, RS_sigma=0.75)\n",
    "    print(i, end=' ')"
   ]
  },
  {
   "cell_type": "code",
   "execution_count": null,
   "id": "2d022782-bb84-436c-9d6d-9066411116b5",
   "metadata": {},
   "outputs": [],
   "source": [
    "denoised1 = np.empty_like(noisy)\n",
    "for i in range(noisy.shape[1]):\n",
    "    denoised1[:, i], _ = denoiser.filter(denoised0[:, i], None, N_iters=20, RS_sigma=0.75)\n",
    "    print(i, end=' ')"
   ]
  },
  {
   "cell_type": "code",
   "execution_count": null,
   "id": "fa141dac-5df8-41a6-a576-9dcff819aa6b",
   "metadata": {},
   "outputs": [],
   "source": [
    "denoised2 = np.empty_like(noisy)\n",
    "for i in range(noisy.shape[0]):\n",
    "    denoised2[i], _ = denoiser.filter(denoised1[i], None, N_iters=20, RS_sigma=0.75)\n",
    "    print(i, end=' ')"
   ]
  },
  {
   "cell_type": "code",
   "execution_count": null,
   "id": "67a2e6e4-82d3-43aa-9c95-5ade79220a8f",
   "metadata": {},
   "outputs": [],
   "source": [
    "fig, axs = plt.subplots(1, 2, figsize=(16, 32))\n",
    "axs[0].imshow(noisy[16], cmap=\"gray\")\n",
    "axs[0].set_title(f\"Noisy\")\n",
    "axs[1].imshow(denoised2[16], cmap=\"gray\")\n",
    "axs[1].set_title(f\"Denoised (DQI={information_theory.information.compute_quality_index(noisy[16], denoised2[16])})\")\n",
    "fig.tight_layout()\n",
    "plt.show()"
   ]
  },
  {
   "cell_type": "code",
   "execution_count": null,
   "id": "04410fb1-a292-46dd-afb0-0cf3116a4f67",
   "metadata": {},
   "outputs": [],
   "source": [
    "fig, axs = plt.subplots(1, 2, figsize=(16, 32))\n",
    "axs[0].imshow(noisy[:, 100], cmap=\"gray\")\n",
    "axs[0].set_title(f\"Noisy\")\n",
    "axs[1].imshow(denoised2[:, 100], cmap=\"gray\")\n",
    "axs[1].set_title(f\"Denoised (DQI={information_theory.information.compute_quality_index(noisy[:, 100], denoised2[:, 100])})\")\n",
    "fig.tight_layout()\n",
    "plt.show()"
   ]
  },
  {
   "cell_type": "code",
   "execution_count": null,
   "id": "0017c66b-87c9-44e1-a9e4-8fa91433ac83",
   "metadata": {},
   "outputs": [],
   "source": [
    "fig, axs = plt.subplots(1, 2, figsize=(16, 32))\n",
    "axs[0].imshow(noisy[:, :, 100], cmap=\"gray\")\n",
    "axs[0].set_title(f\"Noisy\")\n",
    "axs[1].imshow(denoised2[:, :, 100], cmap=\"gray\")\n",
    "axs[1].set_title(f\"Denoised (DQI={information_theory.information.compute_quality_index(noisy[:, :, 100], denoised2[:, :, 100])})\")\n",
    "fig.tight_layout()\n",
    "plt.show()"
   ]
  },
  {
   "cell_type": "code",
   "execution_count": null,
   "id": "74cc188e-1f4b-4969-996e-57240d325fc5",
   "metadata": {},
   "outputs": [],
   "source": [
    "denoised0 = np.empty_like(noisy)\n",
    "for i in range(noisy.shape[0]):\n",
    "    denoised0[i], _ = denoiser.filter(noisy[i], None, N_iters=20, RS_sigma=0.75)\n",
    "    print(i, end=' ')"
   ]
  },
  {
   "cell_type": "code",
   "execution_count": null,
   "id": "750c1735-3293-45b1-b7f3-cc5bb242f618",
   "metadata": {},
   "outputs": [],
   "source": [
    "denoised1 = np.empty_like(noisy)\n",
    "for i in range(noisy.shape[1]):\n",
    "    denoised1[:, i], _ = denoiser.filter(noisy[:, i], None, N_iters=20, RS_sigma=0.75)\n",
    "    print(i, end=' ')"
   ]
  },
  {
   "cell_type": "code",
   "execution_count": null,
   "id": "5b572644-b455-44a1-ae47-c180356394bf",
   "metadata": {},
   "outputs": [],
   "source": [
    "denoised2 = np.empty_like(noisy)\n",
    "for i in range(noisy.shape[2]):\n",
    "    denoised2[:, :, i], _ = denoiser.filter(noisy[:, :, i], None, N_iters=20, RS_sigma=0.75)\n",
    "    print(i, end=' ')"
   ]
  },
  {
   "cell_type": "code",
   "execution_count": null,
   "id": "26423250-621f-445a-9dbd-b34a599b767d",
   "metadata": {},
   "outputs": [],
   "source": [
    "denoised = (denoised0.astype(np.float32) + denoised1 + denoised2)/3"
   ]
  },
  {
   "cell_type": "code",
   "execution_count": null,
   "id": "a73f1033-2198-4134-a6ec-2d2e6c907368",
   "metadata": {},
   "outputs": [],
   "source": [
    "fig, axs = plt.subplots(1, 2, figsize=(16, 32))\n",
    "axs[0].imshow(noisy[16], cmap=\"gray\")\n",
    "axs[0].set_title(f\"Noisy\")\n",
    "axs[1].imshow(denoised[16], cmap=\"gray\")\n",
    "axs[1].set_title(f\"Denoised (DQI={information_theory.information.compute_quality_index(noisy[16], denoised[16])})\")\n",
    "fig.tight_layout()\n",
    "plt.show()"
   ]
  },
  {
   "cell_type": "code",
   "execution_count": null,
   "id": "048245d0-1807-4c79-abc1-39d5d58b937c",
   "metadata": {},
   "outputs": [],
   "source": [
    "fig, axs = plt.subplots(1, 2, figsize=(16, 32))\n",
    "axs[0].imshow(noisy[0], cmap=\"gray\")\n",
    "axs[0].set_title(f\"Noisy\")\n",
    "axs[1].imshow(denoised[0], cmap=\"gray\")\n",
    "axs[1].set_title(f\"Denoised (DQI={information_theory.information.compute_quality_index(noisy[0], denoised[1])})\")\n",
    "fig.tight_layout()\n",
    "plt.show()"
   ]
  },
  {
   "cell_type": "code",
   "execution_count": null,
   "id": "d7176b2e-b170-4e3a-a1ad-c7023d6eb296",
   "metadata": {},
   "outputs": [],
   "source": [
    "fig, axs = plt.subplots(1, 2, figsize=(16, 32))\n",
    "axs[0].imshow(noisy[:, 100], cmap=\"gray\")\n",
    "axs[0].set_title(f\"Noisy\")\n",
    "axs[1].imshow(denoised[:, 100], cmap=\"gray\")\n",
    "axs[1].set_title(f\"Denoised (DQI={information_theory.information.compute_quality_index(noisy[:, 100], denoised[:, 100])})\")\n",
    "fig.tight_layout()\n",
    "plt.show()"
   ]
  },
  {
   "cell_type": "code",
   "execution_count": null,
   "id": "52240138-34a2-482d-9fe5-2a271aab275f",
   "metadata": {},
   "outputs": [],
   "source": [
    "fig, axs = plt.subplots(1, 2, figsize=(16, 32))\n",
    "axs[0].imshow(noisy[:, :, 100], cmap=\"gray\")\n",
    "axs[0].set_title(f\"Noisy\")\n",
    "axs[1].imshow(denoised[:, :, 100], cmap=\"gray\")\n",
    "axs[1].set_title(f\"Denoised (DQI={information_theory.information.compute_quality_index(noisy[:, :, 100], denoised[:, :, 100])})\")\n",
    "fig.tight_layout()\n",
    "plt.show()"
   ]
  },
  {
   "cell_type": "code",
   "execution_count": null,
   "id": "48aa2b57-84a7-4e87-ae8d-2fb3737ee309",
   "metadata": {},
   "outputs": [],
   "source": [
    "input()"
   ]
  },
  {
   "cell_type": "code",
   "execution_count": null,
   "id": "d57b6e47-b0ce-4a63-ab27-192436202b28",
   "metadata": {},
   "outputs": [],
   "source": [
    "import RSIVD"
   ]
  },
  {
   "cell_type": "code",
   "execution_count": null,
   "id": "I6Fx1j23clAd",
   "metadata": {
    "id": "I6Fx1j23clAd"
   },
   "outputs": [],
   "source": [
    "noisy_vol = opticalflow3D.helpers.load_image(f\"{vol_name}.tif\")"
   ]
  },
  {
   "cell_type": "code",
   "execution_count": null,
   "id": "8a1f1196-f3f8-400d-8719-a3ca59d62dac",
   "metadata": {},
   "outputs": [],
   "source": [
    "block_size = (noisy_vol.shape[0], noisy_vol.shape[1], noisy_vol.shape[2])"
   ]
  },
  {
   "cell_type": "code",
   "execution_count": null,
   "id": "7ab782f1-6053-4d91-8ba7-3220d3332f44",
   "metadata": {
    "colab": {
     "base_uri": "https://localhost:8080/",
     "height": 211
    },
    "id": "7ab782f1-6053-4d91-8ba7-3220d3332f44",
    "outputId": "e8f03c08-8eb1-4ab3-f854-c360edd8082a"
   },
   "outputs": [],
   "source": [
    "farneback = opticalflow3D.Farneback3D(iters=5, num_levels=3, scale=0.5, spatial_size=23, presmoothing=None, filter_type=\"gaussian\", filter_size=7)\n",
    "#farneback = opticalflow3D.Farneback3D(iters=5, num_levels=3, scale=0.5, spatial_size=13, presmoothing=None, filter_type=\"gaussian\", filter_size=7)\n",
    "#farneback = opticalflow3D.Farneback3D(iters=5, num_levels=3, scale=0.5, spatial_size=5, presmoothing=3, filter_type=\"gaussian\", filter_size=5)\n",
    "#farneback = opticalflow3D.Farneback3D(iters=5, num_levels=3, scale=0.5, spatial_size=3, presmoothing=5, filter_type=\"box\", filter_size=3)\n",
    "#farneback = opticalflow3D.Farneback3D(iters=5, num_levels=5, scale=0.5, spatial_size=3, presmoothing=5, filter_type=\"box\", filter_size=3)\n",
    "#farneback = opticalflow3D.Farneback3D(iters=5, num_levels=5, scale=0.5, spatial_size=3, presmoothing=5, filter_type=\"gaussian\", filter_size=11)\n",
    "#farneback = opticalflow3D.Farneback3D(iters=5, num_levels=1, scale=0.5, spatial_size=5, presmoothing=4, filter_type=\"box\", filter_size=5)"
   ]
  },
  {
   "cell_type": "code",
   "execution_count": null,
   "id": "91aIEXpSc5ez",
   "metadata": {
    "colab": {
     "base_uri": "https://localhost:8080/",
     "height": 1000
    },
    "id": "91aIEXpSc5ez",
    "outputId": "6e1f085e-8567-4eb8-9c13-13171cead177"
   },
   "outputs": [],
   "source": [
    "RS_sigma = 1.25\n",
    "denoised_vol = RSIVD.filter(farneback, block_size, noisy_vol, RS_sigma=RS_sigma, N_iters=100)"
   ]
  },
  {
   "cell_type": "code",
   "execution_count": null,
   "id": "1478c390-7a08-49ec-ba26-d00710da1e12",
   "metadata": {},
   "outputs": [],
   "source": [
    "np.min(denoised_vol)"
   ]
  },
  {
   "cell_type": "code",
   "execution_count": null,
   "id": "079da8f2-c5b1-41a1-bd9a-5e75595f2af6",
   "metadata": {},
   "outputs": [],
   "source": [
    "figure(figsize=(32, 32))\n",
    "plt.subplot(1, 3, 1)\n",
    "plt.title(\"original\")\n",
    "imgplot = plt.imshow(noisy_vol[15][::-1, :], cmap=\"gray\")\n",
    "plt.subplot(1, 3, 2)\n",
    "plt.title(\"$\\sigma_\\mathrm{RS}=$\"+f\"{RS_sigma}\")\n",
    "plt.imshow(denoised_vol[15][::-1, :], cmap=\"gray\")\n",
    "plt.subplot(1, 3, 3)\n",
    "plt.title(\"difference\")\n",
    "plt.imshow(noisy_vol[15][::-1, :] - denoised_vol[15][::-1, :], cmap=\"gray\")"
   ]
  },
  {
   "cell_type": "code",
   "execution_count": null,
   "id": "5d159fc4-a84c-45b8-b92e-970f6ef21b16",
   "metadata": {},
   "outputs": [],
   "source": [
    "figure(figsize=(32, 32))\n",
    "plt.subplot(1, 3, 1)\n",
    "plt.title(\"original\")\n",
    "imgplot = plt.imshow(noisy_vol[15][::-1, :], cmap=\"gray\")\n",
    "plt.subplot(1, 3, 2)\n",
    "plt.title(\"$\\sigma_\\mathrm{RS}=$\"+f\"{RS_sigma}\")\n",
    "plt.imshow(denoised_vol[15][::-1, :], cmap=\"gray\")\n",
    "plt.subplot(1, 3, 3)\n",
    "plt.title(\"difference\")\n",
    "plt.imshow(noisy_vol[15][::-1, :] - denoised_vol[15][::-1, :], cmap=\"gray\")"
   ]
  },
  {
   "cell_type": "code",
   "execution_count": null,
   "id": "9af50ac2-d2c9-49dc-b47d-31cc3195cfa1",
   "metadata": {},
   "outputs": [],
   "source": [
    "skimage.io.imsave(f\"{vol_name}_denoised_{RS_sigma}.tif\", denoised_vol, imagej=True)"
   ]
  },
  {
   "cell_type": "code",
   "execution_count": null,
   "id": "64b31c4b-8e86-48ae-82e1-d0a43da532a0",
   "metadata": {},
   "outputs": [],
   "source": [
    "img = skimage.io.imread(\"http://www.hpca.ual.es/~vruiz/images/barb.png\")#[:256, :256]"
   ]
  },
  {
   "cell_type": "code",
   "execution_count": null,
   "id": "faeb3ec8-744d-4698-adac-e106dd362943",
   "metadata": {},
   "outputs": [],
   "source": [
    "noisy_vol = np.stack([img]*32)"
   ]
  },
  {
   "cell_type": "code",
   "execution_count": null,
   "id": "654bd0a1-15f9-4865-9994-c398fba60cfd",
   "metadata": {},
   "outputs": [],
   "source": [
    "noisy_vol.shape"
   ]
  },
  {
   "cell_type": "code",
   "execution_count": null,
   "id": "95d7ee9c-6ab3-4c49-886e-f6b1cbf8a0b7",
   "metadata": {},
   "outputs": [],
   "source": [
    "mean = 0\n",
    "var = 1000\n",
    "sigma = var**0.5\n",
    "for i in range(noisy_vol.shape[0]):\n",
    "    noise = np.random.normal(mean,sigma,img.shape).reshape(img.shape)\n",
    "    noisy_vol[i] = np.clip(a=img.astype(np.float32) + noise, a_min=0, a_max=255).astype(np.uint8)"
   ]
  },
  {
   "cell_type": "code",
   "execution_count": null,
   "id": "f5dcf783-2322-4dfa-a3dc-50d71242d6b8",
   "metadata": {},
   "outputs": [],
   "source": [
    "farneback = opticalflow3D.Farneback3D(iters=5,\n",
    "                                      num_levels=3,\n",
    "                                      scale=0.5,\n",
    "                                      spatial_size=5,\n",
    "                                      presmoothing=2,\n",
    "                                      filter_type=\"box\",\n",
    "                                      filter_size=5,\n",
    "                                     )"
   ]
  },
  {
   "cell_type": "code",
   "execution_count": null,
   "id": "4016f92f-a994-49ba-b3a0-8bf1eb2ff1ab",
   "metadata": {},
   "outputs": [],
   "source": [
    "RS_sigma = 1.0\n",
    "denoised_vol = RSIVD.filter(farneback, block_size, noisy_vol, RS_sigma=RS_sigma, N_iters=30)"
   ]
  },
  {
   "cell_type": "code",
   "execution_count": null,
   "id": "68addb39-8cef-4ae3-9bc1-a36af26f1352",
   "metadata": {},
   "outputs": [],
   "source": [
    "figure(figsize=(32, 32))\n",
    "plt.subplot(1, 3, 1)\n",
    "plt.title(\"original\")\n",
    "imgplot = plt.imshow(noisy_vol[15], cmap=\"gray\")\n",
    "plt.subplot(1, 3, 2)\n",
    "plt.title(\"$\\sigma_\\mathrm{RS}=$\"+f\"{RS_sigma}\")\n",
    "plt.imshow(denoised_vol[15], cmap=\"gray\")\n",
    "plt.subplot(1, 3, 3)\n",
    "plt.title(\"difference\")\n",
    "plt.imshow(noisy_vol[15] - denoised_vol[15], cmap=\"gray\")"
   ]
  },
  {
   "cell_type": "code",
   "execution_count": null,
   "id": "7ed5db45-9d18-4eb1-b005-3f8209cb1e09",
   "metadata": {},
   "outputs": [],
   "source": [
    "RS_sigma = 1.0\n",
    "denoised_vol = RSIVD.filter(farneback, block_size, noisy_vol, RS_sigma=RS_sigma, N_iters=100)"
   ]
  },
  {
   "cell_type": "code",
   "execution_count": null,
   "id": "50515c13-18c3-482d-881d-0ddb94b71654",
   "metadata": {},
   "outputs": [],
   "source": [
    "figure(figsize=(32, 32))\n",
    "plt.subplot(1, 3, 1)\n",
    "plt.title(\"original\")\n",
    "imgplot = plt.imshow(noisy_vol[15], cmap=\"gray\")\n",
    "plt.subplot(1, 3, 2)\n",
    "plt.title(\"$\\sigma_\\mathrm{RS}=$\"+f\"{RS_sigma}\")\n",
    "plt.imshow(denoised_vol[15], cmap=\"gray\")\n",
    "plt.subplot(1, 3, 3)\n",
    "plt.title(\"difference\")\n",
    "plt.imshow(noisy_vol[15] - denoised_vol[15], cmap=\"gray\")"
   ]
  },
  {
   "cell_type": "code",
   "execution_count": null,
   "id": "f3142a6e-6072-433a-9567-ba510f86ce1e",
   "metadata": {},
   "outputs": [],
   "source": [
    "RS_sigma = 2.0\n",
    "denoised_vol = RSIVD.filter(farneback, block_size, noisy_vol, RS_sigma=RS_sigma, N_iters=30)"
   ]
  },
  {
   "cell_type": "code",
   "execution_count": null,
   "id": "223e44bb-cebb-40b3-b097-e3081dc70a4e",
   "metadata": {},
   "outputs": [],
   "source": [
    "figure(figsize=(32, 32))\n",
    "plt.subplot(1, 3, 1)\n",
    "plt.title(\"original\")\n",
    "imgplot = plt.imshow(noisy_vol[15], cmap=\"gray\")\n",
    "plt.subplot(1, 3, 2)\n",
    "plt.title(\"$\\sigma_\\mathrm{RS}=$\"+f\"{RS_sigma}\")\n",
    "plt.imshow(denoised_vol[15], cmap=\"gray\")\n",
    "plt.subplot(1, 3, 3)\n",
    "plt.title(\"difference\")\n",
    "plt.imshow(noisy_vol[15] - denoised_vol[15], cmap=\"gray\")"
   ]
  },
  {
   "cell_type": "code",
   "execution_count": null,
   "id": "3f8fb010-4a86-49cc-9757-253ca5b6fe9a",
   "metadata": {},
   "outputs": [],
   "source": [
    "RS_sigma = 3.0\n",
    "denoised_vol = RSIVD.filter(farneback, block_size, noisy_vol, RS_sigma=RS_sigma, N_iters=30)"
   ]
  },
  {
   "cell_type": "code",
   "execution_count": null,
   "id": "8a4fc490-9b49-47bf-9d54-de7c6a180fa4",
   "metadata": {},
   "outputs": [],
   "source": [
    "figure(figsize=(32, 32))\n",
    "plt.subplot(1, 3, 1)\n",
    "plt.title(\"original\")\n",
    "imgplot = plt.imshow(noisy_vol[15], cmap=\"gray\")\n",
    "plt.subplot(1, 3, 2)\n",
    "plt.title(\"$\\sigma_\\mathrm{RS}=$\"+f\"{RS_sigma}\")\n",
    "plt.imshow(denoised_vol[15], cmap=\"gray\")\n",
    "plt.subplot(1, 3, 3)\n",
    "plt.title(\"difference\")\n",
    "plt.imshow(noisy_vol[15] - denoised_vol[15], cmap=\"gray\")"
   ]
  },
  {
   "cell_type": "code",
   "execution_count": null,
   "id": "5e6f6df4-7606-45b3-bb2f-4d0c1bf601bc",
   "metadata": {},
   "outputs": [],
   "source": [
    "#skimage.io.imsave(f\"{vol_name}_denoised_{RS_sigma}.tif\", denoised_vol, imagej=True)"
   ]
  }
 ],
 "metadata": {
  "accelerator": "GPU",
  "colab": {
   "gpuType": "T4",
   "provenance": []
  },
  "kernelspec": {
   "display_name": "Python 3 (ipykernel)",
   "language": "python",
   "name": "python3"
  },
  "language_info": {
   "codemirror_mode": {
    "name": "ipython",
    "version": 3
   },
   "file_extension": ".py",
   "mimetype": "text/x-python",
   "name": "python",
   "nbconvert_exporter": "python",
   "pygments_lexer": "ipython3",
   "version": "3.10.12"
  }
 },
 "nbformat": 4,
 "nbformat_minor": 5
}
