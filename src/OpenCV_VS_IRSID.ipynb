{
 "cells": [
  {
   "cell_type": "markdown",
   "metadata": {
    "editable": true,
    "slideshow": {
     "slide_type": ""
    },
    "tags": []
   },
   "source": [
    "[![Binder](https://mybinder.org/badge_logo.svg)](https://nbviewer.org/github/vicente-gonzalez-ruiz/motion_estimation/blob/main/src/motion_estimation/full_search_dense_ME.ipynb)"
   ]
  },
  {
   "cell_type": "markdown",
   "metadata": {},
   "source": [
    "[![Colab](https://badgen.net/badge/Launch/on%20Google%20Colab/blue?icon=notebook)](https://colab.research.google.com/github/vicente-gonzalez-ruiz/motion_estimation/blob/main/src/motion_estimation/full_search_dense_ME.ipynb)"
   ]
  },
  {
   "cell_type": "markdown",
   "metadata": {},
   "source": [
    "# # cv2.fastNlMeansDenoising VS Iterative Random Shuffling Image Denoising (IRSID)\n",
    "\n",
    "### IRSID algorithm\n",
    "\n",
    "Filter(noisy_image, iters):\n",
    "\n",
    "1. accumulated_image = noisy_image\n",
    "2. for i in range(iters):\n",
    "    1. denoised_image = accumulated_image / (i+1)\n",
    "    2. randomized_noisy_image = randomize(noisy_image)\n",
    "    3. randomized_and_compensated_noisy_image = project_A_to_B(A=randomized_noisy_image, B=noisy_image)\n",
    "    4. accumulated_image += randomized_and_compensated_noisy_image\n",
    "3. denoised_image = accumulated_image / (iters + 1)"
   ]
  },
  {
   "cell_type": "code",
   "execution_count": null,
   "metadata": {},
   "outputs": [],
   "source": [
    "try:\n",
    "    import google.colab\n",
    "    IN_COLAB = True\n",
    "except:\n",
    "    IN_COLAB = False\n",
    "\n",
    "if IN_COLAB:\n",
    "    !apt update\n",
    "    !apt install imagemagick\n",
    "    !apt install cm-super\n",
    "    !apt install dvipng\n",
    "    !apt install bc\n",
    "    !apt install texlive-latex-extra\n",
    "    !apt install texlive-fonts-recommended"
   ]
  },
  {
   "cell_type": "code",
   "execution_count": null,
   "metadata": {},
   "outputs": [],
   "source": [
    "import numpy as np"
   ]
  },
  {
   "cell_type": "code",
   "execution_count": null,
   "metadata": {},
   "outputs": [],
   "source": [
    "import matplotlib\n",
    "import matplotlib.pyplot as plt\n",
    "import matplotlib.axes as ax\n",
    "import pylab\n",
    "\n",
    "plt.rcParams[\"text.usetex\"] = True\n",
    "plt.rcParams[\"text.latex.preamble\"] = r\"\\usepackage{amsmath}\" #for \\text command\n",
    "   \n",
    "%matplotlib inline"
   ]
  },
  {
   "cell_type": "code",
   "execution_count": null,
   "metadata": {},
   "outputs": [],
   "source": [
    "import cv2\n",
    "import random\n",
    "import logging"
   ]
  },
  {
   "cell_type": "code",
   "execution_count": null,
   "metadata": {},
   "outputs": [],
   "source": [
    "#import urllib\n",
    "try:\n",
    "    from skimage import io as skimage_io\n",
    "except:\n",
    "    !pip install scikit-image\n",
    "    from skimage import io as skimage_io\n",
    "\n",
    "fn = \"http://www.hpca.ual.es/~vruiz/images/lena.png\"\n",
    "#req = urllib.request.Request(fn, method='HEAD')\n",
    "#f = urllib.request.urlopen(req)\n",
    "img = skimage_io.imread(fn)\n",
    "#RGB_image.show(img,\"\")\n",
    "plt.imshow(img)"
   ]
  },
  {
   "cell_type": "code",
   "execution_count": null,
   "metadata": {},
   "outputs": [],
   "source": [
    "row, col, ch = img.shape\n",
    "mean = 0\n",
    "var = 1000\n",
    "sigma = var**0.5\n",
    "noise = np.random.normal(mean, sigma, (row, col, ch))\n",
    "print(np.max(noise))\n",
    "noisy_image = np.clip(a=img.astype(np.float32) + noise, a_min=0, a_max=255).astype(np.uint8)"
   ]
  },
  {
   "cell_type": "code",
   "execution_count": null,
   "metadata": {},
   "outputs": [],
   "source": [
    "plt.imshow(noisy_image)"
   ]
  },
  {
   "cell_type": "markdown",
   "metadata": {},
   "source": [
    "## Denoising using OpenCV"
   ]
  },
  {
   "cell_type": "code",
   "execution_count": null,
   "metadata": {},
   "outputs": [],
   "source": [
    "CV_denoised_image = cv2.fastNlMeansDenoisingColored(\n",
    "    noisy_image, None,\n",
    "    h=19,                  # Parameter regulating filter strength for luminance component. Bigger h value perfectly removes noise but also removes image details, smaller h value preserves details but also preserves some noise\n",
    "    hColor=15,              # The same as h but for color components. For most images value equals 10 will be enough to remove colored noise and do not distort colors\n",
    "    templateWindowSize=7,  # Size in pixels of the template patch that is used to compute weights. Should be odd. Recommended value 7 pixels\n",
    "    searchWindowSize=21    # Size in pixels of the window that is used to compute weighted average for given pixel. Should be odd. Affect performance linearly: greater searchWindowsSize - greater denoising time. Recommended value 21 pixels \n",
    ")"
   ]
  },
  {
   "cell_type": "code",
   "execution_count": null,
   "metadata": {},
   "outputs": [],
   "source": [
    "fig, axs = plt.subplots(3, 1, figsize=(8, 24))\n",
    "axs[0].imshow(noisy_image.astype(np.uint8))\n",
    "axs[0].set_title(\"noisy\")\n",
    "axs[1].imshow(CV_denoised_image.astype(np.uint8))\n",
    "axs[1].set_title(\"denoised\")\n",
    "axs[2].imshow(img.astype(np.uint8))\n",
    "axs[2].set_title(\"GT\")\n",
    "fig.tight_layout()\n",
    "plt.show()"
   ]
  },
  {
   "cell_type": "markdown",
   "metadata": {},
   "source": [
    "## Denoising using IRSID"
   ]
  },
  {
   "cell_type": "code",
   "execution_count": null,
   "metadata": {
    "editable": true,
    "slideshow": {
     "slide_type": ""
    },
    "tags": []
   },
   "outputs": [],
   "source": [
    "#import image_denoising\n",
    "import denoising.image.OF_iterative_random_shuffling as IRSID_denoising"
   ]
  },
  {
   "cell_type": "code",
   "execution_count": null,
   "metadata": {
    "editable": true,
    "scrolled": true,
    "slideshow": {
     "slide_type": ""
    },
    "tags": []
   },
   "outputs": [],
   "source": [
    "denoiser = IRSID_denoising.Filter_Color_Image(OF_iters=3, l=3, w=7, poly_sigma=1.75, verbosity=logging.INFO)"
   ]
  },
  {
   "cell_type": "code",
   "execution_count": null,
   "metadata": {},
   "outputs": [],
   "source": [
    "N_iters = 50\n",
    "RS_sigma = 0.5"
   ]
  },
  {
   "cell_type": "code",
   "execution_count": null,
   "metadata": {},
   "outputs": [],
   "source": [
    "IRSID_denoised_image, _ = denoiser.filter(noisy_image, GT=img, N_iters=N_iters, RS_sigma=RS_sigma)"
   ]
  },
  {
   "cell_type": "code",
   "execution_count": null,
   "metadata": {},
   "outputs": [],
   "source": [
    "fig, axs = plt.subplots(3, 1, figsize=(8, 24))\n",
    "axs[0].imshow(noisy_image.astype(np.uint8))\n",
    "axs[0].set_title(\"noisy\")\n",
    "axs[1].imshow(IRSID_denoised_image.astype(np.uint8))\n",
    "axs[1].set_title(\"denoised\")\n",
    "axs[2].imshow(img.astype(np.uint8))\n",
    "axs[2].set_title(\"GT\")\n",
    "fig.tight_layout()\n",
    "plt.show()"
   ]
  },
  {
   "cell_type": "markdown",
   "metadata": {},
   "source": [
    "## Compare"
   ]
  },
  {
   "cell_type": "code",
   "execution_count": null,
   "metadata": {},
   "outputs": [],
   "source": [
    "fig, axs = plt.subplots(1, 3, figsize=(16, 32))\n",
    "axs[0].imshow(CV_denoised_image.astype(np.uint8))\n",
    "axs[0].set_title(\"OpenCV\")\n",
    "axs[1].imshow(IRSID_denoised_image.astype(np.uint8))\n",
    "axs[1].set_title(\"OFRID\")\n",
    "axs[2].imshow(img.astype(np.uint8))\n",
    "axs[2].set_title(\"GT\")\n",
    "fig.tight_layout()\n",
    "plt.show()"
   ]
  },
  {
   "cell_type": "code",
   "execution_count": null,
   "metadata": {},
   "outputs": [],
   "source": [
    "input()"
   ]
  },
  {
   "cell_type": "code",
   "execution_count": null,
   "metadata": {},
   "outputs": [],
   "source": [
    "denoised_image, _ = image_denoiser.filter(\n",
    "    img,\n",
    "    RD_iters,\n",
    "    RD_sigma,\n",
    "    GT=img\n",
    ")"
   ]
  },
  {
   "cell_type": "code",
   "execution_count": null,
   "metadata": {},
   "outputs": [],
   "source": [
    "plt.imshow(denoised_image.astype(np.uint8))"
   ]
  },
  {
   "cell_type": "code",
   "execution_count": null,
   "metadata": {},
   "outputs": [],
   "source": [
    "input()"
   ]
  },
  {
   "cell_type": "code",
   "execution_count": null,
   "metadata": {},
   "outputs": [],
   "source": [
    "def randomize(image, max_distance_x=1, max_distance_y=1):\n",
    "    height, width, _ = image.shape\n",
    "    x_coords, y_coords = np.meshgrid(range(width), range(height)) # Create a grid of coordinates\n",
    "    flattened_x_coords = x_coords.flatten()\n",
    "    flattened_y_coords = y_coords.flatten()\n",
    "    mean=0\n",
    "    std_dev=2\n",
    "    displacements_x = np.random.normal(mean, std_dev, flattened_x_coords.shape)\n",
    "    displacements_y = np.random.normal(mean, std_dev, flattened_y_coords.shape)\n",
    "    displacements_x = displacements_x.astype(np.int32)\n",
    "    displacements_y = displacements_y.astype(np.int32)\n",
    "    #displacements_x = np.random.randint(-max_distance_x, max_distance_x + 1, flattened_x_coords.shape)\n",
    "    #displacements_y = np.random.randint(-max_distance_y, max_distance_y + 1, flattened_y_coords.shape)\n",
    "    print(f\"np.max(displacements_x)={np.max(displacements_x)} np.max(displacements_y)={np.max(displacements_y)}\")\n",
    "    randomized_x_coords = flattened_x_coords + displacements_x\n",
    "    randomized_y_coords = flattened_y_coords + displacements_y\n",
    "    randomized_x_coords = np.mod(randomized_x_coords, width) # Use periodic extension to handle border pixels\n",
    "    randomized_y_coords = np.mod(randomized_y_coords, height)\n",
    "    randomized_image = np.empty_like(image)\n",
    "    randomized_image[...] = image\n",
    "    randomized_image[randomized_y_coords,\n",
    "                     randomized_x_coords, :] = image[flattened_y_coords,\n",
    "                                                     flattened_x_coords, :]\n",
    "    return randomized_image\n",
    "\n",
    "def get_flow_to_project_A_to_B(A, B, l=3, w=15, prev_flow=None, sigma=1.5):\n",
    "    print(A.shape, B.shape, A.dtype, B.dtype)\n",
    "    flow = cv2.calcOpticalFlowFarneback(prev=B, next=A, flow=prev_flow,\n",
    "                                        pyr_scale=0.5, levels=l, winsize=w,\n",
    "                                        iterations=3, poly_n=5, poly_sigma=sigma,\n",
    "                                        flags=0)\n",
    "    #flow[...] = 0.0\n",
    "    print(np.average(np.abs(flow)), l, w, sigma)\n",
    "    return flow\n",
    "\n",
    "def project(image, flow):\n",
    "    height, width = flow.shape[:2]\n",
    "    map_x = np.tile(np.arange(width), (height, 1))\n",
    "    map_y = np.swapaxes(np.tile(np.arange(height), (width, 1)), 0, 1)\n",
    "    map_xy = (flow + np.dstack((map_x, map_y))).astype('float32')\n",
    "    warped_image = cv2.remap(image, map_xy, None,\n",
    "                             #interpolation=cv2.INTER_LANCZOS4, #INTER_LINEAR,\n",
    "                             interpolation=cv2.INTER_LINEAR,\n",
    "                             borderMode=cv2.BORDER_REPLICATE)\n",
    "    return warped_image\n",
    "\n",
    "def project_A_to_B(A, B, l=3, w=15, prev_flow=None, sigma=1.5):\n",
    "    A_luma = YUV.from_RGB(A.astype(np.int16))[..., 0]\n",
    "    B_luma = YUV.from_RGB(B.astype(np.int16))[..., 0]\n",
    "    flow = get_flow_to_project_A_to_B(A_luma, B_luma, l, w, prev_flow, sigma)\n",
    "    return project(A, flow)"
   ]
  },
  {
   "cell_type": "code",
   "execution_count": null,
   "metadata": {},
   "outputs": [],
   "source": [
    "'''1. denoised_image = 0\n",
    "2. for i in range(iters):\n",
    "    1. randomized_noisy_image = randomize(noisy_image)\n",
    "    2. randomized_and_compensated_noisy_image = project_A_to_B(A=randomized_noisy_image, B=noisy_image)\n",
    "    3. average_image += (noisy_image + randomized_and_compensated_noisy_image)/2\n",
    "    4. denoised_image += average_image\n",
    "3. denoised_image /= iters\n",
    "'''\n",
    "'''\n",
    "iters = 20\n",
    "denoised_image = np.empty_like(noisy_image, dtype=np.float32)\n",
    "denoised_image[...] = noisy_image\n",
    "for i in range(iters):\n",
    "    randomized_noisy_image = randomize_image(denoised_image)\n",
    "    OF_compensated_randomized_noisy_image = project_A_to_B(A=randomized_noisy_image, B=denoised_image,\n",
    "                                                          l=2, w=33, sigma=3.5)\n",
    "    denoised_image = (denoised_image + OF_compensated_randomized_noisy_image)/2\n",
    "    plt.imshow(denoised_image.astype(np.uint8))\n",
    "    plt.show()\n",
    "'''\n",
    "acc_image = np.zeros_like(noisy_image, dtype=np.float32)\n",
    "acc_image[...] = noisy_image#img\n",
    "iters = 100\n",
    "for i in range(iters):\n",
    "    denoised_image = acc_image/(i+1)\n",
    "    randomized_noisy_image = randomize(noisy_image, max_distance_x=50, max_distance_y=50).astype(np.float32)\n",
    "    #randomized_noisy_image = randomize(img, max_distance_x=10, max_distance_y=10).astype(np.float32)\n",
    "    #randomized_and_compensated_noisy_image = project_A_to_B(A=randomized_noisy_image, B=noisy_image, l=5, w=15, sigma=1.5)\n",
    "    randomized_and_compensated_noisy_image = project_A_to_B(B=randomized_noisy_image, A=denoised_image, l=5, w=15, sigma=1.5)\n",
    "    #randomized_and_compensated_noisy_image = randomized_noisy_image\n",
    "    #plt.imshow(randomized_noisy_image.astype(np.uint8))\n",
    "    #plt.show()\n",
    "    acc_image += randomized_and_compensated_noisy_image\n",
    "denoised_image = acc_image/(iters)\n",
    "print(np.max(denoised_image))"
   ]
  },
  {
   "cell_type": "code",
   "execution_count": null,
   "metadata": {},
   "outputs": [],
   "source": [
    "fig, axs = plt.subplots(3, 1, figsize=(8, 24))\n",
    "axs[0].imshow(noisy_image.astype(np.uint8))\n",
    "axs[0].set_title(\"noisy\")\n",
    "axs[1].imshow(denoised_image.astype(np.uint8))\n",
    "axs[1].set_title(\"denoised\")\n",
    "axs[2].imshow(img.astype(np.uint8))\n",
    "axs[2].set_title(\"GT\")\n",
    "fig.tight_layout()\n",
    "plt.show()"
   ]
  },
  {
   "cell_type": "code",
   "execution_count": null,
   "metadata": {},
   "outputs": [],
   "source": [
    "#RGB_image.show(denoised_image.astype(np.uint8),\"\")\n",
    "plt.imshow(denoised_image.astype(np.uint8))"
   ]
  },
  {
   "cell_type": "code",
   "execution_count": null,
   "metadata": {},
   "outputs": [],
   "source": [
    "denoised_image = cv2.fastNlMeansDenoisingColored(noisy_image, None, 11, 6, 7, 21)"
   ]
  },
  {
   "cell_type": "code",
   "execution_count": null,
   "metadata": {},
   "outputs": [],
   "source": [
    "fig, axs = plt.subplots(3, 1, figsize=(8, 24))\n",
    "axs[0].imshow(noisy_image.astype(np.uint8))\n",
    "axs[0].set_title(\"noisy\")\n",
    "axs[1].imshow(denoised_image.astype(np.uint8))\n",
    "axs[1].set_title(\"denoised\")\n",
    "axs[2].imshow(img.astype(np.uint8))\n",
    "axs[2].set_title(\"GT\")\n",
    "fig.tight_layout()\n",
    "plt.show()"
   ]
  },
  {
   "cell_type": "code",
   "execution_count": null,
   "metadata": {},
   "outputs": [],
   "source": [
    "import logging\n",
    "#verbosity = logging.WARNING\n",
    "verbosity = logging.DEBUG"
   ]
  },
  {
   "cell_type": "code",
   "execution_count": null,
   "metadata": {},
   "outputs": [],
   "source": [
    "image_denoiser = image_denoising.OF_random.Filter_Color_Image(\n",
    "    levels=5,\n",
    "    window_side=15,\n",
    "    poly_sigma=1.5,\n",
    "    verbosity=verbosity)"
   ]
  },
  {
   "cell_type": "code",
   "execution_count": null,
   "metadata": {},
   "outputs": [],
   "source": [
    "RD_iters = 50\n",
    "RD_sigma = 1.0\n",
    "RD_mean = 0.0"
   ]
  },
  {
   "cell_type": "code",
   "execution_count": null,
   "metadata": {},
   "outputs": [],
   "source": [
    "denoised_image, _ = image_denoiser.filter(\n",
    "    noisy_image[0:16,0:512,:],\n",
    "    RD_iters,\n",
    "    RD_sigma,\n",
    "    GT=img\n",
    ")"
   ]
  },
  {
   "cell_type": "code",
   "execution_count": null,
   "metadata": {},
   "outputs": [],
   "source": [
    "np.amax(_)"
   ]
  },
  {
   "cell_type": "code",
   "execution_count": null,
   "metadata": {},
   "outputs": [],
   "source": [
    "np.argmax(_)"
   ]
  },
  {
   "cell_type": "code",
   "execution_count": null,
   "metadata": {},
   "outputs": [],
   "source": [
    "fig, axs = plt.subplots(3, 1, figsize=(8, 24))\n",
    "axs[0].imshow(noisy_image.astype(np.uint8))\n",
    "axs[0].set_title(\"noisy\")\n",
    "axs[1].imshow(denoised_image.astype(np.uint8))\n",
    "axs[1].set_title(\"denoised\")\n",
    "axs[2].imshow(img.astype(np.uint8))\n",
    "axs[2].set_title(\"GT\")\n",
    "fig.tight_layout()\n",
    "plt.show()"
   ]
  },
  {
   "cell_type": "code",
   "execution_count": null,
   "metadata": {},
   "outputs": [],
   "source": [
    "image_denoiser = image_denoising.OF_random.Filter_Color_Image(levels=5, window_side=15, poly_sigma=0.5)"
   ]
  },
  {
   "cell_type": "code",
   "execution_count": null,
   "metadata": {},
   "outputs": [],
   "source": [
    "RD_iters = 50\n",
    "RD_sigma = 1.0\n",
    "RD_mean = 0.0"
   ]
  },
  {
   "cell_type": "code",
   "execution_count": null,
   "metadata": {},
   "outputs": [],
   "source": [
    "denoised_image, _ = image_denoiser.filter(\n",
    "    noisy_image,\n",
    "    RD_iters,\n",
    "    RD_sigma,\n",
    "    GT=img\n",
    ")"
   ]
  },
  {
   "cell_type": "code",
   "execution_count": null,
   "metadata": {},
   "outputs": [],
   "source": [
    "np.amax(_)"
   ]
  },
  {
   "cell_type": "code",
   "execution_count": null,
   "metadata": {},
   "outputs": [],
   "source": [
    "np.argmax(_)"
   ]
  },
  {
   "cell_type": "code",
   "execution_count": null,
   "metadata": {
    "scrolled": true
   },
   "outputs": [],
   "source": [
    "fig, axs = plt.subplots(3, 1, figsize=(8, 24))\n",
    "axs[0].imshow(noisy_image.astype(np.uint8))\n",
    "axs[0].set_title(\"noisy\")\n",
    "axs[1].imshow(denoised_image.astype(np.uint8))\n",
    "axs[1].set_title(\"denoised\")\n",
    "axs[2].imshow(img.astype(np.uint8))\n",
    "axs[2].set_title(\"GT\")\n",
    "fig.tight_layout()\n",
    "plt.show()"
   ]
  },
  {
   "cell_type": "code",
   "execution_count": null,
   "metadata": {},
   "outputs": [],
   "source": [
    "image_denoiser = image_denoising.OF_random.Filter_Color_Image(levels=5, window_side=5, poly_sigma=0.5)"
   ]
  },
  {
   "cell_type": "code",
   "execution_count": null,
   "metadata": {},
   "outputs": [],
   "source": [
    "RD_iters = 50\n",
    "RD_sigma = 1.0\n",
    "RD_mean = 0.0"
   ]
  },
  {
   "cell_type": "code",
   "execution_count": null,
   "metadata": {},
   "outputs": [],
   "source": [
    "denoised_image, _ = image_denoiser.filter(\n",
    "    noisy_image,\n",
    "    RD_iters,\n",
    "    RD_sigma,\n",
    "    GT=img\n",
    ")"
   ]
  },
  {
   "cell_type": "code",
   "execution_count": null,
   "metadata": {},
   "outputs": [],
   "source": [
    "np.amax(_)"
   ]
  },
  {
   "cell_type": "code",
   "execution_count": null,
   "metadata": {},
   "outputs": [],
   "source": [
    "np.argmax(_)"
   ]
  },
  {
   "cell_type": "code",
   "execution_count": null,
   "metadata": {
    "scrolled": true
   },
   "outputs": [],
   "source": [
    "fig, axs = plt.subplots(3, 1, figsize=(8, 24))\n",
    "axs[0].imshow(noisy_image.astype(np.uint8))\n",
    "axs[0].set_title(\"noisy\")\n",
    "axs[1].imshow(denoised_image.astype(np.uint8))\n",
    "axs[1].set_title(\"denoised\")\n",
    "axs[2].imshow(img.astype(np.uint8))\n",
    "axs[2].set_title(\"GT\")\n",
    "fig.tight_layout()\n",
    "plt.show()"
   ]
  },
  {
   "cell_type": "code",
   "execution_count": null,
   "metadata": {},
   "outputs": [],
   "source": [
    "image_denoiser = image_denoising.OF_random.Filter_Color_Image(levels=5, window_side=7, poly_sigma=0.3)"
   ]
  },
  {
   "cell_type": "code",
   "execution_count": null,
   "metadata": {},
   "outputs": [],
   "source": [
    "RD_iters = 50\n",
    "RD_sigma = 1.0\n",
    "RD_mean = 0.0"
   ]
  },
  {
   "cell_type": "code",
   "execution_count": null,
   "metadata": {},
   "outputs": [],
   "source": [
    "denoised_image, _ = image_denoiser.filter(\n",
    "    noisy_image,\n",
    "    RD_iters,\n",
    "    RD_sigma,\n",
    "    GT=img\n",
    ")"
   ]
  },
  {
   "cell_type": "code",
   "execution_count": null,
   "metadata": {},
   "outputs": [],
   "source": [
    "np.amax(_)"
   ]
  },
  {
   "cell_type": "code",
   "execution_count": null,
   "metadata": {},
   "outputs": [],
   "source": [
    "np.argmax(_)"
   ]
  },
  {
   "cell_type": "code",
   "execution_count": null,
   "metadata": {},
   "outputs": [],
   "source": [
    "fig, axs = plt.subplots(3, 1, figsize=(8, 24))\n",
    "axs[0].imshow(noisy_image.astype(np.uint8))\n",
    "axs[0].set_title(\"noisy\")\n",
    "axs[1].imshow(denoised_image.astype(np.uint8))\n",
    "axs[1].set_title(\"denoised\")\n",
    "axs[2].imshow(img.astype(np.uint8))\n",
    "axs[2].set_title(\"GT\")\n",
    "fig.tight_layout()\n",
    "plt.show()"
   ]
  },
  {
   "cell_type": "code",
   "execution_count": null,
   "metadata": {
    "scrolled": true
   },
   "outputs": [],
   "source": [
    "image_denoiser = image_denoising.OF_random.Filter_Color_Image(levels=5, window_side=7, poly_sigma=1.5)"
   ]
  },
  {
   "cell_type": "code",
   "execution_count": null,
   "metadata": {},
   "outputs": [],
   "source": [
    "RD_iters = 50\n",
    "RD_sigma = 1.0\n",
    "RD_mean = 0.0"
   ]
  },
  {
   "cell_type": "code",
   "execution_count": null,
   "metadata": {},
   "outputs": [],
   "source": [
    "denoised_image, _ = image_denoiser.filter(\n",
    "    noisy_image,\n",
    "    RD_iters,\n",
    "    RD_sigma,\n",
    "    GT=img\n",
    ")"
   ]
  },
  {
   "cell_type": "code",
   "execution_count": null,
   "metadata": {},
   "outputs": [],
   "source": [
    "np.amax(_)"
   ]
  },
  {
   "cell_type": "code",
   "execution_count": null,
   "metadata": {},
   "outputs": [],
   "source": [
    "np.argmax(_)"
   ]
  },
  {
   "cell_type": "code",
   "execution_count": null,
   "metadata": {},
   "outputs": [],
   "source": [
    "fig, axs = plt.subplots(3, 1, figsize=(8, 24))\n",
    "axs[0].imshow(noisy_image.astype(np.uint8))\n",
    "axs[0].set_title(\"noisy\")\n",
    "axs[1].imshow(denoised_image.astype(np.uint8))\n",
    "axs[1].set_title(\"denoised\")\n",
    "axs[2].imshow(img.astype(np.uint8))\n",
    "axs[2].set_title(\"GT\")\n",
    "fig.tight_layout()\n",
    "plt.show()"
   ]
  },
  {
   "cell_type": "code",
   "execution_count": null,
   "metadata": {},
   "outputs": [],
   "source": [
    "acc_image = np.zeros_like(noisy_image, dtype=np.float32)\n",
    "acc_image[...] = noisy_image\n",
    "iters = 50\n",
    "for i in range(iters):\n",
    "    denoised_image = acc_image/(i+1)\n",
    "    #randomized_noisy_image = randomize(noisy_image, max_distance_x=50, max_distance_y=50).astype(np.float32)\n",
    "    randomized_noisy_image = randomize(noisy_image, max_distance_x=9, max_distance_y=9).astype(np.float32)\n",
    "    #randomized_and_compensated_noisy_image = project_A_to_B(A=randomized_noisy_image, B=noisy_image, l=5, w=15, sigma=1.5)\n",
    "    randomized_and_compensated_noisy_image = project_A_to_B(B=randomized_noisy_image, A=denoised_image, l=3, w=2, sigma=0.3)\n",
    "    #randomized_and_compensated_noisy_image = randomized_noisy_image\n",
    "    #plt.imshow(randomized_noisy_image.astype(np.uint8))\n",
    "    #plt.show()\n",
    "    acc_image += randomized_and_compensated_noisy_image\n",
    "denoised_image = acc_image/(iters + 1)"
   ]
  },
  {
   "cell_type": "code",
   "execution_count": null,
   "metadata": {},
   "outputs": [],
   "source": [
    "#GB_image.show(denoised_image.astype(np.uint8),\"\")\n",
    "plt.imshow(denoised_image.astype(np.uint8))"
   ]
  },
  {
   "cell_type": "code",
   "execution_count": null,
   "metadata": {},
   "outputs": [],
   "source": [
    "input()"
   ]
  },
  {
   "cell_type": "code",
   "execution_count": null,
   "metadata": {},
   "outputs": [],
   "source": [
    "acc_image = np.zeros_like(img, dtype=np.float32)\n",
    "acc_image[...] = img#noisy_image\n",
    "iters = 50\n",
    "for i in range(iters):\n",
    "    denoised_image = acc_image/(i+1)\n",
    "    #randomized_noisy_image = randomize(noisy_image, max_distance_x=50, max_distance_y=50).astype(np.float32)\n",
    "    randomized_noisy_image = randomize(img, max_distance_x=19, max_distance_y=19).astype(np.float32)\n",
    "    #randomized_and_compensated_noisy_image = project_A_to_B(A=randomized_noisy_image, B=noisy_image, l=5, w=15, sigma=1.5)\n",
    "    randomized_and_compensated_noisy_image = project_A_to_B(B=randomized_noisy_image, A=denoised_image, l=3, w=2, sigma=0.3)\n",
    "    #randomized_and_compensated_noisy_image = randomized_noisy_image\n",
    "    #plt.imshow(randomized_noisy_image.astype(np.uint8))\n",
    "    #plt.show()\n",
    "    acc_image += randomized_and_compensated_noisy_image\n",
    "denoised_image = acc_image/(iters + 1)"
   ]
  },
  {
   "cell_type": "code",
   "execution_count": null,
   "metadata": {},
   "outputs": [],
   "source": [
    "RGB_image.show(denoised_image.astype(np.uint8),\"\")"
   ]
  },
  {
   "cell_type": "code",
   "execution_count": null,
   "metadata": {},
   "outputs": [],
   "source": [
    "def randomize(image, max_distance_y=9, max_distance_x=9):\n",
    "    height, width, _ = image.shape\n",
    "    x_coords, y_coords = np.meshgrid(range(width), range(height)) # Create a grid of coordinates\n",
    "    flattened_x_coords = x_coords.flatten()\n",
    "    flattened_y_coords = y_coords.flatten()\n",
    "    displacements_x = np.random.randint(-max_distance_x, max_distance_x + 1, flattened_x_coords.shape)\n",
    "    displacements_y = np.random.randint(-max_distance_y, max_distance_y + 1, flattened_y_coords.shape)\n",
    "    randomized_x_coords = flattened_x_coords + displacements_x\n",
    "    randomized_y_coords = flattened_y_coords + displacements_y\n",
    "    randomized_x_coords = np.mod(randomized_x_coords, width) # Use periodic extension to handle border pixels\n",
    "    randomized_y_coords = np.mod(randomized_y_coords, height)\n",
    "    randomized_image = np.empty_like(image)\n",
    "    randomized_image[...] = image\n",
    "    randomized_image[randomized_y_coords,\n",
    "                     randomized_x_coords, :] = image[flattened_y_coords,\n",
    "                                                     flattened_x_coords, :]\n",
    "    return randomized_image\n",
    "\n",
    "def get_flow_to_project_A_to_B(A, B, l=3, w=15, prev_flow=None, sigma=1.5):\n",
    "    flow = cv2.calcOpticalFlowFarneback(prev=B, next=A, flow=prev_flow,\n",
    "                                        pyr_scale=0.5, levels=l, winsize=w,\n",
    "                                        iterations=3, poly_n=5, poly_sigma=sigma,\n",
    "                                        flags=0)\n",
    "    #flow[...] = 0.0\n",
    "    print(np.average(np.abs(flow)), l, w, sigma, end=' ')\n",
    "    return flow\n",
    "\n",
    "def project(image, flow):\n",
    "    height, width = flow.shape[:2]\n",
    "    map_x = np.tile(np.arange(width), (height, 1))\n",
    "    map_y = np.swapaxes(np.tile(np.arange(height), (width, 1)), 0, 1)\n",
    "    map_xy = (flow + np.dstack((map_x, map_y))).astype('float32')\n",
    "    warped_image = cv2.remap(image, map_xy, None,\n",
    "                             #interpolation=cv2.INTER_LANCZOS4, #INTER_LINEAR,\n",
    "                             interpolation=cv2.INTER_LINEAR,\n",
    "                             borderMode=cv2.BORDER_REPLICATE)\n",
    "    return warped_image\n",
    "\n",
    "def warp_A_to_B(A, B, l=3, w=15, prev_flow=None, sigma=1.5):\n",
    "    A_luma = YUV.from_RGB(A.astype(np.int16))[..., 0]\n",
    "    B_luma = YUV.from_RGB(B.astype(np.int16))[..., 0]\n",
    "    flow = get_flow_to_project_A_to_B(A_luma, B_luma, l, w, prev_flow, sigma)\n",
    "    return project(A, flow)\n",
    "\n",
    "def denoise(noisy_image, iters=50, max_distance_y=9, max_distance_x=9, l=3, w=2, sigma=0.3):\n",
    "    acc_image = np.zeros_like(noisy_image, dtype=np.float32)\n",
    "    acc_image[...] = noisy_image\n",
    "    for i in range(iters):\n",
    "        print(i, end=' ')\n",
    "        denoised_image = acc_image/(i+1)\n",
    "        randomized_noisy_image = randomize(noisy_image, max_distance_y=9, max_distance_x=9).astype(np.float32)\n",
    "        randomized_and_compensated_noisy_image = warp_A_to_B(B=randomized_noisy_image, A=denoised_image, l=3, w=2, sigma=0.3)\n",
    "        #randomized_and_compensated_noisy_image = randomized_noisy_image\n",
    "        #plt.imshow(randomized_noisy_image.astype(np.uint8))\n",
    "        #plt.show()\n",
    "        acc_image += randomized_and_compensated_noisy_image\n",
    "    denoised_image = acc_image/(iters + 1)\n",
    "    print()\n",
    "    return denoised_image"
   ]
  },
  {
   "cell_type": "code",
   "execution_count": null,
   "metadata": {},
   "outputs": [],
   "source": [
    "RGB_image.show(\n",
    "    denoise(\n",
    "        img,\n",
    "        iters=50,\n",
    "        max_distance_y=19, max_distance_x=19,\n",
    "        l=3, w=2, sigma=0.3).astype(np.uint8),\"\")"
   ]
  },
  {
   "cell_type": "code",
   "execution_count": null,
   "metadata": {},
   "outputs": [],
   "source": [
    "def randomize(image, max_distance_y=9, max_distance_x=9):\n",
    "    print(\"randomize:\", max_distance_y, max_distance_x)\n",
    "    height, width, _ = image.shape\n",
    "    x_coords, y_coords = np.meshgrid(range(width), range(height)) # Create a grid of coordinates\n",
    "    flattened_x_coords = x_coords.flatten()\n",
    "    flattened_y_coords = y_coords.flatten()\n",
    "    displacements_x = np.random.randint(-max_distance_x, max_distance_x + 1, flattened_x_coords.shape)\n",
    "    displacements_y = np.random.randint(-max_distance_y, max_distance_y + 1, flattened_y_coords.shape)\n",
    "    randomized_x_coords = flattened_x_coords + displacements_x\n",
    "    randomized_y_coords = flattened_y_coords + displacements_y\n",
    "    randomized_x_coords = np.mod(randomized_x_coords, width) # Use periodic extension to handle border pixels\n",
    "    randomized_y_coords = np.mod(randomized_y_coords, height)\n",
    "    randomized_image = np.empty_like(image)\n",
    "    randomized_image[...] = image\n",
    "    randomized_image[randomized_y_coords,\n",
    "                     randomized_x_coords, :] = image[flattened_y_coords,\n",
    "                                                     flattened_x_coords, :]\n",
    "    return randomized_image\n",
    "\n",
    "def get_flow_to_project_A_to_B(A, B, l=3, w=15, prev_flow=None, sigma=1.5):\n",
    "    flow = cv2.calcOpticalFlowFarneback(prev=A, next=B, flow=prev_flow,\n",
    "                                        pyr_scale=0.5, levels=l, winsize=w,\n",
    "                                        iterations=3, poly_n=5, poly_sigma=sigma,\n",
    "                                        flags=0 #cv2.OPTFLOW_FARNEBACK_GAUSSIAN\n",
    "                                       )\n",
    "    #flow[...] = 0.0\n",
    "    print(np.average(np.abs(flow)), l, w, sigma, end=' ')\n",
    "    return flow\n",
    "\n",
    "def project(image, flow):\n",
    "    height, width = flow.shape[:2]\n",
    "    map_x = np.tile(np.arange(width), (height, 1))\n",
    "    map_y = np.swapaxes(np.tile(np.arange(height), (width, 1)), 0, 1)\n",
    "    map_xy = (flow + np.dstack((map_x, map_y))).astype('float32')\n",
    "    warped_image = cv2.remap(image, map_xy, None,\n",
    "                             #interpolation=cv2.INTER_LANCZOS4, #INTER_LINEAR,\n",
    "                             interpolation=cv2.INTER_LINEAR,\n",
    "                             borderMode=cv2.BORDER_REPLICATE)\n",
    "    return warped_image\n",
    "\n",
    "def warp_B_to_A(A, B, l=3, w=15, prev_flow=None, sigma=1.5):\n",
    "    A_luma = YUV.from_RGB(A.astype(np.int16))[..., 0]\n",
    "    B_luma = YUV.from_RGB(B.astype(np.int16))[..., 0]\n",
    "    flow = get_flow_to_project_A_to_B(A_luma, B_luma, l, w, prev_flow, sigma)\n",
    "    return project(B, flow)\n",
    "\n",
    "def denoise(noisy_image, iters=50, max_distance_y=9, max_distance_x=9, l=3, w=2, sigma=0.3):\n",
    "    print(iters, max_distance_y, max_distance_x, l, w, sigma)\n",
    "    acc_image = np.zeros_like(noisy_image, dtype=np.float32)\n",
    "    acc_image[...] = noisy_image\n",
    "    for i in range(iters):\n",
    "        print(i, end=' ')\n",
    "        denoised_image = acc_image/(i+1)\n",
    "        randomized_noisy_image = randomize(noisy_image, max_distance_y, max_distance_x).astype(np.float32)\n",
    "        randomized_and_compensated_noisy_image = warp_B_to_A(A=randomized_noisy_image, B=denoised_image, l=l, w=w, sigma=sigma)\n",
    "        #randomized_and_compensated_noisy_image = randomized_noisy_image\n",
    "        plt.imshow(randomized_noisy_image.astype(np.uint8))\n",
    "        plt.show()\n",
    "        acc_image += randomized_and_compensated_noisy_image\n",
    "    denoised_image = acc_image/(iters + 1)\n",
    "    print()\n",
    "    return denoised_image"
   ]
  },
  {
   "cell_type": "code",
   "execution_count": null,
   "metadata": {},
   "outputs": [],
   "source": [
    "RGB_image.show(\n",
    "    denoise(\n",
    "        img,\n",
    "        iters=10,\n",
    "        max_distance_y=10, max_distance_x=10,\n",
    "        l=5, w=9, sigma=0.3).astype(np.uint8),\"\")"
   ]
  },
  {
   "cell_type": "code",
   "execution_count": null,
   "metadata": {},
   "outputs": [],
   "source": [
    "def randomize(image, max_distance_y=9, max_distance_x=9):\n",
    "    print(\"randomize:\", max_distance_y, max_distance_x)\n",
    "    height, width = image.shape[:2]\n",
    "    x_coords, y_coords = np.meshgrid(range(width), range(height)) # Create a grid of coordinates\n",
    "    flattened_x_coords = x_coords.flatten()\n",
    "    flattened_y_coords = y_coords.flatten()\n",
    "    displacements_x = np.random.randint(-max_distance_x, max_distance_x + 1, flattened_x_coords.shape)\n",
    "    displacements_y = np.random.randint(-max_distance_y, max_distance_y + 1, flattened_y_coords.shape)\n",
    "    randomized_x_coords = flattened_x_coords + displacements_x\n",
    "    randomized_y_coords = flattened_y_coords + displacements_y\n",
    "    randomized_x_coords = np.mod(randomized_x_coords, width) # Use periodic extension to handle border pixels\n",
    "    randomized_y_coords = np.mod(randomized_y_coords, height)\n",
    "    randomized_image = np.empty_like(image)\n",
    "    randomized_image[...] = image\n",
    "    randomized_image[randomized_y_coords,\n",
    "                     randomized_x_coords] = image[flattened_y_coords,\n",
    "                                                  flattened_x_coords]\n",
    "    return randomized_image\n",
    "\n",
    "def get_flow_to_project_A_to_B(A, B, l=3, w=15, prev_flow=None, sigma=1.5):\n",
    "    # projection(next, flow) ~ prev\n",
    "    flow = cv2.calcOpticalFlowFarneback(prev=A, next=B, flow=prev_flow,\n",
    "                                        pyr_scale=0.5, levels=l, winsize=w,\n",
    "                                        iterations=3, poly_n=5, poly_sigma=sigma,\n",
    "                                        flags=0 #cv2.OPTFLOW_FARNEBACK_GAUSSIAN\n",
    "                                       )\n",
    "    #flow[...] = 0.0\n",
    "    print(np.average(np.abs(flow)), l, w, sigma, end=' ')\n",
    "    '''\n",
    "    magnitude, angle = cv2.cartToPolar(flow[..., 0], flow[..., 1])\n",
    "\n",
    "    # Normalize the magnitude to the range [0, 255]\n",
    "    magnitude = cv2.normalize(magnitude, None, 0, 255, cv2.NORM_MINMAX)\n",
    "\n",
    "    # Convert angle to degrees for visualization\n",
    "    angle = np.rad2deg(angle)\n",
    "\n",
    "    # Create HSV image\n",
    "    hsv = np.zeros((A.shape[0], A.shape[1], 3), dtype=np.uint8)\n",
    "    hsv[..., 0] = angle / 2\n",
    "    hsv[..., 1] = 255\n",
    "    hsv[..., 2] = cv2.normalize(magnitude, None, 0, 255, cv2.NORM_MINMAX)\n",
    "\n",
    "    # Convert HSV to BGR for visualization\n",
    "    rgb = cv2.cvtColor(hsv, cv2.COLOR_HSV2BGR)\n",
    "\n",
    "    # Display the flow field\n",
    "    plt.imshow(rgb)\n",
    "    plt.show()\n",
    "    '''\n",
    "    return flow\n",
    "\n",
    "def project(image, flow):\n",
    "    height, width = flow.shape[:2]\n",
    "    map_x = np.tile(np.arange(width), (height, 1))\n",
    "    map_y = np.swapaxes(np.tile(np.arange(height), (width, 1)), 0, 1)\n",
    "    map_xy = (flow + np.dstack((map_x, map_y))).astype('float32')\n",
    "    warped_image = cv2.remap(image, map_xy, None,\n",
    "                             #interpolation=cv2.INTER_LANCZOS4, #INTER_LINEAR,\n",
    "                             interpolation=cv2.INTER_LINEAR,\n",
    "                             borderMode=cv2.BORDER_REPLICATE)\n",
    "    return warped_image\n",
    "\n",
    "def RGB_warp_B_to_A(A, B, l=3, w=15, prev_flow=None, sigma=1.5):\n",
    "    A_luma = YUV.from_RGB(A.astype(np.int16))[..., 0]\n",
    "    B_luma = YUV.from_RGB(B.astype(np.int16))[..., 0]\n",
    "    flow = get_flow_to_project_A_to_B(A_luma, B_luma, l, w, prev_flow, sigma)\n",
    "    return project(B, flow)\n",
    "\n",
    "def warp_B_to_A(A, B, l=3, w=15, prev_flow=None, sigma=1.5):\n",
    "    flow = get_flow_to_project_A_to_B(A, B, l, w, prev_flow, sigma)\n",
    "    return project(B, flow)\n",
    "\n",
    "def denoise(warp_B_to_A, noisy_image, iters=50, max_distance_y=9, max_distance_x=9, l=3, w=2, sigma=0.3):\n",
    "    print(iters, max_distance_y, max_distance_x, l, w, sigma)\n",
    "    acc_image = np.zeros_like(noisy_image, dtype=np.float32)\n",
    "    acc_image[...] = noisy_image\n",
    "    for i in range(iters):\n",
    "        print(i, end=' ')\n",
    "        denoised_image = acc_image/(i+1)\n",
    "        randomized_noisy_image = randomize(noisy_image, max_distance_y, max_distance_x).astype(np.float32)\n",
    "        #randomized_noisy_image = randomize(denoised_image, max_distance_y, max_distance_x).astype(np.float32)\n",
    "        #randomized_noisy_image = noisy_image\n",
    "        #randomized_and_compensated_noisy_image = warp_B_to_A(B=randomized_noisy_image, A=noisy_image, l=l, w=w, sigma=sigma)\n",
    "        #randomized_and_compensated_noisy_image = warp_B_to_A(B=randomized_noisy_image, A=denoised_image, l=l, w=w, sigma=sigma)\n",
    "        randomized_and_compensated_noisy_image = warp_B_to_A(A=randomized_noisy_image, B=denoised_image, l=l, w=w, sigma=sigma)\n",
    "        #randomized_and_compensated_noisy_image = randomized_noisy_image\n",
    "        plt.imshow(randomized_and_compensated_noisy_image.astype(np.uint8))\n",
    "        plt.show()\n",
    "        acc_image += randomized_and_compensated_noisy_image\n",
    "    denoised_image = acc_image/(iters + 1)\n",
    "    print()\n",
    "    return denoised_image"
   ]
  },
  {
   "cell_type": "code",
   "execution_count": null,
   "metadata": {},
   "outputs": [],
   "source": [
    "denoised_img = denoise(RGB_warp_B_to_A, noisy_image,\n",
    "                       iters=10, max_distance_y=5, max_distance_x=5, l=2, w=9, sigma=1.25)"
   ]
  },
  {
   "cell_type": "code",
   "execution_count": null,
   "metadata": {},
   "outputs": [],
   "source": [
    "denoised_img = denoise(RGB_warp_B_to_A, noisy_image,\n",
    "                       iters=100, max_distance_y=15, max_distance_x=15, l=3, w=9, sigma=1.25)"
   ]
  },
  {
   "cell_type": "code",
   "execution_count": null,
   "metadata": {},
   "outputs": [],
   "source": [
    "RGB_image.show(denoised_img.astype(np.uint8))"
   ]
  },
  {
   "cell_type": "code",
   "execution_count": null,
   "metadata": {},
   "outputs": [],
   "source": [
    "denoised_img = denoise(RGB_warp_B_to_A, noisy_image,\n",
    "                       iters=100, max_distance_y=10, max_distance_x=10, l=3, w=9, sigma=1.25)"
   ]
  },
  {
   "cell_type": "code",
   "execution_count": null,
   "metadata": {},
   "outputs": [],
   "source": [
    "RGB_image.show(denoised_img.astype(np.uint8))"
   ]
  },
  {
   "cell_type": "code",
   "execution_count": null,
   "metadata": {},
   "outputs": [],
   "source": []
  }
 ],
 "metadata": {
  "kernelspec": {
   "display_name": "Python 3 (ipykernel)",
   "language": "python",
   "name": "python3"
  },
  "language_info": {
   "codemirror_mode": {
    "name": "ipython",
    "version": 3
   },
   "file_extension": ".py",
   "mimetype": "text/x-python",
   "name": "python",
   "nbconvert_exporter": "python",
   "pygments_lexer": "ipython3",
   "version": "3.10.12"
  }
 },
 "nbformat": 4,
 "nbformat_minor": 4
}
