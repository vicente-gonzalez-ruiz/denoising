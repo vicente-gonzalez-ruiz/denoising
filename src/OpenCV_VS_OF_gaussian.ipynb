{
 "cells": [
  {
   "cell_type": "markdown",
   "metadata": {},
   "source": [
    "[![Binder](https://mybinder.org/badge_logo.svg)](https://nbviewer.org/github/vicente-gonzalez-ruiz/motion_estimation/blob/main/src/motion_estimation/full_search_dense_ME.ipynb)"
   ]
  },
  {
   "cell_type": "markdown",
   "metadata": {},
   "source": [
    "[![Colab](https://badgen.net/badge/Launch/on%20Google%20Colab/blue?icon=notebook)](https://colab.research.google.com/github/vicente-gonzalez-ruiz/motion_estimation/blob/main/src/motion_estimation/full_search_dense_ME.ipynb)"
   ]
  },
  {
   "cell_type": "markdown",
   "metadata": {},
   "source": [
    "# cv2.fastNlMeansDenoising VS Optical Flow Gaussian Image Denoising"
   ]
  },
  {
   "cell_type": "code",
   "execution_count": null,
   "metadata": {},
   "outputs": [],
   "source": [
    "try:\n",
    "    import google.colab\n",
    "    IN_COLAB = True\n",
    "except:\n",
    "    IN_COLAB = False\n",
    "\n",
    "if IN_COLAB:\n",
    "    !apt update\n",
    "    !apt install imagemagick\n",
    "    !apt install cm-super\n",
    "    !apt install dvipng\n",
    "    !apt install bc\n",
    "    !apt install texlive-latex-extra\n",
    "    !apt install texlive-fonts-recommended"
   ]
  },
  {
   "cell_type": "code",
   "execution_count": null,
   "metadata": {},
   "outputs": [],
   "source": [
    "import numpy as np"
   ]
  },
  {
   "cell_type": "code",
   "execution_count": null,
   "metadata": {},
   "outputs": [],
   "source": [
    "import matplotlib\n",
    "import matplotlib.pyplot as plt\n",
    "import matplotlib.axes as ax\n",
    "import pylab\n",
    "\n",
    "plt.rcParams[\"text.usetex\"] = True\n",
    "plt.rcParams[\"text.latex.preamble\"] = r\"\\usepackage{amsmath}\" #for \\text command\n",
    "   \n",
    "%matplotlib inline"
   ]
  },
  {
   "cell_type": "code",
   "execution_count": null,
   "metadata": {},
   "outputs": [],
   "source": [
    "import cv2\n",
    "import random"
   ]
  },
  {
   "cell_type": "code",
   "execution_count": null,
   "metadata": {},
   "outputs": [],
   "source": [
    "#import urllib\n",
    "try:\n",
    "    from skimage import io as skimage_io\n",
    "except:\n",
    "    !pip install scikit-image\n",
    "    from skimage import io as skimage_io\n",
    "\n",
    "fn = \"http://www.hpca.ual.es/~vruiz/images/lena.png\"\n",
    "#req = urllib.request.Request(fn, method='HEAD')\n",
    "#f = urllib.request.urlopen(req)\n",
    "img = skimage_io.imread(fn)\n",
    "#RGB_image.show(img,\"\")\n",
    "plt.imshow(img)"
   ]
  },
  {
   "cell_type": "code",
   "execution_count": null,
   "metadata": {},
   "outputs": [],
   "source": [
    "row, col, ch = img.shape\n",
    "mean = 0\n",
    "var = 1000\n",
    "sigma = var**0.5\n",
    "noise = np.random.normal(mean, sigma, (row, col, ch))\n",
    "print(np.max(noise))\n",
    "noisy_image = np.clip(a=img.astype(np.float32) + noise, a_min=0, a_max=255).astype(np.uint8)"
   ]
  },
  {
   "cell_type": "code",
   "execution_count": null,
   "metadata": {},
   "outputs": [],
   "source": [
    "plt.imshow(noisy_image)"
   ]
  },
  {
   "cell_type": "code",
   "execution_count": null,
   "metadata": {},
   "outputs": [],
   "source": [
    "denoised_image = cv2.fastNlMeansDenoisingColored(noisy_image, None, 11, 6, 7, 21)"
   ]
  },
  {
   "cell_type": "code",
   "execution_count": null,
   "metadata": {},
   "outputs": [],
   "source": [
    "fig, axs = plt.subplots(3, 1, figsize=(8, 24))\n",
    "axs[0].imshow(noisy_image.astype(np.uint8))\n",
    "axs[0].set_title(\"noisy\")\n",
    "axs[1].imshow(denoised_image.astype(np.uint8))\n",
    "axs[1].set_title(\"denoised\")\n",
    "axs[2].imshow(img.astype(np.uint8))\n",
    "axs[2].set_title(\"GT\")\n",
    "fig.tight_layout()\n",
    "plt.show()"
   ]
  },
  {
   "cell_type": "code",
   "execution_count": null,
   "metadata": {},
   "outputs": [],
   "source": [
    "import logging\n",
    "import denoising.image.OF_gaussian as OF_gaussian_denoising"
   ]
  },
  {
   "cell_type": "code",
   "execution_count": null,
   "metadata": {},
   "outputs": [],
   "source": [
    "denoiser = OF_gaussian_denoising.Color_Image_OF_Gaussian_Denoising(\n",
    "    sigma_gaussian=2.5, l=3, w=9, sigma_OF=2.5, verbosity=logging.INFO)"
   ]
  },
  {
   "cell_type": "code",
   "execution_count": null,
   "metadata": {},
   "outputs": [],
   "source": [
    "denoised_image, _ = denoiser.filter(noisy_image, GT=img)"
   ]
  },
  {
   "cell_type": "code",
   "execution_count": null,
   "metadata": {},
   "outputs": [],
   "source": [
    "np.amax(_)"
   ]
  },
  {
   "cell_type": "code",
   "execution_count": null,
   "metadata": {},
   "outputs": [],
   "source": [
    "np.argmax(_)"
   ]
  },
  {
   "cell_type": "code",
   "execution_count": null,
   "metadata": {},
   "outputs": [],
   "source": [
    "fig, axs = plt.subplots(3, 1, figsize=(8, 24))\n",
    "axs[0].imshow(noisy_image.astype(np.uint8))\n",
    "axs[0].set_title(\"noisy\")\n",
    "axs[1].imshow(denoised_image.astype(np.uint8))\n",
    "axs[1].set_title(\"denoised\")\n",
    "axs[2].imshow(img.astype(np.uint8))\n",
    "axs[2].set_title(\"GT\")\n",
    "fig.tight_layout()\n",
    "plt.show()"
   ]
  },
  {
   "cell_type": "code",
   "execution_count": null,
   "metadata": {},
   "outputs": [],
   "source": []
  }
 ],
 "metadata": {
  "kernelspec": {
   "display_name": "Python 3 (ipykernel)",
   "language": "python",
   "name": "python3"
  },
  "language_info": {
   "codemirror_mode": {
    "name": "ipython",
    "version": 3
   },
   "file_extension": ".py",
   "mimetype": "text/x-python",
   "name": "python",
   "nbconvert_exporter": "python",
   "pygments_lexer": "ipython3",
   "version": "3.10.12"
  }
 },
 "nbformat": 4,
 "nbformat_minor": 4
}
