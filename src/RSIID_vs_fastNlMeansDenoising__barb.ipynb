{
 "cells": [
  {
   "cell_type": "markdown",
   "metadata": {
    "editable": true,
    "id": "QqfKxC0KuCzK",
    "slideshow": {
     "slide_type": ""
    },
    "tags": []
   },
   "source": [
    "# Optical flow random image denoising VS [cv2.fastNlMeansDenoising()](https://docs.opencv.org/3.4/d5/d69/tutorial_py_non_local_means.html) (barb)"
   ]
  },
  {
   "cell_type": "code",
   "execution_count": null,
   "metadata": {},
   "outputs": [],
   "source": [
    "local_debug = True"
   ]
  },
  {
   "cell_type": "code",
   "execution_count": null,
   "metadata": {
    "id": "IIUxh4uStrQJ"
   },
   "outputs": [],
   "source": [
    "import numpy as np\n",
    "import scipy.ndimage\n",
    "import matplotlib.pyplot as plt\n",
    "#from ipywidgets import *\n",
    "import cv2\n",
    "import time\n",
    "#import kernels\n",
    "from skimage import io as skimage_io\n",
    "from skimage.metrics import structural_similarity as ssim\n",
    "from scipy import stats\n",
    "import math"
   ]
  },
  {
   "cell_type": "code",
   "execution_count": null,
   "metadata": {},
   "outputs": [],
   "source": [
    "import logging\n",
    "logging.basicConfig(format=\"[%(filename)s:%(lineno)s %(funcName)s()] %(message)s\")\n",
    "logger = logging.getLogger(__name__)"
   ]
  },
  {
   "cell_type": "code",
   "execution_count": null,
   "metadata": {},
   "outputs": [],
   "source": [
    "if local_debug:\n",
    "    !ln -sf ../../information_theory/src/information_theory/ .\n",
    "else:\n",
    "    !pip install \"information_theory @ git+https://github.com/vicente-gonzalez-ruiz/information_theory\"\n",
    "import information_theory  # pip install \"information_theory @ git+https://github.com/vicente-gonzalez-ruiz/information_theory\""
   ]
  },
  {
   "cell_type": "code",
   "execution_count": null,
   "metadata": {},
   "outputs": [],
   "source": [
    "import denoising.image.OF_random as random_denoising"
   ]
  },
  {
   "cell_type": "code",
   "execution_count": null,
   "metadata": {},
   "outputs": [],
   "source": [
    "GT = skimage_io.imread(\"http://www.hpca.ual.es/~vruiz/images/barb.png\")"
   ]
  },
  {
   "cell_type": "code",
   "execution_count": null,
   "metadata": {},
   "outputs": [],
   "source": [
    "plt.imshow(GT, cmap=\"gray\")"
   ]
  },
  {
   "cell_type": "code",
   "execution_count": null,
   "metadata": {},
   "outputs": [],
   "source": [
    "padded_GT = np.zeros(shape=(GT.shape[0]+32, GT.shape[1]+32), dtype=np.uint8)\n",
    "padded_GT[16:-16, 16:-16] = GT\n",
    "GT = padded_GT"
   ]
  },
  {
   "cell_type": "code",
   "execution_count": null,
   "metadata": {},
   "outputs": [],
   "source": [
    "mean = 0\n",
    "var = 1000\n",
    "sigma = 20 #var**0.5\n",
    "noise = np.random.normal(mean, sigma, GT.shape).reshape(GT.shape)\n",
    "noisy = np.clip(a=GT.astype(np.float32) + noise, a_min=0, a_max=255).astype(np.uint8)"
   ]
  },
  {
   "cell_type": "code",
   "execution_count": null,
   "metadata": {},
   "outputs": [],
   "source": [
    "plt.imshow(noisy, cmap=\"gray\")"
   ]
  },
  {
   "cell_type": "markdown",
   "metadata": {},
   "source": [
    "## Low filtering level"
   ]
  },
  {
   "cell_type": "code",
   "execution_count": null,
   "metadata": {},
   "outputs": [],
   "source": [
    "denoised = cv2.fastNlMeansDenoising(noisy, None, h=23, templateWindowSize=3, searchWindowSize=9)"
   ]
  },
  {
   "cell_type": "code",
   "execution_count": null,
   "metadata": {},
   "outputs": [],
   "source": [
    "fig, axs = plt.subplots(1, 3, figsize=(16, 32))\n",
    "axs[0].imshow(GT, cmap=\"gray\")\n",
    "axs[0].set_title(\"Original\")\n",
    "axs[1].imshow(noisy, cmap=\"gray\")\n",
    "axs[1].set_title(f\"Noisy ({information_theory.distortion.SSIM(noisy, GT):3.2f})\")\n",
    "axs[2].imshow(denoised, cmap=\"gray\")\n",
    "axs[2].set_title(f\"Denoised ({information_theory.distortion.SSIM(denoised, GT):3.2f})\")\n",
    "fig.tight_layout()\n",
    "plt.show()"
   ]
  },
  {
   "cell_type": "markdown",
   "metadata": {},
   "source": [
    "fig, axs = plt.subplots(1, 3, figsize=(32, 32))\n",
    "axs[0].imshow(noisy, cmap=\"gray\")\n",
    "axs[0].set_title(f\"Noisy {ssim(img, noisy_img)}\")\n",
    "axs[1].imshow(denoised_img_fastNlMeans, cmap=\"gray\")\n",
    "axs[1].set_title(f\"fastNlMeans {ssim(img, denoised_img_fastNlMeans)}\")\n",
    "axs[2].imshow(denoised_img, cmap=\"gray\")\n",
    "axs[2].set_title(f\"RSIID {ssim(img, denoised_img.astype(np.uint8))}\")\n",
    "fig.tight_layout()\n",
    "plt.show()"
   ]
  },
  {
   "cell_type": "markdown",
   "metadata": {},
   "source": [
    "## Medium filtering level"
   ]
  },
  {
   "cell_type": "code",
   "execution_count": null,
   "metadata": {},
   "outputs": [],
   "source": [
    "denoised = cv2.fastNlMeansDenoising(noisy, None, h=25, templateWindowSize=7, searchWindowSize=9)"
   ]
  },
  {
   "cell_type": "code",
   "execution_count": null,
   "metadata": {},
   "outputs": [],
   "source": [
    "fig, axs = plt.subplots(1, 3, figsize=(16, 32))\n",
    "axs[0].imshow(GT, cmap=\"gray\")\n",
    "axs[0].set_title(\"Original\")\n",
    "axs[1].imshow(noisy, cmap=\"gray\")\n",
    "axs[1].set_title(f\"Noisy ({information_theory.distortion.SSIM(noisy, GT):3.2f} dB)\")\n",
    "axs[2].imshow(denoised, cmap=\"gray\")\n",
    "axs[2].set_title(f\"Denoised ({information_theory.distortion.SSIM(denoised, GT):3.2f} dB)\")\n",
    "fig.tight_layout()\n",
    "plt.show()"
   ]
  },
  {
   "cell_type": "markdown",
   "metadata": {},
   "source": [
    "## High filtering level"
   ]
  },
  {
   "cell_type": "code",
   "execution_count": null,
   "metadata": {},
   "outputs": [],
   "source": [
    "denoised = cv2.fastNlMeansDenoising(noisy, None, h=33, templateWindowSize=7, searchWindowSize=9)"
   ]
  },
  {
   "cell_type": "code",
   "execution_count": null,
   "metadata": {
    "editable": true,
    "slideshow": {
     "slide_type": ""
    },
    "tags": []
   },
   "outputs": [],
   "source": [
    "fig, axs = plt.subplots(1, 3, figsize=(16, 32))\n",
    "axs[0].imshow(GT, cmap=\"gray\")\n",
    "axs[0].set_title(\"Original\")\n",
    "axs[1].imshow(noisy, cmap=\"gray\")\n",
    "axs[1].set_title(f\"Noisy ({information_theory.distortion.SSIM(noisy, GT):3.2f})\")\n",
    "axs[2].imshow(denoised, cmap=\"gray\")\n",
    "axs[2].set_title(f\"Denoised ({information_theory.distortion.SSIM(denoised, GT):3.2f})\")\n",
    "fig.tight_layout()\n",
    "plt.show()"
   ]
  },
  {
   "cell_type": "code",
   "execution_count": null,
   "metadata": {},
   "outputs": [],
   "source": [
    "denoiser = random_denoising.Monochrome_Denoiser(logger, pyramid_levels=3, window_side=5, N_poly=5)\n",
    "denoised, _ = denoiser.filter(noisy_image=noisy, RS_sigma=1.4, GT=GT, N_iters=6)"
   ]
  },
  {
   "cell_type": "code",
   "execution_count": null,
   "metadata": {},
   "outputs": [],
   "source": [
    "fig, axs = plt.subplots(1, 3, figsize=(16, 32))\n",
    "axs[0].imshow(GT, cmap=\"gray\")\n",
    "axs[0].set_title(\"Original\")\n",
    "axs[1].imshow(noisy, cmap=\"gray\")\n",
    "axs[1].set_title(f\"Noisy ({information_theory.distortion.SSIM(noisy, GT):3.2f})\")\n",
    "axs[2].imshow(denoised, cmap=\"gray\")\n",
    "axs[2].set_title(f\"Denoised ({information_theory.distortion.SSIM(denoised, GT):3.2f})\")\n",
    "fig.tight_layout()\n",
    "plt.show()"
   ]
  },
  {
   "cell_type": "code",
   "execution_count": null,
   "metadata": {},
   "outputs": [],
   "source": [
    "input()"
   ]
  },
  {
   "cell_type": "markdown",
   "metadata": {},
   "source": [
    "## [Measurement of the denoising](http://faculty.ucmerced.edu/mhyang/papers/iccv13_denoise.pdf)"
   ]
  },
  {
   "cell_type": "code",
   "execution_count": null,
   "metadata": {},
   "outputs": [],
   "source": [
    "def get_denoising_quality(img, denoised_img):\n",
    "    diff_img = (img - denoised_img).astype(np.uint8)\n",
    "    _, N = ssim(img, diff_img, full=True)\n",
    "    #print(_)\n",
    "    _, P = ssim(img, denoised_img.astype(np.uint8), full=True)\n",
    "    #print(_)\n",
    "    quality, _ = stats.pearsonr(N.flatten(), P.flatten())\n",
    "    #print(\"quality\", quality)\n",
    "    if math.isnan(quality):\n",
    "        return 0.0\n",
    "    else:\n",
    "        return -quality"
   ]
  },
  {
   "cell_type": "markdown",
   "metadata": {},
   "source": [
    "## Optimization of the parameters of cv2.fastNlMeansDenoising()"
   ]
  },
  {
   "cell_type": "code",
   "execution_count": null,
   "metadata": {},
   "outputs": [],
   "source": [
    "plt.imshow(cv2.fastNlMeansDenoising(img, None, h=14, templateWindowSize=7, searchWindowSize=21), cmap=\"gray\")"
   ]
  },
  {
   "cell_type": "code",
   "execution_count": null,
   "metadata": {},
   "outputs": [],
   "source": [
    "# Optimizing h\n",
    "prev_quality = -1\n",
    "for i in range(15, 30):\n",
    "    #denoised_img = cv2.fastNlMeansDenoising(img, None, 11, 6, 7, 21)\n",
    "    denoised_img = cv2.fastNlMeansDenoising(noisy_img, None, h=i, templateWindowSize=7, searchWindowSize=21)\n",
    "    quality = get_denoising_quality(noisy_img, denoised_img)\n",
    "    if prev_quality > quality:\n",
    "        optimal_h = i - 1\n",
    "        break\n",
    "    plt.imshow(denoised_img, cmap=\"gray\")\n",
    "    plt.title(f\"{i} {quality}\")\n",
    "    plt.show()\n",
    "    prev_quality = quality\n",
    "\n",
    "print(\"optimal h\", optimal_h)"
   ]
  },
  {
   "cell_type": "code",
   "execution_count": null,
   "metadata": {},
   "outputs": [],
   "source": [
    "# Optimizing templateWindowSize\n",
    "prev_quality = -1\n",
    "for i in range(2, 22):\n",
    "    #denoised_img = cv2.fastNlMeansDenoising(img, None, 11, 6, 7, 21)\n",
    "    denoised_img = cv2.fastNlMeansDenoising(noisy_img, None, h=23, templateWindowSize=i, searchWindowSize=21)\n",
    "    quality = get_denoising_quality(noisy_img, denoised_img)\n",
    "    if prev_quality > quality:\n",
    "        optimal_templateWindowSize = i - 1\n",
    "        break\n",
    "    plt.imshow(denoised_img, cmap=\"gray\")\n",
    "    plt.title(f\"{i} {quality}\")\n",
    "    plt.show()\n",
    "    prev_quality = quality\n",
    "\n",
    "print(\"optimal templateWindowSize\", optimal_templateWindowSize)"
   ]
  },
  {
   "cell_type": "code",
   "execution_count": null,
   "metadata": {
    "scrolled": true
   },
   "outputs": [],
   "source": [
    "# Optimizing searchWindowSize\n",
    "prev_quality = -1\n",
    "for i in range(3, 33):\n",
    "    #denoised_img = cv2.fastNlMeansDenoising(img, None, 11, 6, 7, 21)\n",
    "    denoised_img = cv2.fastNlMeansDenoising(noisy_img, None, h=23, templateWindowSize=3, searchWindowSize=i)\n",
    "    quality = get_denoising_quality(noisy_img, denoised_img)\n",
    "    if prev_quality > quality:\n",
    "        optimal_searchWindowSize = i - 1\n",
    "        break\n",
    "    plt.imshow(denoised_img, cmap=\"gray\")\n",
    "    plt.title(f\"{i} {quality}\")\n",
    "    plt.show()\n",
    "    prev_quality = quality\n",
    "\n",
    "print(\"optimal searchWindowSize\", optimal_searchWindowSize)"
   ]
  },
  {
   "cell_type": "markdown",
   "metadata": {},
   "source": [
    "## Optimization of the parameters of RSIID"
   ]
  },
  {
   "cell_type": "code",
   "execution_count": null,
   "metadata": {},
   "outputs": [],
   "source": [
    "# Optimizing RS_sigma\n",
    "prev_quality = -1\n",
    "for i in range(7, 30):\n",
    "    _i = i/10\n",
    "    denoiser = random_denoising.Filter_Monochrome_Image(l=3, w=7, poly_sigma=1.0, verbosity=logging.WARNING)\n",
    "    denoised_img, _ = denoiser.filter(noisy_image=noisy_img, RS_sigma=_i, GT=img, N_iters=20)\n",
    "    quality = get_denoising_quality(noisy_img, denoised_img)\n",
    "    if prev_quality > quality:\n",
    "        optimal_RS_sigma = _i - 0.1\n",
    "        break\n",
    "    plt.imshow(denoised_img, cmap=\"gray\")\n",
    "    plt.title(f\"{_i} {quality}\")\n",
    "    plt.show()\n",
    "    prev_quality = quality\n",
    "\n",
    "print(\"optimal RS_sigma\", optimal_RS_sigma)"
   ]
  },
  {
   "cell_type": "code",
   "execution_count": null,
   "metadata": {},
   "outputs": [],
   "source": [
    "# Optimizing poly_sigma\n",
    "prev_quality = -1\n",
    "for i in range(5, 30):\n",
    "    _i = i/10\n",
    "    denoiser = random_denoising.Filter_Monochrome_Image(l=3, w=5, poly_sigma=_i, verbosity=logging.WARNING)\n",
    "    denoised_img, _ = denoiser.filter(noisy_image=noisy_img, RS_sigma=1.4, GT=img, N_iters=20)\n",
    "    quality = get_denoising_quality(noisy_img, denoised_img)\n",
    "    if prev_quality > quality:\n",
    "        optimal_poly_sigma = _i - 0.1\n",
    "        break\n",
    "    plt.imshow(denoised_img, cmap=\"gray\")\n",
    "    plt.title(f\"{_i} {quality}\")\n",
    "    plt.show()\n",
    "    prev_quality = quality\n",
    "\n",
    "print(\"optimal poly_sigma\", optimal_poly_sigma)"
   ]
  },
  {
   "cell_type": "code",
   "execution_count": null,
   "metadata": {},
   "outputs": [],
   "source": [
    "# Optimizing w\n",
    "prev_quality = -1\n",
    "for i in range(3, 30):\n",
    "    denoiser = random_denoising.Filter_Monochrome_Image(l=3, w=i, poly_sigma=1.0, verbosity=logging.WARNING)\n",
    "    denoised_img, _ = denoiser.filter(noisy_image=noisy_img, RS_sigma=1.4, GT=img, N_iters=20)\n",
    "    quality = get_denoising_quality(noisy_img, denoised_img)\n",
    "    if prev_quality > quality:\n",
    "        optimal_w = i - 1\n",
    "        break\n",
    "    plt.imshow(denoised_img, cmap=\"gray\")\n",
    "    plt.title(f\"{i} {quality}\")\n",
    "    plt.show()\n",
    "    prev_quality = quality\n",
    "\n",
    "print(\"optimal w\", optimal_w)"
   ]
  },
  {
   "cell_type": "code",
   "execution_count": null,
   "metadata": {},
   "outputs": [],
   "source": [
    "# Optimizing N_iters\n",
    "prev_quality = -1\n",
    "for i in range(3, 30):\n",
    "    denoiser = random_denoising.Filter_Monochrome_Image(l=3, w=5, poly_sigma=1.0, verbosity=logging.WARNING)\n",
    "    denoised_img, _ = denoiser.filter(noisy_image=noisy_img, RS_sigma=1.4, GT=img, N_iters=i)\n",
    "    quality = get_denoising_quality(noisy_img, denoised_img)\n",
    "    if prev_quality > quality:\n",
    "        optimal_N_iters = i - 1\n",
    "        break\n",
    "    plt.imshow(denoised_img, cmap=\"gray\")\n",
    "    plt.title(f\"{i} {quality}\")\n",
    "    plt.show()\n",
    "    prev_quality = quality\n",
    "\n",
    "print(\"optimal N_iters\", optimal_N_iters)"
   ]
  },
  {
   "cell_type": "markdown",
   "metadata": {
    "editable": true,
    "slideshow": {
     "slide_type": ""
    },
    "tags": []
   },
   "source": [
    "## Comparison using the optimal configurations"
   ]
  },
  {
   "cell_type": "code",
   "execution_count": null,
   "metadata": {},
   "outputs": [],
   "source": [
    "denoised_img_fastNlMeans = cv2.fastNlMeansDenoising(noisy_img, None, h=23, templateWindowSize=3, searchWindowSize=9)"
   ]
  },
  {
   "cell_type": "code",
   "execution_count": null,
   "metadata": {},
   "outputs": [],
   "source": [
    "denoiser = random_denoising.Filter_Monochrome_Image(l=3, w=5, poly_sigma=1.0, verbosity=logging.WARNING)\n",
    "denoised_img, _ = denoiser.filter(noisy_image=noisy_img, RS_sigma=1.4, GT=img, N_iters=6)"
   ]
  },
  {
   "cell_type": "code",
   "execution_count": null,
   "metadata": {
    "editable": true,
    "jupyter": {
     "source_hidden": true
    },
    "slideshow": {
     "slide_type": ""
    },
    "tags": []
   },
   "outputs": [],
   "source": [
    "fig, axs = plt.subplots(1, 3, figsize=(32, 32))\n",
    "axs[0].imshow(noisy_img, cmap=\"gray\")\n",
    "axs[0].set_title(f\"Noisy {ssim(img, noisy_img)}\")\n",
    "axs[1].imshow(denoised_img_fastNlMeans, cmap=\"gray\")\n",
    "axs[1].set_title(f\"fastNlMeans {ssim(img, denoised_img_fastNlMeans)}\")\n",
    "axs[2].imshow(denoised_img, cmap=\"gray\")\n",
    "axs[2].set_title(f\"RSIID {ssim(img, denoised_img.astype(np.uint8))}\")\n",
    "fig.tight_layout()\n",
    "plt.show()"
   ]
  },
  {
   "cell_type": "code",
   "execution_count": null,
   "metadata": {},
   "outputs": [],
   "source": []
  }
 ],
 "metadata": {
  "colab": {
   "collapsed_sections": [],
   "name": "gaussian_denoising.ipynb",
   "provenance": []
  },
  "kernelspec": {
   "display_name": "Python 3 (ipykernel)",
   "language": "python",
   "name": "python3"
  },
  "language_info": {
   "codemirror_mode": {
    "name": "ipython",
    "version": 3
   },
   "file_extension": ".py",
   "mimetype": "text/x-python",
   "name": "python",
   "nbconvert_exporter": "python",
   "pygments_lexer": "ipython3",
   "version": "3.10.10"
  }
 },
 "nbformat": 4,
 "nbformat_minor": 4
}
