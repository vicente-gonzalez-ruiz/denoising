{
 "cells": [
  {
   "cell_type": "markdown",
   "metadata": {
    "editable": true,
    "id": "QqfKxC0KuCzK",
    "slideshow": {
     "slide_type": ""
    },
    "tags": []
   },
   "source": [
    "# Iterative random shuffling image denoising VS [cv2.fastNlMeansDenoising()](https://docs.opencv.org/3.4/d5/d69/tutorial_py_non_local_means.html) (lena)"
   ]
  },
  {
   "cell_type": "markdown",
   "metadata": {},
   "source": [
    "## Imports"
   ]
  },
  {
   "cell_type": "code",
   "execution_count": null,
   "metadata": {
    "id": "IIUxh4uStrQJ"
   },
   "outputs": [],
   "source": [
    "import numpy as np\n",
    "import scipy.ndimage\n",
    "import matplotlib.pyplot as plt\n",
    "#from ipywidgets import *\n",
    "import cv2\n",
    "import time\n",
    "#import kernels\n",
    "from skimage import io as skimage_io\n",
    "from skimage.metrics import structural_similarity as ssim\n",
    "from scipy import stats\n",
    "import math\n",
    "from color_transforms import YCoCg as YUV #pip install \"color_transforms @ git+https://github.com/vicente-gonzalez-ruiz/color_transforms\""
   ]
  },
  {
   "cell_type": "code",
   "execution_count": null,
   "metadata": {},
   "outputs": [],
   "source": [
    "import denoising.image.OF_iterative_random_shuffling as random_denoising"
   ]
  },
  {
   "cell_type": "code",
   "execution_count": null,
   "metadata": {
    "editable": true,
    "slideshow": {
     "slide_type": ""
    },
    "tags": []
   },
   "outputs": [],
   "source": [
    "import logging"
   ]
  },
  {
   "cell_type": "markdown",
   "metadata": {},
   "source": [
    "## Input image"
   ]
  },
  {
   "cell_type": "code",
   "execution_count": null,
   "metadata": {
    "editable": true,
    "slideshow": {
     "slide_type": ""
    },
    "tags": []
   },
   "outputs": [],
   "source": [
    "img = skimage_io.imread(\"http://www.hpca.ual.es/~vruiz/images/lena.png\")"
   ]
  },
  {
   "cell_type": "code",
   "execution_count": null,
   "metadata": {
    "editable": true,
    "slideshow": {
     "slide_type": ""
    },
    "tags": []
   },
   "outputs": [],
   "source": [
    "plt.imshow(img)"
   ]
  },
  {
   "cell_type": "markdown",
   "metadata": {},
   "source": [
    "## Add noise"
   ]
  },
  {
   "cell_type": "code",
   "execution_count": null,
   "metadata": {},
   "outputs": [],
   "source": [
    "mean = 0\n",
    "var = 1000\n",
    "sigma = var**0.5\n",
    "noise = np.random.normal(mean,sigma,img.shape).reshape(img.shape)\n",
    "noisy_img = np.clip(a=img.astype(np.float32) + noise, a_min=0, a_max=255).astype(np.uint8)"
   ]
  },
  {
   "cell_type": "code",
   "execution_count": null,
   "metadata": {},
   "outputs": [],
   "source": [
    "plt.imshow(noisy_img)"
   ]
  },
  {
   "cell_type": "markdown",
   "metadata": {
    "editable": true,
    "slideshow": {
     "slide_type": ""
    },
    "tags": []
   },
   "source": [
    "## Low filtering level"
   ]
  },
  {
   "cell_type": "code",
   "execution_count": null,
   "metadata": {
    "editable": true,
    "slideshow": {
     "slide_type": ""
    },
    "tags": []
   },
   "outputs": [],
   "source": [
    "denoised_img_fastNlMeans = cv2.fastNlMeansDenoisingColored(src=noisy_img, dst=None, h=11, hColor=6, templateWindowSize=7, searchWindowSize=21)"
   ]
  },
  {
   "cell_type": "code",
   "execution_count": null,
   "metadata": {},
   "outputs": [],
   "source": [
    "denoiser = random_denoising.Filter_Color_Image(l=3, w=11, poly_sigma=0.75, verbosity=logging.WARNING)\n",
    "denoised_img, _ = denoiser.filter(noisy_image=noisy_img, RS_sigma=1.0, GT=img, N_iters=25)\n",
    "denoised_img = denoised_img.astype(np.uint8)"
   ]
  },
  {
   "cell_type": "code",
   "execution_count": null,
   "metadata": {},
   "outputs": [],
   "source": [
    "fig, axs = plt.subplots(1, 3, figsize=(16, 32))\n",
    "axs[0].imshow(noisy_img)\n",
    "axs[0].set_title(f\"Noisy {ssim(YUV.from_RGB(img)[..., 0], YUV.from_RGB(noisy_img)[..., 0])}\")\n",
    "axs[1].imshow(denoised_img_fastNlMeans)\n",
    "axs[1].set_title(f\"fastNlMeans {ssim(YUV.from_RGB(img)[..., 0], YUV.from_RGB(denoised_img_fastNlMeans)[..., 0])}\")\n",
    "axs[2].imshow(denoised_img)\n",
    "axs[2].set_title(f\"RSIID {ssim(YUV.from_RGB(img)[..., 0], YUV.from_RGB(denoised_img)[..., 0])}\")\n",
    "fig.tight_layout()\n",
    "plt.show()"
   ]
  },
  {
   "cell_type": "markdown",
   "metadata": {},
   "source": [
    "## Medium filtering level"
   ]
  },
  {
   "cell_type": "code",
   "execution_count": null,
   "metadata": {},
   "outputs": [],
   "source": [
    "denoised_img_fastNlMeans = cv2.fastNlMeansDenoisingColored(src=noisy_img, dst=None, h=17, hColor=17, templateWindowSize=7, searchWindowSize=21)"
   ]
  },
  {
   "cell_type": "code",
   "execution_count": null,
   "metadata": {},
   "outputs": [],
   "source": [
    "denoiser = random_denoising.Filter_Color_Image(l=3, w=9, poly_sigma=1.0, verbosity=logging.WARNING)\n",
    "denoised_img, _ = denoiser.filter(noisy_image=noisy_img, RS_sigma=1.0, GT=img, N_iters=25)\n",
    "denoised_img = denoised_img.astype(np.uint8)"
   ]
  },
  {
   "cell_type": "code",
   "execution_count": null,
   "metadata": {},
   "outputs": [],
   "source": [
    "fig, axs = plt.subplots(1, 3, figsize=(16, 32))\n",
    "axs[0].imshow(noisy_img)\n",
    "axs[0].set_title(f\"Noisy {ssim(YUV.from_RGB(img)[..., 0], YUV.from_RGB(noisy_img)[..., 0])}\")\n",
    "axs[1].imshow(denoised_img_fastNlMeans)\n",
    "axs[1].set_title(f\"fastNlMeans {ssim(YUV.from_RGB(img)[..., 0], YUV.from_RGB(denoised_img_fastNlMeans)[..., 0])}\")\n",
    "axs[2].imshow(denoised_img)\n",
    "axs[2].set_title(f\"RSIID {ssim(YUV.from_RGB(img)[..., 0], YUV.from_RGB(denoised_img)[..., 0])}\")\n",
    "fig.tight_layout()\n",
    "plt.show()"
   ]
  },
  {
   "cell_type": "markdown",
   "metadata": {},
   "source": [
    "## High filtering level"
   ]
  },
  {
   "cell_type": "code",
   "execution_count": null,
   "metadata": {},
   "outputs": [],
   "source": [
    "denoised_img_fastNlMeans = cv2.fastNlMeansDenoisingColored(src=noisy_img, dst=None, h=25, hColor=25, templateWindowSize=7, searchWindowSize=21)"
   ]
  },
  {
   "cell_type": "code",
   "execution_count": null,
   "metadata": {},
   "outputs": [],
   "source": [
    "denoiser = random_denoising.Filter_Color_Image(l=3, w=7, poly_sigma=1.25, verbosity=logging.WARNING)\n",
    "denoised_img, _ = denoiser.filter(noisy_image=noisy_img, RS_sigma=1.0, GT=img, N_iters=25)\n",
    "denoised_img = denoised_img.astype(np.uint8)"
   ]
  },
  {
   "cell_type": "code",
   "execution_count": null,
   "metadata": {},
   "outputs": [],
   "source": [
    "fig, axs = plt.subplots(1, 3, figsize=(16, 32))\n",
    "axs[0].imshow(noisy_img)\n",
    "axs[0].set_title(f\"Noisy {ssim(YUV.from_RGB(img)[..., 0], YUV.from_RGB(noisy_img)[..., 0])}\")\n",
    "axs[1].imshow(denoised_img_fastNlMeans)\n",
    "axs[1].set_title(f\"fastNlMeans {ssim(YUV.from_RGB(img)[..., 0], YUV.from_RGB(denoised_img_fastNlMeans)[..., 0])}\")\n",
    "axs[2].imshow(denoised_img)\n",
    "axs[2].set_title(f\"RSIID {ssim(YUV.from_RGB(img)[..., 0], YUV.from_RGB(denoised_img)[..., 0])}\")\n",
    "fig.tight_layout()\n",
    "plt.show()"
   ]
  },
  {
   "cell_type": "markdown",
   "metadata": {},
   "source": [
    "## [Measurement of the denoising](http://faculty.ucmerced.edu/mhyang/papers/iccv13_denoise.pdf)"
   ]
  },
  {
   "cell_type": "code",
   "execution_count": null,
   "metadata": {},
   "outputs": [],
   "source": [
    "def get_denoising_quality(img, denoised_img):\n",
    "    img = YUV.from_RGB(img)[..., 0]\n",
    "    denoised_img = YUV.from_RGB(denoised_img)[..., 0]\n",
    "    diff_img = (img - denoised_img).astype(np.uint8)\n",
    "    _, N = ssim(img, diff_img, full=True)\n",
    "    #print(_)\n",
    "    _, P = ssim(img, denoised_img.astype(np.uint8), full=True)\n",
    "    #print(_)\n",
    "    quality, _ = stats.pearsonr(N.flatten(), P.flatten())\n",
    "    #print(\"quality\", quality)\n",
    "    if math.isnan(quality):\n",
    "        return 0.0\n",
    "    else:\n",
    "        return -quality"
   ]
  },
  {
   "cell_type": "markdown",
   "metadata": {},
   "source": [
    "## Optimization of the parameters of cv2.fastNlMeansDenoising()"
   ]
  },
  {
   "cell_type": "code",
   "execution_count": null,
   "metadata": {},
   "outputs": [],
   "source": [
    "# Optimizing h\n",
    "prev_quality = -1\n",
    "for i in range(3, 20):\n",
    "    #denoised_img = cv2.fastNlMeansDenoising(img, None, 11, 6, 7, 21)\n",
    "    denoised_img = cv2.fastNlMeansDenoisingColored(src=noisy_img, dst=None, h=i, hColor=i, templateWindowSize=7, searchWindowSize=21)\n",
    "    quality = get_denoising_quality(noisy_img, denoised_img)\n",
    "    if prev_quality > quality:\n",
    "        optimal_h = i - 1\n",
    "        break\n",
    "    plt.imshow(denoised_img)\n",
    "    plt.title(f\"{i} {quality}\")\n",
    "    plt.show()\n",
    "    prev_quality = quality\n",
    "\n",
    "print(\"optimal h\", optimal_h)"
   ]
  },
  {
   "cell_type": "code",
   "execution_count": null,
   "metadata": {},
   "outputs": [],
   "source": [
    "# Optimizing templateWindowSize\n",
    "prev_quality = -1\n",
    "for i in range(2, 22):\n",
    "    #denoised_img = cv2.fastNlMeansDenoising(img, None, 11, 6, 7, 21)\n",
    "    denoised_img = cv2.fastNlMeansDenoisingColored(src=noisy_img, dst=None, h=5, hColor=5, templateWindowSize=i, searchWindowSize=21)\n",
    "    quality = get_denoising_quality(noisy_img, denoised_img)\n",
    "    if prev_quality > quality:\n",
    "        optimal_templateWindowSize = i - 1\n",
    "        break\n",
    "    plt.imshow(denoised_img)\n",
    "    plt.title(f\"{i} {quality}\")\n",
    "    plt.show()\n",
    "    prev_quality = quality\n",
    "\n",
    "print(\"optimal templateWindowSize\", optimal_templateWindowSize)"
   ]
  },
  {
   "cell_type": "code",
   "execution_count": null,
   "metadata": {},
   "outputs": [],
   "source": [
    "# Optimizing searchWindowSize\n",
    "prev_quality = -1\n",
    "for i in range(3, 33):\n",
    "    denoised_img = cv2.fastNlMeansDenoisingColored(src=noisy_img, dst=None, h=5, hColor=5, templateWindowSize=13, searchWindowSize=i)\n",
    "    quality = get_denoising_quality(noisy_img, denoised_img)\n",
    "    if prev_quality > quality:\n",
    "        optimal_searchWindowSize = i - 1\n",
    "        break\n",
    "    plt.imshow(denoised_img)\n",
    "    plt.title(f\"{i} {quality}\")\n",
    "    plt.show()\n",
    "    prev_quality = quality\n",
    "\n",
    "print(\"optimal searchWindowSize\", optimal_searchWindowSize)"
   ]
  },
  {
   "cell_type": "markdown",
   "metadata": {},
   "source": [
    "## Optimization of the parameters of RSIID"
   ]
  },
  {
   "cell_type": "code",
   "execution_count": null,
   "metadata": {},
   "outputs": [],
   "source": [
    "# Optimizing RS_sigma\n",
    "prev_quality = -1\n",
    "for i in range(7, 30):\n",
    "    _i = i/10\n",
    "    denoiser = random_denoising.Filter_Color_Image(l=3, w=7, poly_sigma=1.0, verbosity=logging.WARNING)\n",
    "    denoised_img, _ = denoiser.filter(noisy_image=noisy_img, RS_sigma=_i, GT=img, N_iters=20)\n",
    "    denoised_img = denoised_img.astype(np.uint8)\n",
    "    quality = get_denoising_quality(noisy_img, denoised_img)\n",
    "    if prev_quality > quality:\n",
    "        optimal_RS_sigma = _i - 0.1\n",
    "        break\n",
    "    plt.imshow(denoised_img)\n",
    "    plt.title(f\"{_i} {quality}\")\n",
    "    plt.show()\n",
    "    prev_quality = quality\n",
    "\n",
    "print(\"optimal RS_sigma\", optimal_RS_sigma)"
   ]
  },
  {
   "cell_type": "code",
   "execution_count": null,
   "metadata": {},
   "outputs": [],
   "source": [
    "# Optimizing poly_sigma\n",
    "prev_quality = -1\n",
    "for i in range(5, 30):\n",
    "    _i = i/10\n",
    "    denoiser = random_denoising.Filter_Color_Image(l=3, w=5, poly_sigma=_i, verbosity=logging.WARNING)\n",
    "    denoised_img, _ = denoiser.filter(noisy_image=noisy_img, RS_sigma=1.6, GT=img, N_iters=20)\n",
    "    denoised_img = denoised_img.astype(np.uint8)\n",
    "    quality = get_denoising_quality(noisy_img, denoised_img)\n",
    "    if prev_quality > quality:\n",
    "        optimal_poly_sigma = _i - 0.1\n",
    "        break\n",
    "    plt.imshow(denoised_img)\n",
    "    plt.title(f\"{_i} {quality}\")\n",
    "    plt.show()\n",
    "    prev_quality = quality\n",
    "\n",
    "print(\"optimal poly_sigma\", optimal_poly_sigma)"
   ]
  },
  {
   "cell_type": "code",
   "execution_count": null,
   "metadata": {},
   "outputs": [],
   "source": [
    "# Optimizing w\n",
    "prev_quality = -1\n",
    "for i in range(4, 30):\n",
    "    denoiser = random_denoising.Filter_Color_Image(l=3, w=i, poly_sigma=0.6, verbosity=logging.WARNING)\n",
    "    denoised_img, _ = denoiser.filter(noisy_image=noisy_img, RS_sigma=1.6, GT=img, N_iters=20)\n",
    "    denoised_img = denoised_img.astype(np.uint8)\n",
    "    quality = get_denoising_quality(noisy_img, denoised_img)\n",
    "    if prev_quality > quality:\n",
    "        optimal_w = i - 1\n",
    "        break\n",
    "    plt.imshow(denoised_img)\n",
    "    plt.title(f\"{i} {quality}\")\n",
    "    plt.show()\n",
    "    prev_quality = quality\n",
    "\n",
    "print(\"optimal w\", optimal_w)"
   ]
  },
  {
   "cell_type": "code",
   "execution_count": null,
   "metadata": {},
   "outputs": [],
   "source": [
    "# Optimizing N_iters\n",
    "prev_quality = -1\n",
    "for i in range(3, 30):\n",
    "    denoiser = random_denoising.Filter_Color_Image(l=3, w=5, poly_sigma=0.6, verbosity=logging.WARNING)\n",
    "    denoised_img, _ = denoiser.filter(noisy_image=noisy_img, RS_sigma=1.6, GT=img, N_iters=i)\n",
    "    denoised_img = denoised_img.astype(np.uint8)\n",
    "    quality = get_denoising_quality(noisy_img, denoised_img)\n",
    "    if prev_quality > quality:\n",
    "        optimal_N_iters = i - 1\n",
    "        break\n",
    "    plt.imshow(denoised_img)\n",
    "    plt.title(f\"{i} {quality}\")\n",
    "    plt.show()\n",
    "    prev_quality = quality\n",
    "\n",
    "print(\"optimal N_iters\", optimal_N_iters)"
   ]
  },
  {
   "cell_type": "markdown",
   "metadata": {},
   "source": [
    "## Comparison using the optimal configurations"
   ]
  },
  {
   "cell_type": "code",
   "execution_count": null,
   "metadata": {},
   "outputs": [],
   "source": [
    "denoised_img_fastNlMeans = cv2.fastNlMeansDenoisingColored(src=noisy_img, dst=None, h=5, hColor=5, templateWindowSize=13, searchWindowSize=31)"
   ]
  },
  {
   "cell_type": "code",
   "execution_count": null,
   "metadata": {},
   "outputs": [],
   "source": [
    "denoiser = random_denoising.Filter_Color_Image(l=3, w=5, poly_sigma=0.6, verbosity=logging.WARNING)\n",
    "denoised_img, _ = denoiser.filter(noisy_image=noisy_img, RS_sigma=1.6, GT=img, N_iters=8)\n",
    "denoised_img = denoised_img.astype(np.uint8)"
   ]
  },
  {
   "cell_type": "code",
   "execution_count": null,
   "metadata": {},
   "outputs": [],
   "source": [
    "fig, axs = plt.subplots(1, 3, figsize=(16, 32))\n",
    "axs[0].imshow(noisy_img)\n",
    "axs[0].set_title(f\"Noisy {ssim(YUV.from_RGB(img)[..., 0], YUV.from_RGB(noisy_img)[..., 0])}\")\n",
    "axs[1].imshow(denoised_img_fastNlMeans)\n",
    "axs[1].set_title(f\"fastNlMeans {ssim(YUV.from_RGB(img)[..., 0], YUV.from_RGB(denoised_img_fastNlMeans)[..., 0])}\")\n",
    "axs[2].imshow(denoised_img)\n",
    "axs[2].set_title(f\"RSIID {ssim(YUV.from_RGB(img)[..., 0], YUV.from_RGB(denoised_img)[..., 0])}\")\n",
    "fig.tight_layout()\n",
    "plt.show()"
   ]
  }
 ],
 "metadata": {
  "colab": {
   "collapsed_sections": [],
   "name": "gaussian_denoising.ipynb",
   "provenance": []
  },
  "kernelspec": {
   "display_name": "Python 3 (ipykernel)",
   "language": "python",
   "name": "python3"
  },
  "language_info": {
   "codemirror_mode": {
    "name": "ipython",
    "version": 3
   },
   "file_extension": ".py",
   "mimetype": "text/x-python",
   "name": "python",
   "nbconvert_exporter": "python",
   "pygments_lexer": "ipython3",
   "version": "3.10.12"
  }
 },
 "nbformat": 4,
 "nbformat_minor": 4
}
