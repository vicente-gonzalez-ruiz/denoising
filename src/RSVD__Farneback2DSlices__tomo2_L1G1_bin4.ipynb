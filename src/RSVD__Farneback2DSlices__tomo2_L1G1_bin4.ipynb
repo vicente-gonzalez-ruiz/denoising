{
 "cells": [
  {
   "cell_type": "markdown",
   "id": "24a2b9b0-569f-4f0a-a83c-7ab9c893b3a4",
   "metadata": {},
   "source": [
    "# Optical Flow Random Shaking Volume Denoising by Slices using Farneback2d (tomo2_L1G1_bin4)"
   ]
  },
  {
   "cell_type": "code",
   "execution_count": null,
   "id": "f76ce7eb-2add-4885-a483-59c29743cfff",
   "metadata": {},
   "outputs": [],
   "source": [
    "local_debug = True"
   ]
  },
  {
   "cell_type": "code",
   "execution_count": null,
   "id": "7be42efa-1e36-4eb8-8d10-5d5f7e7e47d3",
   "metadata": {},
   "outputs": [],
   "source": [
    "try:\n",
    "    import google.colab\n",
    "    IN_COLAB = True\n",
    "except:\n",
    "    IN_COLAB = False\n",
    "\n",
    "if IN_COLAB:\n",
    "    print(\"Running in Colab\")\n",
    "    !pip install cupy-cuda12x\n",
    "    !pip install opticalflow3D\n",
    "    !apt install libcudart11.0\n",
    "    !apt install libcublas11\n",
    "    !apt install libcufft10\n",
    "    !apt install libcusparse11\n",
    "    !apt install libnvrtc11.2\n",
    "    from google.colab import drive\n",
    "    drive.mount('/content/drive')\n",
    "    !cp drive/Shareddrives/TomogramDenoising/tomograms/{vol_name}.tif .\n",
    "else:\n",
    "    print(\"Running in locahost\")\n",
    "    !cp ~/Downloads/{vol_name}.tif ."
   ]
  },
  {
   "cell_type": "code",
   "execution_count": null,
   "id": "2a9f2718-d2d2-4d2b-bf30-bfa5388c65e2",
   "metadata": {},
   "outputs": [],
   "source": [
    "%matplotlib inline\n",
    "import matplotlib.pyplot as plt\n",
    "from matplotlib.pyplot import figure"
   ]
  },
  {
   "cell_type": "code",
   "execution_count": null,
   "id": "dc83b56c-5306-4d93-b2d0-f1878ee2a087",
   "metadata": {},
   "outputs": [],
   "source": [
    "from denoising.volume.OFRSVD import Random_Shaking_Denoising_by_Slices # pip install denoising \" @ git+https://github.com/vicente-gonzalez-ruiz/denoising\""
   ]
  },
  {
   "cell_type": "code",
   "execution_count": null,
   "id": "01440732-ffbe-474e-b3f9-82d3023af5bb",
   "metadata": {},
   "outputs": [],
   "source": [
    "if local_debug:\n",
    "    !ln -sf ../../information_theory/src/information_theory/ .\n",
    "else:\n",
    "    !pip install \"information_theory @ git+https://github.com/vicente-gonzalez-ruiz/information_theory\"\n",
    "import information_theory  # pip install \"information_theory @ git+https://github.com/vicente-gonzalez-ruiz/information_theory\""
   ]
  },
  {
   "cell_type": "code",
   "execution_count": null,
   "id": "e63762aa-acc9-4e7c-a855-92fe59fb2900",
   "metadata": {},
   "outputs": [],
   "source": [
    "import skimage.io"
   ]
  },
  {
   "cell_type": "code",
   "execution_count": null,
   "id": "f42f9a05-5afd-47f4-854f-e25b9b3391b8",
   "metadata": {},
   "outputs": [],
   "source": [
    "import numpy as np"
   ]
  },
  {
   "cell_type": "code",
   "execution_count": null,
   "id": "b0a1f107-f547-4908-90bd-b41e95f29522",
   "metadata": {},
   "outputs": [],
   "source": [
    "import logging\n",
    "#logging.basicConfig(format=\"[%(filename)s:%(lineno)s %(funcName)s()] %(message)s\")"
   ]
  },
  {
   "cell_type": "code",
   "execution_count": null,
   "id": "4834c100-f071-45d4-8d2a-481d7be08066",
   "metadata": {},
   "outputs": [],
   "source": [
    "from collections import namedtuple\n",
    "Args = namedtuple(\"args\", [\"input\", \"output\"])\n",
    "args = Args(\"/home/vruiz/cryoCARE/tomo2_L1G1_bin4.rec\", \"denoised\")"
   ]
  },
  {
   "cell_type": "code",
   "execution_count": null,
   "id": "6b240e43-db9a-4f2b-b413-30e10ce81b74",
   "metadata": {},
   "outputs": [],
   "source": [
    "import mrcfile\n",
    "stack_MRC = mrcfile.open(args.input)\n",
    "noisy = stack_MRC.data"
   ]
  },
  {
   "cell_type": "markdown",
   "id": "bd839872-5f56-4911-abdb-f35adda013b3",
   "metadata": {},
   "source": [
    "%%bash -s \"$args.input\"\n",
    "set -x\n",
    "OUTPUT_FILENAME=$1\n",
    "#rm -f $OUTPUT_FILENAME\n",
    "if test ! -f $OUTPUT_FILENAME ; then\n",
    "    FILEID=\"1I2uIfM00ZNeMjYy4OeZ4hSO-bxpE3oZb\"\n",
    "    gdown https://drive.google.com/uc?id=$FILEID\n",
    "fi\n",
    "set +x\n",
    "# https://drive.google.com/file/d/1I2uIfM00ZNeMjYy4OeZ4hSO-bxpE3oZb/view?usp=sharing"
   ]
  },
  {
   "cell_type": "markdown",
   "id": "305edbd0-490a-409a-9f4c-687d295c64e6",
   "metadata": {
    "id": "I6Fx1j23clAd"
   },
   "source": [
    "noisy = opticalflow3D.helpers.load_image(args.input)"
   ]
  },
  {
   "cell_type": "code",
   "execution_count": null,
   "id": "2f646e91-6da3-4d20-8e50-7890de42135b",
   "metadata": {},
   "outputs": [],
   "source": [
    "np.min(noisy)"
   ]
  },
  {
   "cell_type": "code",
   "execution_count": null,
   "id": "f9a2cb8a-cda2-49d0-beea-00380f4f8c69",
   "metadata": {},
   "outputs": [],
   "source": [
    "np.max(noisy)"
   ]
  },
  {
   "cell_type": "code",
   "execution_count": null,
   "id": "b50e60f7-cb24-49d1-9a59-fd64ba4f4e06",
   "metadata": {},
   "outputs": [],
   "source": [
    "#noisy = (255*(noisy.astype(np.float32) - np.min(noisy))/(np.max(noisy) - np.min(noisy))).astype(np.uint8)\n",
    "noisy = (255*(noisy.astype(np.float32) - np.min(noisy))/(np.max(noisy) - np.min(noisy))).astype(np.float32)"
   ]
  },
  {
   "cell_type": "code",
   "execution_count": null,
   "id": "847adedf-f639-48a4-a122-c6a208c237de",
   "metadata": {},
   "outputs": [],
   "source": [
    "np.min(noisy)"
   ]
  },
  {
   "cell_type": "code",
   "execution_count": null,
   "id": "4e6e4253-4ce1-4570-b15c-08168b503b71",
   "metadata": {},
   "outputs": [],
   "source": [
    "np.max(noisy)"
   ]
  },
  {
   "cell_type": "code",
   "execution_count": null,
   "id": "49482575-4a21-4de7-aada-fe637eb2a1d6",
   "metadata": {},
   "outputs": [],
   "source": [
    "#noisy = noisy[230:250, 450:760, 210:510]\n",
    "#noisy = noisy[180:220, 400:800, 200:600]\n",
    "noisy = noisy[noisy.shape[0]//2-10:noisy.shape[0]//2+10, :, :]"
   ]
  },
  {
   "cell_type": "code",
   "execution_count": null,
   "id": "de188628-fa34-41d3-b379-5e999ae4625f",
   "metadata": {},
   "outputs": [],
   "source": [
    "noisy.shape"
   ]
  },
  {
   "cell_type": "code",
   "execution_count": null,
   "id": "a1023a3c-ec88-42fa-9283-6b25bb8cd2ff",
   "metadata": {},
   "outputs": [],
   "source": [
    "fig, axs = plt.subplots(1, 1, figsize=(16, 16))\n",
    "axs.imshow(noisy[:, ::-1, :][10], cmap=\"gray\")\n",
    "axs.set_title(f\"Noisy\")\n",
    "fig.tight_layout()\n",
    "plt.show()"
   ]
  },
  {
   "cell_type": "code",
   "execution_count": null,
   "id": "575f9b82-658f-4f6c-88ac-b1d4fcad60f3",
   "metadata": {},
   "outputs": [],
   "source": [
    "RS_std_dev = 1.0\n",
    "N_iters = 25"
   ]
  },
  {
   "cell_type": "code",
   "execution_count": null,
   "id": "7a25eaf5-2c00-42ef-89a2-bdf555248fc7",
   "metadata": {
    "scrolled": true
   },
   "outputs": [],
   "source": [
    "denoiser = Random_Shaking_Denoising_by_Slices()\n",
    "denoised = denoiser.filter_volume(noisy, std_dev=RS_std_dev, N_iters=N_iters)"
   ]
  },
  {
   "cell_type": "code",
   "execution_count": null,
   "id": "f19fa3be-d8a8-4f49-a194-05f763dbe934",
   "metadata": {},
   "outputs": [],
   "source": [
    "fig, axs = plt.subplots(1, 2, figsize=(32, 64))\n",
    "#axs[0].imshow(noisy[:, ::-1, :][210][400:800, 200:600], cmap=\"gray\")\n",
    "axs[0].imshow(noisy[:, ::-1, :][noisy.shape[0]//2], cmap=\"gray\")\n",
    "axs[0].set_title(f\"Noisy\")\n",
    "#axs[1].imshow(denoised[:, ::-1, :][210][400:800, 200:600], cmap=\"gray\")\n",
    "axs[1].imshow(denoised[:, ::-1, :][noisy.shape[0]//2], cmap=\"gray\")\n",
    "axs[1].set_title(f\"Denoised (DQI={information_theory.information.compute_quality_index(noisy[16], denoised[16])})\")\n",
    "fig.tight_layout()\n",
    "plt.show()"
   ]
  },
  {
   "cell_type": "code",
   "execution_count": null,
   "id": "4c289e6a-a45d-4dd2-aecb-2e43c4fd9a0c",
   "metadata": {},
   "outputs": [],
   "source": [
    "print(f\"{args.output}_{RS_std_dev}_{N_iters}.mrc\")\n",
    "with mrcfile.new(f\"{args.output}_{RS_std_dev}_{N_iters}.mrc\", overwrite=True) as mrc:\n",
    "            mrc.set_data(denoised.astype(np.float32))\n",
    "            mrc.data\n",
    "skimage.io.imsave(f\"{args.output}_{RS_std_dev}_{N_iters}.tif\", denoised, imagej=True)"
   ]
  }
 ],
 "metadata": {
  "accelerator": "GPU",
  "colab": {
   "gpuType": "T4",
   "provenance": []
  },
  "kernelspec": {
   "display_name": "Python 3 (ipykernel)",
   "language": "python",
   "name": "python3"
  },
  "language_info": {
   "codemirror_mode": {
    "name": "ipython",
    "version": 3
   },
   "file_extension": ".py",
   "mimetype": "text/x-python",
   "name": "python",
   "nbconvert_exporter": "python",
   "pygments_lexer": "ipython3",
   "version": "3.10.12"
  }
 },
 "nbformat": 4,
 "nbformat_minor": 5
}
