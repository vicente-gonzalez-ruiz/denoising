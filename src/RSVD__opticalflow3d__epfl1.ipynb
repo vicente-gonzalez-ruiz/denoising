{
 "cells": [
  {
   "cell_type": "markdown",
   "id": "24a2b9b0-569f-4f0a-a83c-7ab9c893b3a4",
   "metadata": {},
   "source": [
    "# Random Shaking Volume Denoising (RSVD) using opticalflow3d"
   ]
  },
  {
   "cell_type": "code",
   "execution_count": null,
   "id": "c9a80b89-904d-4935-a417-c4c4e9f517bc",
   "metadata": {},
   "outputs": [],
   "source": [
    "local_debug = True"
   ]
  },
  {
   "cell_type": "code",
   "execution_count": null,
   "id": "52ab5291-8722-4667-9c09-9d1caef70b23",
   "metadata": {},
   "outputs": [],
   "source": [
    "jupyter_server = True"
   ]
  },
  {
   "cell_type": "code",
   "execution_count": null,
   "id": "0d7b2f8e-5f3f-471e-b22e-bde5a223a7bc",
   "metadata": {},
   "outputs": [],
   "source": [
    "vol_filename = \"epfl1_subset1_float.mrc\""
   ]
  },
  {
   "cell_type": "code",
   "execution_count": null,
   "id": "7be42efa-1e36-4eb8-8d10-5d5f7e7e47d3",
   "metadata": {},
   "outputs": [],
   "source": [
    "try:\n",
    "    import google.colab\n",
    "    IN_COLAB = True\n",
    "except:\n",
    "    IN_COLAB = False\n",
    "\n",
    "if IN_COLAB:\n",
    "    print(\"Running in Colab\")\n",
    "    !pip install cupy-cuda12x\n",
    "    !pip install opticalflow3D\n",
    "    !apt install libcudart11.0\n",
    "    !apt install libcublas11\n",
    "    !apt install libcufft10\n",
    "    !apt install libcusparse11\n",
    "    !apt install libnvrtc11.2\n",
    "    #from google.colab import drive\n",
    "    #drive.mount('/content/drive')\n",
    "    #!cp drive/Shareddrives/TomogramDenoising/tomograms/{vol_name}.tif .\n",
    "else:\n",
    "    print(\"Running in locahost\")\n",
    "    #!cp ~/Downloads/{vol_name}.tif ."
   ]
  },
  {
   "cell_type": "code",
   "execution_count": null,
   "id": "2a9f2718-d2d2-4d2b-bf30-bfa5388c65e2",
   "metadata": {},
   "outputs": [],
   "source": [
    "%matplotlib inline\n",
    "import matplotlib.pyplot as plt\n",
    "from matplotlib.pyplot import figure"
   ]
  },
  {
   "cell_type": "code",
   "execution_count": null,
   "id": "a3554ddb-de53-4ac6-a102-01c526f3fa24",
   "metadata": {
    "id": "a3554ddb-de53-4ac6-a102-01c526f3fa24"
   },
   "outputs": [],
   "source": [
    "import opticalflow3D\n",
    "import warnings\n",
    "from numba.core.errors import NumbaPerformanceWarning\n",
    "import numpy as np\n",
    "import logging\n",
    "import mrcfile\n",
    "warnings.filterwarnings(\"ignore\", category=NumbaPerformanceWarning)"
   ]
  },
  {
   "cell_type": "code",
   "execution_count": null,
   "id": "94f133d0-1f5d-456c-89dd-2e12c402515f",
   "metadata": {},
   "outputs": [],
   "source": [
    "if local_debug:\n",
    "    !ln -sf ../../motion_estimation/src/motion_estimation .\n",
    "else:\n",
    "    !pip install \"denoising @ git+https://github.com/vicente-gonzalez-ruiz/motion_estimation\""
   ]
  },
  {
   "cell_type": "code",
   "execution_count": null,
   "id": "092c1b40-c7a1-4e01-a343-6926eb092ec7",
   "metadata": {},
   "outputs": [],
   "source": [
    "if local_debug:\n",
    "    !ln -sf denoising/volume/RSVD.py .\n",
    "else:\n",
    "    !pip install \"denoising @ git+https://github.com/vicente-gonzalez-ruiz/denoising\"\n",
    "from RSVD import Random_Shaking_Denoising"
   ]
  },
  {
   "cell_type": "code",
   "execution_count": null,
   "id": "053cdde7-cb4a-48c5-b2dd-6122d3709938",
   "metadata": {},
   "outputs": [],
   "source": [
    "if local_debug:\n",
    "    !ln -sf ../../information_theory/src/information_theory/ .\n",
    "else:\n",
    "    !pip install \"information_theory @ git+https://github.com/vicente-gonzalez-ruiz/information_theory\"\n",
    "import information_theory  # pip install \"information_theory @ git+https://github.com/vicente-gonzalez-ruiz/information_theory\""
   ]
  },
  {
   "cell_type": "code",
   "execution_count": null,
   "id": "450d69b2-1cce-435d-b1a5-d7fa4e1f2b7e",
   "metadata": {},
   "outputs": [],
   "source": [
    "from collections import namedtuple\n",
    "Args = namedtuple(\"args\", [\"input\", \"output\"])\n",
    "fn, fe = vol_filename.split(\".\")\n",
    "args = Args(vol_filename , fn + \"_denoised.\" + fe)\n",
    "print(args)"
   ]
  },
  {
   "cell_type": "code",
   "execution_count": null,
   "id": "f7a9534e-64d1-448b-b51f-6c2a2aa187c3",
   "metadata": {},
   "outputs": [],
   "source": [
    "%%bash -s \"$args.input\"\n",
    "set -x\n",
    "OUTPUT_FILENAME=$1\n",
    "#rm -f $OUTPUT_FILENAME\n",
    "if test ! -f $OUTPUT_FILENAME ; then\n",
    "    FILEID=\"1qe7d9dOJg1H3xlGy1DIgEdAnwuAgA1iB\" # https://drive.google.com/file/d/1qe7d9dOJg1H3xlGy1DIgEdAnwuAgA1iB/view?usp=drive_link\n",
    "    #FILEID=\"1iui018SGKa5nb0ybeoUAB7uCUhl9EJ5o\" #https://drive.google.com/file/d/1iui018SGKa5nb0ybeoUAB7uCUhl9EJ5o/view?usp=sharing\n",
    "    #wget --no-check-certificate 'https://docs.google.com/uc?export=download&id='$FILEID -O $OUTPUT_FILENAME #2> /dev/null\n",
    "    #wget --load-cookies /tmp/cookies.txt \"https://docs.google.com/uc?export=download&confirm=$(wget --quiet --save-cookies /tmp/cookies.txt --keep-session-cookies --no-check-certificate 'https://docs.google.com/uc?export=download&id=FILEID' -O- | sed -rn 's/.*confirm=([0-9A-Za-z_]+).*/\\1\\n/p')&id=FILEID\" -O FILENAME && rm -rf /tmp/cookies.txt\n",
    "    ~/envs/OF3D/bin/gdown https://drive.google.com/uc?id=$FILEID # pip install gdown\n",
    "fi\n",
    "ls -l $OUTPUT_FILENAME\n",
    "set +x"
   ]
  },
  {
   "cell_type": "code",
   "execution_count": null,
   "id": "I6Fx1j23clAd",
   "metadata": {
    "id": "I6Fx1j23clAd"
   },
   "outputs": [],
   "source": [
    "#noisy = opticalflow3D.helpers.load_image(args.input)\n",
    "stack_MRC = mrcfile.open(args.input)\n",
    "noisy = stack_MRC.data"
   ]
  },
  {
   "cell_type": "code",
   "execution_count": null,
   "id": "67cb20ea-59cc-4f1a-8850-14439bb07e51",
   "metadata": {},
   "outputs": [],
   "source": [
    "#noisy = (255*(noisy - np.min(noisy))/(np.max(noisy) - np.min(noisy))).astype(np.uint8)"
   ]
  },
  {
   "cell_type": "code",
   "execution_count": null,
   "id": "4c5e8ab4-ca41-418e-b9de-ce37f4463c7e",
   "metadata": {},
   "outputs": [],
   "source": [
    "#noisy = noisy[80:, 200:, 200:]"
   ]
  },
  {
   "cell_type": "code",
   "execution_count": null,
   "id": "de188628-fa34-41d3-b379-5e999ae4625f",
   "metadata": {},
   "outputs": [],
   "source": [
    "noisy.shape"
   ]
  },
  {
   "cell_type": "code",
   "execution_count": null,
   "id": "45de9cfd-b351-4fde-8bd4-9c01825beadf",
   "metadata": {},
   "outputs": [],
   "source": [
    "fig, axs = plt.subplots(1, 1, figsize=(16, 16))\n",
    "axs.imshow(noisy[:, ::-1, :][75], cmap=\"gray\")\n",
    "axs.set_title(f\"Noisy min={np.min(noisy):5.2f} max={np.max(noisy):5.2f} avg={np.average(noisy):5.2f}\")\n",
    "fig.tight_layout()\n",
    "plt.show()"
   ]
  },
  {
   "cell_type": "code",
   "execution_count": null,
   "id": "5c4037ee-2884-4198-b4f9-b84f4bca6d22",
   "metadata": {},
   "outputs": [],
   "source": [
    "block_size = (noisy.shape[0], noisy.shape[1], noisy.shape[2])"
   ]
  },
  {
   "cell_type": "code",
   "execution_count": null,
   "id": "8073bd55-6c87-46a4-a4e3-7e4f28cfc296",
   "metadata": {},
   "outputs": [],
   "source": [
    "#farneback = opticalflow3D.Farneback3D(iters=5, num_levels=3, scale=0.5, spatial_size=7, presmoothing=3, filter_type=\"gaussian\", filter_size=7,); RS_sigma = 1.0\n",
    "#farneback = opticalflow3D.Farneback3D(iters=5, num_levels=2, scale=0.5, spatial_size=5, sigma_k=1.0, filter_type=\"gaussian\", filter_size=9, presmoothing=None, device_id=0); RS_sigma = 1.25; N_iters=100\n",
    "#denoiser = RSVD.Random_Shaking_Denoising(logging_level=logging.INFO)\n",
    "#denoiser = Random_Shaking_Denoising(logging_level=logging.DEBUG)\n",
    "\n",
    "def show_image(denoised_volume, title):\n",
    "    fig, axs = plt.subplots(1, 1)\n",
    "    axs.set_title(title)\n",
    "    #axs.imshow(denoised_volume[denoised_volume.shape[0]//2].astype(np.uint8), cmap=\"gray\")\n",
    "    axs.imshow(denoised_volume[denoised_volume.shape[0]//2], cmap=\"gray\")\n",
    "    plt.show()\n",
    "\n",
    "def get_quality(noisy, denoised):\n",
    "    slice_idx = noisy.shape[0]//2\n",
    "    return information_theory.information.compute_quality_index(noisy[slice_idx], denoised[slice_idx])\n",
    "\n",
    "denoiser = Random_Shaking_Denoising(logging_level=logging.INFO, show_image=None, get_quality=get_quality)"
   ]
  },
  {
   "cell_type": "code",
   "execution_count": null,
   "id": "7ab782f1-6053-4d91-8ba7-3220d3332f44",
   "metadata": {
    "colab": {
     "base_uri": "https://localhost:8080/",
     "height": 211
    },
    "id": "7ab782f1-6053-4d91-8ba7-3220d3332f44",
    "outputId": "e8f03c08-8eb1-4ab3-f854-c360edd8082a"
   },
   "outputs": [],
   "source": [
    "\"\"\"Farneback3D class used to instantiate the algorithm with its parameters.\n",
    "\n",
    "Args:\n",
    "    iters (int): number of iterations. Defaults to 5\n",
    "    num_levels (int): number of pyramid levels. Defaults to 5\n",
    "    scale (float): Scaling factor used to generate the pyramid levels. Defaults to 0.5\n",
    "    spatial_size (int): size of the support used in the calculation of the standard deviation of the Gaussian\n",
    "        applicability. Defaults to 9.\n",
    "    sigma_k (float): scaling factor used to calculate the standard deviation of the Gaussian applicability. The\n",
    "        formula to calculate sigma is sigma_k*(spatial_size - 1). Defaults to 0.15.\n",
    "    filter_type (str): Defines the type of filter used to average the calculated matrices. Defaults to \"box\"\n",
    "    filter_size (int): Size of the filter used to average the matrices. Defaults to 21\n",
    "    presmoothing (int): Standard deviation used to perform Gaussian smoothing of the images. Defaults to None\n",
    "    device_id (int): Device id of the GPU. Defaults to 0\n",
    "\"\"\"\n",
    "#farneback = opticalflow3D.Farneback3D(iters=5, num_levels=3, scale=0.5, spatial_size=11, presmoothing=3, filter_type=\"gaussian\", filter_size=11); RS_sigma = 1.0\n",
    "#farneback = opticalflow3D.Farneback3D(iters=5, num_levels=2, scale=0.5, spatial_size=5, sigma_k=0.5, filter_type=\"gaussian\", filter_size=9, presmoothing=None, device_id=0); RS_sigma = 1.0\n",
    "#farneback = opticalflow3D.Farneback3D(iters=5, num_levels=2, scale=0.5, spatial_size=5, sigma_k=1.0, filter_type=\"gaussian\", filter_size=9, presmoothing=None, device_id=0); RS_sigma = 0.75\n",
    "#farneback = opticalflow3D.Farneback3D(iters=5, num_levels=2, scale=0.5, spatial_size=5, sigma_k=1.0, filter_type=\"gaussian\", filter_size=17, presmoothing=None, device_id=0); RS_sigma = 1.75\n",
    "#RS_sigma = 1.5\n",
    "#N_iters = 50\n",
    "#denoised = denoiser.filter_volume(noisy, std_dev=RS_sigma, N_iters=N_iters, block_size=block_size)\n",
    "\n",
    "N_iters = 100\n",
    "RS_std_dev = 1.0\n",
    "pyramid_levels = 3\n",
    "window_side = 5\n",
    "N_poly = 3\n",
    "iterations = 5 \n",
    "block_size = (noisy.shape[0], noisy.shape[1], noisy.shape[2])\n",
    "\n",
    "denoised = denoiser.filter_volume(\n",
    "    noisy,\n",
    "    std_dev=RS_std_dev,\n",
    "    window_side=window_side,\n",
    "    N_poly=N_poly,\n",
    "    N_iters=N_iters,\n",
    "    iterations=iterations,\n",
    "    pyramid_levels=pyramid_levels,\n",
    "    block_size=block_size)"
   ]
  },
  {
   "cell_type": "code",
   "execution_count": null,
   "id": "91aIEXpSc5ez",
   "metadata": {
    "colab": {
     "base_uri": "https://localhost:8080/",
     "height": 1000
    },
    "id": "91aIEXpSc5ez",
    "outputId": "6e1f085e-8567-4eb8-9c13-13171cead177",
    "scrolled": true
   },
   "outputs": [],
   "source": [
    "#denoised = RSIVD.filter(farneback, block_size, noisy, RS_sigma=RS_sigma, N_iters=20)"
   ]
  },
  {
   "cell_type": "code",
   "execution_count": null,
   "id": "6f849cbf-fc3d-4534-8368-c2036261c020",
   "metadata": {},
   "outputs": [],
   "source": [
    "#np.min(denoised)"
   ]
  },
  {
   "cell_type": "code",
   "execution_count": null,
   "id": "3720768e-3e6e-4c90-8123-4124d670f37f",
   "metadata": {},
   "outputs": [],
   "source": [
    "figure(figsize=(32, 32))\n",
    "plt.subplot(1, 3, 1)\n",
    "plt.title(\"original\")\n",
    "slice_idx = noisy.shape[0]//2\n",
    "imgplot = plt.imshow(noisy[slice_idx][::-1, :], cmap=\"gray\")\n",
    "plt.subplot(1, 3, 2)\n",
    "title = f\"$N_{{\\\\mathrm{{iters}}}}={N_iters}, \\\\sigma_{{\\\\mathrm{{RS}}}}={RS_std_dev}, w={window_side}, N_{{\\\\mathrm{{poly}}}}={N_poly}$\"\n",
    "plt.title(title)\n",
    "plt.imshow(denoised[slice_idx][::-1, :], cmap=\"gray\")\n",
    "plt.subplot(1, 3, 3)\n",
    "plt.title(\"difference\")\n",
    "plt.imshow(noisy[slice_idx][::-1, :] - denoised[slice_idx][::-1, :], cmap=\"gray\")\n",
    "plt.show()"
   ]
  },
  {
   "cell_type": "code",
   "execution_count": null,
   "id": "9c145965-5712-4fe8-ac9c-da63c3261730",
   "metadata": {},
   "outputs": [],
   "source": [
    "fig_single, ax_single = plt.subplots(figsize=(10, 10))\n",
    "ax_single.imshow(denoised[slice_idx][::-1, :], cmap=\"gray\")\n",
    "ax_single.set_title(title)\n",
    "fig_single.savefig(title + \".png\")\n",
    "plt.close(fig_single)"
   ]
  },
  {
   "cell_type": "code",
   "execution_count": null,
   "id": "fe735698-7e29-4145-93dd-61abe22e1cc0",
   "metadata": {},
   "outputs": [],
   "source": [
    "fig, axs = plt.subplots(1, 2, figsize=(16, 32))\n",
    "slice_idx = noisy.shape[1]//2\n",
    "axs[0].imshow(noisy[:, slice_idx], cmap=\"gray\")\n",
    "axs[0].set_title(f\"Noisy\")\n",
    "axs[1].imshow(denoised[:, slice_idx], cmap=\"gray\")\n",
    "axs[1].set_title(f\"Denoised\")\n",
    "fig.tight_layout()\n",
    "plt.show()"
   ]
  },
  {
   "cell_type": "code",
   "execution_count": null,
   "id": "5963fd15-6341-471b-980d-f51b38a1f4dd",
   "metadata": {},
   "outputs": [],
   "source": [
    "fig, axs = plt.subplots(1, 2, figsize=(16, 32))\n",
    "slice_idx = noisy.shape[2]//2\n",
    "axs[0].imshow(noisy[:, :, slice_idx], cmap=\"gray\")\n",
    "axs[0].set_title(f\"Noisy\")\n",
    "axs[1].imshow(denoised[:, :, slice_idx], cmap=\"gray\")\n",
    "axs[1].set_title(f\"Denoised\")\n",
    "fig.tight_layout()\n",
    "plt.show()"
   ]
  },
  {
   "cell_type": "code",
   "execution_count": null,
   "id": "4c3448e6-7e79-4503-bcff-ef8fe030499f",
   "metadata": {},
   "outputs": [],
   "source": [
    "with mrcfile.new(f\"{fn}_{title}.mrc\", overwrite=True) as mrc:\n",
    "            mrc.set_data(denoised.astype(np.float32))\n",
    "            mrc.data\n",
    "#skimage.io.imsave(f\"{args.output}_{RS_sigma}_{N_iters}.tif\", denoised, imagej=True)"
   ]
  },
  {
   "cell_type": "code",
   "execution_count": null,
   "id": "70f291c5-e728-4439-bf23-cff3cdbf49a0",
   "metadata": {},
   "outputs": [],
   "source": [
    "f\"{fn}_{title}.mrc\""
   ]
  },
  {
   "cell_type": "code",
   "execution_count": null,
   "id": "0db1f4d5-3958-4b71-8684-2e41c96cb294",
   "metadata": {},
   "outputs": [],
   "source": [
    "input()"
   ]
  },
  {
   "cell_type": "code",
   "execution_count": null,
   "id": "87bf9e37-63b2-446b-a81a-34d9f0683561",
   "metadata": {},
   "outputs": [],
   "source": [
    "farneback = opticalflow3D.Farneback3D(iters=5,\n",
    "                                      num_levels=3,\n",
    "                                      scale=0.5,\n",
    "                                      spatial_size=5,\n",
    "                                      presmoothing=4,\n",
    "                                      filter_type=\"box\",\n",
    "                                      filter_size=5,\n",
    "                                     )"
   ]
  },
  {
   "cell_type": "code",
   "execution_count": null,
   "id": "79df21ee-a27f-4ec2-898e-61448ec681e1",
   "metadata": {},
   "outputs": [],
   "source": [
    "RS_sigma = 1.0\n",
    "denoised_vol = RSIVD.filter(farneback, block_size, noisy_vol, RS_sigma=RS_sigma, N_iters=25)"
   ]
  },
  {
   "cell_type": "code",
   "execution_count": null,
   "id": "5c8bf46d-d024-40bc-8f6c-964969d73d9b",
   "metadata": {},
   "outputs": [],
   "source": [
    "figure(figsize=(32, 32))\n",
    "plt.subplot(1, 3, 1)\n",
    "plt.title(\"original\")\n",
    "imgplot = plt.imshow(noisy_vol[75][::-1, :], cmap=\"gray\")\n",
    "plt.subplot(1, 3, 2)\n",
    "plt.title(\"$\\sigma_\\mathrm{RS}=$\"+f\"{RS_sigma}\")\n",
    "plt.imshow(denoised_vol[75][::-1, :], cmap=\"gray\")\n",
    "plt.subplot(1, 3, 3)\n",
    "plt.title(\"difference\")\n",
    "plt.imshow(noisy_vol[75][::-1, :] - denoised_vol[75][::-1, :], cmap=\"gray\")"
   ]
  },
  {
   "cell_type": "code",
   "execution_count": null,
   "id": "3a7d7ede-eb52-4fc9-83ec-038ed86b7360",
   "metadata": {},
   "outputs": [],
   "source": [
    "skimage.io.imsave(f\"{vol_name}_denoised_{RS_sigma}.tif\", denoised_vol, imagej=True)"
   ]
  },
  {
   "cell_type": "code",
   "execution_count": null,
   "id": "2c61af79-5e07-4f85-9a55-016480835274",
   "metadata": {},
   "outputs": [],
   "source": []
  }
 ],
 "metadata": {
  "accelerator": "GPU",
  "colab": {
   "gpuType": "T4",
   "provenance": []
  },
  "kernelspec": {
   "display_name": "Python (OF3D)",
   "language": "python",
   "name": "of3d"
  },
  "language_info": {
   "codemirror_mode": {
    "name": "ipython",
    "version": 3
   },
   "file_extension": ".py",
   "mimetype": "text/x-python",
   "name": "python",
   "nbconvert_exporter": "python",
   "pygments_lexer": "ipython3",
   "version": "3.10.10"
  }
 },
 "nbformat": 4,
 "nbformat_minor": 5
}
