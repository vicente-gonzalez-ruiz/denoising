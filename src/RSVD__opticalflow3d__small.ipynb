{
 "cells": [
  {
   "cell_type": "markdown",
   "id": "24a2b9b0-569f-4f0a-a83c-7ab9c893b3a4",
   "metadata": {},
   "source": [
    "# Random Shaking Volume Denoising (RSVD) using opticalflow3d"
   ]
  },
  {
   "cell_type": "code",
   "execution_count": 4,
   "id": "43fe9255-100a-473d-9f2b-b4e18cdf5c4a",
   "metadata": {},
   "outputs": [],
   "source": [
    "vol_name = \"small_vol\""
   ]
  },
  {
   "cell_type": "code",
   "execution_count": 5,
   "id": "b28554f5-6688-4462-8c89-8e5c11afb1b4",
   "metadata": {},
   "outputs": [],
   "source": [
    "local_debug = True"
   ]
  },
  {
   "cell_type": "code",
   "execution_count": null,
   "id": "593a5c22-d732-43ad-ba24-173a64b90b3f",
   "metadata": {},
   "outputs": [],
   "source": [
    "vol_filename = \"small_vol.mrc\""
   ]
  },
  {
   "cell_type": "code",
   "execution_count": null,
   "id": "7be42efa-1e36-4eb8-8d10-5d5f7e7e47d3",
   "metadata": {},
   "outputs": [
    {
     "name": "stdout",
     "output_type": "stream",
     "text": [
      "Running in locahost\n"
     ]
    }
   ],
   "source": [
    "try:\n",
    "    import google.colab\n",
    "    IN_COLAB = True\n",
    "except:\n",
    "    IN_COLAB = False\n",
    "\n",
    "if IN_COLAB:\n",
    "    print(\"Running in Colab\")\n",
    "    !pip install cupy-cuda12x\n",
    "    !pip install opticalflow3D\n",
    "    !apt install libcudart11.0\n",
    "    !apt install libcublas11\n",
    "    !apt install libcufft10\n",
    "    !apt install libcusparse11\n",
    "    !apt install libnvrtc11.2\n",
    "    #from google.colab import drive\n",
    "    #drive.mount('/content/drive')\n",
    "    #!cp drive/Shareddrives/TomogramDenoising/tomograms/{vol_name}.tif .\n",
    "else:\n",
    "    print(\"Running in locahost\")\n",
    "    #!cp ~/Downloads/{vol_name}.tif ."
   ]
  },
  {
   "cell_type": "code",
   "execution_count": 7,
   "id": "2a9f2718-d2d2-4d2b-bf30-bfa5388c65e2",
   "metadata": {},
   "outputs": [],
   "source": [
    "%matplotlib inline\n",
    "import matplotlib.pyplot as plt\n",
    "from matplotlib.pyplot import figure\n",
    "import numpy as np\n",
    "import logging\n",
    "import mrcfile"
   ]
  },
  {
   "cell_type": "code",
   "execution_count": 8,
   "id": "a3554ddb-de53-4ac6-a102-01c526f3fa24",
   "metadata": {
    "id": "a3554ddb-de53-4ac6-a102-01c526f3fa24"
   },
   "outputs": [],
   "source": [
    "import opticalflow3D\n",
    "import warnings\n",
    "from numba.core.errors import NumbaPerformanceWarning\n",
    "\n",
    "warnings.filterwarnings(\"ignore\", category=NumbaPerformanceWarning)"
   ]
  },
  {
   "cell_type": "code",
   "execution_count": null,
   "id": "86623726-c208-48ca-b3a1-f5c4130ba4fa",
   "metadata": {},
   "outputs": [],
   "source": [
    "if local_debug:\n",
    "    !ln -sf ../../motion_estimation/src/motion_estimation .\n",
    "else:\n",
    "    !pip install \"denoising @ git+https://github.com/vicente-gonzalez-ruiz/motion_estimation\""
   ]
  },
  {
   "cell_type": "code",
   "execution_count": null,
   "id": "4950828f-7887-43c7-a925-0a3b70899385",
   "metadata": {},
   "outputs": [],
   "source": [
    "if local_debug:\n",
    "    !ln -sf denoising/volume/RSVD.py .\n",
    "else:\n",
    "    !pip install \"denoising @ git+https://github.com/vicente-gonzalez-ruiz/denoising\"\n",
    "import RSVD"
   ]
  },
  {
   "cell_type": "code",
   "execution_count": null,
   "id": "92a65bb7-ccc4-4240-8d3b-b73ab402dc48",
   "metadata": {},
   "outputs": [],
   "source": [
    "if local_debug:\n",
    "    !ln -sf ../../information_theory/src/information_theory/ .\n",
    "else:\n",
    "    !pip install \"information_theory @ git+https://github.com/vicente-gonzalez-ruiz/information_theory\"\n",
    "import information_theory  # pip install \"information_theory @ git+https://github.com/vicente-gonzalez-ruiz/information_theory\""
   ]
  },
  {
   "cell_type": "code",
   "execution_count": null,
   "id": "dce5f767-df19-4fee-92c3-06fb2bf92bc0",
   "metadata": {},
   "outputs": [],
   "source": [
    "from collections import namedtuple\n",
    "Args = namedtuple(\"args\", [\"input\", \"output\"])\n",
    "fn, fe = vol_filename.split(\".\")\n",
    "args = Args(vol_filename , fn + \"_denoised.\" + fe)\n",
    "print(args)"
   ]
  },
  {
   "cell_type": "code",
   "execution_count": null,
   "id": "4ba9155d-3ff1-42b8-b7bc-965451ef2e34",
   "metadata": {},
   "outputs": [
    {
     "name": "stderr",
     "output_type": "stream",
     "text": [
      "+ OUTPUT_FILENAME=small_vol.tif\n",
      "+ test '!' -f small_vol.tif\n",
      "+ set +x\n"
     ]
    }
   ],
   "source": [
    "%%bash -s \"$args.input\"\n",
    "set -x\n",
    "OUTPUT_FILENAME=$1\n",
    "#rm -f $OUTPUT_FILENAME\n",
    "if test ! -f $OUTPUT_FILENAME ; then\n",
    "    FILEID=\"1Uqa6ywi8bllhyHxrODD5yjuesUkNO3O0\" # https://drive.google.com/file/d/1YDyHWyB1d6yq2LYif2zQcQgr7vhlspYo/view?usp=drive_link\n",
    "    #wget --no-check-certificate 'https://docs.google.com/uc?export=download&id='$FILEID -O $OUTPUT_FILENAME #2> /dev/null\n",
    "    #wget --load-cookies /tmp/cookies.txt \"https://docs.google.com/uc?export=download&confirm=$(wget --quiet --save-cookies /tmp/cookies.txt --keep-session-cookies --no-check-certificate 'https://docs.google.com/uc?export=download&id=FILEID' -O- | sed -rn 's/.*confirm=([0-9A-Za-z_]+).*/\\1\\n/p')&id=FILEID\" -O FILENAME && rm -rf /tmp/cookies.txt\n",
    "    gdown https://drive.google.com/uc?id=$FILEID # pip install gdown\n",
    "fi\n",
    "set +x"
   ]
  },
  {
   "cell_type": "code",
   "execution_count": 13,
   "id": "I6Fx1j23clAd",
   "metadata": {
    "id": "I6Fx1j23clAd"
   },
   "outputs": [],
   "source": [
    "#noisy = opticalflow3D.helpers.load_image(args.input)\n",
    "stack_MRC = mrcfile.open(args.input)\n",
    "noisy = stack_MRC.data"
   ]
  },
  {
   "cell_type": "code",
   "execution_count": 14,
   "id": "f375d960-3644-4509-a442-dc18ab587b0f",
   "metadata": {},
   "outputs": [],
   "source": [
    "noisy = (255*(noisy - np.min(noisy))/(np.max(noisy) - np.min(noisy))).astype(np.uint8)"
   ]
  },
  {
   "cell_type": "code",
   "execution_count": null,
   "id": "38458f42-e985-41a7-b68f-c9bfda1d2ee2",
   "metadata": {},
   "outputs": [],
   "source": [
    "noisy.shape"
   ]
  },
  {
   "cell_type": "code",
   "execution_count": null,
   "id": "c84c983a-06e1-4ea4-9638-9435b60092ff",
   "metadata": {},
   "outputs": [],
   "source": [
    "fig, axs = plt.subplots(1, 1, figsize=(16, 16))\n",
    "slice_idx = noisy.shape[0]//2\n",
    "axs.imshow(noisy[:, ::-1, :][slice_idx], cmap=\"gray\")\n",
    "axs.set_title(f\"Noisy\")\n",
    "fig.tight_layout()\n",
    "plt.show()"
   ]
  },
  {
   "cell_type": "code",
   "execution_count": null,
   "id": "8a1f1196-f3f8-400d-8719-a3ca59d62dac",
   "metadata": {},
   "outputs": [],
   "source": [
    "block_size = (noisy.shape[0], noisy.shape[1], noisy.shape[2])"
   ]
  },
  {
   "cell_type": "code",
   "execution_count": 16,
   "id": "7ab782f1-6053-4d91-8ba7-3220d3332f44",
   "metadata": {
    "colab": {
     "base_uri": "https://localhost:8080/",
     "height": 211
    },
    "id": "7ab782f1-6053-4d91-8ba7-3220d3332f44",
    "outputId": "e8f03c08-8eb1-4ab3-f854-c360edd8082a"
   },
   "outputs": [],
   "source": [
    "#farneback = opticalflow3D.Farneback3D(iters=5, num_levels=3, scale=0.5, spatial_size=33, presmoothing=None, filter_type=\"gaussian\", filter_size=3)\n",
    "#farneback = opticalflow3D.Farneback3D(iters=5, num_levels=3, scale=0.5, spatial_size=13, presmoothing=None, filter_type=\"gaussian\", filter_size=7)\n",
    "#farneback = opticalflow3D.Farneback3D(iters=5, num_levels=3, scale=0.5, spatial_size=5, presmoothing=3, filter_type=\"gaussian\", filter_size=5)\n",
    "#farneback = opticalflow3D.Farneback3D(iters=5, num_levels=3, scale=0.5, spatial_size=3, presmoothing=5, filter_type=\"box\", filter_size=3)\n",
    "#farneback = opticalflow3D.Farneback3D(iters=5, num_levels=5, scale=0.5, spatial_size=3, presmoothing=5, filter_type=\"box\", filter_size=3)\n",
    "#farneback = opticalflow3D.Farneback3D(iters=5, num_levels=5, scale=0.5, spatial_size=3, presmoothing=5, filter_type=\"gaussian\", filter_size=11)\n",
    "#farneback = opticalflow3D.Farneback3D(iters=5, num_levels=1, scale=0.5, spatial_size=5, presmoothing=4, filter_type=\"box\", filter_size=5)\n",
    "#farneback = opticalflow3D.Farneback3D(iters=5, num_levels=5, scale=0.5, spatial_size=9, sigma_k=0.15, filter_type=\"box\" ,filter_size=21, presmoothing=None, device_id=0) # Default values\n",
    "#farneback = opticalflow3D.Farneback3D(iters=5, num_levels=5, scale=0.5, spatial_size=9, sigma_k=1.15, filter_type=\"gaussian\" ,filter_size=11, presmoothing=None, device_id=0)\n",
    "#farneback = opticalflow3D.Farneback3D(iters=5, num_levels=5, scale=0.5, spatial_size=9, sigma_k=0.5, filter_type=\"gaussian\" ,filter_size=11, presmoothing=None, device_id=0)\n",
    "#farneback = opticalflow3D.Farneback3D(iters=5, num_levels=5, scale=0.5, spatial_size=5, sigma_k=0.5, filter_type=\"gaussian\" ,filter_size=11, presmoothing=None, device_id=0); RS_sigma = 1.5\n",
    "#farneback = opticalflow3D.Farneback3D(iters=5, num_levels=5, scale=0.5, spatial_size=5, sigma_k=0.75, filter_type=\"gaussian\" ,filter_size=11, presmoothing=None, device_id=0); RS_sigma = 1.5\n",
    "#farneback = opticalflow3D.Farneback3D(iters=5, num_levels=5, scale=0.5, spatial_size=5, sigma_k=1.0, filter_type=\"gaussian\" ,filter_size=9, presmoothing=None, device_id=0); RS_sigma = 1.5\n",
    "#farneback = opticalflow3D.Farneback3D(iters=5, num_levels=5, scale=0.5, spatial_size=6, sigma_k=1.0, filter_type=\"gaussian\" ,filter_size=9, presmoothing=None, device_id=0); RS_sigma = 1.5\n",
    "\n",
    "def show_image(denoised_volume, title):\n",
    "    fig, axs = plt.subplots(1, 1)\n",
    "    axs.set_title(title)\n",
    "    #axs.imshow(denoised_volume[denoised_volume.shape[0]//2].astype(np.uint8), cmap=\"gray\")\n",
    "    axs.imshow(denoised_volume[denoised_volume.shape[0]//2], cmap=\"gray\")\n",
    "    plt.show()\n",
    "\n",
    "def get_quality(noisy, denoised):\n",
    "    slice_idx = noisy.shape[0]//2\n",
    "    return information_theory.information.compute_quality_index(noisy[slice_idx], denoised[slice_idx])\n",
    "\n",
    "denoiser = RSVD.Random_Shaking_Denoising(logging_level=logging.INFO, show_image=show_image, get_quality=get_quality)\n"
   ]
  },
  {
   "cell_type": "code",
   "execution_count": 17,
   "id": "91aIEXpSc5ez",
   "metadata": {
    "colab": {
     "base_uri": "https://localhost:8080/",
     "height": 1000
    },
    "id": "91aIEXpSc5ez",
    "outputId": "6e1f085e-8567-4eb8-9c13-13171cead177"
   },
   "outputs": [
    {
     "name": "stdout",
     "output_type": "stream",
     "text": [
      "iter=0\n",
      "(32, 256, 256)\n",
      "1.5\n",
      "0 1 2 3 4 5 6 7 8 9 10 11 12 13 14 15 16 17 18 19 20 21 22 23 24 25 26 27 28 29 30 31 0 1 2 3 4 5 6 7 8 9 10 11 12 13 14 15 16 17 18 19 20 21 22 23 24 25 26 27 28 29 30 31 0 1 2 3 4 5 6 7 8 9 10 11 12 13 14 15 16 17 18 19 20 21 22 23 24 25 26 27 28 29 30 31 32 33 34 35 36 37 38 39 40 41 42 43 44 45 46 47 48 49 50 51 52 53 54 55 56 57 58 59 60 61 62 63 64 65 66 67 68 69 70 71 72 73 74 75 76 77 78 79 80 81 82 83 84 85 86 87 88 89 90 91 92 93 94 95 96 97 98 99 100 101 102 103 104 105 106 107 108 109 110 111 112 113 114 115 116 117 118 119 120 121 122 123 124 125 126 127 128 129 130 131 132 133 134 135 136 137 138 139 140 141 142 143 144 145 146 147 148 149 150 151 152 153 154 155 156 157 158 159 160 161 162 163 164 165 166 167 168 169 170 171 172 173 174 175 176 177 178 179 180 181 182 183 184 185 186 187 188 189 190 191 192 193 194 195 196 197 198 199 200 201 202 203 204 205 206 207 208 209 210 211 212 213 214 215 216 217 218 219 220 221 222 223 224 225 226 227 228 229 230 231 232 233 234 235 236 237 238 239 240 241 242 243 244 245 246 247 248 249 250 251 252 253 254 255 Running 3D Farneback optical flow with the following parameters:\n",
      "Iters: 5 | Levels: 5 | Scale: 0.5 | Kernel: 6 | Filter: gaussian-9 | Presmoothing: None\n"
     ]
    },
    {
     "ename": "CUDARuntimeError",
     "evalue": "cudaErrorCompatNotSupportedOnDevice: forward compatibility was attempted on non supported HW",
     "output_type": "error",
     "traceback": [
      "\u001b[0;31m---------------------------------------------------------------------------\u001b[0m",
      "\u001b[0;31mCUDARuntimeError\u001b[0m                          Traceback (most recent call last)",
      "Cell \u001b[0;32mIn[17], line 1\u001b[0m\n\u001b[0;32m----> 1\u001b[0m denoised \u001b[38;5;241m=\u001b[39m \u001b[43mRSIVD\u001b[49m\u001b[38;5;241;43m.\u001b[39;49m\u001b[43mfilter\u001b[49m\u001b[43m(\u001b[49m\u001b[43mfarneback\u001b[49m\u001b[43m,\u001b[49m\u001b[43m \u001b[49m\u001b[43mblock_size\u001b[49m\u001b[43m,\u001b[49m\u001b[43m \u001b[49m\u001b[43mnoisy\u001b[49m\u001b[43m,\u001b[49m\u001b[43m \u001b[49m\u001b[43mRS_sigma\u001b[49m\u001b[38;5;241;43m=\u001b[39;49m\u001b[43mRS_sigma\u001b[49m\u001b[43m,\u001b[49m\u001b[43m \u001b[49m\u001b[43mN_iters\u001b[49m\u001b[38;5;241;43m=\u001b[39;49m\u001b[38;5;241;43m20\u001b[39;49m\u001b[43m)\u001b[49m\n",
      "File \u001b[0;32m/shared/repos/denoising/src/RSIVD.py:129\u001b[0m, in \u001b[0;36mfilter\u001b[0;34m(farneback, block_size, noisy_vol, N_iters, RS_sigma, RS_mean)\u001b[0m\n\u001b[1;32m    126\u001b[0m randomized_noisy_vol \u001b[38;5;241m=\u001b[39m randomize(noisy_vol, mean\u001b[38;5;241m=\u001b[39m\u001b[38;5;241m0\u001b[39m, std_dev\u001b[38;5;241m=\u001b[39mRS_sigma)\n\u001b[1;32m    127\u001b[0m \u001b[38;5;66;03m#print(\"sum(randomized_noisy-noisy)\", np.sum((randomized_noisy_vol-noisy_vol)*(randomized_noisy_vol-noisy_vol)))\u001b[39;00m\n\u001b[1;32m    128\u001b[0m \u001b[38;5;66;03m#print(\"sum(denoised-randomized_noisy)\", np.sum((denoised_vol-randomized_noisy_vol)*(denoised_vol-randomized_noisy_vol)))\u001b[39;00m\n\u001b[0;32m--> 129\u001b[0m randomized_and_compensated_noisy_vol \u001b[38;5;241m=\u001b[39m \u001b[43mproject_A_to_B\u001b[49m\u001b[43m(\u001b[49m\u001b[43mfarneback\u001b[49m\u001b[43m,\u001b[49m\u001b[43m \u001b[49m\u001b[43mblock_size\u001b[49m\u001b[43m,\u001b[49m\u001b[43m \u001b[49m\u001b[43mA\u001b[49m\u001b[38;5;241;43m=\u001b[39;49m\u001b[43mdenoised_vol\u001b[49m\u001b[43m,\u001b[49m\u001b[43m \u001b[49m\u001b[43mB\u001b[49m\u001b[38;5;241;43m=\u001b[39;49m\u001b[43mrandomized_noisy_vol\u001b[49m\u001b[43m)\u001b[49m\n\u001b[1;32m    130\u001b[0m \u001b[38;5;66;03m#plt.imshow(randomized_and_compensated_noisy_vol[15], cmap=\"gray\")\u001b[39;00m\n\u001b[1;32m    131\u001b[0m \u001b[38;5;66;03m#plt.show()\u001b[39;00m\n\u001b[1;32m    132\u001b[0m \u001b[38;5;66;03m#randomized_and_compensated_noisy_vol = np.zeros_like(randomized_noisy_vol)\u001b[39;00m\n\u001b[0;32m   (...)\u001b[0m\n\u001b[1;32m    140\u001b[0m \u001b[38;5;66;03m#print(\"sum(randomized_and_compensated_noisy-noisy)\", np.sum((randomized_and_compensated_noisy_vol-noisy_vol)*(randomized_and_compensated_noisy_vol-noisy_vol)))\u001b[39;00m\n\u001b[1;32m    141\u001b[0m \u001b[38;5;66;03m#print(np.sum((randomized_and_compensated_noisy_vol-randomized_noisy_vol)*(randomized_and_compensated_noisy_vol-randomized_noisy_vol)))\u001b[39;00m\n\u001b[1;32m    142\u001b[0m acc_vol \u001b[38;5;241m+\u001b[39m\u001b[38;5;241m=\u001b[39m randomized_and_compensated_noisy_vol\n",
      "File \u001b[0;32m/shared/repos/denoising/src/RSIVD.py:103\u001b[0m, in \u001b[0;36mproject_A_to_B\u001b[0;34m(farneback, block_size, A, B)\u001b[0m\n\u001b[1;32m    102\u001b[0m \u001b[38;5;28;01mdef\u001b[39;00m \u001b[38;5;21mproject_A_to_B\u001b[39m(farneback, block_size, A, B):\n\u001b[0;32m--> 103\u001b[0m   output_vz, output_vy, output_vx, output_confidence \u001b[38;5;241m=\u001b[39m \u001b[43mfarneback\u001b[49m\u001b[38;5;241;43m.\u001b[39;49m\u001b[43mcalculate_flow\u001b[49m\u001b[43m(\u001b[49m\u001b[43mA\u001b[49m\u001b[43m,\u001b[49m\u001b[43m \u001b[49m\u001b[43mB\u001b[49m\u001b[43m,\u001b[49m\n\u001b[1;32m    104\u001b[0m \u001b[43m                                                                              \u001b[49m\u001b[43mstart_point\u001b[49m\u001b[38;5;241;43m=\u001b[39;49m\u001b[43m(\u001b[49m\u001b[38;5;241;43m0\u001b[39;49m\u001b[43m,\u001b[49m\u001b[43m \u001b[49m\u001b[38;5;241;43m0\u001b[39;49m\u001b[43m,\u001b[49m\u001b[43m \u001b[49m\u001b[38;5;241;43m0\u001b[39;49m\u001b[43m)\u001b[49m\u001b[43m,\u001b[49m\n\u001b[1;32m    105\u001b[0m \u001b[43m                                                                              \u001b[49m\u001b[43mtotal_vol\u001b[49m\u001b[38;5;241;43m=\u001b[39;49m\u001b[43m(\u001b[49m\u001b[43mA\u001b[49m\u001b[38;5;241;43m.\u001b[39;49m\u001b[43mshape\u001b[49m\u001b[43m[\u001b[49m\u001b[38;5;241;43m0\u001b[39;49m\u001b[43m]\u001b[49m\u001b[43m,\u001b[49m\u001b[43m \u001b[49m\u001b[43mA\u001b[49m\u001b[38;5;241;43m.\u001b[39;49m\u001b[43mshape\u001b[49m\u001b[43m[\u001b[49m\u001b[38;5;241;43m1\u001b[39;49m\u001b[43m]\u001b[49m\u001b[43m,\u001b[49m\u001b[43m \u001b[49m\u001b[43mA\u001b[49m\u001b[38;5;241;43m.\u001b[39;49m\u001b[43mshape\u001b[49m\u001b[43m[\u001b[49m\u001b[38;5;241;43m2\u001b[39;49m\u001b[43m]\u001b[49m\u001b[43m)\u001b[49m\u001b[43m,\u001b[49m\n\u001b[1;32m    106\u001b[0m \u001b[43m                                                                              \u001b[49m\u001b[43msub_volume\u001b[49m\u001b[38;5;241;43m=\u001b[39;49m\u001b[43mblock_size\u001b[49m\u001b[43m,\u001b[49m\n\u001b[1;32m    107\u001b[0m \u001b[43m                                                                              \u001b[49m\u001b[43moverlap\u001b[49m\u001b[38;5;241;43m=\u001b[39;49m\u001b[43m(\u001b[49m\u001b[38;5;241;43m8\u001b[39;49m\u001b[43m,\u001b[49m\u001b[43m \u001b[49m\u001b[38;5;241;43m8\u001b[39;49m\u001b[43m,\u001b[49m\u001b[43m \u001b[49m\u001b[38;5;241;43m8\u001b[39;49m\u001b[43m)\u001b[49m\u001b[43m,\u001b[49m\n\u001b[1;32m    108\u001b[0m \u001b[43m                                                                              \u001b[49m\u001b[43mthreadsperblock\u001b[49m\u001b[38;5;241;43m=\u001b[39;49m\u001b[43m(\u001b[49m\u001b[38;5;241;43m8\u001b[39;49m\u001b[43m,\u001b[49m\u001b[43m \u001b[49m\u001b[38;5;241;43m8\u001b[39;49m\u001b[43m,\u001b[49m\u001b[43m \u001b[49m\u001b[38;5;241;43m8\u001b[39;49m\u001b[43m)\u001b[49m\n\u001b[1;32m    109\u001b[0m \u001b[43m                                                                             \u001b[49m\u001b[43m)\u001b[49m\n\u001b[1;32m    110\u001b[0m   \u001b[38;5;28mprint\u001b[39m(\u001b[38;5;124m\"\u001b[39m\u001b[38;5;124mmin flow\u001b[39m\u001b[38;5;124m\"\u001b[39m, np\u001b[38;5;241m.\u001b[39mmin(output_vx), np\u001b[38;5;241m.\u001b[39mmin(output_vy), np\u001b[38;5;241m.\u001b[39mmin(output_vz))\n\u001b[1;32m    111\u001b[0m   \u001b[38;5;28mprint\u001b[39m(\u001b[38;5;124m\"\u001b[39m\u001b[38;5;124maverage abs(flow)\u001b[39m\u001b[38;5;124m\"\u001b[39m, np\u001b[38;5;241m.\u001b[39maverage(np\u001b[38;5;241m.\u001b[39mabs(output_vx)), np\u001b[38;5;241m.\u001b[39maverage(np\u001b[38;5;241m.\u001b[39mabs(output_vy)), np\u001b[38;5;241m.\u001b[39maverage(np\u001b[38;5;241m.\u001b[39mabs(output_vz)))\n",
      "File \u001b[0;32m/shared/PEs/OF3D/lib/python3.10/site-packages/opticalflow3D/opticalflow3D.py:157\u001b[0m, in \u001b[0;36mFarneback3D.calculate_flow\u001b[0;34m(self, image1, image2, start_point, total_vol, sub_volume, overlap, threadsperblock)\u001b[0m\n\u001b[1;32m    155\u001b[0m                 pinned_mempool\u001b[38;5;241m.\u001b[39mfree_all_blocks()\n\u001b[1;32m    156\u001b[0m \u001b[38;5;28;01melse\u001b[39;00m:\n\u001b[0;32m--> 157\u001b[0m     \u001b[38;5;28;01mwith\u001b[39;00m cp\u001b[38;5;241m.\u001b[39mcuda\u001b[38;5;241m.\u001b[39mDevice(\u001b[38;5;28mself\u001b[39m\u001b[38;5;241m.\u001b[39mdevice_id):\n\u001b[1;32m    158\u001b[0m         vx, vy, vz, confidence \u001b[38;5;241m=\u001b[39m farneback_3d(image1, image2,\n\u001b[1;32m    159\u001b[0m                                               iters\u001b[38;5;241m=\u001b[39m\u001b[38;5;28mself\u001b[39m\u001b[38;5;241m.\u001b[39miters,\n\u001b[1;32m    160\u001b[0m                                               num_levels\u001b[38;5;241m=\u001b[39m\u001b[38;5;28mself\u001b[39m\u001b[38;5;241m.\u001b[39mnum_levels,\n\u001b[0;32m   (...)\u001b[0m\n\u001b[1;32m    164\u001b[0m                                               presmoothing\u001b[38;5;241m=\u001b[39m\u001b[38;5;28mself\u001b[39m\u001b[38;5;241m.\u001b[39mpresmoothing,\n\u001b[1;32m    165\u001b[0m                                               threadsperblock\u001b[38;5;241m=\u001b[39mthreadsperblock)\n\u001b[1;32m    166\u001b[0m     cp\u001b[38;5;241m.\u001b[39mcuda\u001b[38;5;241m.\u001b[39mStream\u001b[38;5;241m.\u001b[39mnull\u001b[38;5;241m.\u001b[39msynchronize()\n",
      "File \u001b[0;32mcupy/cuda/device.pyx:183\u001b[0m, in \u001b[0;36mcupy.cuda.device.Device.__enter__\u001b[0;34m()\u001b[0m\n",
      "File \u001b[0;32mcupy_backends/cuda/api/runtime.pyx:169\u001b[0m, in \u001b[0;36mcupy_backends.cuda.api.runtime.getDevice\u001b[0;34m()\u001b[0m\n",
      "File \u001b[0;32mcupy_backends/cuda/api/runtime.pyx:142\u001b[0m, in \u001b[0;36mcupy_backends.cuda.api.runtime.check_status\u001b[0;34m()\u001b[0m\n",
      "\u001b[0;31mCUDARuntimeError\u001b[0m: cudaErrorCompatNotSupportedOnDevice: forward compatibility was attempted on non supported HW"
     ]
    }
   ],
   "source": [
    "RS_sigma = 2.0\n",
    "N_iters = 25\n",
    "window_side = 5\n",
    "N_poly = 9\n",
    "denoised = denoiser.filter_volume(noisy, std_dev=RS_sigma, window_side=window_side, N_poly=N_poly, N_iters=N_iters, block_size=block_size)\n",
    "\n",
    "#denoised = RSIVD.filter(farneback, block_size, noisy, RS_sigma=RS_sigma, N_iters=20)"
   ]
  },
  {
   "cell_type": "code",
   "execution_count": null,
   "id": "db82a856-2708-466a-a53b-aee7cb7d32ac",
   "metadata": {},
   "outputs": [],
   "source": [
    "fig, axs = plt.subplots(1, 2, figsize=(16, 32))\n",
    "slice_idx = noisy.shape[0]//2\n",
    "axs[0].imshow(noisy[slice_idx], cmap=\"gray\")\n",
    "axs[0].set_title(f\"Noisy\")\n",
    "axs[1].imshow(denoised[slice_idx], cmap=\"gray\")\n",
    "axs[1].set_title(f\"Denoised (DQI={information_theory.information.compute_quality_index(noisy[slice_idx], denoised[slice_idx])})\")\n",
    "fig.tight_layout()\n",
    "plt.show()"
   ]
  },
  {
   "cell_type": "code",
   "execution_count": null,
   "id": "829b4f5b-39a2-4c3f-a4aa-f973c46504ce",
   "metadata": {},
   "outputs": [],
   "source": [
    "fig, axs = plt.subplots(1, 2, figsize=(16, 32))\n",
    "slice_idx = noisy.shape[1]//2\n",
    "axs[0].imshow(noisy[:, slice_idx], cmap=\"gray\")\n",
    "axs[0].set_title(f\"Noisy\")\n",
    "axs[1].imshow(denoised[:, slice_idx], cmap=\"gray\")\n",
    "axs[1].set_title(f\"Denoised (DQI={information_theory.information.compute_quality_index(noisy[:, slice_idx], denoised[:, slice_idx])})\")\n",
    "fig.tight_layout()\n",
    "plt.show()"
   ]
  },
  {
   "cell_type": "code",
   "execution_count": null,
   "id": "4211b567-ec27-4deb-8615-a840745f4628",
   "metadata": {},
   "outputs": [],
   "source": [
    "fig, axs = plt.subplots(1, 2, figsize=(16, 32))\n",
    "slice_idx = noisy.shape[2]//2\n",
    "axs[0].imshow(noisy[:, :, slice_idx], cmap=\"gray\")\n",
    "axs[0].set_title(f\"Noisy\")\n",
    "axs[1].imshow(denoised[:, :, slice_idx], cmap=\"gray\")\n",
    "axs[1].set_title(f\"Denoised (DQI={information_theory.information.compute_quality_index(noisy[:, :, slice_idx], denoised[:, :, slice_idx])})\")\n",
    "fig.tight_layout()\n",
    "plt.show()"
   ]
  },
  {
   "cell_type": "code",
   "execution_count": null,
   "id": "079da8f2-c5b1-41a1-bd9a-5e75595f2af6",
   "metadata": {},
   "outputs": [],
   "source": [
    "figure(figsize=(32, 32))\n",
    "plt.subplot(1, 3, 1)\n",
    "plt.title(\"original\")\n",
    "slice_idx = noisy.shape[0]//2\n",
    "imgplot = plt.imshow(noisy[slice_idx][::-1, :], cmap=\"gray\")\n",
    "plt.subplot(1, 3, 2)\n",
    "plt.title(\"$\\sigma_\\mathrm{RS}=$\"+f\"{RS_sigma}\")\n",
    "plt.imshow(denoised[slice_idx][::-1, :], cmap=\"gray\")\n",
    "plt.subplot(1, 3, 3)\n",
    "plt.title(\"difference\")\n",
    "plt.imshow(noisy[slice_idx][::-1, :] - denoised[slice_idx][::-1, :], cmap=\"gray\")"
   ]
  },
  {
   "cell_type": "code",
   "execution_count": null,
   "id": "0755d557-5914-443a-a9bc-c21a473a3eae",
   "metadata": {},
   "outputs": [],
   "source": [
    "with mrcfile.new(f\"{fn}_{RS_sigma}_{N_iters}.mrc\", overwrite=True) as mrc:\n",
    "            mrc.set_data(denoised.astype(np.float32))\n",
    "            mrc.data\n",
    "#skimage.io.imsave(f\"{args.output}_{RS_sigma}_{N_iters}.tif\", denoised, imagej=True)\n",
    "f\"{fn}_{RS_sigma}_{N_iters}.mrc\""
   ]
  },
  {
   "cell_type": "code",
   "execution_count": null,
   "id": "680b9c5d-89e3-4dda-a374-18b39c76eedb",
   "metadata": {},
   "outputs": [],
   "source": [
    "input()"
   ]
  },
  {
   "cell_type": "code",
   "execution_count": null,
   "id": "9af50ac2-d2c9-49dc-b47d-31cc3195cfa1",
   "metadata": {},
   "outputs": [],
   "source": [
    "skimage.io.imsave(f\"{vol_name}_denoised_{RS_sigma}.tif\", denoised_vol, imagej=True)"
   ]
  },
  {
   "cell_type": "code",
   "execution_count": null,
   "id": "64b31c4b-8e86-48ae-82e1-d0a43da532a0",
   "metadata": {},
   "outputs": [],
   "source": [
    "img = skimage.io.imread(\"http://www.hpca.ual.es/~vruiz/images/barb.png\")#[:256, :256]"
   ]
  },
  {
   "cell_type": "code",
   "execution_count": null,
   "id": "faeb3ec8-744d-4698-adac-e106dd362943",
   "metadata": {},
   "outputs": [],
   "source": [
    "noisy_vol = np.stack([img]*32)"
   ]
  },
  {
   "cell_type": "code",
   "execution_count": null,
   "id": "654bd0a1-15f9-4865-9994-c398fba60cfd",
   "metadata": {},
   "outputs": [],
   "source": [
    "noisy_vol.shape"
   ]
  },
  {
   "cell_type": "code",
   "execution_count": null,
   "id": "95d7ee9c-6ab3-4c49-886e-f6b1cbf8a0b7",
   "metadata": {},
   "outputs": [],
   "source": [
    "mean = 0\n",
    "var = 1000\n",
    "sigma = var**0.5\n",
    "for i in range(noisy_vol.shape[0]):\n",
    "    noise = np.random.normal(mean,sigma,img.shape).reshape(img.shape)\n",
    "    noisy_vol[i] = np.clip(a=img.astype(np.float32) + noise, a_min=0, a_max=255).astype(np.uint8)"
   ]
  },
  {
   "cell_type": "code",
   "execution_count": null,
   "id": "f5dcf783-2322-4dfa-a3dc-50d71242d6b8",
   "metadata": {},
   "outputs": [],
   "source": [
    "farneback = opticalflow3D.Farneback3D(iters=5,\n",
    "                                      num_levels=3,\n",
    "                                      scale=0.5,\n",
    "                                      spatial_size=5,\n",
    "                                      presmoothing=2,\n",
    "                                      filter_type=\"box\",\n",
    "                                      filter_size=5,\n",
    "                                     )"
   ]
  },
  {
   "cell_type": "code",
   "execution_count": null,
   "id": "4016f92f-a994-49ba-b3a0-8bf1eb2ff1ab",
   "metadata": {},
   "outputs": [],
   "source": [
    "RS_sigma = 1.0\n",
    "denoised_vol = RSIVD.filter(farneback, block_size, noisy_vol, RS_sigma=RS_sigma, N_iters=30)"
   ]
  },
  {
   "cell_type": "code",
   "execution_count": null,
   "id": "68addb39-8cef-4ae3-9bc1-a36af26f1352",
   "metadata": {},
   "outputs": [],
   "source": [
    "figure(figsize=(32, 32))\n",
    "plt.subplot(1, 3, 1)\n",
    "plt.title(\"original\")\n",
    "imgplot = plt.imshow(noisy_vol[15], cmap=\"gray\")\n",
    "plt.subplot(1, 3, 2)\n",
    "plt.title(\"$\\sigma_\\mathrm{RS}=$\"+f\"{RS_sigma}\")\n",
    "plt.imshow(denoised_vol[15], cmap=\"gray\")\n",
    "plt.subplot(1, 3, 3)\n",
    "plt.title(\"difference\")\n",
    "plt.imshow(noisy_vol[15] - denoised_vol[15], cmap=\"gray\")"
   ]
  },
  {
   "cell_type": "code",
   "execution_count": null,
   "id": "7ed5db45-9d18-4eb1-b005-3f8209cb1e09",
   "metadata": {},
   "outputs": [],
   "source": [
    "RS_sigma = 1.0\n",
    "denoised_vol = RSIVD.filter(farneback, block_size, noisy_vol, RS_sigma=RS_sigma, N_iters=100)"
   ]
  },
  {
   "cell_type": "code",
   "execution_count": null,
   "id": "50515c13-18c3-482d-881d-0ddb94b71654",
   "metadata": {},
   "outputs": [],
   "source": [
    "figure(figsize=(32, 32))\n",
    "plt.subplot(1, 3, 1)\n",
    "plt.title(\"original\")\n",
    "imgplot = plt.imshow(noisy_vol[15], cmap=\"gray\")\n",
    "plt.subplot(1, 3, 2)\n",
    "plt.title(\"$\\sigma_\\mathrm{RS}=$\"+f\"{RS_sigma}\")\n",
    "plt.imshow(denoised_vol[15], cmap=\"gray\")\n",
    "plt.subplot(1, 3, 3)\n",
    "plt.title(\"difference\")\n",
    "plt.imshow(noisy_vol[15] - denoised_vol[15], cmap=\"gray\")"
   ]
  },
  {
   "cell_type": "code",
   "execution_count": null,
   "id": "f3142a6e-6072-433a-9567-ba510f86ce1e",
   "metadata": {},
   "outputs": [],
   "source": [
    "RS_sigma = 2.0\n",
    "denoised_vol = RSIVD.filter(farneback, block_size, noisy_vol, RS_sigma=RS_sigma, N_iters=30)"
   ]
  },
  {
   "cell_type": "code",
   "execution_count": null,
   "id": "223e44bb-cebb-40b3-b097-e3081dc70a4e",
   "metadata": {},
   "outputs": [],
   "source": [
    "figure(figsize=(32, 32))\n",
    "plt.subplot(1, 3, 1)\n",
    "plt.title(\"original\")\n",
    "imgplot = plt.imshow(noisy_vol[15], cmap=\"gray\")\n",
    "plt.subplot(1, 3, 2)\n",
    "plt.title(\"$\\sigma_\\mathrm{RS}=$\"+f\"{RS_sigma}\")\n",
    "plt.imshow(denoised_vol[15], cmap=\"gray\")\n",
    "plt.subplot(1, 3, 3)\n",
    "plt.title(\"difference\")\n",
    "plt.imshow(noisy_vol[15] - denoised_vol[15], cmap=\"gray\")"
   ]
  },
  {
   "cell_type": "code",
   "execution_count": null,
   "id": "3f8fb010-4a86-49cc-9757-253ca5b6fe9a",
   "metadata": {},
   "outputs": [],
   "source": [
    "RS_sigma = 3.0\n",
    "denoised_vol = RSIVD.filter(farneback, block_size, noisy_vol, RS_sigma=RS_sigma, N_iters=30)"
   ]
  },
  {
   "cell_type": "code",
   "execution_count": null,
   "id": "8a4fc490-9b49-47bf-9d54-de7c6a180fa4",
   "metadata": {},
   "outputs": [],
   "source": [
    "figure(figsize=(32, 32))\n",
    "plt.subplot(1, 3, 1)\n",
    "plt.title(\"original\")\n",
    "imgplot = plt.imshow(noisy_vol[15], cmap=\"gray\")\n",
    "plt.subplot(1, 3, 2)\n",
    "plt.title(\"$\\sigma_\\mathrm{RS}=$\"+f\"{RS_sigma}\")\n",
    "plt.imshow(denoised_vol[15], cmap=\"gray\")\n",
    "plt.subplot(1, 3, 3)\n",
    "plt.title(\"difference\")\n",
    "plt.imshow(noisy_vol[15] - denoised_vol[15], cmap=\"gray\")"
   ]
  },
  {
   "cell_type": "code",
   "execution_count": null,
   "id": "5e6f6df4-7606-45b3-bb2f-4d0c1bf601bc",
   "metadata": {},
   "outputs": [],
   "source": [
    "#skimage.io.imsave(f\"{vol_name}_denoised_{RS_sigma}.tif\", denoised_vol, imagej=True)"
   ]
  }
 ],
 "metadata": {
  "accelerator": "GPU",
  "colab": {
   "gpuType": "T4",
   "provenance": []
  },
  "kernelspec": {
   "display_name": "Python (OF3D)",
   "language": "python",
   "name": "of3d"
  },
  "language_info": {
   "codemirror_mode": {
    "name": "ipython",
    "version": 3
   },
   "file_extension": ".py",
   "mimetype": "text/x-python",
   "name": "python",
   "nbconvert_exporter": "python",
   "pygments_lexer": "ipython3",
   "version": "3.10.10"
  }
 },
 "nbformat": 4,
 "nbformat_minor": 5
}
