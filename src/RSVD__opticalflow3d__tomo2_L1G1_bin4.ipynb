{
 "cells": [
  {
   "cell_type": "markdown",
   "id": "24a2b9b0-569f-4f0a-a83c-7ab9c893b3a4",
   "metadata": {},
   "source": [
    "# Random Shaking Volume Denoising (RSVD) using opticalflow3d (tomo2_L1G1_bin4)"
   ]
  },
  {
   "cell_type": "code",
   "execution_count": null,
   "id": "f76ce7eb-2add-4885-a483-59c29743cfff",
   "metadata": {},
   "outputs": [],
   "source": [
    "local_debug = True"
   ]
  },
  {
   "cell_type": "code",
   "execution_count": null,
   "id": "7be42efa-1e36-4eb8-8d10-5d5f7e7e47d3",
   "metadata": {},
   "outputs": [],
   "source": [
    "try:\n",
    "    import google.colab\n",
    "    IN_COLAB = True\n",
    "except:\n",
    "    IN_COLAB = False\n",
    "\n",
    "if IN_COLAB:\n",
    "    print(\"Running in Colab\")\n",
    "    !pip install cupy-cuda12x\n",
    "    !pip install opticalflow3D\n",
    "    !apt install libcudart11.0\n",
    "    !apt install libcublas11\n",
    "    !apt install libcufft10\n",
    "    !apt install libcusparse11\n",
    "    !apt install libnvrtc11.2\n",
    "    from google.colab import drive\n",
    "    drive.mount('/content/drive')\n",
    "    !cp drive/Shareddrives/TomogramDenoising/tomograms/{vol_name}.tif .\n",
    "else:\n",
    "    print(\"Running in locahost\")\n",
    "    !cp ~/Downloads/{vol_name}.tif ."
   ]
  },
  {
   "cell_type": "code",
   "execution_count": null,
   "id": "2a9f2718-d2d2-4d2b-bf30-bfa5388c65e2",
   "metadata": {},
   "outputs": [],
   "source": [
    "%matplotlib inline\n",
    "import matplotlib.pyplot as plt\n",
    "from matplotlib.pyplot import figure"
   ]
  },
  {
   "cell_type": "code",
   "execution_count": null,
   "id": "7c06b590-10ce-40e1-a392-452595c610a3",
   "metadata": {},
   "outputs": [],
   "source": [
    "from denoising.volume.OFRSVD import Random_Shaking_Denoising # pip install denoising \" @ git+https://github.com/vicente-gonzalez-ruiz/denoising\""
   ]
  },
  {
   "cell_type": "code",
   "execution_count": null,
   "id": "01440732-ffbe-474e-b3f9-82d3023af5bb",
   "metadata": {},
   "outputs": [],
   "source": [
    "if local_debug:\n",
    "    !ln -sf ../../information_theory/src/information_theory/ .\n",
    "else:\n",
    "    !pip install \"information_theory @ git+https://github.com/vicente-gonzalez-ruiz/information_theory\"\n",
    "import information_theory  # pip install \"information_theory @ git+https://github.com/vicente-gonzalez-ruiz/information_theory\""
   ]
  },
  {
   "cell_type": "code",
   "execution_count": null,
   "id": "e63762aa-acc9-4e7c-a855-92fe59fb2900",
   "metadata": {},
   "outputs": [],
   "source": [
    "import skimage.io"
   ]
  },
  {
   "cell_type": "code",
   "execution_count": null,
   "id": "76e7178c-fa1f-4b44-a9bd-30e178692cce",
   "metadata": {},
   "outputs": [],
   "source": [
    "import numpy as np"
   ]
  },
  {
   "cell_type": "code",
   "execution_count": null,
   "id": "4834c100-f071-45d4-8d2a-481d7be08066",
   "metadata": {},
   "outputs": [],
   "source": [
    "from collections import namedtuple\n",
    "Args = namedtuple(\"args\", [\"input\", \"output\"])\n",
    "args = Args(\"/home/vruiz/cryoCARE/tomo2_L1G1_bin4.rec\", \"denoised\")"
   ]
  },
  {
   "cell_type": "code",
   "execution_count": null,
   "id": "6b240e43-db9a-4f2b-b413-30e10ce81b74",
   "metadata": {},
   "outputs": [],
   "source": [
    "import mrcfile\n",
    "stack_MRC = mrcfile.open(args.input)\n",
    "noisy = stack_MRC.data#[:, ::-1, :]"
   ]
  },
  {
   "cell_type": "markdown",
   "id": "bd839872-5f56-4911-abdb-f35adda013b3",
   "metadata": {},
   "source": [
    "%%bash -s \"$args.input\"\n",
    "set -x\n",
    "OUTPUT_FILENAME=$1\n",
    "#rm -f $OUTPUT_FILENAME\n",
    "if test ! -f $OUTPUT_FILENAME ; then\n",
    "    FILEID=\"1I2uIfM00ZNeMjYy4OeZ4hSO-bxpE3oZb\"\n",
    "    gdown https://drive.google.com/uc?id=$FILEID\n",
    "fi\n",
    "set +x\n",
    "# https://drive.google.com/file/d/1I2uIfM00ZNeMjYy4OeZ4hSO-bxpE3oZb/view?usp=sharing"
   ]
  },
  {
   "cell_type": "markdown",
   "id": "305edbd0-490a-409a-9f4c-687d295c64e6",
   "metadata": {
    "id": "I6Fx1j23clAd"
   },
   "source": [
    "noisy = opticalflow3D.helpers.load_image(args.input)"
   ]
  },
  {
   "cell_type": "code",
   "execution_count": null,
   "id": "2f646e91-6da3-4d20-8e50-7890de42135b",
   "metadata": {},
   "outputs": [],
   "source": [
    "np.min(noisy)"
   ]
  },
  {
   "cell_type": "code",
   "execution_count": null,
   "id": "f9a2cb8a-cda2-49d0-beea-00380f4f8c69",
   "metadata": {},
   "outputs": [],
   "source": [
    "np.max(noisy)"
   ]
  },
  {
   "cell_type": "code",
   "execution_count": null,
   "id": "b50e60f7-cb24-49d1-9a59-fd64ba4f4e06",
   "metadata": {},
   "outputs": [],
   "source": [
    "noisy = (255*(noisy.astype(np.float32) - np.min(noisy))/(np.max(noisy) - np.min(noisy))).astype(np.uint8)"
   ]
  },
  {
   "cell_type": "code",
   "execution_count": null,
   "id": "847adedf-f639-48a4-a122-c6a208c237de",
   "metadata": {},
   "outputs": [],
   "source": [
    "np.min(noisy)"
   ]
  },
  {
   "cell_type": "code",
   "execution_count": null,
   "id": "4e6e4253-4ce1-4570-b15c-08168b503b71",
   "metadata": {},
   "outputs": [],
   "source": [
    "np.max(noisy)"
   ]
  },
  {
   "cell_type": "code",
   "execution_count": null,
   "id": "49482575-4a21-4de7-aada-fe637eb2a1d6",
   "metadata": {},
   "outputs": [],
   "source": [
    "#noisy = noisy[230:250, 450:760, 210:510]\n",
    "#noisy = noisy[180:220, 400:800, 200:600]\n",
    "noisy = noisy[noisy.shape[0]//2-10:noisy.shape[0]//2+10, :, :]"
   ]
  },
  {
   "cell_type": "code",
   "execution_count": null,
   "id": "de188628-fa34-41d3-b379-5e999ae4625f",
   "metadata": {},
   "outputs": [],
   "source": [
    "noisy.shape"
   ]
  },
  {
   "cell_type": "code",
   "execution_count": null,
   "id": "a1023a3c-ec88-42fa-9283-6b25bb8cd2ff",
   "metadata": {},
   "outputs": [],
   "source": [
    "fig, axs = plt.subplots(1, 1, figsize=(16, 16))\n",
    "axs.imshow(noisy[noisy.shape[0]//2], cmap=\"gray\")\n",
    "axs.set_title(f\"Noisy\")\n",
    "fig.tight_layout()\n",
    "plt.show()"
   ]
  },
  {
   "cell_type": "code",
   "execution_count": null,
   "id": "f905895f-40da-4ef0-b2cf-b41680e8531c",
   "metadata": {},
   "outputs": [],
   "source": [
    "block_size = (noisy.shape[0], noisy.shape[1], noisy.shape[2])\n",
    "#block_size = (noisy.shape[0]//2, noisy.shape[1]//2, noisy.shape[2]//4)\n",
    "print(block_size)"
   ]
  },
  {
   "cell_type": "markdown",
   "id": "92cb677c-f8b0-47c4-a20c-be7e0491984d",
   "metadata": {
    "colab": {
     "base_uri": "https://localhost:8080/",
     "height": 211
    },
    "id": "7ab782f1-6053-4d91-8ba7-3220d3332f44",
    "outputId": "e8f03c08-8eb1-4ab3-f854-c360edd8082a"
   },
   "source": [
    "# num_levels: si crece, aumenta el filtrado\n",
    "# spatial_size: si crece, aumenta el filtrado\n",
    "# filter_size: si crece, decrece el filtrado\n",
    "\n",
    "#farneback = opticalflow3D.Farneback3D(iters=5, num_levels=3, scale=0.5, spatial_size=7, presmoothing=3, filter_type=\"gaussian\", filter_size=7,); RS_sigma = 1.0\n",
    "farneback = opticalflow3D.Farneback3D(iters=1, num_levels=1, scale=0.5, spatial_size=5, sigma_k=1.0, filter_type=\"gaussian\", filter_size=11, presmoothing=None, device_id=0); RS_sigma = 0.50; N_iters=25\n",
    "farneback = opticalflow3D.Farneback3D(iters=1, num_levels=1, scale=0.5, spatial_size=7, sigma_k=1.0, filter_type=\"gaussian\", filter_size=7, presmoothing=None, device_id=0); RS_sigma = 0.75; N_iters=50\n",
    "farneback = opticalflow3D.Farneback3D(iters=2, num_levels=1, scale=0.5, spatial_size=7, sigma_k=1.0, filter_type=\"gaussian\", filter_size=7, presmoothing=None, device_id=0); RS_sigma = 0.75; N_iters=50\n",
    "farneback = opticalflow3D.Farneback3D(iters=5, num_levels=1, scale=0.5, spatial_size=6, sigma_k=1.0, filter_type=\"gaussian\", filter_size=6, presmoothing=None, device_id=0); RS_sigma = 1.25; N_iters=50\n",
    "farneback = opticalflow3D.Farneback3D(iters=5, num_levels=1, scale=0.5, spatial_size=6, sigma_k=1.0, filter_type=\"gaussian\", filter_size=6, presmoothing=None, device_id=0); RS_sigma = 1.25; N_iters=25\n",
    "farneback = opticalflow3D.Farneback3D(iters=5, num_levels=1, scale=0.5, spatial_size=6, sigma_k=1.0, filter_type=\"gaussian\", filter_size=5, presmoothing=None, device_id=0); RS_sigma = 1.25; N_iters=25\n",
    "farneback = opticalflow3D.Farneback3D(iters=5, num_levels=1, scale=0.5, spatial_size=6, sigma_k=1.0, filter_type=\"gaussian\", filter_size=7, presmoothing=None, device_id=0); RS_sigma = 1.5; N_iters=25\n",
    "farneback = opticalflow3D.Farneback3D(iters=5, num_levels=1, scale=0.5, spatial_size=6, sigma_k=1.0, filter_type=\"gaussian\", filter_size=6, presmoothing=3, device_id=0); RS_sigma = 1.25; N_iters=25\n",
    "farneback = opticalflow3D.Farneback3D(iters=5, num_levels=1, scale=0.5, spatial_size=9, sigma_k=1.0, filter_type=\"gaussian\", filter_size=7, presmoothing=None, device_id=0); RS_sigma = 1.75; N_iters=25\n",
    "farneback = opticalflow3D.Farneback3D(iters=5, num_levels=2, scale=0.5, spatial_size=9, sigma_k=1.0, filter_type=\"gaussian\", filter_size=7, presmoothing=None, device_id=0); RS_sigma = 2.0; N_iters=10\n",
    "farneback = opticalflow3D.Farneback3D(iters=5, num_levels=1, scale=0.5, spatial_size=9, sigma_k=1.0, filter_type=\"gaussian\", filter_size=7, presmoothing=None, device_id=0); RS_sigma = 1.5; N_iters=25\n",
    "farneback = opticalflow3D.Farneback3D(iters=5, num_levels=1, scale=0.5, spatial_size=5, sigma_k=1.0, filter_type=\"gaussian\", filter_size=7, presmoothing=None, device_id=0); RS_sigma = 1.5; N_iters=10\n",
    "farneback = opticalflow3D.Farneback3D(iters=5, num_levels=1, scale=0.5, spatial_size=9, sigma_k=1.0, filter_type=\"gaussian\", filter_size=9, presmoothing=None, device_id=0); RS_sigma = 1.5; N_iters=10\n",
    "farneback = opticalflow3D.Farneback3D(iters=5, num_levels=3, scale=0.5, spatial_size=5, sigma_k=1.0, filter_type=\"gaussian\", filter_size=7, presmoothing=None, device_id=0); RS_sigma = 1.5; N_iters=10\n",
    "farneback = opticalflow3D.Farneback3D(iters=5, num_levels=3, scale=0.5, spatial_size=5, sigma_k=1.0, filter_type=\"gaussian\", filter_size=17, presmoothing=None, device_id=0); RS_sigma = 1.5; N_iters=10\n",
    "farneback = opticalflow3D.Farneback3D(iters=5, num_levels=3, scale=0.5, spatial_size=5, sigma_k=1.0, filter_type=\"gaussian\", filter_size=11, presmoothing=3, device_id=0); RS_sigma = 2.0; N_iters=25 # Bueno\n",
    "farneback = opticalflow3D.Farneback3D(iters=5, num_levels=3, scale=0.5, spatial_size=5, sigma_k=1.0, filter_type=\"gaussian\", filter_size=11, presmoothing=None, device_id=0); RS_sigma = 2.0; N_iters=25 # Bueno"
   ]
  },
  {
   "cell_type": "code",
   "execution_count": null,
   "id": "8e4fcc89-4167-4af8-a9c5-cfe07098a64d",
   "metadata": {},
   "outputs": [],
   "source": [
    "RS_std_dev = 2.0\n",
    "N_iters = 25"
   ]
  },
  {
   "cell_type": "code",
   "execution_count": null,
   "id": "4c5de238-e1d1-415c-88d0-0ab7c5720900",
   "metadata": {},
   "outputs": [],
   "source": [
    "denoiser = Random_Shaking_Denoising()\n",
    "denoised = denoiser.filter_volume(noisy, std_dev=RS_std_dev, N_iters=N_iters, block_size=block_size)"
   ]
  },
  {
   "cell_type": "code",
   "execution_count": null,
   "id": "821bc491-450a-4631-aca9-3e163eae3940",
   "metadata": {
    "scrolled": true
   },
   "outputs": [],
   "source": [
    "fig, axs = plt.subplots(1, 2, figsize=(32, 64))\n",
    "#axs[0].imshow(noisy[:, ::-1, :][210][400:800, 200:600], cmap=\"gray\")\n",
    "axs[0].imshow(noisy[:, ::-1, :][noisy.shape[0]//2], cmap=\"gray\")\n",
    "axs[0].set_title(f\"Noisy\")\n",
    "#axs[1].imshow(denoised[:, ::-1, :][210][400:800, 200:600], cmap=\"gray\")\n",
    "axs[1].imshow(denoised[:, ::-1, :][noisy.shape[0]//2], cmap=\"gray\")\n",
    "axs[1].set_title(f\"Denoised (DQI={information_theory.information.compute_quality_index(noisy[16], denoised[16])})\")\n",
    "fig.tight_layout()\n",
    "plt.show()"
   ]
  },
  {
   "cell_type": "code",
   "execution_count": null,
   "id": "4c289e6a-a45d-4dd2-aecb-2e43c4fd9a0c",
   "metadata": {},
   "outputs": [],
   "source": [
    "print(f\"{args.output}_{RS_std_dev}_{N_iters}.mrc\")\n",
    "with mrcfile.new(f\"{args.output}_{RS_std_dev}_{N_iters}.mrc\", overwrite=True) as mrc:\n",
    "            mrc.set_data(denoised.astype(np.float32))\n",
    "            mrc.data\n",
    "skimage.io.imsave(f\"{args.output}_{RS_std_dev}_{N_iters}.tif\", denoised, imagej=True)"
   ]
  }
 ],
 "metadata": {
  "accelerator": "GPU",
  "colab": {
   "gpuType": "T4",
   "provenance": []
  },
  "kernelspec": {
   "display_name": "Python 3 (ipykernel)",
   "language": "python",
   "name": "python3"
  },
  "language_info": {
   "codemirror_mode": {
    "name": "ipython",
    "version": 3
   },
   "file_extension": ".py",
   "mimetype": "text/x-python",
   "name": "python",
   "nbconvert_exporter": "python",
   "pygments_lexer": "ipython3",
   "version": "3.10.12"
  }
 },
 "nbformat": 4,
 "nbformat_minor": 5
}
