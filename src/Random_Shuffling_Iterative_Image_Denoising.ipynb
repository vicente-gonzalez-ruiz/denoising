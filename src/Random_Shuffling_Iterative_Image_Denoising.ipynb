{
 "cells": [
  {
   "cell_type": "markdown",
   "metadata": {
    "id": "QqfKxC0KuCzK"
   },
   "source": [
    "# Iterative random shuffling image denoising"
   ]
  },
  {
   "cell_type": "code",
   "execution_count": null,
   "metadata": {
    "id": "IIUxh4uStrQJ"
   },
   "outputs": [],
   "source": [
    "import numpy as np\n",
    "import scipy.ndimage\n",
    "import matplotlib.pyplot as plt\n",
    "#from ipywidgets import *\n",
    "import cv2\n",
    "import time\n",
    "#import kernels\n",
    "from skimage import io as skimage_io\n",
    "from skimage.metrics import structural_similarity as ssim\n",
    "from scipy import stats\n",
    "import math"
   ]
  },
  {
   "cell_type": "code",
   "execution_count": null,
   "metadata": {},
   "outputs": [],
   "source": [
    "img = skimage_io.imread(\"http://www.hpca.ual.es/~vruiz/images/barb.png\")"
   ]
  },
  {
   "cell_type": "code",
   "execution_count": null,
   "metadata": {},
   "outputs": [],
   "source": [
    "plt.imshow(img, cmap=\"gray\")"
   ]
  },
  {
   "cell_type": "code",
   "execution_count": null,
   "metadata": {},
   "outputs": [],
   "source": [
    "plt.imshow(cv2.fastNlMeansDenoising(img, None, h=14, templateWindowSize=7, searchWindowSize=21), cmap=\"gray\")"
   ]
  },
  {
   "cell_type": "code",
   "execution_count": null,
   "metadata": {},
   "outputs": [],
   "source": [
    "mean = 0\n",
    "var = 1000\n",
    "sigma = var**0.5\n",
    "noise = np.random.normal(mean,sigma,img.shape).reshape(img.shape)\n",
    "noisy_img = np.clip(a=img.astype(np.float32) + noise, a_min=0, a_max=255).astype(np.uint8)"
   ]
  },
  {
   "cell_type": "code",
   "execution_count": null,
   "metadata": {},
   "outputs": [],
   "source": [
    "plt.imshow(noisy_img, cmap=\"gray\")"
   ]
  },
  {
   "cell_type": "code",
   "execution_count": null,
   "metadata": {},
   "outputs": [],
   "source": [
    "def compute_quality_index(img, denoised_img):\n",
    "    diff_img = (img - denoised_img).astype(np.uint8)\n",
    "    _, N = ssim(img, diff_img, full=True)\n",
    "    #print(_)\n",
    "    _, P = ssim(img, denoised_img.astype(np.uint8), full=True)\n",
    "    #print(_)\n",
    "    quality, _ = stats.pearsonr(N.flatten(), P.flatten())\n",
    "    #print(\"quality\", quality)\n",
    "    if math.isnan(quality):\n",
    "        return 0.0\n",
    "    else:\n",
    "        return -quality"
   ]
  },
  {
   "cell_type": "code",
   "execution_count": null,
   "metadata": {},
   "outputs": [],
   "source": [
    "# Optimizing h\n",
    "prev_quality = -1\n",
    "for i in range(15, 30):\n",
    "    #denoised_img = cv2.fastNlMeansDenoising(img, None, 11, 6, 7, 21)\n",
    "    denoised_img = cv2.fastNlMeansDenoising(noisy_img, None, h=i, templateWindowSize=7, searchWindowSize=21)\n",
    "    quality = compute_quality_index(noisy_img, denoised_img)\n",
    "    if prev_quality > quality:\n",
    "        optimal_h = i - 1\n",
    "        break\n",
    "    plt.imshow(denoised_img, cmap=\"gray\")\n",
    "    plt.title(f\"{i} {quality}\")\n",
    "    plt.show()\n",
    "    prev_quality = quality\n",
    "\n",
    "print(\"optimal h\", optimal_h)"
   ]
  },
  {
   "cell_type": "code",
   "execution_count": null,
   "metadata": {},
   "outputs": [],
   "source": [
    "# Optimizing templateWindowSize\n",
    "prev_quality = -1\n",
    "for i in range(2, 22):\n",
    "    #denoised_img = cv2.fastNlMeansDenoising(img, None, 11, 6, 7, 21)\n",
    "    denoised_img = cv2.fastNlMeansDenoising(noisy_img, None, h=23, templateWindowSize=i, searchWindowSize=21)\n",
    "    quality = compute_quality_index(noisy_img, denoised_img)\n",
    "    if prev_quality > quality:\n",
    "        optimal_templateWindowSize = i - 1\n",
    "        break\n",
    "    plt.imshow(denoised_img, cmap=\"gray\")\n",
    "    plt.title(f\"{i} {quality}\")\n",
    "    plt.show()\n",
    "    prev_quality = quality\n",
    "\n",
    "print(\"optimal templateWindowSize\", optimal_templateWindowSize)"
   ]
  },
  {
   "cell_type": "code",
   "execution_count": null,
   "metadata": {},
   "outputs": [],
   "source": [
    "# Optimizing searchWindowSize\n",
    "prev_quality = -1\n",
    "for i in range(3, 33):\n",
    "    #denoised_img = cv2.fastNlMeansDenoising(img, None, 11, 6, 7, 21)\n",
    "    denoised_img = cv2.fastNlMeansDenoising(noisy_img, None, h=23, templateWindowSize=3, searchWindowSize=i)\n",
    "    quality = compute_quality_index(noisy_img, denoised_img)\n",
    "    if prev_quality > quality:\n",
    "        optimal_searchWindowSize = i - 1\n",
    "        break\n",
    "    plt.imshow(denoised_img, cmap=\"gray\")\n",
    "    plt.title(f\"{i} {quality}\")\n",
    "    plt.show()\n",
    "    prev_quality = quality\n",
    "\n",
    "print(\"optimal searchWindowSize\", optimal_searchWindowSize)"
   ]
  },
  {
   "cell_type": "code",
   "execution_count": null,
   "metadata": {},
   "outputs": [],
   "source": [
    "denoised_img_fastNlMeans = cv2.fastNlMeansDenoising(noisy_img, None, h=23, templateWindowSize=3, searchWindowSize=9)"
   ]
  },
  {
   "cell_type": "code",
   "execution_count": null,
   "metadata": {},
   "outputs": [],
   "source": [
    "fig, axs = plt.subplots(1, 3, figsize=(16, 32))\n",
    "axs[0].imshow(img, cmap=\"gray\")\n",
    "axs[0].set_title(\"Original\")\n",
    "axs[1].imshow(noisy_img, cmap=\"gray\")\n",
    "axs[1].set_title(\"Noisy\")\n",
    "axs[2].imshow(denoised_img_fastNlMeans, cmap=\"gray\")\n",
    "axs[2].set_title(\"Denoised with fastNlMeans\")\n",
    "fig.tight_layout()\n",
    "plt.show()"
   ]
  },
  {
   "cell_type": "code",
   "execution_count": null,
   "metadata": {},
   "outputs": [],
   "source": [
    "import denoising.image.OF_iterative_random_shuffling as random_denoising"
   ]
  },
  {
   "cell_type": "code",
   "execution_count": null,
   "metadata": {},
   "outputs": [],
   "source": [
    "import logging"
   ]
  },
  {
   "cell_type": "code",
   "execution_count": null,
   "metadata": {},
   "outputs": [],
   "source": [
    "denoiser = random_denoising.Filter_Monochrome_Image(l=3, w=9, poly_sigma=0.5, poly_n=9, verbosity=logging.WARNING)\n",
    "denoised_img, _ = denoiser.filter(noisy_image=noisy_img, RS_sigma=2.5, GT=img, N_iters=25)\n",
    "fig, axs = plt.subplots(1, 3, figsize=(32, 32))\n",
    "axs[0].imshow(img, cmap=\"gray\")\n",
    "axs[0].set_title(\"Original\")\n",
    "axs[1].imshow(denoised_img_fastNlMeans, cmap=\"gray\")\n",
    "axs[1].set_title(\"fastNlMeans\")\n",
    "axs[2].imshow(denoised_img, cmap=\"gray\")\n",
    "axs[2].set_title(\"RSIID\")\n",
    "fig.tight_layout()\n",
    "plt.show()"
   ]
  },
  {
   "cell_type": "code",
   "execution_count": null,
   "metadata": {},
   "outputs": [],
   "source": [
    "# Optimizing RS_sigma\n",
    "prev_quality = -1\n",
    "for i in range(2, 30):\n",
    "    _i = i/10\n",
    "    denoiser = random_denoising.Filter_Monochrome_Image(l=3, w=7, poly_sigma=1.0, verbosity=logging.INFO)\n",
    "    denoised_img, _ = denoiser.filter(noisy_image=noisy_img, RS_sigma=_i, GT=img, N_iters=20)\n",
    "    quality = compute_quality_index(noisy_img, denoised_img)\n",
    "    if prev_quality > quality:\n",
    "        optimal_RS_sigma = _i - 0.1\n",
    "        break\n",
    "    plt.imshow(denoised_img, cmap=\"gray\")\n",
    "    plt.title(f\"{_i} {quality}\")\n",
    "    plt.show()\n",
    "    prev_quality = quality\n",
    "\n",
    "print(\"optimal RS_sigma\", optimal_RS_sigma)"
   ]
  },
  {
   "cell_type": "code",
   "execution_count": null,
   "metadata": {},
   "outputs": [],
   "source": [
    "fig, axs = plt.subplots(1, 3, figsize=(32, 32))\n",
    "axs[0].imshow(img, cmap=\"gray\")\n",
    "axs[0].set_title(\"Original\")\n",
    "axs[1].imshow(denoised_img_fastNlMeans, cmap=\"gray\")\n",
    "axs[1].set_title(\"fastNlMeans\")\n",
    "axs[2].imshow(denoised_img, cmap=\"gray\")\n",
    "axs[2].set_title(\"RSIID\")\n",
    "fig.tight_layout()\n",
    "plt.show()"
   ]
  },
  {
   "cell_type": "code",
   "execution_count": null,
   "metadata": {},
   "outputs": [],
   "source": [
    "# Optimizing poly_sigma\n",
    "prev_quality = -1\n",
    "for i in range(5, 30):\n",
    "    _i = i/10\n",
    "    denoiser = random_denoising.Filter_Monochrome_Image(l=3, w=5, poly_sigma=_i, verbosity=logging.INFO)\n",
    "    denoised_img, _ = denoiser.filter(noisy_image=noisy_img, RS_sigma=0.6, GT=img, N_iters=20)\n",
    "    quality = compute_quality_index(noisy_img, denoised_img)\n",
    "    if prev_quality > quality:\n",
    "        optimal_poly_sigma = _i - 0.1\n",
    "        break\n",
    "    plt.imshow(denoised_img, cmap=\"gray\")\n",
    "    plt.title(f\"{_i} {quality}\")\n",
    "    plt.show()\n",
    "    prev_quality = quality\n",
    "\n",
    "print(\"optimal poly_sigma\", optimal_poly_sigma)"
   ]
  },
  {
   "cell_type": "code",
   "execution_count": null,
   "metadata": {},
   "outputs": [],
   "source": [
    "fig, axs = plt.subplots(1, 3, figsize=(32, 32))\n",
    "axs[0].imshow(img, cmap=\"gray\")\n",
    "axs[0].set_title(\"Original\")\n",
    "axs[1].imshow(denoised_img_fastNlMeans, cmap=\"gray\")\n",
    "axs[1].set_title(\"fastNlMeans\")\n",
    "axs[2].imshow(denoised_img, cmap=\"gray\")\n",
    "axs[2].set_title(\"RSIID\")\n",
    "fig.tight_layout()\n",
    "plt.show()"
   ]
  },
  {
   "cell_type": "code",
   "execution_count": null,
   "metadata": {},
   "outputs": [],
   "source": [
    "input()"
   ]
  },
  {
   "cell_type": "code",
   "execution_count": null,
   "metadata": {},
   "outputs": [],
   "source": [
    "# Optimizing w\n",
    "prev_quality = -1\n",
    "for i in range(33, 3, -1):\n",
    "    denoiser = random_denoising.Filter_Monochrome_Image(l=3, w=i, poly_sigma=0.5, verbosity=logging.INFO)\n",
    "    denoised_img, _ = denoiser.filter(noisy_image=noisy_img, RS_sigma=0.6, GT=img, N_iters=20)\n",
    "    quality = compute_quality_index(noisy_img, denoised_img)\n",
    "    if prev_quality > quality:\n",
    "        optimal_w = i - 1\n",
    "        break\n",
    "    plt.imshow(denoised_img, cmap=\"gray\")\n",
    "    plt.title(f\"{i} {quality}\")\n",
    "    plt.show()\n",
    "    prev_quality = quality\n",
    "\n",
    "print(\"optimal w\", optimal_w)"
   ]
  },
  {
   "cell_type": "code",
   "execution_count": null,
   "metadata": {},
   "outputs": [],
   "source": [
    "fig, axs = plt.subplots(1, 3, figsize=(32, 32))\n",
    "axs[0].imshow(img, cmap=\"gray\")\n",
    "axs[0].set_title(\"Original\")\n",
    "axs[1].imshow(denoised_img_fastNlMeans, cmap=\"gray\")\n",
    "axs[1].set_title(\"fastNlMeans\")\n",
    "axs[2].imshow(denoised_img, cmap=\"gray\")\n",
    "axs[2].set_title(\"RSIID\")\n",
    "fig.tight_layout()\n",
    "plt.show()"
   ]
  },
  {
   "cell_type": "code",
   "execution_count": null,
   "metadata": {},
   "outputs": [],
   "source": [
    "input()"
   ]
  },
  {
   "cell_type": "code",
   "execution_count": null,
   "metadata": {},
   "outputs": [],
   "source": [
    "RS_sigma = 3.0"
   ]
  },
  {
   "cell_type": "code",
   "execution_count": null,
   "metadata": {},
   "outputs": [],
   "source": [
    "denoiser = random_denoising.Filter_Monochrome_Image(\n",
    "    l=3,\n",
    "    w=7,\n",
    "    poly_sigma=0.75,\n",
    "    verbosity=logging.INFO)"
   ]
  },
  {
   "cell_type": "code",
   "execution_count": null,
   "metadata": {},
   "outputs": [],
   "source": [
    "denoised_img, _ = denoiser.filter(noisy_image=noisy_img, RS_sigma=RS_sigma, GT=img, N_iters=20)"
   ]
  },
  {
   "cell_type": "code",
   "execution_count": null,
   "metadata": {},
   "outputs": [],
   "source": [
    "fig, axs = plt.subplots(1, 3, figsize=(32, 32))\n",
    "axs[0].imshow(img, cmap=\"gray\")\n",
    "axs[0].set_title(\"Original\")\n",
    "axs[1].imshow(noisy_img, cmap=\"gray\")\n",
    "axs[1].set_title(\"Noisy\")\n",
    "axs[2].imshow(denoised_img, cmap=\"gray\")\n",
    "axs[2].set_title(\"RSIID\")\n",
    "fig.tight_layout()\n",
    "plt.show()"
   ]
  },
  {
   "cell_type": "code",
   "execution_count": null,
   "metadata": {},
   "outputs": [],
   "source": [
    "fig, axs = plt.subplots(1, 3, figsize=(32, 32))\n",
    "axs[0].imshow(img, cmap=\"gray\")\n",
    "axs[0].set_title(\"Original\")\n",
    "axs[1].imshow(denoised_img_fastNlMeans, cmap=\"gray\")\n",
    "axs[1].set_title(\"fastNlMeans\")\n",
    "axs[2].imshow(denoised_img, cmap=\"gray\")\n",
    "axs[2].set_title(\"RSIID\")\n",
    "fig.tight_layout()\n",
    "plt.show()"
   ]
  },
  {
   "cell_type": "code",
   "execution_count": null,
   "metadata": {},
   "outputs": [],
   "source": [
    "input()"
   ]
  },
  {
   "cell_type": "code",
   "execution_count": null,
   "metadata": {},
   "outputs": [],
   "source": [
    "def compute_quality_index(img, denoised_img):\n",
    "    diff_img = (img - denoised_img).astype(np.uint8)\n",
    "    _, N = ssim(img, diff_img, full=True)\n",
    "    _, P = ssim(img, denoised_img.astype(np.uint8), full=True)\n",
    "    quality, _ = stats.pearsonr(N.flatten(), P.flatten())\n",
    "    return quality\n",
    "\n",
    "quality = compute_quality_index(img, denoised_img)\n",
    "print(quality)"
   ]
  },
  {
   "cell_type": "code",
   "execution_count": null,
   "metadata": {},
   "outputs": [],
   "source": [
    "denoised_img, _ = denoiser.filter(noisy_image=noisy_img, RS_sigma=1.0, GT=img, N_iters=5)"
   ]
  },
  {
   "cell_type": "code",
   "execution_count": null,
   "metadata": {},
   "outputs": [],
   "source": [
    "fig, axs = plt.subplots(1, 3, figsize=(16, 32))\n",
    "axs[0].imshow(img, cmap=\"gray\")\n",
    "axs[0].set_title(\"Original\")\n",
    "axs[1].imshow(noisy_img, cmap=\"gray\")\n",
    "axs[1].set_title(\"Noisy\")\n",
    "axs[2].imshow(denoised_img, cmap=\"gray\")\n",
    "axs[2].set_title(\"Denoised\")\n",
    "fig.tight_layout()\n",
    "plt.show()"
   ]
  },
  {
   "cell_type": "code",
   "execution_count": null,
   "metadata": {},
   "outputs": [],
   "source": [
    "quality = compute_quality_index(img, denoised_img)\n",
    "print(quality)"
   ]
  },
  {
   "cell_type": "code",
   "execution_count": null,
   "metadata": {},
   "outputs": [],
   "source": [
    "denoised_img, _ = denoiser.filter(noisy_image=noisy_img, RS_sigma=1.0, GT=img, N_iters=1)"
   ]
  },
  {
   "cell_type": "code",
   "execution_count": null,
   "metadata": {},
   "outputs": [],
   "source": [
    "fig, axs = plt.subplots(1, 3, figsize=(16, 32))\n",
    "axs[0].imshow(img, cmap=\"gray\")\n",
    "axs[0].set_title(\"Original\")\n",
    "axs[1].imshow(noisy_img, cmap=\"gray\")\n",
    "axs[1].set_title(\"Noisy\")\n",
    "axs[2].imshow(denoised_img, cmap=\"gray\")\n",
    "axs[2].set_title(\"Denoised\")\n",
    "fig.tight_layout()\n",
    "plt.show()"
   ]
  },
  {
   "cell_type": "code",
   "execution_count": null,
   "metadata": {},
   "outputs": [],
   "source": [
    "quality = compute_quality_index(img, denoised_img)\n",
    "print(quality)"
   ]
  },
  {
   "cell_type": "code",
   "execution_count": null,
   "metadata": {},
   "outputs": [],
   "source": [
    "denoised_img, _ = denoiser.filter(noisy_image=noisy_img, RS_sigma=1.0, GT=img, N_iters=50)"
   ]
  },
  {
   "cell_type": "code",
   "execution_count": null,
   "metadata": {},
   "outputs": [],
   "source": [
    "fig, axs = plt.subplots(1, 3, figsize=(16, 32))\n",
    "axs[0].imshow(img, cmap=\"gray\")\n",
    "axs[0].set_title(\"Original\")\n",
    "axs[1].imshow(noisy_img, cmap=\"gray\")\n",
    "axs[1].set_title(\"Noisy\")\n",
    "axs[2].imshow(denoised_img, cmap=\"gray\")\n",
    "axs[2].set_title(\"Denoised\")\n",
    "fig.tight_layout()\n",
    "plt.show()"
   ]
  },
  {
   "cell_type": "code",
   "execution_count": null,
   "metadata": {},
   "outputs": [],
   "source": [
    "quality = compute_quality_index(img, denoised_img)\n",
    "print(quality)"
   ]
  },
  {
   "cell_type": "code",
   "execution_count": null,
   "metadata": {},
   "outputs": [],
   "source": [
    "img = skimage_io.imread(\"http://www.hpca.ual.es/~vruiz/images/lena.png\")"
   ]
  },
  {
   "cell_type": "code",
   "execution_count": null,
   "metadata": {},
   "outputs": [],
   "source": [
    "plt.imshow(img)"
   ]
  },
  {
   "cell_type": "code",
   "execution_count": null,
   "metadata": {},
   "outputs": [],
   "source": [
    "mean = 0\n",
    "var = 1000\n",
    "sigma = var**0.5\n",
    "noise = np.random.normal(mean,sigma,img.shape).reshape(img.shape)\n",
    "noisy_img = np.clip(a=img.astype(np.float32) + noise, a_min=0, a_max=255).astype(np.uint8)"
   ]
  },
  {
   "cell_type": "code",
   "execution_count": null,
   "metadata": {},
   "outputs": [],
   "source": [
    "plt.imshow(noisy_img)"
   ]
  },
  {
   "cell_type": "code",
   "execution_count": null,
   "metadata": {},
   "outputs": [],
   "source": [
    "sigma = 1.0"
   ]
  },
  {
   "cell_type": "code",
   "execution_count": null,
   "metadata": {},
   "outputs": [],
   "source": [
    "denoiser = random_denoising.Filter_Color_Image(w=17, verbosity=logging.INFO)"
   ]
  },
  {
   "cell_type": "code",
   "execution_count": null,
   "metadata": {},
   "outputs": [],
   "source": [
    "denoised_img, _ = denoiser.filter(noisy_image=noisy_img, GT=img, N_iters=25, RS_sigma=sigma)\n",
    "denoised_img = denoised_img.astype(np.uint8)"
   ]
  },
  {
   "cell_type": "code",
   "execution_count": null,
   "metadata": {},
   "outputs": [],
   "source": [
    "fig, axs = plt.subplots(1, 3, figsize=(16, 32))\n",
    "axs[0].imshow(img)\n",
    "axs[0].set_title(\"Original\")\n",
    "axs[1].imshow(noisy_img)\n",
    "axs[1].set_title(\"Noisy\")\n",
    "axs[2].imshow(denoised_img)\n",
    "axs[2].set_title(\"Denoised\")\n",
    "fig.tight_layout()\n",
    "plt.show()"
   ]
  },
  {
   "cell_type": "code",
   "execution_count": null,
   "metadata": {},
   "outputs": [],
   "source": [
    "for i in range(3):\n",
    "    print(compute_quality_index(img[..., i], denoised_img[..., i]))"
   ]
  },
  {
   "cell_type": "code",
   "execution_count": null,
   "metadata": {},
   "outputs": [],
   "source": [
    "denoised_img = cv2.fastNlMeansDenoisingColored(img, None, 11, 6, 7, 21)"
   ]
  },
  {
   "cell_type": "code",
   "execution_count": null,
   "metadata": {},
   "outputs": [],
   "source": [
    "fig, axs = plt.subplots(1, 3, figsize=(16, 32))\n",
    "axs[0].imshow(img)\n",
    "axs[0].set_title(\"Original\")\n",
    "axs[1].imshow(noisy_img)\n",
    "axs[1].set_title(\"Noisy\")\n",
    "axs[2].imshow(denoised_img)\n",
    "axs[2].set_title(\"Denoised\")\n",
    "fig.tight_layout()\n",
    "plt.show()"
   ]
  },
  {
   "cell_type": "code",
   "execution_count": null,
   "metadata": {},
   "outputs": [],
   "source": [
    "for i in range(3):\n",
    "    print(compute_quality_index(img[..., i], denoised_img[..., i]))"
   ]
  },
  {
   "cell_type": "code",
   "execution_count": null,
   "metadata": {},
   "outputs": [],
   "source": []
  }
 ],
 "metadata": {
  "colab": {
   "collapsed_sections": [],
   "name": "gaussian_denoising.ipynb",
   "provenance": []
  },
  "kernelspec": {
   "display_name": "Python 3 (ipykernel)",
   "language": "python",
   "name": "python3"
  },
  "language_info": {
   "codemirror_mode": {
    "name": "ipython",
    "version": 3
   },
   "file_extension": ".py",
   "mimetype": "text/x-python",
   "name": "python",
   "nbconvert_exporter": "python",
   "pygments_lexer": "ipython3",
   "version": "3.10.12"
  }
 },
 "nbformat": 4,
 "nbformat_minor": 4
}
