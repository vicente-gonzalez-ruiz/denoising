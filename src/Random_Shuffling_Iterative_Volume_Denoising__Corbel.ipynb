{
 "cells": [
  {
   "cell_type": "markdown",
   "id": "24a2b9b0-569f-4f0a-a83c-7ab9c893b3a4",
   "metadata": {},
   "source": [
    "# Random Shuffling Iterative Volume Denoising"
   ]
  },
  {
   "cell_type": "code",
   "execution_count": 2,
   "id": "7be42efa-1e36-4eb8-8d10-5d5f7e7e47d3",
   "metadata": {},
   "outputs": [
    {
     "name": "stdout",
     "output_type": "stream",
     "text": [
      "Running in locahost\n"
     ]
    }
   ],
   "source": [
    "try:\n",
    "    import google.colab\n",
    "    IN_COLAB = True\n",
    "except:\n",
    "    IN_COLAB = False\n",
    "\n",
    "if IN_COLAB:\n",
    "    print(\"Running in Colab\")\n",
    "    !pip install cupy-cuda12x\n",
    "    !pip install opticalflow3D\n",
    "    !apt install libcudart11.0\n",
    "    !apt install libcublas11\n",
    "    !apt install libcufft10\n",
    "    !apt install libcusparse11\n",
    "    !apt install libnvrtc11.2\n",
    "    from google.colab import drive\n",
    "    drive.mount('/content/drive')\n",
    "    !cp drive/Shareddrives/TomogramDenoising/tomograms/Corbel2301_block2_June2019_crop_ali_crop.tif .\n",
    "else:\n",
    "    print(\"Running in locahost\")\n",
    "    !cp ~/Downloads/Corbel2301_block2_June2019_crop_ali_crop.tif ."
   ]
  },
  {
   "cell_type": "code",
   "execution_count": 3,
   "id": "2a9f2718-d2d2-4d2b-bf30-bfa5388c65e2",
   "metadata": {},
   "outputs": [],
   "source": [
    "%matplotlib inline\n",
    "import matplotlib.pyplot as plt\n",
    "from matplotlib.pyplot import figure"
   ]
  },
  {
   "cell_type": "code",
   "execution_count": 4,
   "id": "a3554ddb-de53-4ac6-a102-01c526f3fa24",
   "metadata": {
    "id": "a3554ddb-de53-4ac6-a102-01c526f3fa24"
   },
   "outputs": [],
   "source": [
    "import opticalflow3D\n",
    "import warnings\n",
    "from numba.core.errors import NumbaPerformanceWarning\n",
    "import numpy as np\n",
    "\n",
    "warnings.filterwarnings(\"ignore\", category=NumbaPerformanceWarning)"
   ]
  },
  {
   "cell_type": "code",
   "execution_count": 5,
   "id": "I6Fx1j23clAd",
   "metadata": {
    "id": "I6Fx1j23clAd"
   },
   "outputs": [],
   "source": [
    "noisy_vol = opticalflow3D.helpers.load_image(r\"Corbel2301_block2_June2019_crop_ali_crop.tif\")"
   ]
  },
  {
   "cell_type": "code",
   "execution_count": 6,
   "id": "de188628-fa34-41d3-b379-5e999ae4625f",
   "metadata": {},
   "outputs": [
    {
     "data": {
      "text/plain": [
       "(100, 800, 800)"
      ]
     },
     "execution_count": 6,
     "metadata": {},
     "output_type": "execute_result"
    }
   ],
   "source": [
    "noisy_vol.shape"
   ]
  },
  {
   "cell_type": "code",
   "execution_count": 10,
   "id": "f905895f-40da-4ef0-b2cf-b41680e8531c",
   "metadata": {},
   "outputs": [
    {
     "name": "stdout",
     "output_type": "stream",
     "text": [
      "(50, 400, 400)\n"
     ]
    }
   ],
   "source": [
    "if IN_COLAB:\n",
    "    block_size = (A.shape[0], A.shape[1], A.shape[2])\n",
    "else:\n",
    "    block_size = (50, 400, 400)\n",
    "print(block_size)"
   ]
  },
  {
   "cell_type": "code",
   "execution_count": 11,
   "id": "7ab782f1-6053-4d91-8ba7-3220d3332f44",
   "metadata": {
    "colab": {
     "base_uri": "https://localhost:8080/",
     "height": 211
    },
    "id": "7ab782f1-6053-4d91-8ba7-3220d3332f44",
    "outputId": "e8f03c08-8eb1-4ab3-f854-c360edd8082a"
   },
   "outputs": [],
   "source": [
    "farneback = opticalflow3D.Farneback3D(iters=5,\n",
    "                                      num_levels=3,\n",
    "                                      scale=0.5,\n",
    "                                      spatial_size=7,\n",
    "                                      presmoothing=3,\n",
    "                                      filter_type=\"gaussian\",\n",
    "                                      filter_size=7,\n",
    "                                     )"
   ]
  },
  {
   "cell_type": "code",
   "execution_count": 12,
   "id": "0crVg5yFYlgG",
   "metadata": {
    "id": "0crVg5yFYlgG"
   },
   "outputs": [],
   "source": [
    "def randomize(vol, mean=0.0, std_dev=1.0):\n",
    "  depth, height, width = vol.shape[:3]\n",
    "  x_coords, y_coords, z_coords = np.meshgrid(range(width), range(height), range(depth))\n",
    "  flattened_x_coords = x_coords.flatten()\n",
    "  flattened_y_coords = y_coords.flatten()\n",
    "  flattened_z_coords = z_coords.flatten()\n",
    "  #print(np.max(flattened_z_coords), np.max(flattened_y_coords), np.max(flattened_x_coords))\n",
    "  #print(flattened_x_coords.dtype)\n",
    "  displacements_x = np.random.normal(mean, std_dev, flattened_x_coords.shape).astype(np.int32)\n",
    "  displacements_y = np.random.normal(mean, std_dev, flattened_y_coords.shape).astype(np.int32)\n",
    "  displacements_z = np.random.normal(mean, std_dev, flattened_z_coords.shape).astype(np.int32)\n",
    "  print(np.max(displacements_z), np.max(displacements_y), np.max(displacements_x))\n",
    "  print(np.min(displacements_z), np.min(displacements_y), np.min(displacements_x))\n",
    "  randomized_x_coords = flattened_x_coords + displacements_x\n",
    "  randomized_y_coords = flattened_y_coords + displacements_y\n",
    "  randomized_z_coords = flattened_z_coords + displacements_z\n",
    "  #print(np.max(randomized_z_coords), np.max(randomized_y_coords), np.max(randomized_x_coords))\n",
    "  #randomized_x_coords = np.mod(randomized_x_coords, width)\n",
    "  #randomized_y_coords = np.mod(randomized_y_coords, height)\n",
    "  #randomized_z_coords = np.mod(randomized_z_coords, depth)\n",
    "  randomized_x_coords = np.clip(randomized_x_coords, 0, width - 1) # Clip the randomized coordinates to stay within image bounds\n",
    "  randomized_y_coords = np.clip(randomized_y_coords, 0, height - 1)\n",
    "  randomized_z_coords = np.clip(randomized_z_coords, 0, depth - 1)\n",
    "  #print(np.max(randomized_z_coords), np.max(randomized_y_coords), np.max(randomized_x_coords))\n",
    "  #randomized_vol = np.ones_like(vol)*np.average(vol) #np.zeros_like(vol)\n",
    "  randomized_vol = np.zeros_like(vol)\n",
    "  randomized_vol[...] = vol\n",
    "  randomized_vol[randomized_z_coords, randomized_y_coords, randomized_x_coords] = vol[flattened_z_coords, flattened_y_coords, flattened_x_coords]\n",
    "  return randomized_vol\n",
    "\n",
    "def _randomize(vol, max_distance=10):\n",
    "    depth, height, width = image.shape[:3]\n",
    "    #flow_x = np.random.normal(size=(height, width)) * max_distance\n",
    "    #flow_y = np.random.normal(size=(height, width)) * max_distance\n",
    "    flow_x = np.random.uniform(low=-1, high=1, size=(depth, height, width)) * max_distance\n",
    "    flow_y = np.random.uniform(low=-1, high=1, size=(depth, height, width)) * max_distance\n",
    "    flow_z = np.random.uniform(low=-1, high=1, size=(depth, height, width)) * max_distance\n",
    "    #flow_x[...] = 0\n",
    "    #flow_y[...] = 0\n",
    "    #print(np.max(flow_x), np.min(flow_x), max_distance)\n",
    "    flow = np.empty([height, width, 2], dtype=np.float32)\n",
    "    flow[..., 0] = flow_y\n",
    "    flow[..., 1] = flow_x\n",
    "    print(np.max(flow), np.min(flow))\n",
    "    randomized_image = motion_estimation.project(image, flow)\n",
    "    return randomized_image.astype(np.uint8)\n"
   ]
  },
  {
   "cell_type": "code",
   "execution_count": 13,
   "id": "j2b0eeunV1GD",
   "metadata": {
    "id": "j2b0eeunV1GD"
   },
   "outputs": [],
   "source": [
    "def project_A_to_B(A, B):\n",
    "  output_vz, output_vy, output_vx, output_confidence = farneback.calculate_flow(A, B,\n",
    "                                                                              start_point=(0, 0, 0),\n",
    "                                                                              total_vol=(A.shape[0], A.shape[1], A.shape[2]),\n",
    "                                                                              sub_volume=block_size,\n",
    "                                                                              overlap=(8, 8, 8),\n",
    "                                                                              threadsperblock=(8, 8, 8)\n",
    "                                                                             )\n",
    "  print(\"flow\", np.max(np.abs(output_vx)), np.max(np.abs(output_vy)), np.max(np.abs(output_vz)))\n",
    "  projection = opticalflow3D.helpers.generate_inverse_image(B, output_vx, output_vy, output_vz)\n",
    "  return projection"
   ]
  },
  {
   "cell_type": "code",
   "execution_count": 14,
   "id": "l6BuB9VhbAsz",
   "metadata": {
    "id": "l6BuB9VhbAsz"
   },
   "outputs": [],
   "source": [
    "def filter(noisy_vol, N_iters=50, RS_sigma=2.0, RS_mean=0.0):\n",
    "  acc_vol = np.zeros_like(noisy_vol, dtype=np.float32)\n",
    "  acc_vol[...] = noisy_vol\n",
    "  for i in range(N_iters):\n",
    "    print(i)\n",
    "    denoised_vol = acc_vol/(i+1)\n",
    "    #randomized_noisy_vol = randomize(noisy_vol, max_distance=5)\n",
    "    randomized_noisy_vol = randomize(noisy_vol, mean=0, std_dev=RS_sigma)\n",
    "    #print(\"sum(randomized_noisy-noisy)\", np.sum((randomized_noisy_vol-noisy_vol)*(randomized_noisy_vol-noisy_vol)))\n",
    "    #print(\"sum(denoised-randomized_noisy)\", np.sum((denoised_vol-randomized_noisy_vol)*(denoised_vol-randomized_noisy_vol)))\n",
    "    randomized_and_compensated_noisy_vol = project_A_to_B(A=denoised_vol, B=randomized_noisy_vol)\n",
    "    #plt.imshow(randomized_and_compensated_noisy_vol[15], cmap=\"gray\")\n",
    "    #plt.show()\n",
    "    #randomized_and_compensated_noisy_vol = np.zeros_like(randomized_noisy_vol)\n",
    "    #randomized_and_compensated_noisy_vol[...] = randomized_noisy_vol\n",
    "    #print(\"sum(noisy)\", np.sum(noisy_vol))\n",
    "    #print(\"sum(denoised)\", np.sum(denoised_vol))\n",
    "    #print(\"sum(randomized_and_compensated_noisy)\", np.sum(randomized_and_compensated_noisy_vol))\n",
    "    #print(\"sum(randomized_noisy)\", np.sum(randomized_noisy_vol))\n",
    "    #print(\"sum(acc)\", np.sum(acc_vol))\n",
    "    #print(\"sum(randomized_and_compensated_noisy-randomized_noisy)\", np.sum((randomized_and_compensated_noisy_vol-randomized_noisy_vol)*(randomized_and_compensated_noisy_vol-randomized_noisy_vol)))\n",
    "    #print(\"sum(randomized_and_compensated_noisy-noisy)\", np.sum((randomized_and_compensated_noisy_vol-noisy_vol)*(randomized_and_compensated_noisy_vol-noisy_vol)))\n",
    "    #print(np.sum((randomized_and_compensated_noisy_vol-randomized_noisy_vol)*(randomized_and_compensated_noisy_vol-randomized_noisy_vol)))\n",
    "    acc_vol += randomized_and_compensated_noisy_vol\n",
    "  denoised_vol = acc_vol/(N_iters + 1)\n",
    "  return denoised_vol"
   ]
  },
  {
   "cell_type": "code",
   "execution_count": 15,
   "id": "91aIEXpSc5ez",
   "metadata": {
    "colab": {
     "base_uri": "https://localhost:8080/",
     "height": 1000
    },
    "id": "91aIEXpSc5ez",
    "outputId": "6e1f085e-8567-4eb8-9c13-13171cead177"
   },
   "outputs": [
    {
     "name": "stdout",
     "output_type": "stream",
     "text": [
      "0\n",
      "5 5 5\n",
      "-5 -5 -5\n",
      "Running 3D Farneback optical flow with the following parameters:\n",
      "Iters: 5 | Levels: 3 | Scale: 0.5 | Kernel: 7 | Filter: gaussian-7 | Presmoothing: 3\n"
     ]
    },
    {
     "name": "stderr",
     "output_type": "stream",
     "text": [
      "Item: 1/9:   0%|                                                                                                                                   | 0/3 [00:00<?, ?it/s]\n"
     ]
    },
    {
     "ename": "CUDARuntimeError",
     "evalue": "cudaErrorUnknown: unknown error",
     "output_type": "error",
     "traceback": [
      "\u001b[0;31m---------------------------------------------------------------------------\u001b[0m",
      "\u001b[0;31mCUDARuntimeError\u001b[0m                          Traceback (most recent call last)",
      "Cell \u001b[0;32mIn[15], line 2\u001b[0m\n\u001b[1;32m      1\u001b[0m RS_sigma \u001b[38;5;241m=\u001b[39m \u001b[38;5;241m1.0\u001b[39m\n\u001b[0;32m----> 2\u001b[0m denoised_vol \u001b[38;5;241m=\u001b[39m \u001b[38;5;28;43mfilter\u001b[39;49m\u001b[43m(\u001b[49m\u001b[43mnoisy_vol\u001b[49m\u001b[43m,\u001b[49m\u001b[43m \u001b[49m\u001b[43mRS_sigma\u001b[49m\u001b[38;5;241;43m=\u001b[39;49m\u001b[43mRS_sigma\u001b[49m\u001b[43m,\u001b[49m\u001b[43m \u001b[49m\u001b[43mN_iters\u001b[49m\u001b[38;5;241;43m=\u001b[39;49m\u001b[38;5;241;43m25\u001b[39;49m\u001b[43m)\u001b[49m\n",
      "Cell \u001b[0;32mIn[14], line 11\u001b[0m, in \u001b[0;36mfilter\u001b[0;34m(noisy_vol, N_iters, RS_sigma, RS_mean)\u001b[0m\n\u001b[1;32m      8\u001b[0m randomized_noisy_vol \u001b[38;5;241m=\u001b[39m randomize(noisy_vol, mean\u001b[38;5;241m=\u001b[39m\u001b[38;5;241m0\u001b[39m, std_dev\u001b[38;5;241m=\u001b[39mRS_sigma)\n\u001b[1;32m      9\u001b[0m \u001b[38;5;66;03m#print(\"sum(randomized_noisy-noisy)\", np.sum((randomized_noisy_vol-noisy_vol)*(randomized_noisy_vol-noisy_vol)))\u001b[39;00m\n\u001b[1;32m     10\u001b[0m \u001b[38;5;66;03m#print(\"sum(denoised-randomized_noisy)\", np.sum((denoised_vol-randomized_noisy_vol)*(denoised_vol-randomized_noisy_vol)))\u001b[39;00m\n\u001b[0;32m---> 11\u001b[0m randomized_and_compensated_noisy_vol \u001b[38;5;241m=\u001b[39m \u001b[43mproject_A_to_B\u001b[49m\u001b[43m(\u001b[49m\u001b[43mA\u001b[49m\u001b[38;5;241;43m=\u001b[39;49m\u001b[43mdenoised_vol\u001b[49m\u001b[43m,\u001b[49m\u001b[43m \u001b[49m\u001b[43mB\u001b[49m\u001b[38;5;241;43m=\u001b[39;49m\u001b[43mrandomized_noisy_vol\u001b[49m\u001b[43m)\u001b[49m\n\u001b[1;32m     12\u001b[0m \u001b[38;5;66;03m#plt.imshow(randomized_and_compensated_noisy_vol[15], cmap=\"gray\")\u001b[39;00m\n\u001b[1;32m     13\u001b[0m \u001b[38;5;66;03m#plt.show()\u001b[39;00m\n\u001b[1;32m     14\u001b[0m \u001b[38;5;66;03m#randomized_and_compensated_noisy_vol = np.zeros_like(randomized_noisy_vol)\u001b[39;00m\n\u001b[0;32m   (...)\u001b[0m\n\u001b[1;32m     22\u001b[0m \u001b[38;5;66;03m#print(\"sum(randomized_and_compensated_noisy-noisy)\", np.sum((randomized_and_compensated_noisy_vol-noisy_vol)*(randomized_and_compensated_noisy_vol-noisy_vol)))\u001b[39;00m\n\u001b[1;32m     23\u001b[0m \u001b[38;5;66;03m#print(np.sum((randomized_and_compensated_noisy_vol-randomized_noisy_vol)*(randomized_and_compensated_noisy_vol-randomized_noisy_vol)))\u001b[39;00m\n\u001b[1;32m     24\u001b[0m acc_vol \u001b[38;5;241m+\u001b[39m\u001b[38;5;241m=\u001b[39m randomized_and_compensated_noisy_vol\n",
      "Cell \u001b[0;32mIn[13], line 2\u001b[0m, in \u001b[0;36mproject_A_to_B\u001b[0;34m(A, B)\u001b[0m\n\u001b[1;32m      1\u001b[0m \u001b[38;5;28;01mdef\u001b[39;00m \u001b[38;5;21mproject_A_to_B\u001b[39m(A, B):\n\u001b[0;32m----> 2\u001b[0m   output_vz, output_vy, output_vx, output_confidence \u001b[38;5;241m=\u001b[39m \u001b[43mfarneback\u001b[49m\u001b[38;5;241;43m.\u001b[39;49m\u001b[43mcalculate_flow\u001b[49m\u001b[43m(\u001b[49m\u001b[43mA\u001b[49m\u001b[43m,\u001b[49m\u001b[43m \u001b[49m\u001b[43mB\u001b[49m\u001b[43m,\u001b[49m\n\u001b[1;32m      3\u001b[0m \u001b[43m                                                                              \u001b[49m\u001b[43mstart_point\u001b[49m\u001b[38;5;241;43m=\u001b[39;49m\u001b[43m(\u001b[49m\u001b[38;5;241;43m0\u001b[39;49m\u001b[43m,\u001b[49m\u001b[43m \u001b[49m\u001b[38;5;241;43m0\u001b[39;49m\u001b[43m,\u001b[49m\u001b[43m \u001b[49m\u001b[38;5;241;43m0\u001b[39;49m\u001b[43m)\u001b[49m\u001b[43m,\u001b[49m\n\u001b[1;32m      4\u001b[0m \u001b[43m                                                                              \u001b[49m\u001b[43mtotal_vol\u001b[49m\u001b[38;5;241;43m=\u001b[39;49m\u001b[43m(\u001b[49m\u001b[43mA\u001b[49m\u001b[38;5;241;43m.\u001b[39;49m\u001b[43mshape\u001b[49m\u001b[43m[\u001b[49m\u001b[38;5;241;43m0\u001b[39;49m\u001b[43m]\u001b[49m\u001b[43m,\u001b[49m\u001b[43m \u001b[49m\u001b[43mA\u001b[49m\u001b[38;5;241;43m.\u001b[39;49m\u001b[43mshape\u001b[49m\u001b[43m[\u001b[49m\u001b[38;5;241;43m1\u001b[39;49m\u001b[43m]\u001b[49m\u001b[43m,\u001b[49m\u001b[43m \u001b[49m\u001b[43mA\u001b[49m\u001b[38;5;241;43m.\u001b[39;49m\u001b[43mshape\u001b[49m\u001b[43m[\u001b[49m\u001b[38;5;241;43m2\u001b[39;49m\u001b[43m]\u001b[49m\u001b[43m)\u001b[49m\u001b[43m,\u001b[49m\n\u001b[1;32m      5\u001b[0m \u001b[43m                                                                              \u001b[49m\u001b[43msub_volume\u001b[49m\u001b[38;5;241;43m=\u001b[39;49m\u001b[43mblock_size\u001b[49m\u001b[43m,\u001b[49m\n\u001b[1;32m      6\u001b[0m \u001b[43m                                                                              \u001b[49m\u001b[43moverlap\u001b[49m\u001b[38;5;241;43m=\u001b[39;49m\u001b[43m(\u001b[49m\u001b[38;5;241;43m8\u001b[39;49m\u001b[43m,\u001b[49m\u001b[43m \u001b[49m\u001b[38;5;241;43m8\u001b[39;49m\u001b[43m,\u001b[49m\u001b[43m \u001b[49m\u001b[38;5;241;43m8\u001b[39;49m\u001b[43m)\u001b[49m\u001b[43m,\u001b[49m\n\u001b[1;32m      7\u001b[0m \u001b[43m                                                                              \u001b[49m\u001b[43mthreadsperblock\u001b[49m\u001b[38;5;241;43m=\u001b[39;49m\u001b[43m(\u001b[49m\u001b[38;5;241;43m8\u001b[39;49m\u001b[43m,\u001b[49m\u001b[43m \u001b[49m\u001b[38;5;241;43m8\u001b[39;49m\u001b[43m,\u001b[49m\u001b[43m \u001b[49m\u001b[38;5;241;43m8\u001b[39;49m\u001b[43m)\u001b[49m\n\u001b[1;32m      8\u001b[0m \u001b[43m                                                                             \u001b[49m\u001b[43m)\u001b[49m\n\u001b[1;32m      9\u001b[0m   \u001b[38;5;28mprint\u001b[39m(\u001b[38;5;124m\"\u001b[39m\u001b[38;5;124mflow\u001b[39m\u001b[38;5;124m\"\u001b[39m, np\u001b[38;5;241m.\u001b[39mmax(np\u001b[38;5;241m.\u001b[39mabs(output_vx)), np\u001b[38;5;241m.\u001b[39mmax(np\u001b[38;5;241m.\u001b[39mabs(output_vy)), np\u001b[38;5;241m.\u001b[39mmax(np\u001b[38;5;241m.\u001b[39mabs(output_vz)))\n\u001b[1;32m     10\u001b[0m   projection \u001b[38;5;241m=\u001b[39m opticalflow3D\u001b[38;5;241m.\u001b[39mhelpers\u001b[38;5;241m.\u001b[39mgenerate_inverse_image(B, output_vx, output_vy, output_vz)\n",
      "File \u001b[0;32m/shared/PEs/OF3D/lib/python3.10/site-packages/opticalflow3D/opticalflow3D.py:113\u001b[0m, in \u001b[0;36mFarneback3D.calculate_flow\u001b[0;34m(self, image1, image2, start_point, total_vol, sub_volume, overlap, threadsperblock)\u001b[0m\n\u001b[1;32m    106\u001b[0m input_image_vol_1 \u001b[38;5;241m=\u001b[39m image1[z_position[z_i][\u001b[38;5;241m0\u001b[39m]:z_position[z_i][\u001b[38;5;241m1\u001b[39m],\n\u001b[1;32m    107\u001b[0m                            y_position[y_i][\u001b[38;5;241m0\u001b[39m]:y_position[y_i][\u001b[38;5;241m1\u001b[39m],\n\u001b[1;32m    108\u001b[0m                            x_position[x_i][\u001b[38;5;241m0\u001b[39m]:x_position[x_i][\u001b[38;5;241m1\u001b[39m]]\u001b[38;5;241m.\u001b[39mastype(np\u001b[38;5;241m.\u001b[39mfloat32)\n\u001b[1;32m    109\u001b[0m input_image_vol_2 \u001b[38;5;241m=\u001b[39m image2[z_position[z_i][\u001b[38;5;241m0\u001b[39m]:z_position[z_i][\u001b[38;5;241m1\u001b[39m],\n\u001b[1;32m    110\u001b[0m                            y_position[y_i][\u001b[38;5;241m0\u001b[39m]:y_position[y_i][\u001b[38;5;241m1\u001b[39m],\n\u001b[1;32m    111\u001b[0m                            x_position[x_i][\u001b[38;5;241m0\u001b[39m]:x_position[x_i][\u001b[38;5;241m1\u001b[39m]]\u001b[38;5;241m.\u001b[39mastype(np\u001b[38;5;241m.\u001b[39mfloat32)\n\u001b[0;32m--> 113\u001b[0m \u001b[38;5;28;01mwith\u001b[39;00m cp\u001b[38;5;241m.\u001b[39mcuda\u001b[38;5;241m.\u001b[39mDevice(\u001b[38;5;28mself\u001b[39m\u001b[38;5;241m.\u001b[39mdevice_id):\n\u001b[1;32m    114\u001b[0m     vx, vy, vz, confidence \u001b[38;5;241m=\u001b[39m farneback_3d(input_image_vol_1, input_image_vol_2, \u001b[38;5;28mself\u001b[39m\u001b[38;5;241m.\u001b[39miters,\n\u001b[1;32m    115\u001b[0m                                           \u001b[38;5;28mself\u001b[39m\u001b[38;5;241m.\u001b[39mnum_levels,\n\u001b[1;32m    116\u001b[0m                                           scale\u001b[38;5;241m=\u001b[39m\u001b[38;5;28mself\u001b[39m\u001b[38;5;241m.\u001b[39mscale, spatial_size\u001b[38;5;241m=\u001b[39m\u001b[38;5;28mself\u001b[39m\u001b[38;5;241m.\u001b[39mspatial_size,\n\u001b[0;32m   (...)\u001b[0m\n\u001b[1;32m    119\u001b[0m                                           presmoothing\u001b[38;5;241m=\u001b[39m\u001b[38;5;28mself\u001b[39m\u001b[38;5;241m.\u001b[39mpresmoothing,\n\u001b[1;32m    120\u001b[0m                                           threadsperblock\u001b[38;5;241m=\u001b[39mthreadsperblock)\n\u001b[1;32m    122\u001b[0m cp\u001b[38;5;241m.\u001b[39mcuda\u001b[38;5;241m.\u001b[39mStream\u001b[38;5;241m.\u001b[39mnull\u001b[38;5;241m.\u001b[39msynchronize()\n",
      "File \u001b[0;32mcupy/cuda/device.pyx:183\u001b[0m, in \u001b[0;36mcupy.cuda.device.Device.__enter__\u001b[0;34m()\u001b[0m\n",
      "File \u001b[0;32mcupy_backends/cuda/api/runtime.pyx:169\u001b[0m, in \u001b[0;36mcupy_backends.cuda.api.runtime.getDevice\u001b[0;34m()\u001b[0m\n",
      "File \u001b[0;32mcupy_backends/cuda/api/runtime.pyx:142\u001b[0m, in \u001b[0;36mcupy_backends.cuda.api.runtime.check_status\u001b[0;34m()\u001b[0m\n",
      "\u001b[0;31mCUDARuntimeError\u001b[0m: cudaErrorUnknown: unknown error"
     ]
    }
   ],
   "source": [
    "RS_sigma = 1.0\n",
    "denoised_vol = filter(noisy_vol, RS_sigma=RS_sigma, N_iters=25)"
   ]
  },
  {
   "cell_type": "code",
   "execution_count": null,
   "id": "f12c58bb-5a01-4284-88a9-2707bbcbeb8b",
   "metadata": {},
   "outputs": [],
   "source": [
    "figure(figsize=(32, 32))\n",
    "plt.subplot(1, 3, 1)\n",
    "plt.title(\"original\")\n",
    "imgplot = plt.imshow(noisy_vol[75][::-1, :], cmap=\"gray\")\n",
    "plt.subplot(1, 3, 2)\n",
    "plt.title(\"$\\sigma_\\mathrm{RS}=$\"+f\"{RS_sigma}\")\n",
    "plt.imshow(denoised_vol[75][::-1, :], cmap=\"gray\")\n",
    "plt.subplot(1, 3, 3)\n",
    "plt.title(\"difference\")\n",
    "plt.imshow(noisy_vol[75][::-1, :] - denoised_vol[75][::-1, :], cmap=\"gray\")"
   ]
  }
 ],
 "metadata": {
  "accelerator": "GPU",
  "colab": {
   "gpuType": "T4",
   "provenance": []
  },
  "kernelspec": {
   "display_name": "Python 3 (ipykernel)",
   "language": "python",
   "name": "python3"
  },
  "language_info": {
   "codemirror_mode": {
    "name": "ipython",
    "version": 3
   },
   "file_extension": ".py",
   "mimetype": "text/x-python",
   "name": "python",
   "nbconvert_exporter": "python",
   "pygments_lexer": "ipython3",
   "version": "3.10.12"
  }
 },
 "nbformat": 4,
 "nbformat_minor": 5
}
