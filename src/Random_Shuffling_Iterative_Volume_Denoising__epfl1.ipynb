{
 "cells": [
  {
   "cell_type": "markdown",
   "id": "24a2b9b0-569f-4f0a-a83c-7ab9c893b3a4",
   "metadata": {},
   "source": [
    "# Iterative Random Shuffling Volume Denoising (IRSVD)"
   ]
  },
  {
   "cell_type": "code",
   "execution_count": null,
   "id": "7be42efa-1e36-4eb8-8d10-5d5f7e7e47d3",
   "metadata": {},
   "outputs": [],
   "source": [
    "try:\n",
    "    import google.colab\n",
    "    IN_COLAB = True\n",
    "except:\n",
    "    IN_COLAB = False\n",
    "\n",
    "try:\n",
    "    import google.colab\n",
    "    IN_COLAB = True\n",
    "except:\n",
    "    IN_COLAB = False\n",
    "\n",
    "if IN_COLAB:\n",
    "    print(\"Running in Colab\")\n",
    "    !pip install cupy-cuda12x\n",
    "    !pip install opticalflow3D\n",
    "    !apt install libcudart11.0\n",
    "    !apt install libcublas11\n",
    "    !apt install libcufft10\n",
    "    !apt install libcusparse11\n",
    "    !apt install libnvrtc11.2\n",
    "    from google.colab import drive\n",
    "    drive.mount('/content/drive')\n",
    "    !cp drive/Shareddrives/TomogramDenoising/tomograms/epfl1_subset1_float.tif .\n",
    "else:\n",
    "    print(\"Running in locahost\")\n",
    "    !cp /home/vruiz/repos/microscopy-processing/FlowDenoising/src/epfl1_subset1_float.tif ."
   ]
  },
  {
   "cell_type": "code",
   "execution_count": null,
   "id": "2a9f2718-d2d2-4d2b-bf30-bfa5388c65e2",
   "metadata": {},
   "outputs": [],
   "source": [
    "%matplotlib inline\n",
    "import matplotlib.pyplot as plt\n",
    "from matplotlib.pyplot import figure"
   ]
  },
  {
   "cell_type": "code",
   "execution_count": null,
   "id": "a3554ddb-de53-4ac6-a102-01c526f3fa24",
   "metadata": {
    "id": "a3554ddb-de53-4ac6-a102-01c526f3fa24"
   },
   "outputs": [],
   "source": [
    "import opticalflow3D\n",
    "import warnings\n",
    "from numba.core.errors import NumbaPerformanceWarning\n",
    "import numpy as np\n",
    "\n",
    "warnings.filterwarnings(\"ignore\", category=NumbaPerformanceWarning)"
   ]
  },
  {
   "cell_type": "code",
   "execution_count": null,
   "id": "I6Fx1j23clAd",
   "metadata": {
    "id": "I6Fx1j23clAd"
   },
   "outputs": [],
   "source": [
    "noisy_vol = opticalflow3D.helpers.load_image(r\"epfl1_subset1_float.tif\")"
   ]
  },
  {
   "cell_type": "code",
   "execution_count": null,
   "id": "de188628-fa34-41d3-b379-5e999ae4625f",
   "metadata": {},
   "outputs": [],
   "source": [
    "noisy_vol.shape"
   ]
  },
  {
   "cell_type": "markdown",
   "id": "438f607e-a310-48b5-8dd0-2ddec2db7def",
   "metadata": {
    "id": "438f607e-a310-48b5-8dd0-2ddec2db7def"
   },
   "source": [
    "# Farneback two frame motion estimation"
   ]
  },
  {
   "cell_type": "code",
   "execution_count": null,
   "id": "7ab782f1-6053-4d91-8ba7-3220d3332f44",
   "metadata": {
    "colab": {
     "base_uri": "https://localhost:8080/",
     "height": 211
    },
    "id": "7ab782f1-6053-4d91-8ba7-3220d3332f44",
    "outputId": "e8f03c08-8eb1-4ab3-f854-c360edd8082a"
   },
   "outputs": [],
   "source": [
    "farneback = opticalflow3D.Farneback3D(iters=5,\n",
    "                                      num_levels=3,\n",
    "                                      scale=0.5,\n",
    "                                      spatial_size=11,\n",
    "                                      presmoothing=3,\n",
    "                                      filter_type=\"gaussian\",\n",
    "                                      filter_size=11,\n",
    "                                     )"
   ]
  },
  {
   "cell_type": "code",
   "execution_count": null,
   "id": "0crVg5yFYlgG",
   "metadata": {
    "id": "0crVg5yFYlgG"
   },
   "outputs": [],
   "source": [
    "def randomize(vol, mean=0.0, std_dev=1.0):\n",
    "  depth, height, width = vol.shape[:3]\n",
    "  x_coords, y_coords, z_coords = np.meshgrid(range(width), range(height), range(depth))\n",
    "  flattened_x_coords = x_coords.flatten()\n",
    "  flattened_y_coords = y_coords.flatten()\n",
    "  flattened_z_coords = z_coords.flatten()\n",
    "  #print(np.max(flattened_z_coords), np.max(flattened_y_coords), np.max(flattened_x_coords))\n",
    "  #print(flattened_x_coords.dtype)\n",
    "  displacements_x = np.random.normal(mean, std_dev, flattened_x_coords.shape).astype(np.int32)\n",
    "  displacements_y = np.random.normal(mean, std_dev, flattened_y_coords.shape).astype(np.int32)\n",
    "  displacements_z = np.random.normal(mean, std_dev, flattened_z_coords.shape).astype(np.int32)\n",
    "  print(np.max(displacements_z), np.max(displacements_y), np.max(displacements_x))\n",
    "  print(np.min(displacements_z), np.min(displacements_y), np.min(displacements_x))\n",
    "  randomized_x_coords = flattened_x_coords + displacements_x\n",
    "  randomized_y_coords = flattened_y_coords + displacements_y\n",
    "  randomized_z_coords = flattened_z_coords + displacements_z\n",
    "  #print(np.max(randomized_z_coords), np.max(randomized_y_coords), np.max(randomized_x_coords))\n",
    "  #randomized_x_coords = np.mod(randomized_x_coords, width)\n",
    "  #randomized_y_coords = np.mod(randomized_y_coords, height)\n",
    "  #randomized_z_coords = np.mod(randomized_z_coords, depth)\n",
    "  randomized_x_coords = np.clip(randomized_x_coords, 0, width - 1) # Clip the randomized coordinates to stay within image bounds\n",
    "  randomized_y_coords = np.clip(randomized_y_coords, 0, height - 1)\n",
    "  randomized_z_coords = np.clip(randomized_z_coords, 0, depth - 1)\n",
    "  #print(np.max(randomized_z_coords), np.max(randomized_y_coords), np.max(randomized_x_coords))\n",
    "  #randomized_vol = np.ones_like(vol)*np.average(vol) #np.zeros_like(vol)\n",
    "  randomized_vol = np.zeros_like(vol)\n",
    "  randomized_vol[...] = vol\n",
    "  randomized_vol[randomized_z_coords, randomized_y_coords, randomized_x_coords] = vol[flattened_z_coords, flattened_y_coords, flattened_x_coords]\n",
    "  return randomized_vol\n",
    "\n",
    "def _randomize(vol, max_distance=10):\n",
    "    depth, height, width = image.shape[:3]\n",
    "    #flow_x = np.random.normal(size=(height, width)) * max_distance\n",
    "    #flow_y = np.random.normal(size=(height, width)) * max_distance\n",
    "    flow_x = np.random.uniform(low=-1, high=1, size=(depth, height, width)) * max_distance\n",
    "    flow_y = np.random.uniform(low=-1, high=1, size=(depth, height, width)) * max_distance\n",
    "    flow_z = np.random.uniform(low=-1, high=1, size=(depth, height, width)) * max_distance\n",
    "    #flow_x[...] = 0\n",
    "    #flow_y[...] = 0\n",
    "    #print(np.max(flow_x), np.min(flow_x), max_distance)\n",
    "    flow = np.empty([height, width, 2], dtype=np.float32)\n",
    "    flow[..., 0] = flow_y\n",
    "    flow[..., 1] = flow_x\n",
    "    print(np.max(flow), np.min(flow))\n",
    "    randomized_image = motion_estimation.project(image, flow)\n",
    "    return randomized_image.astype(np.uint8)\n"
   ]
  },
  {
   "cell_type": "code",
   "execution_count": null,
   "id": "j2b0eeunV1GD",
   "metadata": {
    "id": "j2b0eeunV1GD"
   },
   "outputs": [],
   "source": [
    "def project_A_to_B(A, B):\n",
    "  output_vz, output_vy, output_vx, output_confidence = farneback.calculate_flow(A, B,\n",
    "                                                                              start_point=(0, 0, 0),\n",
    "                                                                              total_vol=(A.shape[0], A.shape[1], A.shape[2]),\n",
    "                                                                              sub_volume=(50, 384, 512),\n",
    "                                                                              overlap=(8, 8, 8),\n",
    "                                                                              threadsperblock=(8, 8, 8)\n",
    "                                                                             )\n",
    "  print(\"flow\", np.max(np.abs(output_vx)), np.max(np.abs(output_vy)), np.max(np.abs(output_vz)))\n",
    "  projection = opticalflow3D.helpers.generate_inverse_image(B, output_vx, output_vy, output_vz)\n",
    "  return projection"
   ]
  },
  {
   "cell_type": "code",
   "execution_count": null,
   "id": "l6BuB9VhbAsz",
   "metadata": {
    "id": "l6BuB9VhbAsz"
   },
   "outputs": [],
   "source": [
    "def filter(noisy_vol, N_iters=10, RS_sigma=2.0, RS_mean=0.0):\n",
    "  acc_vol = np.zeros_like(noisy_vol, dtype=np.float32)\n",
    "  acc_vol[...] = noisy_vol\n",
    "  for i in range(N_iters):\n",
    "    print(i)\n",
    "    denoised_vol = acc_vol/(i+1)\n",
    "    #randomized_noisy_vol = randomize(noisy_vol, max_distance=5)\n",
    "    randomized_noisy_vol = randomize(noisy_vol, mean=0, std_dev=RS_sigma)\n",
    "    #print(\"sum(randomized_noisy-noisy)\", np.sum((randomized_noisy_vol-noisy_vol)*(randomized_noisy_vol-noisy_vol)))\n",
    "    #print(\"sum(denoised-randomized_noisy)\", np.sum((denoised_vol-randomized_noisy_vol)*(denoised_vol-randomized_noisy_vol)))\n",
    "    randomized_and_compensated_noisy_vol = project_A_to_B(A=denoised_vol, B=randomized_noisy_vol)\n",
    "    #plt.imshow(randomized_and_compensated_noisy_vol[15], cmap=\"gray\")\n",
    "    #plt.show()\n",
    "    #randomized_and_compensated_noisy_vol = np.zeros_like(randomized_noisy_vol)\n",
    "    #randomized_and_compensated_noisy_vol[...] = randomized_noisy_vol\n",
    "    #print(\"sum(noisy)\", np.sum(noisy_vol))\n",
    "    #print(\"sum(denoised)\", np.sum(denoised_vol))\n",
    "    #print(\"sum(randomized_and_compensated_noisy)\", np.sum(randomized_and_compensated_noisy_vol))\n",
    "    #print(\"sum(randomized_noisy)\", np.sum(randomized_noisy_vol))\n",
    "    #print(\"sum(acc)\", np.sum(acc_vol))\n",
    "    #print(\"sum(randomized_and_compensated_noisy-randomized_noisy)\", np.sum((randomized_and_compensated_noisy_vol-randomized_noisy_vol)*(randomized_and_compensated_noisy_vol-randomized_noisy_vol)))\n",
    "    #print(\"sum(randomized_and_compensated_noisy-noisy)\", np.sum((randomized_and_compensated_noisy_vol-noisy_vol)*(randomized_and_compensated_noisy_vol-noisy_vol)))\n",
    "    #print(np.sum((randomized_and_compensated_noisy_vol-randomized_noisy_vol)*(randomized_and_compensated_noisy_vol-randomized_noisy_vol)))\n",
    "    acc_vol += randomized_and_compensated_noisy_vol\n",
    "  denoised_vol = acc_vol/(N_iters + 1)\n",
    "  return denoised_vol"
   ]
  },
  {
   "cell_type": "code",
   "execution_count": null,
   "id": "91aIEXpSc5ez",
   "metadata": {
    "colab": {
     "base_uri": "https://localhost:8080/",
     "height": 1000
    },
    "id": "91aIEXpSc5ez",
    "outputId": "6e1f085e-8567-4eb8-9c13-13171cead177"
   },
   "outputs": [],
   "source": [
    "RS_sigma = 1.0\n",
    "denoised_vol = filter(noisy_vol, RS_sigma=RS_sigma)"
   ]
  },
  {
   "cell_type": "code",
   "execution_count": null,
   "id": "aea45d9b-f391-4255-8520-7868f55d62b4",
   "metadata": {},
   "outputs": [],
   "source": [
    "figure(figsize=(32, 32))\n",
    "plt.subplot(1, 3, 1)\n",
    "plt.title(\"original\")\n",
    "imgplot = plt.imshow(noisy_vol[75][::-1, :], cmap=\"gray\")\n",
    "plt.subplot(1, 3, 2)\n",
    "plt.title(\"$\\sigma_\\mathrm{RS}=$\"+f\"{RS_sigma}\")\n",
    "plt.imshow(denoised_vol[75][::-1, :], cmap=\"gray\")\n",
    "plt.subplot(1, 3, 3)\n",
    "plt.title(\"difference\")\n",
    "plt.imshow(noisy_vol[75][::-1, :] - denoised_vol[75][::-1, :], cmap=\"gray\")"
   ]
  }
 ],
 "metadata": {
  "accelerator": "GPU",
  "colab": {
   "gpuType": "T4",
   "provenance": []
  },
  "kernelspec": {
   "display_name": "Python 3 (ipykernel)",
   "language": "python",
   "name": "python3"
  },
  "language_info": {
   "codemirror_mode": {
    "name": "ipython",
    "version": 3
   },
   "file_extension": ".py",
   "mimetype": "text/x-python",
   "name": "python",
   "nbconvert_exporter": "python",
   "pygments_lexer": "ipython3",
   "version": "3.10.12"
  }
 },
 "nbformat": 4,
 "nbformat_minor": 5
}
