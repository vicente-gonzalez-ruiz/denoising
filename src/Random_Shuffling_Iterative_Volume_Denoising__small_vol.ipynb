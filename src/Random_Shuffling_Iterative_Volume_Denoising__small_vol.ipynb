{
 "cells": [
  {
   "cell_type": "markdown",
   "id": "24a2b9b0-569f-4f0a-a83c-7ab9c893b3a4",
   "metadata": {},
   "source": [
    "# Iterative Random Shuffling Volume Denoising (IRSVD)"
   ]
  },
  {
   "cell_type": "code",
   "execution_count": null,
   "id": "7be42efa-1e36-4eb8-8d10-5d5f7e7e47d3",
   "metadata": {},
   "outputs": [],
   "source": [
    "try:\n",
    "    import google.colab\n",
    "    IN_COLAB = True\n",
    "except:\n",
    "    IN_COLAB = False\n",
    "\n",
    "if IN_COLAB:\n",
    "    print(\"Running in Colab\")\n",
    "    !pip install cupy-cuda12x\n",
    "    !pip install opticalflow3D\n",
    "    !apt-file update\n",
    "    !apt install libcudart11.0\n",
    "    !apt install libcublas11\n",
    "    !apt install libcufft10\n",
    "    !apt install libcusparse11\n",
    "    !apt install libnvrtc11.2\n",
    "    from google.colab import drive\n",
    "    drive.mount('/content/drive')\n",
    "    !cp drive/Shareddrives/TomogramDenoising/tomograms/small_vol.tif .\n",
    "else:\n",
    "    print(\"Running in locahost\")\n",
    "    !cp /home/vruiz/repos/microscopy-processing/FlowDenoising/src/small_vol.tif ."
   ]
  },
  {
   "cell_type": "code",
   "execution_count": null,
   "id": "2a9f2718-d2d2-4d2b-bf30-bfa5388c65e2",
   "metadata": {},
   "outputs": [],
   "source": [
    "%matplotlib inline\n",
    "import matplotlib.pyplot as plt\n",
    "from matplotlib.pyplot import figure"
   ]
  },
  {
   "cell_type": "code",
   "execution_count": null,
   "id": "a3554ddb-de53-4ac6-a102-01c526f3fa24",
   "metadata": {
    "id": "a3554ddb-de53-4ac6-a102-01c526f3fa24"
   },
   "outputs": [],
   "source": [
    "import opticalflow3D\n",
    "import warnings\n",
    "from numba.core.errors import NumbaPerformanceWarning\n",
    "import numpy as np\n",
    "\n",
    "warnings.filterwarnings(\"ignore\", category=NumbaPerformanceWarning)"
   ]
  },
  {
   "cell_type": "code",
   "execution_count": null,
   "id": "I6Fx1j23clAd",
   "metadata": {
    "id": "I6Fx1j23clAd"
   },
   "outputs": [],
   "source": [
    "noisy_vol = opticalflow3D.helpers.load_image(r\"small_vol.tif\")"
   ]
  },
  {
   "cell_type": "markdown",
   "id": "438f607e-a310-48b5-8dd0-2ddec2db7def",
   "metadata": {
    "id": "438f607e-a310-48b5-8dd0-2ddec2db7def"
   },
   "source": [
    "# Farneback two frame motion estimation"
   ]
  },
  {
   "cell_type": "code",
   "execution_count": null,
   "id": "7ab782f1-6053-4d91-8ba7-3220d3332f44",
   "metadata": {
    "colab": {
     "base_uri": "https://localhost:8080/",
     "height": 211
    },
    "id": "7ab782f1-6053-4d91-8ba7-3220d3332f44",
    "outputId": "e8f03c08-8eb1-4ab3-f854-c360edd8082a"
   },
   "outputs": [],
   "source": [
    "farneback = opticalflow3D.Farneback3D(iters=5,\n",
    "                                      num_levels=3,\n",
    "                                      scale=0.5,\n",
    "                                      spatial_size=3,\n",
    "                                      presmoothing=3,\n",
    "                                      filter_type=\"gaussian\",\n",
    "                                      filter_size=3,\n",
    "                                     )"
   ]
  },
  {
   "cell_type": "code",
   "execution_count": null,
   "id": "0crVg5yFYlgG",
   "metadata": {
    "id": "0crVg5yFYlgG"
   },
   "outputs": [],
   "source": [
    "def randomize(vol, mean=0.0, std_dev=1.0):\n",
    "  depth, height, width = vol.shape[:3]\n",
    "  x_coords, y_coords, z_coords = np.meshgrid(range(width), range(height), range(depth))\n",
    "  flattened_x_coords = x_coords.flatten()\n",
    "  flattened_y_coords = y_coords.flatten()\n",
    "  flattened_z_coords = z_coords.flatten()\n",
    "  #print(np.max(flattened_z_coords), np.max(flattened_y_coords), np.max(flattened_x_coords))\n",
    "  #print(flattened_x_coords.dtype)\n",
    "  displacements_x = np.random.normal(mean, std_dev, flattened_x_coords.shape).astype(np.int32)\n",
    "  displacements_y = np.random.normal(mean, std_dev, flattened_y_coords.shape).astype(np.int32)\n",
    "  displacements_z = np.random.normal(mean, std_dev, flattened_z_coords.shape).astype(np.int32)\n",
    "  print(np.max(displacements_z), np.max(displacements_y), np.max(displacements_x))\n",
    "  print(np.min(displacements_z), np.min(displacements_y), np.min(displacements_x))\n",
    "  randomized_x_coords = flattened_x_coords + displacements_x\n",
    "  randomized_y_coords = flattened_y_coords + displacements_y\n",
    "  randomized_z_coords = flattened_z_coords + displacements_z\n",
    "  #print(np.max(randomized_z_coords), np.max(randomized_y_coords), np.max(randomized_x_coords))\n",
    "  #randomized_x_coords = np.mod(randomized_x_coords, width)\n",
    "  #randomized_y_coords = np.mod(randomized_y_coords, height)\n",
    "  #randomized_z_coords = np.mod(randomized_z_coords, depth)\n",
    "  randomized_x_coords = np.clip(randomized_x_coords, 0, width - 1) # Clip the randomized coordinates to stay within image bounds\n",
    "  randomized_y_coords = np.clip(randomized_y_coords, 0, height - 1)\n",
    "  randomized_z_coords = np.clip(randomized_z_coords, 0, depth - 1)\n",
    "  #print(np.max(randomized_z_coords), np.max(randomized_y_coords), np.max(randomized_x_coords))\n",
    "  #randomized_vol = np.ones_like(vol)*np.average(vol) #np.zeros_like(vol)\n",
    "  randomized_vol = np.zeros_like(vol)\n",
    "  randomized_vol[...] = vol\n",
    "  randomized_vol[randomized_z_coords, randomized_y_coords, randomized_x_coords] = vol[flattened_z_coords, flattened_y_coords, flattened_x_coords]\n",
    "  return randomized_vol\n",
    "\n",
    "def _randomize(vol, max_distance=10):\n",
    "    depth, height, width = image.shape[:3]\n",
    "    #flow_x = np.random.normal(size=(height, width)) * max_distance\n",
    "    #flow_y = np.random.normal(size=(height, width)) * max_distance\n",
    "    flow_x = np.random.uniform(low=-1, high=1, size=(depth, height, width)) * max_distance\n",
    "    flow_y = np.random.uniform(low=-1, high=1, size=(depth, height, width)) * max_distance\n",
    "    flow_z = np.random.uniform(low=-1, high=1, size=(depth, height, width)) * max_distance\n",
    "    #flow_x[...] = 0\n",
    "    #flow_y[...] = 0\n",
    "    #print(np.max(flow_x), np.min(flow_x), max_distance)\n",
    "    flow = np.empty([height, width, 2], dtype=np.float32)\n",
    "    flow[..., 0] = flow_y\n",
    "    flow[..., 1] = flow_x\n",
    "    print(np.max(flow), np.min(flow))\n",
    "    randomized_image = motion_estimation.project(image, flow)\n",
    "    return randomized_image.astype(np.uint8)\n"
   ]
  },
  {
   "cell_type": "code",
   "execution_count": null,
   "id": "j2b0eeunV1GD",
   "metadata": {
    "id": "j2b0eeunV1GD"
   },
   "outputs": [],
   "source": [
    "def project_A_to_B(A, B):\n",
    "  output_vz, output_vy, output_vx, output_confidence = farneback.calculate_flow(A, B,\n",
    "                                                                              start_point=(0, 0, 0),\n",
    "                                                                              total_vol=(A.shape[0], A.shape[1], A.shape[2]),\n",
    "                                                                              sub_volume=(A.shape[0], A.shape[1], A.shape[2]),\n",
    "                                                                              overlap=(8, 8, 8),\n",
    "                                                                              threadsperblock=(8, 8, 8)\n",
    "                                                                             )\n",
    "  print(\"flow\", np.max(np.abs(output_vx)), np.max(np.abs(output_vy)), np.max(np.abs(output_vz)))\n",
    "  projection = opticalflow3D.helpers.generate_inverse_image(B, output_vx, output_vy, output_vz)\n",
    "  return projection"
   ]
  },
  {
   "cell_type": "code",
   "execution_count": null,
   "id": "l6BuB9VhbAsz",
   "metadata": {
    "id": "l6BuB9VhbAsz"
   },
   "outputs": [],
   "source": [
    "def filter(noisy_vol, N_iters=50, RS_sigma=2.0, RS_mean=0.0):\n",
    "  acc_vol = np.zeros_like(noisy_vol, dtype=np.float32)\n",
    "  acc_vol[...] = noisy_vol\n",
    "  for i in range(N_iters):\n",
    "    denoised_vol = acc_vol/(i+1)\n",
    "    #randomized_noisy_vol = randomize(noisy_vol, max_distance=5)\n",
    "    randomized_noisy_vol = randomize(noisy_vol, mean=0, std_dev=RS_sigma)\n",
    "    #print(\"sum(randomized_noisy-noisy)\", np.sum((randomized_noisy_vol-noisy_vol)*(randomized_noisy_vol-noisy_vol)))\n",
    "    #print(\"sum(denoised-randomized_noisy)\", np.sum((denoised_vol-randomized_noisy_vol)*(denoised_vol-randomized_noisy_vol)))\n",
    "    randomized_and_compensated_noisy_vol = project_A_to_B(A=denoised_vol, B=randomized_noisy_vol)\n",
    "    #plt.imshow(randomized_and_compensated_noisy_vol[15], cmap=\"gray\")\n",
    "    #plt.show()\n",
    "    #randomized_and_compensated_noisy_vol = np.zeros_like(randomized_noisy_vol)\n",
    "    #randomized_and_compensated_noisy_vol[...] = randomized_noisy_vol\n",
    "    #print(\"sum(noisy)\", np.sum(noisy_vol))\n",
    "    #print(\"sum(denoised)\", np.sum(denoised_vol))\n",
    "    #print(\"sum(randomized_and_compensated_noisy)\", np.sum(randomized_and_compensated_noisy_vol))\n",
    "    #print(\"sum(randomized_noisy)\", np.sum(randomized_noisy_vol))\n",
    "    #print(\"sum(acc)\", np.sum(acc_vol))\n",
    "    #print(\"sum(randomized_and_compensated_noisy-randomized_noisy)\", np.sum((randomized_and_compensated_noisy_vol-randomized_noisy_vol)*(randomized_and_compensated_noisy_vol-randomized_noisy_vol)))\n",
    "    #print(\"sum(randomized_and_compensated_noisy-noisy)\", np.sum((randomized_and_compensated_noisy_vol-noisy_vol)*(randomized_and_compensated_noisy_vol-noisy_vol)))\n",
    "    #print(np.sum((randomized_and_compensated_noisy_vol-randomized_noisy_vol)*(randomized_and_compensated_noisy_vol-randomized_noisy_vol)))\n",
    "    acc_vol += randomized_and_compensated_noisy_vol\n",
    "  denoised_vol = acc_vol/(N_iters + 1)\n",
    "  return denoised_vol"
   ]
  },
  {
   "cell_type": "code",
   "execution_count": null,
   "id": "91aIEXpSc5ez",
   "metadata": {
    "colab": {
     "base_uri": "https://localhost:8080/",
     "height": 1000
    },
    "id": "91aIEXpSc5ez",
    "outputId": "6e1f085e-8567-4eb8-9c13-13171cead177"
   },
   "outputs": [],
   "source": [
    "RS_sigma = 1.0\n",
    "denoised_vol = filter(noisy_vol, RS_sigma=RS_sigma)"
   ]
  },
  {
   "cell_type": "code",
   "execution_count": null,
   "id": "aea45d9b-f391-4255-8520-7868f55d62b4",
   "metadata": {},
   "outputs": [],
   "source": [
    "figure(figsize=(12, 12))\n",
    "plt.subplot(1, 2, 1)\n",
    "plt.title(\"original\")\n",
    "imgplot = plt.imshow(noisy_vol[0][::-1, :], cmap=\"gray\")\n",
    "plt.subplot(1, 2, 2)\n",
    "plt.title(r\"$\\sigma_\\text{RS}=$\"+f\"{RS_sigma}\")\n",
    "plt.imshow(denoised_vol[0][::-1, :], cmap=\"gray\")"
   ]
  },
  {
   "cell_type": "code",
   "execution_count": null,
   "id": "f6e33b5e-ca4f-475d-a4a7-a8f73865f828",
   "metadata": {},
   "outputs": [],
   "source": [
    "noisy_vol = opticalflow3D.helpers.load_image(r\"big_vol.tif\")"
   ]
  },
  {
   "cell_type": "code",
   "execution_count": null,
   "id": "66131d2c-564f-4334-8a4c-184eff64acd8",
   "metadata": {},
   "outputs": [],
   "source": [
    "noisy_vol.shape"
   ]
  },
  {
   "cell_type": "code",
   "execution_count": null,
   "id": "5f5f69a6-b418-4837-8fc7-f5fc8f647ee6",
   "metadata": {},
   "outputs": [],
   "source": [
    "def project_A_to_B(A, B):\n",
    "  output_vz, output_vy, output_vx, output_confidence = farneback.calculate_flow(A, B,\n",
    "                                                                              start_point=(0, 0, 0),\n",
    "                                                                              total_vol=(A.shape[0], A.shape[1], A.shape[2]),\n",
    "                                                                              sub_volume=(32, 256, 256),\n",
    "                                                                              overlap=(4, 4, 4),\n",
    "                                                                              threadsperblock=(8, 8, 8)\n",
    "                                                                             )\n",
    "  print(\"flow\", np.max(np.abs(output_vx)), np.max(np.abs(output_vy)), np.max(np.abs(output_vz)))\n",
    "  projection = opticalflow3D.helpers.generate_inverse_image(B, output_vx, output_vy, output_vz)\n",
    "  return projection"
   ]
  },
  {
   "cell_type": "code",
   "execution_count": null,
   "id": "165d5012-c7d8-467a-b05c-e7a586fb0e05",
   "metadata": {},
   "outputs": [],
   "source": [
    "denoised_vol = filter(noisy_vol, RS_sigma=RS_sigma, N_iters=5)"
   ]
  },
  {
   "cell_type": "code",
   "execution_count": null,
   "id": "5fe15798-0742-4c16-b38a-a390722d88b8",
   "metadata": {},
   "outputs": [],
   "source": [
    "figure(figsize=(12, 12))\n",
    "plt.subplot(1, 2, 1)\n",
    "plt.title(\"original\")\n",
    "imgplot = plt.imshow(noisy_vol[0][::-1, :], cmap=\"gray\")\n",
    "plt.subplot(1, 2, 2)\n",
    "plt.title(r\"$\\sigma_\\text{RS}=$\"+f\"{RS_sigma}\")\n",
    "plt.imshow(denoised_vol[0][::-1, :], cmap=\"gray\")"
   ]
  },
  {
   "cell_type": "code",
   "execution_count": null,
   "id": "53ebcdfd-7041-4db5-9592-23769da1fedc",
   "metadata": {},
   "outputs": [],
   "source": [
    "figure(figsize=(12, 12))\n",
    "plt.subplot(1, 2, 1)\n",
    "plt.title(\"original\")\n",
    "imgplot = plt.imshow(noisy_vol[0][::-1, :][100:356, 100:356], cmap=\"gray\")\n",
    "plt.subplot(1, 2, 2)\n",
    "plt.title(r\"$\\sigma_\\text{RS}=$\"+f\"{RS_sigma}\")\n",
    "plt.imshow(denoised_vol[0][::-1, :][100:356, 100:356], cmap=\"gray\")"
   ]
  },
  {
   "cell_type": "code",
   "execution_count": null,
   "id": "MHdosxsAhGpx",
   "metadata": {
    "id": "MHdosxsAhGpx"
   },
   "outputs": [],
   "source": [
    "import skimage.io"
   ]
  },
  {
   "cell_type": "code",
   "execution_count": null,
   "id": "wj0c8J4ifxay",
   "metadata": {
    "id": "wj0c8J4ifxay"
   },
   "outputs": [],
   "source": [
    "skimage.io.imsave(f\"denoised.tif\", denoised_vol, imagej=True)"
   ]
  },
  {
   "cell_type": "code",
   "execution_count": null,
   "id": "30uauv3yhWzK",
   "metadata": {
    "id": "30uauv3yhWzK"
   },
   "outputs": [],
   "source": [
    "%%bash\n",
    "ls -l"
   ]
  },
  {
   "cell_type": "code",
   "execution_count": null,
   "id": "06n_fvlkd4lr",
   "metadata": {
    "id": "06n_fvlkd4lr"
   },
   "outputs": [],
   "source": [
    "input()"
   ]
  },
  {
   "cell_type": "code",
   "execution_count": null,
   "id": "dc009976-75b1-4b32-a947-afb1e65ae086",
   "metadata": {
    "id": "dc009976-75b1-4b32-a947-afb1e65ae086"
   },
   "outputs": [],
   "source": [
    "# Load the images\n",
    "image1 = opticalflow3D.helpers.load_image(r\"E:\\data\\3DTFM\\test_set\\image1.tif\")\n",
    "image2 = opticalflow3D.helpers.load_image(r\"E:\\data\\3DTFM\\test_set\\image2.tif\")"
   ]
  },
  {
   "cell_type": "code",
   "execution_count": null,
   "id": "40767a8b-ac43-42ab-84b6-22ce13210fcf",
   "metadata": {
    "id": "40767a8b-ac43-42ab-84b6-22ce13210fcf"
   },
   "outputs": [],
   "source": [
    "# Realign the image manually to remove any drift during the acquisition of the image\n",
    "image1 = opticalflow3D.helpers.crop_image(image1, z_reverse=True, z_start=2, y_start=1, x_start=1)\n",
    "image2 = opticalflow3D.helpers.crop_image(image2, z_reverse=True, z_end=-2, y_end=-1, x_end=-1)"
   ]
  },
  {
   "cell_type": "code",
   "execution_count": null,
   "id": "a3a42ea3-2c56-4014-ad29-7a87e210bf39",
   "metadata": {
    "id": "a3a42ea3-2c56-4014-ad29-7a87e210bf39"
   },
   "outputs": [],
   "source": [
    "output_vz, output_vy, output_vx, output_confidence = farneback.calculate_flow(image1, image2,\n",
    "                                                                              start_point=(0, 300, 300),\n",
    "                                                                              total_vol=(512, 512, 512),\n",
    "                                                                              sub_volume=(350, 350, 350),\n",
    "                                                                              overlap=(64, 64, 64),\n",
    "                                                                              threadsperblock=(8, 8, 8),\n",
    "                                                                             )"
   ]
  },
  {
   "cell_type": "code",
   "execution_count": null,
   "id": "223a97ef-77d3-4941-8e7b-8566c983b44a",
   "metadata": {
    "id": "223a97ef-77d3-4941-8e7b-8566c983b44a"
   },
   "outputs": [],
   "source": [
    "opticalflow3D.helpers.save_displacements(\"vectors.npz\", output_vz, output_vy, output_vx)\n",
    "opticalflow3D.helpers.save_confidence(\"confidence.npz\", output_confidence)"
   ]
  },
  {
   "cell_type": "markdown",
   "id": "4fbbfaac-7b66-44ea-a781-d00504e27de8",
   "metadata": {
    "id": "4fbbfaac-7b66-44ea-a781-d00504e27de8"
   },
   "source": [
    "## Perform qualitative/quatitative assessment of vectors"
   ]
  },
  {
   "cell_type": "code",
   "execution_count": null,
   "id": "8f906185-7ac9-4a18-aff7-50f79590c523",
   "metadata": {
    "id": "8f906185-7ac9-4a18-aff7-50f79590c523"
   },
   "outputs": [],
   "source": [
    "import numpy as np\n",
    "import skimage.io\n",
    "import skimage.metrics"
   ]
  },
  {
   "cell_type": "code",
   "execution_count": null,
   "id": "1f722893-610c-466a-b80e-01ebeb199f25",
   "metadata": {
    "id": "1f722893-610c-466a-b80e-01ebeb199f25"
   },
   "outputs": [],
   "source": [
    "start_point=(0, 300, 300)\n",
    "total_vol=(512, 512, 512)\n",
    "cropped_image1 = image1[start_point[0]:start_point[0]+total_vol[0],\n",
    "                        start_point[1]:start_point[1]+total_vol[1],\n",
    "                        start_point[2]:start_point[2]+total_vol[2]]\n",
    "\n",
    "cropped_image2 = image2[start_point[0]:start_point[0]+total_vol[0],\n",
    "                        start_point[1]:start_point[1]+total_vol[1],\n",
    "                        start_point[2]:start_point[2]+total_vol[2]]"
   ]
  },
  {
   "cell_type": "code",
   "execution_count": null,
   "id": "e0fba0dd-436b-4779-93c5-8e5e828b683b",
   "metadata": {
    "id": "e0fba0dd-436b-4779-93c5-8e5e828b683b"
   },
   "outputs": [],
   "source": [
    "inverse_image = opticalflow3D.helpers.generate_inverse_image(cropped_image1, output_vx, output_vy, output_vz)"
   ]
  },
  {
   "cell_type": "code",
   "execution_count": null,
   "id": "c4be24ac-959a-4853-9089-0e0168ef2411",
   "metadata": {
    "id": "c4be24ac-959a-4853-9089-0e0168ef2411"
   },
   "outputs": [],
   "source": [
    "output_image = np.moveaxis(np.stack((inverse_image, cropped_image2)), 0, 1)\n",
    "skimage.io.imsave(f\"comparison_image.tif\", output_image, imagej=True)"
   ]
  },
  {
   "cell_type": "code",
   "execution_count": null,
   "id": "17accabc-858e-4557-97e4-cfc8773310a4",
   "metadata": {
    "id": "17accabc-858e-4557-97e4-cfc8773310a4"
   },
   "outputs": [],
   "source": [
    "nrmse = skimage.metrics.normalized_root_mse(cropped_image2, inverse_image)\n",
    "print(f\"Normalized root mse: {nrmse}\")"
   ]
  },
  {
   "cell_type": "code",
   "execution_count": null,
   "id": "929f1eae",
   "metadata": {
    "id": "929f1eae"
   },
   "outputs": [],
   "source": [
    "output_image = np.moveaxis(np.stack((inverse_image, cropped_image2)), 0, 1)\n",
    "skimage.io.imsave(f\"comparison_image.tif\", output_image, imagej=True)"
   ]
  },
  {
   "cell_type": "code",
   "execution_count": null,
   "id": "395314fc-ddd2-44f2-98ed-4995073e055b",
   "metadata": {
    "id": "395314fc-ddd2-44f2-98ed-4995073e055b"
   },
   "outputs": [],
   "source": []
  }
 ],
 "metadata": {
  "accelerator": "GPU",
  "colab": {
   "gpuType": "T4",
   "provenance": []
  },
  "kernelspec": {
   "display_name": "Python 3 (ipykernel)",
   "language": "python",
   "name": "python3"
  },
  "language_info": {
   "codemirror_mode": {
    "name": "ipython",
    "version": 3
   },
   "file_extension": ".py",
   "mimetype": "text/x-python",
   "name": "python",
   "nbconvert_exporter": "python",
   "pygments_lexer": "ipython3",
   "version": "3.10.12"
  }
 },
 "nbformat": 4,
 "nbformat_minor": 5
}
