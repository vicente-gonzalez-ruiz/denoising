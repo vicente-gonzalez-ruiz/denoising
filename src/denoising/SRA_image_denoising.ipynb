{
 "cells": [
  {
   "cell_type": "markdown",
   "id": "24a2b9b0-569f-4f0a-a83c-7ab9c893b3a4",
   "metadata": {},
   "source": [
    "# SRaA (Suffle, Register and Average) image denoising"
   ]
  },
  {
   "cell_type": "code",
   "execution_count": null,
   "id": "d71f427c-d83e-4c99-8b49-13106749331c",
   "metadata": {},
   "outputs": [],
   "source": [
    "#use_opticalflow3D = False"
   ]
  },
  {
   "cell_type": "code",
   "execution_count": null,
   "id": "cac4bc34-01c4-4b01-a1ea-34c918fc182b",
   "metadata": {},
   "outputs": [],
   "source": [
    "#vol_name = \"small_vol\""
   ]
  },
  {
   "cell_type": "code",
   "execution_count": null,
   "id": "7be42efa-1e36-4eb8-8d10-5d5f7e7e47d3",
   "metadata": {},
   "outputs": [],
   "source": [
    "try:\n",
    "    import google.colab\n",
    "    IN_COLAB = True\n",
    "except:\n",
    "    IN_COLAB = False\n",
    "\n",
    "if IN_COLAB:\n",
    "    print(\"Running in Colab\")\n",
    "    !pip install cupy-cuda12x\n",
    "    !pip install opticalflow3D\n",
    "    !apt install libcudart11.0\n",
    "    !apt install libcublas11\n",
    "    !apt install libcufft10\n",
    "    !apt install libcusparse11\n",
    "    !apt install libnvrtc11.2\n",
    "    from google.colab import drive\n",
    "    drive.mount('/content/drive')\n",
    "    !cp drive/Shareddrives/TomogramDenoising/tomograms/{vol_name}.tif .\n",
    "else:\n",
    "    print(\"Running in locahost\")\n",
    "    !cp ~/Downloads/{vol_name}.tif ."
   ]
  },
  {
   "cell_type": "code",
   "execution_count": null,
   "id": "2280c659-3a75-4034-8bcc-b9c2f77c906b",
   "metadata": {},
   "outputs": [],
   "source": [
    "vol_filename = \"small_vol.mrc\""
   ]
  },
  {
   "cell_type": "code",
   "execution_count": null,
   "id": "0fbfba97-3adb-4526-8aee-e41d33fad865",
   "metadata": {},
   "outputs": [],
   "source": [
    "from collections import namedtuple\n",
    "Args = namedtuple(\"args\", [\"input\", \"output\"])\n",
    "fn, fe = vol_filename.split(\".\")\n",
    "args = Args(vol_filename , fn + \"_denoised.\" + fe)\n",
    "print(args)"
   ]
  },
  {
   "cell_type": "code",
   "execution_count": null,
   "id": "7367c483-87c1-454f-9560-f32298ad1805",
   "metadata": {},
   "outputs": [],
   "source": [
    "#!pip install gdown"
   ]
  },
  {
   "cell_type": "code",
   "execution_count": null,
   "id": "9d823f25-2b3f-46e0-ad3a-ccc725384565",
   "metadata": {},
   "outputs": [],
   "source": [
    "%%bash -s \"$args.input\"\n",
    "set -x\n",
    "OUTPUT_FILENAME=$1\n",
    "#rm -f $OUTPUT_FILENAME\n",
    "if test ! -f $OUTPUT_FILENAME ; then\n",
    "    FILEID=\"1YDyHWyB1d6yq2LYif2zQcQgr7vhlspYo\" # https://drive.google.com/file/d/1YDyHWyB1d6yq2LYif2zQcQgr7vhlspYo/view?usp=sharing\n",
    "    #FILEID=\"1iui018SGKa5nb0ybeoUAB7uCUhl9EJ5o\" #https://drive.google.com/file/d/1iui018SGKa5nb0ybeoUAB7uCUhl9EJ5o/view?usp=sharing\n",
    "    #wget --no-check-certificate 'https://docs.google.com/uc?export=download&id='$FILEID -O $OUTPUT_FILENAME #2> /dev/null\n",
    "    #wget --load-cookies /tmp/cookies.txt \"https://docs.google.com/uc?export=download&confirm=$(wget --quiet --save-cookies /tmp/cookies.txt --keep-session-cookies --no-check-certificate 'https://docs.google.com/uc?export=download&id=FILEID' -O- | sed -rn 's/.*confirm=([0-9A-Za-z_]+).*/\\1\\n/p')&id=FILEID\" -O FILENAME && rm -rf /tmp/cookies.txt\n",
    "    gdown https://drive.google.com/uc?id=$FILEID # pip install gdown\n",
    "fi\n",
    "ls -l $OUTPUT_FILENAME\n",
    "set +x"
   ]
  },
  {
   "cell_type": "code",
   "execution_count": null,
   "id": "2a9f2718-d2d2-4d2b-bf30-bfa5388c65e2",
   "metadata": {},
   "outputs": [],
   "source": [
    "%matplotlib inline\n",
    "import matplotlib.pyplot as plt\n",
    "from matplotlib.pyplot import figure"
   ]
  },
  {
   "cell_type": "code",
   "execution_count": null,
   "id": "66e47117-4871-4b1b-9112-3f045b196d52",
   "metadata": {},
   "outputs": [],
   "source": [
    "import motion_estimation # pip install \"motion_estimation @ git+https://github.com/vicente-gonzalez-ruiz/motion_estimation\""
   ]
  },
  {
   "cell_type": "code",
   "execution_count": null,
   "id": "92a65bb7-ccc4-4240-8d3b-b73ab402dc48",
   "metadata": {},
   "outputs": [],
   "source": [
    "import information_theory  # pip install \"information_theory @ git+https://github.com/vicente-gonzalez-ruiz/information_theory\""
   ]
  },
  {
   "cell_type": "code",
   "execution_count": null,
oising.ipynb
   "id": "4a3a10f8-4515-4949-b50f-1f0dfbec1e71",
   "metadata": {},
   "outputs": [],
   "source": [
    "#import opticalflow3D\n",
    "#import warnings\n",
    "#from numba.core.errors import NumbaPerformanceWarning\n",
    "import numpy as np\n",
    "#warnings.filterwarnings(\"ignore\", category=NumbaPerformanceWarning)\n",
    "#else:\n",
    "#    import motion_estimation._3D.farneback as farneback3D"
   ]
  },
  {
   "cell_type": "code",
   "execution_count": null,
   "id": "2b135ccc-e869-4c88-8189-ad55fbba5130",
   "metadata": {},
   "outputs": [],
   "source": [
    "import mrcfile\n",
    "from collections import namedtuple"
   ]
  },
  {
   "cell_type": "code",
   "execution_count": null,
   "id": "e4f356cb-1649-4af8-9b20-ddbe3bb4a372",
   "metadata": {},
   "outputs": [],
   "source": [
    "Args = namedtuple(\"args\", \"input\")\n",
    "args = Args(\"small_vol.mrc\")"
   ]
  },
  {
   "cell_type": "code",
   "execution_count": null,
   "id": "0e1cdc3b-5ca4-4357-93b1-e6f598d4e3e9",
   "metadata": {},
   "outputs": [],
   "source": [
    "%%bash -s \"$args.input\"\n",
    "set -x\n",
    "OUTPUT_FILENAME=$1\n",
    "#rm -f $OUTPUT_FILENAME\n",
    "if test ! -f $OUTPUT_FILENAME ; then\n",
    "    FILEID=\"1YDyHWyB1d6yq2LYif2zQcQgr7vhlspYo\"\n",
    "    wget --no-check-certificate 'https://docs.google.com/uc?export=download&id='$FILEID -O $OUTPUT_FILENAME 2> /dev/null\n",
    "fi\n",
    "set +x"
   ]
  },
  {
   "cell_type": "code",
   "execution_count": null,
   "id": "9be0587a-ac47-46b6-8e90-4016672dc105",
   "metadata": {},
   "outputs": [],
oising.ipynb
   "source": [
    "stack_MRC = mrcfile.open(args.input)\n",
    "noisy = stack_MRC.data\n",
    "print(noisy.shape)"
   ]
  },
  {
   "cell_type": "code",
   "execution_count": null,
   "id": "d57b6e47-b0ce-4a63-ab27-192436202b28",
   "metadata": {},
   "outputs": [],
   "source": [
    "import volume.SRaA"
   ]
  },
  {
   "cell_type": "code",
   "execution_count": 18,
   "id": "f375d960-3644-4509-a442-dc18ab587b0f",
   "metadata": {},
   "outputs": [],
   "source": [
    "noisy = (255*(noisy - np.min(noisy))/(np.max(noisy) - np.min(noisy))).astype(np.uint8)"
   ]
  },
  {
   "cell_type": "code",
   "execution_count": 20,
   "id": "0318d995-4815-473e-bc62-ba21f843e334",
   "metadata": {},
   "outputs": [],
   "source": [
    "import logging\n",
    "logging.basicConfig(format=\"[%(filename)s:%(lineno)s %(funcName)s()] %(message)s\")\n",
    "logger = logging.getLogger(__name__)\n",
    "logger.setLevel(logging.INFO)"
   ]
  },
  {
   "cell_type": "code",
   "execution_count": 21,
   "id": "b31129fb-a321-46f0-8cdc-f53ae705c3f8",
   "metadata": {},
   "outputs": [
    {
     "ename": "TypeError",
     "evalue": "'module' object is not callable",
     "output_type": "error",
     "traceback": [
      "\u001b[31m---------------------------------------------------------------------------\u001b[39m",
      "\u001b[31mTypeError\u001b[39m                                 Traceback (most recent call last)",
      "\u001b[36mCell\u001b[39m\u001b[36m \u001b[39m\u001b[32mIn[21]\u001b[39m\u001b[32m, line 2\u001b[39m\n\u001b[32m      1\u001b[39m \u001b[38;5;28;01mimport\u001b[39;00m\u001b[38;5;250m \u001b[39m\u001b[34;01mmotion_estimation\u001b[39;00m\u001b[34;01m.\u001b[39;00m\u001b[34;01m_3D\u001b[39;00m\u001b[34;01m.\u001b[39;00m\u001b[34;01mfarneback\u001b[39;00m\u001b[38;5;250m \u001b[39m\u001b[38;5;28;01mas\u001b[39;00m\u001b[38;5;250m \u001b[39m\u001b[34;01mfarneback3D\u001b[39;00m\n\u001b[32m----> \u001b[39m\u001b[32m2\u001b[39m OF_estimator = \u001b[43mfarneback3D\u001b[49m\u001b[43m(\u001b[49m\u001b[43mlogger\u001b[49m\u001b[43m)\u001b[49m\n",
      "\u001b[31mTypeError\u001b[39m: 'module' object is not callable"
     ]
    }
   ],
   "source": [
    "import motion_estimation._3D.farneback as farneback3D\n",
    "OF_estimator = farneback3D.(logger)"
   ]
  },
  {
   "cell_type": "code",
   "execution_count": null,
   "id": "fce92214-000b-40c2-bb9c-80fb45cfdda0",
   "metadata": {},
   "outputs": [],
   "source": []
  },
  {
   "cell_type": "code",
   "execution_count": null,
   "id": "2c0f57e5-66b4-4b2c-a157-08d485055c84",
   "metadata": {},
   "outputs": [],
   "source": []
  },
  {
   "cell_type": "code",
   "execution_count": null,
   "id": "51b98dab-528c-48d9-8765-6b0c9fa5adb5",
   "metadata": {},
   "outputs": [],
   "source": []
  },
  {
   "cell_type": "code",
   "execution_count": null,
   "id": "8a1f1196-f3f8-400d-8719-a3ca59d62dac",
   "metadata": {},
   "outputs": [],
   "source": [
    "if use_opticalflow3D:\n",
    "    block_size = (noisy.shape[0], noisy.shape[1], noisy.shape[2])"
   ]
  },
  {
   "cell_type": "code",
   "execution_count": null,
   "id": "7ab782f1-6053-4d91-8ba7-3220d3332f44",
   "metadata": {
    "colab": {
     "base_uri": "https://localhost:8080/",
     "height": 211
    },
    "id": "7ab782f1-6053-4d91-8ba7-3220d3332f44",
    "outputId": "e8f03c08-8eb1-4ab3-f854-c360edd8082a"
   },
   "outputs": [],
   "source": [
    "if use_opticalflow3D:\n",
    "    #farneback = opticalflow3D.Farneback3D(iters=5, num_levels=3, scale=0.5, spatial_size=33, presmoothing=None, filter_type=\"gaussian\", filter_size=3)\n",
    "    #farneback = opticalflow3D.Farneback3D(iters=5, num_levels=3, scale=0.5, spatial_size=13, presmoothing=None, filter_type=\"gaussian\", filter_size=7)\n",
    "    #farneback = opticalflow3D.Farneback3D(iters=5, num_levels=3, scale=0.5, spatial_size=5, presmoothing=3, filter_type=\"gaussian\", filter_size=5)\n",
    "    #farneback = opticalflow3D.Farneback3D(iters=5, num_levels=3, scale=0.5, spatial_size=3, presmoothing=5, filter_type=\"box\", filter_size=3)\n",
    "    #farneback = opticalflow3D.Farneback3D(iters=5, num_levels=5, scale=0.5, spatial_size=3, presmoothing=5, filter_type=\"box\", filter_size=3)\n",
    "    #farneback = opticalflow3D.Farneback3D(iters=5, num_levels=5, scale=0.5, spatial_size=3, presmoothing=5, filter_type=\"gaussian\", filter_size=11)\n",
    "    #farneback = opticalflow3D.Farneback3D(iters=5, num_levels=1, scale=0.5, spatial_size=5, presmoothing=4, filter_type=\"box\", filter_size=5)\n",
    "    estimator = opticalflow3D.Farneback3D(iters=5, num_levels=5, scale=0.5, spatial_size=9, sigma_k=0.15, filter_type=\"gaussian\" ,filter_size=7, presmoothing=None, device_id=0)\n",
    "else:\n",
    "    estimator = farneback3D("
   ]
  },
  {
   "cell_type": "code",
   "execution_count": null,
   "id": "91aIEXpSc5ez",
   "metadata": {
    "colab": {
     "base_uri": "https://localhost:8080/",
     "height": 1000
    },
    "id": "91aIEXpSc5ez",
    "outputId": "6e1f085e-8567-4eb8-9c13-13171cead177"
   },
   "outputs": [],
   "source": [
    "RS_sigma = 0.75\n",
    "if use_opticalflow3D:\n",
    "    denoised = RSIVD.filter(farneback, block_size, noisy, RS_sigma=RS_sigma, N_iters=20)\n",
    "else:\n",
    "    "
   ]
  },
  {
   "cell_type": "code",
   "execution_count": null,
   "id": "1478c390-7a08-49ec-ba26-d00710da1e12",
   "metadata": {},
   "outputs": [],
   "source": [
    "np.min(denoised)"
   ]
  },
  {
   "cell_type": "code",
   "execution_count": null,
   "id": "db82a856-2708-466a-a53b-aee7cb7d32ac",
   "metadata": {},
   "outputs": [],
   "source": [
    "fig, axs = plt.subplots(1, 2, figsize=(16, 32))\n",
    "axs[0].imshow(noisy[16], cmap=\"gray\")\n",
    "axs[0].set_title(f\"Noisy\")\n",
    "axs[1].imshow(denoised[16], cmap=\"gray\")\n",
    "axs[1].set_title(f\"Denoised (DQI={information_theory.information.compute_quality_index(noisy[16], denoised[16])})\")\n",
    "fig.tight_layout()\n",
    "plt.show()"
   ]
  },
  {
   "cell_type": "code",
   "execution_count": null,
   "id": "829b4f5b-39a2-4c3f-a4aa-f973c46504ce",
   "metadata": {},
   "outputs": [],
   "source": [
    "fig, axs = plt.subplots(1, 2, figsize=(16, 32))\n",
    "axs[0].imshow(noisy[:, 100], cmap=\"gray\")\n",
    "axs[0].set_title(f\"Noisy\")\n",
    "axs[1].imshow(denoised[:, 100], cmap=\"gray\")\n",
    "axs[1].set_title(f\"Denoised (DQI={information_theory.information.compute_quality_index(noisy[:, 100], denoised[:, 100])})\")\n",
    "fig.tight_layout()\n",
    "plt.show()"
   ]
  },
  {
   "cell_type": "code",
   "execution_count": null,
   "id": "4211b567-ec27-4deb-8615-a840745f4628",
   "metadata": {},
   "outputs": [],
   "source": [
    "fig, axs = plt.subplots(1, 2, figsize=(16, 32))\n",
    "axs[0].imshow(noisy[:, :, 100], cmap=\"gray\")\n",
    "axs[0].set_title(f\"Noisy\")\n",
    "axs[1].imshow(denoised[:, :, 100], cmap=\"gray\")\n",
    "axs[1].set_title(f\"Denoised (DQI={information_theory.information.compute_quality_index(noisy[:, :, 100], denoised[:, :, 100])})\")\n",
    "fig.tight_layout()\n",
    "plt.show()"
   ]
  },
  {
   "cell_type": "code",
   "execution_count": null,
   "id": "079da8f2-c5b1-41a1-bd9a-5e75595f2af6",
   "metadata": {},
   "outputs": [],
   "source": [
    "figure(figsize=(32, 32))\n",
    "plt.subplot(1, 3, 1)\n",
    "plt.title(\"original\")\n",
    "imgplot = plt.imshow(noisy_vol[15][::-1, :], cmap=\"gray\")\n",
    "plt.subplot(1, 3, 2)\n",
    "plt.title(\"$\\sigma_\\mathrm{RS}=$\"+f\"{RS_sigma}\")\n",
    "plt.imshow(denoised_vol[15][::-1, :], cmap=\"gray\")\n",
    "plt.subplot(1, 3, 3)\n",
    "plt.title(\"difference\")\n",
    "plt.imshow(noisy_vol[15][::-1, :] - denoised_vol[15][::-1, :], cmap=\"gray\")"
   ]
  },
  {
   "cell_type": "code",
   "execution_count": null,
   "id": "5d159fc4-a84c-45b8-b92e-970f6ef21b16",
   "metadata": {},
   "outputs": [],
   "source": [
    "figure(figsize=(32, 32))\n",
    "plt.subplot(1, 3, 1)\n",
    "plt.title(\"original\")\n",
    "imgplot = plt.imshow(noisy_vol[15][::-1, :], cmap=\"gray\")\n",
    "plt.subplot(1, 3, 2)\n",
    "plt.title(\"$\\sigma_\\mathrm{RS}=$\"+f\"{RS_sigma}\")\n",
    "plt.imshow(denoised_vol[15][::-1, :], cmap=\"gray\")\n",
    "plt.subplot(1, 3, 3)\n",
    "plt.title(\"difference\")\n",
    "plt.imshow(noisy_vol[15][::-1, :] - denoised_vol[15][::-1, :], cmap=\"gray\")"
   ]
  },
  {
   "cell_type": "code",
   "execution_count": null,
   "id": "9af50ac2-d2c9-49dc-b47d-31cc3195cfa1",
   "metadata": {},
   "outputs": [],
   "source": [
    "skimage.io.imsave(f\"{vol_name}_denoised_{RS_sigma}.tif\", denoised_vol, imagej=True)"
   ]
  },
  {
   "cell_type": "code",
   "execution_count": null,
   "id": "64b31c4b-8e86-48ae-82e1-d0a43da532a0",
   "metadata": {},
   "outputs": [],
   "source": [
    "img = skimage.io.imread(\"http://www.hpca.ual.es/~vruiz/images/barb.png\")#[:256, :256]"
   ]
  },
  {
   "cell_type": "code",
   "execution_count": null,
   "id": "faeb3ec8-744d-4698-adac-e106dd362943",
   "metadata": {},
   "outputs": [],
   "source": [
    "noisy_vol = np.stack([img]*32)"
   ]
  },
  {
   "cell_type": "code",
   "execution_count": null,
   "id": "654bd0a1-15f9-4865-9994-c398fba60cfd",
   "metadata": {},
   "outputs": [],
   "source": [
    "noisy_vol.shape"
   ]
  },
  {
   "cell_type": "code",
   "execution_count": null,
   "id": "95d7ee9c-6ab3-4c49-886e-f6b1cbf8a0b7",
   "metadata": {},
   "outputs": [],
   "source": [
    "mean = 0\n",
    "var = 1000\n",
    "sigma = var**0.5\n",
    "for i in range(noisy_vol.shape[0]):\n",
    "    noise = np.random.normal(mean,sigma,img.shape).reshape(img.shape)\n",
    "    noisy_vol[i] = np.clip(a=img.astype(np.float32) + noise, a_min=0, a_max=255).astype(np.uint8)"
   ]
  },
  {
   "cell_type": "code",
   "execution_count": null,
   "id": "f5dcf783-2322-4dfa-a3dc-50d71242d6b8",
   "metadata": {},
   "outputs": [],
   "source": [
    "farneback = opticalflow3D.Farneback3D(iters=5,\n",
    "                                      num_levels=3,\n",
    "                                      scale=0.5,\n",
    "                                      spatial_size=5,\n",
    "                                      presmoothing=2,\n",
    "                                      filter_type=\"box\",\n",
    "                                      filter_size=5,\n",
    "                                     )"
   ]
  },
  {
   "cell_type": "code",
   "execution_count": null,
   "id": "4016f92f-a994-49ba-b3a0-8bf1eb2ff1ab",
   "metadata": {},
   "outputs": [],
   "source": [
    "RS_sigma = 1.0\n",
    "denoised_vol = RSIVD.filter(farneback, block_size, noisy_vol, RS_sigma=RS_sigma, N_iters=30)"
   ]
  },
  {
   "cell_type": "code",
   "execution_count": null,
   "id": "68addb39-8cef-4ae3-9bc1-a36af26f1352",
   "metadata": {},
   "outputs": [],
   "source": [
    "figure(figsize=(32, 32))\n",
    "plt.subplot(1, 3, 1)\n",
    "plt.title(\"original\")\n",
    "imgplot = plt.imshow(noisy_vol[15], cmap=\"gray\")\n",
    "plt.subplot(1, 3, 2)\n",
    "plt.title(\"$\\sigma_\\mathrm{RS}=$\"+f\"{RS_sigma}\")\n",
    "plt.imshow(denoised_vol[15], cmap=\"gray\")\n",
    "plt.subplot(1, 3, 3)\n",
    "plt.title(\"difference\")\n",
    "plt.imshow(noisy_vol[15] - denoised_vol[15], cmap=\"gray\")"
   ]
  },
  {
   "cell_type": "code",
   "execution_count": null,
   "id": "7ed5db45-9d18-4eb1-b005-3f8209cb1e09",
   "metadata": {},
   "outputs": [],
   "source": [
    "RS_sigma = 1.0\n",
    "denoised_vol = RSIVD.filter(farneback, block_size, noisy_vol, RS_sigma=RS_sigma, N_iters=100)"
   ]
  },
  {
   "cell_type": "code",
   "execution_count": null,
   "id": "50515c13-18c3-482d-881d-0ddb94b71654",
   "metadata": {},
   "outputs": [],
   "source": [
    "figure(figsize=(32, 32))\n",
    "plt.subplot(1, 3, 1)\n",
    "plt.title(\"original\")\n",
    "imgplot = plt.imshow(noisy_vol[15], cmap=\"gray\")\n",
    "plt.subplot(1, 3, 2)\n",
    "plt.title(\"$\\sigma_\\mathrm{RS}=$\"+f\"{RS_sigma}\")\n",
    "plt.imshow(denoised_vol[15], cmap=\"gray\")\n",
    "plt.subplot(1, 3, 3)\n",
    "plt.title(\"difference\")\n",
    "plt.imshow(noisy_vol[15] - denoised_vol[15], cmap=\"gray\")"
   ]
  },
  {
   "cell_type": "code",
   "execution_count": null,
   "id": "f3142a6e-6072-433a-9567-ba510f86ce1e",
   "metadata": {},
   "outputs": [],
   "source": [
    "RS_sigma = 2.0\n",
    "denoised_vol = RSIVD.filter(farneback, block_size, noisy_vol, RS_sigma=RS_sigma, N_iters=30)"
   ]
  },
  {
   "cell_type": "code",
   "execution_count": null,
   "id": "223e44bb-cebb-40b3-b097-e3081dc70a4e",
   "metadata": {},
   "outputs": [],
   "source": [
    "figure(figsize=(32, 32))\n",
    "plt.subplot(1, 3, 1)\n",
    "plt.title(\"original\")\n",
    "imgplot = plt.imshow(noisy_vol[15], cmap=\"gray\")\n",
    "plt.subplot(1, 3, 2)\n",
    "plt.title(\"$\\sigma_\\mathrm{RS}=$\"+f\"{RS_sigma}\")\n",
    "plt.imshow(denoised_vol[15], cmap=\"gray\")\n",
    "plt.subplot(1, 3, 3)\n",
    "plt.title(\"difference\")\n",
    "plt.imshow(noisy_vol[15] - denoised_vol[15], cmap=\"gray\")"
   ]
  },
  {
   "cell_type": "code",
   "execution_count": null,
   "id": "3f8fb010-4a86-49cc-9757-253ca5b6fe9a",
   "metadata": {},
   "outputs": [],
   "source": [
    "RS_sigma = 3.0\n",
    "denoised_vol = RSIVD.filter(farneback, block_size, noisy_vol, RS_sigma=RS_sigma, N_iters=30)"
   ]
  },
  {
   "cell_type": "code",
   "execution_count": null,
   "id": "8a4fc490-9b49-47bf-9d54-de7c6a180fa4",
   "metadata": {},
   "outputs": [],
   "source": [
    "figure(figsize=(32, 32))\n",
    "plt.subplot(1, 3, 1)\n",
    "plt.title(\"original\")\n",
    "imgplot = plt.imshow(noisy_vol[15], cmap=\"gray\")\n",
    "plt.subplot(1, 3, 2)\n",
    "plt.title(\"$\\sigma_\\mathrm{RS}=$\"+f\"{RS_sigma}\")\n",
    "plt.imshow(denoised_vol[15], cmap=\"gray\")\n",
    "plt.subplot(1, 3, 3)\n",
    "plt.title(\"difference\")\n",
    "plt.imshow(noisy_vol[15] - denoised_vol[15], cmap=\"gray\")"
   ]
  },
  {
   "cell_type": "code",
   "execution_count": null,
   "id": "5e6f6df4-7606-45b3-bb2f-4d0c1bf601bc",
   "metadata": {},
   "outputs": [],
   "source": [
    "#skimage.io.imsave(f\"{vol_name}_denoised_{RS_sigma}.tif\", denoised_vol, imagej=True)"
   ]
  }
 ],
 "metadata": {
  "accelerator": "GPU",
  "colab": {
   "gpuType": "T4",
   "provenance": []
  },
  "kernelspec": {
   "display_name": "Python 3 (ipykernel)",
   "language": "python",
   "name": "python3"
  },
  "language_info": {
   "codemirror_mode": {
    "name": "ipython",
    "version": 3
   },
   "file_extension": ".py",
   "mimetype": "text/x-python",
   "name": "python",
   "nbconvert_exporter": "python",
   "pygments_lexer": "ipython3",
   "version": "3.13.7"
  }
 },
 "nbformat": 4,
 "nbformat_minor": 5
}
