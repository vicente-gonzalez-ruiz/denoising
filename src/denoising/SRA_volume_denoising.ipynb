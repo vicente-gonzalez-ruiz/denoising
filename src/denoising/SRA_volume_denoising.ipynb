{
 "cells": [
  {
   "cell_type": "markdown",
   "id": "24a2b9b0-569f-4f0a-a83c-7ab9c893b3a4",
   "metadata": {},
   "source": [
    "# Shuffle, Register and Average (SRA) volume denoising"
   ]
  },
  {
   "cell_type": "code",
   "execution_count": 1,
   "id": "d71f427c-d83e-4c99-8b49-13106749331c",
   "metadata": {},
   "outputs": [],
   "source": [
    "#use_opticalflow3D = False"
   ]
  },
  {
   "cell_type": "code",
   "execution_count": 2,
   "id": "cac4bc34-01c4-4b01-a1ea-34c918fc182b",
   "metadata": {},
   "outputs": [],
   "source": [
    "#vol_name = \"small_vol\""
   ]
  },
  {
   "cell_type": "code",
   "execution_count": 3,
   "id": "7be42efa-1e36-4eb8-8d10-5d5f7e7e47d3",
   "metadata": {},
   "outputs": [
    {
     "name": "stdout",
     "output_type": "stream",
     "text": [
      "Running in locahost\n",
      "cp: cannot stat '/home/vruiz/Downloads/{vol_name}.tif': No such file or directory\n"
     ]
    }
   ],
   "source": [
    "try:\n",
    "    import google.colab\n",
    "    IN_COLAB = True\n",
    "except:\n",
    "    IN_COLAB = False\n",
    "\n",
    "if IN_COLAB:\n",
    "    print(\"Running in Colab\")\n",
    "    !pip install cupy-cuda12x\n",
    "    !pip install opticalflow3D\n",
    "    !apt install libcudart11.0\n",
    "    !apt install libcublas11\n",
    "    !apt install libcufft10\n",
    "    !apt install libcusparse11\n",
    "    !apt install libnvrtc11.2\n",
    "    from google.colab import drive\n",
    "    drive.mount('/content/drive')\n",
    "    !cp drive/Shareddrives/TomogramDenoising/tomograms/{vol_name}.tif .\n",
    "else:\n",
    "    print(\"Running in locahost\")\n",
    "    !cp ~/Downloads/{vol_name}.tif ."
   ]
  },
  {
   "cell_type": "code",
   "execution_count": 4,
   "id": "2280c659-3a75-4034-8bcc-b9c2f77c906b",
   "metadata": {},
   "outputs": [],
   "source": [
    "vol_filename = \"small_vol.mrc\""
   ]
  },
  {
   "cell_type": "code",
   "execution_count": 5,
   "id": "0fbfba97-3adb-4526-8aee-e41d33fad865",
   "metadata": {},
   "outputs": [
    {
     "name": "stdout",
     "output_type": "stream",
     "text": [
      "args(input='small_vol.mrc', output='small_vol_denoised.mrc')\n"
     ]
    }
   ],
   "source": [
    "from collections import namedtuple\n",
    "Args = namedtuple(\"args\", [\"input\", \"output\"])\n",
    "fn, fe = vol_filename.split(\".\")\n",
    "args = Args(vol_filename , fn + \"_denoised.\" + fe)\n",
    "print(args)"
   ]
  },
  {
   "cell_type": "code",
   "execution_count": 6,
   "id": "7367c483-87c1-454f-9560-f32298ad1805",
   "metadata": {},
   "outputs": [],
   "source": [
    "#!pip install gdown"
   ]
  },
  {
   "cell_type": "code",
   "execution_count": 7,
   "id": "9d823f25-2b3f-46e0-ad3a-ccc725384565",
   "metadata": {},
   "outputs": [
    {
     "name": "stderr",
     "output_type": "stream",
     "text": [
      "+ OUTPUT_FILENAME=small_vol.mrc\n",
      "+ test '!' -f small_vol.mrc\n",
      "+ ls -l small_vol.mrc\n"
     ]
    },
    {
     "name": "stdout",
     "output_type": "stream",
     "text": [
      "-rw-r--r-- 1 vruiz vruiz 8389632 feb 14  2024 small_vol.mrc\n"
     ]
    },
    {
     "name": "stderr",
     "output_type": "stream",
     "text": [
      "+ set +x\n"
     ]
    }
   ],
   "source": [
    "%%bash -s \"$args.input\"\n",
    "set -x\n",
    "OUTPUT_FILENAME=$1\n",
    "#rm -f $OUTPUT_FILENAME\n",
    "if test ! -f $OUTPUT_FILENAME ; then\n",
    "    FILEID=\"1YDyHWyB1d6yq2LYif2zQcQgr7vhlspYo\" # https://drive.google.com/file/d/1YDyHWyB1d6yq2LYif2zQcQgr7vhlspYo/view?usp=sharing\n",
    "    #FILEID=\"1iui018SGKa5nb0ybeoUAB7uCUhl9EJ5o\" #https://drive.google.com/file/d/1iui018SGKa5nb0ybeoUAB7uCUhl9EJ5o/view?usp=sharing\n",
    "    #wget --no-check-certificate 'https://docs.google.com/uc?export=download&id='$FILEID -O $OUTPUT_FILENAME #2> /dev/null\n",
    "    #wget --load-cookies /tmp/cookies.txt \"https://docs.google.com/uc?export=download&confirm=$(wget --quiet --save-cookies /tmp/cookies.txt --keep-session-cookies --no-check-certificate 'https://docs.google.com/uc?export=download&id=FILEID' -O- | sed -rn 's/.*confirm=([0-9A-Za-z_]+).*/\\1\\n/p')&id=FILEID\" -O FILENAME && rm -rf /tmp/cookies.txt\n",
    "    gdown https://drive.google.com/uc?id=$FILEID # pip install gdown\n",
    "fi\n",
    "ls -l $OUTPUT_FILENAME\n",
    "set +x"
   ]
  },
  {
   "cell_type": "code",
   "execution_count": 8,
   "id": "2a9f2718-d2d2-4d2b-bf30-bfa5388c65e2",
   "metadata": {},
   "outputs": [],
   "source": [
    "%matplotlib inline\n",
    "import matplotlib.pyplot as plt\n",
    "from matplotlib.pyplot import figure"
   ]
  },
  {
   "cell_type": "code",
   "execution_count": 9,
   "id": "1d876a29-7c64-4e2b-9c3c-fceb3a8fb746",
   "metadata": {},
   "outputs": [],
   "source": [
    "#!pip install --force-reinstall \"motion_estimation @ git+https://github.com/vicente-gonzalez-ruiz/motion_estimation\""
   ]
  },
  {
   "cell_type": "code",
   "execution_count": 10,
   "id": "66e47117-4871-4b1b-9112-3f045b196d52",
   "metadata": {},
   "outputs": [],
   "source": [
    "import motion_estimation # pip install --force-reinstall \"motion_estimation @ git+https://github.com/vicente-gonzalez-ruiz/motion_estimation\""
   ]
  },
  {
   "cell_type": "code",
   "execution_count": 11,
   "id": "92a65bb7-ccc4-4240-8d3b-b73ab402dc48",
   "metadata": {},
   "outputs": [],
   "source": [
    "import information_theory  # pip install --force-reinstall \"information_theory @ git+https://github.com/vicente-gonzalez-ruiz/information_theory\""
   ]
  },
  {
   "cell_type": "code",
   "execution_count": 12,
   "id": "4a3a10f8-4515-4949-b50f-1f0dfbec1e71",
   "metadata": {},
   "outputs": [],
   "source": [
    "#import opticalflow3D\n",
    "#import warnings\n",
    "#from numba.core.errors import NumbaPerformanceWarning\n",
    "import numpy as np\n",
    "#warnings.filterwarnings(\"ignore\", category=NumbaPerformanceWarning)\n",
    "#else:\n",
    "#    import motion_estimation._3D.farneback as farneback3D"
   ]
  },
  {
   "cell_type": "code",
   "execution_count": 13,
   "id": "2b135ccc-e869-4c88-8189-ad55fbba5130",
   "metadata": {},
   "outputs": [],
   "source": [
    "import mrcfile\n",
    "from collections import namedtuple"
   ]
  },
  {
   "cell_type": "code",
   "execution_count": 14,
   "id": "9be0587a-ac47-46b6-8e90-4016672dc105",
   "metadata": {},
   "outputs": [
    {
     "name": "stdout",
     "output_type": "stream",
     "text": [
      "(32, 256, 256)\n"
     ]
    }
   ],
   "source": [
    "stack_MRC = mrcfile.open(args.input)\n",
    "noisy = stack_MRC.data\n",
    "print(noisy.shape)"
   ]
  },
  {
   "cell_type": "code",
   "execution_count": 15,
   "id": "d57b6e47-b0ce-4a63-ab27-192436202b28",
   "metadata": {},
   "outputs": [],
   "source": [
    "import volume.SRA"
   ]
  },
  {
   "cell_type": "code",
   "execution_count": 16,
   "id": "f375d960-3644-4509-a442-dc18ab587b0f",
   "metadata": {},
   "outputs": [],
   "source": [
    "noisy = (255*(noisy - np.min(noisy))/(np.max(noisy) - np.min(noisy))).astype(np.uint8)"
   ]
  },
  {
   "cell_type": "code",
   "execution_count": 17,
   "id": "0318d995-4815-473e-bc62-ba21f843e334",
   "metadata": {},
   "outputs": [],
   "source": [
    "import logging\n",
    "logging.basicConfig(format=\"[%(filename)s:%(lineno)s %(funcName)s()] %(message)s\")\n",
    "logger = logging.getLogger(__name__)\n",
    "logger.setLevel(logging.INFO)"
   ]
  },
  {
   "cell_type": "code",
   "execution_count": 18,
   "id": "b31129fb-a321-46f0-8cdc-f53ae705c3f8",
   "metadata": {},
   "outputs": [],
   "source": [
    "import motion_estimation._3D.farneback as farneback3D\n",
    "OF_estimator = farneback3D.OF_Estimation(logger)"
   ]
  },
  {
   "cell_type": "code",
   "execution_count": 19,
   "id": "fce92214-000b-40c2-bb9c-80fb45cfdda0",
   "metadata": {},
   "outputs": [],
   "source": [
    "import motion_estimation._3D.project as project\n",
    "projector = project.Project(logger)"
   ]
  },
  {
   "cell_type": "code",
   "execution_count": 20,
   "id": "2c0f57e5-66b4-4b2c-a157-08d485055c84",
   "metadata": {},
   "outputs": [
    {
     "name": "stdout",
     "output_type": "stream",
     "text": [
      " iter   min_shufflingavg_abs_shuffling   max_shuffling        min_flow    avg_abs_flow        max_flow            time   quality_index\n"
     ]
    }
   ],
   "source": [
    "import volume.SRA as SRA\n",
    "denoiser = SRA.SRA(OF_estimator, projector, logger, None, False, False)"
   ]
  },
  {
   "cell_type": "code",
   "execution_count": 21,
   "id": "51b98dab-528c-48d9-8765-6b0c9fa5adb5",
   "metadata": {},
   "outputs": [
    {
     "name": "stdout",
     "output_type": "stream",
     "text": [
      "\n",
      "Function: filter\n",
      "\n",
      "Function: shuffle_volume\n",
      "\n",
      "Function: project_volume_reference_to_target\n",
      "\n",
      "Function: pyramid_get_flow\n",
      "self: <motion_estimation._3D.farneback.OF_Estimation object at 0x7f84be6a9e80>\n",
      "target.shape: (32, 256, 256) 0 163.53052186965942 255\n",
      "reference.shape: (32, 256, 256) 0.0 163.53050231933594 255.0\n",
      "flow: None\n",
      "pyramid_levels: 3\n",
      "down_scale: 2\n",
      "window_side: 9\n",
      "iterations: 5\n",
      "N_poly: 7\n",
      "model: constant\n",
      "mu: None\n",
      "\n",
      "Function: get_pyramid\n",
      "self: <motion_estimation._3D.farneback.OF_Estimation object at 0x7f84be6a9e80>\n",
      "volume.shape: (32, 256, 256) 0.0 163.53050231933594 255.0\n",
      "num_levels: 3\n",
      "down_scale: 2\n",
      "\n",
      "Function: get_pyramid\n",
      "self: <motion_estimation._3D.farneback.OF_Estimation object at 0x7f84be6a9e80>\n",
      "volume.shape: (32, 256, 256) 0 163.53052186965942 255\n",
      "num_levels: 3\n",
      "down_scale: 2\n",
      "\n",
      "Function: get_pyramid\n",
      "self: <motion_estimation._3D.farneback.OF_Estimation object at 0x7f84be6a9e80>\n",
      "volume.shape: (32, 256, 256) 0.0 0.7768669128417971 1.0\n",
      "num_levels: 3\n",
      "down_scale: 2\n",
      "\n",
      "Function: get_pyramid\n",
      "self: <motion_estimation._3D.farneback.OF_Estimation object at 0x7f84be6a9e80>\n",
      "volume.shape: (32, 256, 256) 0.0 0.7768669128417971 1.0\n",
      "num_levels: 3\n",
      "down_scale: 2\n",
      "\n",
      "Function: get_flow_iteration\n",
      "self: <motion_estimation._3D.farneback.OF_Estimation object at 0x7f84be6a9e80>\n",
      "f1.shape: (4, 32, 32) 62.83068084716797 163.35006713867188 229.1206817626953\n",
      "f2.shape: (4, 32, 32) 61 158.83056640625 224\n",
      "c1.shape: (4, 32, 32) 0.035146366676479544 0.7361906916289722 0.9999020680820552\n",
      "c2.shape: (4, 32, 32) 0.035146366676479544 0.7361906916289722 0.9999020680820552\n",
      "d: None\n",
      "N_poly: 7\n",
      "window_side: 9\n",
      "iterations: 5\n",
      "model: constant\n",
      "mu: 0\n",
      "\n",
      "Function: expand_level\n",
      "self: <motion_estimation._3D.farneback.OF_Estimation object at 0x7f84be6a9e80>\n",
      "volume.shape: (4, 32, 32) -0.0290411077439785 0.01223988551646471 0.05274447053670883\n",
      "down_scale: 2\n",
      "\n",
      "Function: expand_level\n",
      "self: <motion_estimation._3D.farneback.OF_Estimation object at 0x7f84be6a9e80>\n",
      "volume.shape: (4, 32, 32) -0.09642969816923141 0.006449228152632713 0.12818163633346558\n",
      "down_scale: 2\n",
      "\n",
      "Function: expand_level\n",
      "self: <motion_estimation._3D.farneback.OF_Estimation object at 0x7f84be6a9e80>\n",
      "volume.shape: (4, 32, 32) -0.09609086066484451 -0.0018913300009444356 0.07425878196954727\n",
      "down_scale: 2\n",
      "pyr1.shape: (8, 64, 64)\n",
      "flow.shape: (4, 32, 32, 3)\n",
      "expanded_Z_flow.shape: (8, 64, 64)\n",
      "flow[..., 0].shape= (8, 64, 64)\n",
      "\n",
      "Function: get_flow_iteration\n",
      "self: <motion_estimation._3D.farneback.OF_Estimation object at 0x7f84be6a9e80>\n",
      "f1.shape: (8, 64, 64) 35.22871780395508 163.42446899414062 238.64268493652344\n",
      "f2.shape: (8, 64, 64) 38 160.3997802734375 236\n",
      "c1.shape: (8, 64, 64) 0.011235172955314694 0.7703363219226095 1.0\n",
      "c2.shape: (8, 64, 64) 0.011235172955314694 0.7703363219226095 1.0\n",
      "d.shape: (8, 64, 64, 3) -0.19218172132968903 0.011080093697950927 0.2542212903499603\n",
      "N_poly: 7\n",
      "window_side: 9\n",
      "iterations: 5\n",
      "model: constant\n",
      "mu: 0\n",
      "\n",
      "Function: expand_level\n",
      "self: <motion_estimation._3D.farneback.OF_Estimation object at 0x7f84be6a9e80>\n",
      "volume.shape: (8, 64, 64) -0.09703949838876724 0.006166055798530579 0.19320379197597504\n",
      "down_scale: 2\n",
      "\n",
      "Function: expand_level\n",
      "self: <motion_estimation._3D.farneback.OF_Estimation object at 0x7f84be6a9e80>\n",
      "volume.shape: (8, 64, 64) -0.14093628525733948 0.0048494297079741955 0.2354072779417038\n",
      "down_scale: 2\n",
      "\n",
      "Function: expand_level\n",
      "self: <motion_estimation._3D.farneback.OF_Estimation object at 0x7f84be6a9e80>\n",
      "volume.shape: (8, 64, 64) -0.13177324831485748 -0.006765930913388729 0.12450964003801346\n",
      "down_scale: 2\n",
      "pyr1.shape: (16, 128, 128)\n",
      "flow.shape: (8, 64, 64, 3)\n",
      "expanded_Z_flow.shape: (16, 128, 128)\n",
      "flow[..., 0].shape= (16, 128, 128)\n",
      "\n",
      "Function: get_flow_iteration\n",
      "self: <motion_estimation._3D.farneback.OF_Estimation object at 0x7f84be6a9e80>\n",
      "f1.shape: (16, 128, 128) 15.740163803100586 163.4713897705078 246.96470642089844\n",
      "f2.shape: (16, 128, 128) 17 161.96884155273438 244\n",
      "c1.shape: (16, 128, 128) 0.0017883313344977563 0.7768669128417969 1.0\n",
      "c2.shape: (16, 128, 128) 0.0017883313344977563 0.7768669128417969 1.0\n",
      "d.shape: (16, 128, 128, 3) -0.2754786014556885 0.002695163202161186 0.4680047929286957\n",
      "N_poly: 7\n",
      "window_side: 9\n",
      "iterations: 5\n",
      "model: constant\n",
      "mu: 0\n",
      "\n",
      "Function: expand_level\n",
      "self: <motion_estimation._3D.farneback.OF_Estimation object at 0x7f84be6a9e80>\n",
      "volume.shape: (16, 128, 128) -0.3956831395626068 -0.0022331103682518005 0.3113804757595062\n",
      "down_scale: 2\n",
      "\n",
      "Function: expand_level\n",
      "self: <motion_estimation._3D.farneback.OF_Estimation object at 0x7f84be6a9e80>\n",
      "volume.shape: (16, 128, 128) -0.28761038184165955 0.008101582527160645 0.5522421598434448\n",
      "down_scale: 2\n",
      "\n",
      "Function: expand_level\n",
      "self: <motion_estimation._3D.farneback.OF_Estimation object at 0x7f84be6a9e80>\n",
      "volume.shape: (16, 128, 128) -0.49449631571769714 -0.009794114157557487 0.3372672498226166\n",
      "down_scale: 2\n",
      "pyr1.shape: (32, 256, 256)\n",
      "flow.shape: (16, 128, 128, 3)\n",
      "expanded_Z_flow.shape: (32, 256, 256)\n",
      "flow[..., 0].shape= (32, 256, 256)\n",
      "\n",
      "Function: get_flow_iteration\n",
      "self: <motion_estimation._3D.farneback.OF_Estimation object at 0x7f84be6a9e80>\n",
      "f1.shape: (32, 256, 256) 0.0 163.53050231933594 255.0\n",
      "f2.shape: (32, 256, 256) 0 163.53052186965942 255\n",
      "c1.shape: (32, 256, 256) 0.0 0.7768669128417971 1.0\n",
      "c2.shape: (32, 256, 256) 0.0 0.7768669128417971 1.0\n",
      "d.shape: (32, 256, 256, 3) -0.9889926314353943 -0.0029030780026162418 1.1044843196868896\n",
      "N_poly: 7\n",
      "window_side: 9\n",
      "iterations: 5\n",
      "model: constant\n",
      "mu: 0\n"
     ]
    },
    {
     "ename": "KeyboardInterrupt",
     "evalue": "",
     "output_type": "error",
     "traceback": [
      "\u001b[31m---------------------------------------------------------------------------\u001b[39m",
      "\u001b[31mKeyboardInterrupt\u001b[39m                         Traceback (most recent call last)",
      "\u001b[36mCell\u001b[39m\u001b[36m \u001b[39m\u001b[32mIn[21]\u001b[39m\u001b[32m, line 1\u001b[39m\n\u001b[32m----> \u001b[39m\u001b[32m1\u001b[39m denoised = \u001b[43mdenoiser\u001b[49m\u001b[43m.\u001b[49m\u001b[43mfilter\u001b[49m\u001b[43m(\u001b[49m\u001b[43mnoisy_volume\u001b[49m\u001b[43m=\u001b[49m\u001b[43mnoisy\u001b[49m\u001b[43m)\u001b[49m\n",
      "\u001b[36mFile \u001b[39m\u001b[32m~/repos/denoising/src/denoising/volume/SRA.py:204\u001b[39m, in \u001b[36mSRA.filter\u001b[39m\u001b[34m(self, noisy_volume, N_iters, mean, std_dev, pyramid_levels, window_side, iterations)\u001b[39m\n\u001b[32m    202\u001b[39m denoised_volume = acc_volume/(i+\u001b[32m1\u001b[39m)\n\u001b[32m    203\u001b[39m shuffled_noisy_volume = \u001b[38;5;28mself\u001b[39m.shuffle_volume(noisy_volume, mean=mean, std_dev=std_dev)\n\u001b[32m--> \u001b[39m\u001b[32m204\u001b[39m shuffled_and_compensated_noisy_volume = \u001b[38;5;28;43mself\u001b[39;49m\u001b[43m.\u001b[49m\u001b[43mproject_volume_reference_to_target\u001b[49m\u001b[43m(\u001b[49m\n\u001b[32m    205\u001b[39m \u001b[43m    \u001b[49m\u001b[43mreference\u001b[49m\u001b[43m=\u001b[49m\u001b[43mdenoised_volume\u001b[49m\u001b[43m,\u001b[49m\n\u001b[32m    206\u001b[39m \u001b[43m    \u001b[49m\u001b[43mtarget\u001b[49m\u001b[43m=\u001b[49m\u001b[43mshuffled_noisy_volume\u001b[49m\u001b[43m,\u001b[49m\n\u001b[32m    207\u001b[39m \u001b[43m    \u001b[49m\u001b[43mpyramid_levels\u001b[49m\u001b[43m=\u001b[49m\u001b[43mpyramid_levels\u001b[49m\u001b[43m,\u001b[49m\n\u001b[32m    208\u001b[39m \u001b[43m    \u001b[49m\u001b[43mwindow_side\u001b[49m\u001b[43m=\u001b[49m\u001b[43mwindow_side\u001b[49m\u001b[43m,\u001b[49m\n\u001b[32m    209\u001b[39m \u001b[43m    \u001b[49m\u001b[43miterations\u001b[49m\u001b[43m=\u001b[49m\u001b[43miterations\u001b[49m\u001b[43m,\u001b[49m\n\u001b[32m    210\u001b[39m \u001b[43m    \u001b[49m\u001b[38;5;66;43;03m#sigma_k=sigma_k,\u001b[39;49;00m\n\u001b[32m    211\u001b[39m \u001b[43m    \u001b[49m\u001b[38;5;66;43;03m#filter_type=filter_type,\u001b[39;49;00m\n\u001b[32m    212\u001b[39m \u001b[43m    \u001b[49m\u001b[38;5;66;43;03m#filter_size=filter_size,\u001b[39;49;00m\n\u001b[32m    213\u001b[39m \u001b[43m    \u001b[49m\u001b[38;5;66;43;03m#presmoothing=presmoothing\u001b[39;49;00m\n\u001b[32m    214\u001b[39m \u001b[43m\u001b[49m\u001b[43m)\u001b[49m\n\u001b[32m    215\u001b[39m acc_volume += shuffled_and_compensated_noisy_volume\n\u001b[32m    217\u001b[39m \u001b[38;5;28;01mif\u001b[39;00m \u001b[38;5;28mself\u001b[39m.quality_index != \u001b[38;5;28;01mNone\u001b[39;00m:\n",
      "\u001b[36mFile \u001b[39m\u001b[32m~/repos/denoising/src/denoising/volume/SRA.py:158\u001b[39m, in \u001b[36mSRA.project_volume_reference_to_target\u001b[39m\u001b[34m(self, reference, target, pyramid_levels, window_side, iterations)\u001b[39m\n\u001b[32m    155\u001b[39m         \u001b[38;5;28;01melse\u001b[39;00m:\n\u001b[32m    156\u001b[39m             \u001b[38;5;28mprint\u001b[39m(\u001b[33mf\u001b[39m\u001b[33m\"\u001b[39m\u001b[38;5;132;01m{\u001b[39;00marg\u001b[38;5;132;01m}\u001b[39;00m\u001b[33m: \u001b[39m\u001b[38;5;132;01m{\u001b[39;00mvalues[arg]\u001b[38;5;132;01m}\u001b[39;00m\u001b[33m\"\u001b[39m)\n\u001b[32m--> \u001b[39m\u001b[32m158\u001b[39m \u001b[38;5;28mself\u001b[39m.flow = \u001b[38;5;28;43mself\u001b[39;49m\u001b[43m.\u001b[49m\u001b[43mestimator\u001b[49m\u001b[43m.\u001b[49m\u001b[43mpyramid_get_flow\u001b[49m\u001b[43m(\u001b[49m\n\u001b[32m    159\u001b[39m \u001b[43m    \u001b[49m\u001b[43mtarget\u001b[49m\u001b[43m=\u001b[49m\u001b[43mtarget\u001b[49m\u001b[43m,\u001b[49m\n\u001b[32m    160\u001b[39m \u001b[43m    \u001b[49m\u001b[43mreference\u001b[49m\u001b[43m=\u001b[49m\u001b[43mreference\u001b[49m\u001b[43m,\u001b[49m\n\u001b[32m    161\u001b[39m \u001b[43m    \u001b[49m\u001b[43mpyramid_levels\u001b[49m\u001b[43m=\u001b[49m\u001b[43mpyramid_levels\u001b[49m\u001b[43m,\u001b[49m\n\u001b[32m    162\u001b[39m \u001b[43m    \u001b[49m\u001b[43mwindow_side\u001b[49m\u001b[43m=\u001b[49m\u001b[43mwindow_side\u001b[49m\u001b[43m,\u001b[49m\n\u001b[32m    163\u001b[39m \u001b[43m    \u001b[49m\u001b[43miterations\u001b[49m\u001b[43m=\u001b[49m\u001b[43miterations\u001b[49m\u001b[43m,\u001b[49m\n\u001b[32m    164\u001b[39m \u001b[43m    \u001b[49m\u001b[38;5;66;43;03m#sigma_k=sigma_k,\u001b[39;49;00m\n\u001b[32m    165\u001b[39m \u001b[43m    \u001b[49m\u001b[38;5;66;43;03m#filter_type=filter_type,\u001b[39;49;00m\n\u001b[32m    166\u001b[39m \u001b[43m    \u001b[49m\u001b[38;5;66;43;03m#filter_size=filter_size,\u001b[39;49;00m\n\u001b[32m    167\u001b[39m \u001b[43m    \u001b[49m\u001b[38;5;66;43;03m#presmoothing=presmoothing\u001b[39;49;00m\n\u001b[32m    168\u001b[39m \u001b[43m\u001b[49m\u001b[43m)\u001b[49m\n\u001b[32m    169\u001b[39m projection = \u001b[38;5;28mself\u001b[39m.projector.remap(volume=reference, flow=\u001b[38;5;28mself\u001b[39m.flow)\n\u001b[32m    170\u001b[39m \u001b[38;5;28;01mreturn\u001b[39;00m projection\n",
      "\u001b[36mFile \u001b[39m\u001b[32m~/repos/denoising/src/denoising/motion_estimation/_3D/farneback.py:534\u001b[39m, in \u001b[36mOF_Estimation.pyramid_get_flow\u001b[39m\u001b[34m(self, target, reference, flow, pyramid_levels, down_scale, window_side, iterations, N_poly, model, mu)\u001b[39m\n\u001b[32m    530\u001b[39m         flow[..., \u001b[32m2\u001b[39m] = expanded_X_flow\n\u001b[32m    531\u001b[39m         \u001b[38;5;66;03m#flow = self.expand_level(flow)\u001b[39;00m\n\u001b[32m    532\u001b[39m         \u001b[38;5;66;03m#flow = flow[: pyr1.shape[0], : pyr1.shape[1], : pyr1.shape[2]]\u001b[39;00m\n\u001b[32m--> \u001b[39m\u001b[32m534\u001b[39m     flow = \u001b[38;5;28;43mself\u001b[39;49m\u001b[43m.\u001b[49m\u001b[43mget_flow_iteration\u001b[49m\u001b[43m(\u001b[49m\n\u001b[32m    535\u001b[39m \u001b[43m        \u001b[49m\u001b[43mf1\u001b[49m\u001b[43m=\u001b[49m\u001b[43mpyr1\u001b[49m\u001b[43m,\u001b[49m\u001b[43m \u001b[49m\u001b[43mf2\u001b[49m\u001b[43m=\u001b[49m\u001b[43mpyr2\u001b[49m\u001b[43m,\u001b[49m\u001b[43m \u001b[49m\u001b[43mc1\u001b[49m\u001b[43m=\u001b[49m\u001b[43mc1_\u001b[49m\u001b[43m,\u001b[49m\u001b[43m \u001b[49m\u001b[43mc2\u001b[49m\u001b[43m=\u001b[49m\u001b[43mc2_\u001b[49m\u001b[43m,\u001b[49m\n\u001b[32m    536\u001b[39m \u001b[43m        \u001b[49m\u001b[43md\u001b[49m\u001b[43m=\u001b[49m\u001b[43mflow\u001b[49m\u001b[43m,\u001b[49m\u001b[43m \u001b[49m\u001b[38;5;66;43;03m# flow\u001b[39;49;00m\n\u001b[32m    537\u001b[39m \u001b[43m        \u001b[49m\u001b[43mN_poly\u001b[49m\u001b[43m=\u001b[49m\u001b[43mN_poly\u001b[49m\u001b[43m,\u001b[49m\n\u001b[32m    538\u001b[39m \u001b[43m        \u001b[49m\u001b[43mwindow_side\u001b[49m\u001b[43m=\u001b[49m\u001b[43mwindow_side\u001b[49m\u001b[43m,\u001b[49m\n\u001b[32m    539\u001b[39m \u001b[43m        \u001b[49m\u001b[43miterations\u001b[49m\u001b[43m=\u001b[49m\u001b[43miterations\u001b[49m\u001b[43m,\u001b[49m\n\u001b[32m    540\u001b[39m \u001b[43m        \u001b[49m\u001b[43m*\u001b[49m\u001b[43m*\u001b[49m\u001b[43mopts\u001b[49m\u001b[43m)\u001b[49m\n\u001b[32m    542\u001b[39m \u001b[38;5;66;03m#xw = d + np.moveaxis(np.indices(target.shape), 0, -1)\u001b[39;00m\n\u001b[32m    543\u001b[39m \u001b[38;5;66;03m#return xw\u001b[39;00m\n\u001b[32m    544\u001b[39m \u001b[38;5;28;01mreturn\u001b[39;00m flow[..., [\u001b[32m2\u001b[39m, \u001b[32m1\u001b[39m, \u001b[32m0\u001b[39m]]\n",
      "\u001b[36mFile \u001b[39m\u001b[32m~/repos/denoising/src/denoising/motion_estimation/_3D/farneback.py:415\u001b[39m, in \u001b[36mOF_Estimation.get_flow_iteration\u001b[39m\u001b[34m(self, f1, f2, c1, c2, d, N_poly, window_side, iterations, model, mu)\u001b[39m\n\u001b[32m    413\u001b[39m sigma = (N_poly - \u001b[32m1\u001b[39m)/\u001b[32m4\u001b[39m\n\u001b[32m    414\u001b[39m sigma_flow = (window_side - \u001b[32m1\u001b[39m)/\u001b[32m4\u001b[39m\n\u001b[32m--> \u001b[39m\u001b[32m415\u001b[39m \u001b[38;5;28;01mreturn\u001b[39;00m \u001b[38;5;28;43mself\u001b[39;49m\u001b[43m.\u001b[49m\u001b[43mflow_iterative\u001b[49m\u001b[43m(\u001b[49m\n\u001b[32m    416\u001b[39m \u001b[43m    \u001b[49m\u001b[43mf1\u001b[49m\u001b[43m=\u001b[49m\u001b[43mf1\u001b[49m\u001b[43m,\u001b[49m\u001b[43m \u001b[49m\u001b[43mf2\u001b[49m\u001b[43m=\u001b[49m\u001b[43mf2\u001b[49m\u001b[43m,\u001b[49m\u001b[43m \u001b[49m\u001b[43mc1\u001b[49m\u001b[43m=\u001b[49m\u001b[43mc1\u001b[49m\u001b[43m,\u001b[49m\u001b[43m \u001b[49m\u001b[43mc2\u001b[49m\u001b[43m=\u001b[49m\u001b[43mc2\u001b[49m\u001b[43m,\u001b[49m\n\u001b[32m    417\u001b[39m \u001b[43m    \u001b[49m\u001b[43md\u001b[49m\u001b[43m=\u001b[49m\u001b[43md\u001b[49m\u001b[43m,\u001b[49m\u001b[43m \u001b[49m\u001b[43msigma_poly\u001b[49m\u001b[43m=\u001b[49m\u001b[43msigma\u001b[49m\u001b[43m,\u001b[49m\u001b[43m \u001b[49m\u001b[43msigma_flow\u001b[49m\u001b[43m=\u001b[49m\u001b[43msigma_flow\u001b[49m\u001b[43m,\u001b[49m\n\u001b[32m    418\u001b[39m \u001b[43m    \u001b[49m\u001b[43mnum_iter\u001b[49m\u001b[43m=\u001b[49m\u001b[43miterations\u001b[49m\u001b[43m,\u001b[49m\n\u001b[32m    419\u001b[39m \u001b[43m    \u001b[49m\u001b[43mmodel\u001b[49m\u001b[43m=\u001b[49m\u001b[43mmodel\u001b[49m\u001b[43m,\u001b[49m\n\u001b[32m    420\u001b[39m \u001b[43m    \u001b[49m\u001b[43mmu\u001b[49m\u001b[43m=\u001b[49m\u001b[43mmu\u001b[49m\u001b[43m)\u001b[49m\n",
      "\u001b[36mFile \u001b[39m\u001b[32m~/repos/denoising/src/denoising/motion_estimation/_3D/farneback.py:156\u001b[39m, in \u001b[36mOF_Estimation.flow_iterative\u001b[39m\u001b[34m(self, f1, f2, c1, c2, sigma_poly, sigma_flow, num_iter, d, model, mu)\u001b[39m\n\u001b[32m    153\u001b[39m     h = correlate1d(h, w, axis=\u001b[32m1\u001b[39m, mode=\u001b[33m\"\u001b[39m\u001b[33mconstant\u001b[39m\u001b[33m\"\u001b[39m, cval=\u001b[32m0\u001b[39m)\n\u001b[32m    154\u001b[39m     h = correlate1d(h, w, axis=\u001b[32m2\u001b[39m, mode=\u001b[33m\"\u001b[39m\u001b[33mconstant\u001b[39m\u001b[33m\"\u001b[39m, cval=\u001b[32m0\u001b[39m)\n\u001b[32m--> \u001b[39m\u001b[32m156\u001b[39m     p = \u001b[43mnp\u001b[49m\u001b[43m.\u001b[49m\u001b[43mlinalg\u001b[49m\u001b[43m.\u001b[49m\u001b[43msolve\u001b[49m\u001b[43m(\u001b[49m\u001b[43mG\u001b[49m\u001b[43m,\u001b[49m\u001b[43m \u001b[49m\u001b[43mh\u001b[49m\u001b[43m[\u001b[49m\u001b[43m.\u001b[49m\u001b[43m.\u001b[49m\u001b[43m.\u001b[49m\u001b[43m,\u001b[49m\u001b[43m \u001b[49m\u001b[38;5;28;43;01mNone\u001b[39;49;00m\u001b[43m]\u001b[49m\u001b[43m)\u001b[49m[..., \u001b[32m0\u001b[39m].astype(dtype)\n\u001b[32m    157\u001b[39m     d = (S @ p[..., \u001b[38;5;28;01mNone\u001b[39;00m])[..., \u001b[32m0\u001b[39m]\n\u001b[32m    159\u001b[39m \u001b[38;5;28;01melse\u001b[39;00m:\n\u001b[32m    160\u001b[39m     \u001b[38;5;66;03m# Global model with local refinement\u001b[39;00m\n",
      "\u001b[36mFile \u001b[39m\u001b[32m~/envs/denoising/lib/python3.13/site-packages/numpy/linalg/_linalg.py:410\u001b[39m, in \u001b[36msolve\u001b[39m\u001b[34m(a, b)\u001b[39m\n\u001b[32m    407\u001b[39m signature = \u001b[33m'\u001b[39m\u001b[33mDD->D\u001b[39m\u001b[33m'\u001b[39m \u001b[38;5;28;01mif\u001b[39;00m isComplexType(t) \u001b[38;5;28;01melse\u001b[39;00m \u001b[33m'\u001b[39m\u001b[33mdd->d\u001b[39m\u001b[33m'\u001b[39m\n\u001b[32m    408\u001b[39m \u001b[38;5;28;01mwith\u001b[39;00m errstate(call=_raise_linalgerror_singular, invalid=\u001b[33m'\u001b[39m\u001b[33mcall\u001b[39m\u001b[33m'\u001b[39m,\n\u001b[32m    409\u001b[39m               over=\u001b[33m'\u001b[39m\u001b[33mignore\u001b[39m\u001b[33m'\u001b[39m, divide=\u001b[33m'\u001b[39m\u001b[33mignore\u001b[39m\u001b[33m'\u001b[39m, under=\u001b[33m'\u001b[39m\u001b[33mignore\u001b[39m\u001b[33m'\u001b[39m):\n\u001b[32m--> \u001b[39m\u001b[32m410\u001b[39m     r = \u001b[43mgufunc\u001b[49m\u001b[43m(\u001b[49m\u001b[43ma\u001b[49m\u001b[43m,\u001b[49m\u001b[43m \u001b[49m\u001b[43mb\u001b[49m\u001b[43m,\u001b[49m\u001b[43m \u001b[49m\u001b[43msignature\u001b[49m\u001b[43m=\u001b[49m\u001b[43msignature\u001b[49m\u001b[43m)\u001b[49m\n\u001b[32m    412\u001b[39m \u001b[38;5;28;01mreturn\u001b[39;00m wrap(r.astype(result_t, copy=\u001b[38;5;28;01mFalse\u001b[39;00m))\n",
      "\u001b[31mKeyboardInterrupt\u001b[39m: "
     ]
    }
   ],
   "source": [
    "denoised = denoiser.filter(noisy_volume=noisy)"
   ]
  },
  {
   "cell_type": "code",
   "execution_count": null,
   "id": "8a1f1196-f3f8-400d-8719-a3ca59d62dac",
   "metadata": {},
   "outputs": [],
   "source": [
    "if use_opticalflow3D:\n",
    "    block_size = (noisy.shape[0], noisy.shape[1], noisy.shape[2])"
   ]
  },
  {
   "cell_type": "code",
   "execution_count": null,
   "id": "7ab782f1-6053-4d91-8ba7-3220d3332f44",
   "metadata": {
    "colab": {
     "base_uri": "https://localhost:8080/",
     "height": 211
    },
    "id": "7ab782f1-6053-4d91-8ba7-3220d3332f44",
    "outputId": "e8f03c08-8eb1-4ab3-f854-c360edd8082a"
   },
   "outputs": [],
   "source": [
    "if use_opticalflow3D:\n",
    "    #farneback = opticalflow3D.Farneback3D(iters=5, num_levels=3, scale=0.5, spatial_size=33, presmoothing=None, filter_type=\"gaussian\", filter_size=3)\n",
    "    #farneback = opticalflow3D.Farneback3D(iters=5, num_levels=3, scale=0.5, spatial_size=13, presmoothing=None, filter_type=\"gaussian\", filter_size=7)\n",
    "    #farneback = opticalflow3D.Farneback3D(iters=5, num_levels=3, scale=0.5, spatial_size=5, presmoothing=3, filter_type=\"gaussian\", filter_size=5)\n",
    "    #farneback = opticalflow3D.Farneback3D(iters=5, num_levels=3, scale=0.5, spatial_size=3, presmoothing=5, filter_type=\"box\", filter_size=3)\n",
    "    #farneback = opticalflow3D.Farneback3D(iters=5, num_levels=5, scale=0.5, spatial_size=3, presmoothing=5, filter_type=\"box\", filter_size=3)\n",
    "    #farneback = opticalflow3D.Farneback3D(iters=5, num_levels=5, scale=0.5, spatial_size=3, presmoothing=5, filter_type=\"gaussian\", filter_size=11)\n",
    "    #farneback = opticalflow3D.Farneback3D(iters=5, num_levels=1, scale=0.5, spatial_size=5, presmoothing=4, filter_type=\"box\", filter_size=5)\n",
    "    estimator = opticalflow3D.Farneback3D(iters=5, num_levels=5, scale=0.5, spatial_size=9, sigma_k=0.15, filter_type=\"gaussian\" ,filter_size=7, presmoothing=None, device_id=0)\n",
    "else:\n",
    "    estimator = farneback3D("
   ]
  },
  {
   "cell_type": "code",
   "execution_count": null,
   "id": "91aIEXpSc5ez",
   "metadata": {
    "colab": {
     "base_uri": "https://localhost:8080/",
     "height": 1000
    },
    "id": "91aIEXpSc5ez",
    "outputId": "6e1f085e-8567-4eb8-9c13-13171cead177"
   },
   "outputs": [],
   "source": [
    "RS_sigma = 0.75\n",
    "if use_opticalflow3D:\n",
    "    denoised = RSIVD.filter(farneback, block_size, noisy, RS_sigma=RS_sigma, N_iters=20)\n",
    "else:\n",
    "    "
   ]
  },
  {
   "cell_type": "code",
   "execution_count": null,
   "id": "1478c390-7a08-49ec-ba26-d00710da1e12",
   "metadata": {},
   "outputs": [],
   "source": [
    "np.min(denoised)"
   ]
  },
  {
   "cell_type": "code",
   "execution_count": null,
   "id": "db82a856-2708-466a-a53b-aee7cb7d32ac",
   "metadata": {},
   "outputs": [],
   "source": [
    "fig, axs = plt.subplots(1, 2, figsize=(16, 32))\n",
    "axs[0].imshow(noisy[16], cmap=\"gray\")\n",
    "axs[0].set_title(f\"Noisy\")\n",
    "axs[1].imshow(denoised[16], cmap=\"gray\")\n",
    "axs[1].set_title(f\"Denoised (DQI={information_theory.information.compute_quality_index(noisy[16], denoised[16])})\")\n",
    "fig.tight_layout()\n",
    "plt.show()"
   ]
  },
  {
   "cell_type": "code",
   "execution_count": null,
   "id": "829b4f5b-39a2-4c3f-a4aa-f973c46504ce",
   "metadata": {},
   "outputs": [],
   "source": [
    "fig, axs = plt.subplots(1, 2, figsize=(16, 32))\n",
    "axs[0].imshow(noisy[:, 100], cmap=\"gray\")\n",
    "axs[0].set_title(f\"Noisy\")\n",
    "axs[1].imshow(denoised[:, 100], cmap=\"gray\")\n",
    "axs[1].set_title(f\"Denoised (DQI={information_theory.information.compute_quality_index(noisy[:, 100], denoised[:, 100])})\")\n",
    "fig.tight_layout()\n",
    "plt.show()"
   ]
  },
  {
   "cell_type": "code",
   "execution_count": null,
   "id": "4211b567-ec27-4deb-8615-a840745f4628",
   "metadata": {},
   "outputs": [],
   "source": [
    "fig, axs = plt.subplots(1, 2, figsize=(16, 32))\n",
    "axs[0].imshow(noisy[:, :, 100], cmap=\"gray\")\n",
    "axs[0].set_title(f\"Noisy\")\n",
    "axs[1].imshow(denoised[:, :, 100], cmap=\"gray\")\n",
    "axs[1].set_title(f\"Denoised (DQI={information_theory.information.compute_quality_index(noisy[:, :, 100], denoised[:, :, 100])})\")\n",
    "fig.tight_layout()\n",
    "plt.show()"
   ]
  },
  {
   "cell_type": "code",
   "execution_count": null,
   "id": "079da8f2-c5b1-41a1-bd9a-5e75595f2af6",
   "metadata": {},
   "outputs": [],
   "source": [
    "figure(figsize=(32, 32))\n",
    "plt.subplot(1, 3, 1)\n",
    "plt.title(\"original\")\n",
    "imgplot = plt.imshow(noisy_vol[15][::-1, :], cmap=\"gray\")\n",
    "plt.subplot(1, 3, 2)\n",
    "plt.title(\"$\\sigma_\\mathrm{RS}=$\"+f\"{RS_sigma}\")\n",
    "plt.imshow(denoised_vol[15][::-1, :], cmap=\"gray\")\n",
    "plt.subplot(1, 3, 3)\n",
    "plt.title(\"difference\")\n",
    "plt.imshow(noisy_vol[15][::-1, :] - denoised_vol[15][::-1, :], cmap=\"gray\")"
   ]
  },
  {
   "cell_type": "code",
   "execution_count": null,
   "id": "5d159fc4-a84c-45b8-b92e-970f6ef21b16",
   "metadata": {},
   "outputs": [],
   "source": [
    "figure(figsize=(32, 32))\n",
    "plt.subplot(1, 3, 1)\n",
    "plt.title(\"original\")\n",
    "imgplot = plt.imshow(noisy_vol[15][::-1, :], cmap=\"gray\")\n",
    "plt.subplot(1, 3, 2)\n",
    "plt.title(\"$\\sigma_\\mathrm{RS}=$\"+f\"{RS_sigma}\")\n",
    "plt.imshow(denoised_vol[15][::-1, :], cmap=\"gray\")\n",
    "plt.subplot(1, 3, 3)\n",
    "plt.title(\"difference\")\n",
    "plt.imshow(noisy_vol[15][::-1, :] - denoised_vol[15][::-1, :], cmap=\"gray\")"
   ]
  },
  {
   "cell_type": "code",
   "execution_count": null,
   "id": "9af50ac2-d2c9-49dc-b47d-31cc3195cfa1",
   "metadata": {},
   "outputs": [],
   "source": [
    "skimage.io.imsave(f\"{vol_name}_denoised_{RS_sigma}.tif\", denoised_vol, imagej=True)"
   ]
  },
  {
   "cell_type": "code",
   "execution_count": null,
   "id": "64b31c4b-8e86-48ae-82e1-d0a43da532a0",
   "metadata": {},
   "outputs": [],
   "source": [
    "img = skimage.io.imread(\"http://www.hpca.ual.es/~vruiz/images/barb.png\")#[:256, :256]"
   ]
  },
  {
   "cell_type": "code",
   "execution_count": null,
   "id": "faeb3ec8-744d-4698-adac-e106dd362943",
   "metadata": {},
   "outputs": [],
   "source": [
    "noisy_vol = np.stack([img]*32)"
   ]
  },
  {
   "cell_type": "code",
   "execution_count": null,
   "id": "654bd0a1-15f9-4865-9994-c398fba60cfd",
   "metadata": {},
   "outputs": [],
   "source": [
    "noisy_vol.shape"
   ]
  },
  {
   "cell_type": "code",
   "execution_count": null,
   "id": "95d7ee9c-6ab3-4c49-886e-f6b1cbf8a0b7",
   "metadata": {},
   "outputs": [],
   "source": [
    "mean = 0\n",
    "var = 1000\n",
    "sigma = var**0.5\n",
    "for i in range(noisy_vol.shape[0]):\n",
    "    noise = np.random.normal(mean,sigma,img.shape).reshape(img.shape)\n",
    "    noisy_vol[i] = np.clip(a=img.astype(np.float32) + noise, a_min=0, a_max=255).astype(np.uint8)"
   ]
  },
  {
   "cell_type": "code",
   "execution_count": null,
   "id": "f5dcf783-2322-4dfa-a3dc-50d71242d6b8",
   "metadata": {},
   "outputs": [],
   "source": [
    "farneback = opticalflow3D.Farneback3D(iters=5,\n",
    "                                      num_levels=3,\n",
    "                                      scale=0.5,\n",
    "                                      spatial_size=5,\n",
    "                                      presmoothing=2,\n",
    "                                      filter_type=\"box\",\n",
    "                                      filter_size=5,\n",
    "                                     )"
   ]
  },
  {
   "cell_type": "code",
   "execution_count": null,
   "id": "4016f92f-a994-49ba-b3a0-8bf1eb2ff1ab",
   "metadata": {},
   "outputs": [],
   "source": [
    "RS_sigma = 1.0\n",
    "denoised_vol = RSIVD.filter(farneback, block_size, noisy_vol, RS_sigma=RS_sigma, N_iters=30)"
   ]
  },
  {
   "cell_type": "code",
   "execution_count": null,
   "id": "68addb39-8cef-4ae3-9bc1-a36af26f1352",
   "metadata": {},
   "outputs": [],
   "source": [
    "figure(figsize=(32, 32))\n",
    "plt.subplot(1, 3, 1)\n",
    "plt.title(\"original\")\n",
    "imgplot = plt.imshow(noisy_vol[15], cmap=\"gray\")\n",
    "plt.subplot(1, 3, 2)\n",
    "plt.title(\"$\\sigma_\\mathrm{RS}=$\"+f\"{RS_sigma}\")\n",
    "plt.imshow(denoised_vol[15], cmap=\"gray\")\n",
    "plt.subplot(1, 3, 3)\n",
    "plt.title(\"difference\")\n",
    "plt.imshow(noisy_vol[15] - denoised_vol[15], cmap=\"gray\")"
   ]
  },
  {
   "cell_type": "code",
   "execution_count": null,
   "id": "7ed5db45-9d18-4eb1-b005-3f8209cb1e09",
   "metadata": {},
   "outputs": [],
   "source": [
    "RS_sigma = 1.0\n",
    "denoised_vol = RSIVD.filter(farneback, block_size, noisy_vol, RS_sigma=RS_sigma, N_iters=100)"
   ]
  },
  {
   "cell_type": "code",
   "execution_count": null,
   "id": "50515c13-18c3-482d-881d-0ddb94b71654",
   "metadata": {},
   "outputs": [],
   "source": [
    "figure(figsize=(32, 32))\n",
    "plt.subplot(1, 3, 1)\n",
    "plt.title(\"original\")\n",
    "imgplot = plt.imshow(noisy_vol[15], cmap=\"gray\")\n",
    "plt.subplot(1, 3, 2)\n",
    "plt.title(\"$\\sigma_\\mathrm{RS}=$\"+f\"{RS_sigma}\")\n",
    "plt.imshow(denoised_vol[15], cmap=\"gray\")\n",
    "plt.subplot(1, 3, 3)\n",
    "plt.title(\"difference\")\n",
    "plt.imshow(noisy_vol[15] - denoised_vol[15], cmap=\"gray\")"
   ]
  },
  {
   "cell_type": "code",
   "execution_count": null,
   "id": "f3142a6e-6072-433a-9567-ba510f86ce1e",
   "metadata": {},
   "outputs": [],
   "source": [
    "RS_sigma = 2.0\n",
    "denoised_vol = RSIVD.filter(farneback, block_size, noisy_vol, RS_sigma=RS_sigma, N_iters=30)"
   ]
  },
  {
   "cell_type": "code",
   "execution_count": null,
   "id": "223e44bb-cebb-40b3-b097-e3081dc70a4e",
   "metadata": {},
   "outputs": [],
   "source": [
    "figure(figsize=(32, 32))\n",
    "plt.subplot(1, 3, 1)\n",
    "plt.title(\"original\")\n",
    "imgplot = plt.imshow(noisy_vol[15], cmap=\"gray\")\n",
    "plt.subplot(1, 3, 2)\n",
    "plt.title(\"$\\sigma_\\mathrm{RS}=$\"+f\"{RS_sigma}\")\n",
    "plt.imshow(denoised_vol[15], cmap=\"gray\")\n",
    "plt.subplot(1, 3, 3)\n",
    "plt.title(\"difference\")\n",
    "plt.imshow(noisy_vol[15] - denoised_vol[15], cmap=\"gray\")"
   ]
  },
  {
   "cell_type": "code",
   "execution_count": null,
   "id": "3f8fb010-4a86-49cc-9757-253ca5b6fe9a",
   "metadata": {},
   "outputs": [],
   "source": [
    "RS_sigma = 3.0\n",
    "denoised_vol = RSIVD.filter(farneback, block_size, noisy_vol, RS_sigma=RS_sigma, N_iters=30)"
   ]
  },
  {
   "cell_type": "code",
   "execution_count": null,
   "id": "8a4fc490-9b49-47bf-9d54-de7c6a180fa4",
   "metadata": {},
   "outputs": [],
   "source": [
    "figure(figsize=(32, 32))\n",
    "plt.subplot(1, 3, 1)\n",
    "plt.title(\"original\")\n",
    "imgplot = plt.imshow(noisy_vol[15], cmap=\"gray\")\n",
    "plt.subplot(1, 3, 2)\n",
    "plt.title(\"$\\sigma_\\mathrm{RS}=$\"+f\"{RS_sigma}\")\n",
    "plt.imshow(denoised_vol[15], cmap=\"gray\")\n",
    "plt.subplot(1, 3, 3)\n",
    "plt.title(\"difference\")\n",
    "plt.imshow(noisy_vol[15] - denoised_vol[15], cmap=\"gray\")"
   ]
  },
  {
   "cell_type": "code",
   "execution_count": null,
   "id": "5e6f6df4-7606-45b3-bb2f-4d0c1bf601bc",
   "metadata": {},
   "outputs": [],
   "source": [
    "#skimage.io.imsave(f\"{vol_name}_denoised_{RS_sigma}.tif\", denoised_vol, imagej=True)"
   ]
  }
 ],
 "metadata": {
  "accelerator": "GPU",
  "colab": {
   "gpuType": "T4",
   "provenance": []
  },
  "kernelspec": {
   "display_name": "Python 3 (ipykernel)",
   "language": "python",
   "name": "python3"
  },
  "language_info": {
   "codemirror_mode": {
    "name": "ipython",
    "version": 3
   },
   "file_extension": ".py",
   "mimetype": "text/x-python",
   "name": "python",
   "nbconvert_exporter": "python",
   "pygments_lexer": "ipython3",
   "version": "3.13.7"
  }
 },
 "nbformat": 4,
 "nbformat_minor": 5
}
