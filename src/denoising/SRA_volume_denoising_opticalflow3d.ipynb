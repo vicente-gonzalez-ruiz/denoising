{
 "cells": [
  {
   "cell_type": "markdown",
   "id": "85f4d821",
   "metadata": {
    "colab_type": "text",
    "id": "view-in-github"
   },
   "source": [
    "<a href=\"https://colab.research.google.com/github/vicente-gonzalez-ruiz/denoising/blob/main/src/denoising/SRA_volume_denoising_opticalflow3d.ipynb\" target=\"_parent\"><img src=\"https://colab.research.google.com/assets/colab-badge.svg\" alt=\"Open In Colab\"/></a>"
   ]
  },
  {
   "cell_type": "markdown",
   "id": "24a2b9b0-569f-4f0a-a83c-7ab9c893b3a4",
   "metadata": {
    "id": "24a2b9b0-569f-4f0a-a83c-7ab9c893b3a4"
   },
   "source": [
    "# Shuffle, Register and Average (SRA) volume denoising"
   ]
  },
  {
   "cell_type": "code",
   "execution_count": 2,
   "id": "bZpthooExwPK",
   "metadata": {
    "id": "bZpthooExwPK"
   },
   "outputs": [],
   "source": [
    "try:\n",
    "    import google.colab\n",
    "    IN_COLAB = True\n",
    "except:\n",
    "    IN_COLAB = False"
   ]
  },
  {
   "cell_type": "code",
   "execution_count": 3,
   "id": "erIRw69dx8Cj",
   "metadata": {
    "colab": {
     "base_uri": "https://localhost:8080/"
    },
    "id": "erIRw69dx8Cj",
    "outputId": "de7e5f92-3993-4b83-e61d-c8d03136d991"
   },
   "outputs": [
    {
     "name": "stdout",
     "output_type": "stream",
     "text": [
      "Running in Colab\n",
      "Requirement already satisfied: cupy-cuda12x in /usr/local/lib/python3.12/dist-packages (13.3.0)\n",
      "Requirement already satisfied: numpy<2.3,>=1.22 in /usr/local/lib/python3.12/dist-packages (from cupy-cuda12x) (2.0.2)\n",
      "Requirement already satisfied: fastrlock>=0.5 in /usr/local/lib/python3.12/dist-packages (from cupy-cuda12x) (0.8.3)\n",
      "Collecting opticalflow3D\n",
      "  Downloading opticalflow3d-0.3.2-py3-none-any.whl.metadata (4.4 kB)\n",
      "Requirement already satisfied: numpy>=1.17.0 in /usr/local/lib/python3.12/dist-packages (from opticalflow3D) (2.0.2)\n",
      "Requirement already satisfied: numba>=0.47.0 in /usr/local/lib/python3.12/dist-packages (from opticalflow3D) (0.60.0)\n",
      "Requirement already satisfied: scikit-image>=0.17.1 in /usr/local/lib/python3.12/dist-packages (from opticalflow3D) (0.25.2)\n",
      "Requirement already satisfied: scipy>=1.6.3 in /usr/local/lib/python3.12/dist-packages (from opticalflow3D) (1.16.2)\n",
      "Requirement already satisfied: tqdm>=4.50.0 in /usr/local/lib/python3.12/dist-packages (from opticalflow3D) (4.67.1)\n",
      "INFO: pip is looking at multiple versions of opticalflow3d to determine which version is compatible with other requirements. This could take a while.\n",
      "  Downloading opticalflow3d-0.2.0-py3-none-any.whl.metadata (2.8 kB)\n",
      "  Downloading opticalflow3d-0.1.0-py3-none-any.whl.metadata (1.2 kB)\n",
      "\u001b[31mERROR: Cannot install opticalflow3d==0.1.0, opticalflow3d==0.2.0 and opticalflow3d==0.3.2 because these package versions have conflicting dependencies.\u001b[0m\u001b[31m\n",
      "\u001b[0m\n",
      "The conflict is caused by:\n",
      "    opticalflow3d 0.3.2 depends on cupy-cuda113>=10.0.0\n",
      "    opticalflow3d 0.2.0 depends on cupy-cuda113>=10.0.0\n",
      "    opticalflow3d 0.1.0 depends on cupy-cuda113>=10.0.0\n",
      "\n",
      "To fix this you could try to:\n",
      "1. loosen the range of package versions you've specified\n",
      "2. remove package versions to allow pip to attempt to solve the dependency conflict\n",
      "\n",
      "\u001b[31mERROR: ResolutionImpossible: for help visit https://pip.pypa.io/en/latest/topics/dependency-resolution/#dealing-with-dependency-conflicts\u001b[0m\u001b[31m\n",
      "Reading package lists... Done\n",
      "Building dependency tree... Done\n",
      "Reading state information... Done\n",
      "The following additional packages will be installed:\n",
      "  libnvidia-compute-495 libnvidia-compute-510 libnvidia-compute-535\n",
      "The following NEW packages will be installed:\n",
      "  libcudart11.0 libnvidia-compute-495 libnvidia-compute-510\n",
      "  libnvidia-compute-535\n",
      "0 upgraded, 4 newly installed, 0 to remove and 38 not upgraded.\n",
      "Need to get 37.1 MB of archives.\n",
      "After this operation, 176 MB of additional disk space will be used.\n",
      "Get:1 http://archive.ubuntu.com/ubuntu jammy/multiverse amd64 libcudart11.0 amd64 11.5.117~11.5.1-1ubuntu1 [178 kB]\n",
      "Get:2 https://developer.download.nvidia.com/compute/cuda/repos/ubuntu2204/x86_64  libnvidia-compute-535 535.274.02-0ubuntu1 [36.9 MB]\n",
      "Get:3 http://archive.ubuntu.com/ubuntu jammy-updates/restricted amd64 libnvidia-compute-510 amd64 525.147.05-0ubuntu2.22.04.1 [7,310 B]\n",
      "Get:4 http://archive.ubuntu.com/ubuntu jammy-updates/restricted amd64 libnvidia-compute-495 amd64 510.108.03-0ubuntu0.22.04.1 [7,378 B]\n",
      "Fetched 37.1 MB in 1s (42.0 MB/s)\n",
      "Selecting previously unselected package libcudart11.0:amd64.\n",
      "(Reading database ... 126675 files and directories currently installed.)\n",
      "Preparing to unpack .../libcudart11.0_11.5.117~11.5.1-1ubuntu1_amd64.deb ...\n",
      "Unpacking libcudart11.0:amd64 (11.5.117~11.5.1-1ubuntu1) ...\n",
      "Selecting previously unselected package libnvidia-compute-535:amd64.\n",
      "Preparing to unpack .../libnvidia-compute-535_535.274.02-0ubuntu1_amd64.deb ...\n",
      "Unpacking libnvidia-compute-535:amd64 (535.274.02-0ubuntu1) ...\n",
      "Selecting previously unselected package libnvidia-compute-510:amd64.\n",
      "Preparing to unpack .../libnvidia-compute-510_525.147.05-0ubuntu2.22.04.1_amd64.deb ...\n",
      "Unpacking libnvidia-compute-510:amd64 (525.147.05-0ubuntu2.22.04.1) ...\n",
      "Selecting previously unselected package libnvidia-compute-495:amd64.\n",
      "Preparing to unpack .../libnvidia-compute-495_510.108.03-0ubuntu0.22.04.1_amd64.deb ...\n",
      "Unpacking libnvidia-compute-495:amd64 (510.108.03-0ubuntu0.22.04.1) ...\n",
      "Setting up libcudart11.0:amd64 (11.5.117~11.5.1-1ubuntu1) ...\n",
      "Setting up libnvidia-compute-535:amd64 (535.274.02-0ubuntu1) ...\n",
      "Setting up libnvidia-compute-510:amd64 (525.147.05-0ubuntu2.22.04.1) ...\n",
      "Setting up libnvidia-compute-495:amd64 (510.108.03-0ubuntu0.22.04.1) ...\n",
      "Processing triggers for libc-bin (2.35-0ubuntu3.8) ...\n",
      "/sbin/ldconfig.real: /usr/local/lib/libumf.so.0 is not a symbolic link\n",
      "\n",
      "/sbin/ldconfig.real: /usr/local/lib/libtbbbind_2_0.so.3 is not a symbolic link\n",
      "\n",
      "/sbin/ldconfig.real: /usr/local/lib/libtcm_debug.so.1 is not a symbolic link\n",
      "\n",
      "/sbin/ldconfig.real: /usr/local/lib/libur_loader.so.0 is not a symbolic link\n",
      "\n",
      "/sbin/ldconfig.real: /usr/local/lib/libur_adapter_opencl.so.0 is not a symbolic link\n",
      "\n",
      "/sbin/ldconfig.real: /usr/local/lib/libur_adapter_level_zero.so.0 is not a symbolic link\n",
      "\n",
      "/sbin/ldconfig.real: /usr/local/lib/libur_adapter_level_zero_v2.so.0 is not a symbolic link\n",
      "\n",
      "/sbin/ldconfig.real: /usr/local/lib/libtbbbind_2_5.so.3 is not a symbolic link\n",
      "\n",
      "/sbin/ldconfig.real: /usr/local/lib/libhwloc.so.15 is not a symbolic link\n",
      "\n",
      "/sbin/ldconfig.real: /usr/local/lib/libtbbmalloc.so.2 is not a symbolic link\n",
      "\n",
      "/sbin/ldconfig.real: /usr/local/lib/libtbb.so.12 is not a symbolic link\n",
      "\n",
      "/sbin/ldconfig.real: /usr/local/lib/libtbbmalloc_proxy.so.2 is not a symbolic link\n",
      "\n",
      "/sbin/ldconfig.real: /usr/local/lib/libtbbbind.so.3 is not a symbolic link\n",
      "\n",
      "/sbin/ldconfig.real: /usr/local/lib/libtcm.so.1 is not a symbolic link\n",
      "\n",
      "Reading package lists... Done\n",
      "Building dependency tree... Done\n",
      "Reading state information... Done\n",
      "The following additional packages will be installed:\n",
      "  libcublaslt11\n",
      "The following NEW packages will be installed:\n",
      "  libcublas11 libcublaslt11\n",
      "0 upgraded, 2 newly installed, 0 to remove and 38 not upgraded.\n",
      "Need to get 226 MB of archives.\n",
      "After this operation, 498 MB of additional disk space will be used.\n",
      "Get:1 http://archive.ubuntu.com/ubuntu jammy/multiverse amd64 libcublaslt11 amd64 11.7.4.6~11.5.1-1ubuntu1 [148 MB]\n",
      "Get:2 http://archive.ubuntu.com/ubuntu jammy/multiverse amd64 libcublas11 amd64 11.7.4.6~11.5.1-1ubuntu1 [78.2 MB]\n",
      "Fetched 226 MB in 5s (47.3 MB/s)\n",
      "Selecting previously unselected package libcublaslt11:amd64.\n",
      "(Reading database ... 126709 files and directories currently installed.)\n",
      "Preparing to unpack .../libcublaslt11_11.7.4.6~11.5.1-1ubuntu1_amd64.deb ...\n",
      "Unpacking libcublaslt11:amd64 (11.7.4.6~11.5.1-1ubuntu1) ...\n",
      "Selecting previously unselected package libcublas11:amd64.\n",
      "Preparing to unpack .../libcublas11_11.7.4.6~11.5.1-1ubuntu1_amd64.deb ...\n",
      "Unpacking libcublas11:amd64 (11.7.4.6~11.5.1-1ubuntu1) ...\n",
      "Setting up libcublaslt11:amd64 (11.7.4.6~11.5.1-1ubuntu1) ...\n",
      "Setting up libcublas11:amd64 (11.7.4.6~11.5.1-1ubuntu1) ...\n",
      "Processing triggers for libc-bin (2.35-0ubuntu3.8) ...\n",
      "/sbin/ldconfig.real: /usr/local/lib/libumf.so.0 is not a symbolic link\n",
      "\n",
      "/sbin/ldconfig.real: /usr/local/lib/libtbbbind_2_0.so.3 is not a symbolic link\n",
      "\n",
      "/sbin/ldconfig.real: /usr/local/lib/libtcm_debug.so.1 is not a symbolic link\n",
      "\n",
      "/sbin/ldconfig.real: /usr/local/lib/libur_loader.so.0 is not a symbolic link\n",
      "\n",
      "/sbin/ldconfig.real: /usr/local/lib/libur_adapter_opencl.so.0 is not a symbolic link\n",
      "\n",
      "/sbin/ldconfig.real: /usr/local/lib/libur_adapter_level_zero.so.0 is not a symbolic link\n",
      "\n",
      "/sbin/ldconfig.real: /usr/local/lib/libur_adapter_level_zero_v2.so.0 is not a symbolic link\n",
      "\n",
      "/sbin/ldconfig.real: /usr/local/lib/libtbbbind_2_5.so.3 is not a symbolic link\n",
      "\n",
      "/sbin/ldconfig.real: /usr/local/lib/libhwloc.so.15 is not a symbolic link\n",
      "\n",
      "/sbin/ldconfig.real: /usr/local/lib/libtbbmalloc.so.2 is not a symbolic link\n",
      "\n",
      "/sbin/ldconfig.real: /usr/local/lib/libtbb.so.12 is not a symbolic link\n",
      "\n",
      "/sbin/ldconfig.real: /usr/local/lib/libtbbmalloc_proxy.so.2 is not a symbolic link\n",
      "\n",
      "/sbin/ldconfig.real: /usr/local/lib/libtbbbind.so.3 is not a symbolic link\n",
      "\n",
      "/sbin/ldconfig.real: /usr/local/lib/libtcm.so.1 is not a symbolic link\n",
      "\n",
      "Reading package lists... Done\n",
      "Building dependency tree... Done\n",
      "Reading state information... Done\n",
      "The following NEW packages will be installed:\n",
      "  libcufft10\n",
      "0 upgraded, 1 newly installed, 0 to remove and 38 not upgraded.\n",
      "Need to get 70.4 MB of archives.\n",
      "After this operation, 137 MB of additional disk space will be used.\n",
      "Get:1 http://archive.ubuntu.com/ubuntu jammy/multiverse amd64 libcufft10 amd64 11.1.1+~10.6.0.107~11.5.1-1ubuntu1 [70.4 MB]\n",
      "Fetched 70.4 MB in 2s (36.2 MB/s)\n",
      "Selecting previously unselected package libcufft10:amd64.\n",
      "(Reading database ... 126721 files and directories currently installed.)\n",
      "Preparing to unpack .../libcufft10_11.1.1+~10.6.0.107~11.5.1-1ubuntu1_amd64.deb ...\n",
      "Unpacking libcufft10:amd64 (11.1.1+~10.6.0.107~11.5.1-1ubuntu1) ...\n",
      "Setting up libcufft10:amd64 (11.1.1+~10.6.0.107~11.5.1-1ubuntu1) ...\n",
      "Processing triggers for libc-bin (2.35-0ubuntu3.8) ...\n",
      "/sbin/ldconfig.real: /usr/local/lib/libumf.so.0 is not a symbolic link\n",
      "\n",
      "/sbin/ldconfig.real: /usr/local/lib/libtbbbind_2_0.so.3 is not a symbolic link\n",
      "\n",
      "/sbin/ldconfig.real: /usr/local/lib/libtcm_debug.so.1 is not a symbolic link\n",
      "\n",
      "/sbin/ldconfig.real: /usr/local/lib/libur_loader.so.0 is not a symbolic link\n",
      "\n",
      "/sbin/ldconfig.real: /usr/local/lib/libur_adapter_opencl.so.0 is not a symbolic link\n",
      "\n",
      "/sbin/ldconfig.real: /usr/local/lib/libur_adapter_level_zero.so.0 is not a symbolic link\n",
      "\n",
      "/sbin/ldconfig.real: /usr/local/lib/libur_adapter_level_zero_v2.so.0 is not a symbolic link\n",
      "\n",
      "/sbin/ldconfig.real: /usr/local/lib/libtbbbind_2_5.so.3 is not a symbolic link\n",
      "\n",
      "/sbin/ldconfig.real: /usr/local/lib/libhwloc.so.15 is not a symbolic link\n",
      "\n",
      "/sbin/ldconfig.real: /usr/local/lib/libtbbmalloc.so.2 is not a symbolic link\n",
      "\n",
      "/sbin/ldconfig.real: /usr/local/lib/libtbb.so.12 is not a symbolic link\n",
      "\n",
      "/sbin/ldconfig.real: /usr/local/lib/libtbbmalloc_proxy.so.2 is not a symbolic link\n",
      "\n",
      "/sbin/ldconfig.real: /usr/local/lib/libtbbbind.so.3 is not a symbolic link\n",
      "\n",
      "/sbin/ldconfig.real: /usr/local/lib/libtcm.so.1 is not a symbolic link\n",
      "\n",
      "Reading package lists... Done\n",
      "Building dependency tree... Done\n",
      "Reading state information... Done\n",
      "The following NEW packages will be installed:\n",
      "  libcusparse11\n",
      "0 upgraded, 1 newly installed, 0 to remove and 38 not upgraded.\n",
      "Need to get 96.2 MB of archives.\n",
      "After this operation, 216 MB of additional disk space will be used.\n",
      "Get:1 http://archive.ubuntu.com/ubuntu jammy/multiverse amd64 libcusparse11 amd64 11.7.0.107~11.5.1-1ubuntu1 [96.2 MB]\n",
      "Fetched 96.2 MB in 5s (19.5 MB/s)\n",
      "Selecting previously unselected package libcusparse11:amd64.\n",
      "(Reading database ... 126727 files and directories currently installed.)\n",
      "Preparing to unpack .../libcusparse11_11.7.0.107~11.5.1-1ubuntu1_amd64.deb ...\n",
      "Unpacking libcusparse11:amd64 (11.7.0.107~11.5.1-1ubuntu1) ...\n",
      "Setting up libcusparse11:amd64 (11.7.0.107~11.5.1-1ubuntu1) ...\n",
      "Processing triggers for libc-bin (2.35-0ubuntu3.8) ...\n",
      "/sbin/ldconfig.real: /usr/local/lib/libumf.so.0 is not a symbolic link\n",
      "\n",
      "/sbin/ldconfig.real: /usr/local/lib/libtbbbind_2_0.so.3 is not a symbolic link\n",
      "\n",
      "/sbin/ldconfig.real: /usr/local/lib/libtcm_debug.so.1 is not a symbolic link\n",
      "\n",
      "/sbin/ldconfig.real: /usr/local/lib/libur_loader.so.0 is not a symbolic link\n",
      "\n",
      "/sbin/ldconfig.real: /usr/local/lib/libur_adapter_opencl.so.0 is not a symbolic link\n",
      "\n",
      "/sbin/ldconfig.real: /usr/local/lib/libur_adapter_level_zero.so.0 is not a symbolic link\n",
      "\n",
      "/sbin/ldconfig.real: /usr/local/lib/libur_adapter_level_zero_v2.so.0 is not a symbolic link\n",
      "\n",
      "/sbin/ldconfig.real: /usr/local/lib/libtbbbind_2_5.so.3 is not a symbolic link\n",
      "\n",
      "/sbin/ldconfig.real: /usr/local/lib/libhwloc.so.15 is not a symbolic link\n",
      "\n",
      "/sbin/ldconfig.real: /usr/local/lib/libtbbmalloc.so.2 is not a symbolic link\n",
      "\n",
      "/sbin/ldconfig.real: /usr/local/lib/libtbb.so.12 is not a symbolic link\n",
      "\n",
      "/sbin/ldconfig.real: /usr/local/lib/libtbbmalloc_proxy.so.2 is not a symbolic link\n",
      "\n",
      "/sbin/ldconfig.real: /usr/local/lib/libtbbbind.so.3 is not a symbolic link\n",
      "\n",
      "/sbin/ldconfig.real: /usr/local/lib/libtcm.so.1 is not a symbolic link\n",
      "\n",
      "Reading package lists... Done\n",
      "Building dependency tree... Done\n",
      "Reading state information... Done\n",
      "The following additional packages will be installed:\n",
      "  libnvrtc-builtins11.5\n",
      "The following NEW packages will be installed:\n",
      "  libnvrtc-builtins11.5 libnvrtc11.2\n",
      "0 upgraded, 2 newly installed, 0 to remove and 38 not upgraded.\n",
      "Need to get 15.8 MB of archives.\n",
      "After this operation, 52.3 MB of additional disk space will be used.\n",
      "Get:1 http://archive.ubuntu.com/ubuntu jammy/multiverse amd64 libnvrtc-builtins11.5 amd64 11.5.119~11.5.1-1ubuntu1 [116 kB]\n",
      "Get:2 http://archive.ubuntu.com/ubuntu jammy/multiverse amd64 libnvrtc11.2 amd64 11.5.119~11.5.1-1ubuntu1 [15.7 MB]\n",
      "Fetched 15.8 MB in 1s (13.2 MB/s)\n",
      "Selecting previously unselected package libnvrtc-builtins11.5:amd64.\n",
      "(Reading database ... 126733 files and directories currently installed.)\n",
      "Preparing to unpack .../libnvrtc-builtins11.5_11.5.119~11.5.1-1ubuntu1_amd64.deb ...\n",
      "Unpacking libnvrtc-builtins11.5:amd64 (11.5.119~11.5.1-1ubuntu1) ...\n",
      "Selecting previously unselected package libnvrtc11.2:amd64.\n",
      "Preparing to unpack .../libnvrtc11.2_11.5.119~11.5.1-1ubuntu1_amd64.deb ...\n",
      "Unpacking libnvrtc11.2:amd64 (11.5.119~11.5.1-1ubuntu1) ...\n",
      "Setting up libnvrtc-builtins11.5:amd64 (11.5.119~11.5.1-1ubuntu1) ...\n",
      "Setting up libnvrtc11.2:amd64 (11.5.119~11.5.1-1ubuntu1) ...\n",
      "Processing triggers for libc-bin (2.35-0ubuntu3.8) ...\n",
      "/sbin/ldconfig.real: /usr/local/lib/libumf.so.0 is not a symbolic link\n",
      "\n",
      "/sbin/ldconfig.real: /usr/local/lib/libtbbbind_2_0.so.3 is not a symbolic link\n",
      "\n",
      "/sbin/ldconfig.real: /usr/local/lib/libtcm_debug.so.1 is not a symbolic link\n",
      "\n",
      "/sbin/ldconfig.real: /usr/local/lib/libur_loader.so.0 is not a symbolic link\n",
      "\n",
      "/sbin/ldconfig.real: /usr/local/lib/libur_adapter_opencl.so.0 is not a symbolic link\n",
      "\n",
      "/sbin/ldconfig.real: /usr/local/lib/libur_adapter_level_zero.so.0 is not a symbolic link\n",
      "\n",
      "/sbin/ldconfig.real: /usr/local/lib/libur_adapter_level_zero_v2.so.0 is not a symbolic link\n",
      "\n",
      "/sbin/ldconfig.real: /usr/local/lib/libtbbbind_2_5.so.3 is not a symbolic link\n",
      "\n",
      "/sbin/ldconfig.real: /usr/local/lib/libhwloc.so.15 is not a symbolic link\n",
      "\n",
      "/sbin/ldconfig.real: /usr/local/lib/libtbbmalloc.so.2 is not a symbolic link\n",
      "\n",
      "/sbin/ldconfig.real: /usr/local/lib/libtbb.so.12 is not a symbolic link\n",
      "\n",
      "/sbin/ldconfig.real: /usr/local/lib/libtbbmalloc_proxy.so.2 is not a symbolic link\n",
      "\n",
      "/sbin/ldconfig.real: /usr/local/lib/libtbbbind.so.3 is not a symbolic link\n",
      "\n",
      "/sbin/ldconfig.real: /usr/local/lib/libtcm.so.1 is not a symbolic link\n",
      "\n"
     ]
    }
   ],
   "source": [
    "if IN_COLAB:\n",
    "    print(\"Running in Colab\")\n",
    "    !apt install libcudart11.0\n",
    "    !apt install libcublas11\n",
    "    !apt install libcufft10\n",
    "    !apt install libcusparse11\n",
    "    !apt install libnvrtc11.2"
   ]
  },
  {
   "cell_type": "code",
   "execution_count": 4,
   "id": "zhsQGQzqyaRB",
   "metadata": {
    "colab": {
     "base_uri": "https://localhost:8080/"
    },
    "id": "zhsQGQzqyaRB",
    "outputId": "a7a818ec-8d1b-45a1-c3e2-c872bcf8fe04"
   },
   "outputs": [
    {
     "name": "stdout",
     "output_type": "stream",
     "text": [
      "Requirement already satisfied: cupy-cuda12x in /usr/local/lib/python3.12/dist-packages (13.3.0)\n",
      "Requirement already satisfied: numpy<2.3,>=1.22 in /usr/local/lib/python3.12/dist-packages (from cupy-cuda12x) (2.0.2)\n",
      "Requirement already satisfied: fastrlock>=0.5 in /usr/local/lib/python3.12/dist-packages (from cupy-cuda12x) (0.8.3)\n",
      "Collecting opticalflow3D\n",
      "  Using cached opticalflow3d-0.3.2-py3-none-any.whl.metadata (4.4 kB)\n",
      "Requirement already satisfied: numpy>=1.17.0 in /usr/local/lib/python3.12/dist-packages (from opticalflow3D) (2.0.2)\n",
      "Requirement already satisfied: numba>=0.47.0 in /usr/local/lib/python3.12/dist-packages (from opticalflow3D) (0.60.0)\n",
      "Requirement already satisfied: scikit-image>=0.17.1 in /usr/local/lib/python3.12/dist-packages (from opticalflow3D) (0.25.2)\n",
      "Requirement already satisfied: scipy>=1.6.3 in /usr/local/lib/python3.12/dist-packages (from opticalflow3D) (1.16.2)\n",
      "Requirement already satisfied: tqdm>=4.50.0 in /usr/local/lib/python3.12/dist-packages (from opticalflow3D) (4.67.1)\n",
      "INFO: pip is looking at multiple versions of opticalflow3d to determine which version is compatible with other requirements. This could take a while.\n",
      "  Using cached opticalflow3d-0.2.0-py3-none-any.whl.metadata (2.8 kB)\n",
      "  Using cached opticalflow3d-0.1.0-py3-none-any.whl.metadata (1.2 kB)\n",
      "\u001b[31mERROR: Cannot install opticalflow3d==0.1.0, opticalflow3d==0.2.0 and opticalflow3d==0.3.2 because these package versions have conflicting dependencies.\u001b[0m\u001b[31m\n",
      "\u001b[0m\n",
      "The conflict is caused by:\n",
      "    opticalflow3d 0.3.2 depends on cupy-cuda113>=10.0.0\n",
      "    opticalflow3d 0.2.0 depends on cupy-cuda113>=10.0.0\n",
      "    opticalflow3d 0.1.0 depends on cupy-cuda113>=10.0.0\n",
      "\n",
      "To fix this you could try to:\n",
      "1. loosen the range of package versions you've specified\n",
      "2. remove package versions to allow pip to attempt to solve the dependency conflict\n",
      "\n",
      "\u001b[31mERROR: ResolutionImpossible: for help visit https://pip.pypa.io/en/latest/topics/dependency-resolution/#dealing-with-dependency-conflicts\u001b[0m\u001b[31m\n",
      "\u001b[0m"
     ]
    }
   ],
   "source": [
    "if IN_COLAB:\n",
    "    !pip install cupy-cuda12x\n",
    "    !pip install opticalflow3D"
   ]
  },
  {
   "cell_type": "code",
   "execution_count": null,
   "id": "d71f427c-d83e-4c99-8b49-13106749331c",
   "metadata": {
    "id": "d71f427c-d83e-4c99-8b49-13106749331c"
   },
   "outputs": [],
   "source": [
    "#use_opticalflow3D = False"
   ]
  },
  {
   "cell_type": "code",
   "execution_count": null,
   "id": "fe6d465f-665a-475f-a299-281dbcb664e8",
   "metadata": {
    "id": "fe6d465f-665a-475f-a299-281dbcb664e8"
   },
   "outputs": [],
   "source": [
    "#%pip install opticalflow3d"
   ]
  },
  {
   "cell_type": "code",
   "execution_count": null,
   "id": "cac4bc34-01c4-4b01-a1ea-34c918fc182b",
   "metadata": {
    "id": "cac4bc34-01c4-4b01-a1ea-34c918fc182b"
   },
   "outputs": [],
   "source": [
    "#vol_name = \"small_vol\""
   ]
  },
  {
   "cell_type": "code",
   "execution_count": null,
   "id": "7be42efa-1e36-4eb8-8d10-5d5f7e7e47d3",
   "metadata": {
    "id": "7be42efa-1e36-4eb8-8d10-5d5f7e7e47d3"
   },
   "outputs": [],
   "source": [
    "if IN_COLAB:\n",
    "    print(\"Running in Colab\")\n",
    "    !pip install cupy-cuda12x\n",
    "    !pip install opticalflow3D\n",
    "    !apt install libcudart11.0\n",
    "    !apt install libcublas11\n",
    "    !apt install libcufft10\n",
    "    !apt install libcusparse11\n",
    "    !apt install libnvrtc11.2\n",
    "    from google.colab import drive\n",
    "    drive.mount('/content/drive')\n",
    "    !cp drive/Shareddrives/TomogramDenoising/tomograms/{vol_name}.tif .\n",
    "else:\n",
    "    print(\"Running in locahost\")\n",
    "    !cp ~/Downloads/{vol_name}.tif ."
   ]
  },
  {
   "cell_type": "code",
   "execution_count": null,
   "id": "2280c659-3a75-4034-8bcc-b9c2f77c906b",
   "metadata": {
    "id": "2280c659-3a75-4034-8bcc-b9c2f77c906b"
   },
   "outputs": [],
   "source": [
    "vol_filename = \"small_vol.mrc\""
   ]
  },
  {
   "cell_type": "code",
   "execution_count": null,
   "id": "0fbfba97-3adb-4526-8aee-e41d33fad865",
   "metadata": {
    "id": "0fbfba97-3adb-4526-8aee-e41d33fad865"
   },
   "outputs": [],
   "source": [
    "from collections import namedtuple\n",
    "Args = namedtuple(\"args\", [\"input\", \"output\"])\n",
    "fn, fe = vol_filename.split(\".\")\n",
    "args = Args(vol_filename , fn + \"_denoised.\" + fe)\n",
    "print(args)"
   ]
  },
  {
   "cell_type": "code",
   "execution_count": null,
   "id": "7367c483-87c1-454f-9560-f32298ad1805",
   "metadata": {
    "id": "7367c483-87c1-454f-9560-f32298ad1805"
   },
   "outputs": [],
   "source": [
    "%pip install gdown"
   ]
  },
  {
   "cell_type": "code",
   "execution_count": null,
   "id": "9d823f25-2b3f-46e0-ad3a-ccc725384565",
   "metadata": {
    "id": "9d823f25-2b3f-46e0-ad3a-ccc725384565"
   },
   "outputs": [],
   "source": [
    "%%bash -s \"$args.input\"\n",
    "set -x\n",
    "OUTPUT_FILENAME=$1\n",
    "#rm -f $OUTPUT_FILENAME\n",
    "if test ! -f $OUTPUT_FILENAME ; then\n",
    "    FILEID=\"1YDyHWyB1d6yq2LYif2zQcQgr7vhlspYo\" # https://drive.google.com/file/d/1YDyHWyB1d6yq2LYif2zQcQgr7vhlspYo/view?usp=sharing\n",
    "    #FILEID=\"1iui018SGKa5nb0ybeoUAB7uCUhl9EJ5o\" #https://drive.google.com/file/d/1iui018SGKa5nb0ybeoUAB7uCUhl9EJ5o/view?usp=sharing\n",
    "    #wget --no-check-certificate 'https://docs.google.com/uc?export=download&id='$FILEID -O $OUTPUT_FILENAME #2> /dev/null\n",
    "    #wget --load-cookies /tmp/cookies.txt \"https://docs.google.com/uc?export=download&confirm=$(wget --quiet --save-cookies /tmp/cookies.txt --keep-session-cookies --no-check-certificate 'https://docs.google.com/uc?export=download&id=FILEID' -O- | sed -rn 's/.*confirm=([0-9A-Za-z_]+).*/\\1\\n/p')&id=FILEID\" -O FILENAME && rm -rf /tmp/cookies.txt\n",
    "    gdown https://drive.google.com/uc?id=$FILEID # pip install gdown\n",
    "fi\n",
    "ls -l $OUTPUT_FILENAME\n",
    "set +x"
   ]
  },
  {
   "cell_type": "code",
   "execution_count": null,
   "id": "4a4687ee-563b-40c6-bffc-e727fbd60067",
   "metadata": {
    "id": "4a4687ee-563b-40c6-bffc-e727fbd60067"
   },
   "outputs": [],
   "source": [
    "# %pip install matplotlib"
   ]
  },
  {
   "cell_type": "code",
   "execution_count": null,
   "id": "2a9f2718-d2d2-4d2b-bf30-bfa5388c65e2",
   "metadata": {
    "id": "2a9f2718-d2d2-4d2b-bf30-bfa5388c65e2"
   },
   "outputs": [],
   "source": [
    "%matplotlib inline\n",
    "import matplotlib.pyplot as plt\n",
    "from matplotlib.pyplot import figure"
   ]
  },
  {
   "cell_type": "code",
   "execution_count": null,
   "id": "1d876a29-7c64-4e2b-9c3c-fceb3a8fb746",
   "metadata": {
    "id": "1d876a29-7c64-4e2b-9c3c-fceb3a8fb746"
   },
   "outputs": [],
   "source": [
    "%pip install --force-reinstall \"motion_estimation @ git+https://github.com/vicente-gonzalez-ruiz/motion_estimation\""
   ]
  },
  {
   "cell_type": "code",
   "execution_count": null,
   "id": "66e47117-4871-4b1b-9112-3f045b196d52",
   "metadata": {
    "id": "66e47117-4871-4b1b-9112-3f045b196d52"
   },
   "outputs": [],
   "source": [
    "import motion_estimation # pip install --force-reinstall \"motion_estimation @ git+https://github.com/vicente-gonzalez-ruiz/motion_estimation\""
   ]
  },
  {
   "cell_type": "code",
   "execution_count": null,
   "id": "d51597f2-1e09-4fff-be38-fe5b6c9aacf8",
   "metadata": {
    "id": "d51597f2-1e09-4fff-be38-fe5b6c9aacf8"
   },
   "outputs": [],
   "source": [
    "%pip install --force-reinstall \"information_theory @ git+https://github.com/vicente-gonzalez-ruiz/information_theory\""
   ]
  },
  {
   "cell_type": "code",
   "execution_count": null,
   "id": "8ad944b6-12e5-4eeb-82b9-cf7f1ec79941",
   "metadata": {
    "id": "8ad944b6-12e5-4eeb-82b9-cf7f1ec79941"
   },
   "outputs": [],
   "source": [
    "%pip uninstall -y scipy"
   ]
  },
  {
   "cell_type": "code",
   "execution_count": null,
   "id": "e77b67c9-99f7-486f-843f-48a4ed04246a",
   "metadata": {
    "id": "e77b67c9-99f7-486f-843f-48a4ed04246a"
   },
   "outputs": [],
   "source": [
    "%pip install --force-reinstall \"information_theory @ git+https://github.com/vicente-gonzalez-ruiz/information_theory\""
   ]
  },
  {
   "cell_type": "code",
   "execution_count": null,
   "id": "03a1b4c9-8c54-4703-8c25-17a274fd3414",
   "metadata": {
    "id": "03a1b4c9-8c54-4703-8c25-17a274fd3414"
   },
   "outputs": [],
   "source": [
    "%pip install scipy"
   ]
  },
  {
   "cell_type": "code",
   "execution_count": null,
   "id": "92a65bb7-ccc4-4240-8d3b-b73ab402dc48",
   "metadata": {
    "id": "92a65bb7-ccc4-4240-8d3b-b73ab402dc48"
   },
   "outputs": [],
   "source": [
    "import information_theory  # pip install --force-reinstall \"information_theory @ git+https://github.com/vicente-gonzalez-ruiz/information_theory\""
   ]
  },
  {
   "cell_type": "code",
   "execution_count": null,
   "id": "4a3a10f8-4515-4949-b50f-1f0dfbec1e71",
   "metadata": {
    "id": "4a3a10f8-4515-4949-b50f-1f0dfbec1e71"
   },
   "outputs": [],
   "source": [
    "#import opticalflow3D\n",
    "#import warnings\n",
    "#from numba.core.errors import NumbaPerformanceWarning\n",
    "import numpy as np\n",
    "#warnings.filterwarnings(\"ignore\", category=NumbaPerformanceWarning)\n",
    "#else:\n",
    "#    import motion_estimation._3D.farneback as farneback3D"
   ]
  },
  {
   "cell_type": "code",
   "execution_count": null,
   "id": "8d75a21d-0ca0-4a2e-bb62-763738d07451",
   "metadata": {
    "id": "8d75a21d-0ca0-4a2e-bb62-763738d07451"
   },
   "outputs": [],
   "source": [
    "# %pip install mrcfile"
   ]
  },
  {
   "cell_type": "code",
   "execution_count": null,
   "id": "2b135ccc-e869-4c88-8189-ad55fbba5130",
   "metadata": {
    "id": "2b135ccc-e869-4c88-8189-ad55fbba5130"
   },
   "outputs": [],
   "source": [
    "import mrcfile\n",
    "from collections import namedtuple"
   ]
  },
  {
   "cell_type": "code",
   "execution_count": null,
   "id": "9be0587a-ac47-46b6-8e90-4016672dc105",
   "metadata": {
    "id": "9be0587a-ac47-46b6-8e90-4016672dc105"
   },
   "outputs": [],
   "source": [
    "stack_MRC = mrcfile.open(args.input)\n",
    "noisy = stack_MRC.data\n",
    "print(noisy.shape)"
   ]
  },
  {
   "cell_type": "code",
   "execution_count": null,
   "id": "d57b6e47-b0ce-4a63-ab27-192436202b28",
   "metadata": {
    "id": "d57b6e47-b0ce-4a63-ab27-192436202b28"
   },
   "outputs": [],
   "source": [
    "import volume.SRA"
   ]
  },
  {
   "cell_type": "code",
   "execution_count": null,
   "id": "f375d960-3644-4509-a442-dc18ab587b0f",
   "metadata": {
    "id": "f375d960-3644-4509-a442-dc18ab587b0f"
   },
   "outputs": [],
   "source": [
    "noisy = (255*(noisy - np.min(noisy))/(np.max(noisy) - np.min(noisy))).astype(np.uint8)"
   ]
  },
  {
   "cell_type": "code",
   "execution_count": null,
   "id": "0318d995-4815-473e-bc62-ba21f843e334",
   "metadata": {
    "id": "0318d995-4815-473e-bc62-ba21f843e334"
   },
   "outputs": [],
   "source": [
    "import logging\n",
    "logging.basicConfig(format=\"[%(filename)s:%(lineno)s %(funcName)s()] %(message)s\")\n",
    "logger = logging.getLogger(__name__)\n",
    "logger.setLevel(logging.INFO)"
   ]
  },
  {
   "cell_type": "code",
   "execution_count": null,
   "id": "093158d0-8f32-47f2-a4d6-f617e392e22e",
   "metadata": {
    "id": "093158d0-8f32-47f2-a4d6-f617e392e22e"
   },
   "outputs": [],
   "source": [
    "# !pip install opticalflow3d"
   ]
  },
  {
   "cell_type": "code",
   "execution_count": null,
   "id": "b31129fb-a321-46f0-8cdc-f53ae705c3f8",
   "metadata": {
    "id": "b31129fb-a321-46f0-8cdc-f53ae705c3f8"
   },
   "outputs": [],
   "source": [
    "import motion_estimation._3D.farneback_opticalflow3d as farneback3D\n",
    "OF_estimator = farneback3D.OF_Estimation(logger)"
   ]
  },
  {
   "cell_type": "code",
   "execution_count": null,
   "id": "fce92214-000b-40c2-bb9c-80fb45cfdda0",
   "metadata": {
    "id": "fce92214-000b-40c2-bb9c-80fb45cfdda0"
   },
   "outputs": [],
   "source": [
    "import motion_estimation._3D.project as project\n",
    "projector = project.Project(logger)"
   ]
  },
  {
   "cell_type": "code",
   "execution_count": null,
   "id": "2c0f57e5-66b4-4b2c-a157-08d485055c84",
   "metadata": {
    "id": "2c0f57e5-66b4-4b2c-a157-08d485055c84"
   },
   "outputs": [],
   "source": [
    "import volume.SRA_opticalflow3d as SRA\n",
    "denoiser = SRA.SRA(OF_estimator, projector, logger, None, False, False)"
   ]
  },
  {
   "cell_type": "code",
   "execution_count": null,
   "id": "51b98dab-528c-48d9-8765-6b0c9fa5adb5",
   "metadata": {
    "id": "51b98dab-528c-48d9-8765-6b0c9fa5adb5"
   },
   "outputs": [],
   "source": [
    "denoised = denoiser.filter(noisy_volume=noisy)"
   ]
  },
  {
   "cell_type": "code",
   "execution_count": null,
   "id": "8a1f1196-f3f8-400d-8719-a3ca59d62dac",
   "metadata": {
    "id": "8a1f1196-f3f8-400d-8719-a3ca59d62dac"
   },
   "outputs": [],
   "source": [
    "if use_opticalflow3D:\n",
    "    block_size = (noisy.shape[0], noisy.shape[1], noisy.shape[2])"
   ]
  },
  {
   "cell_type": "code",
   "execution_count": null,
   "id": "7ab782f1-6053-4d91-8ba7-3220d3332f44",
   "metadata": {
    "id": "7ab782f1-6053-4d91-8ba7-3220d3332f44"
   },
   "outputs": [],
   "source": [
    "if use_opticalflow3D:\n",
    "    #farneback = opticalflow3D.Farneback3D(iters=5, num_levels=3, scale=0.5, spatial_size=33, presmoothing=None, filter_type=\"gaussian\", filter_size=3)\n",
    "    #farneback = opticalflow3D.Farneback3D(iters=5, num_levels=3, scale=0.5, spatial_size=13, presmoothing=None, filter_type=\"gaussian\", filter_size=7)\n",
    "    #farneback = opticalflow3D.Farneback3D(iters=5, num_levels=3, scale=0.5, spatial_size=5, presmoothing=3, filter_type=\"gaussian\", filter_size=5)\n",
    "    #farneback = opticalflow3D.Farneback3D(iters=5, num_levels=3, scale=0.5, spatial_size=3, presmoothing=5, filter_type=\"box\", filter_size=3)\n",
    "    #farneback = opticalflow3D.Farneback3D(iters=5, num_levels=5, scale=0.5, spatial_size=3, presmoothing=5, filter_type=\"box\", filter_size=3)\n",
    "    #farneback = opticalflow3D.Farneback3D(iters=5, num_levels=5, scale=0.5, spatial_size=3, presmoothing=5, filter_type=\"gaussian\", filter_size=11)\n",
    "    #farneback = opticalflow3D.Farneback3D(iters=5, num_levels=1, scale=0.5, spatial_size=5, presmoothing=4, filter_type=\"box\", filter_size=5)\n",
    "    estimator = opticalflow3D.Farneback3D(iters=5, num_levels=5, scale=0.5, spatial_size=9, sigma_k=0.15, filter_type=\"gaussian\" ,filter_size=7, presmoothing=None, device_id=0)\n",
    "else:\n",
    "    estimator = farneback3D("
   ]
  },
  {
   "cell_type": "code",
   "execution_count": null,
   "id": "91aIEXpSc5ez",
   "metadata": {
    "id": "91aIEXpSc5ez"
   },
   "outputs": [],
   "source": [
    "RS_sigma = 0.75\n",
    "if use_opticalflow3D:\n",
    "    denoised = RSIVD.filter(farneback, block_size, noisy, RS_sigma=RS_sigma, N_iters=20)\n",
    "else:\n"
   ]
  },
  {
   "cell_type": "code",
   "execution_count": null,
   "id": "1478c390-7a08-49ec-ba26-d00710da1e12",
   "metadata": {
    "id": "1478c390-7a08-49ec-ba26-d00710da1e12"
   },
   "outputs": [],
   "source": [
    "np.min(denoised)"
   ]
  },
  {
   "cell_type": "code",
   "execution_count": null,
   "id": "db82a856-2708-466a-a53b-aee7cb7d32ac",
   "metadata": {
    "id": "db82a856-2708-466a-a53b-aee7cb7d32ac"
   },
   "outputs": [],
   "source": [
    "fig, axs = plt.subplots(1, 2, figsize=(16, 32))\n",
    "axs[0].imshow(noisy[16], cmap=\"gray\")\n",
    "axs[0].set_title(f\"Noisy\")\n",
    "axs[1].imshow(denoised[16], cmap=\"gray\")\n",
    "axs[1].set_title(f\"Denoised (DQI={information_theory.information.compute_quality_index(noisy[16], denoised[16])})\")\n",
    "fig.tight_layout()\n",
    "plt.show()"
   ]
  },
  {
   "cell_type": "code",
   "execution_count": null,
   "id": "829b4f5b-39a2-4c3f-a4aa-f973c46504ce",
   "metadata": {
    "id": "829b4f5b-39a2-4c3f-a4aa-f973c46504ce"
   },
   "outputs": [],
   "source": [
    "fig, axs = plt.subplots(1, 2, figsize=(16, 32))\n",
    "axs[0].imshow(noisy[:, 100], cmap=\"gray\")\n",
    "axs[0].set_title(f\"Noisy\")\n",
    "axs[1].imshow(denoised[:, 100], cmap=\"gray\")\n",
    "axs[1].set_title(f\"Denoised (DQI={information_theory.information.compute_quality_index(noisy[:, 100], denoised[:, 100])})\")\n",
    "fig.tight_layout()\n",
    "plt.show()"
   ]
  },
  {
   "cell_type": "code",
   "execution_count": null,
   "id": "4211b567-ec27-4deb-8615-a840745f4628",
   "metadata": {
    "id": "4211b567-ec27-4deb-8615-a840745f4628"
   },
   "outputs": [],
   "source": [
    "fig, axs = plt.subplots(1, 2, figsize=(16, 32))\n",
    "axs[0].imshow(noisy[:, :, 100], cmap=\"gray\")\n",
    "axs[0].set_title(f\"Noisy\")\n",
    "axs[1].imshow(denoised[:, :, 100], cmap=\"gray\")\n",
    "axs[1].set_title(f\"Denoised (DQI={information_theory.information.compute_quality_index(noisy[:, :, 100], denoised[:, :, 100])})\")\n",
    "fig.tight_layout()\n",
    "plt.show()"
   ]
  },
  {
   "cell_type": "code",
   "execution_count": null,
   "id": "079da8f2-c5b1-41a1-bd9a-5e75595f2af6",
   "metadata": {
    "id": "079da8f2-c5b1-41a1-bd9a-5e75595f2af6"
   },
   "outputs": [],
   "source": [
    "figure(figsize=(32, 32))\n",
    "plt.subplot(1, 3, 1)\n",
    "plt.title(\"original\")\n",
    "imgplot = plt.imshow(noisy_vol[15][::-1, :], cmap=\"gray\")\n",
    "plt.subplot(1, 3, 2)\n",
    "plt.title(\"$\\sigma_\\mathrm{RS}=$\"+f\"{RS_sigma}\")\n",
    "plt.imshow(denoised_vol[15][::-1, :], cmap=\"gray\")\n",
    "plt.subplot(1, 3, 3)\n",
    "plt.title(\"difference\")\n",
    "plt.imshow(noisy_vol[15][::-1, :] - denoised_vol[15][::-1, :], cmap=\"gray\")"
   ]
  },
  {
   "cell_type": "code",
   "execution_count": null,
   "id": "5d159fc4-a84c-45b8-b92e-970f6ef21b16",
   "metadata": {
    "id": "5d159fc4-a84c-45b8-b92e-970f6ef21b16"
   },
   "outputs": [],
   "source": [
    "figure(figsize=(32, 32))\n",
    "plt.subplot(1, 3, 1)\n",
    "plt.title(\"original\")\n",
    "imgplot = plt.imshow(noisy_vol[15][::-1, :], cmap=\"gray\")\n",
    "plt.subplot(1, 3, 2)\n",
    "plt.title(\"$\\sigma_\\mathrm{RS}=$\"+f\"{RS_sigma}\")\n",
    "plt.imshow(denoised_vol[15][::-1, :], cmap=\"gray\")\n",
    "plt.subplot(1, 3, 3)\n",
    "plt.title(\"difference\")\n",
    "plt.imshow(noisy_vol[15][::-1, :] - denoised_vol[15][::-1, :], cmap=\"gray\")"
   ]
  },
  {
   "cell_type": "code",
   "execution_count": null,
   "id": "9af50ac2-d2c9-49dc-b47d-31cc3195cfa1",
   "metadata": {
    "id": "9af50ac2-d2c9-49dc-b47d-31cc3195cfa1"
   },
   "outputs": [],
   "source": [
    "skimage.io.imsave(f\"{vol_name}_denoised_{RS_sigma}.tif\", denoised_vol, imagej=True)"
   ]
  },
  {
   "cell_type": "code",
   "execution_count": null,
   "id": "64b31c4b-8e86-48ae-82e1-d0a43da532a0",
   "metadata": {
    "id": "64b31c4b-8e86-48ae-82e1-d0a43da532a0"
   },
   "outputs": [],
   "source": [
    "img = skimage.io.imread(\"http://www.hpca.ual.es/~vruiz/images/barb.png\")#[:256, :256]"
   ]
  },
  {
   "cell_type": "code",
   "execution_count": null,
   "id": "faeb3ec8-744d-4698-adac-e106dd362943",
   "metadata": {
    "id": "faeb3ec8-744d-4698-adac-e106dd362943"
   },
   "outputs": [],
   "source": [
    "noisy_vol = np.stack([img]*32)"
   ]
  },
  {
   "cell_type": "code",
   "execution_count": null,
   "id": "654bd0a1-15f9-4865-9994-c398fba60cfd",
   "metadata": {
    "id": "654bd0a1-15f9-4865-9994-c398fba60cfd"
   },
   "outputs": [],
   "source": [
    "noisy_vol.shape"
   ]
  },
  {
   "cell_type": "code",
   "execution_count": null,
   "id": "95d7ee9c-6ab3-4c49-886e-f6b1cbf8a0b7",
   "metadata": {
    "id": "95d7ee9c-6ab3-4c49-886e-f6b1cbf8a0b7"
   },
   "outputs": [],
   "source": [
    "mean = 0\n",
    "var = 1000\n",
    "sigma = var**0.5\n",
    "for i in range(noisy_vol.shape[0]):\n",
    "    noise = np.random.normal(mean,sigma,img.shape).reshape(img.shape)\n",
    "    noisy_vol[i] = np.clip(a=img.astype(np.float32) + noise, a_min=0, a_max=255).astype(np.uint8)"
   ]
  },
  {
   "cell_type": "code",
   "execution_count": null,
   "id": "f5dcf783-2322-4dfa-a3dc-50d71242d6b8",
   "metadata": {
    "id": "f5dcf783-2322-4dfa-a3dc-50d71242d6b8"
   },
   "outputs": [],
   "source": [
    "farneback = opticalflow3D.Farneback3D(iters=5,\n",
    "                                      num_levels=3,\n",
    "                                      scale=0.5,\n",
    "                                      spatial_size=5,\n",
    "                                      presmoothing=2,\n",
    "                                      filter_type=\"box\",\n",
    "                                      filter_size=5,\n",
    "                                     )"
   ]
  },
  {
   "cell_type": "code",
   "execution_count": null,
   "id": "4016f92f-a994-49ba-b3a0-8bf1eb2ff1ab",
   "metadata": {
    "id": "4016f92f-a994-49ba-b3a0-8bf1eb2ff1ab"
   },
   "outputs": [],
   "source": [
    "RS_sigma = 1.0\n",
    "denoised_vol = RSIVD.filter(farneback, block_size, noisy_vol, RS_sigma=RS_sigma, N_iters=30)"
   ]
  },
  {
   "cell_type": "code",
   "execution_count": null,
   "id": "68addb39-8cef-4ae3-9bc1-a36af26f1352",
   "metadata": {
    "id": "68addb39-8cef-4ae3-9bc1-a36af26f1352"
   },
   "outputs": [],
   "source": [
    "figure(figsize=(32, 32))\n",
    "plt.subplot(1, 3, 1)\n",
    "plt.title(\"original\")\n",
    "imgplot = plt.imshow(noisy_vol[15], cmap=\"gray\")\n",
    "plt.subplot(1, 3, 2)\n",
    "plt.title(\"$\\sigma_\\mathrm{RS}=$\"+f\"{RS_sigma}\")\n",
    "plt.imshow(denoised_vol[15], cmap=\"gray\")\n",
    "plt.subplot(1, 3, 3)\n",
    "plt.title(\"difference\")\n",
    "plt.imshow(noisy_vol[15] - denoised_vol[15], cmap=\"gray\")"
   ]
  },
  {
   "cell_type": "code",
   "execution_count": null,
   "id": "7ed5db45-9d18-4eb1-b005-3f8209cb1e09",
   "metadata": {
    "id": "7ed5db45-9d18-4eb1-b005-3f8209cb1e09"
   },
   "outputs": [],
   "source": [
    "RS_sigma = 1.0\n",
    "denoised_vol = RSIVD.filter(farneback, block_size, noisy_vol, RS_sigma=RS_sigma, N_iters=100)"
   ]
  },
  {
   "cell_type": "code",
   "execution_count": null,
   "id": "50515c13-18c3-482d-881d-0ddb94b71654",
   "metadata": {
    "id": "50515c13-18c3-482d-881d-0ddb94b71654"
   },
   "outputs": [],
   "source": [
    "figure(figsize=(32, 32))\n",
    "plt.subplot(1, 3, 1)\n",
    "plt.title(\"original\")\n",
    "imgplot = plt.imshow(noisy_vol[15], cmap=\"gray\")\n",
    "plt.subplot(1, 3, 2)\n",
    "plt.title(\"$\\sigma_\\mathrm{RS}=$\"+f\"{RS_sigma}\")\n",
    "plt.imshow(denoised_vol[15], cmap=\"gray\")\n",
    "plt.subplot(1, 3, 3)\n",
    "plt.title(\"difference\")\n",
    "plt.imshow(noisy_vol[15] - denoised_vol[15], cmap=\"gray\")"
   ]
  },
  {
   "cell_type": "code",
   "execution_count": null,
   "id": "f3142a6e-6072-433a-9567-ba510f86ce1e",
   "metadata": {
    "id": "f3142a6e-6072-433a-9567-ba510f86ce1e"
   },
   "outputs": [],
   "source": [
    "RS_sigma = 2.0\n",
    "denoised_vol = RSIVD.filter(farneback, block_size, noisy_vol, RS_sigma=RS_sigma, N_iters=30)"
   ]
  },
  {
   "cell_type": "code",
   "execution_count": null,
   "id": "223e44bb-cebb-40b3-b097-e3081dc70a4e",
   "metadata": {
    "id": "223e44bb-cebb-40b3-b097-e3081dc70a4e"
   },
   "outputs": [],
   "source": [
    "figure(figsize=(32, 32))\n",
    "plt.subplot(1, 3, 1)\n",
    "plt.title(\"original\")\n",
    "imgplot = plt.imshow(noisy_vol[15], cmap=\"gray\")\n",
    "plt.subplot(1, 3, 2)\n",
    "plt.title(\"$\\sigma_\\mathrm{RS}=$\"+f\"{RS_sigma}\")\n",
    "plt.imshow(denoised_vol[15], cmap=\"gray\")\n",
    "plt.subplot(1, 3, 3)\n",
    "plt.title(\"difference\")\n",
    "plt.imshow(noisy_vol[15] - denoised_vol[15], cmap=\"gray\")"
   ]
  },
  {
   "cell_type": "code",
   "execution_count": null,
   "id": "3f8fb010-4a86-49cc-9757-253ca5b6fe9a",
   "metadata": {
    "id": "3f8fb010-4a86-49cc-9757-253ca5b6fe9a"
   },
   "outputs": [],
   "source": [
    "RS_sigma = 3.0\n",
    "denoised_vol = RSIVD.filter(farneback, block_size, noisy_vol, RS_sigma=RS_sigma, N_iters=30)"
   ]
  },
  {
   "cell_type": "code",
   "execution_count": null,
   "id": "8a4fc490-9b49-47bf-9d54-de7c6a180fa4",
   "metadata": {
    "id": "8a4fc490-9b49-47bf-9d54-de7c6a180fa4"
   },
   "outputs": [],
   "source": [
    "figure(figsize=(32, 32))\n",
    "plt.subplot(1, 3, 1)\n",
    "plt.title(\"original\")\n",
    "imgplot = plt.imshow(noisy_vol[15], cmap=\"gray\")\n",
    "plt.subplot(1, 3, 2)\n",
    "plt.title(\"$\\sigma_\\mathrm{RS}=$\"+f\"{RS_sigma}\")\n",
    "plt.imshow(denoised_vol[15], cmap=\"gray\")\n",
    "plt.subplot(1, 3, 3)\n",
    "plt.title(\"difference\")\n",
    "plt.imshow(noisy_vol[15] - denoised_vol[15], cmap=\"gray\")"
   ]
  },
  {
   "cell_type": "code",
   "execution_count": null,
   "id": "5e6f6df4-7606-45b3-bb2f-4d0c1bf601bc",
   "metadata": {
    "id": "5e6f6df4-7606-45b3-bb2f-4d0c1bf601bc"
   },
   "outputs": [],
   "source": [
    "#skimage.io.imsave(f\"{vol_name}_denoised_{RS_sigma}.tif\", denoised_vol, imagej=True)"
   ]
  }
 ],
 "metadata": {
  "accelerator": "GPU",
  "colab": {
   "gpuType": "T4",
   "include_colab_link": true,
   "provenance": []
  },
  "kernelspec": {
   "display_name": "Python 3 (ipykernel)",
   "language": "python",
   "name": "python3"
  },
  "language_info": {
   "codemirror_mode": {
    "name": "ipython",
    "version": 3
   },
   "file_extension": ".py",
   "mimetype": "text/x-python",
   "name": "python",
   "nbconvert_exporter": "python",
   "pygments_lexer": "ipython3",
   "version": "3.13.5"
  }
 },
 "nbformat": 4,
 "nbformat_minor": 5
}
