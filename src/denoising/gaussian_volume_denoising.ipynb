{
 "cells": [
  {
   "cell_type": "markdown",
   "metadata": {
    "id": "QqfKxC0KuCzK"
   },
   "source": [
    "# Gaussian volume denoising"
   ]
  },
  {
   "cell_type": "code",
   "execution_count": null,
   "metadata": {},
   "outputs": [],
   "source": [
    "use_OpenCV = True"
   ]
  },
  {
   "cell_type": "code",
   "execution_count": null,
   "metadata": {
    "id": "IIUxh4uStrQJ"
   },
   "outputs": [],
   "source": [
    "import logging\n",
    "import numpy as np\n",
    "import scipy.ndimage\n",
    "import matplotlib.pyplot as plt\n",
    "from matplotlib.pyplot import figure\n",
    "#from ipywidgets import *\n",
    "import cv2 # pip install opencv-python\n",
    "import time\n",
    "#import kernels\n",
    "import skimage # pip install scikit-image\n",
    "#from skimage import io as skimage_io\n",
    "import mrcfile"
   ]
  },
  {
   "cell_type": "code",
   "execution_count": null,
   "metadata": {},
   "outputs": [],
   "source": [
    "import logging\n",
    "logging.basicConfig(format=\"[%(filename)s:%(lineno)s %(funcName)s()] %(message)s\")\n",
    "logger = logging.getLogger(__name__)\n",
    "logger.setLevel(logging.INFO)"
   ]
  },
  {
   "cell_type": "code",
   "execution_count": null,
   "metadata": {},
   "outputs": [],
   "source": [
    "import information_theory  # pip install \"information_theory @ git+https://github.com/vicente-gonzalez-ruiz/information_theory\""
   ]
  },
  {
   "cell_type": "code",
   "execution_count": null,
   "metadata": {},
   "outputs": [],
   "source": [
    "if use_OpenCV:\n",
    "    from volume.gaussian import Monochrome_Denoising as gaussian_denoising"
   ]
  },
  {
   "cell_type": "code",
   "execution_count": null,
   "metadata": {},
   "outputs": [],
   "source": [
    "vol_filename = \"small_vol.mrc\""
   ]
  },
  {
   "cell_type": "code",
   "execution_count": null,
   "metadata": {},
   "outputs": [],
   "source": [
    "from collections import namedtuple\n",
    "Args = namedtuple(\"args\", [\"input\", \"output\"])\n",
    "fn, fe = vol_filename.split(\".\")\n",
    "args = Args(vol_filename , fn + \"_denoised.\" + fe)\n",
    "print(args)"
   ]
  },
  {
   "cell_type": "code",
   "execution_count": null,
   "metadata": {},
   "outputs": [],
   "source": [
    "!pip install gdown"
   ]
  },
  {
   "cell_type": "code",
   "execution_count": null,
   "metadata": {},
   "outputs": [],
   "source": [
    "%%bash -s \"$args.input\"\n",
    "set -x\n",
    "OUTPUT_FILENAME=$1\n",
    "#rm -f $OUTPUT_FILENAME\n",
    "if test ! -f $OUTPUT_FILENAME ; then\n",
    "    FILEID=\"1YDyHWyB1d6yq2LYif2zQcQgr7vhlspYo\" # https://drive.google.com/file/d/1YDyHWyB1d6yq2LYif2zQcQgr7vhlspYo/view?usp=sharing\n",
    "    #FILEID=\"1iui018SGKa5nb0ybeoUAB7uCUhl9EJ5o\" #https://drive.google.com/file/d/1iui018SGKa5nb0ybeoUAB7uCUhl9EJ5o/view?usp=sharing\n",
    "    #wget --no-check-certificate 'https://docs.google.com/uc?export=download&id='$FILEID -O $OUTPUT_FILENAME #2> /dev/null\n",
    "    #wget --load-cookies /tmp/cookies.txt \"https://docs.google.com/uc?export=download&confirm=$(wget --quiet --save-cookies /tmp/cookies.txt --keep-session-cookies --no-check-certificate 'https://docs.google.com/uc?export=download&id=FILEID' -O- | sed -rn 's/.*confirm=([0-9A-Za-z_]+).*/\\1\\n/p')&id=FILEID\" -O FILENAME && rm -rf /tmp/cookies.txt\n",
    "    gdown https://drive.google.com/uc?id=$FILEID # pip install gdown\n",
    "fi\n",
    "ls -l $OUTPUT_FILENAME\n",
    "set +x"
   ]
  },
  {
   "cell_type": "code",
   "execution_count": null,
   "metadata": {},
   "outputs": [],
   "source": [
    "#noisy = skimage.io.imread(\"small_vol.tif\", plugin=\"tifffile\").astype(np.float32)\n",
    "stack_MRC = mrcfile.open(args.input)\n",
    "noisy = stack_MRC.data"
   ]
  },
  {
   "cell_type": "code",
   "execution_count": null,
   "metadata": {},
   "outputs": [],
   "source": [
    "Z_dim = noisy.shape[0]\n",
    "Z2 = Z_dim//2"
   ]
  },
  {
   "cell_type": "code",
   "execution_count": null,
   "metadata": {},
   "outputs": [],
   "source": [
    "plt.imshow(noisy[Z2], cmap=\"gray\")"
   ]
  },
  {
   "cell_type": "code",
   "execution_count": null,
   "metadata": {
    "editable": true,
    "slideshow": {
     "slide_type": ""
    },
    "tags": []
   },
   "outputs": [],
   "source": [
    "def get_gaussian_kernel(sigma=1):\n",
    "    number_of_coeffs = 3\n",
    "    number_of_zeros = 0\n",
    "    while number_of_zeros < 2 :\n",
    "        delta = np.zeros(number_of_coeffs)\n",
    "        delta[delta.size//2] = 1\n",
    "        coeffs = scipy.ndimage.gaussian_filter1d(delta, sigma=sigma)\n",
    "        number_of_zeros = coeffs.size - np.count_nonzero(coeffs)\n",
    "        number_of_coeffs += 1\n",
    "    return coeffs[1:-1]\n",
    "\n",
    "sigma = np.array([1.5, 1.5, 1.5])\n",
    "kernel = [None]*3\n",
    "kernel[0] = get_gaussian_kernel(sigma[0])\n",
    "kernel[1] = get_gaussian_kernel(sigma[1])\n",
    "kernel[2] = get_gaussian_kernel(sigma[2])"
   ]
  },
  {
   "cell_type": "code",
   "execution_count": null,
   "metadata": {},
   "outputs": [],
   "source": [
    "denoiser = gaussian_denoising(logger)\n",
    "denoised = denoiser.filter(noisy, kernel)"
   ]
  },
  {
   "cell_type": "code",
   "execution_count": null,
   "metadata": {},
   "outputs": [],
   "source": [
    "fig, axs = plt.subplots(1, 2, figsize=(16, 32))\n",
    "slice_idx = noisy.shape[0]//2\n",
    "axs[0].imshow(noisy[slice_idx], cmap=\"gray\")\n",
    "axs[0].set_title(f\"Noisy\")\n",
    "axs[1].imshow(denoised[slice_idx], cmap=\"gray\")\n",
    "axs[1].set_title(f\"Denoised (DQI={information_theory.information.compute_quality_index(noisy[slice_idx], denoised[slice_idx])})\")\n",
    "fig.tight_layout()\n",
    "plt.show()"
   ]
  },
  {
   "cell_type": "code",
   "execution_count": null,
   "metadata": {},
   "outputs": [],
   "source": [
    "fig, axs = plt.subplots(1, 2, figsize=(16, 32))\n",
    "slice_idx = noisy.shape[1]//2\n",
    "axs[0].imshow(noisy[:, slice_idx], cmap=\"gray\")\n",
    "axs[0].set_title(f\"Noisy\")\n",
    "axs[1].imshow(denoised[:, slice_idx], cmap=\"gray\")\n",
    "axs[1].set_title(f\"Denoised (DQI={information_theory.information.compute_quality_index(noisy[:, slice_idx], denoised[:, slice_idx])})\")\n",
    "fig.tight_layout()\n",
    "plt.show()"
   ]
  },
  {
   "cell_type": "code",
   "execution_count": null,
   "metadata": {},
   "outputs": [],
   "source": [
    "fig, axs = plt.subplots(1, 2, figsize=(16, 32))\n",
    "slice_idx = noisy.shape[2]//2\n",
    "axs[0].imshow(noisy[:, :, slice_idx], cmap=\"gray\")\n",
    "axs[0].set_title(f\"Noisy\")\n",
    "axs[1].imshow(denoised[:, :, slice_idx], cmap=\"gray\")\n",
    "axs[1].set_title(f\"Denoised (DQI={information_theory.information.compute_quality_index(noisy[:, :, slice_idx], denoised[:, :, slice_idx])})\")\n",
    "fig.tight_layout()\n",
    "plt.show()"
   ]
  },
  {
   "cell_type": "code",
   "execution_count": null,
   "metadata": {},
   "outputs": [],
   "source": [
    "figure(figsize=(32, 32))\n",
    "plt.subplot(1, 3, 1)\n",
    "plt.title(\"original\")\n",
    "slice_idx = noisy.shape[0]//2\n",
    "imgplot = plt.imshow(noisy[slice_idx][::-1, :], cmap=\"gray\")\n",
    "plt.subplot(1, 3, 2)\n",
    "plt.title(\"OF_gaussian\")\n",
    "plt.imshow(denoised[slice_idx][::-1, :], cmap=\"gray\")\n",
    "plt.subplot(1, 3, 3)\n",
    "plt.title(\"difference\")\n",
    "plt.imshow(noisy[slice_idx][::-1, :] - denoised[slice_idx][::-1, :], cmap=\"gray\")"
   ]
  },
  {
   "cell_type": "code",
   "execution_count": null,
   "metadata": {},
   "outputs": [],
   "source": [
    "with mrcfile.new(f\"{fn}_G_denoised.mrc\", overwrite=True) as mrc:\n",
    "    mrc.set_data(denoised.astype(np.float32))\n",
    "    mrc.data"
   ]
  }
 ],
 "metadata": {
  "colab": {
   "collapsed_sections": [],
   "name": "gaussian_denoising.ipynb",
   "provenance": []
  },
  "kernelspec": {
   "display_name": "Python 3 (ipykernel)",
   "language": "python",
   "name": "python3"
  },
  "language_info": {
   "codemirror_mode": {
    "name": "ipython",
    "version": 3
   },
   "file_extension": ".py",
   "mimetype": "text/x-python",
   "name": "python",
   "nbconvert_exporter": "python",
   "pygments_lexer": "ipython3",
   "version": "3.10.10"
  }
 },
 "nbformat": 4,
 "nbformat_minor": 4
}
